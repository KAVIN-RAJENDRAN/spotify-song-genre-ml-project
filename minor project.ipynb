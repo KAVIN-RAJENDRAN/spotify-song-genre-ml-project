<!DOCTYPE html>
<!-- saved from url=(0048)http://localhost:8888/notebooks/Untitled13.ipynb -->
<html lang="en-US" style="--jp-side-by-side-output-size: 1fr;"><head><meta http-equiv="Content-Type" content="text/html; charset=UTF-8"><style>.ͼ1.cm-focused {outline: 1px dotted #212121;}
.ͼ1 {position: relative !important; box-sizing: border-box; display: flex !important; flex-direction: column;}
.ͼ1 .cm-scroller {display: flex !important; align-items: flex-start !important; font-family: monospace; line-height: 1.4; height: 100%; overflow-x: auto; position: relative; z-index: 0;}
.ͼ1 .cm-content[contenteditable=true] {-webkit-user-modify: read-write-plaintext-only;}
.ͼ1 .cm-content {margin: 0; flex-grow: 2; flex-shrink: 0; display: block; white-space: pre; word-wrap: normal; box-sizing: border-box; padding: 4px 0; outline: none;}
.ͼ1 .cm-lineWrapping {white-space: pre-wrap; white-space: break-spaces; word-break: break-word; overflow-wrap: anywhere; flex-shrink: 1;}
.ͼ2 .cm-content {caret-color: black;}
.ͼ3 .cm-content {caret-color: white;}
.ͼ1 .cm-line {display: block; padding: 0 2px 0 6px;}
.ͼ1 .cm-layer > * {position: absolute;}
.ͼ1 .cm-layer {position: absolute; left: 0; top: 0; contain: size style;}
.ͼ2 .cm-selectionBackground {background: #d9d9d9;}
.ͼ3 .cm-selectionBackground {background: #222;}
.ͼ2.cm-focused > .cm-scroller > .cm-selectionLayer .cm-selectionBackground {background: #d7d4f0;}
.ͼ3.cm-focused > .cm-scroller > .cm-selectionLayer .cm-selectionBackground {background: #233;}
.ͼ1 .cm-cursorLayer {pointer-events: none;}
.ͼ1.cm-focused > .cm-scroller > .cm-cursorLayer {animation: steps(1) cm-blink 1.2s infinite;}
@keyframes cm-blink {50% {opacity: 0;}}
@keyframes cm-blink2 {50% {opacity: 0;}}
.ͼ1 .cm-cursor, .ͼ1 .cm-dropCursor {border-left: 1.2px solid black; margin-left: -0.6px; pointer-events: none;}
.ͼ1 .cm-cursor {display: none;}
.ͼ3 .cm-cursor {border-left-color: #444;}
.ͼ1 .cm-dropCursor {position: absolute;}
.ͼ1.cm-focused > .cm-scroller > .cm-cursorLayer .cm-cursor {display: block;}
.ͼ2 .cm-activeLine {background-color: #cceeff44;}
.ͼ3 .cm-activeLine {background-color: #99eeff33;}
.ͼ2 .cm-specialChar {color: red;}
.ͼ3 .cm-specialChar {color: #f78;}
.ͼ1 .cm-gutters {flex-shrink: 0; display: flex; height: 100%; box-sizing: border-box; left: 0; z-index: 200;}
.ͼ2 .cm-gutters {background-color: #f5f5f5; color: #6c6c6c; border-right: 1px solid #ddd;}
.ͼ3 .cm-gutters {background-color: #333338; color: #ccc;}
.ͼ1 .cm-gutter {display: flex !important; flex-direction: column; flex-shrink: 0; box-sizing: border-box; min-height: 100%; overflow: hidden;}
.ͼ1 .cm-gutterElement {box-sizing: border-box;}
.ͼ1 .cm-lineNumbers .cm-gutterElement {padding: 0 3px 0 5px; min-width: 20px; text-align: right; white-space: nowrap;}
.ͼ2 .cm-activeLineGutter {background-color: #e2f2ff;}
.ͼ3 .cm-activeLineGutter {background-color: #222227;}
.ͼ1 .cm-panels {box-sizing: border-box; position: sticky; left: 0; right: 0;}
.ͼ2 .cm-panels {background-color: #f5f5f5; color: black;}
.ͼ2 .cm-panels-top {border-bottom: 1px solid #ddd;}
.ͼ2 .cm-panels-bottom {border-top: 1px solid #ddd;}
.ͼ3 .cm-panels {background-color: #333338; color: white;}
.ͼ1 .cm-tab {display: inline-block; overflow: hidden; vertical-align: bottom;}
.ͼ1 .cm-widgetBuffer {vertical-align: text-top; height: 1em; width: 0; display: inline;}
.ͼ1 .cm-placeholder {color: #888; display: inline-block; vertical-align: top;}
.ͼ1 .cm-highlightSpace:before {content: attr(data-display); position: absolute; pointer-events: none; color: #888;}
.ͼ1 .cm-highlightTab {background-image: url('data:image/svg+xml,<svg xmlns="http://www.w3.org/2000/svg" width="200" height="20"><path stroke="%23888" stroke-width="1" fill="none" d="M1 10H196L190 5M190 15L196 10M197 4L197 16"/></svg>'); background-size: auto 100%; background-position: right 90%; background-repeat: no-repeat;}
.ͼ1 .cm-trailingSpace {background-color: #ff332255;}
.ͼ1 .cm-button {vertical-align: middle; color: inherit; font-size: 70%; padding: .2em 1em; border-radius: 1px;}
.ͼ2 .cm-button:active {background-image: linear-gradient(#b4b4b4, #d0d3d6);}
.ͼ2 .cm-button {background-image: linear-gradient(#eff1f5, #d9d9df); border: 1px solid #888;}
.ͼ3 .cm-button:active {background-image: linear-gradient(#111, #333);}
.ͼ3 .cm-button {background-image: linear-gradient(#393939, #111); border: 1px solid #888;}
.ͼ1 .cm-textfield {vertical-align: middle; color: inherit; font-size: 70%; border: 1px solid silver; padding: .2em .5em;}
.ͼ2 .cm-textfield {background-color: white;}
.ͼ3 .cm-textfield {border: 1px solid #555; background-color: inherit;}
.ͼ1.cm-focused .cm-matchingBracket {background-color: #328c8252;}
.ͼ1.cm-focused .cm-nonmatchingBracket {background-color: #bb555544;}
.ͼp {color: var(--jp-mirror-editor-meta-color);}
.ͼq {color: var(--jp-mirror-editor-header-color);}
.ͼr {color: var(--jp-mirror-editor-header-color); font-weight: bold;}
.ͼs {color: var(--jp-mirror-editor-keyword-color); font-weight: bold;}
.ͼt {color: var(--jp-mirror-editor-atom-color);}
.ͼu {color: var(--jp-mirror-editor-number-color);}
.ͼv {color: var(--jp-mirror-editor-def-color);}
.ͼw {color: var(--jp-mirror-editor-builtin-color);}
.ͼx {color: var(--jp-mirror-editor-variable-2-color);}
.ͼy {color: var(--jp-mirror-editor-punctuation-color);}
.ͼz {color: var(--jp-mirror-editor-property-color);}
.ͼ10 {color: var(--jp-mirror-editor-operator-color); font-weight: bold;}
.ͼ11 {color: var(--jp-mirror-editor-comment-color); font-style: italic;}
.ͼ12 {color: var(--jp-mirror-editor-string-color);}
.ͼ13 {color: var(--jp-mirror-editor-string-2-color);}
.ͼ14 {color: var(--jp-mirror-editor-bracket-color);}
.ͼ15 {color: var(--jp-mirror-editor-tag-color);}
.ͼ16 {color: var(--jp-mirror-editor-attribute-color);}
.ͼ17 {color: var(--jp-mirror-editor-quote-color);}
.ͼ18 {color: var(--jp-mirror-editor-link-color); text-decoration: underline;}
.ͼ19 {color: ;}
.ͼ1a {font-weight: bold;}
.ͼ1b {font-style: italic;}
.ͼ1c {text-decoration: line-through;}
.ͼ1d {color: var(--jp-mirror-editor-keyword-color); font-weight: bold;}
.ͼo {background: var(--jp-layout-color0); color: var(--jp-content-font-color1);}
.jp-CodeConsole .ͼo, .jp-Notebook .ͼo {background: transparent;}
.ͼo .cm-content {caret-color: var(--jp-editor-cursor-color);}
.ͼo .cm-scroller {font-family: inherit;}
.ͼo .cm-cursor, .ͼo .cm-dropCursor {border-left: var(--jp-code-cursor-width0) solid var(--jp-editor-cursor-color);}
.ͼo .cm-selectionBackground, .ͼo .cm-content ::selection {background-color: var(--jp-editor-selected-background);}
.ͼo.cm-focused > .cm-scroller > .cm-selectionLayer .cm-selectionBackground {background-color: var(--jp-editor-selected-focused-background);}
.ͼo .cm-gutters {border-right: 1px solid var(--jp-border-color2); background-color: var(--jp-layout-color2);}
.ͼo .cm-gutter {background-color: var(--jp-layout-color2);}
.ͼo .cm-activeLine {background-color: color-mix(in srgb, var(--jp-layout-color3) 25%, transparent);}
.ͼo .cm-lineNumbers {color: var(--jp-ui-font-color2);}
.ͼo .cm-searchMatch {background-color: var(--jp-search-unselected-match-background-color); color: var(--jp-search-unselected-match-color);}
.ͼo .cm-searchMatch.cm-searchMatch-selected {background-color: var(--jp-search-selected-match-background-color) !important; color: var(--jp-search-selected-match-color) !important;}
.ͼo .cm-tooltip {background-color: var(--jp-layout-color1);}
.ͼ4 .cm-line ::selection {background-color: transparent !important;}
.ͼ4 .cm-line::selection {background-color: transparent !important;}
.ͼ4 .cm-line {caret-color: transparent !important;}
</style>
  
  <meta name="viewport" content="width=device-width, initial-scale=1">
  <title>Untitled13</title>
  
  <link rel="icon" type="image/x-icon" href="http://localhost:8888/static/favicons/favicon-busy-1.ico" class="favicon">
  

  
  <link rel="stylesheet" type="text/css" href="./minor project_files/custom.css">
  
<style>/*!
 * Font Awesome Free 5.15.4 by @fontawesome - https://fontawesome.com
 * License - https://fontawesome.com/license/free (Icons: CC BY 4.0, Fonts: SIL OFL 1.1, Code: MIT License)
 */
.fa,.fab,.fad,.fal,.far,.fas{-moz-osx-font-smoothing:grayscale;-webkit-font-smoothing:antialiased;display:inline-block;font-style:normal;font-variant:normal;text-rendering:auto;line-height:1}.fa-lg{font-size:1.33333em;line-height:.75em;vertical-align:-.0667em}.fa-xs{font-size:.75em}.fa-sm{font-size:.875em}.fa-1x{font-size:1em}.fa-2x{font-size:2em}.fa-3x{font-size:3em}.fa-4x{font-size:4em}.fa-5x{font-size:5em}.fa-6x{font-size:6em}.fa-7x{font-size:7em}.fa-8x{font-size:8em}.fa-9x{font-size:9em}.fa-10x{font-size:10em}.fa-fw{text-align:center;width:1.25em}.fa-ul{list-style-type:none;margin-left:2.5em;padding-left:0}.fa-ul>li{position:relative}.fa-li{left:-2em;position:absolute;text-align:center;width:2em;line-height:inherit}.fa-border{border:.08em solid #eee;border-radius:.1em;padding:.2em .25em .15em}.fa-pull-left{float:left}.fa-pull-right{float:right}.fa.fa-pull-left,.fab.fa-pull-left,.fal.fa-pull-left,.far.fa-pull-left,.fas.fa-pull-left{margin-right:.3em}.fa.fa-pull-right,.fab.fa-pull-right,.fal.fa-pull-right,.far.fa-pull-right,.fas.fa-pull-right{margin-left:.3em}.fa-spin{-webkit-animation:fa-spin 2s linear infinite;animation:fa-spin 2s linear infinite}.fa-pulse{-webkit-animation:fa-spin 1s steps(8) infinite;animation:fa-spin 1s steps(8) infinite}@-webkit-keyframes fa-spin{0%{-webkit-transform:rotate(0deg);transform:rotate(0deg)}to{-webkit-transform:rotate(1turn);transform:rotate(1turn)}}@keyframes fa-spin{0%{-webkit-transform:rotate(0deg);transform:rotate(0deg)}to{-webkit-transform:rotate(1turn);transform:rotate(1turn)}}.fa-rotate-90{-ms-filter:"progid:DXImageTransform.Microsoft.BasicImage(rotation=1)";-webkit-transform:rotate(90deg);transform:rotate(90deg)}.fa-rotate-180{-ms-filter:"progid:DXImageTransform.Microsoft.BasicImage(rotation=2)";-webkit-transform:rotate(180deg);transform:rotate(180deg)}.fa-rotate-270{-ms-filter:"progid:DXImageTransform.Microsoft.BasicImage(rotation=3)";-webkit-transform:rotate(270deg);transform:rotate(270deg)}.fa-flip-horizontal{-ms-filter:"progid:DXImageTransform.Microsoft.BasicImage(rotation=0, mirror=1)";-webkit-transform:scaleX(-1);transform:scaleX(-1)}.fa-flip-vertical{-webkit-transform:scaleY(-1);transform:scaleY(-1)}.fa-flip-both,.fa-flip-horizontal.fa-flip-vertical,.fa-flip-vertical{-ms-filter:"progid:DXImageTransform.Microsoft.BasicImage(rotation=2, mirror=1)"}.fa-flip-both,.fa-flip-horizontal.fa-flip-vertical{-webkit-transform:scale(-1);transform:scale(-1)}:root .fa-flip-both,:root .fa-flip-horizontal,:root .fa-flip-vertical,:root .fa-rotate-90,:root .fa-rotate-180,:root .fa-rotate-270{-webkit-filter:none;filter:none}.fa-stack{display:inline-block;height:2em;line-height:2em;position:relative;vertical-align:middle;width:2.5em}.fa-stack-1x,.fa-stack-2x{left:0;position:absolute;text-align:center;width:100%}.fa-stack-1x{line-height:inherit}.fa-stack-2x{font-size:2em}.fa-inverse{color:#fff}.fa-500px:before{content:"\f26e"}.fa-accessible-icon:before{content:"\f368"}.fa-accusoft:before{content:"\f369"}.fa-acquisitions-incorporated:before{content:"\f6af"}.fa-ad:before{content:"\f641"}.fa-address-book:before{content:"\f2b9"}.fa-address-card:before{content:"\f2bb"}.fa-adjust:before{content:"\f042"}.fa-adn:before{content:"\f170"}.fa-adversal:before{content:"\f36a"}.fa-affiliatetheme:before{content:"\f36b"}.fa-air-freshener:before{content:"\f5d0"}.fa-airbnb:before{content:"\f834"}.fa-algolia:before{content:"\f36c"}.fa-align-center:before{content:"\f037"}.fa-align-justify:before{content:"\f039"}.fa-align-left:before{content:"\f036"}.fa-align-right:before{content:"\f038"}.fa-alipay:before{content:"\f642"}.fa-allergies:before{content:"\f461"}.fa-amazon:before{content:"\f270"}.fa-amazon-pay:before{content:"\f42c"}.fa-ambulance:before{content:"\f0f9"}.fa-american-sign-language-interpreting:before{content:"\f2a3"}.fa-amilia:before{content:"\f36d"}.fa-anchor:before{content:"\f13d"}.fa-android:before{content:"\f17b"}.fa-angellist:before{content:"\f209"}.fa-angle-double-down:before{content:"\f103"}.fa-angle-double-left:before{content:"\f100"}.fa-angle-double-right:before{content:"\f101"}.fa-angle-double-up:before{content:"\f102"}.fa-angle-down:before{content:"\f107"}.fa-angle-left:before{content:"\f104"}.fa-angle-right:before{content:"\f105"}.fa-angle-up:before{content:"\f106"}.fa-angry:before{content:"\f556"}.fa-angrycreative:before{content:"\f36e"}.fa-angular:before{content:"\f420"}.fa-ankh:before{content:"\f644"}.fa-app-store:before{content:"\f36f"}.fa-app-store-ios:before{content:"\f370"}.fa-apper:before{content:"\f371"}.fa-apple:before{content:"\f179"}.fa-apple-alt:before{content:"\f5d1"}.fa-apple-pay:before{content:"\f415"}.fa-archive:before{content:"\f187"}.fa-archway:before{content:"\f557"}.fa-arrow-alt-circle-down:before{content:"\f358"}.fa-arrow-alt-circle-left:before{content:"\f359"}.fa-arrow-alt-circle-right:before{content:"\f35a"}.fa-arrow-alt-circle-up:before{content:"\f35b"}.fa-arrow-circle-down:before{content:"\f0ab"}.fa-arrow-circle-left:before{content:"\f0a8"}.fa-arrow-circle-right:before{content:"\f0a9"}.fa-arrow-circle-up:before{content:"\f0aa"}.fa-arrow-down:before{content:"\f063"}.fa-arrow-left:before{content:"\f060"}.fa-arrow-right:before{content:"\f061"}.fa-arrow-up:before{content:"\f062"}.fa-arrows-alt:before{content:"\f0b2"}.fa-arrows-alt-h:before{content:"\f337"}.fa-arrows-alt-v:before{content:"\f338"}.fa-artstation:before{content:"\f77a"}.fa-assistive-listening-systems:before{content:"\f2a2"}.fa-asterisk:before{content:"\f069"}.fa-asymmetrik:before{content:"\f372"}.fa-at:before{content:"\f1fa"}.fa-atlas:before{content:"\f558"}.fa-atlassian:before{content:"\f77b"}.fa-atom:before{content:"\f5d2"}.fa-audible:before{content:"\f373"}.fa-audio-description:before{content:"\f29e"}.fa-autoprefixer:before{content:"\f41c"}.fa-avianex:before{content:"\f374"}.fa-aviato:before{content:"\f421"}.fa-award:before{content:"\f559"}.fa-aws:before{content:"\f375"}.fa-baby:before{content:"\f77c"}.fa-baby-carriage:before{content:"\f77d"}.fa-backspace:before{content:"\f55a"}.fa-backward:before{content:"\f04a"}.fa-bacon:before{content:"\f7e5"}.fa-bacteria:before{content:"\e059"}.fa-bacterium:before{content:"\e05a"}.fa-bahai:before{content:"\f666"}.fa-balance-scale:before{content:"\f24e"}.fa-balance-scale-left:before{content:"\f515"}.fa-balance-scale-right:before{content:"\f516"}.fa-ban:before{content:"\f05e"}.fa-band-aid:before{content:"\f462"}.fa-bandcamp:before{content:"\f2d5"}.fa-barcode:before{content:"\f02a"}.fa-bars:before{content:"\f0c9"}.fa-baseball-ball:before{content:"\f433"}.fa-basketball-ball:before{content:"\f434"}.fa-bath:before{content:"\f2cd"}.fa-battery-empty:before{content:"\f244"}.fa-battery-full:before{content:"\f240"}.fa-battery-half:before{content:"\f242"}.fa-battery-quarter:before{content:"\f243"}.fa-battery-three-quarters:before{content:"\f241"}.fa-battle-net:before{content:"\f835"}.fa-bed:before{content:"\f236"}.fa-beer:before{content:"\f0fc"}.fa-behance:before{content:"\f1b4"}.fa-behance-square:before{content:"\f1b5"}.fa-bell:before{content:"\f0f3"}.fa-bell-slash:before{content:"\f1f6"}.fa-bezier-curve:before{content:"\f55b"}.fa-bible:before{content:"\f647"}.fa-bicycle:before{content:"\f206"}.fa-biking:before{content:"\f84a"}.fa-bimobject:before{content:"\f378"}.fa-binoculars:before{content:"\f1e5"}.fa-biohazard:before{content:"\f780"}.fa-birthday-cake:before{content:"\f1fd"}.fa-bitbucket:before{content:"\f171"}.fa-bitcoin:before{content:"\f379"}.fa-bity:before{content:"\f37a"}.fa-black-tie:before{content:"\f27e"}.fa-blackberry:before{content:"\f37b"}.fa-blender:before{content:"\f517"}.fa-blender-phone:before{content:"\f6b6"}.fa-blind:before{content:"\f29d"}.fa-blog:before{content:"\f781"}.fa-blogger:before{content:"\f37c"}.fa-blogger-b:before{content:"\f37d"}.fa-bluetooth:before{content:"\f293"}.fa-bluetooth-b:before{content:"\f294"}.fa-bold:before{content:"\f032"}.fa-bolt:before{content:"\f0e7"}.fa-bomb:before{content:"\f1e2"}.fa-bone:before{content:"\f5d7"}.fa-bong:before{content:"\f55c"}.fa-book:before{content:"\f02d"}.fa-book-dead:before{content:"\f6b7"}.fa-book-medical:before{content:"\f7e6"}.fa-book-open:before{content:"\f518"}.fa-book-reader:before{content:"\f5da"}.fa-bookmark:before{content:"\f02e"}.fa-bootstrap:before{content:"\f836"}.fa-border-all:before{content:"\f84c"}.fa-border-none:before{content:"\f850"}.fa-border-style:before{content:"\f853"}.fa-bowling-ball:before{content:"\f436"}.fa-box:before{content:"\f466"}.fa-box-open:before{content:"\f49e"}.fa-box-tissue:before{content:"\e05b"}.fa-boxes:before{content:"\f468"}.fa-braille:before{content:"\f2a1"}.fa-brain:before{content:"\f5dc"}.fa-bread-slice:before{content:"\f7ec"}.fa-briefcase:before{content:"\f0b1"}.fa-briefcase-medical:before{content:"\f469"}.fa-broadcast-tower:before{content:"\f519"}.fa-broom:before{content:"\f51a"}.fa-brush:before{content:"\f55d"}.fa-btc:before{content:"\f15a"}.fa-buffer:before{content:"\f837"}.fa-bug:before{content:"\f188"}.fa-building:before{content:"\f1ad"}.fa-bullhorn:before{content:"\f0a1"}.fa-bullseye:before{content:"\f140"}.fa-burn:before{content:"\f46a"}.fa-buromobelexperte:before{content:"\f37f"}.fa-bus:before{content:"\f207"}.fa-bus-alt:before{content:"\f55e"}.fa-business-time:before{content:"\f64a"}.fa-buy-n-large:before{content:"\f8a6"}.fa-buysellads:before{content:"\f20d"}.fa-calculator:before{content:"\f1ec"}.fa-calendar:before{content:"\f133"}.fa-calendar-alt:before{content:"\f073"}.fa-calendar-check:before{content:"\f274"}.fa-calendar-day:before{content:"\f783"}.fa-calendar-minus:before{content:"\f272"}.fa-calendar-plus:before{content:"\f271"}.fa-calendar-times:before{content:"\f273"}.fa-calendar-week:before{content:"\f784"}.fa-camera:before{content:"\f030"}.fa-camera-retro:before{content:"\f083"}.fa-campground:before{content:"\f6bb"}.fa-canadian-maple-leaf:before{content:"\f785"}.fa-candy-cane:before{content:"\f786"}.fa-cannabis:before{content:"\f55f"}.fa-capsules:before{content:"\f46b"}.fa-car:before{content:"\f1b9"}.fa-car-alt:before{content:"\f5de"}.fa-car-battery:before{content:"\f5df"}.fa-car-crash:before{content:"\f5e1"}.fa-car-side:before{content:"\f5e4"}.fa-caravan:before{content:"\f8ff"}.fa-caret-down:before{content:"\f0d7"}.fa-caret-left:before{content:"\f0d9"}.fa-caret-right:before{content:"\f0da"}.fa-caret-square-down:before{content:"\f150"}.fa-caret-square-left:before{content:"\f191"}.fa-caret-square-right:before{content:"\f152"}.fa-caret-square-up:before{content:"\f151"}.fa-caret-up:before{content:"\f0d8"}.fa-carrot:before{content:"\f787"}.fa-cart-arrow-down:before{content:"\f218"}.fa-cart-plus:before{content:"\f217"}.fa-cash-register:before{content:"\f788"}.fa-cat:before{content:"\f6be"}.fa-cc-amazon-pay:before{content:"\f42d"}.fa-cc-amex:before{content:"\f1f3"}.fa-cc-apple-pay:before{content:"\f416"}.fa-cc-diners-club:before{content:"\f24c"}.fa-cc-discover:before{content:"\f1f2"}.fa-cc-jcb:before{content:"\f24b"}.fa-cc-mastercard:before{content:"\f1f1"}.fa-cc-paypal:before{content:"\f1f4"}.fa-cc-stripe:before{content:"\f1f5"}.fa-cc-visa:before{content:"\f1f0"}.fa-centercode:before{content:"\f380"}.fa-centos:before{content:"\f789"}.fa-certificate:before{content:"\f0a3"}.fa-chair:before{content:"\f6c0"}.fa-chalkboard:before{content:"\f51b"}.fa-chalkboard-teacher:before{content:"\f51c"}.fa-charging-station:before{content:"\f5e7"}.fa-chart-area:before{content:"\f1fe"}.fa-chart-bar:before{content:"\f080"}.fa-chart-line:before{content:"\f201"}.fa-chart-pie:before{content:"\f200"}.fa-check:before{content:"\f00c"}.fa-check-circle:before{content:"\f058"}.fa-check-double:before{content:"\f560"}.fa-check-square:before{content:"\f14a"}.fa-cheese:before{content:"\f7ef"}.fa-chess:before{content:"\f439"}.fa-chess-bishop:before{content:"\f43a"}.fa-chess-board:before{content:"\f43c"}.fa-chess-king:before{content:"\f43f"}.fa-chess-knight:before{content:"\f441"}.fa-chess-pawn:before{content:"\f443"}.fa-chess-queen:before{content:"\f445"}.fa-chess-rook:before{content:"\f447"}.fa-chevron-circle-down:before{content:"\f13a"}.fa-chevron-circle-left:before{content:"\f137"}.fa-chevron-circle-right:before{content:"\f138"}.fa-chevron-circle-up:before{content:"\f139"}.fa-chevron-down:before{content:"\f078"}.fa-chevron-left:before{content:"\f053"}.fa-chevron-right:before{content:"\f054"}.fa-chevron-up:before{content:"\f077"}.fa-child:before{content:"\f1ae"}.fa-chrome:before{content:"\f268"}.fa-chromecast:before{content:"\f838"}.fa-church:before{content:"\f51d"}.fa-circle:before{content:"\f111"}.fa-circle-notch:before{content:"\f1ce"}.fa-city:before{content:"\f64f"}.fa-clinic-medical:before{content:"\f7f2"}.fa-clipboard:before{content:"\f328"}.fa-clipboard-check:before{content:"\f46c"}.fa-clipboard-list:before{content:"\f46d"}.fa-clock:before{content:"\f017"}.fa-clone:before{content:"\f24d"}.fa-closed-captioning:before{content:"\f20a"}.fa-cloud:before{content:"\f0c2"}.fa-cloud-download-alt:before{content:"\f381"}.fa-cloud-meatball:before{content:"\f73b"}.fa-cloud-moon:before{content:"\f6c3"}.fa-cloud-moon-rain:before{content:"\f73c"}.fa-cloud-rain:before{content:"\f73d"}.fa-cloud-showers-heavy:before{content:"\f740"}.fa-cloud-sun:before{content:"\f6c4"}.fa-cloud-sun-rain:before{content:"\f743"}.fa-cloud-upload-alt:before{content:"\f382"}.fa-cloudflare:before{content:"\e07d"}.fa-cloudscale:before{content:"\f383"}.fa-cloudsmith:before{content:"\f384"}.fa-cloudversify:before{content:"\f385"}.fa-cocktail:before{content:"\f561"}.fa-code:before{content:"\f121"}.fa-code-branch:before{content:"\f126"}.fa-codepen:before{content:"\f1cb"}.fa-codiepie:before{content:"\f284"}.fa-coffee:before{content:"\f0f4"}.fa-cog:before{content:"\f013"}.fa-cogs:before{content:"\f085"}.fa-coins:before{content:"\f51e"}.fa-columns:before{content:"\f0db"}.fa-comment:before{content:"\f075"}.fa-comment-alt:before{content:"\f27a"}.fa-comment-dollar:before{content:"\f651"}.fa-comment-dots:before{content:"\f4ad"}.fa-comment-medical:before{content:"\f7f5"}.fa-comment-slash:before{content:"\f4b3"}.fa-comments:before{content:"\f086"}.fa-comments-dollar:before{content:"\f653"}.fa-compact-disc:before{content:"\f51f"}.fa-compass:before{content:"\f14e"}.fa-compress:before{content:"\f066"}.fa-compress-alt:before{content:"\f422"}.fa-compress-arrows-alt:before{content:"\f78c"}.fa-concierge-bell:before{content:"\f562"}.fa-confluence:before{content:"\f78d"}.fa-connectdevelop:before{content:"\f20e"}.fa-contao:before{content:"\f26d"}.fa-cookie:before{content:"\f563"}.fa-cookie-bite:before{content:"\f564"}.fa-copy:before{content:"\f0c5"}.fa-copyright:before{content:"\f1f9"}.fa-cotton-bureau:before{content:"\f89e"}.fa-couch:before{content:"\f4b8"}.fa-cpanel:before{content:"\f388"}.fa-creative-commons:before{content:"\f25e"}.fa-creative-commons-by:before{content:"\f4e7"}.fa-creative-commons-nc:before{content:"\f4e8"}.fa-creative-commons-nc-eu:before{content:"\f4e9"}.fa-creative-commons-nc-jp:before{content:"\f4ea"}.fa-creative-commons-nd:before{content:"\f4eb"}.fa-creative-commons-pd:before{content:"\f4ec"}.fa-creative-commons-pd-alt:before{content:"\f4ed"}.fa-creative-commons-remix:before{content:"\f4ee"}.fa-creative-commons-sa:before{content:"\f4ef"}.fa-creative-commons-sampling:before{content:"\f4f0"}.fa-creative-commons-sampling-plus:before{content:"\f4f1"}.fa-creative-commons-share:before{content:"\f4f2"}.fa-creative-commons-zero:before{content:"\f4f3"}.fa-credit-card:before{content:"\f09d"}.fa-critical-role:before{content:"\f6c9"}.fa-crop:before{content:"\f125"}.fa-crop-alt:before{content:"\f565"}.fa-cross:before{content:"\f654"}.fa-crosshairs:before{content:"\f05b"}.fa-crow:before{content:"\f520"}.fa-crown:before{content:"\f521"}.fa-crutch:before{content:"\f7f7"}.fa-css3:before{content:"\f13c"}.fa-css3-alt:before{content:"\f38b"}.fa-cube:before{content:"\f1b2"}.fa-cubes:before{content:"\f1b3"}.fa-cut:before{content:"\f0c4"}.fa-cuttlefish:before{content:"\f38c"}.fa-d-and-d:before{content:"\f38d"}.fa-d-and-d-beyond:before{content:"\f6ca"}.fa-dailymotion:before{content:"\e052"}.fa-dashcube:before{content:"\f210"}.fa-database:before{content:"\f1c0"}.fa-deaf:before{content:"\f2a4"}.fa-deezer:before{content:"\e077"}.fa-delicious:before{content:"\f1a5"}.fa-democrat:before{content:"\f747"}.fa-deploydog:before{content:"\f38e"}.fa-deskpro:before{content:"\f38f"}.fa-desktop:before{content:"\f108"}.fa-dev:before{content:"\f6cc"}.fa-deviantart:before{content:"\f1bd"}.fa-dharmachakra:before{content:"\f655"}.fa-dhl:before{content:"\f790"}.fa-diagnoses:before{content:"\f470"}.fa-diaspora:before{content:"\f791"}.fa-dice:before{content:"\f522"}.fa-dice-d20:before{content:"\f6cf"}.fa-dice-d6:before{content:"\f6d1"}.fa-dice-five:before{content:"\f523"}.fa-dice-four:before{content:"\f524"}.fa-dice-one:before{content:"\f525"}.fa-dice-six:before{content:"\f526"}.fa-dice-three:before{content:"\f527"}.fa-dice-two:before{content:"\f528"}.fa-digg:before{content:"\f1a6"}.fa-digital-ocean:before{content:"\f391"}.fa-digital-tachograph:before{content:"\f566"}.fa-directions:before{content:"\f5eb"}.fa-discord:before{content:"\f392"}.fa-discourse:before{content:"\f393"}.fa-disease:before{content:"\f7fa"}.fa-divide:before{content:"\f529"}.fa-dizzy:before{content:"\f567"}.fa-dna:before{content:"\f471"}.fa-dochub:before{content:"\f394"}.fa-docker:before{content:"\f395"}.fa-dog:before{content:"\f6d3"}.fa-dollar-sign:before{content:"\f155"}.fa-dolly:before{content:"\f472"}.fa-dolly-flatbed:before{content:"\f474"}.fa-donate:before{content:"\f4b9"}.fa-door-closed:before{content:"\f52a"}.fa-door-open:before{content:"\f52b"}.fa-dot-circle:before{content:"\f192"}.fa-dove:before{content:"\f4ba"}.fa-download:before{content:"\f019"}.fa-draft2digital:before{content:"\f396"}.fa-drafting-compass:before{content:"\f568"}.fa-dragon:before{content:"\f6d5"}.fa-draw-polygon:before{content:"\f5ee"}.fa-dribbble:before{content:"\f17d"}.fa-dribbble-square:before{content:"\f397"}.fa-dropbox:before{content:"\f16b"}.fa-drum:before{content:"\f569"}.fa-drum-steelpan:before{content:"\f56a"}.fa-drumstick-bite:before{content:"\f6d7"}.fa-drupal:before{content:"\f1a9"}.fa-dumbbell:before{content:"\f44b"}.fa-dumpster:before{content:"\f793"}.fa-dumpster-fire:before{content:"\f794"}.fa-dungeon:before{content:"\f6d9"}.fa-dyalog:before{content:"\f399"}.fa-earlybirds:before{content:"\f39a"}.fa-ebay:before{content:"\f4f4"}.fa-edge:before{content:"\f282"}.fa-edge-legacy:before{content:"\e078"}.fa-edit:before{content:"\f044"}.fa-egg:before{content:"\f7fb"}.fa-eject:before{content:"\f052"}.fa-elementor:before{content:"\f430"}.fa-ellipsis-h:before{content:"\f141"}.fa-ellipsis-v:before{content:"\f142"}.fa-ello:before{content:"\f5f1"}.fa-ember:before{content:"\f423"}.fa-empire:before{content:"\f1d1"}.fa-envelope:before{content:"\f0e0"}.fa-envelope-open:before{content:"\f2b6"}.fa-envelope-open-text:before{content:"\f658"}.fa-envelope-square:before{content:"\f199"}.fa-envira:before{content:"\f299"}.fa-equals:before{content:"\f52c"}.fa-eraser:before{content:"\f12d"}.fa-erlang:before{content:"\f39d"}.fa-ethereum:before{content:"\f42e"}.fa-ethernet:before{content:"\f796"}.fa-etsy:before{content:"\f2d7"}.fa-euro-sign:before{content:"\f153"}.fa-evernote:before{content:"\f839"}.fa-exchange-alt:before{content:"\f362"}.fa-exclamation:before{content:"\f12a"}.fa-exclamation-circle:before{content:"\f06a"}.fa-exclamation-triangle:before{content:"\f071"}.fa-expand:before{content:"\f065"}.fa-expand-alt:before{content:"\f424"}.fa-expand-arrows-alt:before{content:"\f31e"}.fa-expeditedssl:before{content:"\f23e"}.fa-external-link-alt:before{content:"\f35d"}.fa-external-link-square-alt:before{content:"\f360"}.fa-eye:before{content:"\f06e"}.fa-eye-dropper:before{content:"\f1fb"}.fa-eye-slash:before{content:"\f070"}.fa-facebook:before{content:"\f09a"}.fa-facebook-f:before{content:"\f39e"}.fa-facebook-messenger:before{content:"\f39f"}.fa-facebook-square:before{content:"\f082"}.fa-fan:before{content:"\f863"}.fa-fantasy-flight-games:before{content:"\f6dc"}.fa-fast-backward:before{content:"\f049"}.fa-fast-forward:before{content:"\f050"}.fa-faucet:before{content:"\e005"}.fa-fax:before{content:"\f1ac"}.fa-feather:before{content:"\f52d"}.fa-feather-alt:before{content:"\f56b"}.fa-fedex:before{content:"\f797"}.fa-fedora:before{content:"\f798"}.fa-female:before{content:"\f182"}.fa-fighter-jet:before{content:"\f0fb"}.fa-figma:before{content:"\f799"}.fa-file:before{content:"\f15b"}.fa-file-alt:before{content:"\f15c"}.fa-file-archive:before{content:"\f1c6"}.fa-file-audio:before{content:"\f1c7"}.fa-file-code:before{content:"\f1c9"}.fa-file-contract:before{content:"\f56c"}.fa-file-csv:before{content:"\f6dd"}.fa-file-download:before{content:"\f56d"}.fa-file-excel:before{content:"\f1c3"}.fa-file-export:before{content:"\f56e"}.fa-file-image:before{content:"\f1c5"}.fa-file-import:before{content:"\f56f"}.fa-file-invoice:before{content:"\f570"}.fa-file-invoice-dollar:before{content:"\f571"}.fa-file-medical:before{content:"\f477"}.fa-file-medical-alt:before{content:"\f478"}.fa-file-pdf:before{content:"\f1c1"}.fa-file-powerpoint:before{content:"\f1c4"}.fa-file-prescription:before{content:"\f572"}.fa-file-signature:before{content:"\f573"}.fa-file-upload:before{content:"\f574"}.fa-file-video:before{content:"\f1c8"}.fa-file-word:before{content:"\f1c2"}.fa-fill:before{content:"\f575"}.fa-fill-drip:before{content:"\f576"}.fa-film:before{content:"\f008"}.fa-filter:before{content:"\f0b0"}.fa-fingerprint:before{content:"\f577"}.fa-fire:before{content:"\f06d"}.fa-fire-alt:before{content:"\f7e4"}.fa-fire-extinguisher:before{content:"\f134"}.fa-firefox:before{content:"\f269"}.fa-firefox-browser:before{content:"\e007"}.fa-first-aid:before{content:"\f479"}.fa-first-order:before{content:"\f2b0"}.fa-first-order-alt:before{content:"\f50a"}.fa-firstdraft:before{content:"\f3a1"}.fa-fish:before{content:"\f578"}.fa-fist-raised:before{content:"\f6de"}.fa-flag:before{content:"\f024"}.fa-flag-checkered:before{content:"\f11e"}.fa-flag-usa:before{content:"\f74d"}.fa-flask:before{content:"\f0c3"}.fa-flickr:before{content:"\f16e"}.fa-flipboard:before{content:"\f44d"}.fa-flushed:before{content:"\f579"}.fa-fly:before{content:"\f417"}.fa-folder:before{content:"\f07b"}.fa-folder-minus:before{content:"\f65d"}.fa-folder-open:before{content:"\f07c"}.fa-folder-plus:before{content:"\f65e"}.fa-font:before{content:"\f031"}.fa-font-awesome:before{content:"\f2b4"}.fa-font-awesome-alt:before{content:"\f35c"}.fa-font-awesome-flag:before{content:"\f425"}.fa-font-awesome-logo-full:before{content:"\f4e6"}.fa-fonticons:before{content:"\f280"}.fa-fonticons-fi:before{content:"\f3a2"}.fa-football-ball:before{content:"\f44e"}.fa-fort-awesome:before{content:"\f286"}.fa-fort-awesome-alt:before{content:"\f3a3"}.fa-forumbee:before{content:"\f211"}.fa-forward:before{content:"\f04e"}.fa-foursquare:before{content:"\f180"}.fa-free-code-camp:before{content:"\f2c5"}.fa-freebsd:before{content:"\f3a4"}.fa-frog:before{content:"\f52e"}.fa-frown:before{content:"\f119"}.fa-frown-open:before{content:"\f57a"}.fa-fulcrum:before{content:"\f50b"}.fa-funnel-dollar:before{content:"\f662"}.fa-futbol:before{content:"\f1e3"}.fa-galactic-republic:before{content:"\f50c"}.fa-galactic-senate:before{content:"\f50d"}.fa-gamepad:before{content:"\f11b"}.fa-gas-pump:before{content:"\f52f"}.fa-gavel:before{content:"\f0e3"}.fa-gem:before{content:"\f3a5"}.fa-genderless:before{content:"\f22d"}.fa-get-pocket:before{content:"\f265"}.fa-gg:before{content:"\f260"}.fa-gg-circle:before{content:"\f261"}.fa-ghost:before{content:"\f6e2"}.fa-gift:before{content:"\f06b"}.fa-gifts:before{content:"\f79c"}.fa-git:before{content:"\f1d3"}.fa-git-alt:before{content:"\f841"}.fa-git-square:before{content:"\f1d2"}.fa-github:before{content:"\f09b"}.fa-github-alt:before{content:"\f113"}.fa-github-square:before{content:"\f092"}.fa-gitkraken:before{content:"\f3a6"}.fa-gitlab:before{content:"\f296"}.fa-gitter:before{content:"\f426"}.fa-glass-cheers:before{content:"\f79f"}.fa-glass-martini:before{content:"\f000"}.fa-glass-martini-alt:before{content:"\f57b"}.fa-glass-whiskey:before{content:"\f7a0"}.fa-glasses:before{content:"\f530"}.fa-glide:before{content:"\f2a5"}.fa-glide-g:before{content:"\f2a6"}.fa-globe:before{content:"\f0ac"}.fa-globe-africa:before{content:"\f57c"}.fa-globe-americas:before{content:"\f57d"}.fa-globe-asia:before{content:"\f57e"}.fa-globe-europe:before{content:"\f7a2"}.fa-gofore:before{content:"\f3a7"}.fa-golf-ball:before{content:"\f450"}.fa-goodreads:before{content:"\f3a8"}.fa-goodreads-g:before{content:"\f3a9"}.fa-google:before{content:"\f1a0"}.fa-google-drive:before{content:"\f3aa"}.fa-google-pay:before{content:"\e079"}.fa-google-play:before{content:"\f3ab"}.fa-google-plus:before{content:"\f2b3"}.fa-google-plus-g:before{content:"\f0d5"}.fa-google-plus-square:before{content:"\f0d4"}.fa-google-wallet:before{content:"\f1ee"}.fa-gopuram:before{content:"\f664"}.fa-graduation-cap:before{content:"\f19d"}.fa-gratipay:before{content:"\f184"}.fa-grav:before{content:"\f2d6"}.fa-greater-than:before{content:"\f531"}.fa-greater-than-equal:before{content:"\f532"}.fa-grimace:before{content:"\f57f"}.fa-grin:before{content:"\f580"}.fa-grin-alt:before{content:"\f581"}.fa-grin-beam:before{content:"\f582"}.fa-grin-beam-sweat:before{content:"\f583"}.fa-grin-hearts:before{content:"\f584"}.fa-grin-squint:before{content:"\f585"}.fa-grin-squint-tears:before{content:"\f586"}.fa-grin-stars:before{content:"\f587"}.fa-grin-tears:before{content:"\f588"}.fa-grin-tongue:before{content:"\f589"}.fa-grin-tongue-squint:before{content:"\f58a"}.fa-grin-tongue-wink:before{content:"\f58b"}.fa-grin-wink:before{content:"\f58c"}.fa-grip-horizontal:before{content:"\f58d"}.fa-grip-lines:before{content:"\f7a4"}.fa-grip-lines-vertical:before{content:"\f7a5"}.fa-grip-vertical:before{content:"\f58e"}.fa-gripfire:before{content:"\f3ac"}.fa-grunt:before{content:"\f3ad"}.fa-guilded:before{content:"\e07e"}.fa-guitar:before{content:"\f7a6"}.fa-gulp:before{content:"\f3ae"}.fa-h-square:before{content:"\f0fd"}.fa-hacker-news:before{content:"\f1d4"}.fa-hacker-news-square:before{content:"\f3af"}.fa-hackerrank:before{content:"\f5f7"}.fa-hamburger:before{content:"\f805"}.fa-hammer:before{content:"\f6e3"}.fa-hamsa:before{content:"\f665"}.fa-hand-holding:before{content:"\f4bd"}.fa-hand-holding-heart:before{content:"\f4be"}.fa-hand-holding-medical:before{content:"\e05c"}.fa-hand-holding-usd:before{content:"\f4c0"}.fa-hand-holding-water:before{content:"\f4c1"}.fa-hand-lizard:before{content:"\f258"}.fa-hand-middle-finger:before{content:"\f806"}.fa-hand-paper:before{content:"\f256"}.fa-hand-peace:before{content:"\f25b"}.fa-hand-point-down:before{content:"\f0a7"}.fa-hand-point-left:before{content:"\f0a5"}.fa-hand-point-right:before{content:"\f0a4"}.fa-hand-point-up:before{content:"\f0a6"}.fa-hand-pointer:before{content:"\f25a"}.fa-hand-rock:before{content:"\f255"}.fa-hand-scissors:before{content:"\f257"}.fa-hand-sparkles:before{content:"\e05d"}.fa-hand-spock:before{content:"\f259"}.fa-hands:before{content:"\f4c2"}.fa-hands-helping:before{content:"\f4c4"}.fa-hands-wash:before{content:"\e05e"}.fa-handshake:before{content:"\f2b5"}.fa-handshake-alt-slash:before{content:"\e05f"}.fa-handshake-slash:before{content:"\e060"}.fa-hanukiah:before{content:"\f6e6"}.fa-hard-hat:before{content:"\f807"}.fa-hashtag:before{content:"\f292"}.fa-hat-cowboy:before{content:"\f8c0"}.fa-hat-cowboy-side:before{content:"\f8c1"}.fa-hat-wizard:before{content:"\f6e8"}.fa-hdd:before{content:"\f0a0"}.fa-head-side-cough:before{content:"\e061"}.fa-head-side-cough-slash:before{content:"\e062"}.fa-head-side-mask:before{content:"\e063"}.fa-head-side-virus:before{content:"\e064"}.fa-heading:before{content:"\f1dc"}.fa-headphones:before{content:"\f025"}.fa-headphones-alt:before{content:"\f58f"}.fa-headset:before{content:"\f590"}.fa-heart:before{content:"\f004"}.fa-heart-broken:before{content:"\f7a9"}.fa-heartbeat:before{content:"\f21e"}.fa-helicopter:before{content:"\f533"}.fa-highlighter:before{content:"\f591"}.fa-hiking:before{content:"\f6ec"}.fa-hippo:before{content:"\f6ed"}.fa-hips:before{content:"\f452"}.fa-hire-a-helper:before{content:"\f3b0"}.fa-history:before{content:"\f1da"}.fa-hive:before{content:"\e07f"}.fa-hockey-puck:before{content:"\f453"}.fa-holly-berry:before{content:"\f7aa"}.fa-home:before{content:"\f015"}.fa-hooli:before{content:"\f427"}.fa-hornbill:before{content:"\f592"}.fa-horse:before{content:"\f6f0"}.fa-horse-head:before{content:"\f7ab"}.fa-hospital:before{content:"\f0f8"}.fa-hospital-alt:before{content:"\f47d"}.fa-hospital-symbol:before{content:"\f47e"}.fa-hospital-user:before{content:"\f80d"}.fa-hot-tub:before{content:"\f593"}.fa-hotdog:before{content:"\f80f"}.fa-hotel:before{content:"\f594"}.fa-hotjar:before{content:"\f3b1"}.fa-hourglass:before{content:"\f254"}.fa-hourglass-end:before{content:"\f253"}.fa-hourglass-half:before{content:"\f252"}.fa-hourglass-start:before{content:"\f251"}.fa-house-damage:before{content:"\f6f1"}.fa-house-user:before{content:"\e065"}.fa-houzz:before{content:"\f27c"}.fa-hryvnia:before{content:"\f6f2"}.fa-html5:before{content:"\f13b"}.fa-hubspot:before{content:"\f3b2"}.fa-i-cursor:before{content:"\f246"}.fa-ice-cream:before{content:"\f810"}.fa-icicles:before{content:"\f7ad"}.fa-icons:before{content:"\f86d"}.fa-id-badge:before{content:"\f2c1"}.fa-id-card:before{content:"\f2c2"}.fa-id-card-alt:before{content:"\f47f"}.fa-ideal:before{content:"\e013"}.fa-igloo:before{content:"\f7ae"}.fa-image:before{content:"\f03e"}.fa-images:before{content:"\f302"}.fa-imdb:before{content:"\f2d8"}.fa-inbox:before{content:"\f01c"}.fa-indent:before{content:"\f03c"}.fa-industry:before{content:"\f275"}.fa-infinity:before{content:"\f534"}.fa-info:before{content:"\f129"}.fa-info-circle:before{content:"\f05a"}.fa-innosoft:before{content:"\e080"}.fa-instagram:before{content:"\f16d"}.fa-instagram-square:before{content:"\e055"}.fa-instalod:before{content:"\e081"}.fa-intercom:before{content:"\f7af"}.fa-internet-explorer:before{content:"\f26b"}.fa-invision:before{content:"\f7b0"}.fa-ioxhost:before{content:"\f208"}.fa-italic:before{content:"\f033"}.fa-itch-io:before{content:"\f83a"}.fa-itunes:before{content:"\f3b4"}.fa-itunes-note:before{content:"\f3b5"}.fa-java:before{content:"\f4e4"}.fa-jedi:before{content:"\f669"}.fa-jedi-order:before{content:"\f50e"}.fa-jenkins:before{content:"\f3b6"}.fa-jira:before{content:"\f7b1"}.fa-joget:before{content:"\f3b7"}.fa-joint:before{content:"\f595"}.fa-joomla:before{content:"\f1aa"}.fa-journal-whills:before{content:"\f66a"}.fa-js:before{content:"\f3b8"}.fa-js-square:before{content:"\f3b9"}.fa-jsfiddle:before{content:"\f1cc"}.fa-kaaba:before{content:"\f66b"}.fa-kaggle:before{content:"\f5fa"}.fa-key:before{content:"\f084"}.fa-keybase:before{content:"\f4f5"}.fa-keyboard:before{content:"\f11c"}.fa-keycdn:before{content:"\f3ba"}.fa-khanda:before{content:"\f66d"}.fa-kickstarter:before{content:"\f3bb"}.fa-kickstarter-k:before{content:"\f3bc"}.fa-kiss:before{content:"\f596"}.fa-kiss-beam:before{content:"\f597"}.fa-kiss-wink-heart:before{content:"\f598"}.fa-kiwi-bird:before{content:"\f535"}.fa-korvue:before{content:"\f42f"}.fa-landmark:before{content:"\f66f"}.fa-language:before{content:"\f1ab"}.fa-laptop:before{content:"\f109"}.fa-laptop-code:before{content:"\f5fc"}.fa-laptop-house:before{content:"\e066"}.fa-laptop-medical:before{content:"\f812"}.fa-laravel:before{content:"\f3bd"}.fa-lastfm:before{content:"\f202"}.fa-lastfm-square:before{content:"\f203"}.fa-laugh:before{content:"\f599"}.fa-laugh-beam:before{content:"\f59a"}.fa-laugh-squint:before{content:"\f59b"}.fa-laugh-wink:before{content:"\f59c"}.fa-layer-group:before{content:"\f5fd"}.fa-leaf:before{content:"\f06c"}.fa-leanpub:before{content:"\f212"}.fa-lemon:before{content:"\f094"}.fa-less:before{content:"\f41d"}.fa-less-than:before{content:"\f536"}.fa-less-than-equal:before{content:"\f537"}.fa-level-down-alt:before{content:"\f3be"}.fa-level-up-alt:before{content:"\f3bf"}.fa-life-ring:before{content:"\f1cd"}.fa-lightbulb:before{content:"\f0eb"}.fa-line:before{content:"\f3c0"}.fa-link:before{content:"\f0c1"}.fa-linkedin:before{content:"\f08c"}.fa-linkedin-in:before{content:"\f0e1"}.fa-linode:before{content:"\f2b8"}.fa-linux:before{content:"\f17c"}.fa-lira-sign:before{content:"\f195"}.fa-list:before{content:"\f03a"}.fa-list-alt:before{content:"\f022"}.fa-list-ol:before{content:"\f0cb"}.fa-list-ul:before{content:"\f0ca"}.fa-location-arrow:before{content:"\f124"}.fa-lock:before{content:"\f023"}.fa-lock-open:before{content:"\f3c1"}.fa-long-arrow-alt-down:before{content:"\f309"}.fa-long-arrow-alt-left:before{content:"\f30a"}.fa-long-arrow-alt-right:before{content:"\f30b"}.fa-long-arrow-alt-up:before{content:"\f30c"}.fa-low-vision:before{content:"\f2a8"}.fa-luggage-cart:before{content:"\f59d"}.fa-lungs:before{content:"\f604"}.fa-lungs-virus:before{content:"\e067"}.fa-lyft:before{content:"\f3c3"}.fa-magento:before{content:"\f3c4"}.fa-magic:before{content:"\f0d0"}.fa-magnet:before{content:"\f076"}.fa-mail-bulk:before{content:"\f674"}.fa-mailchimp:before{content:"\f59e"}.fa-male:before{content:"\f183"}.fa-mandalorian:before{content:"\f50f"}.fa-map:before{content:"\f279"}.fa-map-marked:before{content:"\f59f"}.fa-map-marked-alt:before{content:"\f5a0"}.fa-map-marker:before{content:"\f041"}.fa-map-marker-alt:before{content:"\f3c5"}.fa-map-pin:before{content:"\f276"}.fa-map-signs:before{content:"\f277"}.fa-markdown:before{content:"\f60f"}.fa-marker:before{content:"\f5a1"}.fa-mars:before{content:"\f222"}.fa-mars-double:before{content:"\f227"}.fa-mars-stroke:before{content:"\f229"}.fa-mars-stroke-h:before{content:"\f22b"}.fa-mars-stroke-v:before{content:"\f22a"}.fa-mask:before{content:"\f6fa"}.fa-mastodon:before{content:"\f4f6"}.fa-maxcdn:before{content:"\f136"}.fa-mdb:before{content:"\f8ca"}.fa-medal:before{content:"\f5a2"}.fa-medapps:before{content:"\f3c6"}.fa-medium:before{content:"\f23a"}.fa-medium-m:before{content:"\f3c7"}.fa-medkit:before{content:"\f0fa"}.fa-medrt:before{content:"\f3c8"}.fa-meetup:before{content:"\f2e0"}.fa-megaport:before{content:"\f5a3"}.fa-meh:before{content:"\f11a"}.fa-meh-blank:before{content:"\f5a4"}.fa-meh-rolling-eyes:before{content:"\f5a5"}.fa-memory:before{content:"\f538"}.fa-mendeley:before{content:"\f7b3"}.fa-menorah:before{content:"\f676"}.fa-mercury:before{content:"\f223"}.fa-meteor:before{content:"\f753"}.fa-microblog:before{content:"\e01a"}.fa-microchip:before{content:"\f2db"}.fa-microphone:before{content:"\f130"}.fa-microphone-alt:before{content:"\f3c9"}.fa-microphone-alt-slash:before{content:"\f539"}.fa-microphone-slash:before{content:"\f131"}.fa-microscope:before{content:"\f610"}.fa-microsoft:before{content:"\f3ca"}.fa-minus:before{content:"\f068"}.fa-minus-circle:before{content:"\f056"}.fa-minus-square:before{content:"\f146"}.fa-mitten:before{content:"\f7b5"}.fa-mix:before{content:"\f3cb"}.fa-mixcloud:before{content:"\f289"}.fa-mixer:before{content:"\e056"}.fa-mizuni:before{content:"\f3cc"}.fa-mobile:before{content:"\f10b"}.fa-mobile-alt:before{content:"\f3cd"}.fa-modx:before{content:"\f285"}.fa-monero:before{content:"\f3d0"}.fa-money-bill:before{content:"\f0d6"}.fa-money-bill-alt:before{content:"\f3d1"}.fa-money-bill-wave:before{content:"\f53a"}.fa-money-bill-wave-alt:before{content:"\f53b"}.fa-money-check:before{content:"\f53c"}.fa-money-check-alt:before{content:"\f53d"}.fa-monument:before{content:"\f5a6"}.fa-moon:before{content:"\f186"}.fa-mortar-pestle:before{content:"\f5a7"}.fa-mosque:before{content:"\f678"}.fa-motorcycle:before{content:"\f21c"}.fa-mountain:before{content:"\f6fc"}.fa-mouse:before{content:"\f8cc"}.fa-mouse-pointer:before{content:"\f245"}.fa-mug-hot:before{content:"\f7b6"}.fa-music:before{content:"\f001"}.fa-napster:before{content:"\f3d2"}.fa-neos:before{content:"\f612"}.fa-network-wired:before{content:"\f6ff"}.fa-neuter:before{content:"\f22c"}.fa-newspaper:before{content:"\f1ea"}.fa-nimblr:before{content:"\f5a8"}.fa-node:before{content:"\f419"}.fa-node-js:before{content:"\f3d3"}.fa-not-equal:before{content:"\f53e"}.fa-notes-medical:before{content:"\f481"}.fa-npm:before{content:"\f3d4"}.fa-ns8:before{content:"\f3d5"}.fa-nutritionix:before{content:"\f3d6"}.fa-object-group:before{content:"\f247"}.fa-object-ungroup:before{content:"\f248"}.fa-octopus-deploy:before{content:"\e082"}.fa-odnoklassniki:before{content:"\f263"}.fa-odnoklassniki-square:before{content:"\f264"}.fa-oil-can:before{content:"\f613"}.fa-old-republic:before{content:"\f510"}.fa-om:before{content:"\f679"}.fa-opencart:before{content:"\f23d"}.fa-openid:before{content:"\f19b"}.fa-opera:before{content:"\f26a"}.fa-optin-monster:before{content:"\f23c"}.fa-orcid:before{content:"\f8d2"}.fa-osi:before{content:"\f41a"}.fa-otter:before{content:"\f700"}.fa-outdent:before{content:"\f03b"}.fa-page4:before{content:"\f3d7"}.fa-pagelines:before{content:"\f18c"}.fa-pager:before{content:"\f815"}.fa-paint-brush:before{content:"\f1fc"}.fa-paint-roller:before{content:"\f5aa"}.fa-palette:before{content:"\f53f"}.fa-palfed:before{content:"\f3d8"}.fa-pallet:before{content:"\f482"}.fa-paper-plane:before{content:"\f1d8"}.fa-paperclip:before{content:"\f0c6"}.fa-parachute-box:before{content:"\f4cd"}.fa-paragraph:before{content:"\f1dd"}.fa-parking:before{content:"\f540"}.fa-passport:before{content:"\f5ab"}.fa-pastafarianism:before{content:"\f67b"}.fa-paste:before{content:"\f0ea"}.fa-patreon:before{content:"\f3d9"}.fa-pause:before{content:"\f04c"}.fa-pause-circle:before{content:"\f28b"}.fa-paw:before{content:"\f1b0"}.fa-paypal:before{content:"\f1ed"}.fa-peace:before{content:"\f67c"}.fa-pen:before{content:"\f304"}.fa-pen-alt:before{content:"\f305"}.fa-pen-fancy:before{content:"\f5ac"}.fa-pen-nib:before{content:"\f5ad"}.fa-pen-square:before{content:"\f14b"}.fa-pencil-alt:before{content:"\f303"}.fa-pencil-ruler:before{content:"\f5ae"}.fa-penny-arcade:before{content:"\f704"}.fa-people-arrows:before{content:"\e068"}.fa-people-carry:before{content:"\f4ce"}.fa-pepper-hot:before{content:"\f816"}.fa-perbyte:before{content:"\e083"}.fa-percent:before{content:"\f295"}.fa-percentage:before{content:"\f541"}.fa-periscope:before{content:"\f3da"}.fa-person-booth:before{content:"\f756"}.fa-phabricator:before{content:"\f3db"}.fa-phoenix-framework:before{content:"\f3dc"}.fa-phoenix-squadron:before{content:"\f511"}.fa-phone:before{content:"\f095"}.fa-phone-alt:before{content:"\f879"}.fa-phone-slash:before{content:"\f3dd"}.fa-phone-square:before{content:"\f098"}.fa-phone-square-alt:before{content:"\f87b"}.fa-phone-volume:before{content:"\f2a0"}.fa-photo-video:before{content:"\f87c"}.fa-php:before{content:"\f457"}.fa-pied-piper:before{content:"\f2ae"}.fa-pied-piper-alt:before{content:"\f1a8"}.fa-pied-piper-hat:before{content:"\f4e5"}.fa-pied-piper-pp:before{content:"\f1a7"}.fa-pied-piper-square:before{content:"\e01e"}.fa-piggy-bank:before{content:"\f4d3"}.fa-pills:before{content:"\f484"}.fa-pinterest:before{content:"\f0d2"}.fa-pinterest-p:before{content:"\f231"}.fa-pinterest-square:before{content:"\f0d3"}.fa-pizza-slice:before{content:"\f818"}.fa-place-of-worship:before{content:"\f67f"}.fa-plane:before{content:"\f072"}.fa-plane-arrival:before{content:"\f5af"}.fa-plane-departure:before{content:"\f5b0"}.fa-plane-slash:before{content:"\e069"}.fa-play:before{content:"\f04b"}.fa-play-circle:before{content:"\f144"}.fa-playstation:before{content:"\f3df"}.fa-plug:before{content:"\f1e6"}.fa-plus:before{content:"\f067"}.fa-plus-circle:before{content:"\f055"}.fa-plus-square:before{content:"\f0fe"}.fa-podcast:before{content:"\f2ce"}.fa-poll:before{content:"\f681"}.fa-poll-h:before{content:"\f682"}.fa-poo:before{content:"\f2fe"}.fa-poo-storm:before{content:"\f75a"}.fa-poop:before{content:"\f619"}.fa-portrait:before{content:"\f3e0"}.fa-pound-sign:before{content:"\f154"}.fa-power-off:before{content:"\f011"}.fa-pray:before{content:"\f683"}.fa-praying-hands:before{content:"\f684"}.fa-prescription:before{content:"\f5b1"}.fa-prescription-bottle:before{content:"\f485"}.fa-prescription-bottle-alt:before{content:"\f486"}.fa-print:before{content:"\f02f"}.fa-procedures:before{content:"\f487"}.fa-product-hunt:before{content:"\f288"}.fa-project-diagram:before{content:"\f542"}.fa-pump-medical:before{content:"\e06a"}.fa-pump-soap:before{content:"\e06b"}.fa-pushed:before{content:"\f3e1"}.fa-puzzle-piece:before{content:"\f12e"}.fa-python:before{content:"\f3e2"}.fa-qq:before{content:"\f1d6"}.fa-qrcode:before{content:"\f029"}.fa-question:before{content:"\f128"}.fa-question-circle:before{content:"\f059"}.fa-quidditch:before{content:"\f458"}.fa-quinscape:before{content:"\f459"}.fa-quora:before{content:"\f2c4"}.fa-quote-left:before{content:"\f10d"}.fa-quote-right:before{content:"\f10e"}.fa-quran:before{content:"\f687"}.fa-r-project:before{content:"\f4f7"}.fa-radiation:before{content:"\f7b9"}.fa-radiation-alt:before{content:"\f7ba"}.fa-rainbow:before{content:"\f75b"}.fa-random:before{content:"\f074"}.fa-raspberry-pi:before{content:"\f7bb"}.fa-ravelry:before{content:"\f2d9"}.fa-react:before{content:"\f41b"}.fa-reacteurope:before{content:"\f75d"}.fa-readme:before{content:"\f4d5"}.fa-rebel:before{content:"\f1d0"}.fa-receipt:before{content:"\f543"}.fa-record-vinyl:before{content:"\f8d9"}.fa-recycle:before{content:"\f1b8"}.fa-red-river:before{content:"\f3e3"}.fa-reddit:before{content:"\f1a1"}.fa-reddit-alien:before{content:"\f281"}.fa-reddit-square:before{content:"\f1a2"}.fa-redhat:before{content:"\f7bc"}.fa-redo:before{content:"\f01e"}.fa-redo-alt:before{content:"\f2f9"}.fa-registered:before{content:"\f25d"}.fa-remove-format:before{content:"\f87d"}.fa-renren:before{content:"\f18b"}.fa-reply:before{content:"\f3e5"}.fa-reply-all:before{content:"\f122"}.fa-replyd:before{content:"\f3e6"}.fa-republican:before{content:"\f75e"}.fa-researchgate:before{content:"\f4f8"}.fa-resolving:before{content:"\f3e7"}.fa-restroom:before{content:"\f7bd"}.fa-retweet:before{content:"\f079"}.fa-rev:before{content:"\f5b2"}.fa-ribbon:before{content:"\f4d6"}.fa-ring:before{content:"\f70b"}.fa-road:before{content:"\f018"}.fa-robot:before{content:"\f544"}.fa-rocket:before{content:"\f135"}.fa-rocketchat:before{content:"\f3e8"}.fa-rockrms:before{content:"\f3e9"}.fa-route:before{content:"\f4d7"}.fa-rss:before{content:"\f09e"}.fa-rss-square:before{content:"\f143"}.fa-ruble-sign:before{content:"\f158"}.fa-ruler:before{content:"\f545"}.fa-ruler-combined:before{content:"\f546"}.fa-ruler-horizontal:before{content:"\f547"}.fa-ruler-vertical:before{content:"\f548"}.fa-running:before{content:"\f70c"}.fa-rupee-sign:before{content:"\f156"}.fa-rust:before{content:"\e07a"}.fa-sad-cry:before{content:"\f5b3"}.fa-sad-tear:before{content:"\f5b4"}.fa-safari:before{content:"\f267"}.fa-salesforce:before{content:"\f83b"}.fa-sass:before{content:"\f41e"}.fa-satellite:before{content:"\f7bf"}.fa-satellite-dish:before{content:"\f7c0"}.fa-save:before{content:"\f0c7"}.fa-schlix:before{content:"\f3ea"}.fa-school:before{content:"\f549"}.fa-screwdriver:before{content:"\f54a"}.fa-scribd:before{content:"\f28a"}.fa-scroll:before{content:"\f70e"}.fa-sd-card:before{content:"\f7c2"}.fa-search:before{content:"\f002"}.fa-search-dollar:before{content:"\f688"}.fa-search-location:before{content:"\f689"}.fa-search-minus:before{content:"\f010"}.fa-search-plus:before{content:"\f00e"}.fa-searchengin:before{content:"\f3eb"}.fa-seedling:before{content:"\f4d8"}.fa-sellcast:before{content:"\f2da"}.fa-sellsy:before{content:"\f213"}.fa-server:before{content:"\f233"}.fa-servicestack:before{content:"\f3ec"}.fa-shapes:before{content:"\f61f"}.fa-share:before{content:"\f064"}.fa-share-alt:before{content:"\f1e0"}.fa-share-alt-square:before{content:"\f1e1"}.fa-share-square:before{content:"\f14d"}.fa-shekel-sign:before{content:"\f20b"}.fa-shield-alt:before{content:"\f3ed"}.fa-shield-virus:before{content:"\e06c"}.fa-ship:before{content:"\f21a"}.fa-shipping-fast:before{content:"\f48b"}.fa-shirtsinbulk:before{content:"\f214"}.fa-shoe-prints:before{content:"\f54b"}.fa-shopify:before{content:"\e057"}.fa-shopping-bag:before{content:"\f290"}.fa-shopping-basket:before{content:"\f291"}.fa-shopping-cart:before{content:"\f07a"}.fa-shopware:before{content:"\f5b5"}.fa-shower:before{content:"\f2cc"}.fa-shuttle-van:before{content:"\f5b6"}.fa-sign:before{content:"\f4d9"}.fa-sign-in-alt:before{content:"\f2f6"}.fa-sign-language:before{content:"\f2a7"}.fa-sign-out-alt:before{content:"\f2f5"}.fa-signal:before{content:"\f012"}.fa-signature:before{content:"\f5b7"}.fa-sim-card:before{content:"\f7c4"}.fa-simplybuilt:before{content:"\f215"}.fa-sink:before{content:"\e06d"}.fa-sistrix:before{content:"\f3ee"}.fa-sitemap:before{content:"\f0e8"}.fa-sith:before{content:"\f512"}.fa-skating:before{content:"\f7c5"}.fa-sketch:before{content:"\f7c6"}.fa-skiing:before{content:"\f7c9"}.fa-skiing-nordic:before{content:"\f7ca"}.fa-skull:before{content:"\f54c"}.fa-skull-crossbones:before{content:"\f714"}.fa-skyatlas:before{content:"\f216"}.fa-skype:before{content:"\f17e"}.fa-slack:before{content:"\f198"}.fa-slack-hash:before{content:"\f3ef"}.fa-slash:before{content:"\f715"}.fa-sleigh:before{content:"\f7cc"}.fa-sliders-h:before{content:"\f1de"}.fa-slideshare:before{content:"\f1e7"}.fa-smile:before{content:"\f118"}.fa-smile-beam:before{content:"\f5b8"}.fa-smile-wink:before{content:"\f4da"}.fa-smog:before{content:"\f75f"}.fa-smoking:before{content:"\f48d"}.fa-smoking-ban:before{content:"\f54d"}.fa-sms:before{content:"\f7cd"}.fa-snapchat:before{content:"\f2ab"}.fa-snapchat-ghost:before{content:"\f2ac"}.fa-snapchat-square:before{content:"\f2ad"}.fa-snowboarding:before{content:"\f7ce"}.fa-snowflake:before{content:"\f2dc"}.fa-snowman:before{content:"\f7d0"}.fa-snowplow:before{content:"\f7d2"}.fa-soap:before{content:"\e06e"}.fa-socks:before{content:"\f696"}.fa-solar-panel:before{content:"\f5ba"}.fa-sort:before{content:"\f0dc"}.fa-sort-alpha-down:before{content:"\f15d"}.fa-sort-alpha-down-alt:before{content:"\f881"}.fa-sort-alpha-up:before{content:"\f15e"}.fa-sort-alpha-up-alt:before{content:"\f882"}.fa-sort-amount-down:before{content:"\f160"}.fa-sort-amount-down-alt:before{content:"\f884"}.fa-sort-amount-up:before{content:"\f161"}.fa-sort-amount-up-alt:before{content:"\f885"}.fa-sort-down:before{content:"\f0dd"}.fa-sort-numeric-down:before{content:"\f162"}.fa-sort-numeric-down-alt:before{content:"\f886"}.fa-sort-numeric-up:before{content:"\f163"}.fa-sort-numeric-up-alt:before{content:"\f887"}.fa-sort-up:before{content:"\f0de"}.fa-soundcloud:before{content:"\f1be"}.fa-sourcetree:before{content:"\f7d3"}.fa-spa:before{content:"\f5bb"}.fa-space-shuttle:before{content:"\f197"}.fa-speakap:before{content:"\f3f3"}.fa-speaker-deck:before{content:"\f83c"}.fa-spell-check:before{content:"\f891"}.fa-spider:before{content:"\f717"}.fa-spinner:before{content:"\f110"}.fa-splotch:before{content:"\f5bc"}.fa-spotify:before{content:"\f1bc"}.fa-spray-can:before{content:"\f5bd"}.fa-square:before{content:"\f0c8"}.fa-square-full:before{content:"\f45c"}.fa-square-root-alt:before{content:"\f698"}.fa-squarespace:before{content:"\f5be"}.fa-stack-exchange:before{content:"\f18d"}.fa-stack-overflow:before{content:"\f16c"}.fa-stackpath:before{content:"\f842"}.fa-stamp:before{content:"\f5bf"}.fa-star:before{content:"\f005"}.fa-star-and-crescent:before{content:"\f699"}.fa-star-half:before{content:"\f089"}.fa-star-half-alt:before{content:"\f5c0"}.fa-star-of-david:before{content:"\f69a"}.fa-star-of-life:before{content:"\f621"}.fa-staylinked:before{content:"\f3f5"}.fa-steam:before{content:"\f1b6"}.fa-steam-square:before{content:"\f1b7"}.fa-steam-symbol:before{content:"\f3f6"}.fa-step-backward:before{content:"\f048"}.fa-step-forward:before{content:"\f051"}.fa-stethoscope:before{content:"\f0f1"}.fa-sticker-mule:before{content:"\f3f7"}.fa-sticky-note:before{content:"\f249"}.fa-stop:before{content:"\f04d"}.fa-stop-circle:before{content:"\f28d"}.fa-stopwatch:before{content:"\f2f2"}.fa-stopwatch-20:before{content:"\e06f"}.fa-store:before{content:"\f54e"}.fa-store-alt:before{content:"\f54f"}.fa-store-alt-slash:before{content:"\e070"}.fa-store-slash:before{content:"\e071"}.fa-strava:before{content:"\f428"}.fa-stream:before{content:"\f550"}.fa-street-view:before{content:"\f21d"}.fa-strikethrough:before{content:"\f0cc"}.fa-stripe:before{content:"\f429"}.fa-stripe-s:before{content:"\f42a"}.fa-stroopwafel:before{content:"\f551"}.fa-studiovinari:before{content:"\f3f8"}.fa-stumbleupon:before{content:"\f1a4"}.fa-stumbleupon-circle:before{content:"\f1a3"}.fa-subscript:before{content:"\f12c"}.fa-subway:before{content:"\f239"}.fa-suitcase:before{content:"\f0f2"}.fa-suitcase-rolling:before{content:"\f5c1"}.fa-sun:before{content:"\f185"}.fa-superpowers:before{content:"\f2dd"}.fa-superscript:before{content:"\f12b"}.fa-supple:before{content:"\f3f9"}.fa-surprise:before{content:"\f5c2"}.fa-suse:before{content:"\f7d6"}.fa-swatchbook:before{content:"\f5c3"}.fa-swift:before{content:"\f8e1"}.fa-swimmer:before{content:"\f5c4"}.fa-swimming-pool:before{content:"\f5c5"}.fa-symfony:before{content:"\f83d"}.fa-synagogue:before{content:"\f69b"}.fa-sync:before{content:"\f021"}.fa-sync-alt:before{content:"\f2f1"}.fa-syringe:before{content:"\f48e"}.fa-table:before{content:"\f0ce"}.fa-table-tennis:before{content:"\f45d"}.fa-tablet:before{content:"\f10a"}.fa-tablet-alt:before{content:"\f3fa"}.fa-tablets:before{content:"\f490"}.fa-tachometer-alt:before{content:"\f3fd"}.fa-tag:before{content:"\f02b"}.fa-tags:before{content:"\f02c"}.fa-tape:before{content:"\f4db"}.fa-tasks:before{content:"\f0ae"}.fa-taxi:before{content:"\f1ba"}.fa-teamspeak:before{content:"\f4f9"}.fa-teeth:before{content:"\f62e"}.fa-teeth-open:before{content:"\f62f"}.fa-telegram:before{content:"\f2c6"}.fa-telegram-plane:before{content:"\f3fe"}.fa-temperature-high:before{content:"\f769"}.fa-temperature-low:before{content:"\f76b"}.fa-tencent-weibo:before{content:"\f1d5"}.fa-tenge:before{content:"\f7d7"}.fa-terminal:before{content:"\f120"}.fa-text-height:before{content:"\f034"}.fa-text-width:before{content:"\f035"}.fa-th:before{content:"\f00a"}.fa-th-large:before{content:"\f009"}.fa-th-list:before{content:"\f00b"}.fa-the-red-yeti:before{content:"\f69d"}.fa-theater-masks:before{content:"\f630"}.fa-themeco:before{content:"\f5c6"}.fa-themeisle:before{content:"\f2b2"}.fa-thermometer:before{content:"\f491"}.fa-thermometer-empty:before{content:"\f2cb"}.fa-thermometer-full:before{content:"\f2c7"}.fa-thermometer-half:before{content:"\f2c9"}.fa-thermometer-quarter:before{content:"\f2ca"}.fa-thermometer-three-quarters:before{content:"\f2c8"}.fa-think-peaks:before{content:"\f731"}.fa-thumbs-down:before{content:"\f165"}.fa-thumbs-up:before{content:"\f164"}.fa-thumbtack:before{content:"\f08d"}.fa-ticket-alt:before{content:"\f3ff"}.fa-tiktok:before{content:"\e07b"}.fa-times:before{content:"\f00d"}.fa-times-circle:before{content:"\f057"}.fa-tint:before{content:"\f043"}.fa-tint-slash:before{content:"\f5c7"}.fa-tired:before{content:"\f5c8"}.fa-toggle-off:before{content:"\f204"}.fa-toggle-on:before{content:"\f205"}.fa-toilet:before{content:"\f7d8"}.fa-toilet-paper:before{content:"\f71e"}.fa-toilet-paper-slash:before{content:"\e072"}.fa-toolbox:before{content:"\f552"}.fa-tools:before{content:"\f7d9"}.fa-tooth:before{content:"\f5c9"}.fa-torah:before{content:"\f6a0"}.fa-torii-gate:before{content:"\f6a1"}.fa-tractor:before{content:"\f722"}.fa-trade-federation:before{content:"\f513"}.fa-trademark:before{content:"\f25c"}.fa-traffic-light:before{content:"\f637"}.fa-trailer:before{content:"\e041"}.fa-train:before{content:"\f238"}.fa-tram:before{content:"\f7da"}.fa-transgender:before{content:"\f224"}.fa-transgender-alt:before{content:"\f225"}.fa-trash:before{content:"\f1f8"}.fa-trash-alt:before{content:"\f2ed"}.fa-trash-restore:before{content:"\f829"}.fa-trash-restore-alt:before{content:"\f82a"}.fa-tree:before{content:"\f1bb"}.fa-trello:before{content:"\f181"}.fa-trophy:before{content:"\f091"}.fa-truck:before{content:"\f0d1"}.fa-truck-loading:before{content:"\f4de"}.fa-truck-monster:before{content:"\f63b"}.fa-truck-moving:before{content:"\f4df"}.fa-truck-pickup:before{content:"\f63c"}.fa-tshirt:before{content:"\f553"}.fa-tty:before{content:"\f1e4"}.fa-tumblr:before{content:"\f173"}.fa-tumblr-square:before{content:"\f174"}.fa-tv:before{content:"\f26c"}.fa-twitch:before{content:"\f1e8"}.fa-twitter:before{content:"\f099"}.fa-twitter-square:before{content:"\f081"}.fa-typo3:before{content:"\f42b"}.fa-uber:before{content:"\f402"}.fa-ubuntu:before{content:"\f7df"}.fa-uikit:before{content:"\f403"}.fa-umbraco:before{content:"\f8e8"}.fa-umbrella:before{content:"\f0e9"}.fa-umbrella-beach:before{content:"\f5ca"}.fa-uncharted:before{content:"\e084"}.fa-underline:before{content:"\f0cd"}.fa-undo:before{content:"\f0e2"}.fa-undo-alt:before{content:"\f2ea"}.fa-uniregistry:before{content:"\f404"}.fa-unity:before{content:"\e049"}.fa-universal-access:before{content:"\f29a"}.fa-university:before{content:"\f19c"}.fa-unlink:before{content:"\f127"}.fa-unlock:before{content:"\f09c"}.fa-unlock-alt:before{content:"\f13e"}.fa-unsplash:before{content:"\e07c"}.fa-untappd:before{content:"\f405"}.fa-upload:before{content:"\f093"}.fa-ups:before{content:"\f7e0"}.fa-usb:before{content:"\f287"}.fa-user:before{content:"\f007"}.fa-user-alt:before{content:"\f406"}.fa-user-alt-slash:before{content:"\f4fa"}.fa-user-astronaut:before{content:"\f4fb"}.fa-user-check:before{content:"\f4fc"}.fa-user-circle:before{content:"\f2bd"}.fa-user-clock:before{content:"\f4fd"}.fa-user-cog:before{content:"\f4fe"}.fa-user-edit:before{content:"\f4ff"}.fa-user-friends:before{content:"\f500"}.fa-user-graduate:before{content:"\f501"}.fa-user-injured:before{content:"\f728"}.fa-user-lock:before{content:"\f502"}.fa-user-md:before{content:"\f0f0"}.fa-user-minus:before{content:"\f503"}.fa-user-ninja:before{content:"\f504"}.fa-user-nurse:before{content:"\f82f"}.fa-user-plus:before{content:"\f234"}.fa-user-secret:before{content:"\f21b"}.fa-user-shield:before{content:"\f505"}.fa-user-slash:before{content:"\f506"}.fa-user-tag:before{content:"\f507"}.fa-user-tie:before{content:"\f508"}.fa-user-times:before{content:"\f235"}.fa-users:before{content:"\f0c0"}.fa-users-cog:before{content:"\f509"}.fa-users-slash:before{content:"\e073"}.fa-usps:before{content:"\f7e1"}.fa-ussunnah:before{content:"\f407"}.fa-utensil-spoon:before{content:"\f2e5"}.fa-utensils:before{content:"\f2e7"}.fa-vaadin:before{content:"\f408"}.fa-vector-square:before{content:"\f5cb"}.fa-venus:before{content:"\f221"}.fa-venus-double:before{content:"\f226"}.fa-venus-mars:before{content:"\f228"}.fa-vest:before{content:"\e085"}.fa-vest-patches:before{content:"\e086"}.fa-viacoin:before{content:"\f237"}.fa-viadeo:before{content:"\f2a9"}.fa-viadeo-square:before{content:"\f2aa"}.fa-vial:before{content:"\f492"}.fa-vials:before{content:"\f493"}.fa-viber:before{content:"\f409"}.fa-video:before{content:"\f03d"}.fa-video-slash:before{content:"\f4e2"}.fa-vihara:before{content:"\f6a7"}.fa-vimeo:before{content:"\f40a"}.fa-vimeo-square:before{content:"\f194"}.fa-vimeo-v:before{content:"\f27d"}.fa-vine:before{content:"\f1ca"}.fa-virus:before{content:"\e074"}.fa-virus-slash:before{content:"\e075"}.fa-viruses:before{content:"\e076"}.fa-vk:before{content:"\f189"}.fa-vnv:before{content:"\f40b"}.fa-voicemail:before{content:"\f897"}.fa-volleyball-ball:before{content:"\f45f"}.fa-volume-down:before{content:"\f027"}.fa-volume-mute:before{content:"\f6a9"}.fa-volume-off:before{content:"\f026"}.fa-volume-up:before{content:"\f028"}.fa-vote-yea:before{content:"\f772"}.fa-vr-cardboard:before{content:"\f729"}.fa-vuejs:before{content:"\f41f"}.fa-walking:before{content:"\f554"}.fa-wallet:before{content:"\f555"}.fa-warehouse:before{content:"\f494"}.fa-watchman-monitoring:before{content:"\e087"}.fa-water:before{content:"\f773"}.fa-wave-square:before{content:"\f83e"}.fa-waze:before{content:"\f83f"}.fa-weebly:before{content:"\f5cc"}.fa-weibo:before{content:"\f18a"}.fa-weight:before{content:"\f496"}.fa-weight-hanging:before{content:"\f5cd"}.fa-weixin:before{content:"\f1d7"}.fa-whatsapp:before{content:"\f232"}.fa-whatsapp-square:before{content:"\f40c"}.fa-wheelchair:before{content:"\f193"}.fa-whmcs:before{content:"\f40d"}.fa-wifi:before{content:"\f1eb"}.fa-wikipedia-w:before{content:"\f266"}.fa-wind:before{content:"\f72e"}.fa-window-close:before{content:"\f410"}.fa-window-maximize:before{content:"\f2d0"}.fa-window-minimize:before{content:"\f2d1"}.fa-window-restore:before{content:"\f2d2"}.fa-windows:before{content:"\f17a"}.fa-wine-bottle:before{content:"\f72f"}.fa-wine-glass:before{content:"\f4e3"}.fa-wine-glass-alt:before{content:"\f5ce"}.fa-wix:before{content:"\f5cf"}.fa-wizards-of-the-coast:before{content:"\f730"}.fa-wodu:before{content:"\e088"}.fa-wolf-pack-battalion:before{content:"\f514"}.fa-won-sign:before{content:"\f159"}.fa-wordpress:before{content:"\f19a"}.fa-wordpress-simple:before{content:"\f411"}.fa-wpbeginner:before{content:"\f297"}.fa-wpexplorer:before{content:"\f2de"}.fa-wpforms:before{content:"\f298"}.fa-wpressr:before{content:"\f3e4"}.fa-wrench:before{content:"\f0ad"}.fa-x-ray:before{content:"\f497"}.fa-xbox:before{content:"\f412"}.fa-xing:before{content:"\f168"}.fa-xing-square:before{content:"\f169"}.fa-y-combinator:before{content:"\f23b"}.fa-yahoo:before{content:"\f19e"}.fa-yammer:before{content:"\f840"}.fa-yandex:before{content:"\f413"}.fa-yandex-international:before{content:"\f414"}.fa-yarn:before{content:"\f7e3"}.fa-yelp:before{content:"\f1e9"}.fa-yen-sign:before{content:"\f157"}.fa-yin-yang:before{content:"\f6ad"}.fa-yoast:before{content:"\f2b1"}.fa-youtube:before{content:"\f167"}.fa-youtube-square:before{content:"\f431"}.fa-zhihu:before{content:"\f63f"}.sr-only{border:0;clip:rect(0,0,0,0);height:1px;margin:-1px;overflow:hidden;padding:0;position:absolute;width:1px}.sr-only-focusable:active,.sr-only-focusable:focus{clip:auto;height:auto;margin:0;overflow:visible;position:static;width:auto}@font-face{font-family:"Font Awesome 5 Brands";font-style:normal;font-weight:400;font-display:block;src:url(http://localhost:8888/static/notebook/e4299464e7b012968eed.eot);src:url(http://localhost:8888/static/notebook/e4299464e7b012968eed.eot?#iefix) format("embedded-opentype"),url(http://localhost:8888/static/notebook/8ea8791754915a898a31.woff2) format("woff2"),url(http://localhost:8888/static/notebook/f9217f66874b0c01cd8c.woff) format("woff"),url(http://localhost:8888/static/notebook/cda59d6efffa685830fd.ttf) format("truetype"),url(http://localhost:8888/static/notebook/a3b9817780214caf01e8.svg#fontawesome) format("svg")}.fab{font-family:"Font Awesome 5 Brands"}@font-face{font-family:"Font Awesome 5 Free";font-style:normal;font-weight:400;font-display:block;src:url(http://localhost:8888/static/notebook/79d088064beb3826054f.eot);src:url(http://localhost:8888/static/notebook/79d088064beb3826054f.eot?#iefix) format("embedded-opentype"),url(http://localhost:8888/static/notebook/e42a88444448ac3d6054.woff2) format("woff2"),url(http://localhost:8888/static/notebook/cb9e9e693192413cde2b.woff) format("woff"),url(http://localhost:8888/static/notebook/e8711bbb871afd8e9dea.ttf) format("truetype"),url(http://localhost:8888/static/notebook/be0a084962d8066884f7.svg#fontawesome) format("svg")}.fab,.far{font-weight:400}@font-face{font-family:"Font Awesome 5 Free";font-style:normal;font-weight:900;font-display:block;src:url(http://localhost:8888/static/notebook/373c04fd2418f5c77eea.eot);src:url(http://localhost:8888/static/notebook/373c04fd2418f5c77eea.eot?#iefix) format("embedded-opentype"),url(http://localhost:8888/static/notebook/9834b82ad26e2a37583d.woff2) format("woff2"),url(http://localhost:8888/static/notebook/3f6d3488cf65374f6f67.woff) format("woff"),url(http://localhost:8888/static/notebook/af6397503fcefbd61397.ttf) format("truetype"),url(http://localhost:8888/static/notebook/9674eb1bd55047179038.svg#fontawesome) format("svg")}.fa,.far,.fas{font-family:"Font Awesome 5 Free"}.fa,.fas{font-weight:900}</style><style>/*!
 * Font Awesome Free 5.15.4 by @fontawesome - https://fontawesome.com
 * License - https://fontawesome.com/license/free (Icons: CC BY 4.0, Fonts: SIL OFL 1.1, Code: MIT License)
 */
.fa.fa-glass:before{content:"\f000"}.fa.fa-meetup{font-family:"Font Awesome 5 Brands";font-weight:400}.fa.fa-star-o{font-family:"Font Awesome 5 Free";font-weight:400}.fa.fa-star-o:before{content:"\f005"}.fa.fa-close:before,.fa.fa-remove:before{content:"\f00d"}.fa.fa-gear:before{content:"\f013"}.fa.fa-trash-o{font-family:"Font Awesome 5 Free";font-weight:400}.fa.fa-trash-o:before{content:"\f2ed"}.fa.fa-file-o{font-family:"Font Awesome 5 Free";font-weight:400}.fa.fa-file-o:before{content:"\f15b"}.fa.fa-clock-o{font-family:"Font Awesome 5 Free";font-weight:400}.fa.fa-clock-o:before{content:"\f017"}.fa.fa-arrow-circle-o-down{font-family:"Font Awesome 5 Free";font-weight:400}.fa.fa-arrow-circle-o-down:before{content:"\f358"}.fa.fa-arrow-circle-o-up{font-family:"Font Awesome 5 Free";font-weight:400}.fa.fa-arrow-circle-o-up:before{content:"\f35b"}.fa.fa-play-circle-o{font-family:"Font Awesome 5 Free";font-weight:400}.fa.fa-play-circle-o:before{content:"\f144"}.fa.fa-repeat:before,.fa.fa-rotate-right:before{content:"\f01e"}.fa.fa-refresh:before{content:"\f021"}.fa.fa-list-alt{font-family:"Font Awesome 5 Free";font-weight:400}.fa.fa-dedent:before{content:"\f03b"}.fa.fa-video-camera:before{content:"\f03d"}.fa.fa-picture-o{font-family:"Font Awesome 5 Free";font-weight:400}.fa.fa-picture-o:before{content:"\f03e"}.fa.fa-photo{font-family:"Font Awesome 5 Free";font-weight:400}.fa.fa-photo:before{content:"\f03e"}.fa.fa-image{font-family:"Font Awesome 5 Free";font-weight:400}.fa.fa-image:before{content:"\f03e"}.fa.fa-pencil:before{content:"\f303"}.fa.fa-map-marker:before{content:"\f3c5"}.fa.fa-pencil-square-o{font-family:"Font Awesome 5 Free";font-weight:400}.fa.fa-pencil-square-o:before{content:"\f044"}.fa.fa-share-square-o{font-family:"Font Awesome 5 Free";font-weight:400}.fa.fa-share-square-o:before{content:"\f14d"}.fa.fa-check-square-o{font-family:"Font Awesome 5 Free";font-weight:400}.fa.fa-check-square-o:before{content:"\f14a"}.fa.fa-arrows:before{content:"\f0b2"}.fa.fa-times-circle-o{font-family:"Font Awesome 5 Free";font-weight:400}.fa.fa-times-circle-o:before{content:"\f057"}.fa.fa-check-circle-o{font-family:"Font Awesome 5 Free";font-weight:400}.fa.fa-check-circle-o:before{content:"\f058"}.fa.fa-mail-forward:before{content:"\f064"}.fa.fa-expand:before{content:"\f424"}.fa.fa-compress:before{content:"\f422"}.fa.fa-eye,.fa.fa-eye-slash{font-family:"Font Awesome 5 Free";font-weight:400}.fa.fa-warning:before{content:"\f071"}.fa.fa-calendar:before{content:"\f073"}.fa.fa-arrows-v:before{content:"\f338"}.fa.fa-arrows-h:before{content:"\f337"}.fa.fa-bar-chart{font-family:"Font Awesome 5 Free";font-weight:400}.fa.fa-bar-chart:before{content:"\f080"}.fa.fa-bar-chart-o{font-family:"Font Awesome 5 Free";font-weight:400}.fa.fa-bar-chart-o:before{content:"\f080"}.fa.fa-facebook-square,.fa.fa-twitter-square{font-family:"Font Awesome 5 Brands";font-weight:400}.fa.fa-gears:before{content:"\f085"}.fa.fa-thumbs-o-up{font-family:"Font Awesome 5 Free";font-weight:400}.fa.fa-thumbs-o-up:before{content:"\f164"}.fa.fa-thumbs-o-down{font-family:"Font Awesome 5 Free";font-weight:400}.fa.fa-thumbs-o-down:before{content:"\f165"}.fa.fa-heart-o{font-family:"Font Awesome 5 Free";font-weight:400}.fa.fa-heart-o:before{content:"\f004"}.fa.fa-sign-out:before{content:"\f2f5"}.fa.fa-linkedin-square{font-family:"Font Awesome 5 Brands";font-weight:400}.fa.fa-linkedin-square:before{content:"\f08c"}.fa.fa-thumb-tack:before{content:"\f08d"}.fa.fa-external-link:before{content:"\f35d"}.fa.fa-sign-in:before{content:"\f2f6"}.fa.fa-github-square{font-family:"Font Awesome 5 Brands";font-weight:400}.fa.fa-lemon-o{font-family:"Font Awesome 5 Free";font-weight:400}.fa.fa-lemon-o:before{content:"\f094"}.fa.fa-square-o{font-family:"Font Awesome 5 Free";font-weight:400}.fa.fa-square-o:before{content:"\f0c8"}.fa.fa-bookmark-o{font-family:"Font Awesome 5 Free";font-weight:400}.fa.fa-bookmark-o:before{content:"\f02e"}.fa.fa-facebook,.fa.fa-twitter{font-family:"Font Awesome 5 Brands";font-weight:400}.fa.fa-facebook:before{content:"\f39e"}.fa.fa-facebook-f{font-family:"Font Awesome 5 Brands";font-weight:400}.fa.fa-facebook-f:before{content:"\f39e"}.fa.fa-github{font-family:"Font Awesome 5 Brands";font-weight:400}.fa.fa-credit-card{font-family:"Font Awesome 5 Free";font-weight:400}.fa.fa-feed:before{content:"\f09e"}.fa.fa-hdd-o{font-family:"Font Awesome 5 Free";font-weight:400}.fa.fa-hdd-o:before{content:"\f0a0"}.fa.fa-hand-o-right{font-family:"Font Awesome 5 Free";font-weight:400}.fa.fa-hand-o-right:before{content:"\f0a4"}.fa.fa-hand-o-left{font-family:"Font Awesome 5 Free";font-weight:400}.fa.fa-hand-o-left:before{content:"\f0a5"}.fa.fa-hand-o-up{font-family:"Font Awesome 5 Free";font-weight:400}.fa.fa-hand-o-up:before{content:"\f0a6"}.fa.fa-hand-o-down{font-family:"Font Awesome 5 Free";font-weight:400}.fa.fa-hand-o-down:before{content:"\f0a7"}.fa.fa-arrows-alt:before{content:"\f31e"}.fa.fa-group:before{content:"\f0c0"}.fa.fa-chain:before{content:"\f0c1"}.fa.fa-scissors:before{content:"\f0c4"}.fa.fa-files-o{font-family:"Font Awesome 5 Free";font-weight:400}.fa.fa-files-o:before{content:"\f0c5"}.fa.fa-floppy-o{font-family:"Font Awesome 5 Free";font-weight:400}.fa.fa-floppy-o:before{content:"\f0c7"}.fa.fa-navicon:before,.fa.fa-reorder:before{content:"\f0c9"}.fa.fa-google-plus,.fa.fa-google-plus-square,.fa.fa-pinterest,.fa.fa-pinterest-square{font-family:"Font Awesome 5 Brands";font-weight:400}.fa.fa-google-plus:before{content:"\f0d5"}.fa.fa-money{font-family:"Font Awesome 5 Free";font-weight:400}.fa.fa-money:before{content:"\f3d1"}.fa.fa-unsorted:before{content:"\f0dc"}.fa.fa-sort-desc:before{content:"\f0dd"}.fa.fa-sort-asc:before{content:"\f0de"}.fa.fa-linkedin{font-family:"Font Awesome 5 Brands";font-weight:400}.fa.fa-linkedin:before{content:"\f0e1"}.fa.fa-rotate-left:before{content:"\f0e2"}.fa.fa-legal:before{content:"\f0e3"}.fa.fa-dashboard:before,.fa.fa-tachometer:before{content:"\f3fd"}.fa.fa-comment-o{font-family:"Font Awesome 5 Free";font-weight:400}.fa.fa-comment-o:before{content:"\f075"}.fa.fa-comments-o{font-family:"Font Awesome 5 Free";font-weight:400}.fa.fa-comments-o:before{content:"\f086"}.fa.fa-flash:before{content:"\f0e7"}.fa.fa-clipboard,.fa.fa-paste{font-family:"Font Awesome 5 Free";font-weight:400}.fa.fa-paste:before{content:"\f328"}.fa.fa-lightbulb-o{font-family:"Font Awesome 5 Free";font-weight:400}.fa.fa-lightbulb-o:before{content:"\f0eb"}.fa.fa-exchange:before{content:"\f362"}.fa.fa-cloud-download:before{content:"\f381"}.fa.fa-cloud-upload:before{content:"\f382"}.fa.fa-bell-o{font-family:"Font Awesome 5 Free";font-weight:400}.fa.fa-bell-o:before{content:"\f0f3"}.fa.fa-cutlery:before{content:"\f2e7"}.fa.fa-file-text-o{font-family:"Font Awesome 5 Free";font-weight:400}.fa.fa-file-text-o:before{content:"\f15c"}.fa.fa-building-o{font-family:"Font Awesome 5 Free";font-weight:400}.fa.fa-building-o:before{content:"\f1ad"}.fa.fa-hospital-o{font-family:"Font Awesome 5 Free";font-weight:400}.fa.fa-hospital-o:before{content:"\f0f8"}.fa.fa-tablet:before{content:"\f3fa"}.fa.fa-mobile-phone:before,.fa.fa-mobile:before{content:"\f3cd"}.fa.fa-circle-o{font-family:"Font Awesome 5 Free";font-weight:400}.fa.fa-circle-o:before{content:"\f111"}.fa.fa-mail-reply:before{content:"\f3e5"}.fa.fa-github-alt{font-family:"Font Awesome 5 Brands";font-weight:400}.fa.fa-folder-o{font-family:"Font Awesome 5 Free";font-weight:400}.fa.fa-folder-o:before{content:"\f07b"}.fa.fa-folder-open-o{font-family:"Font Awesome 5 Free";font-weight:400}.fa.fa-folder-open-o:before{content:"\f07c"}.fa.fa-smile-o{font-family:"Font Awesome 5 Free";font-weight:400}.fa.fa-smile-o:before{content:"\f118"}.fa.fa-frown-o{font-family:"Font Awesome 5 Free";font-weight:400}.fa.fa-frown-o:before{content:"\f119"}.fa.fa-meh-o{font-family:"Font Awesome 5 Free";font-weight:400}.fa.fa-meh-o:before{content:"\f11a"}.fa.fa-keyboard-o{font-family:"Font Awesome 5 Free";font-weight:400}.fa.fa-keyboard-o:before{content:"\f11c"}.fa.fa-flag-o{font-family:"Font Awesome 5 Free";font-weight:400}.fa.fa-flag-o:before{content:"\f024"}.fa.fa-mail-reply-all:before{content:"\f122"}.fa.fa-star-half-o{font-family:"Font Awesome 5 Free";font-weight:400}.fa.fa-star-half-o:before{content:"\f089"}.fa.fa-star-half-empty{font-family:"Font Awesome 5 Free";font-weight:400}.fa.fa-star-half-empty:before{content:"\f089"}.fa.fa-star-half-full{font-family:"Font Awesome 5 Free";font-weight:400}.fa.fa-star-half-full:before{content:"\f089"}.fa.fa-code-fork:before{content:"\f126"}.fa.fa-chain-broken:before{content:"\f127"}.fa.fa-shield:before{content:"\f3ed"}.fa.fa-calendar-o{font-family:"Font Awesome 5 Free";font-weight:400}.fa.fa-calendar-o:before{content:"\f133"}.fa.fa-css3,.fa.fa-html5,.fa.fa-maxcdn{font-family:"Font Awesome 5 Brands";font-weight:400}.fa.fa-ticket:before{content:"\f3ff"}.fa.fa-minus-square-o{font-family:"Font Awesome 5 Free";font-weight:400}.fa.fa-minus-square-o:before{content:"\f146"}.fa.fa-level-up:before{content:"\f3bf"}.fa.fa-level-down:before{content:"\f3be"}.fa.fa-pencil-square:before{content:"\f14b"}.fa.fa-external-link-square:before{content:"\f360"}.fa.fa-compass{font-family:"Font Awesome 5 Free";font-weight:400}.fa.fa-caret-square-o-down{font-family:"Font Awesome 5 Free";font-weight:400}.fa.fa-caret-square-o-down:before{content:"\f150"}.fa.fa-toggle-down{font-family:"Font Awesome 5 Free";font-weight:400}.fa.fa-toggle-down:before{content:"\f150"}.fa.fa-caret-square-o-up{font-family:"Font Awesome 5 Free";font-weight:400}.fa.fa-caret-square-o-up:before{content:"\f151"}.fa.fa-toggle-up{font-family:"Font Awesome 5 Free";font-weight:400}.fa.fa-toggle-up:before{content:"\f151"}.fa.fa-caret-square-o-right{font-family:"Font Awesome 5 Free";font-weight:400}.fa.fa-caret-square-o-right:before{content:"\f152"}.fa.fa-toggle-right{font-family:"Font Awesome 5 Free";font-weight:400}.fa.fa-toggle-right:before{content:"\f152"}.fa.fa-eur:before,.fa.fa-euro:before{content:"\f153"}.fa.fa-gbp:before{content:"\f154"}.fa.fa-dollar:before,.fa.fa-usd:before{content:"\f155"}.fa.fa-inr:before,.fa.fa-rupee:before{content:"\f156"}.fa.fa-cny:before,.fa.fa-jpy:before,.fa.fa-rmb:before,.fa.fa-yen:before{content:"\f157"}.fa.fa-rouble:before,.fa.fa-rub:before,.fa.fa-ruble:before{content:"\f158"}.fa.fa-krw:before,.fa.fa-won:before{content:"\f159"}.fa.fa-bitcoin,.fa.fa-btc{font-family:"Font Awesome 5 Brands";font-weight:400}.fa.fa-bitcoin:before{content:"\f15a"}.fa.fa-file-text:before{content:"\f15c"}.fa.fa-sort-alpha-asc:before{content:"\f15d"}.fa.fa-sort-alpha-desc:before{content:"\f881"}.fa.fa-sort-amount-asc:before{content:"\f160"}.fa.fa-sort-amount-desc:before{content:"\f884"}.fa.fa-sort-numeric-asc:before{content:"\f162"}.fa.fa-sort-numeric-desc:before{content:"\f886"}.fa.fa-xing,.fa.fa-xing-square,.fa.fa-youtube,.fa.fa-youtube-play,.fa.fa-youtube-square{font-family:"Font Awesome 5 Brands";font-weight:400}.fa.fa-youtube-play:before{content:"\f167"}.fa.fa-adn,.fa.fa-bitbucket,.fa.fa-bitbucket-square,.fa.fa-dropbox,.fa.fa-flickr,.fa.fa-instagram,.fa.fa-stack-overflow{font-family:"Font Awesome 5 Brands";font-weight:400}.fa.fa-bitbucket-square:before{content:"\f171"}.fa.fa-tumblr,.fa.fa-tumblr-square{font-family:"Font Awesome 5 Brands";font-weight:400}.fa.fa-long-arrow-down:before{content:"\f309"}.fa.fa-long-arrow-up:before{content:"\f30c"}.fa.fa-long-arrow-left:before{content:"\f30a"}.fa.fa-long-arrow-right:before{content:"\f30b"}.fa.fa-android,.fa.fa-apple,.fa.fa-dribbble,.fa.fa-foursquare,.fa.fa-gittip,.fa.fa-gratipay,.fa.fa-linux,.fa.fa-skype,.fa.fa-trello,.fa.fa-windows{font-family:"Font Awesome 5 Brands";font-weight:400}.fa.fa-gittip:before{content:"\f184"}.fa.fa-sun-o{font-family:"Font Awesome 5 Free";font-weight:400}.fa.fa-sun-o:before{content:"\f185"}.fa.fa-moon-o{font-family:"Font Awesome 5 Free";font-weight:400}.fa.fa-moon-o:before{content:"\f186"}.fa.fa-pagelines,.fa.fa-renren,.fa.fa-stack-exchange,.fa.fa-vk,.fa.fa-weibo{font-family:"Font Awesome 5 Brands";font-weight:400}.fa.fa-arrow-circle-o-right{font-family:"Font Awesome 5 Free";font-weight:400}.fa.fa-arrow-circle-o-right:before{content:"\f35a"}.fa.fa-arrow-circle-o-left{font-family:"Font Awesome 5 Free";font-weight:400}.fa.fa-arrow-circle-o-left:before{content:"\f359"}.fa.fa-caret-square-o-left{font-family:"Font Awesome 5 Free";font-weight:400}.fa.fa-caret-square-o-left:before{content:"\f191"}.fa.fa-toggle-left{font-family:"Font Awesome 5 Free";font-weight:400}.fa.fa-toggle-left:before{content:"\f191"}.fa.fa-dot-circle-o{font-family:"Font Awesome 5 Free";font-weight:400}.fa.fa-dot-circle-o:before{content:"\f192"}.fa.fa-vimeo-square{font-family:"Font Awesome 5 Brands";font-weight:400}.fa.fa-try:before,.fa.fa-turkish-lira:before{content:"\f195"}.fa.fa-plus-square-o{font-family:"Font Awesome 5 Free";font-weight:400}.fa.fa-plus-square-o:before{content:"\f0fe"}.fa.fa-openid,.fa.fa-slack,.fa.fa-wordpress{font-family:"Font Awesome 5 Brands";font-weight:400}.fa.fa-bank:before,.fa.fa-institution:before{content:"\f19c"}.fa.fa-mortar-board:before{content:"\f19d"}.fa.fa-delicious,.fa.fa-digg,.fa.fa-drupal,.fa.fa-google,.fa.fa-joomla,.fa.fa-pied-piper-alt,.fa.fa-pied-piper-pp,.fa.fa-reddit,.fa.fa-reddit-square,.fa.fa-stumbleupon,.fa.fa-stumbleupon-circle,.fa.fa-yahoo{font-family:"Font Awesome 5 Brands";font-weight:400}.fa.fa-spoon:before{content:"\f2e5"}.fa.fa-behance,.fa.fa-behance-square,.fa.fa-steam,.fa.fa-steam-square{font-family:"Font Awesome 5 Brands";font-weight:400}.fa.fa-automobile:before{content:"\f1b9"}.fa.fa-envelope-o{font-family:"Font Awesome 5 Free";font-weight:400}.fa.fa-envelope-o:before{content:"\f0e0"}.fa.fa-deviantart,.fa.fa-soundcloud,.fa.fa-spotify{font-family:"Font Awesome 5 Brands";font-weight:400}.fa.fa-file-pdf-o{font-family:"Font Awesome 5 Free";font-weight:400}.fa.fa-file-pdf-o:before{content:"\f1c1"}.fa.fa-file-word-o{font-family:"Font Awesome 5 Free";font-weight:400}.fa.fa-file-word-o:before{content:"\f1c2"}.fa.fa-file-excel-o{font-family:"Font Awesome 5 Free";font-weight:400}.fa.fa-file-excel-o:before{content:"\f1c3"}.fa.fa-file-powerpoint-o{font-family:"Font Awesome 5 Free";font-weight:400}.fa.fa-file-powerpoint-o:before{content:"\f1c4"}.fa.fa-file-image-o{font-family:"Font Awesome 5 Free";font-weight:400}.fa.fa-file-image-o:before{content:"\f1c5"}.fa.fa-file-photo-o{font-family:"Font Awesome 5 Free";font-weight:400}.fa.fa-file-photo-o:before{content:"\f1c5"}.fa.fa-file-picture-o{font-family:"Font Awesome 5 Free";font-weight:400}.fa.fa-file-picture-o:before{content:"\f1c5"}.fa.fa-file-archive-o{font-family:"Font Awesome 5 Free";font-weight:400}.fa.fa-file-archive-o:before{content:"\f1c6"}.fa.fa-file-zip-o{font-family:"Font Awesome 5 Free";font-weight:400}.fa.fa-file-zip-o:before{content:"\f1c6"}.fa.fa-file-audio-o{font-family:"Font Awesome 5 Free";font-weight:400}.fa.fa-file-audio-o:before{content:"\f1c7"}.fa.fa-file-sound-o{font-family:"Font Awesome 5 Free";font-weight:400}.fa.fa-file-sound-o:before{content:"\f1c7"}.fa.fa-file-video-o{font-family:"Font Awesome 5 Free";font-weight:400}.fa.fa-file-video-o:before{content:"\f1c8"}.fa.fa-file-movie-o{font-family:"Font Awesome 5 Free";font-weight:400}.fa.fa-file-movie-o:before{content:"\f1c8"}.fa.fa-file-code-o{font-family:"Font Awesome 5 Free";font-weight:400}.fa.fa-file-code-o:before{content:"\f1c9"}.fa.fa-codepen,.fa.fa-jsfiddle,.fa.fa-vine{font-family:"Font Awesome 5 Brands";font-weight:400}.fa.fa-life-bouy,.fa.fa-life-ring{font-family:"Font Awesome 5 Free";font-weight:400}.fa.fa-life-bouy:before{content:"\f1cd"}.fa.fa-life-buoy{font-family:"Font Awesome 5 Free";font-weight:400}.fa.fa-life-buoy:before{content:"\f1cd"}.fa.fa-life-saver{font-family:"Font Awesome 5 Free";font-weight:400}.fa.fa-life-saver:before{content:"\f1cd"}.fa.fa-support{font-family:"Font Awesome 5 Free";font-weight:400}.fa.fa-support:before{content:"\f1cd"}.fa.fa-circle-o-notch:before{content:"\f1ce"}.fa.fa-ra,.fa.fa-rebel{font-family:"Font Awesome 5 Brands";font-weight:400}.fa.fa-ra:before{content:"\f1d0"}.fa.fa-resistance{font-family:"Font Awesome 5 Brands";font-weight:400}.fa.fa-resistance:before{content:"\f1d0"}.fa.fa-empire,.fa.fa-ge{font-family:"Font Awesome 5 Brands";font-weight:400}.fa.fa-ge:before{content:"\f1d1"}.fa.fa-git,.fa.fa-git-square,.fa.fa-hacker-news,.fa.fa-y-combinator-square{font-family:"Font Awesome 5 Brands";font-weight:400}.fa.fa-y-combinator-square:before{content:"\f1d4"}.fa.fa-yc-square{font-family:"Font Awesome 5 Brands";font-weight:400}.fa.fa-yc-square:before{content:"\f1d4"}.fa.fa-qq,.fa.fa-tencent-weibo,.fa.fa-wechat,.fa.fa-weixin{font-family:"Font Awesome 5 Brands";font-weight:400}.fa.fa-wechat:before{content:"\f1d7"}.fa.fa-send:before{content:"\f1d8"}.fa.fa-paper-plane-o{font-family:"Font Awesome 5 Free";font-weight:400}.fa.fa-paper-plane-o:before{content:"\f1d8"}.fa.fa-send-o{font-family:"Font Awesome 5 Free";font-weight:400}.fa.fa-send-o:before{content:"\f1d8"}.fa.fa-circle-thin{font-family:"Font Awesome 5 Free";font-weight:400}.fa.fa-circle-thin:before{content:"\f111"}.fa.fa-header:before{content:"\f1dc"}.fa.fa-sliders:before{content:"\f1de"}.fa.fa-futbol-o{font-family:"Font Awesome 5 Free";font-weight:400}.fa.fa-futbol-o:before{content:"\f1e3"}.fa.fa-soccer-ball-o{font-family:"Font Awesome 5 Free";font-weight:400}.fa.fa-soccer-ball-o:before{content:"\f1e3"}.fa.fa-slideshare,.fa.fa-twitch,.fa.fa-yelp{font-family:"Font Awesome 5 Brands";font-weight:400}.fa.fa-newspaper-o{font-family:"Font Awesome 5 Free";font-weight:400}.fa.fa-newspaper-o:before{content:"\f1ea"}.fa.fa-cc-amex,.fa.fa-cc-discover,.fa.fa-cc-mastercard,.fa.fa-cc-paypal,.fa.fa-cc-stripe,.fa.fa-cc-visa,.fa.fa-google-wallet,.fa.fa-paypal{font-family:"Font Awesome 5 Brands";font-weight:400}.fa.fa-bell-slash-o{font-family:"Font Awesome 5 Free";font-weight:400}.fa.fa-bell-slash-o:before{content:"\f1f6"}.fa.fa-trash:before{content:"\f2ed"}.fa.fa-copyright{font-family:"Font Awesome 5 Free";font-weight:400}.fa.fa-eyedropper:before{content:"\f1fb"}.fa.fa-area-chart:before{content:"\f1fe"}.fa.fa-pie-chart:before{content:"\f200"}.fa.fa-line-chart:before{content:"\f201"}.fa.fa-angellist,.fa.fa-ioxhost,.fa.fa-lastfm,.fa.fa-lastfm-square{font-family:"Font Awesome 5 Brands";font-weight:400}.fa.fa-cc{font-family:"Font Awesome 5 Free";font-weight:400}.fa.fa-cc:before{content:"\f20a"}.fa.fa-ils:before,.fa.fa-shekel:before,.fa.fa-sheqel:before{content:"\f20b"}.fa.fa-meanpath{font-family:"Font Awesome 5 Brands";font-weight:400}.fa.fa-meanpath:before{content:"\f2b4"}.fa.fa-buysellads,.fa.fa-connectdevelop,.fa.fa-dashcube,.fa.fa-forumbee,.fa.fa-leanpub,.fa.fa-sellsy,.fa.fa-shirtsinbulk,.fa.fa-simplybuilt,.fa.fa-skyatlas{font-family:"Font Awesome 5 Brands";font-weight:400}.fa.fa-diamond{font-family:"Font Awesome 5 Free";font-weight:400}.fa.fa-diamond:before{content:"\f3a5"}.fa.fa-intersex:before{content:"\f224"}.fa.fa-facebook-official{font-family:"Font Awesome 5 Brands";font-weight:400}.fa.fa-facebook-official:before{content:"\f09a"}.fa.fa-pinterest-p,.fa.fa-whatsapp{font-family:"Font Awesome 5 Brands";font-weight:400}.fa.fa-hotel:before{content:"\f236"}.fa.fa-medium,.fa.fa-viacoin,.fa.fa-y-combinator,.fa.fa-yc{font-family:"Font Awesome 5 Brands";font-weight:400}.fa.fa-yc:before{content:"\f23b"}.fa.fa-expeditedssl,.fa.fa-opencart,.fa.fa-optin-monster{font-family:"Font Awesome 5 Brands";font-weight:400}.fa.fa-battery-4:before,.fa.fa-battery:before{content:"\f240"}.fa.fa-battery-3:before{content:"\f241"}.fa.fa-battery-2:before{content:"\f242"}.fa.fa-battery-1:before{content:"\f243"}.fa.fa-battery-0:before{content:"\f244"}.fa.fa-object-group,.fa.fa-object-ungroup,.fa.fa-sticky-note-o{font-family:"Font Awesome 5 Free";font-weight:400}.fa.fa-sticky-note-o:before{content:"\f249"}.fa.fa-cc-diners-club,.fa.fa-cc-jcb{font-family:"Font Awesome 5 Brands";font-weight:400}.fa.fa-clone,.fa.fa-hourglass-o{font-family:"Font Awesome 5 Free";font-weight:400}.fa.fa-hourglass-o:before{content:"\f254"}.fa.fa-hourglass-1:before{content:"\f251"}.fa.fa-hourglass-2:before{content:"\f252"}.fa.fa-hourglass-3:before{content:"\f253"}.fa.fa-hand-rock-o{font-family:"Font Awesome 5 Free";font-weight:400}.fa.fa-hand-rock-o:before{content:"\f255"}.fa.fa-hand-grab-o{font-family:"Font Awesome 5 Free";font-weight:400}.fa.fa-hand-grab-o:before{content:"\f255"}.fa.fa-hand-paper-o{font-family:"Font Awesome 5 Free";font-weight:400}.fa.fa-hand-paper-o:before{content:"\f256"}.fa.fa-hand-stop-o{font-family:"Font Awesome 5 Free";font-weight:400}.fa.fa-hand-stop-o:before{content:"\f256"}.fa.fa-hand-scissors-o{font-family:"Font Awesome 5 Free";font-weight:400}.fa.fa-hand-scissors-o:before{content:"\f257"}.fa.fa-hand-lizard-o{font-family:"Font Awesome 5 Free";font-weight:400}.fa.fa-hand-lizard-o:before{content:"\f258"}.fa.fa-hand-spock-o{font-family:"Font Awesome 5 Free";font-weight:400}.fa.fa-hand-spock-o:before{content:"\f259"}.fa.fa-hand-pointer-o{font-family:"Font Awesome 5 Free";font-weight:400}.fa.fa-hand-pointer-o:before{content:"\f25a"}.fa.fa-hand-peace-o{font-family:"Font Awesome 5 Free";font-weight:400}.fa.fa-hand-peace-o:before{content:"\f25b"}.fa.fa-registered{font-family:"Font Awesome 5 Free";font-weight:400}.fa.fa-chrome,.fa.fa-creative-commons,.fa.fa-firefox,.fa.fa-get-pocket,.fa.fa-gg,.fa.fa-gg-circle,.fa.fa-internet-explorer,.fa.fa-odnoklassniki,.fa.fa-odnoklassniki-square,.fa.fa-opera,.fa.fa-safari,.fa.fa-tripadvisor,.fa.fa-wikipedia-w{font-family:"Font Awesome 5 Brands";font-weight:400}.fa.fa-television:before{content:"\f26c"}.fa.fa-500px,.fa.fa-amazon,.fa.fa-contao{font-family:"Font Awesome 5 Brands";font-weight:400}.fa.fa-calendar-plus-o{font-family:"Font Awesome 5 Free";font-weight:400}.fa.fa-calendar-plus-o:before{content:"\f271"}.fa.fa-calendar-minus-o{font-family:"Font Awesome 5 Free";font-weight:400}.fa.fa-calendar-minus-o:before{content:"\f272"}.fa.fa-calendar-times-o{font-family:"Font Awesome 5 Free";font-weight:400}.fa.fa-calendar-times-o:before{content:"\f273"}.fa.fa-calendar-check-o{font-family:"Font Awesome 5 Free";font-weight:400}.fa.fa-calendar-check-o:before{content:"\f274"}.fa.fa-map-o{font-family:"Font Awesome 5 Free";font-weight:400}.fa.fa-map-o:before{content:"\f279"}.fa.fa-commenting:before{content:"\f4ad"}.fa.fa-commenting-o{font-family:"Font Awesome 5 Free";font-weight:400}.fa.fa-commenting-o:before{content:"\f4ad"}.fa.fa-houzz,.fa.fa-vimeo{font-family:"Font Awesome 5 Brands";font-weight:400}.fa.fa-vimeo:before{content:"\f27d"}.fa.fa-black-tie,.fa.fa-edge,.fa.fa-fonticons,.fa.fa-reddit-alien{font-family:"Font Awesome 5 Brands";font-weight:400}.fa.fa-credit-card-alt:before{content:"\f09d"}.fa.fa-codiepie,.fa.fa-fort-awesome,.fa.fa-mixcloud,.fa.fa-modx,.fa.fa-product-hunt,.fa.fa-scribd,.fa.fa-usb{font-family:"Font Awesome 5 Brands";font-weight:400}.fa.fa-pause-circle-o{font-family:"Font Awesome 5 Free";font-weight:400}.fa.fa-pause-circle-o:before{content:"\f28b"}.fa.fa-stop-circle-o{font-family:"Font Awesome 5 Free";font-weight:400}.fa.fa-stop-circle-o:before{content:"\f28d"}.fa.fa-bluetooth,.fa.fa-bluetooth-b,.fa.fa-envira,.fa.fa-gitlab,.fa.fa-wheelchair-alt,.fa.fa-wpbeginner,.fa.fa-wpforms{font-family:"Font Awesome 5 Brands";font-weight:400}.fa.fa-wheelchair-alt:before{content:"\f368"}.fa.fa-question-circle-o{font-family:"Font Awesome 5 Free";font-weight:400}.fa.fa-question-circle-o:before{content:"\f059"}.fa.fa-volume-control-phone:before{content:"\f2a0"}.fa.fa-asl-interpreting:before{content:"\f2a3"}.fa.fa-deafness:before,.fa.fa-hard-of-hearing:before{content:"\f2a4"}.fa.fa-glide,.fa.fa-glide-g{font-family:"Font Awesome 5 Brands";font-weight:400}.fa.fa-signing:before{content:"\f2a7"}.fa.fa-first-order,.fa.fa-google-plus-official,.fa.fa-pied-piper,.fa.fa-snapchat,.fa.fa-snapchat-ghost,.fa.fa-snapchat-square,.fa.fa-themeisle,.fa.fa-viadeo,.fa.fa-viadeo-square,.fa.fa-yoast{font-family:"Font Awesome 5 Brands";font-weight:400}.fa.fa-google-plus-official:before{content:"\f2b3"}.fa.fa-google-plus-circle{font-family:"Font Awesome 5 Brands";font-weight:400}.fa.fa-google-plus-circle:before{content:"\f2b3"}.fa.fa-fa,.fa.fa-font-awesome{font-family:"Font Awesome 5 Brands";font-weight:400}.fa.fa-fa:before{content:"\f2b4"}.fa.fa-handshake-o{font-family:"Font Awesome 5 Free";font-weight:400}.fa.fa-handshake-o:before{content:"\f2b5"}.fa.fa-envelope-open-o{font-family:"Font Awesome 5 Free";font-weight:400}.fa.fa-envelope-open-o:before{content:"\f2b6"}.fa.fa-linode{font-family:"Font Awesome 5 Brands";font-weight:400}.fa.fa-address-book-o{font-family:"Font Awesome 5 Free";font-weight:400}.fa.fa-address-book-o:before{content:"\f2b9"}.fa.fa-vcard:before{content:"\f2bb"}.fa.fa-address-card-o{font-family:"Font Awesome 5 Free";font-weight:400}.fa.fa-address-card-o:before{content:"\f2bb"}.fa.fa-vcard-o{font-family:"Font Awesome 5 Free";font-weight:400}.fa.fa-vcard-o:before{content:"\f2bb"}.fa.fa-user-circle-o{font-family:"Font Awesome 5 Free";font-weight:400}.fa.fa-user-circle-o:before{content:"\f2bd"}.fa.fa-user-o{font-family:"Font Awesome 5 Free";font-weight:400}.fa.fa-user-o:before{content:"\f007"}.fa.fa-id-badge{font-family:"Font Awesome 5 Free";font-weight:400}.fa.fa-drivers-license:before{content:"\f2c2"}.fa.fa-id-card-o{font-family:"Font Awesome 5 Free";font-weight:400}.fa.fa-id-card-o:before{content:"\f2c2"}.fa.fa-drivers-license-o{font-family:"Font Awesome 5 Free";font-weight:400}.fa.fa-drivers-license-o:before{content:"\f2c2"}.fa.fa-free-code-camp,.fa.fa-quora,.fa.fa-telegram{font-family:"Font Awesome 5 Brands";font-weight:400}.fa.fa-thermometer-4:before,.fa.fa-thermometer:before{content:"\f2c7"}.fa.fa-thermometer-3:before{content:"\f2c8"}.fa.fa-thermometer-2:before{content:"\f2c9"}.fa.fa-thermometer-1:before{content:"\f2ca"}.fa.fa-thermometer-0:before{content:"\f2cb"}.fa.fa-bathtub:before,.fa.fa-s15:before{content:"\f2cd"}.fa.fa-window-maximize,.fa.fa-window-restore{font-family:"Font Awesome 5 Free";font-weight:400}.fa.fa-times-rectangle:before{content:"\f410"}.fa.fa-window-close-o{font-family:"Font Awesome 5 Free";font-weight:400}.fa.fa-window-close-o:before{content:"\f410"}.fa.fa-times-rectangle-o{font-family:"Font Awesome 5 Free";font-weight:400}.fa.fa-times-rectangle-o:before{content:"\f410"}.fa.fa-bandcamp,.fa.fa-eercast,.fa.fa-etsy,.fa.fa-grav,.fa.fa-imdb,.fa.fa-ravelry{font-family:"Font Awesome 5 Brands";font-weight:400}.fa.fa-eercast:before{content:"\f2da"}.fa.fa-snowflake-o{font-family:"Font Awesome 5 Free";font-weight:400}.fa.fa-snowflake-o:before{content:"\f2dc"}.fa.fa-superpowers,.fa.fa-wpexplorer{font-family:"Font Awesome 5 Brands";font-weight:400}.fa.fa-cab:before{content:"\f1ba"}</style><style>/*
 * Copyright (c) Jupyter Development Team.
 * Distributed under the terms of the Modified BSD License.
 */

/*-----------------------------------------------------------------------------
| Copyright (c) Jupyter Development Team.
| Copyright (c) 2014-2017, PhosphorJS Contributors
|
| Distributed under the terms of the BSD 3-Clause License.
|
| The full license is in the file LICENSE, distributed with this software.
|----------------------------------------------------------------------------*/

.lm-Widget {
  box-sizing: border-box;
  position: relative;
  overflow: hidden;
}

.lm-Widget.lm-mod-hidden {
  display: none !important;
}
</style><style>/*
 * Copyright (c) Jupyter Development Team.
 * Distributed under the terms of the Modified BSD License.
 */

.lm-AccordionPanel[data-orientation='horizontal'] > .lm-AccordionPanel-title {
  /* Title is rotated for horizontal accordion panel using CSS */
  display: block;
  transform-origin: top left;
  transform: rotate(-90deg) translate(-100%);
}
</style><style>/*
 * Copyright (c) Jupyter Development Team.
 * Distributed under the terms of the Modified BSD License.
 */

/*-----------------------------------------------------------------------------
| Copyright (c) Jupyter Development Team.
| Copyright (c) 2014-2017, PhosphorJS Contributors
|
| Distributed under the terms of the BSD 3-Clause License.
|
| The full license is in the file LICENSE, distributed with this software.
|----------------------------------------------------------------------------*/

.lm-CommandPalette {
  display: flex;
  flex-direction: column;
  -webkit-user-select: none;
  -moz-user-select: none;
  -ms-user-select: none;
  user-select: none;
}

.lm-CommandPalette-search {
  flex: 0 0 auto;
}

.lm-CommandPalette-content {
  flex: 1 1 auto;
  margin: 0;
  padding: 0;
  min-height: 0;
  overflow: auto;
  list-style-type: none;
}

.lm-CommandPalette-header {
  overflow: hidden;
  white-space: nowrap;
  text-overflow: ellipsis;
}

.lm-CommandPalette-item {
  display: flex;
  flex-direction: row;
}

.lm-CommandPalette-itemIcon {
  flex: 0 0 auto;
}

.lm-CommandPalette-itemContent {
  flex: 1 1 auto;
  overflow: hidden;
}

.lm-CommandPalette-itemShortcut {
  flex: 0 0 auto;
}

.lm-CommandPalette-itemLabel {
  overflow: hidden;
  white-space: nowrap;
  text-overflow: ellipsis;
}

.lm-close-icon {
  border: 1px solid transparent;
  background-color: transparent;
  position: absolute;
  z-index: 1;
  right: 3%;
  top: 0;
  bottom: 0;
  margin: auto;
  padding: 7px 0;
  display: none;
  vertical-align: middle;
  outline: 0;
  cursor: pointer;
}
.lm-close-icon:after {
  content: 'X';
  display: block;
  width: 15px;
  height: 15px;
  text-align: center;
  color: #000;
  font-weight: normal;
  font-size: 12px;
  cursor: pointer;
}
</style><style>/*
 * Copyright (c) Jupyter Development Team.
 * Distributed under the terms of the Modified BSD License.
 */

/*-----------------------------------------------------------------------------
| Copyright (c) Jupyter Development Team.
| Copyright (c) 2014-2017, PhosphorJS Contributors
|
| Distributed under the terms of the BSD 3-Clause License.
|
| The full license is in the file LICENSE, distributed with this software.
|----------------------------------------------------------------------------*/

.lm-DockPanel {
  z-index: 0;
}

.lm-DockPanel-widget {
  z-index: 0;
}

.lm-DockPanel-tabBar {
  z-index: 1;
}

.lm-DockPanel-handle {
  z-index: 2;
}

.lm-DockPanel-handle.lm-mod-hidden {
  display: none !important;
}

.lm-DockPanel-handle:after {
  position: absolute;
  top: 0;
  left: 0;
  width: 100%;
  height: 100%;
  content: '';
}

.lm-DockPanel-handle[data-orientation='horizontal'] {
  cursor: ew-resize;
}

.lm-DockPanel-handle[data-orientation='vertical'] {
  cursor: ns-resize;
}

.lm-DockPanel-handle[data-orientation='horizontal']:after {
  left: 50%;
  min-width: 8px;
  transform: translateX(-50%);
}

.lm-DockPanel-handle[data-orientation='vertical']:after {
  top: 50%;
  min-height: 8px;
  transform: translateY(-50%);
}

.lm-DockPanel-overlay {
  z-index: 3;
  box-sizing: border-box;
  pointer-events: none;
}

.lm-DockPanel-overlay.lm-mod-hidden {
  display: none !important;
}
</style><style>/*
 * Copyright (c) Jupyter Development Team.
 * Distributed under the terms of the Modified BSD License.
 */

/*-----------------------------------------------------------------------------
| Copyright (c) Jupyter Development Team.
| Copyright (c) 2014-2017, PhosphorJS Contributors
|
| Distributed under the terms of the BSD 3-Clause License.
|
| The full license is in the file LICENSE, distributed with this software.
|----------------------------------------------------------------------------*/

.lm-Menu {
  z-index: 10000;
  position: absolute;
  white-space: nowrap;
  overflow-x: hidden;
  overflow-y: auto;
  outline: none;
  -webkit-user-select: none;
  -moz-user-select: none;
  -ms-user-select: none;
  user-select: none;
}

.lm-Menu-content {
  margin: 0;
  padding: 0;
  display: table;
  list-style-type: none;
}

.lm-Menu-item {
  display: table-row;
}

.lm-Menu-item.lm-mod-hidden,
.lm-Menu-item.lm-mod-collapsed {
  display: none !important;
}

.lm-Menu-itemIcon,
.lm-Menu-itemSubmenuIcon {
  display: table-cell;
  text-align: center;
}

.lm-Menu-itemLabel {
  display: table-cell;
  text-align: left;
}

.lm-Menu-itemShortcut {
  display: table-cell;
  text-align: right;
}
</style><style>/*
 * Copyright (c) Jupyter Development Team.
 * Distributed under the terms of the Modified BSD License.
 */

/*-----------------------------------------------------------------------------
| Copyright (c) Jupyter Development Team.
| Copyright (c) 2014-2017, PhosphorJS Contributors
|
| Distributed under the terms of the BSD 3-Clause License.
|
| The full license is in the file LICENSE, distributed with this software.
|----------------------------------------------------------------------------*/

.lm-MenuBar {
  outline: none;
  -webkit-user-select: none;
  -moz-user-select: none;
  -ms-user-select: none;
  user-select: none;
}

.lm-MenuBar-content {
  margin: 0;
  padding: 0;
  display: flex;
  flex-direction: row;
  list-style-type: none;
}

.lm-MenuBar-item {
  box-sizing: border-box;
}

.lm-MenuBar-itemIcon,
.lm-MenuBar-itemLabel {
  display: inline-block;
}
</style><style>/*
 * Copyright (c) Jupyter Development Team.
 * Distributed under the terms of the Modified BSD License.
 */

/*-----------------------------------------------------------------------------
| Copyright (c) Jupyter Development Team.
| Copyright (c) 2014-2017, PhosphorJS Contributors
|
| Distributed under the terms of the BSD 3-Clause License.
|
| The full license is in the file LICENSE, distributed with this software.
|----------------------------------------------------------------------------*/

.lm-ScrollBar {
  display: flex;
  -webkit-user-select: none;
  -moz-user-select: none;
  -ms-user-select: none;
  user-select: none;
}

.lm-ScrollBar[data-orientation='horizontal'] {
  flex-direction: row;
}

.lm-ScrollBar[data-orientation='vertical'] {
  flex-direction: column;
}

.lm-ScrollBar-button {
  box-sizing: border-box;
  flex: 0 0 auto;
}

.lm-ScrollBar-track {
  box-sizing: border-box;
  position: relative;
  overflow: hidden;
  flex: 1 1 auto;
}

.lm-ScrollBar-thumb {
  box-sizing: border-box;
  position: absolute;
}
</style><style>/*
 * Copyright (c) Jupyter Development Team.
 * Distributed under the terms of the Modified BSD License.
 */

/*-----------------------------------------------------------------------------
| Copyright (c) Jupyter Development Team.
| Copyright (c) 2014-2017, PhosphorJS Contributors
|
| Distributed under the terms of the BSD 3-Clause License.
|
| The full license is in the file LICENSE, distributed with this software.
|----------------------------------------------------------------------------*/

.lm-SplitPanel-child {
  z-index: 0;
}

.lm-SplitPanel-handle {
  z-index: 1;
}

.lm-SplitPanel-handle.lm-mod-hidden {
  display: none !important;
}

.lm-SplitPanel-handle:after {
  position: absolute;
  top: 0;
  left: 0;
  width: 100%;
  height: 100%;
  content: '';
}

.lm-SplitPanel[data-orientation='horizontal'] > .lm-SplitPanel-handle {
  cursor: ew-resize;
}

.lm-SplitPanel[data-orientation='vertical'] > .lm-SplitPanel-handle {
  cursor: ns-resize;
}

.lm-SplitPanel[data-orientation='horizontal'] > .lm-SplitPanel-handle:after {
  left: 50%;
  min-width: 8px;
  transform: translateX(-50%);
}

.lm-SplitPanel[data-orientation='vertical'] > .lm-SplitPanel-handle:after {
  top: 50%;
  min-height: 8px;
  transform: translateY(-50%);
}
</style><style>/*
 * Copyright (c) Jupyter Development Team.
 * Distributed under the terms of the Modified BSD License.
 */

/*-----------------------------------------------------------------------------
| Copyright (c) Jupyter Development Team.
| Copyright (c) 2014-2017, PhosphorJS Contributors
|
| Distributed under the terms of the BSD 3-Clause License.
|
| The full license is in the file LICENSE, distributed with this software.
|----------------------------------------------------------------------------*/

.lm-TabBar {
  display: flex;
  -webkit-user-select: none;
  -moz-user-select: none;
  -ms-user-select: none;
  user-select: none;
}

.lm-TabBar[data-orientation='horizontal'] {
  flex-direction: row;
  align-items: flex-end;
}

.lm-TabBar[data-orientation='vertical'] {
  flex-direction: column;
  align-items: flex-end;
}

.lm-TabBar-content {
  margin: 0;
  padding: 0;
  display: flex;
  flex: 1 1 auto;
  list-style-type: none;
}

.lm-TabBar[data-orientation='horizontal'] > .lm-TabBar-content {
  flex-direction: row;
}

.lm-TabBar[data-orientation='vertical'] > .lm-TabBar-content {
  flex-direction: column;
}

.lm-TabBar-tab {
  display: flex;
  flex-direction: row;
  box-sizing: border-box;
  overflow: hidden;
  touch-action: none; /* Disable native Drag/Drop */
}

.lm-TabBar-tabIcon,
.lm-TabBar-tabCloseIcon {
  flex: 0 0 auto;
}

.lm-TabBar-tabLabel {
  flex: 1 1 auto;
  overflow: hidden;
  white-space: nowrap;
}

.lm-TabBar-tabInput {
  user-select: all;
  width: 100%;
  box-sizing: border-box;
}

.lm-TabBar-tab.lm-mod-hidden {
  display: none !important;
}

.lm-TabBar-addButton.lm-mod-hidden {
  display: none !important;
}

.lm-TabBar.lm-mod-dragging .lm-TabBar-tab {
  position: relative;
}

.lm-TabBar.lm-mod-dragging[data-orientation='horizontal'] .lm-TabBar-tab {
  left: 0;
  transition: left 150ms ease;
}

.lm-TabBar.lm-mod-dragging[data-orientation='vertical'] .lm-TabBar-tab {
  top: 0;
  transition: top 150ms ease;
}

.lm-TabBar.lm-mod-dragging .lm-TabBar-tab.lm-mod-dragging {
  transition: none;
}

.lm-TabBar-tabLabel .lm-TabBar-tabInput {
  user-select: all;
  width: 100%;
  box-sizing: border-box;
  background: inherit;
}
</style><style>/*
 * Copyright (c) Jupyter Development Team.
 * Distributed under the terms of the Modified BSD License.
 */

/*-----------------------------------------------------------------------------
| Copyright (c) Jupyter Development Team.
| Copyright (c) 2014-2017, PhosphorJS Contributors
|
| Distributed under the terms of the BSD 3-Clause License.
|
| The full license is in the file LICENSE, distributed with this software.
|----------------------------------------------------------------------------*/

.lm-TabPanel-tabBar {
  z-index: 1;
}

.lm-TabPanel-stackedPanel {
  z-index: 0;
}
</style><style>/*
 * Copyright (c) Jupyter Development Team.
 * Distributed under the terms of the Modified BSD License.
 */

/*-----------------------------------------------------------------------------
| Copyright (c) Jupyter Development Team.
| Copyright (c) 2014-2017, PhosphorJS Contributors
|
| Distributed under the terms of the BSD 3-Clause License.
|
| The full license is in the file LICENSE, distributed with this software.
|----------------------------------------------------------------------------*/
</style><style>/*-----------------------------------------------------------------------------
| Copyright (c) Jupyter Development Team.
| Distributed under the terms of the Modified BSD License.
|----------------------------------------------------------------------------*/

.jp-Collapse {
  display: flex;
  flex-direction: column;
  align-items: stretch;
}

.jp-Collapse-header {
  padding: 1px 12px;
  background-color: var(--jp-layout-color1);
  border-bottom: solid var(--jp-border-width) var(--jp-border-color2);
  color: var(--jp-ui-font-color1);
  cursor: pointer;
  display: flex;
  align-items: center;
  font-size: var(--jp-ui-font-size0);
  font-weight: 600;
  text-transform: uppercase;
  user-select: none;
}

.jp-Collapser-icon {
  height: 16px;
}

.jp-Collapse-header-collapsed .jp-Collapser-icon {
  transform: rotate(-90deg);
  margin: auto 0;
}

.jp-Collapser-title {
  line-height: 25px;
}

.jp-Collapse-contents {
  padding: 0 12px;
  background-color: var(--jp-layout-color1);
  color: var(--jp-ui-font-color1);
  overflow: auto;
}
</style><style>/*-----------------------------------------------------------------------------
| Copyright (c) Jupyter Development Team.
| Distributed under the terms of the Modified BSD License.
|----------------------------------------------------------------------------*/

/* This file was auto-generated by ensureUiComponents() in @jupyterlab/buildutils */

/**
 * (DEPRECATED) Support for consuming icons as CSS background images
 */

/* Icons urls */

:root {
  --jp-icon-add-above: url("data:image/svg+xml,%3csvg width='14' height='14' viewBox='0 0 14 14' fill='none' xmlns='http://www.w3.org/2000/svg'%3e %3cg clip-path='url(%23clip0_137_19492)'%3e %3cpath class='jp-icon3' d='M4.75 4.93066H6.625V6.80566C6.625 7.01191 6.79375 7.18066 7 7.18066C7.20625 7.18066 7.375 7.01191 7.375 6.80566V4.93066H9.25C9.45625 4.93066 9.625 4.76191 9.625 4.55566C9.625 4.34941 9.45625 4.18066 9.25 4.18066H7.375V2.30566C7.375 2.09941 7.20625 1.93066 7 1.93066C6.79375 1.93066 6.625 2.09941 6.625 2.30566V4.18066H4.75C4.54375 4.18066 4.375 4.34941 4.375 4.55566C4.375 4.76191 4.54375 4.93066 4.75 4.93066Z' fill='%23616161' stroke='%23616161' stroke-width='0.7'/%3e %3c/g%3e %3cpath class='jp-icon3' fill-rule='evenodd' clip-rule='evenodd' d='M11.5 9.5V11.5L2.5 11.5V9.5L11.5 9.5ZM12 8C12.5523 8 13 8.44772 13 9V12C13 12.5523 12.5523 13 12 13L2 13C1.44772 13 1 12.5523 1 12V9C1 8.44772 1.44771 8 2 8L12 8Z' fill='%23616161'/%3e %3cdefs%3e %3cclipPath id='clip0_137_19492'%3e %3crect class='jp-icon3' width='6' height='6' fill='white' transform='matrix(-1 0 0 1 10 1.55566)'/%3e %3c/clipPath%3e %3c/defs%3e %3c/svg%3e");
  --jp-icon-add-below: url("data:image/svg+xml,%3csvg width='14' height='14' viewBox='0 0 14 14' fill='none' xmlns='http://www.w3.org/2000/svg'%3e %3cg clip-path='url(%23clip0_137_19498)'%3e %3cpath class='jp-icon3' d='M9.25 10.0693L7.375 10.0693L7.375 8.19434C7.375 7.98809 7.20625 7.81934 7 7.81934C6.79375 7.81934 6.625 7.98809 6.625 8.19434L6.625 10.0693L4.75 10.0693C4.54375 10.0693 4.375 10.2381 4.375 10.4443C4.375 10.6506 4.54375 10.8193 4.75 10.8193L6.625 10.8193L6.625 12.6943C6.625 12.9006 6.79375 13.0693 7 13.0693C7.20625 13.0693 7.375 12.9006 7.375 12.6943L7.375 10.8193L9.25 10.8193C9.45625 10.8193 9.625 10.6506 9.625 10.4443C9.625 10.2381 9.45625 10.0693 9.25 10.0693Z' fill='%23616161' stroke='%23616161' stroke-width='0.7'/%3e %3c/g%3e %3cpath class='jp-icon3' fill-rule='evenodd' clip-rule='evenodd' d='M2.5 5.5L2.5 3.5L11.5 3.5L11.5 5.5L2.5 5.5ZM2 7C1.44772 7 1 6.55228 1 6L1 3C1 2.44772 1.44772 2 2 2L12 2C12.5523 2 13 2.44772 13 3L13 6C13 6.55229 12.5523 7 12 7L2 7Z' fill='%23616161'/%3e %3cdefs%3e %3cclipPath id='clip0_137_19498'%3e %3crect class='jp-icon3' width='6' height='6' fill='white' transform='matrix(1 1.74846e-07 1.74846e-07 -1 4 13.4443)'/%3e %3c/clipPath%3e %3c/defs%3e %3c/svg%3e");
  --jp-icon-add: url("data:image/svg+xml,%3csvg xmlns='http://www.w3.org/2000/svg' width='16' viewBox='0 0 24 24'%3e %3cg class='jp-icon3' fill='%23616161'%3e %3cpath d='M19 13h-6v6h-2v-6H5v-2h6V5h2v6h6v2z'/%3e %3c/g%3e %3c/svg%3e");
  --jp-icon-bell: url("data:image/svg+xml,%3csvg xmlns='http://www.w3.org/2000/svg' width='16' viewBox='0 0 16 16' version='1.1'%3e %3cpath class='jp-icon2 jp-icon-selectable' fill='%23333333' d='m8 0.29c-1.4 0-2.7 0.73-3.6 1.8-1.2 1.5-1.4 3.4-1.5 5.2-0.18 2.2-0.44 4-2.3 5.3l0.28 1.3h5c0.026 0.66 0.32 1.1 0.71 1.5 0.84 0.61 2 0.61 2.8 0 0.52-0.4 0.6-1 0.71-1.5h5l0.28-1.3c-1.9-0.97-2.2-3.3-2.3-5.3-0.13-1.8-0.26-3.7-1.5-5.2-0.85-1-2.2-1.8-3.6-1.8zm0 1.4c0.88 0 1.9 0.55 2.5 1.3 0.88 1.1 1.1 2.7 1.2 4.4 0.13 1.7 0.23 3.6 1.3 5.2h-10c1.1-1.6 1.2-3.4 1.3-5.2 0.13-1.7 0.3-3.3 1.2-4.4 0.59-0.72 1.6-1.3 2.5-1.3zm-0.74 12h1.5c-0.0015 0.28 0.015 0.79-0.74 0.79-0.73 0.0016-0.72-0.53-0.74-0.79z' /%3e %3c/svg%3e");
  --jp-icon-bug-dot: url("data:image/svg+xml,%3csvg width='24' height='24' viewBox='0 0 24 24' fill='none' xmlns='http://www.w3.org/2000/svg'%3e %3cg class='jp-icon3 jp-icon-selectable' fill='%23616161'%3e %3cpath fill-rule='evenodd' clip-rule='evenodd' d='M17.19 8H20V10H17.91C17.96 10.33 18 10.66 18 11V12H20V14H18.5H18V14.0275C15.75 14.2762 14 16.1837 14 18.5C14 19.208 14.1635 19.8779 14.4549 20.4739C13.7063 20.8117 12.8757 21 12 21C9.78 21 7.85 19.79 6.81 18H4V16H6.09C6.04 15.67 6 15.34 6 15V14H4V12H6V11C6 10.66 6.04 10.33 6.09 10H4V8H6.81C7.26 7.22 7.88 6.55 8.62 6.04L7 4.41L8.41 3L10.59 5.17C11.04 5.06 11.51 5 12 5C12.49 5 12.96 5.06 13.42 5.17L15.59 3L17 4.41L15.37 6.04C16.12 6.55 16.74 7.22 17.19 8ZM10 16H14V14H10V16ZM10 12H14V10H10V12Z' fill='%23616161'/%3e %3cpath d='M22 18.5C22 20.433 20.433 22 18.5 22C16.567 22 15 20.433 15 18.5C15 16.567 16.567 15 18.5 15C20.433 15 22 16.567 22 18.5Z' fill='%23616161'/%3e %3c/g%3e %3c/svg%3e");
  --jp-icon-bug: url("data:image/svg+xml,%3csvg viewBox='0 0 24 24' width='16' xmlns='http://www.w3.org/2000/svg'%3e %3cg class='jp-icon3 jp-icon-selectable' fill='%23616161'%3e %3cpath d='M20 8h-2.81c-.45-.78-1.07-1.45-1.82-1.96L17 4.41 15.59 3l-2.17 2.17C12.96 5.06 12.49 5 12 5c-.49 0-.96.06-1.41.17L8.41 3 7 4.41l1.62 1.63C7.88 6.55 7.26 7.22 6.81 8H4v2h2.09c-.05.33-.09.66-.09 1v1H4v2h2v1c0 .34.04.67.09 1H4v2h2.81c1.04 1.79 2.97 3 5.19 3s4.15-1.21 5.19-3H20v-2h-2.09c.05-.33.09-.66.09-1v-1h2v-2h-2v-1c0-.34-.04-.67-.09-1H20V8zm-6 8h-4v-2h4v2zm0-4h-4v-2h4v2z'/%3e %3c/g%3e %3c/svg%3e");
  --jp-icon-build: url("data:image/svg+xml,%3csvg width='16' viewBox='0 0 24 24' xmlns='http://www.w3.org/2000/svg'%3e %3cg class='jp-icon3' fill='%23616161'%3e %3cpath d='M14.9 17.45C16.25 17.45 17.35 16.35 17.35 15C17.35 13.65 16.25 12.55 14.9 12.55C13.54 12.55 12.45 13.65 12.45 15C12.45 16.35 13.54 17.45 14.9 17.45ZM20.1 15.68L21.58 16.84C21.71 16.95 21.75 17.13 21.66 17.29L20.26 19.71C20.17 19.86 20 19.92 19.83 19.86L18.09 19.16C17.73 19.44 17.33 19.67 16.91 19.85L16.64 21.7C16.62 21.87 16.47 22 16.3 22H13.5C13.32 22 13.18 21.87 13.15 21.7L12.89 19.85C12.46 19.67 12.07 19.44 11.71 19.16L9.96002 19.86C9.81002 19.92 9.62002 19.86 9.54002 19.71L8.14002 17.29C8.05002 17.13 8.09002 16.95 8.22002 16.84L9.70002 15.68L9.65001 15L9.70002 14.31L8.22002 13.16C8.09002 13.05 8.05002 12.86 8.14002 12.71L9.54002 10.29C9.62002 10.13 9.81002 10.07 9.96002 10.13L11.71 10.84C12.07 10.56 12.46 10.32 12.89 10.15L13.15 8.28998C13.18 8.12998 13.32 7.99998 13.5 7.99998H16.3C16.47 7.99998 16.62 8.12998 16.64 8.28998L16.91 10.15C17.33 10.32 17.73 10.56 18.09 10.84L19.83 10.13C20 10.07 20.17 10.13 20.26 10.29L21.66 12.71C21.75 12.86 21.71 13.05 21.58 13.16L20.1 14.31L20.15 15L20.1 15.68Z'/%3e %3cpath d='M7.32966 7.44454C8.0831 7.00954 8.33932 6.05332 7.90432 5.29988C7.46932 4.54643 6.5081 4.28156 5.75466 4.71656C5.39176 4.92608 5.12695 5.27118 5.01849 5.67594C4.91004 6.08071 4.96682 6.51198 5.17634 6.87488C5.61134 7.62832 6.57622 7.87954 7.32966 7.44454ZM9.65718 4.79593L10.8672 4.95179C10.9628 4.97741 11.0402 5.07133 11.0382 5.18793L11.0388 6.98893C11.0455 7.10054 10.9616 7.19518 10.855 7.21054L9.66001 7.38083L9.23915 8.13188L9.66961 9.25745C9.70729 9.36271 9.66934 9.47699 9.57408 9.53199L8.01523 10.432C7.91131 10.492 7.79337 10.4677 7.72105 10.3824L6.98748 9.43188L6.10931 9.43083L5.34704 10.3905C5.28909 10.4702 5.17383 10.4905 5.07187 10.4339L3.51245 9.53293C3.41049 9.47633 3.37647 9.35741 3.41075 9.25679L3.86347 8.14093L3.61749 7.77488L3.42347 7.37883L2.23075 7.21297C2.12647 7.19235 2.04049 7.10342 2.04245 6.98682L2.04187 5.18582C2.04383 5.06922 2.11909 4.97958 2.21704 4.96922L3.42065 4.79393L3.86749 4.02788L3.41105 2.91731C3.37337 2.81204 3.41131 2.69776 3.51523 2.63776L5.07408 1.73776C5.16934 1.68276 5.28729 1.70704 5.35961 1.79231L6.11915 2.72788L6.98001 2.73893L7.72496 1.78922C7.79156 1.70458 7.91548 1.67922 8.00879 1.74082L9.56821 2.64182C9.67017 2.69842 9.71285 2.81234 9.68723 2.90797L9.21718 4.03383L9.46316 4.39988L9.65718 4.79593Z'/%3e %3c/g%3e %3c/svg%3e");
  --jp-icon-caret-down-empty-thin: url("data:image/svg+xml,%3csvg xmlns='http://www.w3.org/2000/svg' width='16' viewBox='0 0 20 20'%3e %3cg class='jp-icon3' fill='%23616161' shape-rendering='geometricPrecision'%3e %3cpolygon class='st1' points='9.9%2c13.6 3.6%2c7.4 4.4%2c6.6 9.9%2c12.2 15.4%2c6.7 16.1%2c7.4 '/%3e %3c/g%3e %3c/svg%3e");
  --jp-icon-caret-down-empty: url("data:image/svg+xml,%3csvg xmlns='http://www.w3.org/2000/svg' width='16' viewBox='0 0 18 18'%3e %3cg class='jp-icon3' fill='%23616161' shape-rendering='geometricPrecision'%3e %3cpath d='M5.2%2c5.9L9%2c9.7l3.8-3.8l1.2%2c1.2l-4.9%2c5l-4.9-5L5.2%2c5.9z'/%3e %3c/g%3e %3c/svg%3e");
  --jp-icon-caret-down: url("data:image/svg+xml,%3csvg xmlns='http://www.w3.org/2000/svg' width='16' viewBox='0 0 18 18'%3e %3cg class='jp-icon3' fill='%23616161' shape-rendering='geometricPrecision'%3e %3cpath d='M5.2%2c7.5L9%2c11.2l3.8-3.8H5.2z'/%3e %3c/g%3e %3c/svg%3e");
  --jp-icon-caret-left: url("data:image/svg+xml,%3csvg xmlns='http://www.w3.org/2000/svg' width='16' viewBox='0 0 18 18'%3e %3cg class='jp-icon3' fill='%23616161' shape-rendering='geometricPrecision'%3e %3cpath d='M10.8%2c12.8L7.1%2c9l3.8-3.8l0%2c7.6H10.8z'/%3e %3c/g%3e %3c/svg%3e");
  --jp-icon-caret-right: url("data:image/svg+xml,%3csvg xmlns='http://www.w3.org/2000/svg' width='16' viewBox='0 0 18 18'%3e %3cg class='jp-icon3' fill='%23616161' shape-rendering='geometricPrecision'%3e %3cpath d='M7.2%2c5.2L10.9%2c9l-3.8%2c3.8V5.2H7.2z'/%3e %3c/g%3e %3c/svg%3e");
  --jp-icon-caret-up-empty-thin: url("data:image/svg+xml,%3csvg xmlns='http://www.w3.org/2000/svg' width='16' viewBox='0 0 20 20'%3e %3cg class='jp-icon3' fill='%23616161' shape-rendering='geometricPrecision'%3e %3cpolygon class='st1' points='15.4%2c13.3 9.9%2c7.7 4.4%2c13.2 3.6%2c12.5 9.9%2c6.3 16.1%2c12.6 '/%3e %3c/g%3e %3c/svg%3e");
  --jp-icon-caret-up: url("data:image/svg+xml,%3csvg xmlns='http://www.w3.org/2000/svg' width='16' viewBox='0 0 18 18'%3e %3cg class='jp-icon3' fill='%23616161' shape-rendering='geometricPrecision'%3e %3cpath d='M5.2%2c10.5L9%2c6.8l3.8%2c3.8H5.2z'/%3e %3c/g%3e %3c/svg%3e");
  --jp-icon-case-sensitive: url("data:image/svg+xml,%3csvg xmlns='http://www.w3.org/2000/svg' width='16' viewBox='0 0 20 20'%3e %3cg class='jp-icon2' fill='%23414141'%3e %3crect x='2' y='2' width='16' height='16'/%3e %3c/g%3e %3cg class='jp-icon-accent2' fill='white'%3e %3cpath d='M7.6%2c8h0.9l3.5%2c8h-1.1L10%2c14H6l-0.9%2c2H4L7.6%2c8z M8%2c9.1L6.4%2c13h3.2L8%2c9.1z'/%3e %3cpath d='M16.6%2c9.8c-0.2%2c0.1-0.4%2c0.1-0.7%2c0.1c-0.2%2c0-0.4-0.1-0.6-0.2c-0.1-0.1-0.2-0.4-0.2-0.7 c-0.3%2c0.3-0.6%2c0.5-0.9%2c0.7c-0.3%2c0.1-0.7%2c0.2-1.1%2c0.2c-0.3%2c0-0.5%2c0-0.7-0.1c-0.2-0.1-0.4-0.2-0.6-0.3c-0.2-0.1-0.3-0.3-0.4-0.5 c-0.1-0.2-0.1-0.4-0.1-0.7c0-0.3%2c0.1-0.6%2c0.2-0.8c0.1-0.2%2c0.3-0.4%2c0.4-0.5C12%2c7%2c12.2%2c6.9%2c12.5%2c6.8c0.2-0.1%2c0.5-0.1%2c0.7-0.2 c0.3-0.1%2c0.5-0.1%2c0.7-0.1c0.2%2c0%2c0.4-0.1%2c0.6-0.1c0.2%2c0%2c0.3-0.1%2c0.4-0.2c0.1-0.1%2c0.2-0.2%2c0.2-0.4c0-1-1.1-1-1.3-1 c-0.4%2c0-1.4%2c0-1.4%2c1.2h-0.9c0-0.4%2c0.1-0.7%2c0.2-1c0.1-0.2%2c0.3-0.4%2c0.5-0.6c0.2-0.2%2c0.5-0.3%2c0.8-0.3C13.3%2c4%2c13.6%2c4%2c13.9%2c4 c0.3%2c0%2c0.5%2c0%2c0.8%2c0.1c0.3%2c0%2c0.5%2c0.1%2c0.7%2c0.2c0.2%2c0.1%2c0.4%2c0.3%2c0.5%2c0.5C16%2c5%2c16%2c5.2%2c16%2c5.6v2.9c0%2c0.2%2c0%2c0.4%2c0%2c0.5 c0%2c0.1%2c0.1%2c0.2%2c0.3%2c0.2c0.1%2c0%2c0.2%2c0%2c0.3%2c0V9.8z M15.2%2c6.9c-1.2%2c0.6-3.1%2c0.2-3.1%2c1.4c0%2c1.4%2c3.1%2c1%2c3.1-0.5V6.9z'/%3e %3c/g%3e %3c/svg%3e");
  --jp-icon-check: url("data:image/svg+xml,%3csvg xmlns='http://www.w3.org/2000/svg' width='16' viewBox='0 0 24 24'%3e %3cg class='jp-icon3 jp-icon-selectable' fill='%23616161'%3e %3cpath d='M9 16.17L4.83 12l-1.42 1.41L9 19 21 7l-1.41-1.41z'/%3e %3c/g%3e %3c/svg%3e");
  --jp-icon-circle-empty: url("data:image/svg+xml,%3csvg xmlns='http://www.w3.org/2000/svg' width='16' viewBox='0 0 24 24'%3e %3cg class='jp-icon3' fill='%23616161'%3e %3cpath d='M12 2C6.47 2 2 6.47 2 12s4.47 10 10 10 10-4.47 10-10S17.53 2 12 2zm0 18c-4.41 0-8-3.59-8-8s3.59-8 8-8 8 3.59 8 8-3.59 8-8 8z'/%3e %3c/g%3e %3c/svg%3e");
  --jp-icon-circle: url("data:image/svg+xml,%3csvg viewBox='0 0 18 18' width='16' xmlns='http://www.w3.org/2000/svg'%3e %3cg class='jp-icon3' fill='%23616161'%3e %3ccircle cx='9' cy='9' r='8'/%3e %3c/g%3e %3c/svg%3e");
  --jp-icon-clear: url("data:image/svg+xml,%3csvg xmlns='http://www.w3.org/2000/svg' width='16' viewBox='0 0 24 24'%3e %3cmask id='donutHole'%3e %3crect width='24' height='24' fill='white' /%3e %3ccircle cx='12' cy='12' r='8' fill='black'/%3e %3c/mask%3e %3cg class='jp-icon3' fill='%23616161'%3e %3crect height='18' width='2' x='11' y='3' transform='rotate(315%2c 12%2c 12)'/%3e %3ccircle cx='12' cy='12' r='10' mask='url(%23donutHole)'/%3e %3c/g%3e %3c/svg%3e");
  --jp-icon-close: url("data:image/svg+xml,%3csvg viewBox='0 0 24 24' width='16' xmlns='http://www.w3.org/2000/svg'%3e %3cg class='jp-icon-none jp-icon-selectable-inverse jp-icon3-hover' fill='none'%3e %3ccircle cx='12' cy='12' r='11'/%3e %3c/g%3e %3cg class='jp-icon3 jp-icon-selectable jp-icon-accent2-hover' fill='%23616161'%3e %3cpath d='M19 6.41L17.59 5 12 10.59 6.41 5 5 6.41 10.59 12 5 17.59 6.41 19 12 13.41 17.59 19 19 17.59 13.41 12z'/%3e %3c/g%3e %3cg class='jp-icon-none jp-icon-busy' fill='none'%3e %3ccircle cx='12' cy='12' r='7'/%3e %3c/g%3e %3c/svg%3e");
  --jp-icon-code-check: url("data:image/svg+xml,%3csvg xmlns='http://www.w3.org/2000/svg' width='24' viewBox='0 0 24 24'%3e %3cg class='jp-icon3 jp-icon-selectable' fill='%23616161' shape-rendering='geometricPrecision'%3e %3cpath d='M6.59%2c3.41L2%2c8L6.59%2c12.6L8%2c11.18L4.82%2c8L8%2c4.82L6.59%2c3.41M12.41%2c3.41L11%2c4.82L14.18%2c8L11%2c11.18L12.41%2c12.6L17%2c8L12.41%2c3.41M21.59%2c11.59L13.5%2c19.68L9.83%2c16L8.42%2c17.41L13.5%2c22.5L23%2c13L21.59%2c11.59Z' /%3e %3c/g%3e %3c/svg%3e");
  --jp-icon-code: url("data:image/svg+xml,%3csvg width='22' height='22' viewBox='0 0 28 28' xmlns='http://www.w3.org/2000/svg'%3e %3cg class='jp-icon3' fill='%23616161'%3e %3cpath d='M11.4 18.6L6.8 14L11.4 9.4L10 8L4 14L10 20L11.4 18.6ZM16.6 18.6L21.2 14L16.6 9.4L18 8L24 14L18 20L16.6 18.6V18.6Z'/%3e %3c/g%3e %3c/svg%3e");
  --jp-icon-collapse-all: url("data:image/svg+xml,%3csvg xmlns='http://www.w3.org/2000/svg' width='16' viewBox='0 0 24 24'%3e %3cg class='jp-icon3' fill='%23616161'%3e %3cpath d='M8 2c1 0 11 0 12 0s2 1 2 2c0 1 0 11 0 12s0 2-2 2C20 14 20 4 20 4S10 4 6 4c0-2 1-2 2-2z' /%3e %3cpath d='M18 8c0-1-1-2-2-2S5 6 4 6s-2 1-2 2c0 1 0 11 0 12s1 2 2 2c1 0 11 0 12 0s2-1 2-2c0-1 0-11 0-12zm-2 0v12H4V8z' /%3e %3cpath d='M6 13v2h8v-2z' /%3e %3c/g%3e %3c/svg%3e");
  --jp-icon-console: url("data:image/svg+xml,%3csvg xmlns='http://www.w3.org/2000/svg' width='16' viewBox='0 0 200 200'%3e %3cg class='jp-console-icon-background-color jp-icon-selectable' fill='%230288D1'%3e %3cpath d='M20 19.8h160v159.9H20z'/%3e %3c/g%3e %3cg class='jp-console-icon-color jp-icon-selectable-inverse' fill='white'%3e %3cpath d='M105 127.3h40v12.8h-40zM51.1 77L74 99.9l-23.3 23.3 10.5 10.5 23.3-23.3L95 99.9 84.5 89.4 61.6 66.5z'/%3e %3c/g%3e %3c/svg%3e");
  --jp-icon-copy: url("data:image/svg+xml,%3csvg viewBox='0 0 18 18' width='16' xmlns='http://www.w3.org/2000/svg'%3e %3cg class='jp-icon3' fill='%23616161'%3e %3cpath d='M11.9%2c1H3.2C2.4%2c1%2c1.7%2c1.7%2c1.7%2c2.5v10.2h1.5V2.5h8.7V1z M14.1%2c3.9h-8c-0.8%2c0-1.5%2c0.7-1.5%2c1.5v10.2c0%2c0.8%2c0.7%2c1.5%2c1.5%2c1.5h8 c0.8%2c0%2c1.5-0.7%2c1.5-1.5V5.4C15.5%2c4.6%2c14.9%2c3.9%2c14.1%2c3.9z M14.1%2c15.5h-8V5.4h8V15.5z'/%3e %3c/g%3e %3c/svg%3e");
  --jp-icon-copyright: url("data:image/svg+xml,%3csvg xmlns='http://www.w3.org/2000/svg' enable-background='new 0 0 24 24' height='24' viewBox='0 0 24 24' width='24'%3e %3cg class='jp-icon3' fill='%23616161'%3e %3cpath d='M11.88%2c9.14c1.28%2c0.06%2c1.61%2c1.15%2c1.63%2c1.66h1.79c-0.08-1.98-1.49-3.19-3.45-3.19C9.64%2c7.61%2c8%2c9%2c8%2c12.14 c0%2c1.94%2c0.93%2c4.24%2c3.84%2c4.24c2.22%2c0%2c3.41-1.65%2c3.44-2.95h-1.79c-0.03%2c0.59-0.45%2c1.38-1.63%2c1.44C10.55%2c14.83%2c10%2c13.81%2c10%2c12.14 C10%2c9.25%2c11.28%2c9.16%2c11.88%2c9.14z M12%2c2C6.48%2c2%2c2%2c6.48%2c2%2c12s4.48%2c10%2c10%2c10s10-4.48%2c10-10S17.52%2c2%2c12%2c2z M12%2c20c-4.41%2c0-8-3.59-8-8 s3.59-8%2c8-8s8%2c3.59%2c8%2c8S16.41%2c20%2c12%2c20z'/%3e %3c/g%3e %3c/svg%3e");
  --jp-icon-cut: url("data:image/svg+xml,%3csvg viewBox='0 0 24 24' width='16' xmlns='http://www.w3.org/2000/svg'%3e %3cg class='jp-icon3' fill='%23616161'%3e %3cpath d='M9.64 7.64c.23-.5.36-1.05.36-1.64 0-2.21-1.79-4-4-4S2 3.79 2 6s1.79 4 4 4c.59 0 1.14-.13 1.64-.36L10 12l-2.36 2.36C7.14 14.13 6.59 14 6 14c-2.21 0-4 1.79-4 4s1.79 4 4 4 4-1.79 4-4c0-.59-.13-1.14-.36-1.64L12 14l7 7h3v-1L9.64 7.64zM6 8c-1.1 0-2-.89-2-2s.9-2 2-2 2 .89 2 2-.9 2-2 2zm0 12c-1.1 0-2-.89-2-2s.9-2 2-2 2 .89 2 2-.9 2-2 2zm6-7.5c-.28 0-.5-.22-.5-.5s.22-.5.5-.5.5.22.5.5-.22.5-.5.5zM19 3l-6 6 2 2 7-7V3z'/%3e %3c/g%3e %3c/svg%3e");
  --jp-icon-delete: url("data:image/svg+xml,%3csvg xmlns='http://www.w3.org/2000/svg' viewBox='0 0 24 24' width='16px' height='16px'%3e %3cpath d='M0 0h24v24H0z' fill='none' /%3e %3cpath class='jp-icon3' fill='%23626262' d='M6 19c0 1.1.9 2 2 2h8c1.1 0 2-.9 2-2V7H6v12zM19 4h-3.5l-1-1h-5l-1 1H5v2h14V4z' /%3e %3c/svg%3e");
  --jp-icon-download: url("data:image/svg+xml,%3csvg viewBox='0 0 24 24' width='16' xmlns='http://www.w3.org/2000/svg'%3e %3cg class='jp-icon3' fill='%23616161'%3e %3cpath d='M19 9h-4V3H9v6H5l7 7 7-7zM5 18v2h14v-2H5z'/%3e %3c/g%3e %3c/svg%3e");
  --jp-icon-duplicate: url("data:image/svg+xml,%3csvg width='14' height='14' viewBox='0 0 14 14' fill='none' xmlns='http://www.w3.org/2000/svg'%3e %3cpath class='jp-icon3' fill-rule='evenodd' clip-rule='evenodd' d='M2.79998 0.875H8.89582C9.20061 0.875 9.44998 1.13914 9.44998 1.46198C9.44998 1.78482 9.20061 2.04896 8.89582 2.04896H3.35415C3.04936 2.04896 2.79998 2.3131 2.79998 2.63594V9.67969C2.79998 10.0025 2.55061 10.2667 2.24582 10.2667C1.94103 10.2667 1.69165 10.0025 1.69165 9.67969V2.04896C1.69165 1.40328 2.1904 0.875 2.79998 0.875ZM5.36665 11.9V4.55H11.0833V11.9H5.36665ZM4.14165 4.14167C4.14165 3.69063 4.50728 3.325 4.95832 3.325H11.4917C11.9427 3.325 12.3083 3.69063 12.3083 4.14167V12.3083C12.3083 12.7594 11.9427 13.125 11.4917 13.125H4.95832C4.50728 13.125 4.14165 12.7594 4.14165 12.3083V4.14167Z' fill='%23616161'/%3e %3cpath class='jp-icon3' d='M9.43574 8.26507H8.36431V9.3365C8.36431 9.45435 8.26788 9.55078 8.15002 9.55078C8.03217 9.55078 7.93574 9.45435 7.93574 9.3365V8.26507H6.86431C6.74645 8.26507 6.65002 8.16864 6.65002 8.05078C6.65002 7.93292 6.74645 7.8365 6.86431 7.8365H7.93574V6.76507C7.93574 6.64721 8.03217 6.55078 8.15002 6.55078C8.26788 6.55078 8.36431 6.64721 8.36431 6.76507V7.8365H9.43574C9.5536 7.8365 9.65002 7.93292 9.65002 8.05078C9.65002 8.16864 9.5536 8.26507 9.43574 8.26507Z' fill='%23616161' stroke='%23616161' stroke-width='0.5'/%3e %3c/svg%3e");
  --jp-icon-edit: url("data:image/svg+xml,%3csvg viewBox='0 0 24 24' width='16' xmlns='http://www.w3.org/2000/svg'%3e %3cg class='jp-icon3' fill='%23616161'%3e %3cpath d='M3 17.25V21h3.75L17.81 9.94l-3.75-3.75L3 17.25zM20.71 7.04c.39-.39.39-1.02 0-1.41l-2.34-2.34c-.39-.39-1.02-.39-1.41 0l-1.83 1.83 3.75 3.75 1.83-1.83z'/%3e %3c/g%3e %3c/svg%3e");
  --jp-icon-ellipses: url("data:image/svg+xml,%3csvg viewBox='0 0 24 24' width='16' xmlns='http://www.w3.org/2000/svg'%3e %3cg class='jp-icon3' fill='%23616161'%3e %3ccircle cx='5' cy='12' r='2'/%3e %3ccircle cx='12' cy='12' r='2'/%3e %3ccircle cx='19' cy='12' r='2'/%3e %3c/g%3e %3c/svg%3e");
  --jp-icon-error: url("data:image/svg+xml,%3csvg xmlns='http://www.w3.org/2000/svg' width='16' viewBox='0 0 24 24'%3e %3cg class='jp-icon3' fill='%23616161'%3e%3ccircle cx='12' cy='19' r='2'/%3e%3cpath d='M10 3h4v12h-4z'/%3e%3c/g%3e %3cpath fill='none' d='M0 0h24v24H0z'/%3e %3c/svg%3e");
  --jp-icon-expand-all: url("data:image/svg+xml,%3csvg xmlns='http://www.w3.org/2000/svg' width='16' viewBox='0 0 24 24'%3e %3cg class='jp-icon3' fill='%23616161'%3e %3cpath d='M8 2c1 0 11 0 12 0s2 1 2 2c0 1 0 11 0 12s0 2-2 2C20 14 20 4 20 4S10 4 6 4c0-2 1-2 2-2z' /%3e %3cpath d='M18 8c0-1-1-2-2-2S5 6 4 6s-2 1-2 2c0 1 0 11 0 12s1 2 2 2c1 0 11 0 12 0s2-1 2-2c0-1 0-11 0-12zm-2 0v12H4V8z' /%3e %3cpath d='M11 10H9v3H6v2h3v3h2v-3h3v-2h-3z' /%3e %3c/g%3e %3c/svg%3e");
  --jp-icon-extension: url("data:image/svg+xml,%3csvg xmlns='http://www.w3.org/2000/svg' width='16' viewBox='0 0 24 24'%3e %3cg class='jp-icon3' fill='%23616161'%3e %3cpath d='M20.5 11H19V7c0-1.1-.9-2-2-2h-4V3.5C13 2.12 11.88 1 10.5 1S8 2.12 8 3.5V5H4c-1.1 0-1.99.9-1.99 2v3.8H3.5c1.49 0 2.7 1.21 2.7 2.7s-1.21 2.7-2.7 2.7H2V20c0 1.1.9 2 2 2h3.8v-1.5c0-1.49 1.21-2.7 2.7-2.7 1.49 0 2.7 1.21 2.7 2.7V22H17c1.1 0 2-.9 2-2v-4h1.5c1.38 0 2.5-1.12 2.5-2.5S21.88 11 20.5 11z'/%3e %3c/g%3e %3c/svg%3e");
  --jp-icon-fast-forward: url("data:image/svg+xml,%3csvg xmlns='http://www.w3.org/2000/svg' width='24' height='24' viewBox='0 0 24 24'%3e %3cg class='jp-icon3' fill='%23616161'%3e %3cpath d='M4 18l8.5-6L4 6v12zm9-12v12l8.5-6L13 6z'/%3e %3c/g%3e %3c/svg%3e");
  --jp-icon-file-upload: url("data:image/svg+xml,%3csvg xmlns='http://www.w3.org/2000/svg' width='16' viewBox='0 0 24 24'%3e %3cg class='jp-icon3' fill='%23616161'%3e %3cpath d='M9 16h6v-6h4l-7-7-7 7h4zm-4 2h14v2H5z'/%3e %3c/g%3e %3c/svg%3e");
  --jp-icon-file: url("data:image/svg+xml,%3csvg xmlns='http://www.w3.org/2000/svg' width='16' viewBox='0 0 22 22'%3e %3cpath class='jp-icon3 jp-icon-selectable' fill='%23616161' d='M19.3 8.2l-5.5-5.5c-.3-.3-.7-.5-1.2-.5H3.9c-.8.1-1.6.9-1.6 1.8v14.1c0 .9.7 1.6 1.6 1.6h14.2c.9 0 1.6-.7 1.6-1.6V9.4c.1-.5-.1-.9-.4-1.2zm-5.8-3.3l3.4 3.6h-3.4V4.9zm3.9 12.7H4.7c-.1 0-.2 0-.2-.2V4.7c0-.2.1-.3.2-.3h7.2v4.4s0 .8.3 1.1c.3.3 1.1.3 1.1.3h4.3v7.2s-.1.2-.2.2z'/%3e %3c/svg%3e");
  --jp-icon-filter-dot: url("data:image/svg+xml,%3csvg xmlns='http://www.w3.org/2000/svg' width='16' viewBox='0 0 24 24'%3e %3cg class='jp-icon3' fill='white'%3e %3cpath d='M14%2c12V19.88C14.04%2c20.18 13.94%2c20.5 13.71%2c20.71C13.32%2c21.1 12.69%2c21.1 12.3%2c20.71L10.29%2c18.7C10.06%2c18.47 9.96%2c18.16 10%2c17.87V12H9.97L4.21%2c4.62C3.87%2c4.19 3.95%2c3.56 4.38%2c3.22C4.57%2c3.08 4.78%2c3 5%2c3V3H19V3C19.22%2c3 19.43%2c3.08 19.62%2c3.22C20.05%2c3.56 20.13%2c4.19 19.79%2c4.62L14.03%2c12H14Z' /%3e %3c/g%3e %3cg class='jp-icon-dot' fill='white'%3e %3ccircle cx='18' cy='17' r='3'%3e%3c/circle%3e %3c/g%3e %3c/svg%3e");
  --jp-icon-filter-list: url("data:image/svg+xml,%3csvg xmlns='http://www.w3.org/2000/svg' width='16' viewBox='0 0 24 24'%3e %3cg class='jp-icon3' fill='%23616161'%3e %3cpath d='M10 18h4v-2h-4v2zM3 6v2h18V6H3zm3 7h12v-2H6v2z'/%3e %3c/g%3e %3c/svg%3e");
  --jp-icon-filter: url("data:image/svg+xml,%3csvg xmlns='http://www.w3.org/2000/svg' width='16' viewBox='0 0 24 24'%3e %3cg class='jp-icon3' fill='white'%3e %3cpath d='M14%2c12V19.88C14.04%2c20.18 13.94%2c20.5 13.71%2c20.71C13.32%2c21.1 12.69%2c21.1 12.3%2c20.71L10.29%2c18.7C10.06%2c18.47 9.96%2c18.16 10%2c17.87V12H9.97L4.21%2c4.62C3.87%2c4.19 3.95%2c3.56 4.38%2c3.22C4.57%2c3.08 4.78%2c3 5%2c3V3H19V3C19.22%2c3 19.43%2c3.08 19.62%2c3.22C20.05%2c3.56 20.13%2c4.19 19.79%2c4.62L14.03%2c12H14Z' /%3e %3c/g%3e %3c/svg%3e");
  --jp-icon-folder-favorite: url("data:image/svg+xml,%3csvg xmlns='http://www.w3.org/2000/svg' height='24px' viewBox='0 0 24 24' width='24px' fill='black'%3e %3cpath d='M0 0h24v24H0V0z' fill='none'/%3e%3cpath class='jp-icon3 jp-icon-selectable' fill='%23616161' d='M20 6h-8l-2-2H4c-1.1 0-2 .9-2 2v12c0 1.1.9 2 2 2h16c1.1 0 2-.9 2-2V8c0-1.1-.9-2-2-2zm-2.06 11L15 15.28 12.06 17l.78-3.33-2.59-2.24 3.41-.29L15 8l1.34 3.14 3.41.29-2.59 2.24.78 3.33z'/%3e %3c/svg%3e");
  --jp-icon-folder: url("data:image/svg+xml,%3csvg xmlns='http://www.w3.org/2000/svg' width='16' viewBox='0 0 24 24'%3e %3cpath class='jp-icon3 jp-icon-selectable' fill='%23616161' d='M10 4H4c-1.1 0-1.99.9-1.99 2L2 18c0 1.1.9 2 2 2h16c1.1 0 2-.9 2-2V8c0-1.1-.9-2-2-2h-8l-2-2z'/%3e %3c/svg%3e");
  --jp-icon-home: url("data:image/svg+xml,%3csvg xmlns='http://www.w3.org/2000/svg' height='24px' viewBox='0 0 24 24' width='24px' fill='black'%3e %3cpath d='M0 0h24v24H0z' fill='none'/%3e%3cpath class='jp-icon3 jp-icon-selectable' fill='%23616161' d='M10 20v-6h4v6h5v-8h3L12 3 2 12h3v8z'/%3e %3c/svg%3e");
  --jp-icon-html5: url("data:image/svg+xml,%3csvg xmlns='http://www.w3.org/2000/svg' width='16' viewBox='0 0 512 512'%3e %3cpath class='jp-icon0 jp-icon-selectable' fill='black' d='M108.4 0h23v22.8h21.2V0h23v69h-23V46h-21v23h-23.2M206 23h-20.3V0h63.7v23H229v46h-23m53.5-69h24.1l14.8 24.3L313.2 0h24.1v69h-23V34.8l-16.1 24.8-16.1-24.8V69h-22.6m89.2-69h23v46.2h32.6V69h-55.6'/%3e %3cpath class='jp-icon-selectable' fill='%23e44d26' d='M107.6 471l-33-370.4h362.8l-33 370.2L255.7 512'/%3e %3cpath class='jp-icon-selectable' fill='%23f16529' d='M256 480.5V131h148.3L376 447'/%3e %3cpath class='jp-icon-selectable-inverse' fill='%23ebebeb' d='M142 176.3h114v45.4h-64.2l4.2 46.5h60v45.3H154.4m2 22.8H202l3.2 36.3 50.8 13.6v47.4l-93.2-26'/%3e %3cpath class='jp-icon-selectable-inverse' fill='white' d='M369.6 176.3H255.8v45.4h109.6m-4.1 46.5H255.8v45.4h56l-5.3 59-50.7 13.6v47.2l93-25.8'/%3e %3c/svg%3e");
  --jp-icon-image: url("data:image/svg+xml,%3csvg xmlns='http://www.w3.org/2000/svg' width='16' viewBox='0 0 22 22'%3e %3cpath class='jp-icon-brand4 jp-icon-selectable-inverse' fill='white' d='M2.2 2.2h17.5v17.5H2.2z'/%3e %3cpath class='jp-icon-brand0 jp-icon-selectable' fill='%233F51B5' d='M2.2 2.2v17.5h17.5l.1-17.5H2.2zm12.1 2.2c1.2 0 2.2 1 2.2 2.2s-1 2.2-2.2 2.2-2.2-1-2.2-2.2 1-2.2 2.2-2.2zM4.4 17.6l3.3-8.8 3.3 6.6 2.2-3.2 4.4 5.4H4.4z'/%3e %3c/svg%3e");
  --jp-icon-info: url("data:image/svg+xml,%3csvg xmlns='http://www.w3.org/2000/svg' width='16' viewBox='0 0 50.978 50.978'%3e %3cg class='jp-icon3' fill='%23616161'%3e %3cpath d='M43.52%2c7.458C38.711%2c2.648%2c32.307%2c0%2c25.489%2c0C18.67%2c0%2c12.266%2c2.648%2c7.458%2c7.458 c-9.943%2c9.941-9.943%2c26.119%2c0%2c36.062c4.809%2c4.809%2c11.212%2c7.456%2c18.031%2c7.458c0%2c0%2c0.001%2c0%2c0.002%2c0 c6.816%2c0%2c13.221-2.648%2c18.029-7.458c4.809-4.809%2c7.457-11.212%2c7.457-18.03C50.977%2c18.67%2c48.328%2c12.266%2c43.52%2c7.458z M42.106%2c42.105c-4.432%2c4.431-10.332%2c6.872-16.615%2c6.872h-0.002c-6.285-0.001-12.187-2.441-16.617-6.872 c-9.162-9.163-9.162-24.071%2c0-33.233C13.303%2c4.44%2c19.204%2c2%2c25.489%2c2c6.284%2c0%2c12.186%2c2.44%2c16.617%2c6.872 c4.431%2c4.431%2c6.871%2c10.332%2c6.871%2c16.617C48.977%2c31.772%2c46.536%2c37.675%2c42.106%2c42.105z'/%3e %3cpath d='M23.578%2c32.218c-0.023-1.734%2c0.143-3.059%2c0.496-3.972c0.353-0.913%2c1.11-1.997%2c2.272-3.253 c0.468-0.536%2c0.923-1.062%2c1.367-1.575c0.626-0.753%2c1.104-1.478%2c1.436-2.175c0.331-0.707%2c0.495-1.541%2c0.495-2.5 c0-1.096-0.26-2.088-0.779-2.979c-0.565-0.879-1.501-1.336-2.806-1.369c-1.802%2c0.057-2.985%2c0.667-3.55%2c1.832 c-0.301%2c0.535-0.503%2c1.141-0.607%2c1.814c-0.139%2c0.707-0.207%2c1.432-0.207%2c2.174h-2.937c-0.091-2.208%2c0.407-4.114%2c1.493-5.719 c1.062-1.64%2c2.855-2.481%2c5.378-2.527c2.16%2c0.023%2c3.874%2c0.608%2c5.141%2c1.758c1.278%2c1.16%2c1.929%2c2.764%2c1.95%2c4.811 c0%2c1.142-0.137%2c2.111-0.41%2c2.911c-0.309%2c0.845-0.731%2c1.593-1.268%2c2.243c-0.492%2c0.65-1.068%2c1.318-1.73%2c2.002 c-0.65%2c0.697-1.313%2c1.479-1.987%2c2.346c-0.239%2c0.377-0.429%2c0.777-0.565%2c1.199c-0.16%2c0.959-0.217%2c1.951-0.171%2c2.979 C26.589%2c32.218%2c23.578%2c32.218%2c23.578%2c32.218z M23.578%2c38.22v-3.484h3.076v3.484H23.578z'/%3e %3c/g%3e %3c/svg%3e");
  --jp-icon-inspector: url("data:image/svg+xml,%3csvg xmlns='http://www.w3.org/2000/svg' width='16' viewBox='0 0 24 24'%3e %3cpath class='jp-inspector-icon-color jp-icon-selectable' fill='%23616161' d='M20 4H4c-1.1 0-1.99.9-1.99 2L2 18c0 1.1.9 2 2 2h16c1.1 0 2-.9 2-2V6c0-1.1-.9-2-2-2zm-5 14H4v-4h11v4zm0-5H4V9h11v4zm5 5h-4V9h4v9z'/%3e %3c/svg%3e");
  --jp-icon-json: url("data:image/svg+xml,%3csvg xmlns='http://www.w3.org/2000/svg' width='16' viewBox='0 0 22 22'%3e %3cg class='jp-json-icon-color jp-icon-selectable' fill='%23F9A825'%3e %3cpath d='M20.2 11.8c-1.6 0-1.7.5-1.7 1 0 .4.1.9.1 1.3.1.5.1.9.1 1.3 0 1.7-1.4 2.3-3.5 2.3h-.9v-1.9h.5c1.1 0 1.4 0 1.4-.8 0-.3 0-.6-.1-1 0-.4-.1-.8-.1-1.2 0-1.3 0-1.8 1.3-2-1.3-.2-1.3-.7-1.3-2 0-.4.1-.8.1-1.2.1-.4.1-.7.1-1 0-.8-.4-.7-1.4-.8h-.5V4.1h.9c2.2 0 3.5.7 3.5 2.3 0 .4-.1.9-.1 1.3-.1.5-.1.9-.1 1.3 0 .5.2 1 1.7 1v1.8zM1.8 10.1c1.6 0 1.7-.5 1.7-1 0-.4-.1-.9-.1-1.3-.1-.5-.1-.9-.1-1.3 0-1.6 1.4-2.3 3.5-2.3h.9v1.9h-.5c-1 0-1.4 0-1.4.8 0 .3 0 .6.1 1 0 .2.1.6.1 1 0 1.3 0 1.8-1.3 2C6 11.2 6 11.7 6 13c0 .4-.1.8-.1 1.2-.1.3-.1.7-.1 1 0 .8.3.8 1.4.8h.5v1.9h-.9c-2.1 0-3.5-.6-3.5-2.3 0-.4.1-.9.1-1.3.1-.5.1-.9.1-1.3 0-.5-.2-1-1.7-1v-1.9z'/%3e %3ccircle cx='11' cy='13.8' r='2.1'/%3e %3ccircle cx='11' cy='8.2' r='2.1'/%3e %3c/g%3e %3c/svg%3e");
  --jp-icon-julia: url("data:image/svg+xml,%3csvg xmlns='http://www.w3.org/2000/svg' width='16' viewBox='0 0 325 300'%3e %3cg class='jp-brand0 jp-icon-selectable' fill='%23cb3c33'%3e %3cpath d='M 150.898438 225 C 150.898438 266.421875 117.320312 300 75.898438 300 C 34.476562 300 0.898438 266.421875 0.898438 225 C 0.898438 183.578125 34.476562 150 75.898438 150 C 117.320312 150 150.898438 183.578125 150.898438 225'/%3e %3c/g%3e %3cg class='jp-brand0 jp-icon-selectable' fill='%23389826'%3e %3cpath d='M 237.5 75 C 237.5 116.421875 203.921875 150 162.5 150 C 121.078125 150 87.5 116.421875 87.5 75 C 87.5 33.578125 121.078125 0 162.5 0 C 203.921875 0 237.5 33.578125 237.5 75'/%3e %3c/g%3e %3cg class='jp-brand0 jp-icon-selectable' fill='%239558b2'%3e %3cpath d='M 324.101562 225 C 324.101562 266.421875 290.523438 300 249.101562 300 C 207.679688 300 174.101562 266.421875 174.101562 225 C 174.101562 183.578125 207.679688 150 249.101562 150 C 290.523438 150 324.101562 183.578125 324.101562 225'/%3e %3c/g%3e %3c/svg%3e");
  --jp-icon-jupyter-favicon: url("data:image/svg+xml,%3csvg width='152' height='165' viewBox='0 0 152 165' version='1.1' xmlns='http://www.w3.org/2000/svg'%3e %3cg class='jp-jupyter-icon-color' fill='%23F37726'%3e %3cpath transform='translate(0.078947%2c 110.582927)' d='M75.9422842%2c29.5804561 C43.3023947%2c29.5804561 14.7967832%2c17.6534634 0%2c0 C5.51083211%2c15.8406829 15.7815389%2c29.5667732 29.3904947%2c39.2784171 C42.9997%2c48.9898537 59.2737%2c54.2067805 75.9605789%2c54.2067805 C92.6474579%2c54.2067805 108.921458%2c48.9898537 122.530663%2c39.2784171 C136.139453%2c29.5667732 146.410284%2c15.8406829 151.921158%2c0 C137.087868%2c17.6534634 108.582589%2c29.5804561 75.9422842%2c29.5804561 L75.9422842%2c29.5804561 Z' /%3e %3cpath transform='translate(0.037368%2c 0.704878)' d='M75.9784579%2c24.6264073 C108.618763%2c24.6264073 137.124458%2c36.5534415 151.921158%2c54.2067805 C146.410284%2c38.366222 136.139453%2c24.6401317 122.530663%2c14.9284878 C108.921458%2c5.2168439 92.6474579%2c0 75.9605789%2c0 C59.2737%2c0 42.9997%2c5.2168439 29.3904947%2c14.9284878 C15.7815389%2c24.6401317 5.51083211%2c38.366222 0%2c54.2067805 C14.8330816%2c36.5899293 43.3385684%2c24.6264073 75.9784579%2c24.6264073 L75.9784579%2c24.6264073 Z' /%3e %3c/g%3e %3c/svg%3e");
  --jp-icon-jupyter: url("data:image/svg+xml,%3csvg width='39' height='51' viewBox='0 0 39 51' xmlns='http://www.w3.org/2000/svg'%3e %3cg transform='translate(-1638 -2281)'%3e %3cg class='jp-jupyter-icon-color' fill='%23F37726'%3e %3cpath transform='translate(1639.74 2311.98)' d='M 18.2646 7.13411C 10.4145 7.13411 3.55872 4.2576 0 0C 1.32539 3.8204 3.79556 7.13081 7.0686 9.47303C 10.3417 11.8152 14.2557 13.0734 18.269 13.0734C 22.2823 13.0734 26.1963 11.8152 29.4694 9.47303C 32.7424 7.13081 35.2126 3.8204 36.538 0C 32.9705 4.2576 26.1148 7.13411 18.2646 7.13411Z'/%3e %3cpath transform='translate(1639.73 2285.48)' d='M 18.2733 5.93931C 26.1235 5.93931 32.9793 8.81583 36.538 13.0734C 35.2126 9.25303 32.7424 5.94262 29.4694 3.6004C 26.1963 1.25818 22.2823 0 18.269 0C 14.2557 0 10.3417 1.25818 7.0686 3.6004C 3.79556 5.94262 1.32539 9.25303 0 13.0734C 3.56745 8.82463 10.4232 5.93931 18.2733 5.93931Z'/%3e %3c/g%3e %3cg class='jp-icon3' fill='%23616161'%3e %3cpath transform='translate(1669.3 2281.31)' d='M 5.89353 2.844C 5.91889 3.43165 5.77085 4.01367 5.46815 4.51645C 5.16545 5.01922 4.72168 5.42015 4.19299 5.66851C 3.6643 5.91688 3.07444 6.00151 2.49805 5.91171C 1.92166 5.8219 1.38463 5.5617 0.954898 5.16401C 0.52517 4.76633 0.222056 4.24903 0.0839037 3.67757C -0.0542483 3.10611 -0.02123 2.50617 0.178781 1.95364C 0.378793 1.4011 0.736809 0.920817 1.20754 0.573538C 1.67826 0.226259 2.24055 0.0275919 2.82326 0.00267229C 3.60389 -0.0307115 4.36573 0.249789 4.94142 0.782551C 5.51711 1.31531 5.85956 2.05676 5.89353 2.844Z'/%3e %3cpath transform='translate(1639.8 2323.81)' d='M 7.42789 3.58338C 7.46008 4.3243 7.27355 5.05819 6.89193 5.69213C 6.51031 6.32607 5.95075 6.83156 5.28411 7.1446C 4.61747 7.45763 3.87371 7.56414 3.14702 7.45063C 2.42032 7.33712 1.74336 7.0087 1.20184 6.50695C 0.660328 6.0052 0.27861 5.35268 0.105017 4.63202C -0.0685757 3.91135 -0.0262361 3.15494 0.226675 2.45856C 0.479587 1.76217 0.931697 1.15713 1.52576 0.720033C 2.11983 0.282935 2.82914 0.0334395 3.56389 0.00313344C 4.54667 -0.0374033 5.50529 0.316706 6.22961 0.987835C 6.95393 1.65896 7.38484 2.59235 7.42789 3.58338L 7.42789 3.58338Z'/%3e %3cpath transform='translate(1638.36 2286.06)' d='M 2.27471 4.39629C 1.84363 4.41508 1.41671 4.30445 1.04799 4.07843C 0.679268 3.8524 0.385328 3.52114 0.203371 3.12656C 0.0214136 2.73198 -0.0403798 2.29183 0.0258116 1.86181C 0.0920031 1.4318 0.283204 1.03126 0.575213 0.710883C 0.867222 0.39051 1.24691 0.164708 1.66622 0.0620592C 2.08553 -0.0405897 2.52561 -0.0154714 2.93076 0.134235C 3.33591 0.283941 3.68792 0.551505 3.94222 0.90306C 4.19652 1.25462 4.34169 1.67436 4.35935 2.10916C 4.38299 2.69107 4.17678 3.25869 3.78597 3.68746C 3.39516 4.11624 2.85166 4.37116 2.27471 4.39629L 2.27471 4.39629Z'/%3e %3c/g%3e %3c/g%3e%3e %3c/svg%3e");
  --jp-icon-jupyterlab-wordmark: url("data:image/svg+xml,%3csvg xmlns='http://www.w3.org/2000/svg' width='200' viewBox='0 0 1860.8 475'%3e %3cg class='jp-icon2' fill='%234E4E4E' transform='translate(480.136401%2c 64.271493)'%3e %3cg transform='translate(0.000000%2c 58.875566)'%3e %3cg transform='translate(0.087603%2c 0.140294)'%3e %3cpath d='M-426.9%2c169.8c0%2c48.7-3.7%2c64.7-13.6%2c76.4c-10.8%2c10-25%2c15.5-39.7%2c15.5l3.7%2c29 c22.8%2c0.3%2c44.8-7.9%2c61.9-23.1c17.8-18.5%2c24-44.1%2c24-83.3V0H-427v170.1L-426.9%2c169.8L-426.9%2c169.8z'/%3e %3c/g%3e %3c/g%3e %3cg transform='translate(155.045296%2c 56.837104)'%3e %3cg transform='translate(1.562453%2c 1.799842)'%3e %3cpath d='M-312%2c148c0%2c21%2c0%2c39.5%2c1.7%2c55.4h-31.8l-2.1-33.3h-0.8c-6.7%2c11.6-16.4%2c21.3-28%2c27.9 c-11.6%2c6.6-24.8%2c10-38.2%2c9.8c-31.4%2c0-69-17.7-69-89V0h36.4v112.7c0%2c38.7%2c11.6%2c64.7%2c44.6%2c64.7c10.3-0.2%2c20.4-3.5%2c28.9-9.4 c8.5-5.9%2c15.1-14.3%2c18.9-23.9c2.2-6.1%2c3.3-12.5%2c3.3-18.9V0.2h36.4V148H-312L-312%2c148z'/%3e %3c/g%3e %3c/g%3e %3cg transform='translate(390.013322%2c 53.479638)'%3e %3cg transform='translate(1.706458%2c 0.231425)'%3e %3cpath d='M-478.6%2c71.4c0-26-0.8-47-1.7-66.7h32.7l1.7%2c34.8h0.8c7.1-12.5%2c17.5-22.8%2c30.1-29.7 c12.5-7%2c26.7-10.3%2c41-9.8c48.3%2c0%2c84.7%2c41.7%2c84.7%2c103.3c0%2c73.1-43.7%2c109.2-91%2c109.2c-12.1%2c0.5-24.2-2.2-35-7.8 c-10.8-5.6-19.9-13.9-26.6-24.2h-0.8V291h-36v-220L-478.6%2c71.4L-478.6%2c71.4z M-442.6%2c125.6c0.1%2c5.1%2c0.6%2c10.1%2c1.7%2c15.1 c3%2c12.3%2c9.9%2c23.3%2c19.8%2c31.1c9.9%2c7.8%2c22.1%2c12.1%2c34.7%2c12.1c38.5%2c0%2c60.7-31.9%2c60.7-78.5c0-40.7-21.1-75.6-59.5-75.6 c-12.9%2c0.4-25.3%2c5.1-35.3%2c13.4c-9.9%2c8.3-16.9%2c19.7-19.6%2c32.4c-1.5%2c4.9-2.3%2c10-2.5%2c15.1V125.6L-442.6%2c125.6L-442.6%2c125.6z'/%3e %3c/g%3e %3c/g%3e %3cg transform='translate(606.740726%2c 56.837104)'%3e %3cg transform='translate(0.751226%2c 1.989299)'%3e %3cpath d='M-440.8%2c0l43.7%2c120.1c4.5%2c13.4%2c9.5%2c29.4%2c12.8%2c41.7h0.8c3.7-12.2%2c7.9-27.7%2c12.8-42.4 l39.7-119.2h38.5L-346.9%2c145c-26%2c69.7-43.7%2c105.4-68.6%2c127.2c-12.5%2c11.7-27.9%2c20-44.6%2c23.9l-9.1-31.1 c11.7-3.9%2c22.5-10.1%2c31.8-18.1c13.2-11.1%2c23.7-25.2%2c30.6-41.2c1.5-2.8%2c2.5-5.7%2c2.9-8.8c-0.3-3.3-1.2-6.6-2.5-9.7L-480.2%2c0.1 h39.7L-440.8%2c0L-440.8%2c0z'/%3e %3c/g%3e %3c/g%3e %3cg transform='translate(822.748104%2c 0.000000)'%3e %3cg transform='translate(1.464050%2c 0.378914)'%3e %3cpath d='M-413.7%2c0v58.3h52v28.2h-52V196c0%2c25%2c7%2c39.5%2c27.3%2c39.5c7.1%2c0.1%2c14.2-0.7%2c21.1-2.5 l1.7%2c27.7c-10.3%2c3.7-21.3%2c5.4-32.2%2c5c-7.3%2c0.4-14.6-0.7-21.3-3.4c-6.8-2.7-12.9-6.8-17.9-12.1c-10.3-10.9-14.1-29-14.1-52.9 V86.5h-31V58.3h31V9.6L-413.7%2c0L-413.7%2c0z'/%3e %3c/g%3e %3c/g%3e %3cg transform='translate(974.433286%2c 53.479638)'%3e %3cg transform='translate(0.990034%2c 0.610339)'%3e %3cpath d='M-445.8%2c113c0.8%2c50%2c32.2%2c70.6%2c68.6%2c70.6c19%2c0.6%2c37.9-3%2c55.3-10.5l6.2%2c26.4 c-20.9%2c8.9-43.5%2c13.1-66.2%2c12.6c-61.5%2c0-98.3-41.2-98.3-102.5C-480.2%2c48.2-444.7%2c0-386.5%2c0c65.2%2c0%2c82.7%2c58.3%2c82.7%2c95.7 c-0.1%2c5.8-0.5%2c11.5-1.2%2c17.2h-140.6H-445.8L-445.8%2c113z M-339.2%2c86.6c0.4-23.5-9.5-60.1-50.4-60.1 c-36.8%2c0-52.8%2c34.4-55.7%2c60.1H-339.2L-339.2%2c86.6L-339.2%2c86.6z'/%3e %3c/g%3e %3c/g%3e %3cg transform='translate(1201.961058%2c 53.479638)'%3e %3cg transform='translate(1.179640%2c 0.705068)'%3e %3cpath d='M-478.6%2c68c0-23.9-0.4-44.5-1.7-63.4h31.8l1.2%2c39.9h1.7c9.1-27.3%2c31-44.5%2c55.3-44.5 c3.5-0.1%2c7%2c0.4%2c10.3%2c1.2v34.8c-4.1-0.9-8.2-1.3-12.4-1.2c-25.6%2c0-43.7%2c19.7-48.7%2c47.4c-1%2c5.7-1.6%2c11.5-1.7%2c17.2v108.3h-36V68 L-478.6%2c68z'/%3e %3c/g%3e %3c/g%3e %3c/g%3e %3cg class='jp-icon-warn0' fill='%23F37726'%3e %3cpath d='M1352.3%2c326.2h37V28h-37V326.2z M1604.8%2c326.2c-2.5-13.9-3.4-31.1-3.4-48.7v-76 c0-40.7-15.1-83.1-77.3-83.1c-25.6%2c0-50%2c7.1-66.8%2c18.1l8.4%2c24.4c14.3-9.2%2c34-15.1%2c53-15.1c41.6%2c0%2c46.2%2c30.2%2c46.2%2c47v4.2 c-78.6-0.4-122.3%2c26.5-122.3%2c75.6c0%2c29.4%2c21%2c58.4%2c62.2%2c58.4c29%2c0%2c50.9-14.3%2c62.2-30.2h1.3l2.9%2c25.6H1604.8z M1565.7%2c257.7 c0%2c3.8-0.8%2c8-2.1%2c11.8c-5.9%2c17.2-22.7%2c34-49.2%2c34c-18.9%2c0-34.9-11.3-34.9-35.3c0-39.5%2c45.8-46.6%2c86.2-45.8V257.7z M1698.5%2c326.2 l1.7-33.6h1.3c15.1%2c26.9%2c38.7%2c38.2%2c68.1%2c38.2c45.4%2c0%2c91.2-36.1%2c91.2-108.8c0.4-61.7-35.3-103.7-85.7-103.7 c-32.8%2c0-56.3%2c14.7-69.3%2c37.4h-0.8V28h-36.6v245.7c0%2c18.1-0.8%2c38.6-1.7%2c52.5H1698.5z M1704.8%2c208.2c0-5.9%2c1.3-10.9%2c2.1-15.1 c7.6-28.1%2c31.1-45.4%2c56.3-45.4c39.5%2c0%2c60.5%2c34.9%2c60.5%2c75.6c0%2c46.6-23.1%2c78.1-61.8%2c78.1c-26.9%2c0-48.3-17.6-55.5-43.3 c-0.8-4.2-1.7-8.8-1.7-13.4V208.2z'/%3e %3c/g%3e %3c/svg%3e");
  --jp-icon-kernel: url("data:image/svg+xml,%3csvg xmlns='http://www.w3.org/2000/svg' width='16' viewBox='0 0 24 24'%3e %3cpath class='jp-icon2' fill='%23616161' d='M15 9H9v6h6V9zm-2 4h-2v-2h2v2zm8-2V9h-2V7c0-1.1-.9-2-2-2h-2V3h-2v2h-2V3H9v2H7c-1.1 0-2 .9-2 2v2H3v2h2v2H3v2h2v2c0 1.1.9 2 2 2h2v2h2v-2h2v2h2v-2h2c1.1 0 2-.9 2-2v-2h2v-2h-2v-2h2zm-4 6H7V7h10v10z'/%3e %3c/svg%3e");
  --jp-icon-keyboard: url("data:image/svg+xml,%3csvg xmlns='http://www.w3.org/2000/svg' width='16' viewBox='0 0 24 24'%3e %3cpath class='jp-icon3 jp-icon-selectable' fill='%23616161' d='M20 5H4c-1.1 0-1.99.9-1.99 2L2 17c0 1.1.9 2 2 2h16c1.1 0 2-.9 2-2V7c0-1.1-.9-2-2-2zm-9 3h2v2h-2V8zm0 3h2v2h-2v-2zM8 8h2v2H8V8zm0 3h2v2H8v-2zm-1 2H5v-2h2v2zm0-3H5V8h2v2zm9 7H8v-2h8v2zm0-4h-2v-2h2v2zm0-3h-2V8h2v2zm3 3h-2v-2h2v2zm0-3h-2V8h2v2z'/%3e %3c/svg%3e");
  --jp-icon-launch: url("data:image/svg+xml,%3csvg viewBox='0 0 32 32' width='32' xmlns='http://www.w3.org/2000/svg'%3e %3cg class='jp-icon3 jp-icon-selectable' fill='%23616161'%3e %3cpath d='M26%2c28H6a2.0027%2c2.0027%2c0%2c0%2c1-2-2V6A2.0027%2c2.0027%2c0%2c0%2c1%2c6%2c4H16V6H6V26H26V16h2V26A2.0027%2c2.0027%2c0%2c0%2c1%2c26%2c28Z'/%3e %3cpolygon points='20 2 20 4 26.586 4 18 12.586 19.414 14 28 5.414 28 12 30 12 30 2 20 2'/%3e %3c/g%3e %3c/svg%3e");
  --jp-icon-launcher: url("data:image/svg+xml,%3csvg xmlns='http://www.w3.org/2000/svg' width='16' viewBox='0 0 24 24'%3e %3cpath class='jp-icon3 jp-icon-selectable' fill='%23616161' d='M19 19H5V5h7V3H5a2 2 0 00-2 2v14a2 2 0 002 2h14c1.1 0 2-.9 2-2v-7h-2v7zM14 3v2h3.59l-9.83 9.83 1.41 1.41L19 6.41V10h2V3h-7z'/%3e %3c/svg%3e");
  --jp-icon-line-form: url("data:image/svg+xml,%3csvg xmlns='http://www.w3.org/2000/svg' width='16' viewBox='0 0 24 24'%3e %3cpath fill='white' d='M5.88 4.12L13.76 12l-7.88 7.88L8 22l10-10L8 2z'/%3e %3c/svg%3e");
  --jp-icon-link: url("data:image/svg+xml,%3csvg viewBox='0 0 24 24' width='16' xmlns='http://www.w3.org/2000/svg'%3e %3cg class='jp-icon3' fill='%23616161'%3e %3cpath d='M3.9 12c0-1.71 1.39-3.1 3.1-3.1h4V7H7c-2.76 0-5 2.24-5 5s2.24 5 5 5h4v-1.9H7c-1.71 0-3.1-1.39-3.1-3.1zM8 13h8v-2H8v2zm9-6h-4v1.9h4c1.71 0 3.1 1.39 3.1 3.1s-1.39 3.1-3.1 3.1h-4V17h4c2.76 0 5-2.24 5-5s-2.24-5-5-5z'/%3e %3c/g%3e %3c/svg%3e");
  --jp-icon-list: url("data:image/svg+xml,%3csvg xmlns='http://www.w3.org/2000/svg' width='16' viewBox='0 0 24 24'%3e %3cpath class='jp-icon2 jp-icon-selectable' fill='%23616161' d='M19 5v14H5V5h14m1.1-2H3.9c-.5 0-.9.4-.9.9v16.2c0 .4.4.9.9.9h16.2c.4 0 .9-.5.9-.9V3.9c0-.5-.5-.9-.9-.9zM11 7h6v2h-6V7zm0 4h6v2h-6v-2zm0 4h6v2h-6zM7 7h2v2H7zm0 4h2v2H7zm0 4h2v2H7z'/%3e %3c/svg%3e");
  --jp-icon-markdown: url("data:image/svg+xml,%3csvg xmlns='http://www.w3.org/2000/svg' width='16' viewBox='0 0 22 22'%3e %3cpath class='jp-icon-contrast0 jp-icon-selectable' fill='%237B1FA2' d='M5 14.9h12l-6.1 6zm9.4-6.8c0-1.3-.1-2.9-.1-4.5-.4 1.4-.9 2.9-1.3 4.3l-1.3 4.3h-2L8.5 7.9c-.4-1.3-.7-2.9-1-4.3-.1 1.6-.1 3.2-.2 4.6L7 12.4H4.8l.7-11h3.3L10 5c.4 1.2.7 2.7 1 3.9.3-1.2.7-2.6 1-3.9l1.2-3.7h3.3l.6 11h-2.4l-.3-4.2z'/%3e %3c/svg%3e");
  --jp-icon-move-down: url("data:image/svg+xml,%3csvg width='14' height='14' viewBox='0 0 14 14' fill='none' xmlns='http://www.w3.org/2000/svg'%3e %3cpath class='jp-icon3' d='M12.471 7.52899C12.7632 7.23684 12.7632 6.76316 12.471 6.47101V6.47101C12.179 6.17905 11.7057 6.17884 11.4135 6.47054L7.75 10.1275V1.75C7.75 1.33579 7.41421 1 7 1V1C6.58579 1 6.25 1.33579 6.25 1.75V10.1275L2.59726 6.46822C2.30338 6.17381 1.82641 6.17359 1.53226 6.46774V6.46774C1.2383 6.7617 1.2383 7.2383 1.53226 7.53226L6.29289 12.2929C6.68342 12.6834 7.31658 12.6834 7.70711 12.2929L12.471 7.52899Z' fill='%23616161'/%3e %3c/svg%3e");
  --jp-icon-move-up: url("data:image/svg+xml,%3csvg width='14' height='14' viewBox='0 0 14 14' fill='none' xmlns='http://www.w3.org/2000/svg'%3e %3cpath class='jp-icon3' d='M1.52899 6.47101C1.23684 6.76316 1.23684 7.23684 1.52899 7.52899V7.52899C1.82095 7.82095 2.29426 7.82116 2.58649 7.52946L6.25 3.8725V12.25C6.25 12.6642 6.58579 13 7 13V13C7.41421 13 7.75 12.6642 7.75 12.25V3.8725L11.4027 7.53178C11.6966 7.82619 12.1736 7.82641 12.4677 7.53226V7.53226C12.7617 7.2383 12.7617 6.7617 12.4677 6.46774L7.70711 1.70711C7.31658 1.31658 6.68342 1.31658 6.29289 1.70711L1.52899 6.47101Z' fill='%23616161'/%3e %3c/svg%3e");
  --jp-icon-new-folder: url("data:image/svg+xml,%3csvg xmlns='http://www.w3.org/2000/svg' width='16' viewBox='0 0 24 24'%3e %3cg class='jp-icon3' fill='%23616161'%3e %3cpath d='M20 6h-8l-2-2H4c-1.11 0-1.99.89-1.99 2L2 18c0 1.11.89 2 2 2h16c1.11 0 2-.89 2-2V8c0-1.11-.89-2-2-2zm-1 8h-3v3h-2v-3h-3v-2h3V9h2v3h3v2z'/%3e %3c/g%3e %3c/svg%3e");
  --jp-icon-not-trusted: url("data:image/svg+xml,%3csvg fill='none' xmlns='http://www.w3.org/2000/svg' width='16' viewBox='0 0 25 25'%3e %3cpath class='jp-icon2' stroke='%23333333' stroke-width='2' transform='translate(3 3)' d='M1.86094 11.4409C0.826448 8.77027 0.863779 6.05764 1.24907 4.19932C2.48206 3.93347 4.08068 3.40347 5.60102 2.8449C7.23549 2.2444 8.85666 1.5815 9.9876 1.09539C11.0597 1.58341 12.6094 2.2444 14.218 2.84339C15.7503 3.41394 17.3995 3.95258 18.7539 4.21385C19.1364 6.07177 19.1709 8.77722 18.139 11.4409C17.0303 14.3032 14.6668 17.1844 9.99999 18.9354C5.33319 17.1844 2.96968 14.3032 1.86094 11.4409Z'/%3e %3cpath class='jp-icon2' stroke='%23333333' stroke-width='2' transform='translate(9.31592 9.32031)' d='M7.36842 0L0 7.36479'/%3e %3cpath class='jp-icon2' stroke='%23333333' stroke-width='2' transform='translate(9.31592 16.6836) scale(1 -1)' d='M7.36842 0L0 7.36479'/%3e %3c/svg%3e");
  --jp-icon-notebook: url("data:image/svg+xml,%3csvg xmlns='http://www.w3.org/2000/svg' width='16' viewBox='0 0 22 22'%3e %3cg class='jp-notebook-icon-color jp-icon-selectable' fill='%23EF6C00'%3e %3cpath d='M18.7 3.3v15.4H3.3V3.3h15.4m1.5-1.5H1.8v18.3h18.3l.1-18.3z'/%3e %3cpath d='M16.5 16.5l-5.4-4.3-5.6 4.3v-11h11z'/%3e %3c/g%3e %3c/svg%3e");
  --jp-icon-numbering: url("data:image/svg+xml,%3csvg width='22' height='22' viewBox='0 0 28 28' xmlns='http://www.w3.org/2000/svg'%3e %3cg class='jp-icon3' fill='%23616161'%3e %3cpath d='M4 19H6V19.5H5V20.5H6V21H4V22H7V18H4V19ZM5 10H6V6H4V7H5V10ZM4 13H5.8L4 15.1V16H7V15H5.2L7 12.9V12H4V13ZM9 7V9H23V7H9ZM9 21H23V19H9V21ZM9 15H23V13H9V15Z'/%3e %3c/g%3e %3c/svg%3e");
  --jp-icon-offline-bolt: url("data:image/svg+xml,%3csvg xmlns='http://www.w3.org/2000/svg' viewBox='0 0 24 24' width='16'%3e %3cg class='jp-icon3' fill='%23616161'%3e %3cpath d='M12 2.02c-5.51 0-9.98 4.47-9.98 9.98s4.47 9.98 9.98 9.98 9.98-4.47 9.98-9.98S17.51 2.02 12 2.02zM11.48 20v-6.26H8L13 4v6.26h3.35L11.48 20z'/%3e %3c/g%3e %3c/svg%3e");
  --jp-icon-palette: url("data:image/svg+xml,%3csvg xmlns='http://www.w3.org/2000/svg' width='16' viewBox='0 0 24 24'%3e %3cg class='jp-icon3' fill='%23616161'%3e %3cpath d='M18 13V20H4V6H9.02C9.07 5.29 9.24 4.62 9.5 4H4C2.9 4 2 4.9 2 6V20C2 21.1 2.9 22 4 22H18C19.1 22 20 21.1 20 20V15L18 13ZM19.3 8.89C19.74 8.19 20 7.38 20 6.5C20 4.01 17.99 2 15.5 2C13.01 2 11 4.01 11 6.5C11 8.99 13.01 11 15.49 11C16.37 11 17.19 10.74 17.88 10.3L21 13.42L22.42 12L19.3 8.89ZM15.5 9C14.12 9 13 7.88 13 6.5C13 5.12 14.12 4 15.5 4C16.88 4 18 5.12 18 6.5C18 7.88 16.88 9 15.5 9Z'/%3e %3cpath fill-rule='evenodd' clip-rule='evenodd' d='M4 6H9.01894C9.00639 6.16502 9 6.33176 9 6.5C9 8.81577 10.211 10.8487 12.0343 12H9V14H16V12.9811C16.5703 12.9377 17.12 12.8207 17.6396 12.6396L18 13V20H4V6ZM8 8H6V10H8V8ZM6 12H8V14H6V12ZM8 16H6V18H8V16ZM9 16H16V18H9V16Z'/%3e %3c/g%3e %3c/svg%3e");
  --jp-icon-paste: url("data:image/svg+xml,%3csvg height='24' viewBox='0 0 24 24' width='24' xmlns='http://www.w3.org/2000/svg'%3e %3cg class='jp-icon3' fill='%23616161'%3e %3cpath d='M19 2h-4.18C14.4.84 13.3 0 12 0c-1.3 0-2.4.84-2.82 2H5c-1.1 0-2 .9-2 2v16c0 1.1.9 2 2 2h14c1.1 0 2-.9 2-2V4c0-1.1-.9-2-2-2zm-7 0c.55 0 1 .45 1 1s-.45 1-1 1-1-.45-1-1 .45-1 1-1zm7 18H5V4h2v3h10V4h2v16z'/%3e %3c/g%3e %3c/svg%3e");
  --jp-icon-pdf: url("data:image/svg+xml,%3csvg xmlns='http://www.w3.org/2000/svg' viewBox='0 0 22 22' width='16'%3e %3cpath transform='rotate(45)' class='jp-icon-selectable' fill='%23FF2A2A' d='m 22.344369%2c-3.0163642 h 5.638604 v 1.5792433 h -3.549227 v 1.50869299 h 3.337576 V 1.6508154 h -3.337576 v 3.4352613 h -2.089377 z m -7.136444%2c1.5792433 v 4.9439543 h 0.74892 q 1.280761%2c0 1.953703%2c-0.6349535 0.678369%2c-0.6349535 0.678369%2c-1.8451641 0%2c-1.20478355 -0.672942%2c-1.83431011 -0.672942%2c-0.62952659 -1.95913%2c-0.62952659 z m -2.089377%2c-1.5792433 h 2.203343 q 1.845164%2c0 2.746039%2c0.2659207 0.906301%2c0.2604937 1.552108%2c0.8900203 0.56983%2c0.5481223 0.846605%2c1.26448006 0.276774%2c0.71635781 0.276774%2c1.62265894 0%2c0.9171551 -0.276774%2c1.6389399 -0.276775%2c0.7163578 -0.846605%2c1.26448 -0.651234%2c0.6295266 -1.562962%2c0.8954473 -0.911728%2c0.2604937 -2.735185%2c0.2604937 h -2.203343 z m -8.1458565%2c0 h 3.467823 q 1.5466816%2c0 2.3715785%2c0.689223 0.830324%2c0.6837961 0.830324%2c1.95370314 0%2c1.27533397 -0.830324%2c1.96455706 Q 9.9871961%2c2.274915 8.4405145%2c2.274915 H 7.0620684 V 5.0860767 H 4.9726915 Z m 2.0893769%2c1.5141199 v 2.26303943 h 1.155941 q 0.6078188%2c0 0.9388629%2c-0.29305547 0.3310441%2c-0.29848241 0.3310441%2c-0.84117772 0%2c-0.54269531 -0.3310441%2c-0.83575074 -0.3310441%2c-0.2930555 -0.9388629%2c-0.2930555 z' /%3e %3c/svg%3e");
  --jp-icon-python: url("data:image/svg+xml,%3csvg xmlns='http://www.w3.org/2000/svg' width='16' viewBox='-10 -10 131.16136169433594 132.38899993896484'%3e %3cpath class='jp-icon-selectable' fill='%23306998' d='M 54.918785%2c9.1927421e-4 C 50.335132%2c0.02221727 45.957846%2c0.41313697 42.106285%2c1.0946693 30.760069%2c3.0991731 28.700036%2c7.2947714 28.700035%2c15.032169 v 10.21875 h 26.8125 v 3.40625 h -26.8125 -10.0625 c -7.792459%2c0 -14.6157588%2c4.683717 -16.7499998%2c13.59375 -2.46181998%2c10.212966 -2.57101508%2c16.586023 0%2c27.25 1.9059283%2c7.937852 6.4575432%2c13.593748 14.2499998%2c13.59375 h 9.21875 v -12.25 c 0%2c-8.849902 7.657144%2c-16.656248 16.75%2c-16.65625 h 26.78125 c 7.454951%2c0 13.406253%2c-6.138164 13.40625%2c-13.625 v -25.53125 c 0%2c-7.2663386 -6.12998%2c-12.7247771 -13.40625%2c-13.9374997 C 64.281548%2c0.32794397 59.502438%2c-0.02037903 54.918785%2c9.1927421e-4 Z m -14.5%2c8.21875012579 c 2.769547%2c0 5.03125%2c2.2986456 5.03125%2c5.1249996 -2e-6%2c2.816336 -2.261703%2c5.09375 -5.03125%2c5.09375 -2.779476%2c-1e-6 -5.03125%2c-2.277415 -5.03125%2c-5.09375 -10e-7%2c-2.826353 2.251774%2c-5.1249996 5.03125%2c-5.1249996 z'/%3e %3cpath class='jp-icon-selectable' fill='%23ffd43b' d='m 85.637535%2c28.657169 v 11.90625 c 0%2c9.230755 -7.825895%2c16.999999 -16.75%2c17 h -26.78125 c -7.335833%2c0 -13.406249%2c6.278483 -13.40625%2c13.625 v 25.531247 c 0%2c7.266344 6.318588%2c11.540324 13.40625%2c13.625004 8.487331%2c2.49561 16.626237%2c2.94663 26.78125%2c0 6.750155%2c-1.95439 13.406253%2c-5.88761 13.40625%2c-13.625004 V 86.500919 h -26.78125 v -3.40625 h 26.78125 13.406254 c 7.792461%2c0 10.696251%2c-5.435408 13.406241%2c-13.59375 2.79933%2c-8.398886 2.68022%2c-16.475776 0%2c-27.25 -1.92578%2c-7.757441 -5.60387%2c-13.59375 -13.406241%2c-13.59375 z m -15.0625%2c64.65625 c 2.779478%2c3e-6 5.03125%2c2.277417 5.03125%2c5.093747 -2e-6%2c2.826354 -2.251775%2c5.125004 -5.03125%2c5.125004 -2.76955%2c0 -5.03125%2c-2.29865 -5.03125%2c-5.125004 2e-6%2c-2.81633 2.261697%2c-5.093747 5.03125%2c-5.093747 z'/%3e %3c/svg%3e");
  --jp-icon-r-kernel: url("data:image/svg+xml,%3csvg xmlns='http://www.w3.org/2000/svg' width='16' viewBox='0 0 22 22'%3e %3cpath class='jp-icon-contrast3 jp-icon-selectable' fill='%232196F3' d='M4.4 2.5c1.2-.1 2.9-.3 4.9-.3 2.5 0 4.1.4 5.2 1.3 1 .7 1.5 1.9 1.5 3.5 0 2-1.4 3.5-2.9 4.1 1.2.4 1.7 1.6 2.2 3 .6 1.9 1 3.9 1.3 4.6h-3.8c-.3-.4-.8-1.7-1.2-3.7s-1.2-2.6-2.6-2.6h-.9v6.4H4.4V2.5zm3.7 6.9h1.4c1.9 0 2.9-.9 2.9-2.3s-1-2.3-2.8-2.3c-.7 0-1.3 0-1.6.2v4.5h.1v-.1z'/%3e %3c/svg%3e");
  --jp-icon-react: url("data:image/svg+xml,%3csvg xmlns='http://www.w3.org/2000/svg' width='16' viewBox='150 150 541.9 295.3'%3e %3cg class='jp-icon-brand2 jp-icon-selectable' fill='%2361DAFB'%3e %3cpath d='M666.3 296.5c0-32.5-40.7-63.3-103.1-82.4 14.4-63.6 8-114.2-20.2-130.4-6.5-3.8-14.1-5.6-22.4-5.6v22.3c4.6 0 8.3.9 11.4 2.6 13.6 7.8 19.5 37.5 14.9 75.7-1.1 9.4-2.9 19.3-5.1 29.4-19.6-4.8-41-8.5-63.5-10.9-13.5-18.5-27.5-35.3-41.6-50 32.6-30.3 63.2-46.9 84-46.9V78c-27.5 0-63.5 19.6-99.9 53.6-36.4-33.8-72.4-53.2-99.9-53.2v22.3c20.7 0 51.4 16.5 84 46.6-14 14.7-28 31.4-41.3 49.9-22.6 2.4-44 6.1-63.6 11-2.3-10-4-19.7-5.2-29-4.7-38.2 1.1-67.9 14.6-75.8 3-1.8 6.9-2.6 11.5-2.6V78.5c-8.4 0-16 1.8-22.6 5.6-28.1 16.2-34.4 66.7-19.9 130.1-62.2 19.2-102.7 49.9-102.7 82.3 0 32.5 40.7 63.3 103.1 82.4-14.4 63.6-8 114.2 20.2 130.4 6.5 3.8 14.1 5.6 22.5 5.6 27.5 0 63.5-19.6 99.9-53.6 36.4 33.8 72.4 53.2 99.9 53.2 8.4 0 16-1.8 22.6-5.6 28.1-16.2 34.4-66.7 19.9-130.1 62-19.1 102.5-49.9 102.5-82.3zm-130.2-66.7c-3.7 12.9-8.3 26.2-13.5 39.5-4.1-8-8.4-16-13.1-24-4.6-8-9.5-15.8-14.4-23.4 14.2 2.1 27.9 4.7 41 7.9zm-45.8 106.5c-7.8 13.5-15.8 26.3-24.1 38.2-14.9 1.3-30 2-45.2 2-15.1 0-30.2-.7-45-1.9-8.3-11.9-16.4-24.6-24.2-38-7.6-13.1-14.5-26.4-20.8-39.8 6.2-13.4 13.2-26.8 20.7-39.9 7.8-13.5 15.8-26.3 24.1-38.2 14.9-1.3 30-2 45.2-2 15.1 0 30.2.7 45 1.9 8.3 11.9 16.4 24.6 24.2 38 7.6 13.1 14.5 26.4 20.8 39.8-6.3 13.4-13.2 26.8-20.7 39.9zm32.3-13c5.4 13.4 10 26.8 13.8 39.8-13.1 3.2-26.9 5.9-41.2 8 4.9-7.7 9.8-15.6 14.4-23.7 4.6-8 8.9-16.1 13-24.1zM421.2 430c-9.3-9.6-18.6-20.3-27.8-32 9 .4 18.2.7 27.5.7 9.4 0 18.7-.2 27.8-.7-9 11.7-18.3 22.4-27.5 32zm-74.4-58.9c-14.2-2.1-27.9-4.7-41-7.9 3.7-12.9 8.3-26.2 13.5-39.5 4.1 8 8.4 16 13.1 24 4.7 8 9.5 15.8 14.4 23.4zM420.7 163c9.3 9.6 18.6 20.3 27.8 32-9-.4-18.2-.7-27.5-.7-9.4 0-18.7.2-27.8.7 9-11.7 18.3-22.4 27.5-32zm-74 58.9c-4.9 7.7-9.8 15.6-14.4 23.7-4.6 8-8.9 16-13 24-5.4-13.4-10-26.8-13.8-39.8 13.1-3.1 26.9-5.8 41.2-7.9zm-90.5 125.2c-35.4-15.1-58.3-34.9-58.3-50.6 0-15.7 22.9-35.6 58.3-50.6 8.6-3.7 18-7 27.7-10.1 5.7 19.6 13.2 40 22.5 60.9-9.2 20.8-16.6 41.1-22.2 60.6-9.9-3.1-19.3-6.5-28-10.2zM310 490c-13.6-7.8-19.5-37.5-14.9-75.7 1.1-9.4 2.9-19.3 5.1-29.4 19.6 4.8 41 8.5 63.5 10.9 13.5 18.5 27.5 35.3 41.6 50-32.6 30.3-63.2 46.9-84 46.9-4.5-.1-8.3-1-11.3-2.7zm237.2-76.2c4.7 38.2-1.1 67.9-14.6 75.8-3 1.8-6.9 2.6-11.5 2.6-20.7 0-51.4-16.5-84-46.6 14-14.7 28-31.4 41.3-49.9 22.6-2.4 44-6.1 63.6-11 2.3 10.1 4.1 19.8 5.2 29.1zm38.5-66.7c-8.6 3.7-18 7-27.7 10.1-5.7-19.6-13.2-40-22.5-60.9 9.2-20.8 16.6-41.1 22.2-60.6 9.9 3.1 19.3 6.5 28.1 10.2 35.4 15.1 58.3 34.9 58.3 50.6-.1 15.7-23 35.6-58.4 50.6zM320.8 78.4z'/%3e %3ccircle cx='420.9' cy='296.5' r='45.7'/%3e %3c/g%3e %3c/svg%3e");
  --jp-icon-redo: url("data:image/svg+xml,%3csvg xmlns='http://www.w3.org/2000/svg' height='24' viewBox='0 0 24 24' width='16'%3e %3cg class='jp-icon3' fill='%23616161'%3e %3cpath d='M0 0h24v24H0z' fill='none'/%3e%3cpath d='M18.4 10.6C16.55 8.99 14.15 8 11.5 8c-4.65 0-8.58 3.03-9.96 7.22L3.9 16c1.05-3.19 4.05-5.5 7.6-5.5 1.95 0 3.73.72 5.12 1.88L13 16h9V7l-3.6 3.6z'/%3e %3c/g%3e %3c/svg%3e");
  --jp-icon-refresh: url("data:image/svg+xml,%3csvg xmlns='http://www.w3.org/2000/svg' width='16' viewBox='0 0 18 18'%3e %3cg class='jp-icon3' fill='%23616161'%3e %3cpath d='M9 13.5c-2.49 0-4.5-2.01-4.5-4.5S6.51 4.5 9 4.5c1.24 0 2.36.52 3.17 1.33L10 8h5V3l-1.76 1.76C12.15 3.68 10.66 3 9 3 5.69 3 3.01 5.69 3.01 9S5.69 15 9 15c2.97 0 5.43-2.16 5.9-5h-1.52c-.46 2-2.24 3.5-4.38 3.5z'/%3e %3c/g%3e %3c/svg%3e");
  --jp-icon-regex: url("data:image/svg+xml,%3csvg xmlns='http://www.w3.org/2000/svg' width='16' viewBox='0 0 20 20'%3e %3cg class='jp-icon2' fill='%23414141'%3e %3crect x='2' y='2' width='16' height='16'/%3e %3c/g%3e %3cg class='jp-icon-accent2' fill='white'%3e %3ccircle class='st2' cx='5.5' cy='14.5' r='1.5'/%3e %3crect x='12' y='4' class='st2' width='1' height='8'/%3e %3crect x='8.5' y='7.5' transform='matrix(0.866 -0.5 0.5 0.866 -2.3255 7.3219)' class='st2' width='8' height='1'/%3e %3crect x='12' y='4' transform='matrix(0.5 -0.866 0.866 0.5 -0.6779 14.8252)' class='st2' width='1' height='8'/%3e %3c/g%3e %3c/svg%3e");
  --jp-icon-run: url("data:image/svg+xml,%3csvg height='24' viewBox='0 0 24 24' width='24' xmlns='http://www.w3.org/2000/svg'%3e %3cg class='jp-icon3' fill='%23616161'%3e %3cpath d='M8 5v14l11-7z'/%3e %3c/g%3e %3c/svg%3e");
  --jp-icon-running: url("data:image/svg+xml,%3csvg xmlns='http://www.w3.org/2000/svg' width='16' viewBox='0 0 512 512'%3e %3cg class='jp-icon3' fill='%23616161'%3e %3cpath d='M256 8C119 8 8 119 8 256s111 248 248 248 248-111 248-248S393 8 256 8zm96 328c0 8.8-7.2 16-16 16H176c-8.8 0-16-7.2-16-16V176c0-8.8 7.2-16 16-16h160c8.8 0 16 7.2 16 16v160z'/%3e %3c/g%3e %3c/svg%3e");
  --jp-icon-save: url("data:image/svg+xml,%3csvg height='24' viewBox='0 0 24 24' width='24' xmlns='http://www.w3.org/2000/svg'%3e %3cg class='jp-icon3' fill='%23616161'%3e %3cpath d='M17 3H5c-1.11 0-2 .9-2 2v14c0 1.1.89 2 2 2h14c1.1 0 2-.9 2-2V7l-4-4zm-5 16c-1.66 0-3-1.34-3-3s1.34-3 3-3 3 1.34 3 3-1.34 3-3 3zm3-10H5V5h10v4z'/%3e %3c/g%3e %3c/svg%3e");
  --jp-icon-search: url("data:image/svg+xml,%3csvg viewBox='0 0 18 18' width='16' xmlns='http://www.w3.org/2000/svg'%3e %3cg class='jp-icon3' fill='%23616161'%3e %3cpath d='M12.1%2c10.9h-0.7l-0.2-0.2c0.8-0.9%2c1.3-2.2%2c1.3-3.5c0-3-2.4-5.4-5.4-5.4S1.8%2c4.2%2c1.8%2c7.1s2.4%2c5.4%2c5.4%2c5.4 c1.3%2c0%2c2.5-0.5%2c3.5-1.3l0.2%2c0.2v0.7l4.1%2c4.1l1.2-1.2L12.1%2c10.9z M7.1%2c10.9c-2.1%2c0-3.7-1.7-3.7-3.7s1.7-3.7%2c3.7-3.7s3.7%2c1.7%2c3.7%2c3.7 S9.2%2c10.9%2c7.1%2c10.9z'/%3e %3c/g%3e %3c/svg%3e");
  --jp-icon-settings: url("data:image/svg+xml,%3csvg xmlns='http://www.w3.org/2000/svg' width='16' viewBox='0 0 24 24'%3e %3cpath class='jp-icon3 jp-icon-selectable' fill='%23616161' d='M19.43 12.98c.04-.32.07-.64.07-.98s-.03-.66-.07-.98l2.11-1.65c.19-.15.24-.42.12-.64l-2-3.46c-.12-.22-.39-.3-.61-.22l-2.49 1c-.52-.4-1.08-.73-1.69-.98l-.38-2.65A.488.488 0 0014 2h-4c-.25 0-.46.18-.49.42l-.38 2.65c-.61.25-1.17.59-1.69.98l-2.49-1c-.23-.09-.49 0-.61.22l-2 3.46c-.13.22-.07.49.12.64l2.11 1.65c-.04.32-.07.65-.07.98s.03.66.07.98l-2.11 1.65c-.19.15-.24.42-.12.64l2 3.46c.12.22.39.3.61.22l2.49-1c.52.4 1.08.73 1.69.98l.38 2.65c.03.24.24.42.49.42h4c.25 0 .46-.18.49-.42l.38-2.65c.61-.25 1.17-.59 1.69-.98l2.49 1c.23.09.49 0 .61-.22l2-3.46c.12-.22.07-.49-.12-.64l-2.11-1.65zM12 15.5c-1.93 0-3.5-1.57-3.5-3.5s1.57-3.5 3.5-3.5 3.5 1.57 3.5 3.5-1.57 3.5-3.5 3.5z'/%3e %3c/svg%3e");
  --jp-icon-share: url("data:image/svg+xml,%3csvg width='16' viewBox='0 0 24 24' xmlns='http://www.w3.org/2000/svg'%3e %3cg class='jp-icon3' fill='%23616161'%3e %3cpath d='M 18 2 C 16.35499 2 15 3.3549904 15 5 C 15 5.1909529 15.021791 5.3771224 15.056641 5.5585938 L 7.921875 9.7207031 C 7.3985399 9.2778539 6.7320771 9 6 9 C 4.3549904 9 3 10.35499 3 12 C 3 13.64501 4.3549904 15 6 15 C 6.7320771 15 7.3985399 14.722146 7.921875 14.279297 L 15.056641 18.439453 C 15.021555 18.621514 15 18.808386 15 19 C 15 20.64501 16.35499 22 18 22 C 19.64501 22 21 20.64501 21 19 C 21 17.35499 19.64501 16 18 16 C 17.26748 16 16.601593 16.279328 16.078125 16.722656 L 8.9433594 12.558594 C 8.9782095 12.377122 9 12.190953 9 12 C 9 11.809047 8.9782095 11.622878 8.9433594 11.441406 L 16.078125 7.2792969 C 16.60146 7.7221461 17.267923 8 18 8 C 19.64501 8 21 6.6450096 21 5 C 21 3.3549904 19.64501 2 18 2 z M 18 4 C 18.564129 4 19 4.4358706 19 5 C 19 5.5641294 18.564129 6 18 6 C 17.435871 6 17 5.5641294 17 5 C 17 4.4358706 17.435871 4 18 4 z M 6 11 C 6.5641294 11 7 11.435871 7 12 C 7 12.564129 6.5641294 13 6 13 C 5.4358706 13 5 12.564129 5 12 C 5 11.435871 5.4358706 11 6 11 z M 18 18 C 18.564129 18 19 18.435871 19 19 C 19 19.564129 18.564129 20 18 20 C 17.435871 20 17 19.564129 17 19 C 17 18.435871 17.435871 18 18 18 z'/%3e %3c/g%3e %3c/svg%3e");
  --jp-icon-spreadsheet: url("data:image/svg+xml,%3csvg xmlns='http://www.w3.org/2000/svg' width='16' viewBox='0 0 22 22'%3e %3cpath class='jp-icon-contrast1 jp-icon-selectable' fill='%234CAF50' d='M2.2 2.2v17.6h17.6V2.2H2.2zm15.4 7.7h-5.5V4.4h5.5v5.5zM9.9 4.4v5.5H4.4V4.4h5.5zm-5.5 7.7h5.5v5.5H4.4v-5.5zm7.7 5.5v-5.5h5.5v5.5h-5.5z'/%3e %3c/svg%3e");
  --jp-icon-stop: url("data:image/svg+xml,%3csvg height='24' viewBox='0 0 24 24' width='24' xmlns='http://www.w3.org/2000/svg'%3e %3cg class='jp-icon3' fill='%23616161'%3e %3cpath d='M0 0h24v24H0z' fill='none'/%3e %3cpath d='M6 6h12v12H6z'/%3e %3c/g%3e %3c/svg%3e");
  --jp-icon-tab: url("data:image/svg+xml,%3csvg xmlns='http://www.w3.org/2000/svg' width='16' viewBox='0 0 24 24'%3e %3cg class='jp-icon3' fill='%23616161'%3e %3cpath d='M21 3H3c-1.1 0-2 .9-2 2v14c0 1.1.9 2 2 2h18c1.1 0 2-.9 2-2V5c0-1.1-.9-2-2-2zm0 16H3V5h10v4h8v10z'/%3e %3c/g%3e %3c/svg%3e");
  --jp-icon-table-rows: url("data:image/svg+xml,%3csvg height='24' viewBox='0 0 24 24' width='24' xmlns='http://www.w3.org/2000/svg'%3e %3cg class='jp-icon3' fill='%23616161'%3e %3cpath d='M0 0h24v24H0z' fill='none'/%3e %3cpath d='M21%2c8H3V4h18V8z M21%2c10H3v4h18V10z M21%2c16H3v4h18V16z'/%3e %3c/g%3e %3c/svg%3e");
  --jp-icon-tag: url("data:image/svg+xml,%3csvg width='28' height='28' viewBox='0 0 43 28' xmlns='http://www.w3.org/2000/svg'%3e %3cg class='jp-icon3' fill='%23616161'%3e %3cpath d='M28.8332 12.334L32.9998 16.5007L37.1665 12.334H28.8332Z'/%3e %3cpath d='M16.2095 21.6104C15.6873 22.1299 14.8443 22.1299 14.3248 21.6104L6.9829 14.7245C6.5724 14.3394 6.08313 13.6098 6.04786 13.0482C5.95347 11.5288 6.02002 8.61944 6.06621 7.07695C6.08281 6.51477 6.55548 6.04347 7.11804 6.03055C9.08863 5.98473 13.2638 5.93579 13.6518 6.32425L21.7369 13.639C22.256 14.1585 21.7851 15.4724 21.262 15.9946L16.2095 21.6104ZM9.77585 8.265C9.33551 7.82566 8.62351 7.82566 8.1828 8.265C7.74346 8.70571 7.74346 9.41733 8.1828 9.85667C8.62382 10.2964 9.33582 10.2964 9.77585 9.85667C10.2156 9.41733 10.2156 8.70533 9.77585 8.265Z'/%3e %3c/g%3e %3c/svg%3e");
  --jp-icon-terminal: url("data:image/svg+xml,%3csvg xmlns='http://www.w3.org/2000/svg' width='16' viewBox='0 0 24 24' %3e %3crect class='jp-terminal-icon-background-color jp-icon-selectable' width='20' height='20' transform='translate(2 2)' fill='%23333333'/%3e %3cpath class='jp-terminal-icon-color jp-icon-selectable-inverse' d='M5.05664 8.76172C5.05664 8.59766 5.03125 8.45312 4.98047 8.32812C4.93359 8.19922 4.85547 8.08203 4.74609 7.97656C4.64062 7.87109 4.5 7.77539 4.32422 7.68945C4.15234 7.59961 3.94336 7.51172 3.69727 7.42578C3.30273 7.28516 2.94336 7.13672 2.61914 6.98047C2.29492 6.82422 2.01758 6.64258 1.78711 6.43555C1.56055 6.22852 1.38477 5.98828 1.25977 5.71484C1.13477 5.4375 1.07227 5.10938 1.07227 4.73047C1.07227 4.39844 1.12891 4.0957 1.24219 3.82227C1.35547 3.54492 1.51562 3.30469 1.72266 3.10156C1.92969 2.89844 2.17969 2.73437 2.47266 2.60938C2.76562 2.48438 3.0918 2.4043 3.45117 2.36914V1.10938H4.38867V2.38086C4.74023 2.42773 5.05664 2.52344 5.33789 2.66797C5.61914 2.8125 5.85742 3.00195 6.05273 3.23633C6.25195 3.4668 6.4043 3.74023 6.50977 4.05664C6.61914 4.36914 6.67383 4.7207 6.67383 5.11133H5.04492C5.04492 4.63867 4.9375 4.28125 4.72266 4.03906C4.50781 3.79297 4.2168 3.66992 3.84961 3.66992C3.65039 3.66992 3.47656 3.69727 3.32812 3.75195C3.18359 3.80273 3.06445 3.87695 2.9707 3.97461C2.87695 4.06836 2.80664 4.17969 2.75977 4.30859C2.7168 4.4375 2.69531 4.57812 2.69531 4.73047C2.69531 4.88281 2.7168 5.01953 2.75977 5.14062C2.80664 5.25781 2.88281 5.36719 2.98828 5.46875C3.09766 5.57031 3.24023 5.66797 3.41602 5.76172C3.5918 5.85156 3.81055 5.94336 4.07227 6.03711C4.4668 6.18555 4.82422 6.33984 5.14453 6.5C5.46484 6.65625 5.73828 6.83984 5.96484 7.05078C6.19531 7.25781 6.37109 7.5 6.49219 7.77734C6.61719 8.05078 6.67969 8.375 6.67969 8.75C6.67969 9.09375 6.62305 9.4043 6.50977 9.68164C6.39648 9.95508 6.23438 10.1914 6.02344 10.3906C5.8125 10.5898 5.55859 10.75 5.26172 10.8711C4.96484 10.9883 4.63281 11.0645 4.26562 11.0996V12.248H3.33398V11.0996C3.00195 11.0684 2.67969 10.9961 2.36719 10.8828C2.05469 10.7656 1.77734 10.5977 1.53516 10.3789C1.29688 10.1602 1.10547 9.88477 0.960938 9.55273C0.816406 9.2168 0.744141 8.81445 0.744141 8.3457H2.37891C2.37891 8.62695 2.41992 8.86328 2.50195 9.05469C2.58398 9.24219 2.68945 9.39258 2.81836 9.50586C2.95117 9.61523 3.10156 9.69336 3.26953 9.74023C3.4375 9.78711 3.60938 9.81055 3.78516 9.81055C4.20312 9.81055 4.51953 9.71289 4.73438 9.51758C4.94922 9.32227 5.05664 9.07031 5.05664 8.76172ZM13.418 12.2715H8.07422V11H13.418V12.2715Z' transform='translate(3.95264 6)' fill='white'/%3e %3c/svg%3e");
  --jp-icon-text-editor: url("data:image/svg+xml,%3csvg xmlns='http://www.w3.org/2000/svg' width='16' viewBox='0 0 24 24'%3e %3cpath class='jp-text-editor-icon-color jp-icon-selectable' fill='%23616161' d='M15 15H3v2h12v-2zm0-8H3v2h12V7zM3 13h18v-2H3v2zm0 8h18v-2H3v2zM3 3v2h18V3H3z'/%3e %3c/svg%3e");
  --jp-icon-toc: url("data:image/svg+xml,%3csvg xmlns='http://www.w3.org/2000/svg' width='24' height='24' viewBox='0 0 24 24'%3e %3cg class='jp-icon3 jp-icon-selectable' fill='%23616161'%3e %3cpath d='M7%2c5H21V7H7V5M7%2c13V11H21V13H7M4%2c4.5A1.5%2c1.5 0 0%2c1 5.5%2c6A1.5%2c1.5 0 0%2c1 4%2c7.5A1.5%2c1.5 0 0%2c1 2.5%2c6A1.5%2c1.5 0 0%2c1 4%2c4.5M4%2c10.5A1.5%2c1.5 0 0%2c1 5.5%2c12A1.5%2c1.5 0 0%2c1 4%2c13.5A1.5%2c1.5 0 0%2c1 2.5%2c12A1.5%2c1.5 0 0%2c1 4%2c10.5M7%2c19V17H21V19H7M4%2c16.5A1.5%2c1.5 0 0%2c1 5.5%2c18A1.5%2c1.5 0 0%2c1 4%2c19.5A1.5%2c1.5 0 0%2c1 2.5%2c18A1.5%2c1.5 0 0%2c1 4%2c16.5Z' /%3e %3c/g%3e %3c/svg%3e");
  --jp-icon-tree-view: url("data:image/svg+xml,%3csvg height='24' viewBox='0 0 24 24' width='24' xmlns='http://www.w3.org/2000/svg'%3e %3cg class='jp-icon3' fill='%23616161'%3e %3cpath d='M0 0h24v24H0z' fill='none'/%3e %3cpath d='M22 11V3h-7v3H9V3H2v8h7V8h2v10h4v3h7v-8h-7v3h-2V8h2v3z'/%3e %3c/g%3e %3c/svg%3e");
  --jp-icon-trusted: url("data:image/svg+xml,%3csvg fill='none' xmlns='http://www.w3.org/2000/svg' width='16' viewBox='0 0 24 25'%3e %3cpath class='jp-icon2' stroke='%23333333' stroke-width='2' transform='translate(2 3)' d='M1.86094 11.4409C0.826448 8.77027 0.863779 6.05764 1.24907 4.19932C2.48206 3.93347 4.08068 3.40347 5.60102 2.8449C7.23549 2.2444 8.85666 1.5815 9.9876 1.09539C11.0597 1.58341 12.6094 2.2444 14.218 2.84339C15.7503 3.41394 17.3995 3.95258 18.7539 4.21385C19.1364 6.07177 19.1709 8.77722 18.139 11.4409C17.0303 14.3032 14.6668 17.1844 9.99999 18.9354C5.3332 17.1844 2.96968 14.3032 1.86094 11.4409Z'/%3e %3cpath class='jp-icon2' fill='%23333333' stroke='%23333333' transform='translate(8 9.86719)' d='M2.86015 4.86535L0.726549 2.99959L0 3.63045L2.86015 6.13157L8 0.630872L7.27857 0L2.86015 4.86535Z'/%3e %3c/svg%3e");
  --jp-icon-undo: url("data:image/svg+xml,%3csvg viewBox='0 0 24 24' width='16' xmlns='http://www.w3.org/2000/svg'%3e %3cg class='jp-icon3' fill='%23616161'%3e %3cpath d='M12.5 8c-2.65 0-5.05.99-6.9 2.6L2 7v9h9l-3.62-3.62c1.39-1.16 3.16-1.88 5.12-1.88 3.54 0 6.55 2.31 7.6 5.5l2.37-.78C21.08 11.03 17.15 8 12.5 8z'/%3e %3c/g%3e %3c/svg%3e");
  --jp-icon-user: url("data:image/svg+xml,%3csvg width='16' viewBox='0 0 24 24' xmlns='http://www.w3.org/2000/svg'%3e %3cg class='jp-icon3' fill='%23616161'%3e %3cpath d='M16 7a4 4 0 11-8 0 4 4 0 018 0zM12 14a7 7 0 00-7 7h14a7 7 0 00-7-7z'/%3e %3c/g%3e %3c/svg%3e");
  --jp-icon-users: url("data:image/svg+xml,%3csvg width='24' height='24' version='1.1' viewBox='0 0 36 24' xmlns='http://www.w3.org/2000/svg'%3e %3cg class='jp-icon3' transform='matrix(1.7327 0 0 1.7327 -3.6282 .099577)' fill='%23616161'%3e %3cpath transform='matrix(1.5%2c0%2c0%2c1.5%2c0%2c-6)' d='m12.186 7.5098c-1.0535 0-1.9757 0.5665-2.4785 1.4102 0.75061 0.31277 1.3974 0.82648 1.873 1.4727h3.4863c0-1.592-1.2889-2.8828-2.8809-2.8828z'/%3e %3cpath d='m20.465 2.3895a2.1885 2.1885 0 0 1-2.1884 2.1885 2.1885 2.1885 0 0 1-2.1885-2.1885 2.1885 2.1885 0 0 1 2.1885-2.1885 2.1885 2.1885 0 0 1 2.1884 2.1885z'/%3e %3cpath transform='matrix(1.5%2c0%2c0%2c1.5%2c0%2c-6)' d='m3.5898 8.4219c-1.1126 0-2.0137 0.90111-2.0137 2.0137h2.8145c0.26797-0.37309 0.5907-0.70435 0.95898-0.97852-0.34433-0.61688-1.0031-1.0352-1.7598-1.0352z'/%3e %3cpath d='m6.9154 4.623a1.5294 1.5294 0 0 1-1.5294 1.5294 1.5294 1.5294 0 0 1-1.5294-1.5294 1.5294 1.5294 0 0 1 1.5294-1.5294 1.5294 1.5294 0 0 1 1.5294 1.5294z'/%3e %3cpath d='m6.135 13.535c0-3.2392 2.6259-5.865 5.865-5.865 3.2392 0 5.865 2.6259 5.865 5.865z'/%3e %3ccircle cx='12' cy='3.7685' r='2.9685'/%3e %3c/g%3e %3c/svg%3e");
  --jp-icon-vega: url("data:image/svg+xml,%3csvg xmlns='http://www.w3.org/2000/svg' width='16' viewBox='0 0 22 22'%3e %3cg class='jp-icon1 jp-icon-selectable' fill='%23212121'%3e %3cpath d='M10.6 5.4l2.2-3.2H2.2v7.3l4-6.6z'/%3e %3cpath d='M15.8 2.2l-4.4 6.6L7 6.3l-4.8 8v5.5h17.6V2.2h-4zm-7 15.4H5.5v-4.4h3.3v4.4zm4.4 0H9.8V9.8h3.4v7.8zm4.4 0h-3.4V6.5h3.4v11.1z'/%3e %3c/g%3e %3c/svg%3e");
  --jp-icon-word: url("data:image/svg+xml,%3csvg xmlns='http://www.w3.org/2000/svg' width='16' viewBox='0 0 20 20'%3e %3cg class='jp-icon2' fill='%23414141'%3e %3crect x='2' y='2' width='16' height='16'/%3e %3c/g%3e %3cg class='jp-icon-accent2' transform='translate(.43 .0401)' fill='white'%3e %3cpath d='m4.14 8.76q0.0682-1.89 2.42-1.89 1.16 0 1.68 0.42 0.567 0.41 0.567 1.16v3.47q0 0.462 0.514 0.462 0.103 0 0.2-0.0231v0.714q-0.399 0.103-0.651 0.103-0.452 0-0.693-0.22-0.231-0.2-0.284-0.662-0.956 0.872-2 0.872-0.903 0-1.47-0.472-0.525-0.472-0.525-1.26 0-0.262 0.0452-0.472 0.0567-0.22 0.116-0.378 0.0682-0.168 0.231-0.304 0.158-0.147 0.262-0.242 0.116-0.0914 0.368-0.168 0.262-0.0914 0.399-0.126 0.136-0.0452 0.472-0.103 0.336-0.0578 0.504-0.0798 0.158-0.0231 0.567-0.0798 0.556-0.0682 0.777-0.221 0.22-0.152 0.22-0.441v-0.252q0-0.43-0.357-0.662-0.336-0.231-0.976-0.231-0.662 0-0.998 0.262-0.336 0.252-0.399 0.798zm1.89 3.68q0.788 0 1.26-0.41 0.504-0.42 0.504-0.903v-1.05q-0.284 0.136-0.861 0.231-0.567 0.0914-0.987 0.158-0.42 0.0682-0.766 0.326-0.336 0.252-0.336 0.704t0.304 0.704 0.861 0.252z' stroke-width='1.05'/%3e %3cpath d='m10 4.56h0.945v3.15q0.651-0.976 1.89-0.976 1.16 0 1.89 0.84 0.682 0.84 0.682 2.31 0 1.47-0.704 2.42-0.704 0.882-1.89 0.882-1.26 0-1.89-1.02v0.766h-0.85zm2.62 3.04q-0.746 0-1.16 0.64-0.452 0.63-0.452 1.68 0 1.05 0.452 1.68t1.16 0.63q0.777 0 1.26-0.63 0.494-0.64 0.494-1.68 0-1.05-0.472-1.68-0.462-0.64-1.26-0.64z' stroke-width='1.05'/%3e %3cpath d='m2.73 15.8 13.6 0.0081c0.0069 0 0-2.6 0-2.6 0-0.0078-1.15 0-1.15 0-0.0069 0-0.0083 1.5-0.0083 1.5-2e-3 -0.0014-11.3-0.0014-11.3-0.0014l-0.00592-1.5c0-0.0078-1.17 0.0013-1.17 0.0013z' stroke-width='.975'/%3e %3c/g%3e %3c/svg%3e");
  --jp-icon-yaml: url("data:image/svg+xml,%3csvg xmlns='http://www.w3.org/2000/svg' width='16' viewBox='0 0 22 22'%3e %3cg class='jp-icon-contrast2 jp-icon-selectable' fill='%23D81B60'%3e %3cpath d='M7.2 18.6v-5.4L3 5.6h3.3l1.4 3.1c.3.9.6 1.6 1 2.5.3-.8.6-1.6 1-2.5l1.4-3.1h3.4l-4.4 7.6v5.5l-2.9-.1z'/%3e %3ccircle class='st0' cx='17.6' cy='16.5' r='2.1'/%3e %3ccircle class='st0' cx='17.6' cy='11' r='2.1'/%3e %3c/g%3e %3c/svg%3e");
}

/* Icon CSS class declarations */

.jp-AddAboveIcon {
  background-image: var(--jp-icon-add-above);
}

.jp-AddBelowIcon {
  background-image: var(--jp-icon-add-below);
}

.jp-AddIcon {
  background-image: var(--jp-icon-add);
}

.jp-BellIcon {
  background-image: var(--jp-icon-bell);
}

.jp-BugDotIcon {
  background-image: var(--jp-icon-bug-dot);
}

.jp-BugIcon {
  background-image: var(--jp-icon-bug);
}

.jp-BuildIcon {
  background-image: var(--jp-icon-build);
}

.jp-CaretDownEmptyIcon {
  background-image: var(--jp-icon-caret-down-empty);
}

.jp-CaretDownEmptyThinIcon {
  background-image: var(--jp-icon-caret-down-empty-thin);
}

.jp-CaretDownIcon {
  background-image: var(--jp-icon-caret-down);
}

.jp-CaretLeftIcon {
  background-image: var(--jp-icon-caret-left);
}

.jp-CaretRightIcon {
  background-image: var(--jp-icon-caret-right);
}

.jp-CaretUpEmptyThinIcon {
  background-image: var(--jp-icon-caret-up-empty-thin);
}

.jp-CaretUpIcon {
  background-image: var(--jp-icon-caret-up);
}

.jp-CaseSensitiveIcon {
  background-image: var(--jp-icon-case-sensitive);
}

.jp-CheckIcon {
  background-image: var(--jp-icon-check);
}

.jp-CircleEmptyIcon {
  background-image: var(--jp-icon-circle-empty);
}

.jp-CircleIcon {
  background-image: var(--jp-icon-circle);
}

.jp-ClearIcon {
  background-image: var(--jp-icon-clear);
}

.jp-CloseIcon {
  background-image: var(--jp-icon-close);
}

.jp-CodeCheckIcon {
  background-image: var(--jp-icon-code-check);
}

.jp-CodeIcon {
  background-image: var(--jp-icon-code);
}

.jp-CollapseAllIcon {
  background-image: var(--jp-icon-collapse-all);
}

.jp-ConsoleIcon {
  background-image: var(--jp-icon-console);
}

.jp-CopyIcon {
  background-image: var(--jp-icon-copy);
}

.jp-CopyrightIcon {
  background-image: var(--jp-icon-copyright);
}

.jp-CutIcon {
  background-image: var(--jp-icon-cut);
}

.jp-DeleteIcon {
  background-image: var(--jp-icon-delete);
}

.jp-DownloadIcon {
  background-image: var(--jp-icon-download);
}

.jp-DuplicateIcon {
  background-image: var(--jp-icon-duplicate);
}

.jp-EditIcon {
  background-image: var(--jp-icon-edit);
}

.jp-EllipsesIcon {
  background-image: var(--jp-icon-ellipses);
}

.jp-ErrorIcon {
  background-image: var(--jp-icon-error);
}

.jp-ExpandAllIcon {
  background-image: var(--jp-icon-expand-all);
}

.jp-ExtensionIcon {
  background-image: var(--jp-icon-extension);
}

.jp-FastForwardIcon {
  background-image: var(--jp-icon-fast-forward);
}

.jp-FileIcon {
  background-image: var(--jp-icon-file);
}

.jp-FileUploadIcon {
  background-image: var(--jp-icon-file-upload);
}

.jp-FilterDotIcon {
  background-image: var(--jp-icon-filter-dot);
}

.jp-FilterIcon {
  background-image: var(--jp-icon-filter);
}

.jp-FilterListIcon {
  background-image: var(--jp-icon-filter-list);
}

.jp-FolderFavoriteIcon {
  background-image: var(--jp-icon-folder-favorite);
}

.jp-FolderIcon {
  background-image: var(--jp-icon-folder);
}

.jp-HomeIcon {
  background-image: var(--jp-icon-home);
}

.jp-Html5Icon {
  background-image: var(--jp-icon-html5);
}

.jp-ImageIcon {
  background-image: var(--jp-icon-image);
}

.jp-InfoIcon {
  background-image: var(--jp-icon-info);
}

.jp-InspectorIcon {
  background-image: var(--jp-icon-inspector);
}

.jp-JsonIcon {
  background-image: var(--jp-icon-json);
}

.jp-JuliaIcon {
  background-image: var(--jp-icon-julia);
}

.jp-JupyterFaviconIcon {
  background-image: var(--jp-icon-jupyter-favicon);
}

.jp-JupyterIcon {
  background-image: var(--jp-icon-jupyter);
}

.jp-JupyterlabWordmarkIcon {
  background-image: var(--jp-icon-jupyterlab-wordmark);
}

.jp-KernelIcon {
  background-image: var(--jp-icon-kernel);
}

.jp-KeyboardIcon {
  background-image: var(--jp-icon-keyboard);
}

.jp-LaunchIcon {
  background-image: var(--jp-icon-launch);
}

.jp-LauncherIcon {
  background-image: var(--jp-icon-launcher);
}

.jp-LineFormIcon {
  background-image: var(--jp-icon-line-form);
}

.jp-LinkIcon {
  background-image: var(--jp-icon-link);
}

.jp-ListIcon {
  background-image: var(--jp-icon-list);
}

.jp-MarkdownIcon {
  background-image: var(--jp-icon-markdown);
}

.jp-MoveDownIcon {
  background-image: var(--jp-icon-move-down);
}

.jp-MoveUpIcon {
  background-image: var(--jp-icon-move-up);
}

.jp-NewFolderIcon {
  background-image: var(--jp-icon-new-folder);
}

.jp-NotTrustedIcon {
  background-image: var(--jp-icon-not-trusted);
}

.jp-NotebookIcon {
  background-image: var(--jp-icon-notebook);
}

.jp-NumberingIcon {
  background-image: var(--jp-icon-numbering);
}

.jp-OfflineBoltIcon {
  background-image: var(--jp-icon-offline-bolt);
}

.jp-PaletteIcon {
  background-image: var(--jp-icon-palette);
}

.jp-PasteIcon {
  background-image: var(--jp-icon-paste);
}

.jp-PdfIcon {
  background-image: var(--jp-icon-pdf);
}

.jp-PythonIcon {
  background-image: var(--jp-icon-python);
}

.jp-RKernelIcon {
  background-image: var(--jp-icon-r-kernel);
}

.jp-ReactIcon {
  background-image: var(--jp-icon-react);
}

.jp-RedoIcon {
  background-image: var(--jp-icon-redo);
}

.jp-RefreshIcon {
  background-image: var(--jp-icon-refresh);
}

.jp-RegexIcon {
  background-image: var(--jp-icon-regex);
}

.jp-RunIcon {
  background-image: var(--jp-icon-run);
}

.jp-RunningIcon {
  background-image: var(--jp-icon-running);
}

.jp-SaveIcon {
  background-image: var(--jp-icon-save);
}

.jp-SearchIcon {
  background-image: var(--jp-icon-search);
}

.jp-SettingsIcon {
  background-image: var(--jp-icon-settings);
}

.jp-ShareIcon {
  background-image: var(--jp-icon-share);
}

.jp-SpreadsheetIcon {
  background-image: var(--jp-icon-spreadsheet);
}

.jp-StopIcon {
  background-image: var(--jp-icon-stop);
}

.jp-TabIcon {
  background-image: var(--jp-icon-tab);
}

.jp-TableRowsIcon {
  background-image: var(--jp-icon-table-rows);
}

.jp-TagIcon {
  background-image: var(--jp-icon-tag);
}

.jp-TerminalIcon {
  background-image: var(--jp-icon-terminal);
}

.jp-TextEditorIcon {
  background-image: var(--jp-icon-text-editor);
}

.jp-TocIcon {
  background-image: var(--jp-icon-toc);
}

.jp-TreeViewIcon {
  background-image: var(--jp-icon-tree-view);
}

.jp-TrustedIcon {
  background-image: var(--jp-icon-trusted);
}

.jp-UndoIcon {
  background-image: var(--jp-icon-undo);
}

.jp-UserIcon {
  background-image: var(--jp-icon-user);
}

.jp-UsersIcon {
  background-image: var(--jp-icon-users);
}

.jp-VegaIcon {
  background-image: var(--jp-icon-vega);
}

.jp-WordIcon {
  background-image: var(--jp-icon-word);
}

.jp-YamlIcon {
  background-image: var(--jp-icon-yaml);
}
</style><style>/*-----------------------------------------------------------------------------
| Copyright (c) Jupyter Development Team.
| Distributed under the terms of the Modified BSD License.
|----------------------------------------------------------------------------*/

/**
 * (DEPRECATED) Support for consuming icons as CSS background images
 */

.jp-Icon,
.jp-MaterialIcon {
  background-position: center;
  background-repeat: no-repeat;
  background-size: 16px;
  min-width: 16px;
  min-height: 16px;
}

.jp-Icon-cover {
  background-position: center;
  background-repeat: no-repeat;
  background-size: cover;
}

/**
 * (DEPRECATED) Support for specific CSS icon sizes
 */

.jp-Icon-16 {
  background-size: 16px;
  min-width: 16px;
  min-height: 16px;
}

.jp-Icon-18 {
  background-size: 18px;
  min-width: 18px;
  min-height: 18px;
}

.jp-Icon-20 {
  background-size: 20px;
  min-width: 20px;
  min-height: 20px;
}
</style><style>/*-----------------------------------------------------------------------------
| Copyright (c) Jupyter Development Team.
| Distributed under the terms of the Modified BSD License.
|----------------------------------------------------------------------------*/

.lm-TabBar .lm-TabBar-addButton {
  align-items: center;
  display: flex;
  padding: 4px;
  padding-bottom: 5px;
  margin-right: 1px;
  background-color: var(--jp-layout-color2);
}

.lm-TabBar .lm-TabBar-addButton:hover {
  background-color: var(--jp-layout-color1);
}

.lm-DockPanel-tabBar .lm-TabBar-tab {
  width: var(--jp-private-horizontal-tab-width);
}

.lm-DockPanel-tabBar .lm-TabBar-content {
  flex: unset;
}

.lm-DockPanel-tabBar[data-orientation='horizontal'] {
  flex: 1 1 auto;
}
</style><style>/*-----------------------------------------------------------------------------
| Copyright (c) Jupyter Development Team.
| Distributed under the terms of the Modified BSD License.
|----------------------------------------------------------------------------*/

/**
 * Support for icons as inline SVG HTMLElements
 */

/* recolor the primary elements of an icon */
.jp-icon0[fill] {
  fill: var(--jp-inverse-layout-color0);
}

.jp-icon1[fill] {
  fill: var(--jp-inverse-layout-color1);
}

.jp-icon2[fill] {
  fill: var(--jp-inverse-layout-color2);
}

.jp-icon3[fill] {
  fill: var(--jp-inverse-layout-color3);
}

.jp-icon4[fill] {
  fill: var(--jp-inverse-layout-color4);
}

.jp-icon0[stroke] {
  stroke: var(--jp-inverse-layout-color0);
}

.jp-icon1[stroke] {
  stroke: var(--jp-inverse-layout-color1);
}

.jp-icon2[stroke] {
  stroke: var(--jp-inverse-layout-color2);
}

.jp-icon3[stroke] {
  stroke: var(--jp-inverse-layout-color3);
}

.jp-icon4[stroke] {
  stroke: var(--jp-inverse-layout-color4);
}

/* recolor the accent elements of an icon */
.jp-icon-accent0[fill] {
  fill: var(--jp-layout-color0);
}

.jp-icon-accent1[fill] {
  fill: var(--jp-layout-color1);
}

.jp-icon-accent2[fill] {
  fill: var(--jp-layout-color2);
}

.jp-icon-accent3[fill] {
  fill: var(--jp-layout-color3);
}

.jp-icon-accent4[fill] {
  fill: var(--jp-layout-color4);
}

.jp-icon-accent0[stroke] {
  stroke: var(--jp-layout-color0);
}

.jp-icon-accent1[stroke] {
  stroke: var(--jp-layout-color1);
}

.jp-icon-accent2[stroke] {
  stroke: var(--jp-layout-color2);
}

.jp-icon-accent3[stroke] {
  stroke: var(--jp-layout-color3);
}

.jp-icon-accent4[stroke] {
  stroke: var(--jp-layout-color4);
}

/* set the color of an icon to transparent */
.jp-icon-none[fill] {
  fill: none;
}

.jp-icon-none[stroke] {
  stroke: none;
}

/* brand icon colors. Same for light and dark */
.jp-icon-brand0[fill] {
  fill: var(--jp-brand-color0);
}

.jp-icon-brand1[fill] {
  fill: var(--jp-brand-color1);
}

.jp-icon-brand2[fill] {
  fill: var(--jp-brand-color2);
}

.jp-icon-brand3[fill] {
  fill: var(--jp-brand-color3);
}

.jp-icon-brand4[fill] {
  fill: var(--jp-brand-color4);
}

.jp-icon-brand0[stroke] {
  stroke: var(--jp-brand-color0);
}

.jp-icon-brand1[stroke] {
  stroke: var(--jp-brand-color1);
}

.jp-icon-brand2[stroke] {
  stroke: var(--jp-brand-color2);
}

.jp-icon-brand3[stroke] {
  stroke: var(--jp-brand-color3);
}

.jp-icon-brand4[stroke] {
  stroke: var(--jp-brand-color4);
}

/* warn icon colors. Same for light and dark */
.jp-icon-warn0[fill] {
  fill: var(--jp-warn-color0);
}

.jp-icon-warn1[fill] {
  fill: var(--jp-warn-color1);
}

.jp-icon-warn2[fill] {
  fill: var(--jp-warn-color2);
}

.jp-icon-warn3[fill] {
  fill: var(--jp-warn-color3);
}

.jp-icon-warn0[stroke] {
  stroke: var(--jp-warn-color0);
}

.jp-icon-warn1[stroke] {
  stroke: var(--jp-warn-color1);
}

.jp-icon-warn2[stroke] {
  stroke: var(--jp-warn-color2);
}

.jp-icon-warn3[stroke] {
  stroke: var(--jp-warn-color3);
}

/* icon colors that contrast well with each other and most backgrounds */
.jp-icon-contrast0[fill] {
  fill: var(--jp-icon-contrast-color0);
}

.jp-icon-contrast1[fill] {
  fill: var(--jp-icon-contrast-color1);
}

.jp-icon-contrast2[fill] {
  fill: var(--jp-icon-contrast-color2);
}

.jp-icon-contrast3[fill] {
  fill: var(--jp-icon-contrast-color3);
}

.jp-icon-contrast0[stroke] {
  stroke: var(--jp-icon-contrast-color0);
}

.jp-icon-contrast1[stroke] {
  stroke: var(--jp-icon-contrast-color1);
}

.jp-icon-contrast2[stroke] {
  stroke: var(--jp-icon-contrast-color2);
}

.jp-icon-contrast3[stroke] {
  stroke: var(--jp-icon-contrast-color3);
}

.jp-icon-dot[fill] {
  fill: var(--jp-warn-color0);
}

.jp-jupyter-icon-color[fill] {
  fill: var(--jp-jupyter-icon-color, var(--jp-warn-color0));
}

.jp-notebook-icon-color[fill] {
  fill: var(--jp-notebook-icon-color, var(--jp-warn-color0));
}

.jp-json-icon-color[fill] {
  fill: var(--jp-json-icon-color, var(--jp-warn-color1));
}

.jp-console-icon-color[fill] {
  fill: var(--jp-console-icon-color, white);
}

.jp-console-icon-background-color[fill] {
  fill: var(--jp-console-icon-background-color, var(--jp-brand-color1));
}

.jp-terminal-icon-color[fill] {
  fill: var(--jp-terminal-icon-color, var(--jp-layout-color2));
}

.jp-terminal-icon-background-color[fill] {
  fill: var(
    --jp-terminal-icon-background-color,
    var(--jp-inverse-layout-color2)
  );
}

.jp-text-editor-icon-color[fill] {
  fill: var(--jp-text-editor-icon-color, var(--jp-inverse-layout-color3));
}

.jp-inspector-icon-color[fill] {
  fill: var(--jp-inspector-icon-color, var(--jp-inverse-layout-color3));
}

/* CSS for icons in selected filebrowser listing items */
.jp-DirListing-item.jp-mod-selected .jp-icon-selectable[fill] {
  fill: #fff;
}

.jp-DirListing-item.jp-mod-selected .jp-icon-selectable-inverse[fill] {
  fill: var(--jp-brand-color1);
}

/* stylelint-disable selector-max-class, selector-max-compound-selectors */

/**
* TODO: come up with non css-hack solution for showing the busy icon on top
*  of the close icon
* CSS for complex behavior of close icon of tabs in the main area tabbar
*/
.lm-DockPanel-tabBar
  .lm-TabBar-tab.lm-mod-closable.jp-mod-dirty
  > .lm-TabBar-tabCloseIcon
  > :not(:hover)
  > .jp-icon3[fill] {
  fill: none;
}

.lm-DockPanel-tabBar
  .lm-TabBar-tab.lm-mod-closable.jp-mod-dirty
  > .lm-TabBar-tabCloseIcon
  > :not(:hover)
  > .jp-icon-busy[fill] {
  fill: var(--jp-inverse-layout-color3);
}

/* stylelint-enable selector-max-class, selector-max-compound-selectors */

/* CSS for icons in status bar */
#jp-main-statusbar .jp-mod-selected .jp-icon-selectable[fill] {
  fill: #fff;
}

#jp-main-statusbar .jp-mod-selected .jp-icon-selectable-inverse[fill] {
  fill: var(--jp-brand-color1);
}

/* special handling for splash icon CSS. While the theme CSS reloads during
   splash, the splash icon can loose theming. To prevent that, we set a
   default for its color variable */
:root {
  --jp-warn-color0: var(--md-orange-700);
}

/* not sure what to do with this one, used in filebrowser listing */
.jp-DragIcon {
  margin-right: 4px;
}
</style><style>/*-----------------------------------------------------------------------------
| Copyright (c) Jupyter Development Team.
| Distributed under the terms of the Modified BSD License.
|----------------------------------------------------------------------------*/

/**
 * Support for alt colors for icons as inline SVG HTMLElements
 */

/* alt recolor the primary elements of an icon */
.jp-icon-alt .jp-icon0[fill] {
  fill: var(--jp-layout-color0);
}

.jp-icon-alt .jp-icon1[fill] {
  fill: var(--jp-layout-color1);
}

.jp-icon-alt .jp-icon2[fill] {
  fill: var(--jp-layout-color2);
}

.jp-icon-alt .jp-icon3[fill] {
  fill: var(--jp-layout-color3);
}

.jp-icon-alt .jp-icon4[fill] {
  fill: var(--jp-layout-color4);
}

.jp-icon-alt .jp-icon0[stroke] {
  stroke: var(--jp-layout-color0);
}

.jp-icon-alt .jp-icon1[stroke] {
  stroke: var(--jp-layout-color1);
}

.jp-icon-alt .jp-icon2[stroke] {
  stroke: var(--jp-layout-color2);
}

.jp-icon-alt .jp-icon3[stroke] {
  stroke: var(--jp-layout-color3);
}

.jp-icon-alt .jp-icon4[stroke] {
  stroke: var(--jp-layout-color4);
}

/* alt recolor the accent elements of an icon */
.jp-icon-alt .jp-icon-accent0[fill] {
  fill: var(--jp-inverse-layout-color0);
}

.jp-icon-alt .jp-icon-accent1[fill] {
  fill: var(--jp-inverse-layout-color1);
}

.jp-icon-alt .jp-icon-accent2[fill] {
  fill: var(--jp-inverse-layout-color2);
}

.jp-icon-alt .jp-icon-accent3[fill] {
  fill: var(--jp-inverse-layout-color3);
}

.jp-icon-alt .jp-icon-accent4[fill] {
  fill: var(--jp-inverse-layout-color4);
}

.jp-icon-alt .jp-icon-accent0[stroke] {
  stroke: var(--jp-inverse-layout-color0);
}

.jp-icon-alt .jp-icon-accent1[stroke] {
  stroke: var(--jp-inverse-layout-color1);
}

.jp-icon-alt .jp-icon-accent2[stroke] {
  stroke: var(--jp-inverse-layout-color2);
}

.jp-icon-alt .jp-icon-accent3[stroke] {
  stroke: var(--jp-inverse-layout-color3);
}

.jp-icon-alt .jp-icon-accent4[stroke] {
  stroke: var(--jp-inverse-layout-color4);
}
</style><style>/*-----------------------------------------------------------------------------
| Copyright (c) Jupyter Development Team.
| Distributed under the terms of the Modified BSD License.
|----------------------------------------------------------------------------*/

.jp-icon-hoverShow:not(:hover) .jp-icon-hoverShow-content {
  display: none !important;
}

/**
 * Support for hover colors for icons as inline SVG HTMLElements
 */

/**
 * regular colors
 */

/* recolor the primary elements of an icon */
.jp-icon-hover :hover .jp-icon0-hover[fill] {
  fill: var(--jp-inverse-layout-color0);
}

.jp-icon-hover :hover .jp-icon1-hover[fill] {
  fill: var(--jp-inverse-layout-color1);
}

.jp-icon-hover :hover .jp-icon2-hover[fill] {
  fill: var(--jp-inverse-layout-color2);
}

.jp-icon-hover :hover .jp-icon3-hover[fill] {
  fill: var(--jp-inverse-layout-color3);
}

.jp-icon-hover :hover .jp-icon4-hover[fill] {
  fill: var(--jp-inverse-layout-color4);
}

.jp-icon-hover :hover .jp-icon0-hover[stroke] {
  stroke: var(--jp-inverse-layout-color0);
}

.jp-icon-hover :hover .jp-icon1-hover[stroke] {
  stroke: var(--jp-inverse-layout-color1);
}

.jp-icon-hover :hover .jp-icon2-hover[stroke] {
  stroke: var(--jp-inverse-layout-color2);
}

.jp-icon-hover :hover .jp-icon3-hover[stroke] {
  stroke: var(--jp-inverse-layout-color3);
}

.jp-icon-hover :hover .jp-icon4-hover[stroke] {
  stroke: var(--jp-inverse-layout-color4);
}

/* recolor the accent elements of an icon */
.jp-icon-hover :hover .jp-icon-accent0-hover[fill] {
  fill: var(--jp-layout-color0);
}

.jp-icon-hover :hover .jp-icon-accent1-hover[fill] {
  fill: var(--jp-layout-color1);
}

.jp-icon-hover :hover .jp-icon-accent2-hover[fill] {
  fill: var(--jp-layout-color2);
}

.jp-icon-hover :hover .jp-icon-accent3-hover[fill] {
  fill: var(--jp-layout-color3);
}

.jp-icon-hover :hover .jp-icon-accent4-hover[fill] {
  fill: var(--jp-layout-color4);
}

.jp-icon-hover :hover .jp-icon-accent0-hover[stroke] {
  stroke: var(--jp-layout-color0);
}

.jp-icon-hover :hover .jp-icon-accent1-hover[stroke] {
  stroke: var(--jp-layout-color1);
}

.jp-icon-hover :hover .jp-icon-accent2-hover[stroke] {
  stroke: var(--jp-layout-color2);
}

.jp-icon-hover :hover .jp-icon-accent3-hover[stroke] {
  stroke: var(--jp-layout-color3);
}

.jp-icon-hover :hover .jp-icon-accent4-hover[stroke] {
  stroke: var(--jp-layout-color4);
}

/* set the color of an icon to transparent */
.jp-icon-hover :hover .jp-icon-none-hover[fill] {
  fill: none;
}

.jp-icon-hover :hover .jp-icon-none-hover[stroke] {
  stroke: none;
}

/**
 * inverse colors
 */

/* inverse recolor the primary elements of an icon */
.jp-icon-hover.jp-icon-alt :hover .jp-icon0-hover[fill] {
  fill: var(--jp-layout-color0);
}

.jp-icon-hover.jp-icon-alt :hover .jp-icon1-hover[fill] {
  fill: var(--jp-layout-color1);
}

.jp-icon-hover.jp-icon-alt :hover .jp-icon2-hover[fill] {
  fill: var(--jp-layout-color2);
}

.jp-icon-hover.jp-icon-alt :hover .jp-icon3-hover[fill] {
  fill: var(--jp-layout-color3);
}

.jp-icon-hover.jp-icon-alt :hover .jp-icon4-hover[fill] {
  fill: var(--jp-layout-color4);
}

.jp-icon-hover.jp-icon-alt :hover .jp-icon0-hover[stroke] {
  stroke: var(--jp-layout-color0);
}

.jp-icon-hover.jp-icon-alt :hover .jp-icon1-hover[stroke] {
  stroke: var(--jp-layout-color1);
}

.jp-icon-hover.jp-icon-alt :hover .jp-icon2-hover[stroke] {
  stroke: var(--jp-layout-color2);
}

.jp-icon-hover.jp-icon-alt :hover .jp-icon3-hover[stroke] {
  stroke: var(--jp-layout-color3);
}

.jp-icon-hover.jp-icon-alt :hover .jp-icon4-hover[stroke] {
  stroke: var(--jp-layout-color4);
}

/* inverse recolor the accent elements of an icon */
.jp-icon-hover.jp-icon-alt :hover .jp-icon-accent0-hover[fill] {
  fill: var(--jp-inverse-layout-color0);
}

.jp-icon-hover.jp-icon-alt :hover .jp-icon-accent1-hover[fill] {
  fill: var(--jp-inverse-layout-color1);
}

.jp-icon-hover.jp-icon-alt :hover .jp-icon-accent2-hover[fill] {
  fill: var(--jp-inverse-layout-color2);
}

.jp-icon-hover.jp-icon-alt :hover .jp-icon-accent3-hover[fill] {
  fill: var(--jp-inverse-layout-color3);
}

.jp-icon-hover.jp-icon-alt :hover .jp-icon-accent4-hover[fill] {
  fill: var(--jp-inverse-layout-color4);
}

.jp-icon-hover.jp-icon-alt :hover .jp-icon-accent0-hover[stroke] {
  stroke: var(--jp-inverse-layout-color0);
}

.jp-icon-hover.jp-icon-alt :hover .jp-icon-accent1-hover[stroke] {
  stroke: var(--jp-inverse-layout-color1);
}

.jp-icon-hover.jp-icon-alt :hover .jp-icon-accent2-hover[stroke] {
  stroke: var(--jp-inverse-layout-color2);
}

.jp-icon-hover.jp-icon-alt :hover .jp-icon-accent3-hover[stroke] {
  stroke: var(--jp-inverse-layout-color3);
}

.jp-icon-hover.jp-icon-alt :hover .jp-icon-accent4-hover[stroke] {
  stroke: var(--jp-inverse-layout-color4);
}
</style><style>/*-----------------------------------------------------------------------------
| Copyright (c) Jupyter Development Team.
| Distributed under the terms of the Modified BSD License.
|----------------------------------------------------------------------------*/

.jp-IFrame {
  width: 100%;
  height: 100%;
}

.jp-IFrame > iframe {
  border: none;
}

/*
When drag events occur, `lm-mod-override-cursor` is added to the body.
Because iframes steal all cursor events, the following two rules are necessary
to suppress pointer events while resize drags are occurring. There may be a
better solution to this problem.
*/
body.lm-mod-override-cursor .jp-IFrame {
  position: relative;
}

body.lm-mod-override-cursor .jp-IFrame::before {
  content: '';
  position: absolute;
  top: 0;
  left: 0;
  right: 0;
  bottom: 0;
  background: transparent;
}
</style><style>/*-----------------------------------------------------------------------------
| Copyright (c) 2014-2016, Jupyter Development Team.
|
| Distributed under the terms of the Modified BSD License.
|----------------------------------------------------------------------------*/

.jp-HoverBox {
  position: fixed;
}
</style><style>/*-----------------------------------------------------------------------------
| Copyright (c) Jupyter Development Team.
| Distributed under the terms of the Modified BSD License.
|----------------------------------------------------------------------------*/

.jp-FormGroup-content fieldset {
  border: none;
  padding: 0;
  min-width: 0;
  width: 100%;
}

/* stylelint-disable selector-max-type */

.jp-FormGroup-content fieldset .jp-inputFieldWrapper > input,
.jp-FormGroup-content fieldset .jp-inputFieldWrapper > select,
.jp-FormGroup-content fieldset .jp-inputFieldWrapper > textarea {
  font-size: var(--jp-content-font-size2);
  border-color: var(--jp-input-border-color);
  border-style: solid;
  border-radius: var(--jp-border-radius);
  border-width: 1px;
  padding: 6px 8px;
  background: none;
  color: var(--jp-ui-font-color0);
  height: inherit;
}

.jp-FormGroup-content .jp-inputFieldWrapper > select > option {
  background-color: var(--jp-layout-color1);
}

.jp-FormGroup-content fieldset input[type='checkbox'] {
  position: relative;
  top: 2px;
  margin-left: 0;
}

.jp-FormGroup-content button.jp-mod-styled {
  cursor: pointer;
}

.jp-FormGroup-content .checkbox label {
  cursor: pointer;
  font-size: var(--jp-content-font-size1);
}

.jp-FormGroup-content .jp-root > fieldset > legend {
  display: none;
}

.jp-FormGroup-content .jp-root > fieldset > p {
  display: none;
}

/** copy of `input.jp-mod-styled:focus` style */
.jp-FormGroup-content fieldset input:focus,
.jp-FormGroup-content fieldset select:focus {
  -moz-outline-radius: unset;
  outline: var(--jp-border-width) solid var(--md-blue-500);
  outline-offset: -1px;
  box-shadow: inset 0 0 4px var(--md-blue-300);
}

.jp-FormGroup-content fieldset input:hover:not(:focus),
.jp-FormGroup-content fieldset select:hover:not(:focus) {
  background-color: var(--jp-border-color2);
}

/* stylelint-enable selector-max-type */

.jp-FormGroup-content .checkbox .field-description {
  /* Disable default description field for checkbox:
   because other widgets do not have description fields,
   we add descriptions to each widget on the field level.
  */
  display: none;
}

.jp-FormGroup-content #root__description {
  display: none;
}

.jp-FormGroup-content .jp-modifiedIndicator {
  width: 5px;
  background-color: var(--jp-brand-color2);
  margin-top: 0;
  margin-left: calc(var(--jp-private-settingeditor-modifier-indent) * -1);
  flex-shrink: 0;
}

.jp-FormGroup-content .jp-modifiedIndicator.jp-errorIndicator {
  background-color: var(--jp-error-color0);
  margin-right: 0.5em;
}

/* RJSF ARRAY style */

.jp-arrayFieldWrapper legend {
  font-size: var(--jp-content-font-size2);
  color: var(--jp-ui-font-color0);
  flex-basis: 100%;
  padding: 4px 0;
  font-weight: var(--jp-content-heading-font-weight);
  border-bottom: 1px solid var(--jp-border-color2);
}

.jp-arrayFieldWrapper .field-description {
  padding: 4px 0;
  white-space: pre-wrap;
}

.jp-arrayFieldWrapper .array-item {
  width: 100%;
  border: 1px solid var(--jp-border-color2);
  border-radius: 4px;
  margin: 4px;
}

.jp-ArrayOperations {
  display: flex;
  margin-left: 8px;
}

.jp-ArrayOperationsButton {
  margin: 2px;
}

.jp-ArrayOperationsButton .jp-icon3[fill] {
  fill: var(--jp-ui-font-color0);
}

button.jp-ArrayOperationsButton.jp-mod-styled:disabled {
  cursor: not-allowed;
  opacity: 0.5;
}

/* RJSF form validation error */

.jp-FormGroup-content .validationErrors {
  color: var(--jp-error-color0);
}

/* Hide panel level error as duplicated the field level error */
.jp-FormGroup-content .panel.errors {
  display: none;
}

/* RJSF normal content (settings-editor) */

.jp-FormGroup-contentNormal {
  display: flex;
  align-items: center;
  flex-wrap: wrap;
}

.jp-FormGroup-contentNormal .jp-FormGroup-contentItem {
  margin-left: 7px;
  color: var(--jp-ui-font-color0);
}

.jp-FormGroup-contentNormal .jp-FormGroup-description {
  flex-basis: 100%;
  padding: 4px 7px;
}

.jp-FormGroup-contentNormal .jp-FormGroup-default {
  flex-basis: 100%;
  padding: 4px 7px;
}

.jp-FormGroup-contentNormal .jp-FormGroup-fieldLabel {
  font-size: var(--jp-content-font-size1);
  font-weight: normal;
  min-width: 120px;
}

.jp-FormGroup-contentNormal fieldset:not(:first-child) {
  margin-left: 7px;
}

.jp-FormGroup-contentNormal .field-array-of-string .array-item {
  /* Display `jp-ArrayOperations` buttons side-by-side with content except
    for small screens where flex-wrap will place them one below the other.
  */
  display: flex;
  align-items: center;
  flex-wrap: wrap;
}

.jp-FormGroup-contentNormal .jp-objectFieldWrapper .form-group {
  padding: 2px 8px 2px var(--jp-private-settingeditor-modifier-indent);
  margin-top: 2px;
}

/* RJSF compact content (metadata-form) */

.jp-FormGroup-content.jp-FormGroup-contentCompact {
  width: 100%;
}

.jp-FormGroup-contentCompact .form-group {
  display: flex;
  padding: 0.5em 0.2em 0.5em 0;
}

.jp-FormGroup-contentCompact
  .jp-FormGroup-compactTitle
  .jp-FormGroup-description {
  font-size: var(--jp-ui-font-size1);
  color: var(--jp-ui-font-color2);
}

.jp-FormGroup-contentCompact .jp-FormGroup-fieldLabel {
  padding-bottom: 0.3em;
}

.jp-FormGroup-contentCompact .jp-inputFieldWrapper .form-control {
  width: 100%;
  box-sizing: border-box;
}

.jp-FormGroup-contentCompact .jp-arrayFieldWrapper .jp-FormGroup-compactTitle {
  padding-bottom: 7px;
}

.jp-FormGroup-contentCompact
  .jp-objectFieldWrapper
  .jp-objectFieldWrapper
  .form-group {
  padding: 2px 8px 2px var(--jp-private-settingeditor-modifier-indent);
  margin-top: 2px;
}

.jp-FormGroup-contentCompact ul.error-detail {
  margin-block-start: 0.5em;
  margin-block-end: 0.5em;
  padding-inline-start: 1em;
}
</style><style>/*
 * Copyright (c) Jupyter Development Team.
 * Distributed under the terms of the Modified BSD License.
 */

.jp-SidePanel {
  display: flex;
  flex-direction: column;
  min-width: var(--jp-sidebar-min-width);
  overflow-y: auto;
  color: var(--jp-ui-font-color1);
  background: var(--jp-layout-color1);
  font-size: var(--jp-ui-font-size1);
}

.jp-SidePanel-header {
  flex: 0 0 auto;
  display: flex;
  border-bottom: var(--jp-border-width) solid var(--jp-border-color2);
  font-size: var(--jp-ui-font-size0);
  font-weight: 600;
  letter-spacing: 1px;
  margin: 0;
  padding: 2px;
  text-transform: uppercase;
}

.jp-SidePanel-toolbar {
  flex: 0 0 auto;
}

.jp-SidePanel-content {
  flex: 1 1 auto;
}

.jp-SidePanel-toolbar,
.jp-AccordionPanel-toolbar {
  height: var(--jp-private-toolbar-height);
}

.jp-SidePanel-toolbar.jp-Toolbar-micro {
  display: none;
}

.lm-AccordionPanel .jp-AccordionPanel-title {
  box-sizing: border-box;
  line-height: 25px;
  margin: 0;
  display: flex;
  align-items: center;
  background: var(--jp-layout-color1);
  color: var(--jp-ui-font-color1);
  border-bottom: var(--jp-border-width) solid var(--jp-toolbar-border-color);
  box-shadow: var(--jp-toolbar-box-shadow);
  font-size: var(--jp-ui-font-size0);
}

.jp-AccordionPanel-title {
  cursor: pointer;
  user-select: none;
  -moz-user-select: none;
  -webkit-user-select: none;
  text-transform: uppercase;
}

.lm-AccordionPanel[data-orientation='horizontal'] > .jp-AccordionPanel-title {
  /* Title is rotated for horizontal accordion panel using CSS */
  display: block;
  transform-origin: top left;
  transform: rotate(-90deg) translate(-100%);
}

.jp-AccordionPanel-title .lm-AccordionPanel-titleLabel {
  user-select: none;
  text-overflow: ellipsis;
  white-space: nowrap;
  overflow: hidden;
}

.jp-AccordionPanel-title .lm-AccordionPanel-titleCollapser {
  transform: rotate(-90deg);
  margin: auto 0;
  height: 16px;
}

.jp-AccordionPanel-title.lm-mod-expanded .lm-AccordionPanel-titleCollapser {
  transform: rotate(0deg);
}

.lm-AccordionPanel .jp-AccordionPanel-toolbar {
  background: none;
  box-shadow: none;
  border: none;
  margin-left: auto;
}

.lm-AccordionPanel .lm-SplitPanel-handle:hover {
  background: var(--jp-layout-color3);
}

.jp-text-truncated {
  overflow: hidden;
  text-overflow: ellipsis;
  white-space: nowrap;
}
</style><style>/*-----------------------------------------------------------------------------
| Copyright (c) 2017, Jupyter Development Team.
|
| Distributed under the terms of the Modified BSD License.
|----------------------------------------------------------------------------*/

.jp-Spinner {
  position: absolute;
  display: flex;
  justify-content: center;
  align-items: center;
  z-index: 10;
  left: 0;
  top: 0;
  width: 100%;
  height: 100%;
  background: var(--jp-layout-color0);
  outline: none;
}

.jp-SpinnerContent {
  font-size: 10px;
  margin: 50px auto;
  text-indent: -9999em;
  width: 3em;
  height: 3em;
  border-radius: 50%;
  background: var(--jp-brand-color3);
  background: linear-gradient(
    to right,
    #f37626 10%,
    rgba(255, 255, 255, 0) 42%
  );
  position: relative;
  animation:
    load3 1s infinite linear,
    fadeIn 1s;
}

.jp-SpinnerContent::before {
  width: 50%;
  height: 50%;
  background: #f37626;
  border-radius: 100% 0 0;
  position: absolute;
  top: 0;
  left: 0;
  content: '';
}

.jp-SpinnerContent::after {
  background: var(--jp-layout-color0);
  width: 75%;
  height: 75%;
  border-radius: 50%;
  content: '';
  margin: auto;
  position: absolute;
  top: 0;
  left: 0;
  bottom: 0;
  right: 0;
}

@keyframes fadeIn {
  0% {
    opacity: 0;
  }

  100% {
    opacity: 1;
  }
}

@keyframes load3 {
  0% {
    transform: rotate(0deg);
  }

  100% {
    transform: rotate(360deg);
  }
}
</style><style>/*-----------------------------------------------------------------------------
| Copyright (c) 2014-2017, Jupyter Development Team.
|
| Distributed under the terms of the Modified BSD License.
|----------------------------------------------------------------------------*/

button.jp-mod-styled {
  font-size: var(--jp-ui-font-size1);
  color: var(--jp-ui-font-color0);
  border: none;
  box-sizing: border-box;
  text-align: center;
  line-height: 32px;
  height: 32px;
  padding: 0 12px;
  letter-spacing: 0.8px;
  outline: none;
  appearance: none;
  -webkit-appearance: none;
  -moz-appearance: none;
}

input.jp-mod-styled {
  background: var(--jp-input-background);
  height: 28px;
  box-sizing: border-box;
  border: var(--jp-border-width) solid var(--jp-border-color1);
  padding-left: 7px;
  padding-right: 7px;
  font-size: var(--jp-ui-font-size2);
  color: var(--jp-ui-font-color0);
  outline: none;
  appearance: none;
  -webkit-appearance: none;
  -moz-appearance: none;
}

input[type='checkbox'].jp-mod-styled {
  appearance: checkbox;
  -webkit-appearance: checkbox;
  -moz-appearance: checkbox;
  height: auto;
}

input.jp-mod-styled:focus {
  border: var(--jp-border-width) solid var(--md-blue-500);
  box-shadow: inset 0 0 4px var(--md-blue-300);
}

input[type='checkbox'].jp-mod-styled:focus-visible {
  outline: var(--jp-border-width) solid var(--jp-input-active-border-color);
  outline-offset: 1px;
}

.jp-select-wrapper {
  display: flex;
  position: relative;
  flex-direction: column;
  padding: 1px;
  background-color: var(--jp-layout-color1);
  box-sizing: border-box;
  margin-bottom: 12px;
}

.jp-select-wrapper:not(.multiple) {
  height: 28px;
}

.jp-select-wrapper.jp-mod-focused select.jp-mod-styled {
  border: var(--jp-border-width) solid var(--jp-input-active-border-color);
  box-shadow: var(--jp-input-box-shadow);
  background-color: var(--jp-input-active-background);
}

select.jp-mod-styled:hover {
  cursor: pointer;
  color: var(--jp-ui-font-color0);
  background-color: var(--jp-input-hover-background);
  box-shadow: inset 0 0 1px rgba(0, 0, 0, 0.5);
}

select.jp-mod-styled {
  flex: 1 1 auto;
  width: 100%;
  font-size: var(--jp-ui-font-size2);
  background: var(--jp-input-background);
  color: var(--jp-ui-font-color0);
  padding: 0 25px 0 8px;
  border: var(--jp-border-width) solid var(--jp-input-border-color);
  border-radius: 0;
  outline: none;
  appearance: none;
  -webkit-appearance: none;
  -moz-appearance: none;
}

select.jp-mod-styled:not([multiple]) {
  height: 32px;
}

select.jp-mod-styled[multiple] {
  max-height: 200px;
  overflow-y: auto;
}
</style><style>/*-----------------------------------------------------------------------------
| Copyright (c) Jupyter Development Team.
| Distributed under the terms of the Modified BSD License.
|----------------------------------------------------------------------------*/

.jp-switch {
  display: flex;
  align-items: center;
  padding-left: 4px;
  padding-right: 4px;
  font-size: var(--jp-ui-font-size1);
  background-color: transparent;
  color: var(--jp-ui-font-color1);
  border: none;
  height: 20px;
}

.jp-switch:hover {
  background-color: var(--jp-layout-color2);
}

.jp-switch-label {
  margin-right: 5px;
  font-family: var(--jp-ui-font-family);
}

.jp-switch-track {
  cursor: pointer;
  background-color: var(--jp-switch-color, var(--jp-border-color1));
  -webkit-transition: 0.4s;
  transition: 0.4s;
  border-radius: 34px;
  height: 16px;
  width: 35px;
  position: relative;
}

.jp-switch-track::before {
  content: '';
  position: absolute;
  height: 10px;
  width: 10px;
  margin: 3px;
  left: 0;
  background-color: var(--jp-ui-inverse-font-color1);
  -webkit-transition: 0.4s;
  transition: 0.4s;
  border-radius: 50%;
}

.jp-switch[aria-checked='true'] .jp-switch-track {
  background-color: var(--jp-switch-true-position-color, var(--jp-warn-color0));
}

.jp-switch[aria-checked='true'] .jp-switch-track::before {
  /* track width (35) - margins (3 + 3) - thumb width (10) */
  left: 19px;
}
</style><style>/*-----------------------------------------------------------------------------
| Copyright (c) 2014-2016, Jupyter Development Team.
|
| Distributed under the terms of the Modified BSD License.
|----------------------------------------------------------------------------*/

:root {
  --jp-private-toolbar-height: calc(
    28px + var(--jp-border-width)
  ); /* leave 28px for content */
}

.jp-Toolbar {
  color: var(--jp-ui-font-color1);
  flex: 0 0 auto;
  display: flex;
  flex-direction: row;
  border-bottom: var(--jp-border-width) solid var(--jp-toolbar-border-color);
  box-shadow: var(--jp-toolbar-box-shadow);
  background: var(--jp-toolbar-background);
  min-height: var(--jp-toolbar-micro-height);
  padding: 2px;
  z-index: 8;
  overflow-x: hidden;
}

/* Toolbar items */

.jp-Toolbar > .jp-Toolbar-item.jp-Toolbar-spacer {
  flex-grow: 1;
  flex-shrink: 1;
}

.jp-Toolbar-item.jp-Toolbar-kernelStatus {
  display: inline-block;
  width: 32px;
  background-repeat: no-repeat;
  background-position: center;
  background-size: 16px;
}

.jp-Toolbar > .jp-Toolbar-item {
  flex: 0 0 auto;
  display: flex;
  padding-left: 1px;
  padding-right: 1px;
  font-size: var(--jp-ui-font-size1);
  line-height: var(--jp-private-toolbar-height);
  height: 100%;
}

/* Toolbar buttons */

/* This is the div we use to wrap the react component into a Widget */
div.jp-ToolbarButton {
  color: transparent;
  border: none;
  box-sizing: border-box;
  outline: none;
  appearance: none;
  -webkit-appearance: none;
  -moz-appearance: none;
  padding: 0;
  margin: 0;
}

button.jp-ToolbarButtonComponent {
  background: var(--jp-layout-color1);
  border: none;
  box-sizing: border-box;
  outline: none;
  appearance: none;
  -webkit-appearance: none;
  -moz-appearance: none;
  padding: 0 6px;
  margin: 0;
  height: 24px;
  border-radius: var(--jp-border-radius);
  display: flex;
  align-items: center;
  text-align: center;
  font-size: 14px;
  min-width: unset;
  min-height: unset;
}

button.jp-ToolbarButtonComponent:disabled {
  opacity: 0.4;
}

button.jp-ToolbarButtonComponent > span {
  padding: 0;
  flex: 0 0 auto;
}

button.jp-ToolbarButtonComponent .jp-ToolbarButtonComponent-label {
  font-size: var(--jp-ui-font-size1);
  line-height: 100%;
  padding-left: 2px;
  color: var(--jp-ui-font-color1);
  font-family: var(--jp-ui-font-family);
}

#jp-main-dock-panel[data-mode='single-document']
  .jp-MainAreaWidget
  > .jp-Toolbar.jp-Toolbar-micro {
  padding: 0;
  min-height: 0;
}

#jp-main-dock-panel[data-mode='single-document']
  .jp-MainAreaWidget
  > .jp-Toolbar {
  border: none;
  box-shadow: none;
}
</style><style>/*
 * Copyright (c) Jupyter Development Team.
 * Distributed under the terms of the Modified BSD License.
 */

.jp-WindowedPanel-outer {
  position: relative;
  overflow-y: auto;
}

.jp-WindowedPanel-inner {
  position: relative;
}

.jp-WindowedPanel-window {
  position: absolute;
  left: 0;
  right: 0;
  overflow: visible;
}
</style><style>/*-----------------------------------------------------------------------------
| Copyright (c) Jupyter Development Team.
| Distributed under the terms of the Modified BSD License.
|----------------------------------------------------------------------------*/

/* Sibling imports */

body {
  color: var(--jp-ui-font-color1);
  font-size: var(--jp-ui-font-size1);
}

/* Disable native link decoration styles everywhere outside of dialog boxes */
a {
  text-decoration: unset;
  color: unset;
}

a:hover {
  text-decoration: unset;
  color: unset;
}

/* Accessibility for links inside dialog box text */
.jp-Dialog-content a {
  text-decoration: revert;
  color: var(--jp-content-link-color);
}

.jp-Dialog-content a:hover {
  text-decoration: revert;
}

/* Styles for ui-components */
.jp-Button {
  color: var(--jp-ui-font-color2);
  border-radius: var(--jp-border-radius);
  padding: 0 12px;
  font-size: var(--jp-ui-font-size1);

  /* Copy from blueprint 3 */
  display: inline-flex;
  flex-direction: row;
  border: none;
  cursor: pointer;
  align-items: center;
  justify-content: center;
  text-align: left;
  vertical-align: middle;
  min-height: 30px;
  min-width: 30px;
}

.jp-Button:disabled {
  cursor: not-allowed;
}

.jp-Button:empty {
  padding: 0 !important;
}

.jp-Button.jp-mod-small {
  min-height: 24px;
  min-width: 24px;
  font-size: 12px;
  padding: 0 7px;
}

/* Use our own theme for hover styles */
.jp-Button.jp-mod-minimal:hover {
  background-color: var(--jp-layout-color2);
}

.jp-Button.jp-mod-minimal {
  background: none;
}

.jp-InputGroup {
  display: block;
  position: relative;
}

.jp-InputGroup input {
  box-sizing: border-box;
  border: none;
  border-radius: 0;
  background-color: transparent;
  color: var(--jp-ui-font-color0);
  box-shadow: inset 0 0 0 var(--jp-border-width) var(--jp-input-border-color);
  padding-bottom: 0;
  padding-top: 0;
  padding-left: 10px;
  padding-right: 28px;
  position: relative;
  width: 100%;
  -webkit-appearance: none;
  -moz-appearance: none;
  appearance: none;
  font-size: 14px;
  font-weight: 400;
  height: 30px;
  line-height: 30px;
  outline: none;
  vertical-align: middle;
}

.jp-InputGroup input:focus {
  box-shadow:
    inset 0 0 0 var(--jp-border-width) var(--jp-input-active-box-shadow-color),
    inset 0 0 0 3px var(--jp-input-active-box-shadow-color);
}

.jp-InputGroup input:disabled {
  cursor: not-allowed;
  resize: block;
  background-color: var(--jp-layout-color2);
  color: var(--jp-ui-font-color2);
}

.jp-InputGroup input:disabled ~ span {
  cursor: not-allowed;
  color: var(--jp-ui-font-color2);
}

.jp-InputGroup input::placeholder,
input::placeholder {
  color: var(--jp-ui-font-color2);
}

.jp-InputGroupAction {
  position: absolute;
  bottom: 1px;
  right: 0;
  padding: 6px;
}

.jp-HTMLSelect.jp-DefaultStyle select {
  background-color: initial;
  border: none;
  border-radius: 0;
  box-shadow: none;
  color: var(--jp-ui-font-color0);
  display: block;
  font-size: var(--jp-ui-font-size1);
  font-family: var(--jp-ui-font-family);
  height: 24px;
  line-height: 14px;
  padding: 0 25px 0 10px;
  text-align: left;
  -moz-appearance: none;
  -webkit-appearance: none;
}

.jp-HTMLSelect.jp-DefaultStyle select:disabled {
  background-color: var(--jp-layout-color2);
  color: var(--jp-ui-font-color2);
  cursor: not-allowed;
  resize: block;
}

.jp-HTMLSelect.jp-DefaultStyle select:disabled ~ span {
  cursor: not-allowed;
}

/* Use our own theme for hover and option styles */
/* stylelint-disable-next-line selector-max-type */
.jp-HTMLSelect.jp-DefaultStyle select:hover,
.jp-HTMLSelect.jp-DefaultStyle select > option {
  background-color: var(--jp-layout-color2);
  color: var(--jp-ui-font-color0);
}

select {
  box-sizing: border-box;
}
</style><style>/*-----------------------------------------------------------------------------
| Copyright (c) Jupyter Development Team.
| Distributed under the terms of the Modified BSD License.
|----------------------------------------------------------------------------*/

/*-----------------------------------------------------------------------------
| Styles
|----------------------------------------------------------------------------*/

.jp-StatusBar-Widget {
  display: flex;
  align-items: center;
  background: var(--jp-layout-color2);
  min-height: var(--jp-statusbar-height);
  justify-content: space-between;
  padding: 0 10px;
}

.jp-StatusBar-Left {
  display: flex;
  align-items: center;
  flex-direction: row;
}

.jp-StatusBar-Middle {
  display: flex;
  align-items: center;
}

.jp-StatusBar-Right {
  display: flex;
  align-items: center;
  flex-direction: row-reverse;
}

.jp-StatusBar-Item {
  max-height: var(--jp-statusbar-height);
  margin: 0 2px;
  height: var(--jp-statusbar-height);
  white-space: nowrap;
  text-overflow: ellipsis;
  color: var(--jp-ui-font-color1);
  padding: 0 6px;
}

.jp-mod-highlighted:hover {
  background-color: var(--jp-layout-color3);
}

.jp-mod-clicked {
  background-color: var(--jp-brand-color1);
}

.jp-mod-clicked:hover {
  background-color: var(--jp-brand-color0);
}

.jp-mod-clicked .jp-StatusBar-TextItem {
  color: var(--jp-ui-inverse-font-color1);
}

.jp-StatusBar-HoverItem {
  box-shadow: 0 4px 4px rgba(0, 0, 0, 0.25);
}

.jp-StatusBar-TextItem {
  font-size: var(--jp-ui-font-size1);
  font-family: var(--jp-ui-font-family);
  line-height: 24px;
  color: var(--jp-ui-font-color1);
}

.jp-StatusBar-GroupItem {
  display: flex;
  align-items: center;
  flex-direction: row;
}

.jp-Statusbar-ProgressCircle svg {
  display: block;
  margin: 0 auto;
  width: 16px;
  height: 24px;
  align-self: normal;
}

.jp-Statusbar-ProgressCircle path {
  fill: var(--jp-inverse-layout-color3);
}

.jp-Statusbar-ProgressBar-progress-bar {
  height: 10px;
  width: 100px;
  border: solid 0.25px var(--jp-brand-color2);
  border-radius: 3px;
  overflow: hidden;
  align-self: center;
}

.jp-Statusbar-ProgressBar-progress-bar > div {
  background-color: var(--jp-brand-color2);
  background-image: linear-gradient(
    -45deg,
    rgba(255, 255, 255, 0.2) 25%,
    transparent 25%,
    transparent 50%,
    rgba(255, 255, 255, 0.2) 50%,
    rgba(255, 255, 255, 0.2) 75%,
    transparent 75%,
    transparent
  );
  background-size: 40px 40px;
  float: left;
  width: 0%;
  height: 100%;
  font-size: 12px;
  line-height: 14px;
  color: #fff;
  text-align: center;
  animation: jp-Statusbar-ExecutionTime-progress-bar 2s linear infinite;
}

.jp-Statusbar-ProgressBar-progress-bar p {
  color: var(--jp-ui-font-color1);
  font-family: var(--jp-ui-font-family);
  font-size: var(--jp-ui-font-size1);
  line-height: 10px;
  width: 100px;
}

@keyframes jp-Statusbar-ExecutionTime-progress-bar {
  0% {
    background-position: 0 0;
  }

  100% {
    background-position: 40px 40px;
  }
}
</style><style>/*-----------------------------------------------------------------------------
| Copyright (c) Jupyter Development Team.
| Distributed under the terms of the Modified BSD License.
|----------------------------------------------------------------------------*/

/*-----------------------------------------------------------------------------
| Variables
|----------------------------------------------------------------------------*/

:root {
  --jp-private-commandpalette-search-height: 28px;
}

/*-----------------------------------------------------------------------------
| Overall styles
|----------------------------------------------------------------------------*/

.lm-CommandPalette {
  padding-bottom: 0;
  color: var(--jp-ui-font-color1);
  background: var(--jp-layout-color1);

  /* This is needed so that all font sizing of children done in ems is
   * relative to this base size */
  font-size: var(--jp-ui-font-size1);
}

/*-----------------------------------------------------------------------------
| Modal variant
|----------------------------------------------------------------------------*/

.jp-ModalCommandPalette {
  position: absolute;
  z-index: 10000;
  top: 38px;
  left: 30%;
  margin: 0;
  padding: 4px;
  width: 40%;
  box-shadow: var(--jp-elevation-z4);
  border-radius: 4px;
  background: var(--jp-layout-color0);
}

.jp-ModalCommandPalette .lm-CommandPalette {
  max-height: 40vh;
}

.jp-ModalCommandPalette .lm-CommandPalette .lm-close-icon::after {
  display: none;
}

.jp-ModalCommandPalette .lm-CommandPalette .lm-CommandPalette-header {
  display: none;
}

.jp-ModalCommandPalette .lm-CommandPalette .lm-CommandPalette-item {
  margin-left: 4px;
  margin-right: 4px;
}

.jp-ModalCommandPalette
  .lm-CommandPalette
  .lm-CommandPalette-item.lm-mod-disabled {
  display: none;
}

/*-----------------------------------------------------------------------------
| Search
|----------------------------------------------------------------------------*/

.lm-CommandPalette-search {
  padding: 4px;
  background-color: var(--jp-layout-color1);
  z-index: 2;
}

.lm-CommandPalette-wrapper {
  /* stylelint-disable-next-line csstree/validator */
  overflow: overlay;
  padding: 0 9px;
  background-color: var(--jp-input-active-background);
  height: 30px;
  box-shadow: inset 0 0 0 var(--jp-border-width) var(--jp-input-border-color);
}

.lm-CommandPalette.lm-mod-focused .lm-CommandPalette-wrapper {
  box-shadow:
    inset 0 0 0 1px var(--jp-input-active-box-shadow-color),
    inset 0 0 0 3px var(--jp-input-active-box-shadow-color);
}

.jp-SearchIconGroup {
  color: white;
  background-color: var(--jp-brand-color1);
  position: absolute;
  top: 4px;
  right: 4px;
  padding: 5px 5px 1px;
}

.jp-SearchIconGroup svg {
  height: 20px;
  width: 20px;
}

.jp-SearchIconGroup .jp-icon3[fill] {
  fill: var(--jp-layout-color0);
}

.lm-CommandPalette-input {
  background: transparent;
  width: calc(100% - 18px);
  float: left;
  border: none;
  outline: none;
  font-size: var(--jp-ui-font-size1);
  color: var(--jp-ui-font-color0);
  line-height: var(--jp-private-commandpalette-search-height);
}

.lm-CommandPalette-input::-webkit-input-placeholder,
.lm-CommandPalette-input::-moz-placeholder,
.lm-CommandPalette-input:-ms-input-placeholder {
  color: var(--jp-ui-font-color2);
  font-size: var(--jp-ui-font-size1);
}

/*-----------------------------------------------------------------------------
| Results
|----------------------------------------------------------------------------*/

.lm-CommandPalette-header:first-child {
  margin-top: 0;
}

.lm-CommandPalette-header {
  border-bottom: solid var(--jp-border-width) var(--jp-border-color2);
  color: var(--jp-ui-font-color1);
  cursor: pointer;
  display: flex;
  font-size: var(--jp-ui-font-size0);
  font-weight: 600;
  letter-spacing: 1px;
  margin-top: 8px;
  padding: 8px 0 8px 12px;
  text-transform: uppercase;
}

.lm-CommandPalette-header.lm-mod-active {
  background: var(--jp-layout-color2);
}

.lm-CommandPalette-header > mark {
  background-color: transparent;
  font-weight: bold;
  color: var(--jp-ui-font-color1);
}

.lm-CommandPalette-item {
  padding: 4px 12px 4px 4px;
  color: var(--jp-ui-font-color1);
  font-size: var(--jp-ui-font-size1);
  font-weight: 400;
  display: flex;
}

.lm-CommandPalette-item.lm-mod-disabled {
  color: var(--jp-ui-font-color2);
}

.lm-CommandPalette-item.lm-mod-active {
  color: var(--jp-ui-inverse-font-color1);
  background: var(--jp-brand-color1);
}

.lm-CommandPalette-item.lm-mod-active .lm-CommandPalette-itemLabel > mark {
  color: var(--jp-ui-inverse-font-color0);
}

.lm-CommandPalette-item.lm-mod-active .jp-icon-selectable[fill] {
  fill: var(--jp-layout-color0);
}

.lm-CommandPalette-item.lm-mod-active:hover:not(.lm-mod-disabled) {
  color: var(--jp-ui-inverse-font-color1);
  background: var(--jp-brand-color1);
}

.lm-CommandPalette-item:hover:not(.lm-mod-active):not(.lm-mod-disabled) {
  background: var(--jp-layout-color2);
}

.lm-CommandPalette-itemContent {
  overflow: hidden;
}

.lm-CommandPalette-itemLabel > mark {
  color: var(--jp-ui-font-color0);
  background-color: transparent;
  font-weight: bold;
}

.lm-CommandPalette-item.lm-mod-disabled mark {
  color: var(--jp-ui-font-color2);
}

.lm-CommandPalette-item .lm-CommandPalette-itemIcon {
  margin: 0 4px 0 0;
  position: relative;
  width: 16px;
  top: 2px;
  flex: 0 0 auto;
}

.lm-CommandPalette-item.lm-mod-disabled .lm-CommandPalette-itemIcon {
  opacity: 0.6;
}

.lm-CommandPalette-item .lm-CommandPalette-itemShortcut {
  flex: 0 0 auto;
}

.lm-CommandPalette-itemCaption {
  display: none;
}

.lm-CommandPalette-content {
  background-color: var(--jp-layout-color1);
}

.lm-CommandPalette-content:empty::after {
  content: 'No results';
  margin: auto;
  margin-top: 20px;
  width: 100px;
  display: block;
  font-size: var(--jp-ui-font-size2);
  font-family: var(--jp-ui-font-family);
  font-weight: lighter;
}

.lm-CommandPalette-emptyMessage {
  text-align: center;
  margin-top: 24px;
  line-height: 1.32;
  padding: 0 8px;
  color: var(--jp-content-font-color3);
}
</style><style>/*-----------------------------------------------------------------------------
| Copyright (c) 2014-2017, Jupyter Development Team.
|
| Distributed under the terms of the Modified BSD License.
|----------------------------------------------------------------------------*/

.jp-Dialog {
  position: absolute;
  z-index: 10000;
  display: flex;
  flex-direction: column;
  align-items: center;
  justify-content: center;
  top: 0;
  left: 0;
  margin: 0;
  padding: 0;
  width: 100%;
  height: 100%;
  background: var(--jp-dialog-background);
}

.jp-Dialog-content {
  display: flex;
  flex-direction: column;
  margin-left: auto;
  margin-right: auto;
  background: var(--jp-layout-color1);
  padding: 24px 24px 12px;
  min-width: 300px;
  min-height: 150px;
  max-width: 1000px;
  max-height: 500px;
  box-sizing: border-box;
  box-shadow: var(--jp-elevation-z20);
  word-wrap: break-word;
  border-radius: var(--jp-border-radius);

  /* This is needed so that all font sizing of children done in ems is
   * relative to this base size */
  font-size: var(--jp-ui-font-size1);
  color: var(--jp-ui-font-color1);
  resize: both;
}

.jp-Dialog-content.jp-Dialog-content-small {
  max-width: 500px;
}

.jp-Dialog-button {
  overflow: visible;
}

button.jp-Dialog-button:focus {
  outline: 1px solid var(--jp-brand-color1);
  outline-offset: 4px;
  -moz-outline-radius: 0;
}

button.jp-Dialog-button:focus::-moz-focus-inner {
  border: 0;
}

button.jp-Dialog-button.jp-mod-styled.jp-mod-accept:focus,
button.jp-Dialog-button.jp-mod-styled.jp-mod-warn:focus,
button.jp-Dialog-button.jp-mod-styled.jp-mod-reject:focus {
  outline-offset: 4px;
  -moz-outline-radius: 0;
}

button.jp-Dialog-button.jp-mod-styled.jp-mod-accept:focus {
  outline: 1px solid var(--jp-accept-color-normal, var(--jp-brand-color1));
}

button.jp-Dialog-button.jp-mod-styled.jp-mod-warn:focus {
  outline: 1px solid var(--jp-warn-color-normal, var(--jp-error-color1));
}

button.jp-Dialog-button.jp-mod-styled.jp-mod-reject:focus {
  outline: 1px solid var(--jp-reject-color-normal, var(--md-grey-600));
}

button.jp-Dialog-close-button {
  padding: 0;
  height: 100%;
  min-width: unset;
  min-height: unset;
}

.jp-Dialog-header {
  display: flex;
  justify-content: space-between;
  flex: 0 0 auto;
  padding-bottom: 12px;
  font-size: var(--jp-ui-font-size3);
  font-weight: 400;
  color: var(--jp-ui-font-color1);
}

.jp-Dialog-body {
  display: flex;
  flex-direction: column;
  flex: 1 1 auto;
  font-size: var(--jp-ui-font-size1);
  background: var(--jp-layout-color1);
  color: var(--jp-ui-font-color1);
  overflow: auto;
}

.jp-Dialog-footer {
  display: flex;
  flex-direction: row;
  justify-content: flex-end;
  align-items: center;
  flex: 0 0 auto;
  margin-left: -12px;
  margin-right: -12px;
  padding: 12px;
}

.jp-Dialog-checkbox {
  padding-right: 5px;
}

.jp-Dialog-spacer {
  flex: 1 1 auto;
}

.jp-Dialog-title {
  overflow: hidden;
  white-space: nowrap;
  text-overflow: ellipsis;
}

.jp-Dialog-body > .jp-select-wrapper {
  width: 100%;
}

.jp-Dialog-body > button {
  padding: 0 16px;
}

.jp-Dialog-body > label {
  line-height: 1.4;
  color: var(--jp-ui-font-color0);
}

.jp-Dialog-button.jp-mod-styled:not(:last-child) {
  margin-right: 12px;
}
</style><style>/*
 * Copyright (c) Jupyter Development Team.
 * Distributed under the terms of the Modified BSD License.
 */

.jp-Input-Boolean-Dialog {
  flex-direction: row-reverse;
  align-items: end;
  width: 100%;
}

.jp-Input-Boolean-Dialog > label {
  flex: 1 1 auto;
}
</style><style>/*-----------------------------------------------------------------------------
| Copyright (c) 2014-2016, Jupyter Development Team.
|
| Distributed under the terms of the Modified BSD License.
|----------------------------------------------------------------------------*/

.jp-MainAreaWidget > :focus {
  outline: none;
}

.jp-MainAreaWidget .jp-MainAreaWidget-error {
  padding: 6px;
}

.jp-MainAreaWidget .jp-MainAreaWidget-error > pre {
  width: auto;
  padding: 10px;
  background: var(--jp-error-color3);
  border: var(--jp-border-width) solid var(--jp-error-color1);
  border-radius: var(--jp-border-radius);
  color: var(--jp-ui-font-color1);
  font-size: var(--jp-ui-font-size1);
  white-space: pre-wrap;
  word-wrap: break-word;
}
</style><style>/*
 * Copyright (c) Jupyter Development Team.
 * Distributed under the terms of the Modified BSD License.
 */

/**
 * google-material-color v1.2.6
 * https://github.com/danlevan/google-material-color
 */
:root {
  --md-red-50: #ffebee;
  --md-red-100: #ffcdd2;
  --md-red-200: #ef9a9a;
  --md-red-300: #e57373;
  --md-red-400: #ef5350;
  --md-red-500: #f44336;
  --md-red-600: #e53935;
  --md-red-700: #d32f2f;
  --md-red-800: #c62828;
  --md-red-900: #b71c1c;
  --md-red-A100: #ff8a80;
  --md-red-A200: #ff5252;
  --md-red-A400: #ff1744;
  --md-red-A700: #d50000;
  --md-pink-50: #fce4ec;
  --md-pink-100: #f8bbd0;
  --md-pink-200: #f48fb1;
  --md-pink-300: #f06292;
  --md-pink-400: #ec407a;
  --md-pink-500: #e91e63;
  --md-pink-600: #d81b60;
  --md-pink-700: #c2185b;
  --md-pink-800: #ad1457;
  --md-pink-900: #880e4f;
  --md-pink-A100: #ff80ab;
  --md-pink-A200: #ff4081;
  --md-pink-A400: #f50057;
  --md-pink-A700: #c51162;
  --md-purple-50: #f3e5f5;
  --md-purple-100: #e1bee7;
  --md-purple-200: #ce93d8;
  --md-purple-300: #ba68c8;
  --md-purple-400: #ab47bc;
  --md-purple-500: #9c27b0;
  --md-purple-600: #8e24aa;
  --md-purple-700: #7b1fa2;
  --md-purple-800: #6a1b9a;
  --md-purple-900: #4a148c;
  --md-purple-A100: #ea80fc;
  --md-purple-A200: #e040fb;
  --md-purple-A400: #d500f9;
  --md-purple-A700: #a0f;
  --md-deep-purple-50: #ede7f6;
  --md-deep-purple-100: #d1c4e9;
  --md-deep-purple-200: #b39ddb;
  --md-deep-purple-300: #9575cd;
  --md-deep-purple-400: #7e57c2;
  --md-deep-purple-500: #673ab7;
  --md-deep-purple-600: #5e35b1;
  --md-deep-purple-700: #512da8;
  --md-deep-purple-800: #4527a0;
  --md-deep-purple-900: #311b92;
  --md-deep-purple-A100: #b388ff;
  --md-deep-purple-A200: #7c4dff;
  --md-deep-purple-A400: #651fff;
  --md-deep-purple-A700: #6200ea;
  --md-indigo-50: #e8eaf6;
  --md-indigo-100: #c5cae9;
  --md-indigo-200: #9fa8da;
  --md-indigo-300: #7986cb;
  --md-indigo-400: #5c6bc0;
  --md-indigo-500: #3f51b5;
  --md-indigo-600: #3949ab;
  --md-indigo-700: #303f9f;
  --md-indigo-800: #283593;
  --md-indigo-900: #1a237e;
  --md-indigo-A100: #8c9eff;
  --md-indigo-A200: #536dfe;
  --md-indigo-A400: #3d5afe;
  --md-indigo-A700: #304ffe;
  --md-blue-50: #e3f2fd;
  --md-blue-100: #bbdefb;
  --md-blue-200: #90caf9;
  --md-blue-300: #64b5f6;
  --md-blue-400: #42a5f5;
  --md-blue-500: #2196f3;
  --md-blue-600: #1e88e5;
  --md-blue-700: #1976d2;
  --md-blue-800: #1565c0;
  --md-blue-900: #0d47a1;
  --md-blue-A100: #82b1ff;
  --md-blue-A200: #448aff;
  --md-blue-A400: #2979ff;
  --md-blue-A700: #2962ff;
  --md-light-blue-50: #e1f5fe;
  --md-light-blue-100: #b3e5fc;
  --md-light-blue-200: #81d4fa;
  --md-light-blue-300: #4fc3f7;
  --md-light-blue-400: #29b6f6;
  --md-light-blue-500: #03a9f4;
  --md-light-blue-600: #039be5;
  --md-light-blue-700: #0288d1;
  --md-light-blue-800: #0277bd;
  --md-light-blue-900: #01579b;
  --md-light-blue-A100: #80d8ff;
  --md-light-blue-A200: #40c4ff;
  --md-light-blue-A400: #00b0ff;
  --md-light-blue-A700: #0091ea;
  --md-cyan-50: #e0f7fa;
  --md-cyan-100: #b2ebf2;
  --md-cyan-200: #80deea;
  --md-cyan-300: #4dd0e1;
  --md-cyan-400: #26c6da;
  --md-cyan-500: #00bcd4;
  --md-cyan-600: #00acc1;
  --md-cyan-700: #0097a7;
  --md-cyan-800: #00838f;
  --md-cyan-900: #006064;
  --md-cyan-A100: #84ffff;
  --md-cyan-A200: #18ffff;
  --md-cyan-A400: #00e5ff;
  --md-cyan-A700: #00b8d4;
  --md-teal-50: #e0f2f1;
  --md-teal-100: #b2dfdb;
  --md-teal-200: #80cbc4;
  --md-teal-300: #4db6ac;
  --md-teal-400: #26a69a;
  --md-teal-500: #009688;
  --md-teal-600: #00897b;
  --md-teal-700: #00796b;
  --md-teal-800: #00695c;
  --md-teal-900: #004d40;
  --md-teal-A100: #a7ffeb;
  --md-teal-A200: #64ffda;
  --md-teal-A400: #1de9b6;
  --md-teal-A700: #00bfa5;
  --md-green-50: #e8f5e9;
  --md-green-100: #c8e6c9;
  --md-green-200: #a5d6a7;
  --md-green-300: #81c784;
  --md-green-400: #66bb6a;
  --md-green-500: #4caf50;
  --md-green-600: #43a047;
  --md-green-700: #388e3c;
  --md-green-800: #2e7d32;
  --md-green-900: #1b5e20;
  --md-green-A100: #b9f6ca;
  --md-green-A200: #69f0ae;
  --md-green-A400: #00e676;
  --md-green-A700: #00c853;
  --md-light-green-50: #f1f8e9;
  --md-light-green-100: #dcedc8;
  --md-light-green-200: #c5e1a5;
  --md-light-green-300: #aed581;
  --md-light-green-400: #9ccc65;
  --md-light-green-500: #8bc34a;
  --md-light-green-600: #7cb342;
  --md-light-green-700: #689f38;
  --md-light-green-800: #558b2f;
  --md-light-green-900: #33691e;
  --md-light-green-A100: #ccff90;
  --md-light-green-A200: #b2ff59;
  --md-light-green-A400: #76ff03;
  --md-light-green-A700: #64dd17;
  --md-lime-50: #f9fbe7;
  --md-lime-100: #f0f4c3;
  --md-lime-200: #e6ee9c;
  --md-lime-300: #dce775;
  --md-lime-400: #d4e157;
  --md-lime-500: #cddc39;
  --md-lime-600: #c0ca33;
  --md-lime-700: #afb42b;
  --md-lime-800: #9e9d24;
  --md-lime-900: #827717;
  --md-lime-A100: #f4ff81;
  --md-lime-A200: #eeff41;
  --md-lime-A400: #c6ff00;
  --md-lime-A700: #aeea00;
  --md-yellow-50: #fffde7;
  --md-yellow-100: #fff9c4;
  --md-yellow-200: #fff59d;
  --md-yellow-300: #fff176;
  --md-yellow-400: #ffee58;
  --md-yellow-500: #ffeb3b;
  --md-yellow-600: #fdd835;
  --md-yellow-700: #fbc02d;
  --md-yellow-800: #f9a825;
  --md-yellow-900: #f57f17;
  --md-yellow-A100: #ffff8d;
  --md-yellow-A200: #ff0;
  --md-yellow-A400: #ffea00;
  --md-yellow-A700: #ffd600;
  --md-amber-50: #fff8e1;
  --md-amber-100: #ffecb3;
  --md-amber-200: #ffe082;
  --md-amber-300: #ffd54f;
  --md-amber-400: #ffca28;
  --md-amber-500: #ffc107;
  --md-amber-600: #ffb300;
  --md-amber-700: #ffa000;
  --md-amber-800: #ff8f00;
  --md-amber-900: #ff6f00;
  --md-amber-A100: #ffe57f;
  --md-amber-A200: #ffd740;
  --md-amber-A400: #ffc400;
  --md-amber-A700: #ffab00;
  --md-orange-50: #fff3e0;
  --md-orange-100: #ffe0b2;
  --md-orange-200: #ffcc80;
  --md-orange-300: #ffb74d;
  --md-orange-400: #ffa726;
  --md-orange-500: #ff9800;
  --md-orange-600: #fb8c00;
  --md-orange-700: #f57c00;
  --md-orange-800: #ef6c00;
  --md-orange-900: #e65100;
  --md-orange-A100: #ffd180;
  --md-orange-A200: #ffab40;
  --md-orange-A400: #ff9100;
  --md-orange-A700: #ff6d00;
  --md-deep-orange-50: #fbe9e7;
  --md-deep-orange-100: #ffccbc;
  --md-deep-orange-200: #ffab91;
  --md-deep-orange-300: #ff8a65;
  --md-deep-orange-400: #ff7043;
  --md-deep-orange-500: #ff5722;
  --md-deep-orange-600: #f4511e;
  --md-deep-orange-700: #e64a19;
  --md-deep-orange-800: #d84315;
  --md-deep-orange-900: #bf360c;
  --md-deep-orange-A100: #ff9e80;
  --md-deep-orange-A200: #ff6e40;
  --md-deep-orange-A400: #ff3d00;
  --md-deep-orange-A700: #dd2c00;
  --md-brown-50: #efebe9;
  --md-brown-100: #d7ccc8;
  --md-brown-200: #bcaaa4;
  --md-brown-300: #a1887f;
  --md-brown-400: #8d6e63;
  --md-brown-500: #795548;
  --md-brown-600: #6d4c41;
  --md-brown-700: #5d4037;
  --md-brown-800: #4e342e;
  --md-brown-900: #3e2723;
  --md-grey-50: #fafafa;
  --md-grey-100: #f5f5f5;
  --md-grey-200: #eee;
  --md-grey-300: #e0e0e0;
  --md-grey-400: #bdbdbd;
  --md-grey-500: #9e9e9e;
  --md-grey-600: #757575;
  --md-grey-700: #616161;
  --md-grey-800: #424242;
  --md-grey-900: #212121;
  --md-blue-grey-50: #eceff1;
  --md-blue-grey-100: #cfd8dc;
  --md-blue-grey-200: #b0bec5;
  --md-blue-grey-300: #90a4ae;
  --md-blue-grey-400: #78909c;
  --md-blue-grey-500: #607d8b;
  --md-blue-grey-600: #546e7a;
  --md-blue-grey-700: #455a64;
  --md-blue-grey-800: #37474f;
  --md-blue-grey-900: #263238;
}
</style><style>/*-----------------------------------------------------------------------------
| Copyright (c) 2014-2017, Jupyter Development Team.
|
| Distributed under the terms of the Modified BSD License.
|----------------------------------------------------------------------------*/
</style><style>/*-----------------------------------------------------------------------------
| Copyright (c) Jupyter Development Team.
| Distributed under the terms of the Modified BSD License.
|----------------------------------------------------------------------------*/

.jp-MimeDocument {
  outline: none;
}
</style><style>/*-----------------------------------------------------------------------------
| Copyright (c) Jupyter Development Team.
| Distributed under the terms of the Modified BSD License.
|----------------------------------------------------------------------------*/

:root {
  --jp-private-menu-panel-height: 27px;
}

.lm-Widget.lm-mod-hidden {
  display: none !important;
}

body {
  font-family: var(--jp-ui-font-family);
  background: var(--jp-layout-color3);
  margin: 0;
  padding: 0;
  overflow: hidden;
}

.jp-LabShell {
  position: absolute;
  top: 0;
  left: 0;
  right: 0;
  bottom: 0;
}

.jp-LabShell.jp-mod-devMode {
  border-top: 4px solid red;
}

#jp-main-dock-panel {
  padding: 5px;
}

#jp-main-dock-panel[data-mode='single-document'] {
  padding: 0;
}

#jp-main-dock-panel[data-mode='single-document'] .jp-MainAreaWidget {
  border: none;
}

#jp-top-panel {
  border-bottom: var(--jp-border-width) solid var(--jp-border-color0);
  background: var(--jp-layout-color1);
  display: flex;
  min-height: var(--jp-private-menubar-height);
  overflow: visible;

  /* relax lumino strict CSS contaiment to allow painting the menu bar item
  over the menu in order to create an illusion of partial border */
  contain: style size !important;
}

#jp-menu-panel {
  min-height: var(--jp-private-menu-panel-height);
  background: var(--jp-layout-color1);
}

#jp-down-stack {
  border-bottom: var(--jp-border-width) solid var(--jp-border-color1);
}

.jp-LabShell[data-shell-mode='single-document'] #jp-top-panel {
  border-bottom: none;
}

.jp-LabShell[data-shell-mode='single-document'] #jp-menu-panel {
  padding-left: calc(
    var(--jp-private-sidebar-tab-width) + var(--jp-border-width)
  );
  border-bottom: var(--jp-border-width) solid var(--jp-border-color0);

  /* Adjust min-height so open menus show up in the right place */
  min-height: calc(
    var(--jp-private-menu-panel-height) + var(--jp-border-width)
  );
}

#jp-bottom-panel {
  background: var(--jp-layout-color1);
  display: flex;
}

#jp-single-document-mode {
  margin: 0 8px;
  display: flex;
  align-items: center;
}
</style><style>/*-----------------------------------------------------------------------------
| Copyright (c) Jupyter Development Team.
| Distributed under the terms of the Modified BSD License.
|----------------------------------------------------------------------------*/

.lm-DataGrid {
  min-width: 64px;
  min-height: 64px;
  border: 1px solid #a0a0a0;
}

.lm-DataGrid-scrollCorner {
  background-color: #f0f0f0;
}

.lm-DataGrid-scrollCorner::after {
  content: '';
  position: absolute;
  top: 0;
  left: 0;
  width: 1px;
  height: 1px;
  background-color: #a0a0a0;
}
</style><style>/*-----------------------------------------------------------------------------
| Copyright (c) Jupyter Development Team.
| Distributed under the terms of the Modified BSD License.
|----------------------------------------------------------------------------*/

/*-----------------------------------------------------------------------------
| Variables
|----------------------------------------------------------------------------*/

/*-----------------------------------------------------------------------------
| DockPanel
|----------------------------------------------------------------------------*/

.lm-DockPanel-widget,
.lm-TabPanel-stackedPanel {
  background: var(--jp-layout-color0);
  border-left: var(--jp-border-width) solid var(--jp-border-color1);
  border-right: var(--jp-border-width) solid var(--jp-border-color1);
  border-bottom: var(--jp-border-width) solid var(--jp-border-color1);
}

.lm-DockPanel-overlay {
  background: rgba(33, 150, 243, 0.1);
  border: var(--jp-border-width) dashed var(--jp-brand-color1);
  transition-property: top, left, right, bottom;
  transition-duration: 150ms;
  transition-timing-function: ease;
}

.lm-DockPanel-overlay.lm-mod-root-top,
.lm-DockPanel-overlay.lm-mod-root-left,
.lm-DockPanel-overlay.lm-mod-root-right,
.lm-DockPanel-overlay.lm-mod-root-bottom,
.lm-DockPanel-overlay.lm-mod-root-center {
  border-width: 2px;
}
</style><style>/*-----------------------------------------------------------------------------
| Copyright (c) Jupyter Development Team.
| Distributed under the terms of the Modified BSD License.
|----------------------------------------------------------------------------*/

/*-----------------------------------------------------------------------------
| Variables
|----------------------------------------------------------------------------*/

:root {
  --jp-private-menubar-height: 28px;
  --jp-private-menu-item-height: 24px;
}

/*-----------------------------------------------------------------------------
| MenuBar
|----------------------------------------------------------------------------*/

.lm-MenuBar {
  background: var(--jp-layout-color1);
  color: var(--jp-ui-font-color1);
  font-size: var(--jp-ui-font-size1);
}

.lm-MenuBar:hover {
  overflow-x: auto;
}

.lm-MenuBar-menu {
  top: calc(-2 * var(--jp-border-width));
}

.lm-MenuBar-item {
  padding: 0 8px;
  border-left: var(--jp-border-width) solid transparent;
  border-right: var(--jp-border-width) solid transparent;
  border-top: var(--jp-border-width) solid transparent;
  line-height: calc(var(--jp-private-menubar-height) - var(--jp-border-width));
}

.lm-MenuBar-content:focus-visible {
  outline-offset: -3px; /* this value is a compromise between Firefox, Chrome,
    and Safari over this outline's visibility and discretion */
}

.lm-MenuBar:focus-visible {
  outline: 1px solid var(--jp-accept-color-active, var(--jp-brand-color1));
  outline-offset: -1px;
}

.lm-MenuBar-menu:focus-visible,
.lm-MenuBar-item:focus-visible,
.lm-Menu-item:focus-visible {
  outline: unset;
  outline-offset: unset;
  -moz-outline-radius: unset;
}

.lm-MenuBar-item.lm-mod-active {
  background: var(--jp-layout-color2);
}

.lm-MenuBar.lm-mod-active .lm-MenuBar-item.lm-mod-active {
  z-index: 10001;
  background: var(--jp-layout-color0);
  color: var(--jp-ui-font-color0);
  border-left: var(--jp-border-width) solid var(--jp-border-color1);
  border-right: var(--jp-border-width) solid var(--jp-border-color1);
  box-shadow: var(--jp-elevation-z6);
}

/* stylelint-disable-next-line selector-max-class */
.jp-LabShell[data-shell-mode='single-document']
  .lm-MenuBar.lm-mod-active
  .lm-MenuBar-item.lm-mod-active {
  border-top: var(--jp-border-width) solid var(--jp-border-color1);
}

.lm-MenuBar-item.lm-mod-disabled {
  color: var(--jp-ui-font-color3);
}

.lm-MenuBar-item.lm-type-separator {
  margin: 2px;
  padding: 0;
  border: none;
  border-left: var(--jp-border-width) solid var(--jp-border-color2);
}

.lm-MenuBar-itemMnemonic {
  text-decoration: underline;
}

/*-----------------------------------------------------------------------------
| Menu
|----------------------------------------------------------------------------*/

.lm-Menu {
  z-index: 10000;
  padding: 4px 0;
  background: var(--jp-layout-color0);
  color: var(--jp-ui-font-color0);
  border: var(--jp-border-width) solid var(--jp-border-color1);
  font-size: var(--jp-ui-font-size1);
  box-shadow: var(--jp-elevation-z6);
}

.lm-Menu-item {
  min-height: var(--jp-private-menu-item-height);
  max-height: var(--jp-private-menu-item-height);
  padding: 0;
  line-height: var(--jp-private-menu-item-height);
}

.lm-Menu-item.lm-mod-active {
  background: var(--jp-layout-color2);
}

.lm-Menu-item.lm-mod-disabled {
  color: var(--jp-ui-font-color3);
}

.lm-Menu-itemIcon {
  width: 21px;
  padding: 0 2px 0 4px;
  margin-top: -2px;
}

.lm-Menu-itemLabel {
  padding: 0 32px 0 2px;
}

.lm-Menu-itemMnemonic {
  text-decoration: underline;
}

.lm-Menu-itemShortcut {
  padding: 0;
}

.lm-Menu-itemSubmenuIcon {
  width: 18px;
  padding: 0 4px 0 0;
}

.lm-Menu-item[data-type='separator'] > div {
  padding: 0;
  height: 9px;
}

.lm-Menu-item[data-type='separator'] > div::after {
  content: '';
  display: block;
  position: relative;
  top: 4px;
  border-top: var(--jp-border-width) solid var(--jp-layout-color2);
}

/* gray out icon/caret for disabled menu items */
.lm-Menu-item.lm-mod-disabled > .lm-Menu-itemIcon,
.lm-Menu-item[data-type='submenu'].lm-mod-disabled > .lm-Menu-itemSubmenuIcon {
  opacity: 0.4;
}
</style><style>/*-----------------------------------------------------------------------------
| Copyright (c) Jupyter Development Team.
| Distributed under the terms of the Modified BSD License.
|----------------------------------------------------------------------------*/

/*
 * Mozilla scrollbar styling
 */

/* use standard opaque scrollbars for most nodes */
[data-jp-theme-scrollbars='true'] {
  scrollbar-color: rgb(var(--jp-scrollbar-thumb-color))
    var(--jp-scrollbar-background-color);
}

/* for code nodes, use a transparent style of scrollbar. These selectors
 * will match lower in the tree, and so will override the above */
[data-jp-theme-scrollbars='true'] .CodeMirror-hscrollbar,
[data-jp-theme-scrollbars='true'] .CodeMirror-vscrollbar {
  scrollbar-color: rgba(var(--jp-scrollbar-thumb-color), 0.5) transparent;
}

/* tiny scrollbar */

.jp-scrollbar-tiny {
  scrollbar-color: rgba(var(--jp-scrollbar-thumb-color), 0.5) transparent;
  scrollbar-width: thin;
}

/* tiny scrollbar */

.jp-scrollbar-tiny::-webkit-scrollbar,
.jp-scrollbar-tiny::-webkit-scrollbar-corner {
  background-color: transparent;
  height: 4px;
  width: 4px;
}

.jp-scrollbar-tiny::-webkit-scrollbar-thumb {
  background: rgba(var(--jp-scrollbar-thumb-color), 0.5);
}

.jp-scrollbar-tiny::-webkit-scrollbar-track:horizontal {
  border-left: 0 solid transparent;
  border-right: 0 solid transparent;
}

.jp-scrollbar-tiny::-webkit-scrollbar-track:vertical {
  border-top: 0 solid transparent;
  border-bottom: 0 solid transparent;
}

/*
 * Lumino
 */

.lm-ScrollBar[data-orientation='horizontal'] {
  min-height: 16px;
  max-height: 16px;
  min-width: 45px;
  border-top: 1px solid #a0a0a0;
}

.lm-ScrollBar[data-orientation='vertical'] {
  min-width: 16px;
  max-width: 16px;
  min-height: 45px;
  border-left: 1px solid #a0a0a0;
}

.lm-ScrollBar-button {
  background-color: #f0f0f0;
  background-position: center center;
  min-height: 15px;
  max-height: 15px;
  min-width: 15px;
  max-width: 15px;
}

.lm-ScrollBar-button:hover {
  background-color: #dadada;
}

.lm-ScrollBar-button.lm-mod-active {
  background-color: #cdcdcd;
}

.lm-ScrollBar-track {
  background: #f0f0f0;
}

.lm-ScrollBar-thumb {
  background: #cdcdcd;
}

.lm-ScrollBar-thumb:hover {
  background: #bababa;
}

.lm-ScrollBar-thumb.lm-mod-active {
  background: #a0a0a0;
}

.lm-ScrollBar[data-orientation='horizontal'] .lm-ScrollBar-thumb {
  height: 100%;
  min-width: 15px;
  border-left: 1px solid #a0a0a0;
  border-right: 1px solid #a0a0a0;
}

.lm-ScrollBar[data-orientation='vertical'] .lm-ScrollBar-thumb {
  width: 100%;
  min-height: 15px;
  border-top: 1px solid #a0a0a0;
  border-bottom: 1px solid #a0a0a0;
}

.lm-ScrollBar[data-orientation='horizontal']
  .lm-ScrollBar-button[data-action='decrement'] {
  background-image: var(--jp-icon-caret-left);
  background-size: 17px;
}

.lm-ScrollBar[data-orientation='horizontal']
  .lm-ScrollBar-button[data-action='increment'] {
  background-image: var(--jp-icon-caret-right);
  background-size: 17px;
}

.lm-ScrollBar[data-orientation='vertical']
  .lm-ScrollBar-button[data-action='decrement'] {
  background-image: var(--jp-icon-caret-up);
  background-size: 17px;
}

.lm-ScrollBar[data-orientation='vertical']
  .lm-ScrollBar-button[data-action='increment'] {
  background-image: var(--jp-icon-caret-down);
  background-size: 17px;
}
</style><style>/*-----------------------------------------------------------------------------
| Copyright (c) Jupyter Development Team.
| Distributed under the terms of the Modified BSD License.
|----------------------------------------------------------------------------*/

/*-----------------------------------------------------------------------------
| Variables
|----------------------------------------------------------------------------*/

:root {
  /* These need to be root because tabs get attached to the body during dragging. */
  --jp-private-horizontal-tab-height: 24px;
  --jp-private-horizontal-tab-width: 216px;
  --jp-private-horizontal-tab-active-top-border: 2px;
}

/*-----------------------------------------------------------------------------
| Tabs in the dock panel
|----------------------------------------------------------------------------*/

.lm-DockPanel-tabBar,
.lm-TabPanel-tabBar {
  overflow: visible;
  color: var(--jp-ui-font-color1);
  font-size: var(--jp-ui-font-size1);
}

.lm-DockPanel-tabBar[data-orientation='horizontal'],
.lm-TabPanel-tabBar[data-orientation='horizontal'] {
  min-height: calc(
    var(--jp-private-horizontal-tab-height) + 2 * var(--jp-border-width)
  );
}

.lm-DockPanel-tabBar[data-orientation='vertical'] {
  min-width: 80px;
}

.lm-DockPanel-tabBar > .lm-TabBar-content,
.lm-TabPanel-tabBar > .lm-TabBar-content {
  align-items: flex-end;
  min-width: 0;
  min-height: 0;
}

.lm-DockPanel-tabBar .lm-TabBar-tab,
.lm-TabPanel-tabBar .lm-TabBar-tab {
  flex: 0 1 var(--jp-private-horizontal-tab-width);
  align-items: center;
  min-height: calc(
    var(--jp-private-horizontal-tab-height) + 2 * var(--jp-border-width)
  );
  min-width: 0;
  margin-left: calc(-1 * var(--jp-border-width));
  line-height: var(--jp-private-horizontal-tab-height);
  padding: 0 8px;
  background: var(--jp-layout-color2);
  border: var(--jp-border-width) solid var(--jp-border-color1);
  border-bottom: none;
  position: relative;
}

.lm-DockPanel-tabBar .lm-TabBar-tab:hover:not(.lm-mod-current),
.lm-TabPanel-tabBar .lm-TabBar-tab:hover:not(.lm-mod-current) {
  background: var(--jp-layout-color1);
  color: var(--jp-ui-font-color1);
}

.lm-DockPanel-tabBar .lm-TabBar-tab:not(.lm-mod-current)::after,
.lm-DockPanel-tabBar .lm-TabBar-addButton::after {
  position: absolute;
  content: '';
  bottom: 0;
  left: calc(-1 * var(--jp-border-width));
  width: calc(100% + 2 * var(--jp-border-width));
  border-bottom: var(--jp-border-width) solid var(--jp-border-color1);
}

.lm-DockPanel-tabBar .lm-TabBar-tab:first-child,
.lm-TabPanel-tabBar .lm-TabBar-tab:first-child {
  margin-left: 0;
}

/* This is a current tab of a tab bar in the dock panel: each tab bar has 1. */
.lm-DockPanel-tabBar .lm-TabBar-tab.lm-mod-current {
  background: var(--jp-layout-color1);
  color: var(--jp-ui-font-color1);
}

.lm-TabPanel-tabBar .lm-TabBar-tab.lm-mod-current {
  background: var(--jp-layout-color1);
  color: var(--jp-ui-font-color1);
}

/* This is the main application level current tab: only 1 exists. */
.lm-DockPanel-tabBar .lm-TabBar-tab.jp-mod-current::before {
  position: absolute;
  top: calc(-1 * var(--jp-border-width) + 1px);
  left: calc(-1 * var(--jp-border-width));
  content: '';
  height: var(--jp-private-horizontal-tab-active-top-border);
  width: calc(100% + 2 * var(--jp-border-width));
  background: var(--jp-brand-color1);
}

/* This is the left tab bar current tab: only 1 exists. */
.lm-TabBar-tab.lm-mod-current {
  background: var(--jp-layout-color1);
  color: var(--jp-ui-font-color1);
}

.lm-DockPanel-tabBar .lm-TabBar.lm-mod-left .lm-TabBar-tab,
.lm-DockPanel-tabBar .lm-TabBar.lm-mod-right .lm-TabBar-tab {
  flex: 0 1 40px;
  margin-top: -1px;
  line-height: 40px;
}

.lm-DockPanel-tabBar .lm-TabBar.lm-mod-left .lm-TabBar-tab {
  border-right: none;
}

.lm-DockPanel-tabBar .lm-TabBar.lm-mod-right .lm-TabBar-tab {
  border-left: none;
}

.lm-DockPanel-tabBar .lm-TabBar.lm-mod-left .lm-TabBar-tab:first-child,
.lm-DockPanel-tabBar .lm-TabBar.lm-mod-right .lm-TabBar-tab:first-child {
  margin-top: 0;
}

/* stylelint-disable selector-max-class */

.lm-DockPanel-tabBar .lm-TabBar.lm-mod-left .lm-TabBar-tab.lm-mod-current,
.lm-DockPanel-tabBar .lm-TabBar.lm-mod-right .lm-TabBar-tab.lm-mod-current {
  min-width: 80px;
  max-width: 80px;
}

.lm-DockPanel-tabBar .lm-TabBar.lm-mod-right .lm-TabBar-tab.lm-mod-current {
  transform: translateX(-1px);
}

.lm-DockPanel-tabBar .lm-TabBar-tab .lm-TabBar-tabIcon,
.lm-TabBar-tab.lm-mod-drag-image .lm-TabBar-tabIcon,
.lm-TabPanel-tabBar .lm-TabBar-tab .lm-TabBar-tabIcon {
  width: 14px;
  background-position: left center;
  background-repeat: no-repeat;
  background-size: 14px;
  margin-right: 4px;
}

/* stylelint-enable selector-max-class */

.lm-TabBar-tab.lm-mod-drag-image {
  background: var(--jp-layout-color1);
  color: var(--jp-ui-font-color1);
  border: var(--jp-border-width) solid var(--jp-border-color1);
  border-top: var(--jp-border-width) solid var(--jp-brand-color1);
  box-shadow: var(--jp-elevation-z4);
  font-size: var(--jp-ui-font-size1);
  line-height: var(--jp-private-horizontal-tab-height);
  min-height: var(--jp-private-horizontal-tab-height);
  min-width: var(--jp-private-horizontal-tab-width);
  padding: 0 10px;
  transform: translateX(-40%) translateY(-58%);
}
</style><style>/*
 * Copyright (c) Jupyter Development Team.
 * Distributed under the terms of the Modified BSD License.
 */

/*-----------------------------------------------------------------------------
| Variables
|----------------------------------------------------------------------------*/

:root {
  --jp-flat-button-height: 24px;
  --jp-flat-button-padding: 8px 12px;
}

/*-----------------------------------------------------------------------------
| Copyright (c) Jupyter Development Team.
| Distributed under the terms of the Modified BSD License.
|----------------------------------------------------------------------------*/

button {
  border-radius: var(--jp-border-radius);
}

button:focus-visible {
  outline: 1px solid var(--jp-accept-color-active, var(--jp-brand-color1));
  outline-offset: -1px;
}

button.jp-mod-styled.jp-mod-accept {
  background: var(--jp-accept-color-normal, var(--md-blue-500));
  border: 0;
  color: white;
}

button.jp-mod-styled.jp-mod-accept:hover {
  background: var(--jp-accept-color-hover, var(--md-blue-600));
}

button.jp-mod-styled.jp-mod-accept:active {
  background: var(--jp-accept-color-active, var(--md-blue-700));
}

button.jp-mod-styled.jp-mod-accept:focus-visible {
  outline: 1px solid var(--jp-accept-color-active, var(--jp-brand-color1));
}

button.jp-mod-styled.jp-mod-reject {
  background: var(--jp-reject-color-normal, var(--md-grey-500));
  border: 0;
  color: white;
}

button.jp-mod-styled.jp-mod-reject:hover {
  background: var(--jp-reject-color-hover, var(--md-grey-600));
}

button.jp-mod-styled.jp-mod-reject:active {
  background: var(--jp-reject-color-active, var(--md-grey-700));
}

button.jp-mod-styled.jp-mod-reject:focus-visible {
  outline: 1px solid var(--jp-reject-color-active, var(--md-grey-700));
}

button.jp-mod-styled.jp-mod-warn {
  background: var(--jp-warn-color-normal, var(--jp-error-color1));
  border: 0;
  color: white;
}

button.jp-mod-styled.jp-mod-warn:hover {
  background: var(--jp-warn-color-hover, var(--md-red-600));
}

button.jp-mod-styled.jp-mod-warn:active {
  background: var(--jp-warn-color-active, var(--md-red-700));
}

button.jp-mod-styled.jp-mod-warn:focus-visible {
  outline: 1px solid var(--jp-warn-color-active, var(--md-red-700));
}

.jp-Button-flat {
  text-decoration: none;
  padding: var(--jp-flat-button-padding);
  font-weight: 500;
  background-color: transparent;
  height: var(--jp-private-running-shutdown-button-height);
  line-height: var(--jp-private-running-shutdown-button-height);
  transition: background-color 0.1s ease;
  border-radius: 2px;
}

.jp-Button-flat:focus {
  border: none;
  box-shadow: none;
}
</style><style>/*-----------------------------------------------------------------------------
| Copyright (c) Jupyter Development Team.
| Distributed under the terms of the Modified BSD License.
|----------------------------------------------------------------------------*/

/*-----------------------------------------------------------------------------
| Variables
|----------------------------------------------------------------------------*/

:root {
  --jp-private-sidebar-tab-width: 32px;
}

/*-----------------------------------------------------------------------------
| SideBar
|----------------------------------------------------------------------------*/

.jp-SideBar {
  /* This is needed so that all font sizing of children done in ems is
   * relative to this base size */
  font-size: var(--jp-ui-font-size1);
}

.jp-SideBar.lm-TabBar,
#jp-down-stack .lm-TabBar {
  color: var(--jp-ui-font-color2);
  background: var(--jp-layout-color2);
  font-size: var(--jp-ui-font-size1);
  overflow: visible;
}

.jp-SideBar.lm-TabBar {
  min-width: calc(var(--jp-private-sidebar-tab-width) + var(--jp-border-width));
  max-width: calc(var(--jp-private-sidebar-tab-width) + var(--jp-border-width));
  display: block;
}

.jp-SideBar .lm-TabBar-content {
  margin: 0;
  padding: 0;
  display: flex;
  align-items: stretch;
  list-style-type: none;
  height: var(--jp-private-sidebar-tab-width);
}

.jp-SideBar .lm-TabBar-tab {
  padding: 16px 0;
  border: none;
  overflow: visible;
  flex-direction: column;
  position: relative;
}

.jp-SideBar .lm-TabBar-tab.lm-mod-current::after {
  /* Internal border override pseudo-element */
  position: absolute;
  content: '';
  bottom: 0;
  right: 0;
  top: 0;
  left: 0;
  border: var(--jp-border-width) solid var(--jp-layout-color1);
}

.jp-SideBar .lm-TabBar-tab:not(.lm-mod-current),
#jp-down-stack .lm-TabBar-tab:not(.lm-mod-current) {
  background: var(--jp-layout-color2);
}

.jp-SideBar .lm-TabBar-tabIcon.jp-SideBar-tabIcon {
  min-width: 20px;
  min-height: 20px;
  background-size: 20px;
  display: inline-block;
  vertical-align: middle;
  background-repeat: no-repeat;
  background-position: center;
}

.jp-SideBar .lm-TabBar-tabLabel {
  line-height: var(--jp-private-sidebar-tab-width);
}

.jp-SideBar .lm-TabBar-tab:hover:not(.lm-mod-current),
#jp-down-stack .lm-TabBar-tab:hover:not(.lm-mod-current) {
  background: var(--jp-layout-color1);
}

.jp-SideBar.lm-TabBar::after {
  /* Internal border pseudo-element */
  position: absolute;
  content: '';
  bottom: 0;
  right: 0;
  top: 0;
  left: 0;
  pointer-events: none;
}

/* Borders */

/* stylelint-disable selector-max-class */

.jp-SideBar.lm-TabBar .lm-TabBar-tab + .lm-TabBar-tab {
  border-top: var(--jp-border-width) solid var(--jp-layout-color2);
}

.jp-SideBar.lm-TabBar .lm-TabBar-tab.lm-mod-current + .lm-TabBar-tab {
  border-top: var(--jp-border-width) solid var(--jp-border-color0);
}

.jp-SideBar.lm-TabBar .lm-TabBar-tab + .lm-TabBar-tab.lm-mod-current {
  border-top: var(--jp-border-width) solid var(--jp-border-color0);
}

.jp-SideBar.lm-TabBar .lm-TabBar-tab.lm-mod-current:last-child {
  border-bottom: var(--jp-border-width) solid var(--jp-border-color0);
}

.jp-SideBar.lm-TabBar .lm-TabBar-tabLabel {
  writing-mode: vertical-rl;
}

/* Left */

/* Borders */

.jp-SideBar.lm-TabBar.jp-mod-left .lm-TabBar-content {
  /* Internal border spacing */
  margin-right: var(--jp-border-width);
}

.jp-SideBar.lm-TabBar.jp-mod-left .lm-TabBar-tab.lm-mod-current::after {
  /* Internal border override */
  right: calc(-1 * var(--jp-border-width));
}

.jp-SideBar.lm-TabBar.jp-mod-left::after {
  /* Internal border */
  border-right: var(--jp-border-width) solid var(--jp-border-color0);
}

/* Transforms */

.jp-SideBar.lm-TabBar.jp-mod-left .lm-TabBar-tabLabel {
  transform: rotate(180deg);
}

/* Right */

/* Borders */

.jp-SideBar.lm-TabBar.jp-mod-right .lm-TabBar-content {
  /* Internal border spacing */
  margin-left: var(--jp-border-width);
}

.jp-SideBar.lm-TabBar.jp-mod-right .lm-TabBar-tab.lm-mod-current::after {
  /* Internal border override */
  left: calc(-1 * var(--jp-border-width));
}

.jp-SideBar.lm-TabBar.jp-mod-right::after {
  /* Internal border */
  border-left: var(--jp-border-width) solid var(--jp-border-color0);
}

/* Down */

/* Borders */

#jp-down-stack > .lm-TabBar {
  border-top: var(--jp-border-width) solid var(--jp-border-color0);
  border-bottom: var(--jp-border-width) solid var(--jp-border-color0);
}

#jp-down-stack > .lm-TabBar .lm-TabBar-tab {
  border-left: none;
  border-right: none;
}

#jp-down-stack > .lm-TabBar .lm-TabBar-tab.lm-mod-current {
  border: var(--jp-border-width) solid var(--jp-border-color1);
  border-bottom: none;
  transform: translateY(var(--jp-border-width));
}

#jp-down-stack > .lm-TabBar .lm-TabBar-tab.lm-mod-current:first-child {
  border: none;
  border-right: var(--jp-border-width) solid var(--jp-border-color1);
}

/* stylelint-enable selector-max-class */

/* Stack panels */

#jp-left-stack > .lm-Widget,
#jp-right-stack > .lm-Widget {
  min-width: var(--jp-sidebar-min-width);
  background-color: var(--jp-layout-color1);
}

#jp-right-stack {
  border-left: var(--jp-border-width) solid var(--jp-border-color1);
}

#jp-left-stack {
  border-right: var(--jp-border-width) solid var(--jp-border-color1);
}

#jp-down-stack > .lm-TabPanel-stackedPanel {
  border: none;
}
</style><style>/*-----------------------------------------------------------------------------
| Copyright (c) Jupyter Development Team.
| Distributed under the terms of the Modified BSD License.
|----------------------------------------------------------------------------*/

:root {
  --jp-private-title-panel-height: 28px;
}

#jp-title-panel {
  min-height: var(--jp-private-title-panel-height);
  width: 100%;
  display: flex;
  background: var(--jp-layout-color1);
}

#jp-title-panel-title {
  flex: 1 1 auto;
  margin-left: 8px;
}

#jp-title-panel-title input {
  background: transparent;
  margin: 0;
  height: 28px;
  width: 100%;
  box-sizing: border-box;
  border: none;
  font-size: 18px;
  font-weight: normal;
  font-family: var(--jp-ui-font-family);
  line-height: var(--jp-private-title-panel-height);
  color: var(--jp-ui-font-color0);
  outline: none;
  appearance: none;
  -webkit-appearance: none;
  -moz-appearance: none;
}
</style><style>/*-----------------------------------------------------------------------------
| Copyright (c) Jupyter Development Team.
|
| Distributed under the terms of the Modified BSD License.
|----------------------------------------------------------------------------*/

.jp-skiplink-wrapper {
  overflow: visible;
}

.jp-skiplink {
  position: absolute;
  top: -100em;
}

.jp-skiplink:focus-within {
  position: absolute;
  z-index: 10000;
  top: 0;
  left: 46%;
  margin: 0 auto;
  padding: 1em;
  width: 15%;
  box-shadow: var(--jp-elevation-z4);
  border-radius: 4px;
  background: var(--jp-layout-color0);
  text-align: center;
}

.jp-skiplink:focus-within a {
  text-decoration: underline;
  color: var(--jp-content-link-color);
}
</style><style>/*-----------------------------------------------------------------------------
| Copyright (c) Jupyter Development Team.
| Distributed under the terms of the Modified BSD License.
|----------------------------------------------------------------------------*/

/* Sibling imports */
</style><style>/*-----------------------------------------------------------------------------
| Copyright (c) Jupyter Development Team.
| Distributed under the terms of the Modified BSD License.
|----------------------------------------------------------------------------*/

:root {
  --jp-private-topbar-height: 28px;
  /* Override the layout-2 color for the dark theme */
  --md-grey-800: #323232;
  --jp-notebook-max-width: 1200px;
}

body {
  margin: 0;
  padding: 0;
  background: var(--jp-layout-color2);
}

#main {
  position: absolute;
  top: 0;
  left: 0;
  right: 0;
  bottom: 0;
}

#top-panel-wrapper {
  min-height: calc(1.5 * var(--jp-private-topbar-height));
  border-bottom: var(--jp-border-width) solid var(--jp-border-color0);
  background: var(--jp-layout-color1);
}

#top-panel {
  display: flex;
  min-height: calc(1.5 * var(--jp-private-topbar-height));
  padding-left: 5px;
  padding-right: 5px;
  margin-left: auto;
  margin-right: auto;
  max-width: 1200px;
}

#menu-panel-wrapper {
  min-height: var(--jp-private-topbar-height);
  background: var(--jp-layout-color1);
  border-bottom: var(--jp-border-width) solid var(--jp-border-color0);
  box-shadow: var(--jp-elevation-z1);
}

#menu-panel {
  display: flex;
  min-height: var(--jp-private-topbar-height);
  background: var(--jp-layout-color1);
  padding-left: 5px;
  padding-right: 5px;
  margin-left: auto;
  margin-right: auto;
  max-width: var(--jp-notebook-max-width);
}

#main-panel {
  margin-left: auto;
  margin-right: auto;
  max-width: var(--jp-notebook-max-width);
}

#spacer-widget-top {
  min-height: 16px;
}

/* Only edit pages should have a bottom space */

body[data-notebook='edit'] #spacer-widget-bottom {
  min-height: 16px;
}

/* Special case notebooks as document oriented pages */

[data-notebook]:not(body[data-notebook='notebooks']) #main-panel {
  box-shadow: var(--jp-elevation-z4);
}

.jp-TreePanel > .lm-TabPanel-stackedPanel {
  box-shadow: var(--jp-elevation-z4);
}

body[data-notebook='notebooks'] #main-panel {
  margin-left: unset;
  margin-right: unset;
  max-width: unset;
}

body[data-notebook='notebooks'] #spacer-widget-top {
  min-height: unset;
}

#main-panel > .jp-TreePanel {
  padding: 0px 5px;
}

@media only screen and (max-width: 760px) {
  #main-panel > .jp-TreePanel {
    margin: 0px -5px;
  }
}
</style><style>/*-----------------------------------------------------------------------------
| Copyright (c) Jupyter Development Team.
| Distributed under the terms of the Modified BSD License.
|
| Adapted from JupyterLab's packages/application/style/sidepanel.css.
|----------------------------------------------------------------------------*/

/*-----------------------------------------------------------------------------
| Variables
|----------------------------------------------------------------------------*/

:root {
  --jp-private-sidebar-tab-width: 32px;
}

/*-----------------------------------------------------------------------------
| SideBar
|----------------------------------------------------------------------------*/

/* Stack panels */

#jp-right-stack,
#jp-left-stack {
  display: flex;
  flex-direction: column;
  min-width: var(--jp-sidebar-min-width);
}

#jp-left-stack .jp-SidePanel-collapse,
#jp-right-stack .jp-SidePanel-collapse {
  display: flex;
  flex: 0 0 auto;
  min-height: 0;
  padding: 0;
}

#jp-left-stack .jp-SidePanel-collapse {
  justify-content: right;
}

#jp-right-stack .jp-SidePanel-collapse {
  justify-content: left;
}

#jp-left-stack .lm-StackedPanel,
#jp-right-stack .lm-StackedPanel {
  flex: 1 1 auto;
}
</style><style>/*-----------------------------------------------------------------------------
| Copyright (c) Jupyter Development Team.
|
| Distributed under the terms of the Modified BSD License.
|----------------------------------------------------------------------------*/

.jp-NotebookSpacer {
  flex-grow: 1;
  flex-shrink: 1;
}

.jp-MainAreaWidget {
  height: 100%;
}

.jp-Toolbar > .jp-Toolbar-item {
  height: unset;
}

#jp-UserMenu {
  flex: 0 0 auto;
  display: flex;
  text-align: center;
  margin-top: 8px;
}

.jp-MimeDocument .jp-RenderedJSON {
  background: var(--jp-layout-color0);
}

/* Hide the stub toolbar that appears above terminals and documents */

.jp-MainAreaWidget > .jp-Toolbar-micro {
  display: none;
}

#jp-NotebookLogo {
  /* bring logo to the front so it is selectable by tab*/
  z-index: 10;
}
</style><style></style><style>.jp-Document {
  height: 100%;
}
</style><style></style><style>.jp-AboutNotebook .jp-Dialog-header {
  justify-content: center;
  padding: 0;
}

.jp-AboutNotebook-header {
  display: flex;
  flex-direction: row;
  align-items: center;
  padding: var(--jp-flat-button-padding);
}

.jp-AboutNotebook-header-text {
  margin-left: 16px;
}

.jp-AboutNotebook-version {
  color: var(--jp-ui-font-color1);
  font-size: var(--jp-ui-font-size1);
  padding-bottom: 30px;
  font-weight: 400;
  letter-spacing: 0.4px;
  line-height: 1.12;
  min-width: 360px;
  text-align: center;
}

.jp-AboutNotebook-body {
  display: flex;
  font-size: var(--jp-ui-font-size2);
  padding: var(--jp-flat-button-padding);
  color: var(--jp-ui-font-color1);
  text-align: center;
  flex-direction: column;
  min-width: 360px;
  overflow: hidden;
}

.jp-AboutNotebook-about-body pre {
  white-space: pre-wrap;
}

.jp-AboutNotebook-about-externalLinks {
  display: flex;
  flex-direction: column;
  justify-content: flex-start;
  align-items: flex-start;
  color: var(--jp-warn-color0);
}

.jp-AboutNotebook-about-copyright {
  padding-top: 25px;
}
</style><style>:root {
  --jp-notebook-toolbar-margin-bottom: 20px;
  --jp-notebook-padding-offset: 20px;

  --jp-kernel-status-padding: 5px;
}
</style><style>/*-----------------------------------------------------------------------------
| Copyright (c) Jupyter Development Team.
|
| Distributed under the terms of the Modified BSD License.
|----------------------------------------------------------------------------*/

/**
  Document oriented look for the notebook.
  This includes changes to the look and feel of the JupyterLab Notebook
  component like:
  - scrollbar to the right of the page
  - drop shadow on the notebook
  - smaller empty space at the bottom of the notebook
  - compact view on mobile
*/

/* Keep the notebook centered on the page */

body[data-notebook='notebooks'] .jp-NotebookPanel-toolbar {
  padding-left: calc(calc(100% - var(--jp-notebook-max-width)) * 0.5);
  padding-right: calc(calc(100% - var(--jp-notebook-max-width)) * 0.5);
}

body[data-notebook='notebooks'] .jp-Notebook {
  padding-top: unset;
  padding-left: calc(calc(100% - var(--jp-notebook-max-width)) * 0.5);
  padding-right: calc(
    calc(
        100% - var(--jp-notebook-max-width) - var(--jp-notebook-padding-offset)
      ) * 0.5
  );
  background: var(--jp-layout-color2);
}

body[data-notebook='notebooks'] .jp-WindowedPanel-inner {
  margin-top: var(--jp-notebook-toolbar-margin-bottom);
}

body[data-notebook='notebooks'] .jp-Notebook-cell {
  background: var(--jp-layout-color0);
  padding-left: calc(2 * var(--jp-cell-padding));
  padding-right: calc(2 * var(--jp-cell-padding));
}

/* Empty space at the bottom of the notebook (similar to classic) */
body[data-notebook='notebooks'] .jp-Notebook.jp-mod-scrollPastEnd::after {
  min-height: 100px;
}

/* Fix background colors */

body[data-notebook='notebooks'] .jp-Notebook > * {
  background: var(--jp-layout-color0);
}

body[data-notebook='notebooks']
  .jp-Notebook.jp-mod-commandMode
  .jp-Cell.jp-mod-active.jp-mod-selected:not(.jp-mod-multiSelected) {
  background: var(--jp-layout-color0) !important;
}

/**
  Extra padding to the first and and last cell of the notebook.
  TODO: revisit when https://github.com/jupyterlab/jupyterlab/issues/13151 is fixed
*/
.jp-Notebook-cell[data-windowed-list-index='0'] {
  padding-top: calc(2 * var(--jp-notebook-padding));
}

body[data-notebook='notebooks'] .jp-WindowedPanel-window > *:last-child {
  padding-bottom: calc(2 * var(--jp-notebook-padding));
}

body[data-notebook='notebooks']
  .jp-Notebook
  .jp-Notebook-cell:not(:first-child)::before {
  content: ' ';
  height: 100%;
  position: absolute;
  top: 0;
  width: 11px;
}

/* Cell toolbar adjustments */

body[data-notebook='notebooks'] .jp-cell-toolbar {
  background: unset;
  box-shadow: unset;
}

body[data-notebook='notebooks']
  .jp-RawCell[data-windowed-list-index='0']
  .jp-cell-toolbar,
body[data-notebook='notebooks']
  .jp-MarkdownCell[data-windowed-list-index='0']
  .jp-cell-toolbar {
  top: calc(2 * var(--jp-notebook-padding));
}

/** first code cell on mobile
    (keep the selector above the media query)
*/
body[data-notebook='notebooks']
  .jp-CodeCell[data-windowed-list-index='0']
  .jp-cell-toolbar {
  top: unset;
}

@media only screen and (max-width: 760px) {
  /* first code cell on mobile */
  body[data-notebook='notebooks']
    .jp-CodeCell[data-windowed-list-index='0']
    .jp-cell-toolbar {
    top: var(--jp-notebook-padding);
  }

  body[data-notebook='notebooks'] .jp-MarkdownCell .jp-cell-toolbar,
  body[data-notebook='notebooks'] .jp-RawCell .jp-cell-toolbar {
    top: calc(0.5 * var(--jp-notebook-padding));
  }
}

/* Tweak the notebook footer (to add a new cell) */
body[data-notebook='notebooks'] .jp-Notebook-footer {
  width: 100%;
  margin-left: unset;
  background: unset;
}

/* Mobile View */

body[data-format='mobile'] .jp-NotebookCheckpoint {
  display: none;
}

body[data-format='mobile'] .jp-Notebook > *:first-child {
  margin-top: 0;
}

body[data-format='mobile'] .jp-ToolbarButton .jp-DebuggerBugButton {
  display: none;
}

/* Virtual Notebook fixes */

body[data-notebook='notebooks'] .jp-WindowedPanel-window {
  background: var(--jp-layout-color0);
}

/* Notebook box shadow */

body[data-notebook='notebooks'] .jp-Notebook > *:first-child:not(:last-child) {
  box-shadow: var(--jp-elevation-z4);
}

body[data-notebook='notebooks']
  .jp-Notebook
  > *:first-child:last-child::before {
  content: '';
  position: absolute;
  top: 0;
  bottom: 0;
  left: 0;
  right: 0;
  box-shadow: 0px 0px 12px 1px var(--jp-shadow-umbra-color);
}

body[data-notebook='notebooks']
  .jp-Notebook
  .jp-Notebook-cell:not(:first-child)::after,
body[data-notebook='notebooks']
  .jp-Notebook
  .jp-Notebook-cell:not(:first-child)::before {
  content: ' ';
  height: 100%;
  position: absolute;
  top: 0;
  width: 11px;
}

/* Additional customizations of the components on the notebook page */

.jp-NotebookKernelLogo {
  flex: 0 0 auto;
  display: flex;
  align-items: center;
  text-align: center;
  margin-right: 8px;
}

.jp-NotebookKernelLogo img {
  max-width: 28px;
  max-height: 28px;
  display: flex;
}

.jp-NotebookKernelStatus {
  margin: 0;
  font-weight: normal;
  font-size: var(--jp-ui-font-size1);
  color: var(--jp-ui-font-color0);
  font-family: var(--jp-ui-font-family);
  line-height: var(--jp-private-title-panel-height);
  padding-left: var(--jp-kernel-status-padding);
  padding-right: var(--jp-kernel-status-padding);
}

.jp-NotebookKernelStatus-error {
  background-color: var(--jp-error-color0);
}

.jp-NotebookKernelStatus-warn {
  background-color: var(--jp-warn-color0);
}

.jp-NotebookKernelStatus-info {
  background-color: var(--jp-info-color0);
}

.jp-NotebookKernelStatus-fade {
  animation: 0.5s fade-out forwards;
}

.jp-NotebookTrustedStatus {
  background: var(--jp-layout-color1);
  color: var(--jp-ui-font-color1);
  margin-top: 4px;
  margin-bottom: 4px;
  border: solid 1px var(--jp-border-color2);
  cursor: help;
}

.jp-NotebookTrustedStatus-not-trusted {
  cursor: pointer;
}

@keyframes fade-out {
  0% {
    opacity: 1;
  }
  100% {
    opacity: 0;
  }
}

#jp-title h1 {
  cursor: pointer;
  font-size: 18px;
  margin: 0;
  font-weight: normal;
  color: var(--jp-ui-font-color0);
  font-family: var(--jp-ui-font-family);
  line-height: calc(1.5 * var(--jp-private-title-panel-height));
  text-overflow: ellipsis;
  overflow: hidden;
  white-space: nowrap;
}

#jp-title h1:hover {
  background: var(--jp-layout-color2);
}

.jp-NotebookCheckpoint {
  font-size: 14px;
  margin-left: 5px;
  margin-right: 5px;
  font-weight: normal;
  color: var(--jp-ui-font-color0);
  font-family: var(--jp-ui-font-family);
  line-height: calc(1.5 * var(--jp-private-title-panel-height));
  text-overflow: ellipsis;
  overflow: hidden;
  white-space: nowrap;
}

.jp-skiplink {
  position: absolute;
  top: -100em;
}

.jp-skiplink:focus-within {
  position: absolute;
  z-index: 10000;
  top: 0;
  left: 46%;
  margin: 0 auto;
  padding: 1em;
  width: 15%;
  box-shadow: var(--jp-elevation-z4);
  border-radius: 4px;
  background: var(--jp-layout-color0);
  text-align: center;
}

.jp-skiplink:focus-within a {
  text-decoration: underline;
  color: var(--jp-content-link-color);
}
</style><style></style><style>/*
 * Copyright (c) Jupyter Development Team.
 * Distributed under the terms of the Modified BSD License.
 */

/*-----------------------------------------------------------------------------
| Copyright (c) Jupyter Development Team.
| Copyright (c) 2014-2017, PhosphorJS Contributors
|
| Distributed under the terms of the BSD 3-Clause License.
|
| The full license is in the file LICENSE, distributed with this software.
|----------------------------------------------------------------------------*/

.lm-cursor-backdrop {
  top: 0px;
  left: 0px;
  position: fixed;
  width: 200px;
  height: 200px;
  margin-top: -100px;
  margin-left: -100px;
  will-change: transform;
  z-index: 100;
  scrollbar-width: none;
  -ms-overflow-style: none;
  overflow: scroll;
}

.lm-cursor-backdrop::after {
  content: '';
  height: 1200px;
  width: 1200px;
  display: block;
}

.lm-cursor-backdrop::-webkit-scrollbar {
  display: none;
}

.lm-mod-drag-image {
  top: 0px;
  left: 0px;
  will-change: transform;
}
</style><style>/*-----------------------------------------------------------------------------
| Copyright (c) Jupyter Development Team.
| Distributed under the terms of the Modified BSD License.
|----------------------------------------------------------------------------*/

/*-----------------------------------------------------------------------------
| Variables
|----------------------------------------------------------------------------*/

:root {
  --jp-private-filebrowser-button-height: 28px;
  --jp-private-filebrowser-button-width: 48px;
}

/*-----------------------------------------------------------------------------
| Copyright (c) Jupyter Development Team.
| Distributed under the terms of the Modified BSD License.
|----------------------------------------------------------------------------*/

.jp-FileBrowser .jp-SidePanel-content {
  display: flex;
  flex-direction: column;
}

.jp-FileBrowser-toolbar.jp-Toolbar {
  flex-wrap: wrap;
  row-gap: 12px;
  border-bottom: none;
  height: auto;
  margin: 8px 12px 0;
  box-shadow: none;
  padding: 0;
  justify-content: flex-start;
}

.jp-FileBrowser-Panel {
  flex: 1 1 auto;
  display: flex;
  flex-direction: column;
}

.jp-BreadCrumbs {
  flex: 0 0 auto;
  margin: 8px 12px;
}

.jp-BreadCrumbs-item {
  margin: 0 2px;
  padding: 0 2px;
  border-radius: var(--jp-border-radius);
  cursor: pointer;
}

.jp-BreadCrumbs-item:hover {
  background-color: var(--jp-layout-color2);
}

.jp-BreadCrumbs-item:first-child {
  margin-left: 0;
}

.jp-BreadCrumbs-item.jp-mod-dropTarget {
  background-color: var(--jp-brand-color2);
  opacity: 0.7;
}

/*-----------------------------------------------------------------------------
| Buttons
|----------------------------------------------------------------------------*/

.jp-FileBrowser-toolbar > .jp-Toolbar-item {
  flex: 0 0 auto;
  padding-left: 0;
  padding-right: 2px;
  align-items: center;
  height: unset;
}

.jp-FileBrowser-toolbar > .jp-Toolbar-item .jp-ToolbarButtonComponent {
  width: 40px;
}

/*-----------------------------------------------------------------------------
| Other styles
|----------------------------------------------------------------------------*/

.jp-FileDialog.jp-mod-conflict input {
  color: var(--jp-error-color1);
}

.jp-FileDialog .jp-new-name-title {
  margin-top: 12px;
}

.jp-LastModified-hidden {
  display: none;
}

.jp-FileSize-hidden {
  display: none;
}

.jp-FileBrowser .lm-AccordionPanel > h3:first-child {
  display: none;
}

/*-----------------------------------------------------------------------------
| DirListing
|----------------------------------------------------------------------------*/

.jp-DirListing {
  flex: 1 1 auto;
  display: flex;
  flex-direction: column;
  outline: 0;
}

.jp-DirListing-header {
  flex: 0 0 auto;
  display: flex;
  flex-direction: row;
  align-items: center;
  overflow: hidden;
  border-top: var(--jp-border-width) solid var(--jp-border-color2);
  border-bottom: var(--jp-border-width) solid var(--jp-border-color1);
  box-shadow: var(--jp-toolbar-box-shadow);
  z-index: 2;
}

.jp-DirListing-headerItem {
  padding: 4px 12px 2px;
  font-weight: 500;
}

.jp-DirListing-headerItem:hover {
  background: var(--jp-layout-color2);
}

.jp-DirListing-headerItem.jp-id-name {
  flex: 1 0 84px;
}

.jp-DirListing-headerItem.jp-id-modified {
  flex: 0 0 112px;
  border-left: var(--jp-border-width) solid var(--jp-border-color2);
  text-align: right;
}

.jp-DirListing-headerItem.jp-id-filesize {
  flex: 0 0 75px;
  border-left: var(--jp-border-width) solid var(--jp-border-color2);
  text-align: right;
}

.jp-id-narrow {
  display: none;
  flex: 0 0 5px;
  padding: 4px;
  border-left: var(--jp-border-width) solid var(--jp-border-color2);
  text-align: right;
  color: var(--jp-border-color2);
}

.jp-DirListing-narrow .jp-id-narrow {
  display: block;
}

.jp-DirListing-narrow .jp-id-modified,
.jp-DirListing-narrow .jp-DirListing-itemModified {
  display: none;
}

.jp-DirListing-headerItem.jp-mod-selected {
  font-weight: 600;
}

/* increase specificity to override bundled default */
.jp-DirListing-content {
  flex: 1 1 auto;
  margin: 0;
  padding: 0;
  list-style-type: none;
  overflow: auto;
  background-color: var(--jp-layout-color1);
}

.jp-DirListing-content mark {
  color: var(--jp-ui-font-color0);
  background-color: transparent;
  font-weight: bold;
}

.jp-DirListing-content .jp-DirListing-item.jp-mod-selected mark {
  color: var(--jp-ui-inverse-font-color0);
}

/* Style the directory listing content when a user drops a file to upload */
.jp-DirListing.jp-mod-native-drop .jp-DirListing-content {
  outline: 5px dashed rgba(128, 128, 128, 0.5);
  outline-offset: -10px;
  cursor: copy;
}

.jp-DirListing-item {
  display: flex;
  flex-direction: row;
  align-items: center;
  padding: 4px 12px;
  -webkit-user-select: none;
  -moz-user-select: none;
  -ms-user-select: none;
  user-select: none;
}

.jp-DirListing-checkboxWrapper {
  /* Increases hit area of checkbox. */
  padding: 4px;
}

.jp-DirListing-header
  .jp-DirListing-checkboxWrapper
  + .jp-DirListing-headerItem {
  padding-left: 4px;
}

.jp-DirListing-content .jp-DirListing-checkboxWrapper {
  position: relative;
  left: -4px;
  margin: -4px 0 -4px -8px;
}

.jp-DirListing-checkboxWrapper.jp-mod-visible {
  visibility: visible;
}

/* For devices that support hovering, hide checkboxes until hovered, selected...
*/
@media (hover: hover) {
  .jp-DirListing-checkboxWrapper {
    visibility: hidden;
  }

  .jp-DirListing-item:hover .jp-DirListing-checkboxWrapper,
  .jp-DirListing-item.jp-mod-selected .jp-DirListing-checkboxWrapper {
    visibility: visible;
  }
}

.jp-DirListing-item[data-is-dot] {
  opacity: 75%;
}

.jp-DirListing-item.jp-mod-selected {
  color: var(--jp-ui-inverse-font-color1);
  background: var(--jp-brand-color1);
}

.jp-DirListing-item.jp-mod-dropTarget {
  background: var(--jp-brand-color3);
}

.jp-DirListing-item:hover:not(.jp-mod-selected) {
  background: var(--jp-layout-color2);
}

.jp-DirListing-itemIcon {
  flex: 0 0 20px;
  margin-right: 4px;
}

.jp-DirListing-itemText {
  flex: 1 0 64px;
  white-space: nowrap;
  overflow: hidden;
  text-overflow: ellipsis;
  user-select: none;
}

.jp-DirListing-itemText:focus {
  outline-width: 2px;
  outline-color: var(--jp-inverse-layout-color1);
  outline-style: solid;
  outline-offset: 1px;
}

.jp-DirListing-item.jp-mod-selected .jp-DirListing-itemText:focus {
  outline-color: var(--jp-layout-color1);
}

.jp-DirListing-itemModified {
  flex: 0 0 125px;
  text-align: right;
}

.jp-DirListing-itemFileSize {
  flex: 0 0 90px;
  text-align: right;
}

.jp-DirListing-editor {
  flex: 1 0 64px;
  outline: none;
  border: none;
  color: var(--jp-ui-font-color1);
  background-color: var(--jp-layout-color1);
}

.jp-DirListing-item.jp-mod-running .jp-DirListing-itemIcon::before {
  color: var(--jp-success-color1);
  content: '\25CF';
  font-size: 8px;
  position: absolute;
  left: -8px;
}

.jp-DirListing-item.jp-mod-running.jp-mod-selected
  .jp-DirListing-itemIcon::before {
  color: var(--jp-ui-inverse-font-color1);
}

.jp-DirListing-item.lm-mod-drag-image,
.jp-DirListing-item.jp-mod-selected.lm-mod-drag-image {
  font-size: var(--jp-ui-font-size1);
  padding-left: 4px;
  margin-left: 4px;
  width: 160px;
  background-color: var(--jp-ui-inverse-font-color2);
  box-shadow: var(--jp-elevation-z2);
  border-radius: 0;
  color: var(--jp-ui-font-color1);
  transform: translateX(-40%) translateY(-58%);
}

.jp-Document {
  min-width: 120px;
  min-height: 120px;
  outline: none;
}
</style><style>.jp-FileBrowser {
  height: 100%;
}

.lm-TabPanel {
  height: 100%;
}

.jp-TreePanel .lm-TabPanel-tabBar {
  overflow: visible;
  min-height: 32px;
  border-bottom: unset;
  height: var(--jp-private-toolbar-height);
}

.jp-TreePanel .lm-TabBar-content {
  height: 100%;
}

.jp-TreePanel .lm-TabBar-tab {
  flex: 0 1 auto;
  color: var(--jp-ui-font-color0);
  font-size: var(--jp-ui-font-size1);
  height: 100%;
}

.jp-TreePanel .lm-TabBar-tabLabel {
  padding-left: 5px;
  padding-right: 5px;
}

.jp-FileBrowser-toolbar.jp-Toolbar .jp-ToolbarButtonComponent {
  width: unset;
}

.jp-FileBrowser-toolbar > .jp-Toolbar-item {
  flex-direction: column;
  justify-content: center;
}

.jp-DropdownMenu .lm-MenuBar-itemIcon svg {
  vertical-align: sub;
}

button[data-command='filebrowser:refresh'] .jp-ToolbarButtonComponent-label {
  display: none;
}

.jp-TreePanel .lm-TabBar-tabIcon svg {
  vertical-align: sub;
}
</style><style>/*-----------------------------------------------------------------------------
| Copyright (c) Jupyter Development Team.
|
| Distributed under the terms of the Modified BSD License.
|----------------------------------------------------------------------------*/

.jp-FileBrowser-toolbar .jp-Toolbar-item.jp-DropdownMenu,
.jp-FileBrowser-toolbar .jp-Toolbar-item.jp-ToolbarButton,
.jp-FileBrowser-toolbar .jp-Toolbar-item.jp-CommandToolbarButton {
  border: solid 1px var(--jp-border-color2);
  margin: 1px;
  padding: 0px;
}

.jp-FileBrowser-toolbar button.jp-ToolbarButtonComponent {
  height: var(--jp-flat-button-height);
}

.jp-FileBrowser-filterBox {
  padding: 0;
  flex: 0 0 auto;
}

.jp-FileBrowser-filterBox input {
  line-height: 24px;
}

.jp-DirListing-content .jp-DirListing-checkboxWrapper {
  visibility: visible;
}

/* Action buttons */

.jp-FileBrowser-toolbar > .jp-FileActions.jp-Toolbar-item {
  display: flex;
  flex-direction: row;
}

.jp-FileActions .jp-ToolbarButtonComponent-icon {
  display: none;
}

.jp-FileActions .jp-ToolbarButtonComponent[data-command='filebrowser:delete'] {
  background-color: var(--jp-error-color1);
}

.jp-FileActions
  .jp-ToolbarButtonComponent[data-command='filebrowser:delete']
  .jp-ToolbarButtonComponent-label {
  color: var(--jp-ui-inverse-font-color1);
}

.jp-FileBrowser-toolbar .jp-FileActions .jp-ToolbarButtonComponent {
  border: solid 1px var(--jp-border-color2);
  margin: 1px;
  min-height: 100%;
}
</style><style></style><style>/*-----------------------------------------------------------------------------
| Copyright (c) 2014-2019, Jupyter Development Team.
|
| Distributed under the terms of the Modified BSD License.
|----------------------------------------------------------------------------*/

.jp-PropertyInspector {
  display: flex;
  color: var(--jp-ui-font-color1);
  background: var(--jp-layout-color1);
}

.jp-PropertyInspector-content {
  flex-grow: 1;
}

.jp-PropertyInspector-placeholder {
  display: flex;
  align-items: center;
  justify-content: center;
}

.jp-PropertyInspector-placeholderContent {
  padding: 8px;
}
</style><style>/*-----------------------------------------------------------------------------
| Copyright (c) Jupyter Development Team.
|
| Distributed under the terms of the Modified BSD License.
|----------------------------------------------------------------------------*/

#jp-MainLogo {
  width: calc(var(--jp-private-sidebar-tab-width) + var(--jp-border-width));
}

#jp-top-bar {
  --jp-private-toolbar-height: var(--jp-private-menu-panel-height);

  flex: 1 1 auto;
  padding: 0 2px;
  box-shadow: none;
  border: none;
  align-items: center;
}
</style><style>:root{--toastify-color-light:#fff;--toastify-color-dark:#121212;--toastify-color-info:#3498db;--toastify-color-success:#07bc0c;--toastify-color-warning:#f1c40f;--toastify-color-error:#e74c3c;--toastify-color-transparent:hsla(0,0%,100%,.7);--toastify-icon-color-info:var(--toastify-color-info);--toastify-icon-color-success:var(--toastify-color-success);--toastify-icon-color-warning:var(--toastify-color-warning);--toastify-icon-color-error:var(--toastify-color-error);--toastify-toast-width:320px;--toastify-toast-background:#fff;--toastify-toast-min-height:64px;--toastify-toast-max-height:800px;--toastify-font-family:sans-serif;--toastify-z-index:9999;--toastify-text-color-light:#757575;--toastify-text-color-dark:#fff;--toastify-text-color-info:#fff;--toastify-text-color-success:#fff;--toastify-text-color-warning:#fff;--toastify-text-color-error:#fff;--toastify-spinner-color:#616161;--toastify-spinner-color-empty-area:#e0e0e0;--toastify-color-progress-light:linear-gradient(90deg,#4cd964,#5ac8fa,#007aff,#34aadc,#5856d6,#ff2d55);--toastify-color-progress-dark:#bb86fc;--toastify-color-progress-info:var(--toastify-color-info);--toastify-color-progress-success:var(--toastify-color-success);--toastify-color-progress-warning:var(--toastify-color-warning);--toastify-color-progress-error:var(--toastify-color-error)}.Toastify__toast-container{z-index:var(--toastify-z-index);-webkit-transform:translateZ(var(--toastify-z-index));position:fixed;padding:4px;width:var(--toastify-toast-width);box-sizing:border-box;color:#fff}.Toastify__toast-container--top-left{top:1em;left:1em}.Toastify__toast-container--top-center{top:1em;left:50%;transform:translateX(-50%)}.Toastify__toast-container--top-right{top:1em;right:1em}.Toastify__toast-container--bottom-left{bottom:1em;left:1em}.Toastify__toast-container--bottom-center{bottom:1em;left:50%;transform:translateX(-50%)}.Toastify__toast-container--bottom-right{bottom:1em;right:1em}@media only screen and (max-width:480px){.Toastify__toast-container{width:100vw;padding:0;left:0;margin:0}.Toastify__toast-container--top-center,.Toastify__toast-container--top-left,.Toastify__toast-container--top-right{top:0;transform:translateX(0)}.Toastify__toast-container--bottom-center,.Toastify__toast-container--bottom-left,.Toastify__toast-container--bottom-right{bottom:0;transform:translateX(0)}.Toastify__toast-container--rtl{right:0;left:auto}}.Toastify__toast{position:relative;min-height:var(--toastify-toast-min-height);box-sizing:border-box;margin-bottom:1rem;padding:8px;border-radius:4px;box-shadow:0 1px 10px 0 rgba(0,0,0,.1),0 2px 15px 0 rgba(0,0,0,.05);display:-ms-flexbox;display:flex;-ms-flex-pack:justify;justify-content:space-between;max-height:var(--toastify-toast-max-height);overflow:hidden;font-family:var(--toastify-font-family);cursor:default;direction:ltr;z-index:0}.Toastify__toast--rtl{direction:rtl}.Toastify__toast--close-on-click{cursor:pointer}.Toastify__toast-body{margin:auto 0;-ms-flex:1 1 auto;flex:1 1 auto;padding:6px;display:-ms-flexbox;display:flex;-ms-flex-align:center;align-items:center}.Toastify__toast-body>div:last-child{word-break:break-word;-ms-flex:1;flex:1}.Toastify__toast-icon{-webkit-margin-end:10px;margin-inline-end:10px;width:20px;-ms-flex-negative:0;flex-shrink:0;display:-ms-flexbox;display:flex}.Toastify--animate{animation-fill-mode:both;animation-duration:.7s}.Toastify--animate-icon{animation-fill-mode:both;animation-duration:.3s}@media only screen and (max-width:480px){.Toastify__toast{margin-bottom:0;border-radius:0}}.Toastify__toast-theme--dark{background:var(--toastify-color-dark);color:var(--toastify-text-color-dark)}.Toastify__toast-theme--colored.Toastify__toast--default,.Toastify__toast-theme--light{background:var(--toastify-color-light);color:var(--toastify-text-color-light)}.Toastify__toast-theme--colored.Toastify__toast--info{color:var(--toastify-text-color-info);background:var(--toastify-color-info)}.Toastify__toast-theme--colored.Toastify__toast--success{color:var(--toastify-text-color-success);background:var(--toastify-color-success)}.Toastify__toast-theme--colored.Toastify__toast--warning{color:var(--toastify-text-color-warning);background:var(--toastify-color-warning)}.Toastify__toast-theme--colored.Toastify__toast--error{color:var(--toastify-text-color-error);background:var(--toastify-color-error)}.Toastify__progress-bar-theme--light{background:var(--toastify-color-progress-light)}.Toastify__progress-bar-theme--dark{background:var(--toastify-color-progress-dark)}.Toastify__progress-bar--info{background:var(--toastify-color-progress-info)}.Toastify__progress-bar--success{background:var(--toastify-color-progress-success)}.Toastify__progress-bar--warning{background:var(--toastify-color-progress-warning)}.Toastify__progress-bar--error{background:var(--toastify-color-progress-error)}.Toastify__progress-bar-theme--colored.Toastify__progress-bar--error,.Toastify__progress-bar-theme--colored.Toastify__progress-bar--info,.Toastify__progress-bar-theme--colored.Toastify__progress-bar--success,.Toastify__progress-bar-theme--colored.Toastify__progress-bar--warning{background:var(--toastify-color-transparent)}.Toastify__close-button{color:#fff;background:transparent;outline:none;border:none;padding:0;cursor:pointer;opacity:.7;transition:.3s ease;-ms-flex-item-align:start;align-self:flex-start}.Toastify__close-button--light{color:#000;opacity:.3}.Toastify__close-button>svg{fill:currentColor;height:16px;width:14px}.Toastify__close-button:focus,.Toastify__close-button:hover{opacity:1}@keyframes Toastify__trackProgress{0%{transform:scaleX(1)}to{transform:scaleX(0)}}.Toastify__progress-bar{position:absolute;bottom:0;left:0;width:100%;height:5px;z-index:var(--toastify-z-index);opacity:.7;transform-origin:left}.Toastify__progress-bar--animated{animation:Toastify__trackProgress linear 1 forwards}.Toastify__progress-bar--controlled{transition:transform .2s}.Toastify__progress-bar--rtl{right:0;left:auto;transform-origin:right}.Toastify__spinner{width:20px;height:20px;box-sizing:border-box;border:2px solid;border-radius:100%;border-color:var(--toastify-spinner-color-empty-area);border-right-color:var(--toastify-spinner-color);animation:Toastify__spin .65s linear infinite}@keyframes Toastify__bounceInRight{0%,60%,75%,90%,to{animation-timing-function:cubic-bezier(.215,.61,.355,1)}0%{opacity:0;transform:translate3d(3000px,0,0)}60%{opacity:1;transform:translate3d(-25px,0,0)}75%{transform:translate3d(10px,0,0)}90%{transform:translate3d(-5px,0,0)}to{transform:none}}@keyframes Toastify__bounceOutRight{20%{opacity:1;transform:translate3d(-20px,0,0)}to{opacity:0;transform:translate3d(2000px,0,0)}}@keyframes Toastify__bounceInLeft{0%,60%,75%,90%,to{animation-timing-function:cubic-bezier(.215,.61,.355,1)}0%{opacity:0;transform:translate3d(-3000px,0,0)}60%{opacity:1;transform:translate3d(25px,0,0)}75%{transform:translate3d(-10px,0,0)}90%{transform:translate3d(5px,0,0)}to{transform:none}}@keyframes Toastify__bounceOutLeft{20%{opacity:1;transform:translate3d(20px,0,0)}to{opacity:0;transform:translate3d(-2000px,0,0)}}@keyframes Toastify__bounceInUp{0%,60%,75%,90%,to{animation-timing-function:cubic-bezier(.215,.61,.355,1)}0%{opacity:0;transform:translate3d(0,3000px,0)}60%{opacity:1;transform:translate3d(0,-20px,0)}75%{transform:translate3d(0,10px,0)}90%{transform:translate3d(0,-5px,0)}to{transform:translateZ(0)}}@keyframes Toastify__bounceOutUp{20%{transform:translate3d(0,-10px,0)}40%,45%{opacity:1;transform:translate3d(0,20px,0)}to{opacity:0;transform:translate3d(0,-2000px,0)}}@keyframes Toastify__bounceInDown{0%,60%,75%,90%,to{animation-timing-function:cubic-bezier(.215,.61,.355,1)}0%{opacity:0;transform:translate3d(0,-3000px,0)}60%{opacity:1;transform:translate3d(0,25px,0)}75%{transform:translate3d(0,-10px,0)}90%{transform:translate3d(0,5px,0)}to{transform:none}}@keyframes Toastify__bounceOutDown{20%{transform:translate3d(0,10px,0)}40%,45%{opacity:1;transform:translate3d(0,-20px,0)}to{opacity:0;transform:translate3d(0,2000px,0)}}.Toastify__bounce-enter--bottom-left,.Toastify__bounce-enter--top-left{animation-name:Toastify__bounceInLeft}.Toastify__bounce-enter--bottom-right,.Toastify__bounce-enter--top-right{animation-name:Toastify__bounceInRight}.Toastify__bounce-enter--top-center{animation-name:Toastify__bounceInDown}.Toastify__bounce-enter--bottom-center{animation-name:Toastify__bounceInUp}.Toastify__bounce-exit--bottom-left,.Toastify__bounce-exit--top-left{animation-name:Toastify__bounceOutLeft}.Toastify__bounce-exit--bottom-right,.Toastify__bounce-exit--top-right{animation-name:Toastify__bounceOutRight}.Toastify__bounce-exit--top-center{animation-name:Toastify__bounceOutUp}.Toastify__bounce-exit--bottom-center{animation-name:Toastify__bounceOutDown}@keyframes Toastify__zoomIn{0%{opacity:0;transform:scale3d(.3,.3,.3)}50%{opacity:1}}@keyframes Toastify__zoomOut{0%{opacity:1}50%{opacity:0;transform:scale3d(.3,.3,.3)}to{opacity:0}}.Toastify__zoom-enter{animation-name:Toastify__zoomIn}.Toastify__zoom-exit{animation-name:Toastify__zoomOut}@keyframes Toastify__flipIn{0%{transform:perspective(400px) rotateX(90deg);animation-timing-function:ease-in;opacity:0}40%{transform:perspective(400px) rotateX(-20deg);animation-timing-function:ease-in}60%{transform:perspective(400px) rotateX(10deg);opacity:1}80%{transform:perspective(400px) rotateX(-5deg)}to{transform:perspective(400px)}}@keyframes Toastify__flipOut{0%{transform:perspective(400px)}30%{transform:perspective(400px) rotateX(-20deg);opacity:1}to{transform:perspective(400px) rotateX(90deg);opacity:0}}.Toastify__flip-enter{animation-name:Toastify__flipIn}.Toastify__flip-exit{animation-name:Toastify__flipOut}@keyframes Toastify__slideInRight{0%{transform:translate3d(110%,0,0);visibility:visible}to{transform:translateZ(0)}}@keyframes Toastify__slideInLeft{0%{transform:translate3d(-110%,0,0);visibility:visible}to{transform:translateZ(0)}}@keyframes Toastify__slideInUp{0%{transform:translate3d(0,110%,0);visibility:visible}to{transform:translateZ(0)}}@keyframes Toastify__slideInDown{0%{transform:translate3d(0,-110%,0);visibility:visible}to{transform:translateZ(0)}}@keyframes Toastify__slideOutRight{0%{transform:translateZ(0)}to{visibility:hidden;transform:translate3d(110%,0,0)}}@keyframes Toastify__slideOutLeft{0%{transform:translateZ(0)}to{visibility:hidden;transform:translate3d(-110%,0,0)}}@keyframes Toastify__slideOutDown{0%{transform:translateZ(0)}to{visibility:hidden;transform:translate3d(0,500px,0)}}@keyframes Toastify__slideOutUp{0%{transform:translateZ(0)}to{visibility:hidden;transform:translate3d(0,-500px,0)}}.Toastify__slide-enter--bottom-left,.Toastify__slide-enter--top-left{animation-name:Toastify__slideInLeft}.Toastify__slide-enter--bottom-right,.Toastify__slide-enter--top-right{animation-name:Toastify__slideInRight}.Toastify__slide-enter--top-center{animation-name:Toastify__slideInDown}.Toastify__slide-enter--bottom-center{animation-name:Toastify__slideInUp}.Toastify__slide-exit--bottom-left,.Toastify__slide-exit--top-left{animation-name:Toastify__slideOutLeft}.Toastify__slide-exit--bottom-right,.Toastify__slide-exit--top-right{animation-name:Toastify__slideOutRight}.Toastify__slide-exit--top-center{animation-name:Toastify__slideOutUp}.Toastify__slide-exit--bottom-center{animation-name:Toastify__slideOutDown}@keyframes Toastify__spin{0%{transform:rotate(0deg)}to{transform:rotate(1turn)}}</style><style>/*
 * Copyright (c) Jupyter Development Team.
 * Distributed under the terms of the Modified BSD License.
 */

:root {
  --toastify-color-light: var(--jp-layout-color1);
  --toastify-color-dark: var(--jp-layout-color1);
  --toastify-color-info: var(--jp-info-color1);
  --toastify-color-success: var(--jp-success-color1);
  --toastify-color-warning: var(--jp-warn-color1);
  --toastify-color-error: var(--jp-error-color1);
  --toastify-color-transparent: rgba(255, 255, 255, 0.7);
  --toastify-icon-color-info: var(--toastify-color-info);
  --toastify-icon-color-success: var(--toastify-color-success);
  --toastify-icon-color-warning: var(--toastify-color-warning);
  --toastify-icon-color-error: var(--toastify-color-error);
  --toastify-toast-width: 25em;
  --toastify-toast-background: var(--jp-layout-color1);
  --toastify-toast-min-height: 64px;
  --toastify-toast-max-height: 800px;
  --toastify-font-family: var(--jp-ui-font-family);
  --toastify-z-index: 9999;
  --toastify-text-color-light: var(--jp-ui-font-color1);
  --toastify-text-color-dark: var(--jp-ui-font-color1);
  --toastify-text-color-info: var(--jp-ui-font-color1);
  --toastify-text-color-success: var(--jp-ui-font-color1);
  --toastify-text-color-warning: var(--jp-ui-font-color1);
  --toastify-text-color-error: var(--jp-ui-font-color1);
  --toastify-spinner-color: #616161;
  --toastify-spinner-color-empty-area: #e0e0e0;
  --toastify-color-progress-light: linear-gradient(
    to right,
    #4cd964,
    #5ac8fa,
    #007aff,
    #34aadc,
    #5856d6,
    #ff2d55
  );
  --toastify-color-progress-dark: #bb86fc;
  --toastify-color-progress-info: var(--toastify-color-info);
  --toastify-color-progress-success: var(--toastify-color-success);
  --toastify-color-progress-warning: var(--toastify-color-warning);
  --toastify-color-progress-error: var(--toastify-color-error);
}

.jp-Notification-List {
  list-style: none;
  margin: 0;
  padding: 4px;
  width: var(--toastify-toast-width);
  overflow-y: auto;
  max-height: 55vh;
  box-sizing: border-box;
  background-color: var(--jp-layout-color2);
}

.jp-Notification-Header {
  padding: 0 4px;
  margin: 0;
  align-items: center;
  user-select: none;
}

.jp-Notification-List-Item {
  padding: 2px 0;
}

.jp-Notification-List .Toastify__toast {
  margin: 0;
}

.jp-Notification-Status.jp-mod-selected {
  background-color: var(--jp-brand-color1);
}

.jp-Notification-Status.jp-mod-selected .jp-Notification-Status-Text {
  color: var(--jp-ui-inverse-font-color1);
}

.Toastify__toast {
  min-height: unset;
  padding: 4px;
  font-size: var(--jp-ui-font-size1);
  border-width: var(--jp-border-width);
  border-radius: var(--jp-border-radius);
  border-color: var(--jp-border-color1);
  box-shadow: var(--jp-elevation-z4);
  cursor: default;
}

.Toastify__toast-body {
  display: flex;
  flex-grow: 1;
}

.jp-Notification-Toast-Close {
  padding: 0;
  position: absolute;
  right: 0.1px;
  cursor: pointer;
}

.jp-Notification-Toast-Close-Margin {
  margin-right: 4px;
}

.jp-toastContainer .jp-Notification-Toast-Close:hover {
  /* The close button has its own hover style */
  background: none;
}

.Toastify__toast.jp-Notification-Toast-error {
  border-top: 5px solid var(--jp-error-color1);
}

.Toastify__toast.jp-Notification-Toast-warning {
  border-top: 5px solid var(--jp-warn-color1);
}

.Toastify__toast.jp-Notification-Toast-info {
  border-top: 5px solid var(--jp-info-color1);
}

.Toastify__toast.jp-Notification-Toast-success {
  border-top: 5px solid var(--jp-success-color1);
}

.Toastify__toast.jp-Notification-Toast-in-progress {
  border-top: 5px solid var(--jp-layout-color1);
}

.Toastify__toast-body a {
  color: var(--jp-content-link-color);
}

.Toastify__toast-body a:hover {
  color: var(--jp-content-link-color);
  text-decoration: underline;
}

.jp-toast-message {
  padding-inline-end: 16px;
}

/* p elements are added by the markdown rendering.
 * Removing its default margin allows to reduce toast size.
 */
.Toastify__toast-body p:first-child,
.Toastify__toast-body h1:first-child,
.Toastify__toast-body h2:first-child,
.Toastify__toast-body h3:first-child,
.Toastify__toast-body h4:first-child,
.Toastify__toast-body h5:first-child,
.Toastify__toast-body h6:first-child,
.Toastify__toast-body ol:first-child,
.Toastify__toast-body ul:first-child {
  margin-top: 0;
}

.Toastify__toast-body p:last-child,
.Toastify__toast-body h1:last-child,
.Toastify__toast-body h2:last-child,
.Toastify__toast-body h3:last-child,
.Toastify__toast-body h4:last-child,
.Toastify__toast-body h5:last-child,
.Toastify__toast-body h6:last-child,
.Toastify__toast-body ol:last-child,
.Toastify__toast-body ul:last-child {
  margin-bottom: 0;
}

.jp-toast-buttonBar {
  display: flex;
  flex-direction: row;
  flex-wrap: nowrap;
  flex: 0 0 auto;
  padding-block-start: 8px;
}

.jp-toast-spacer {
  flex-grow: 1;
  flex-shrink: 1;
}

.jp-toast-button {
  margin-top: 1px;
  margin-bottom: 1px;
  margin-right: 0;
  margin-left: 3px;
  color: var(--jp-ui-font-color1);
  background-color: var(--jp-layout-color2);
  border: none;
}

.jp-toast-button:focus {
  outline: 1px solid var(--jp-reject-color-normal, var(--jp-layout-color2));
  outline-offset: 1px;
  -moz-outline-radius: 0;
}

.jp-toast-button:focus-visible {
  border: none;
}

.jp-toast-button:hover {
  background-color: var(--jp-layout-color3);
}

.jp-toast-button.jp-mod-accept {
  background: var(--jp-accept-color-normal, var(--jp-brand-color1));
  color: var(--jp-ui-inverse-font-color1);
}

.jp-toast-button.jp-mod-accept:focus {
  outline-color: var(--jp-accept-color-normal, var(--jp-brand-color1));
}

.jp-toast-button.jp-mod-accept:hover {
  background: var(--jp-accept-color-hover, var(--jp-brand-color0));
}

.jp-toast-button.jp-mod-warn {
  background: var(--jp-warn-color-normal, var(--jp-warn-color1));
  color: var(--jp-ui-inverse-font-color1);
}

.jp-toast-button.jp-mod-warn:focus {
  outline-color: var(--jp-warn-color-normal, var(--jp-warn-color1));
}

.jp-toast-button.jp-mod-warn:hover {
  background: var(--jp-warn-color-hover, var(--jp-warn-color0));
}

.jp-toast-button.jp-mod-link {
  color: var(--jp-content-link-color);
  text-decoration: underline;
  text-decoration-color: var(--jp-content-link-color);
}
</style><style>/*-----------------------------------------------------------------------------
| Copyright (c) 2014-2016, Jupyter Development Team.
|
| Distributed under the terms of the Modified BSD License.
|----------------------------------------------------------------------------*/

#jupyterlab-splash {
  z-index: 10;
  position: absolute;
  overflow: hidden;
  width: 100%;
  height: 100%;
  background-position: center 40%;
  background-repeat: no-repeat;
  background-size: cover;
}

#jupyterlab-splash.light {
  background-color: white;
}

#jupyterlab-splash.dark {
  background-color: var(--md-grey-900);
}

.splash-fade {
  animation: 0.5s fade-out forwards;
}

#galaxy {
  position: relative;
  width: 100%;
  height: 100%;
}

.planet {
  background-repeat: no-repeat;
  background-size: cover;
  animation-iteration-count: infinite;
  animation-name: orbit;
}

#moon1.orbit {
  opacity: 1;
  animation: orbit 2s ease;
  width: 200px;
  height: 140px;
  margin-top: -53px;
  margin-left: -54px;
}

#moon2.orbit {
  opacity: 1;
  animation: orbit 2s ease;
  width: 132px;
  height: 180px;
  margin-top: -66px;
  margin-left: -85px;
}

#moon3.orbit {
  opacity: 1;
  display: flex;
  align-items: flex-end;
  animation: orbit 2s ease;
  width: 220px;
  height: 166px;
  margin-top: -96px;
  margin-left: -50px;
}

#moon1 .planet {
  height: 12px;
  width: 12px;
  border-radius: 50%;
}

#moon2 .planet {
  height: 16px;
  width: 16px;
  border-radius: 50%;
  float: right;
}

#moon3 .planet {
  height: 20px;
  width: 20px;
  border-radius: 50%;
}

#jupyterlab-splash.light #moon1 .planet {
  background-color: #6f7070;
}

#jupyterlab-splash.light #moon2 .planet {
  background-color: #767677;
}

#jupyterlab-splash.light #moon3 .planet {
  background-color: #989798;
}

#jupyterlab-splash.dark #moon1 .planet,
#jupyterlab-splash.dark #moon2 .planet,
#jupyterlab-splash.dark #moon3 .planet {
  background-color: white;
}

.orbit {
  animation-iteration-count: 1;
  position: absolute;
  top: 50%;
  left: 50%;
  border-radius: 50%;
}

@keyframes orbit {
  0% {
    transform: rotateZ(0deg);
  }

  100% {
    transform: rotateZ(-720deg);
  }
}

@keyframes orbit2 {
  0% {
    transform: rotateZ(0deg);
  }

  100% {
    transform: rotateZ(720deg);
  }
}

@keyframes fade-in {
  0% {
    opacity: 0;
  }

  100% {
    opacity: 1;
  }
}

@keyframes fade-out {
  0% {
    opacity: 1;
  }

  100% {
    opacity: 0;
  }
}
</style><style>/*
 * Copyright (c) Jupyter Development Team.
 * Distributed under the terms of the Modified BSD License.
 */

:root {
  --jp-private-shortcuts-key-padding-horizontal: 0.47em;
  --jp-private-shortcuts-key-padding-vertical: 0.28em;
  --jp-private-shortcuts-label-padding-horizontal: 0.47em;
}

.jp-ContextualShortcut-TableRow {
  font-size: var(--jp-ui-font-size1);
  font-family: var(--jp-ui-font-family);
}

.jp-ContextualShortcut-TableItem {
  margin-left: auto;
  margin-right: auto;
  color: var(--jp-inverse-layout-color0);
  font-size: var(--jp-ui-font-size1);
  line-height: 2em;
  padding-right: var(--jp-private-shortcuts-label-padding-horizontal);
}

.jp-ContextualShortcut-TableLastRow {
  height: 2em;
}

.jp-ContextualShortcut-Key {
  font-family: var(--jp-code-font-family);
  border-width: var(--jp-border-width);
  border-radius: var(--jp-border-radius);
  border-style: solid;
  border-color: var(--jp-border-color1);
  color: var(--jp-ui-font-color1);
  background: var(--jp-layout-color1);
  padding-left: var(--jp-private-shortcuts-key-padding-horizontal);
  padding-right: var(--jp-private-shortcuts-key-padding-horizontal);
  padding-top: var(--jp-private-shortcuts-key-padding-vertical);
  padding-bottom: var(--jp-private-shortcuts-key-padding-vertical);
}
</style><style>/*-----------------------------------------------------------------------------
| Copyright (c) 2014-2017, Jupyter Development Team.
|
| Distributed under the terms of the Modified BSD License.
|----------------------------------------------------------------------------*/
</style><style>/*-----------------------------------------------------------------------------
| Copyright (c) Jupyter Development Team.
| Distributed under the terms of the Modified BSD License.
|----------------------------------------------------------------------------*/

/*-----------------------------------------------------------------------------
| RenderedText
|----------------------------------------------------------------------------*/

:root {
  /* This is the padding value to fill the gaps between lines containing spans with background color. */
  --jp-private-code-span-padding: calc(
    (var(--jp-code-line-height) - 1) * var(--jp-code-font-size) / 2
  );
}

.jp-RenderedText {
  text-align: left;
  padding-left: var(--jp-code-padding);
  line-height: var(--jp-code-line-height);
  font-family: var(--jp-code-font-family);
}

.jp-RenderedText pre,
.jp-RenderedJavaScript pre,
.jp-RenderedHTMLCommon pre {
  color: var(--jp-content-font-color1);
  font-size: var(--jp-code-font-size);
  border: none;
  margin: 0;
  padding: 0;
}

.jp-RenderedText pre a:link {
  text-decoration: none;
  color: var(--jp-content-link-color);
}

.jp-RenderedText pre a:hover {
  text-decoration: underline;
  color: var(--jp-content-link-color);
}

.jp-RenderedText pre a:visited {
  text-decoration: none;
  color: var(--jp-content-link-color);
}

/* console foregrounds and backgrounds */
.jp-RenderedText pre .ansi-black-fg {
  color: #3e424d;
}

.jp-RenderedText pre .ansi-red-fg {
  color: #e75c58;
}

.jp-RenderedText pre .ansi-green-fg {
  color: #00a250;
}

.jp-RenderedText pre .ansi-yellow-fg {
  color: #ddb62b;
}

.jp-RenderedText pre .ansi-blue-fg {
  color: #208ffb;
}

.jp-RenderedText pre .ansi-magenta-fg {
  color: #d160c4;
}

.jp-RenderedText pre .ansi-cyan-fg {
  color: #60c6c8;
}

.jp-RenderedText pre .ansi-white-fg {
  color: #c5c1b4;
}

.jp-RenderedText pre .ansi-black-bg {
  background-color: #3e424d;
  padding: var(--jp-private-code-span-padding) 0;
}

.jp-RenderedText pre .ansi-red-bg {
  background-color: #e75c58;
  padding: var(--jp-private-code-span-padding) 0;
}

.jp-RenderedText pre .ansi-green-bg {
  background-color: #00a250;
  padding: var(--jp-private-code-span-padding) 0;
}

.jp-RenderedText pre .ansi-yellow-bg {
  background-color: #ddb62b;
  padding: var(--jp-private-code-span-padding) 0;
}

.jp-RenderedText pre .ansi-blue-bg {
  background-color: #208ffb;
  padding: var(--jp-private-code-span-padding) 0;
}

.jp-RenderedText pre .ansi-magenta-bg {
  background-color: #d160c4;
  padding: var(--jp-private-code-span-padding) 0;
}

.jp-RenderedText pre .ansi-cyan-bg {
  background-color: #60c6c8;
  padding: var(--jp-private-code-span-padding) 0;
}

.jp-RenderedText pre .ansi-white-bg {
  background-color: #c5c1b4;
  padding: var(--jp-private-code-span-padding) 0;
}

.jp-RenderedText pre .ansi-black-intense-fg {
  color: #282c36;
}

.jp-RenderedText pre .ansi-red-intense-fg {
  color: #b22b31;
}

.jp-RenderedText pre .ansi-green-intense-fg {
  color: #007427;
}

.jp-RenderedText pre .ansi-yellow-intense-fg {
  color: #b27d12;
}

.jp-RenderedText pre .ansi-blue-intense-fg {
  color: #0065ca;
}

.jp-RenderedText pre .ansi-magenta-intense-fg {
  color: #a03196;
}

.jp-RenderedText pre .ansi-cyan-intense-fg {
  color: #258f8f;
}

.jp-RenderedText pre .ansi-white-intense-fg {
  color: #a1a6b2;
}

.jp-RenderedText pre .ansi-black-intense-bg {
  background-color: #282c36;
  padding: var(--jp-private-code-span-padding) 0;
}

.jp-RenderedText pre .ansi-red-intense-bg {
  background-color: #b22b31;
  padding: var(--jp-private-code-span-padding) 0;
}

.jp-RenderedText pre .ansi-green-intense-bg {
  background-color: #007427;
  padding: var(--jp-private-code-span-padding) 0;
}

.jp-RenderedText pre .ansi-yellow-intense-bg {
  background-color: #b27d12;
  padding: var(--jp-private-code-span-padding) 0;
}

.jp-RenderedText pre .ansi-blue-intense-bg {
  background-color: #0065ca;
  padding: var(--jp-private-code-span-padding) 0;
}

.jp-RenderedText pre .ansi-magenta-intense-bg {
  background-color: #a03196;
  padding: var(--jp-private-code-span-padding) 0;
}

.jp-RenderedText pre .ansi-cyan-intense-bg {
  background-color: #258f8f;
  padding: var(--jp-private-code-span-padding) 0;
}

.jp-RenderedText pre .ansi-white-intense-bg {
  background-color: #a1a6b2;
  padding: var(--jp-private-code-span-padding) 0;
}

.jp-RenderedText pre .ansi-default-inverse-fg {
  color: var(--jp-ui-inverse-font-color0);
}

.jp-RenderedText pre .ansi-default-inverse-bg {
  background-color: var(--jp-inverse-layout-color0);
  padding: var(--jp-private-code-span-padding) 0;
}

.jp-RenderedText pre .ansi-bold {
  font-weight: bold;
}

.jp-RenderedText pre .ansi-underline {
  text-decoration: underline;
}

.jp-RenderedText[data-mime-type='application/vnd.jupyter.stderr'] {
  background: var(--jp-rendermime-error-background);
  padding-top: var(--jp-code-padding);
}

/*-----------------------------------------------------------------------------
| RenderedLatex
|----------------------------------------------------------------------------*/

.jp-RenderedLatex {
  color: var(--jp-content-font-color1);
  font-size: var(--jp-content-font-size1);
  line-height: var(--jp-content-line-height);
}

/* Left-justify outputs.*/
.jp-OutputArea-output.jp-RenderedLatex {
  padding: var(--jp-code-padding);
  text-align: left;
}

/*-----------------------------------------------------------------------------
| RenderedHTML
|----------------------------------------------------------------------------*/

.jp-RenderedHTMLCommon {
  color: var(--jp-content-font-color1);
  font-family: var(--jp-content-font-family);
  font-size: var(--jp-content-font-size1);
  line-height: var(--jp-content-line-height);

  /* Give a bit more R padding on Markdown text to keep line lengths reasonable */
  padding-right: 20px;
}

.jp-RenderedHTMLCommon em {
  font-style: italic;
}

.jp-RenderedHTMLCommon strong {
  font-weight: bold;
}

.jp-RenderedHTMLCommon u {
  text-decoration: underline;
}

.jp-RenderedHTMLCommon a:link {
  text-decoration: none;
  color: var(--jp-content-link-color);
}

.jp-RenderedHTMLCommon a:hover {
  text-decoration: underline;
  color: var(--jp-content-link-color);
}

.jp-RenderedHTMLCommon a:visited {
  text-decoration: none;
  color: var(--jp-content-link-color);
}

/* Headings */

.jp-RenderedHTMLCommon h1,
.jp-RenderedHTMLCommon h2,
.jp-RenderedHTMLCommon h3,
.jp-RenderedHTMLCommon h4,
.jp-RenderedHTMLCommon h5,
.jp-RenderedHTMLCommon h6 {
  line-height: var(--jp-content-heading-line-height);
  font-weight: var(--jp-content-heading-font-weight);
  font-style: normal;
  margin: var(--jp-content-heading-margin-top) 0
    var(--jp-content-heading-margin-bottom) 0;
}

.jp-RenderedHTMLCommon h1:first-child,
.jp-RenderedHTMLCommon h2:first-child,
.jp-RenderedHTMLCommon h3:first-child,
.jp-RenderedHTMLCommon h4:first-child,
.jp-RenderedHTMLCommon h5:first-child,
.jp-RenderedHTMLCommon h6:first-child {
  margin-top: calc(0.5 * var(--jp-content-heading-margin-top));
}

.jp-RenderedHTMLCommon h1:last-child,
.jp-RenderedHTMLCommon h2:last-child,
.jp-RenderedHTMLCommon h3:last-child,
.jp-RenderedHTMLCommon h4:last-child,
.jp-RenderedHTMLCommon h5:last-child,
.jp-RenderedHTMLCommon h6:last-child {
  margin-bottom: calc(0.5 * var(--jp-content-heading-margin-bottom));
}

.jp-RenderedHTMLCommon h1 {
  font-size: var(--jp-content-font-size5);
}

.jp-RenderedHTMLCommon h2 {
  font-size: var(--jp-content-font-size4);
}

.jp-RenderedHTMLCommon h3 {
  font-size: var(--jp-content-font-size3);
}

.jp-RenderedHTMLCommon h4 {
  font-size: var(--jp-content-font-size2);
}

.jp-RenderedHTMLCommon h5 {
  font-size: var(--jp-content-font-size1);
}

.jp-RenderedHTMLCommon h6 {
  font-size: var(--jp-content-font-size0);
}

/* Lists */

/* stylelint-disable selector-max-type, selector-max-compound-selectors */

.jp-RenderedHTMLCommon ul:not(.list-inline),
.jp-RenderedHTMLCommon ol:not(.list-inline) {
  padding-left: 2em;
}

.jp-RenderedHTMLCommon ul {
  list-style: disc;
}

.jp-RenderedHTMLCommon ul ul {
  list-style: square;
}

.jp-RenderedHTMLCommon ul ul ul {
  list-style: circle;
}

.jp-RenderedHTMLCommon ol {
  list-style: decimal;
}

.jp-RenderedHTMLCommon ol ol {
  list-style: upper-alpha;
}

.jp-RenderedHTMLCommon ol ol ol {
  list-style: lower-alpha;
}

.jp-RenderedHTMLCommon ol ol ol ol {
  list-style: lower-roman;
}

.jp-RenderedHTMLCommon ol ol ol ol ol {
  list-style: decimal;
}

.jp-RenderedHTMLCommon ol,
.jp-RenderedHTMLCommon ul {
  margin-bottom: 1em;
}

.jp-RenderedHTMLCommon ul ul,
.jp-RenderedHTMLCommon ul ol,
.jp-RenderedHTMLCommon ol ul,
.jp-RenderedHTMLCommon ol ol {
  margin-bottom: 0;
}

/* stylelint-enable selector-max-type, selector-max-compound-selectors */

.jp-RenderedHTMLCommon hr {
  color: var(--jp-border-color2);
  background-color: var(--jp-border-color1);
  margin-top: 1em;
  margin-bottom: 1em;
}

.jp-RenderedHTMLCommon > pre {
  margin: 1.5em 2em;
}

.jp-RenderedHTMLCommon pre,
.jp-RenderedHTMLCommon code {
  border: 0;
  background-color: var(--jp-layout-color0);
  color: var(--jp-content-font-color1);
  font-family: var(--jp-code-font-family);
  font-size: inherit;
  line-height: var(--jp-code-line-height);
  padding: 0;
  white-space: pre-wrap;
}

.jp-RenderedHTMLCommon :not(pre) > code {
  background-color: var(--jp-layout-color2);
  padding: 1px 5px;
}

/* Tables */

.jp-RenderedHTMLCommon table {
  border-collapse: collapse;
  border-spacing: 0;
  border: none;
  color: var(--jp-ui-font-color1);
  font-size: var(--jp-ui-font-size1);
  table-layout: fixed;
  margin-left: auto;
  margin-bottom: 1em;
  margin-right: auto;
}

.jp-RenderedHTMLCommon thead {
  border-bottom: var(--jp-border-width) solid var(--jp-border-color1);
  vertical-align: bottom;
}

.jp-RenderedHTMLCommon td,
.jp-RenderedHTMLCommon th,
.jp-RenderedHTMLCommon tr {
  vertical-align: middle;
  padding: 0.5em;
  line-height: normal;
  white-space: normal;
  max-width: none;
  border: none;
}

.jp-RenderedMarkdown.jp-RenderedHTMLCommon td,
.jp-RenderedMarkdown.jp-RenderedHTMLCommon th {
  max-width: none;
}

:not(.jp-RenderedMarkdown).jp-RenderedHTMLCommon td,
:not(.jp-RenderedMarkdown).jp-RenderedHTMLCommon th,
:not(.jp-RenderedMarkdown).jp-RenderedHTMLCommon tr {
  text-align: right;
}

.jp-RenderedHTMLCommon th {
  font-weight: bold;
}

.jp-RenderedHTMLCommon tbody tr:nth-child(odd) {
  background: var(--jp-layout-color0);
}

.jp-RenderedHTMLCommon tbody tr:nth-child(even) {
  background: var(--jp-rendermime-table-row-background);
}

.jp-RenderedHTMLCommon tbody tr:hover {
  background: var(--jp-rendermime-table-row-hover-background);
}

.jp-RenderedHTMLCommon p {
  text-align: left;
  margin: 0;
  margin-bottom: 1em;
}

.jp-RenderedHTMLCommon img {
  -moz-force-broken-image-icon: 1;
}

/* Restrict to direct children as other images could be nested in other content. */
.jp-RenderedHTMLCommon > img {
  display: block;
  margin-left: 0;
  margin-right: 0;
  margin-bottom: 1em;
}

/* Change color behind transparent images if they need it... */
[data-jp-theme-light='false'] .jp-RenderedImage img.jp-needs-light-background {
  background-color: var(--jp-inverse-layout-color1);
}

[data-jp-theme-light='true'] .jp-RenderedImage img.jp-needs-dark-background {
  background-color: var(--jp-inverse-layout-color1);
}

.jp-RenderedHTMLCommon img,
.jp-RenderedImage img,
.jp-RenderedHTMLCommon svg,
.jp-RenderedSVG svg {
  max-width: 100%;
  height: auto;
}

.jp-RenderedHTMLCommon img.jp-mod-unconfined,
.jp-RenderedImage img.jp-mod-unconfined,
.jp-RenderedHTMLCommon svg.jp-mod-unconfined,
.jp-RenderedSVG svg.jp-mod-unconfined {
  max-width: none;
}

.jp-RenderedHTMLCommon .alert {
  padding: var(--jp-notebook-padding);
  border: var(--jp-border-width) solid transparent;
  border-radius: var(--jp-border-radius);
  margin-bottom: 1em;
}

.jp-RenderedHTMLCommon .alert-info {
  color: var(--jp-info-color0);
  background-color: var(--jp-info-color3);
  border-color: var(--jp-info-color2);
}

.jp-RenderedHTMLCommon .alert-info hr {
  border-color: var(--jp-info-color3);
}

.jp-RenderedHTMLCommon .alert-info > p:last-child,
.jp-RenderedHTMLCommon .alert-info > ul:last-child {
  margin-bottom: 0;
}

.jp-RenderedHTMLCommon .alert-warning {
  color: var(--jp-warn-color0);
  background-color: var(--jp-warn-color3);
  border-color: var(--jp-warn-color2);
}

.jp-RenderedHTMLCommon .alert-warning hr {
  border-color: var(--jp-warn-color3);
}

.jp-RenderedHTMLCommon .alert-warning > p:last-child,
.jp-RenderedHTMLCommon .alert-warning > ul:last-child {
  margin-bottom: 0;
}

.jp-RenderedHTMLCommon .alert-success {
  color: var(--jp-success-color0);
  background-color: var(--jp-success-color3);
  border-color: var(--jp-success-color2);
}

.jp-RenderedHTMLCommon .alert-success hr {
  border-color: var(--jp-success-color3);
}

.jp-RenderedHTMLCommon .alert-success > p:last-child,
.jp-RenderedHTMLCommon .alert-success > ul:last-child {
  margin-bottom: 0;
}

.jp-RenderedHTMLCommon .alert-danger {
  color: var(--jp-error-color0);
  background-color: var(--jp-error-color3);
  border-color: var(--jp-error-color2);
}

.jp-RenderedHTMLCommon .alert-danger hr {
  border-color: var(--jp-error-color3);
}

.jp-RenderedHTMLCommon .alert-danger > p:last-child,
.jp-RenderedHTMLCommon .alert-danger > ul:last-child {
  margin-bottom: 0;
}

.jp-RenderedHTMLCommon blockquote {
  margin: 1em 2em;
  padding: 0 1em;
  border-left: 5px solid var(--jp-border-color2);
}

a.jp-InternalAnchorLink {
  visibility: hidden;
  margin-left: 8px;
  color: var(--md-blue-800);
}

h1:hover .jp-InternalAnchorLink,
h2:hover .jp-InternalAnchorLink,
h3:hover .jp-InternalAnchorLink,
h4:hover .jp-InternalAnchorLink,
h5:hover .jp-InternalAnchorLink,
h6:hover .jp-InternalAnchorLink {
  visibility: visible;
}

.jp-RenderedHTMLCommon kbd {
  background-color: var(--jp-rendermime-table-row-background);
  border: 1px solid var(--jp-border-color0);
  border-bottom-color: var(--jp-border-color2);
  border-radius: 3px;
  box-shadow: inset 0 -1px 0 rgba(0, 0, 0, 0.25);
  display: inline-block;
  font-size: var(--jp-ui-font-size0);
  line-height: 1em;
  padding: 0.2em 0.5em;
}

/* Most direct children of .jp-RenderedHTMLCommon have a margin-bottom of 1.0.
 * At the bottom of cells this is a bit too much as there is also spacing
 * between cells. Going all the way to 0 gets too tight between markdown and
 * code cells.
 */
.jp-RenderedHTMLCommon > *:last-child {
  margin-bottom: 0.5em;
}
</style><style>/*
 * Copyright (c) Jupyter Development Team.
 * Distributed under the terms of the Modified BSD License.
 */

.jp-lineFormSearch {
  padding: 4px 12px;
  background-color: var(--jp-layout-color2);
  box-shadow: var(--jp-toolbar-box-shadow);
  z-index: 2;
  font-size: var(--jp-ui-font-size1);
}

.jp-lineFormCaption {
  font-size: var(--jp-ui-font-size0);
  line-height: var(--jp-ui-font-size1);
  margin-top: 4px;
  color: var(--jp-ui-font-color0);
}

.jp-baseLineForm {
  border: none;
  border-radius: 0;
  position: absolute;
  background-size: 16px;
  background-repeat: no-repeat;
  background-position: center;
  outline: none;
}

.jp-lineFormButtonContainer {
  top: 4px;
  right: 8px;
  height: 24px;
  padding: 0 12px;
  width: 12px;
}

.jp-lineFormButtonIcon {
  top: 0;
  right: 0;
  background-color: var(--jp-brand-color1);
  height: 100%;
  width: 100%;
  box-sizing: border-box;
  padding: 4px 6px;
}

.jp-lineFormButton {
  top: 0;
  right: 0;
  background-color: transparent;
  height: 100%;
  width: 100%;
  box-sizing: border-box;
}

.jp-lineFormWrapper {
  overflow: hidden;
  padding: 0 8px;
  border: 1px solid var(--jp-border-color0);
  background-color: var(--jp-input-active-background);
  height: 22px;
}

.jp-lineFormWrapperFocusWithin {
  border: var(--jp-border-width) solid var(--md-blue-500);
  box-shadow: inset 0 0 4px var(--md-blue-300);
}

.jp-lineFormInput {
  background: transparent;
  width: 200px;
  height: 100%;
  border: none;
  outline: none;
  color: var(--jp-ui-font-color0);
  line-height: 28px;
}
</style><style>/*-----------------------------------------------------------------------------
| Copyright (c) 2014-2016, Jupyter Development Team.
|
| Distributed under the terms of the Modified BSD License.
|----------------------------------------------------------------------------*/

.jp-JSONEditor {
  display: flex;
  flex-direction: column;
  width: 100%;
}

.jp-JSONEditor-host {
  flex: 1 1 auto;
  border: var(--jp-border-width) solid var(--jp-input-border-color);
  border-radius: 0;
  background: var(--jp-layout-color0);
  min-height: 50px;
  padding: 1px;
}

.jp-JSONEditor.jp-mod-error .jp-JSONEditor-host {
  border-color: red;
  outline-color: red;
}

.jp-JSONEditor-header {
  display: flex;
  flex: 1 0 auto;
  padding: 0 0 0 12px;
}

.jp-JSONEditor-header label {
  flex: 0 0 auto;
}

.jp-JSONEditor-commitButton {
  height: 16px;
  width: 16px;
  background-size: 18px;
  background-repeat: no-repeat;
  background-position: center;
}

.jp-JSONEditor-host.jp-mod-focused {
  background-color: var(--jp-input-active-background);
  border: 1px solid var(--jp-input-active-border-color);
  box-shadow: var(--jp-input-box-shadow);
}

.jp-Editor.jp-mod-dropTarget {
  border: var(--jp-border-width) solid var(--jp-input-active-border-color);
  box-shadow: var(--jp-input-box-shadow);
}
</style><style>/*-----------------------------------------------------------------------------
| Copyright (c) Jupyter Development Team.
| Distributed under the terms of the Modified BSD License.
|----------------------------------------------------------------------------*/
.jp-DocumentSearch-input {
  border: none;
  outline: none;
  color: var(--jp-ui-font-color0);
  font-size: var(--jp-ui-font-size1);
  background-color: var(--jp-layout-color0);
  font-family: var(--jp-ui-font-family);
  padding: 2px 1px;
  resize: none;
  white-space: pre;
}

.jp-DocumentSearch-overlay {
  position: absolute;
  background-color: var(--jp-toolbar-background);
  border-bottom: var(--jp-border-width) solid var(--jp-toolbar-border-color);
  border-left: var(--jp-border-width) solid var(--jp-toolbar-border-color);
  top: 0;
  right: 0;
  z-index: 7;
  min-width: 405px;
  padding: 2px;
  font-size: var(--jp-ui-font-size1);

  --jp-private-document-search-button-height: 20px;
}

.jp-DocumentSearch-overlay button {
  background-color: var(--jp-toolbar-background);
  outline: 0;
}

.jp-DocumentSearch-overlay button:hover {
  background-color: var(--jp-layout-color2);
}

.jp-DocumentSearch-overlay button:active {
  background-color: var(--jp-layout-color3);
}

.jp-DocumentSearch-overlay-row {
  display: flex;
  align-items: center;
  margin-bottom: 2px;
}

.jp-DocumentSearch-button-content {
  display: inline-block;
  cursor: pointer;
  box-sizing: border-box;
  width: 100%;
  height: 100%;
}

.jp-DocumentSearch-button-content svg {
  width: 100%;
  height: 100%;
}

.jp-DocumentSearch-input-wrapper {
  border: var(--jp-border-width) solid var(--jp-border-color0);
  display: flex;
  background-color: var(--jp-layout-color0);
  margin: 2px;
}

.jp-DocumentSearch-input-wrapper:focus-within {
  border-color: var(--jp-cell-editor-active-border-color);
}

.jp-DocumentSearch-toggle-wrapper,
.jp-DocumentSearch-button-wrapper {
  all: initial;
  overflow: hidden;
  display: inline-block;
  border: none;
  box-sizing: border-box;
}

.jp-DocumentSearch-toggle-wrapper {
  flex-shrink: 0;
  width: 14px;
  height: 14px;
}

.jp-DocumentSearch-button-wrapper {
  flex-shrink: 0;
  width: var(--jp-private-document-search-button-height);
  height: var(--jp-private-document-search-button-height);
}

.jp-DocumentSearch-toggle-wrapper:focus,
.jp-DocumentSearch-button-wrapper:focus {
  outline: var(--jp-border-width) solid
    var(--jp-cell-editor-active-border-color);
  outline-offset: -1px;
}

.jp-DocumentSearch-toggle-wrapper,
.jp-DocumentSearch-button-wrapper,
.jp-DocumentSearch-button-content:focus {
  outline: none;
}

.jp-DocumentSearch-toggle-placeholder {
  width: 5px;
}

.jp-DocumentSearch-input-button::before {
  display: block;
  padding-top: 100%;
}

.jp-DocumentSearch-input-button-off {
  opacity: var(--jp-search-toggle-off-opacity);
}

.jp-DocumentSearch-input-button-off:hover {
  opacity: var(--jp-search-toggle-hover-opacity);
}

.jp-DocumentSearch-input-button-on {
  opacity: var(--jp-search-toggle-on-opacity);
}

.jp-DocumentSearch-index-counter {
  padding-left: 10px;
  padding-right: 10px;
  user-select: none;
  min-width: 35px;
  display: inline-block;
}

.jp-DocumentSearch-up-down-wrapper {
  display: inline-block;
  padding-right: 2px;
  margin-left: auto;
  white-space: nowrap;
}

.jp-DocumentSearch-spacer {
  margin-left: auto;
}

.jp-DocumentSearch-up-down-wrapper button {
  outline: 0;
  border: none;
  width: var(--jp-private-document-search-button-height);
  height: var(--jp-private-document-search-button-height);
  vertical-align: middle;
  margin: 1px 5px 2px;
}

.jp-DocumentSearch-up-down-button:hover {
  background-color: var(--jp-layout-color2);
}

.jp-DocumentSearch-up-down-button:active {
  background-color: var(--jp-layout-color3);
}

.jp-DocumentSearch-filter-button {
  border-radius: var(--jp-border-radius);
}

.jp-DocumentSearch-filter-button:hover {
  background-color: var(--jp-layout-color2);
}

.jp-DocumentSearch-filter-button-enabled {
  background-color: var(--jp-layout-color2);
}

.jp-DocumentSearch-filter-button-enabled:hover {
  background-color: var(--jp-layout-color3);
}

.jp-DocumentSearch-search-options {
  padding: 0 8px;
  margin-left: 3px;
  width: 100%;
  display: grid;
  justify-content: start;
  grid-template-columns: 1fr 1fr;
  align-items: center;
  justify-items: stretch;
}

.jp-DocumentSearch-search-filter-disabled {
  color: var(--jp-ui-font-color2);
}

.jp-DocumentSearch-search-filter {
  display: flex;
  align-items: center;
  user-select: none;
}

.jp-DocumentSearch-regex-error {
  color: var(--jp-error-color0);
}

.jp-DocumentSearch-replace-button-wrapper {
  overflow: hidden;
  display: inline-block;
  box-sizing: border-box;
  border: var(--jp-border-width) solid var(--jp-border-color0);
  margin: auto 2px;
  padding: 1px 4px;
  height: calc(var(--jp-private-document-search-button-height) + 2px);
  flex-shrink: 0;
}

.jp-DocumentSearch-replace-button-wrapper:focus {
  border: var(--jp-border-width) solid var(--jp-cell-editor-active-border-color);
}

.jp-DocumentSearch-replace-button {
  display: inline-block;
  text-align: center;
  cursor: pointer;
  box-sizing: border-box;
  color: var(--jp-ui-font-color1);

  /* height - 2 * (padding of wrapper) */
  line-height: calc(var(--jp-private-document-search-button-height) - 2px);
  width: 100%;
  height: 100%;
}

.jp-DocumentSearch-replace-button:focus {
  outline: none;
}

.jp-DocumentSearch-replace-wrapper-class {
  margin-left: 14px;
  display: flex;
}

.jp-DocumentSearch-replace-toggle {
  border: none;
  background-color: var(--jp-toolbar-background);
  border-radius: var(--jp-border-radius);
}

.jp-DocumentSearch-replace-toggle:hover {
  background-color: var(--jp-layout-color2);
}

/*
  The following few rules allow the search box to expand horizontally,
  as the text within it grows. This is done by using putting
  the text within a wrapper element and using that wrapper for sizing,
  as <textarea> and <input> tags do not grow automatically.
  This is the underlying technique:
  https://til.simonwillison.net/css/resizing-textarea
*/
.jp-DocumentSearch-input-label::after {
  content: attr(data-value) ' ';
  visibility: hidden;
  white-space: pre;
}

.jp-DocumentSearch-input-label {
  display: inline-grid;
  align-items: stretch;
}

.jp-DocumentSearch-input-label::after,
.jp-DocumentSearch-input-label > .jp-DocumentSearch-input {
  width: auto;
  min-width: 1em;
  grid-area: 1/2;
  font: inherit;
  padding: 2px 3px;
  margin: 0;
  resize: none;
  background: none;
  appearance: none;
  border: none;
  overflow: hidden;
}
</style><style>/*-----------------------------------------------------------------------------
| Copyright (c) Jupyter Development Team.
| Distributed under the terms of the Modified BSD License.
|----------------------------------------------------------------------------*/

.cm-editor {
  line-height: var(--jp-code-line-height);
  font-size: var(--jp-code-font-size);
  font-family: var(--jp-code-font-family);
  border: 0;
  border-radius: 0;
  height: auto;

  /* Changed to auto to autogrow */
}

.cm-editor pre {
  padding: 0 var(--jp-code-padding);
}

.jp-CodeMirrorEditor[data-type='inline'] .cm-dialog {
  background-color: var(--jp-layout-color0);
  color: var(--jp-content-font-color1);
}

.jp-CodeMirrorEditor {
  cursor: text;
}

/* When zoomed out 67% and 33% on a screen of 1440 width x 900 height */
@media screen and (width >= 2138px) and (width <= 4319px) {
  .jp-CodeMirrorEditor[data-type='inline'] .cm-cursor {
    border-left: var(--jp-code-cursor-width1) solid
      var(--jp-editor-cursor-color);
  }
}

/* When zoomed out less than 33% */
@media screen and (width >= 4320px) {
  .jp-CodeMirrorEditor[data-type='inline'] .cm-cursor {
    border-left: var(--jp-code-cursor-width2) solid
      var(--jp-editor-cursor-color);
  }
}

.cm-editor.jp-mod-readOnly .cm-cursor {
  display: none;
}

.jp-CollaboratorCursor {
  border-left: 5px solid transparent;
  border-right: 5px solid transparent;
  border-top: none;
  border-bottom: 3px solid;
  background-clip: content-box;
  margin-left: -5px;
  margin-right: -5px;
}

.cm-searching,
.cm-searching span {
  /* `.cm-searching span`: we need to override syntax highlighting */
  background-color: var(--jp-search-unselected-match-background-color);
  color: var(--jp-search-unselected-match-color);
}

.cm-searching::selection,
.cm-searching span::selection {
  background-color: var(--jp-search-unselected-match-background-color);
  color: var(--jp-search-unselected-match-color);
}

.jp-current-match > .cm-searching,
.jp-current-match > .cm-searching span,
.cm-searching > .jp-current-match,
.cm-searching > .jp-current-match span {
  background-color: var(--jp-search-selected-match-background-color);
  color: var(--jp-search-selected-match-color);
}

.jp-current-match > .cm-searching::selection,
.cm-searching > .jp-current-match::selection,
.jp-current-match > .cm-searching span::selection {
  background-color: var(--jp-search-selected-match-background-color);
  color: var(--jp-search-selected-match-color);
}

.cm-trailingspace {
  background-image: url(data:image/png;base64,iVBORw0KGgoAAAANSUhEUgAAAAgAAAAFCAYAAAB4ka1VAAAAsElEQVQIHQGlAFr/AAAAAAAAAAAAAAAAAAAAAAAAAAAAAAAAAAAAAAAAAAAAAAAAAAAAAAAA7+r3zKmT0/+pk9P/7+r3zAAAAAAAAAAABAAAAAAAAAAA6OPzM+/q9wAAAAAA6OPzMwAAAAAAAAAAAgAAAAAAAAAAGR8NiRQaCgAZIA0AGR8NiQAAAAAAAAAAAAAAAAAAAAAAAAAAAAAAAAAAAAAAAAAAAAAAAAAAAAAAQyoYJ/SY80UAAAAASUVORK5CYII=);
  background-position: center left;
  background-repeat: repeat-x;
}

.jp-CollaboratorCursor-hover {
  position: absolute;
  z-index: 1;
  transform: translateX(-50%);
  color: white;
  border-radius: 3px;
  padding-left: 4px;
  padding-right: 4px;
  padding-top: 1px;
  padding-bottom: 1px;
  text-align: center;
  font-size: var(--jp-ui-font-size1);
  white-space: nowrap;
}

.jp-CodeMirror-ruler {
  border-left: 1px dashed var(--jp-border-color2);
}

/* Styles for shared cursors (remote cursor locations and selected ranges) */
.jp-CodeMirrorEditor .cm-ySelectionCaret {
  position: relative;
  border-left: 1px solid black;
  margin-left: -1px;
  margin-right: -1px;
  box-sizing: border-box;
}

.jp-CodeMirrorEditor .cm-ySelectionCaret > .cm-ySelectionInfo {
  white-space: nowrap;
  position: absolute;
  top: -1.15em;
  padding-bottom: 0.05em;
  left: -1px;
  font-size: 0.95em;
  font-family: var(--jp-ui-font-family);
  font-weight: bold;
  line-height: normal;
  user-select: none;
  color: white;
  padding-left: 2px;
  padding-right: 2px;
  z-index: 101;
  transition: opacity 0.3s ease-in-out;
}

.jp-CodeMirrorEditor .cm-ySelectionInfo {
  transition-delay: 0.7s;
  opacity: 0;
}

.jp-CodeMirrorEditor .cm-ySelectionCaret:hover > .cm-ySelectionInfo {
  opacity: 1;
  transition-delay: 0s;
}
</style><style>/*-----------------------------------------------------------------------------
| Copyright (c) Jupyter Development Team.
| Distributed under the terms of the Modified BSD License.
|----------------------------------------------------------------------------*/

/*-----------------------------------------------------------------------------
| Main OutputArea
| OutputArea has a list of Outputs
|----------------------------------------------------------------------------*/

.jp-OutputArea {
  overflow-y: auto;
}

.jp-OutputArea-child {
  display: flex;
  flex-direction: row;
  width: 100%;
  overflow: hidden;
}

.jp-OutputPrompt {
  width: var(--jp-cell-prompt-width);
  flex: 0 0 var(--jp-cell-prompt-width);
  color: var(--jp-cell-outprompt-font-color);
  font-family: var(--jp-cell-prompt-font-family);
  padding: var(--jp-code-padding);
  letter-spacing: var(--jp-cell-prompt-letter-spacing);
  line-height: var(--jp-code-line-height);
  font-size: var(--jp-code-font-size);
  border: var(--jp-border-width) solid transparent;
  opacity: var(--jp-cell-prompt-opacity);

  /* Right align prompt text, don't wrap to handle large prompt numbers */
  text-align: right;
  white-space: nowrap;
  overflow: hidden;
  text-overflow: ellipsis;

  /* Disable text selection */
  -webkit-user-select: none;
  -moz-user-select: none;
  -ms-user-select: none;
  user-select: none;
}

.jp-OutputArea-output {
  width: 100%;
  height: auto;
  overflow: auto;
  user-select: text;
  -moz-user-select: text;
  -webkit-user-select: text;
  -ms-user-select: text;
}

.jp-OutputArea .jp-RenderedText {
  padding-left: 1ch;
}

/**
 * Prompt overlay.
 */

.jp-OutputArea-promptOverlay {
  position: absolute;
  top: 0;
  width: var(--jp-cell-prompt-width);
  height: 100%;
  opacity: 0.5;
}

.jp-OutputArea-promptOverlay:hover {
  background: var(--jp-layout-color2);
  box-shadow: inset 0 0 1px var(--jp-inverse-layout-color0);
  cursor: zoom-out;
}

.jp-mod-outputsScrolled .jp-OutputArea-promptOverlay:hover {
  cursor: zoom-in;
}

.jp-OutputArea-child .jp-OutputArea-output {
  flex-grow: 1;
  flex-shrink: 1;
}

/**
 * Isolated output.
 */
.jp-OutputArea-output.jp-mod-isolated {
  width: 100%;
  display: block;
}

/*
When drag events occur, `lm-mod-override-cursor` is added to the body.
Because iframes steal all cursor events, the following two rules are necessary
to suppress pointer events while resize drags are occurring. There may be a
better solution to this problem.
*/
body.lm-mod-override-cursor .jp-OutputArea-output.jp-mod-isolated {
  position: relative;
}

body.lm-mod-override-cursor .jp-OutputArea-output.jp-mod-isolated::before {
  content: '';
  position: absolute;
  top: 0;
  left: 0;
  right: 0;
  bottom: 0;
  background: transparent;
}

/* pre */

.jp-OutputArea-output pre {
  border: none;
  margin: 0;
  padding: 0;
  overflow-x: auto;
  overflow-y: auto;
  word-break: break-all;
  word-wrap: break-word;
  white-space: pre-wrap;
}

/* tables */

.jp-OutputArea-output.jp-RenderedHTMLCommon table {
  margin-left: 0;
  margin-right: 0;
}

/* description lists */

.jp-OutputArea-output dl,
.jp-OutputArea-output dt,
.jp-OutputArea-output dd {
  display: block;
}

.jp-OutputArea-output dl {
  width: 100%;
  overflow: hidden;
  padding: 0;
  margin: 0;
}

.jp-OutputArea-output dt {
  font-weight: bold;
  float: left;
  width: 20%;
  padding: 0;
  margin: 0;
}

.jp-OutputArea-output dd {
  float: left;
  width: 80%;
  padding: 0;
  margin: 0;
}

.jp-TrimmedOutputs pre {
  background: var(--jp-layout-color3);
  font-size: calc(var(--jp-code-font-size) * 1.4);
  text-align: center;
  text-transform: uppercase;
}

/* Hide the gutter in case of
 *  - nested output areas (e.g. in the case of output widgets)
 *  - mirrored output areas
 */
.jp-OutputArea .jp-OutputArea .jp-OutputArea-prompt {
  display: none;
}

/* Hide empty lines in the output area, for instance due to cleared widgets */
.jp-OutputArea-prompt:empty {
  padding: 0;
  border: 0;
}

/*-----------------------------------------------------------------------------
| executeResult is added to any Output-result for the display of the object
| returned by a cell
|----------------------------------------------------------------------------*/

.jp-OutputArea-output.jp-OutputArea-executeResult {
  margin-left: 0;
  width: 100%;
  flex: 1 1 auto;
}

/* Text output with the Out[] prompt needs a top padding to match the
 * alignment of the Out[] prompt itself.
 */
.jp-OutputArea-executeResult .jp-RenderedText.jp-OutputArea-output {
  padding-top: var(--jp-code-padding);
  border-top: var(--jp-border-width) solid transparent;
}

/*-----------------------------------------------------------------------------
| The Stdin output
|----------------------------------------------------------------------------*/

.jp-Stdin-prompt {
  color: var(--jp-content-font-color0);
  padding-right: var(--jp-code-padding);
  vertical-align: baseline;
  flex: 0 0 auto;
}

.jp-Stdin-input {
  font-family: var(--jp-code-font-family);
  font-size: inherit;
  color: inherit;
  background-color: inherit;
  width: 42%;
  min-width: 200px;

  /* make sure input baseline aligns with prompt */
  vertical-align: baseline;

  /* padding + margin = 0.5em between prompt and cursor */
  padding: 0 0.25em;
  margin: 0 0.25em;
  flex: 0 0 70%;
}

.jp-Stdin-input::placeholder {
  opacity: 0;
}

.jp-Stdin-input:focus {
  box-shadow: none;
}

.jp-Stdin-input:focus::placeholder {
  opacity: 1;
}

.jp-OutputArea-stdin-hiding {
  /* soft-hide the output, preserving focus */
  opacity: 0;
  height: 0;
}

/*-----------------------------------------------------------------------------
| Output Area View
|----------------------------------------------------------------------------*/

.jp-LinkedOutputView .jp-OutputArea {
  height: 100%;
  display: block;
}

.jp-LinkedOutputView .jp-OutputArea-output:only-child {
  height: 100%;
}

/*-----------------------------------------------------------------------------
| Printing
|----------------------------------------------------------------------------*/

@media print {
  .jp-OutputArea-child {
    display: table;
    table-layout: fixed;
    break-inside: avoid-page;
  }

  .jp-OutputArea-prompt {
    display: table-cell;
    vertical-align: top;
  }

  .jp-OutputArea-output {
    display: table-cell;
  }
}

/*-----------------------------------------------------------------------------
| Mobile
|----------------------------------------------------------------------------*/
@media only screen and (width <= 760px) {
  .jp-OutputArea-child {
    flex-direction: column;
  }

  .jp-OutputPrompt {
    flex: 0 0 auto;
    text-align: left;
  }

  .jp-OutputArea-promptOverlay {
    display: none;
  }
}

/* Trimmed outputs warning */
.jp-TrimmedOutputs > a {
  margin: 10px;
  text-decoration: none;
  cursor: pointer;
}

.jp-TrimmedOutputs > a:hover {
  text-decoration: none;
}
</style><style>/*-----------------------------------------------------------------------------
| Copyright (c) Jupyter Development Team.
| Distributed under the terms of the Modified BSD License.
|----------------------------------------------------------------------------*/

/*-----------------------------------------------------------------------------
| Table of Contents
|----------------------------------------------------------------------------*/

:root {
  --jp-private-toc-active-width: 4px;
}

.jp-TableOfContents {
  display: flex;
  flex-direction: column;
  background: var(--jp-layout-color1);
  color: var(--jp-ui-font-color1);
  font-size: var(--jp-ui-font-size1);
  height: 100%;
}

.jp-TableOfContents-placeholder {
  text-align: center;
}

.jp-TableOfContents-placeholderContent {
  color: var(--jp-content-font-color2);
  padding: 8px;
}

.jp-TableOfContents-placeholderContent > h3 {
  margin-bottom: var(--jp-content-heading-margin-bottom);
}

.jp-TableOfContents .jp-SidePanel-content {
  overflow-y: auto;
}

.jp-TableOfContents-tree {
  margin: 4px;
}

.jp-TableOfContents ol {
  list-style-type: none;
}

/* stylelint-disable-next-line selector-max-type */
.jp-TableOfContents li > ol {
  /* Align left border with triangle icon center */
  padding-left: 11px;
}

.jp-TableOfContents-content {
  /* left margin for the active heading indicator */
  margin: 0 0 0 var(--jp-private-toc-active-width);
  padding: 0;
  background-color: var(--jp-layout-color1);
}

.jp-tocItem {
  -webkit-user-select: none;
  -moz-user-select: none;
  -ms-user-select: none;
  user-select: none;
}

.jp-tocItem-heading {
  display: flex;
  cursor: pointer;
}

.jp-tocItem-heading:hover {
  background-color: var(--jp-layout-color2);
}

.jp-tocItem-content {
  display: block;
  padding: 4px 0;
  white-space: nowrap;
  text-overflow: ellipsis;
  overflow-x: hidden;
}

.jp-tocItem-collapser {
  height: 20px;
  margin: 2px 2px 0;
  padding: 0;
  background: none;
  border: none;
  cursor: pointer;
}

.jp-tocItem-collapser:hover {
  background-color: var(--jp-layout-color3);
}

/* Active heading indicator */

.jp-tocItem-heading::before {
  content: ' ';
  background: transparent;
  width: var(--jp-private-toc-active-width);
  height: 24px;
  position: absolute;
  left: 0;
  border-radius: var(--jp-border-radius);
}

.jp-tocItem-heading.jp-tocItem-active::before {
  background-color: var(--jp-brand-color1);
}

.jp-tocItem-heading:hover.jp-tocItem-active::before {
  background: var(--jp-brand-color0);
  opacity: 1;
}
</style><style>/*-----------------------------------------------------------------------------
| Copyright (c) Jupyter Development Team.
| Distributed under the terms of the Modified BSD License.
|----------------------------------------------------------------------------*/

.jp-Collapser {
  flex: 0 0 var(--jp-cell-collapser-width);
  padding: 0;
  margin: 0;
  border: none;
  outline: none;
  background: transparent;
  border-radius: var(--jp-border-radius);
  opacity: 1;
}

.jp-Collapser-child {
  display: block;
  width: 100%;
  box-sizing: border-box;

  /* height: 100% doesn't work because the height of its parent is computed from content */
  position: absolute;
  top: 0;
  bottom: 0;
}

/*-----------------------------------------------------------------------------
| Printing
|----------------------------------------------------------------------------*/

/*
Hiding collapsers in print mode.

Note: input and output wrappers have "display: block" propery in print mode.
*/

@media print {
  .jp-Collapser {
    display: none;
  }
}
</style><style>/*-----------------------------------------------------------------------------
| Copyright (c) Jupyter Development Team.
| Distributed under the terms of the Modified BSD License.
|----------------------------------------------------------------------------*/

/*-----------------------------------------------------------------------------
| Header/Footer
|----------------------------------------------------------------------------*/

/* Hidden by zero height by default */
.jp-CellHeader,
.jp-CellFooter {
  height: 0;
  width: 100%;
  padding: 0;
  margin: 0;
  border: none;
  outline: none;
  background: transparent;
}
</style><style>/*-----------------------------------------------------------------------------
| Copyright (c) Jupyter Development Team.
| Distributed under the terms of the Modified BSD License.
|----------------------------------------------------------------------------*/

/*-----------------------------------------------------------------------------
| Input
|----------------------------------------------------------------------------*/

/* All input areas */
.jp-InputArea {
  display: flex;
  flex-direction: row;
  width: 100%;
  overflow: hidden;
}

.jp-InputArea-editor {
  flex: 1 1 auto;
  overflow: hidden;

  /* This is the non-active, default styling */
  border: var(--jp-border-width) solid var(--jp-cell-editor-border-color);
  border-radius: 0;
  background: var(--jp-cell-editor-background);
}

.jp-InputPrompt {
  flex: 0 0 var(--jp-cell-prompt-width);
  width: var(--jp-cell-prompt-width);
  color: var(--jp-cell-inprompt-font-color);
  font-family: var(--jp-cell-prompt-font-family);
  padding: var(--jp-code-padding);
  letter-spacing: var(--jp-cell-prompt-letter-spacing);
  opacity: var(--jp-cell-prompt-opacity);
  line-height: var(--jp-code-line-height);
  font-size: var(--jp-code-font-size);
  border: var(--jp-border-width) solid transparent;

  /* Right align prompt text, don't wrap to handle large prompt numbers */
  text-align: right;
  white-space: nowrap;
  overflow: hidden;
  text-overflow: ellipsis;

  /* Disable text selection */
  -webkit-user-select: none;
  -moz-user-select: none;
  -ms-user-select: none;
  user-select: none;
}

/*-----------------------------------------------------------------------------
| Print
|----------------------------------------------------------------------------*/
@media print {
  .jp-InputArea {
    display: table;
    table-layout: fixed;
  }

  .jp-InputArea-editor {
    display: table-cell;
    vertical-align: top;
  }

  .jp-InputPrompt {
    display: table-cell;
    vertical-align: top;
  }
}

/*-----------------------------------------------------------------------------
| Mobile
|----------------------------------------------------------------------------*/
@media only screen and (width <= 760px) {
  .jp-InputArea {
    flex-direction: column;
  }

  .jp-InputArea-editor {
    margin-left: var(--jp-code-padding);
  }

  .jp-InputPrompt {
    flex: 0 0 auto;
    text-align: left;
  }
}
</style><style>/*-----------------------------------------------------------------------------
| Copyright (c) Jupyter Development Team.
| Distributed under the terms of the Modified BSD License.
|----------------------------------------------------------------------------*/

/*-----------------------------------------------------------------------------
| Placeholder
|----------------------------------------------------------------------------*/

.jp-Placeholder {
  display: flex;
  flex-direction: row;
  width: 100%;
}

.jp-Placeholder-prompt {
  flex: 0 0 var(--jp-cell-prompt-width);
  box-sizing: border-box;
}

.jp-Placeholder-content {
  flex: 1 1 auto;
  padding: 4px 6px;
  border: 1px solid transparent;
  border-radius: 0;
  background: none;
  box-sizing: border-box;
  cursor: pointer;
}

.jp-Placeholder-contentContainer {
  display: flex;
}

.jp-Placeholder-content:hover,
.jp-InputPlaceholder > .jp-Placeholder-content:hover {
  border-color: var(--jp-layout-color3);
}

.jp-Placeholder-content .jp-MoreHorizIcon {
  width: 32px;
  height: 16px;
  border: 1px solid transparent;
  border-radius: var(--jp-border-radius);
}

.jp-Placeholder-content .jp-MoreHorizIcon:hover {
  border: 1px solid var(--jp-border-color1);
  box-shadow: 0 0 2px 0 rgba(0, 0, 0, 0.25);
  background-color: var(--jp-layout-color0);
}

.jp-PlaceholderText {
  white-space: nowrap;
  overflow-x: hidden;
  color: var(--jp-inverse-layout-color3);
  font-family: var(--jp-code-font-family);
}

.jp-InputPlaceholder > .jp-Placeholder-content {
  border-color: var(--jp-cell-editor-border-color);
  background: var(--jp-cell-editor-background);
}

/*-----------------------------------------------------------------------------
| Print
|----------------------------------------------------------------------------*/
@media print {
  .jp-Placeholder {
    display: table;
    table-layout: fixed;
  }

  .jp-Placeholder-content {
    display: table-cell;
  }

  .jp-Placeholder-prompt {
    display: table-cell;
  }
}
</style><style>/*-----------------------------------------------------------------------------
| Copyright (c) Jupyter Development Team.
| Distributed under the terms of the Modified BSD License.
|----------------------------------------------------------------------------*/

/*-----------------------------------------------------------------------------
| Private CSS variables
|----------------------------------------------------------------------------*/

:root {
  --jp-private-cell-scrolling-output-offset: 5px;
}

/*-----------------------------------------------------------------------------
| Cell
|----------------------------------------------------------------------------*/

.jp-Cell {
  padding: var(--jp-cell-padding);
  margin: 0;
  border: none;
  outline: none;
  background: transparent;
}

/*-----------------------------------------------------------------------------
| Common input/output
|----------------------------------------------------------------------------*/

.jp-Cell-inputWrapper,
.jp-Cell-outputWrapper {
  display: flex;
  flex-direction: row;
  padding: 0;
  margin: 0;

  /* Added to reveal the box-shadow on the input and output collapsers. */
  overflow: visible;
}

/* Only input/output areas inside cells */
.jp-Cell-inputArea,
.jp-Cell-outputArea {
  flex: 1 1 auto;
}

/*-----------------------------------------------------------------------------
| Collapser
|----------------------------------------------------------------------------*/

/* Make the output collapser disappear when there is not output, but do so
 * in a manner that leaves it in the layout and preserves its width.
 */
.jp-Cell.jp-mod-noOutputs .jp-Cell-outputCollapser {
  border: none !important;
  background: transparent !important;
}

.jp-Cell:not(.jp-mod-noOutputs) .jp-Cell-outputCollapser {
  min-height: var(--jp-cell-collapser-min-height);
}

/*-----------------------------------------------------------------------------
| Output
|----------------------------------------------------------------------------*/

/* Put a space between input and output when there IS output */
.jp-Cell:not(.jp-mod-noOutputs) .jp-Cell-outputWrapper {
  margin-top: 5px;
}

.jp-CodeCell.jp-mod-outputsScrolled .jp-Cell-outputArea {
  overflow-y: auto;
  max-height: 24em;
  margin-left: var(--jp-private-cell-scrolling-output-offset);
  resize: vertical;
}

.jp-CodeCell.jp-mod-outputsScrolled .jp-Cell-outputArea[style*='height'] {
  max-height: unset;
}

.jp-CodeCell.jp-mod-outputsScrolled .jp-Cell-outputArea::after {
  content: ' ';
  box-shadow: inset 0 0 6px 2px rgb(0 0 0 / 30%);
  width: 100%;
  height: 100%;
  position: sticky;
  bottom: 0;
  top: 0;
  margin-top: -50%;
  float: left;
  display: block;
  pointer-events: none;
}

.jp-CodeCell.jp-mod-outputsScrolled .jp-OutputArea-child {
  padding-top: 6px;
}

.jp-CodeCell.jp-mod-outputsScrolled .jp-OutputArea-prompt {
  width: calc(
    var(--jp-cell-prompt-width) - var(--jp-private-cell-scrolling-output-offset)
  );
  flex: 0 0
    calc(
      var(--jp-cell-prompt-width) -
        var(--jp-private-cell-scrolling-output-offset)
    );
}

.jp-CodeCell.jp-mod-outputsScrolled .jp-OutputArea-promptOverlay {
  left: calc(-1 * var(--jp-private-cell-scrolling-output-offset));
}

/*-----------------------------------------------------------------------------
| CodeCell
|----------------------------------------------------------------------------*/

/*-----------------------------------------------------------------------------
| MarkdownCell
|----------------------------------------------------------------------------*/

.jp-MarkdownOutput {
  flex: 1 1 auto;
  width: 100%;
  margin-top: 0;
  margin-bottom: 0;
  padding-left: var(--jp-code-padding);
}

.jp-MarkdownOutput.jp-RenderedHTMLCommon {
  overflow: auto;
}

/* collapseHeadingButton (show always if hiddenCellsButton is _not_ shown) */
.jp-collapseHeadingButton {
  display: flex;
  min-height: var(--jp-cell-collapser-min-height);
  font-size: var(--jp-code-font-size);
  position: absolute;
  background-color: transparent;
  background-size: 25px;
  background-repeat: no-repeat;
  background-position-x: center;
  background-position-y: top;
  background-image: var(--jp-icon-caret-down);
  right: 0;
  top: 0;
  bottom: 0;
}

.jp-collapseHeadingButton.jp-mod-collapsed {
  background-image: var(--jp-icon-caret-right);
}

/*
 set the container font size to match that of content
 so that the nested collapse buttons have the right size
*/
.jp-MarkdownCell .jp-InputPrompt {
  font-size: var(--jp-content-font-size1);
}

/*
  Align collapseHeadingButton with cell top header
  The font sizes are identical to the ones in packages/rendermime/style/base.css
*/
.jp-mod-rendered .jp-collapseHeadingButton[data-heading-level='1'] {
  font-size: var(--jp-content-font-size5);
  background-position-y: calc(0.3 * var(--jp-content-font-size5));
}

.jp-mod-rendered .jp-collapseHeadingButton[data-heading-level='2'] {
  font-size: var(--jp-content-font-size4);
  background-position-y: calc(0.3 * var(--jp-content-font-size4));
}

.jp-mod-rendered .jp-collapseHeadingButton[data-heading-level='3'] {
  font-size: var(--jp-content-font-size3);
  background-position-y: calc(0.3 * var(--jp-content-font-size3));
}

.jp-mod-rendered .jp-collapseHeadingButton[data-heading-level='4'] {
  font-size: var(--jp-content-font-size2);
  background-position-y: calc(0.3 * var(--jp-content-font-size2));
}

.jp-mod-rendered .jp-collapseHeadingButton[data-heading-level='5'] {
  font-size: var(--jp-content-font-size1);
  background-position-y: top;
}

.jp-mod-rendered .jp-collapseHeadingButton[data-heading-level='6'] {
  font-size: var(--jp-content-font-size0);
  background-position-y: top;
}

/* collapseHeadingButton (show only on (hover,active) if hiddenCellsButton is shown) */
.jp-Notebook.jp-mod-showHiddenCellsButton .jp-collapseHeadingButton {
  display: none;
}

.jp-Notebook.jp-mod-showHiddenCellsButton
  :is(.jp-MarkdownCell:hover, .jp-mod-active)
  .jp-collapseHeadingButton {
  display: flex;
}

/* showHiddenCellsButton (only show if jp-mod-showHiddenCellsButton is set, which
is a consequence of the showHiddenCellsButton option in Notebook Settings)*/
.jp-Notebook.jp-mod-showHiddenCellsButton .jp-showHiddenCellsButton {
  margin-left: calc(var(--jp-cell-prompt-width) + 2 * var(--jp-code-padding));
  margin-top: var(--jp-code-padding);
  border: 1px solid var(--jp-border-color2);
  background-color: var(--jp-border-color3) !important;
  color: var(--jp-content-font-color0) !important;
  display: flex;
}

.jp-Notebook.jp-mod-showHiddenCellsButton .jp-showHiddenCellsButton:hover {
  background-color: var(--jp-border-color2) !important;
}

.jp-showHiddenCellsButton {
  display: none;
}

/*-----------------------------------------------------------------------------
| Printing
|----------------------------------------------------------------------------*/

/*
Using block instead of flex to allow the use of the break-inside CSS property for
cell outputs.
*/

@media print {
  .jp-Cell-inputWrapper,
  .jp-Cell-outputWrapper {
    display: block;
  }

  .jp-MarkdownOutput {
    display: table-cell;
  }
}
</style><style>/*-----------------------------------------------------------------------------
| Copyright (c) Jupyter Development Team.
| Distributed under the terms of the Modified BSD License.
|----------------------------------------------------------------------------*/
</style><style>/*-----------------------------------------------------------------------------
| Copyright (c) Jupyter Development Team.
| Distributed under the terms of the Modified BSD License.
|----------------------------------------------------------------------------*/

/*-----------------------------------------------------------------------------
| Variables
|----------------------------------------------------------------------------*/

:root {
  --jp-notebook-toolbar-padding: 2px 5px 2px 2px;
}

/*-----------------------------------------------------------------------------

/*-----------------------------------------------------------------------------
| Styles
|----------------------------------------------------------------------------*/

.jp-NotebookPanel-toolbar {
  padding: var(--jp-notebook-toolbar-padding);

  /* disable paint containment from lumino 2.0 default strict CSS containment */
  contain: style size !important;
}

.jp-Toolbar-item.jp-Notebook-toolbarCellType .jp-select-wrapper.jp-mod-focused {
  border: none;
  box-shadow: none;
}

.jp-Notebook-toolbarCellTypeDropdown select {
  height: 24px;
  font-size: var(--jp-ui-font-size1);
  line-height: 14px;
  border-radius: 0;
  display: block;
}

.jp-Notebook-toolbarCellTypeDropdown span {
  top: 5px !important;
}

.jp-Toolbar-responsive-popup {
  position: absolute;
  height: fit-content;
  display: flex;
  flex-direction: row;
  flex-wrap: wrap;
  justify-content: flex-end;
  border-bottom: var(--jp-border-width) solid var(--jp-toolbar-border-color);
  box-shadow: var(--jp-toolbar-box-shadow);
  background: var(--jp-toolbar-background);
  min-height: var(--jp-toolbar-micro-height);
  padding: var(--jp-notebook-toolbar-padding);
  z-index: 1;
  right: 0;
  top: 0;
}

.jp-Toolbar > .jp-Toolbar-responsive-opener {
  margin-left: auto;
}
</style><style>/*-----------------------------------------------------------------------------
| Copyright (c) Jupyter Development Team.
| Distributed under the terms of the Modified BSD License.
|----------------------------------------------------------------------------*/

/*-----------------------------------------------------------------------------
| Variables
|----------------------------------------------------------------------------*/

/*-----------------------------------------------------------------------------

/*-----------------------------------------------------------------------------
| Styles
|----------------------------------------------------------------------------*/

.jp-Notebook-ExecutionIndicator {
  position: relative;
  display: inline-block;
  height: 100%;
  z-index: 9997;
}

.jp-Notebook-ExecutionIndicator-tooltip {
  visibility: hidden;
  height: auto;
  width: max-content;
  width: -moz-max-content;
  background-color: var(--jp-layout-color2);
  color: var(--jp-ui-font-color1);
  text-align: justify;
  border-radius: 6px;
  padding: 0 5px;
  position: fixed;
  display: table;
}

.jp-Notebook-ExecutionIndicator-tooltip.up {
  transform: translateX(-50%) translateY(-100%) translateY(-32px);
}

.jp-Notebook-ExecutionIndicator-tooltip.down {
  transform: translateX(calc(-100% + 16px)) translateY(5px);
}

.jp-Notebook-ExecutionIndicator-tooltip.hidden {
  display: none;
}

.jp-Notebook-ExecutionIndicator:hover .jp-Notebook-ExecutionIndicator-tooltip {
  visibility: visible;
}

.jp-Notebook-ExecutionIndicator span {
  font-size: var(--jp-ui-font-size1);
  font-family: var(--jp-ui-font-family);
  color: var(--jp-ui-font-color1);
  line-height: 24px;
  display: block;
}

.jp-Notebook-ExecutionIndicator-progress-bar {
  display: flex;
  justify-content: center;
  height: 100%;
}
</style><style>/*
 * Copyright (c) Jupyter Development Team.
 * Distributed under the terms of the Modified BSD License.
 */

/*
 * Execution indicator
 */
.jp-tocItem-content::after {
  content: '';

  /* Must be identical to form a circle */
  width: 12px;
  height: 12px;
  background: none;
  border: none;
  position: absolute;
  right: 0;
}

.jp-tocItem-content[data-running='0']::after {
  border-radius: 50%;
  border: var(--jp-border-width) solid var(--jp-inverse-layout-color3);
  background: none;
}

.jp-tocItem-content[data-running='1']::after {
  border-radius: 50%;
  border: var(--jp-border-width) solid var(--jp-inverse-layout-color3);
  background-color: var(--jp-inverse-layout-color3);
}

.jp-tocItem-content[data-running='0'],
.jp-tocItem-content[data-running='1'] {
  margin-right: 12px;
}
</style><style>/*
 * Copyright (c) Jupyter Development Team.
 * Distributed under the terms of the Modified BSD License.
 */

.jp-Notebook-footer {
  height: 27px;
  margin-left: calc(
    var(--jp-cell-prompt-width) + var(--jp-cell-collapser-width) +
      var(--jp-cell-padding)
  );
  width: calc(
    100% -
      (
        var(--jp-cell-prompt-width) + var(--jp-cell-collapser-width) +
          var(--jp-cell-padding) + var(--jp-cell-padding)
      )
  );
  border: var(--jp-border-width) solid var(--jp-cell-editor-border-color);
  color: var(--jp-ui-font-color3);
  margin-top: 6px;
  background: none;
  cursor: pointer;
}

.jp-Notebook-footer:focus {
  border-color: var(--jp-cell-editor-active-border-color);
}

/* For devices that support hovering, hide footer until hover */
@media (hover: hover) {
  .jp-Notebook-footer {
    opacity: 0;
  }

  .jp-Notebook-footer:focus,
  .jp-Notebook-footer:hover {
    opacity: 1;
  }
}
</style><style>/*-----------------------------------------------------------------------------
| Copyright (c) Jupyter Development Team.
| Distributed under the terms of the Modified BSD License.
|----------------------------------------------------------------------------*/

/*-----------------------------------------------------------------------------
| Imports
|----------------------------------------------------------------------------*/

/*-----------------------------------------------------------------------------
| CSS variables
|----------------------------------------------------------------------------*/

:root {
  --jp-side-by-side-output-size: 1fr;
  --jp-side-by-side-resized-cell: var(--jp-side-by-side-output-size);
  --jp-private-notebook-dragImage-width: 304px;
  --jp-private-notebook-dragImage-height: 36px;
  --jp-private-notebook-selected-color: var(--md-blue-400);
  --jp-private-notebook-active-color: var(--md-green-400);
}

/*-----------------------------------------------------------------------------
| Notebook
|----------------------------------------------------------------------------*/

/* stylelint-disable selector-max-class */

.jp-NotebookPanel {
  display: block;
  height: 100%;
}

.jp-NotebookPanel.jp-Document {
  min-width: 240px;
  min-height: 120px;
}

.jp-Notebook {
  padding: var(--jp-notebook-padding);
  outline: none;
  overflow: auto;
  background: var(--jp-layout-color0);
}

.jp-Notebook.jp-mod-scrollPastEnd::after {
  display: block;
  content: '';
  min-height: var(--jp-notebook-scroll-padding);
}

.jp-MainAreaWidget-ContainStrict .jp-Notebook * {
  contain: strict;
}

.jp-Notebook .jp-Cell {
  overflow: visible;
}

.jp-Notebook .jp-Cell .jp-InputPrompt {
  cursor: move;
  float: left;
}

/*-----------------------------------------------------------------------------
| Notebook state related styling
|
| The notebook and cells each have states, here are the possibilities:
|
| - Notebook
|   - Command
|   - Edit
| - Cell
|   - None
|   - Active (only one can be active)
|   - Selected (the cells actions are applied to)
|   - Multiselected (when multiple selected, the cursor)
|   - No outputs
|----------------------------------------------------------------------------*/

/* Command or edit modes */

.jp-Notebook .jp-Cell:not(.jp-mod-active) .jp-InputPrompt {
  opacity: var(--jp-cell-prompt-not-active-opacity);
  color: var(--jp-cell-prompt-not-active-font-color);
}

.jp-Notebook .jp-Cell:not(.jp-mod-active) .jp-OutputPrompt {
  opacity: var(--jp-cell-prompt-not-active-opacity);
  color: var(--jp-cell-prompt-not-active-font-color);
}

/* cell is active */
.jp-Notebook .jp-Cell.jp-mod-active .jp-Collapser {
  background: var(--jp-brand-color1);
}

/* cell is dirty */
.jp-Notebook .jp-Cell.jp-mod-dirty .jp-InputPrompt {
  color: var(--jp-warn-color1);
}

.jp-Notebook .jp-Cell.jp-mod-dirty .jp-InputPrompt::before {
  color: var(--jp-warn-color1);
  content: '•';
}

.jp-Notebook .jp-Cell.jp-mod-active.jp-mod-dirty .jp-Collapser {
  background: var(--jp-warn-color1);
}

/* collapser is hovered */
.jp-Notebook .jp-Cell .jp-Collapser:hover {
  box-shadow: var(--jp-elevation-z2);
  background: var(--jp-brand-color1);
  opacity: var(--jp-cell-collapser-not-active-hover-opacity);
}

/* cell is active and collapser is hovered */
.jp-Notebook .jp-Cell.jp-mod-active .jp-Collapser:hover {
  background: var(--jp-brand-color0);
  opacity: 1;
}

/* Command mode */

.jp-Notebook.jp-mod-commandMode .jp-Cell.jp-mod-selected {
  background: var(--jp-notebook-multiselected-color);
}

.jp-Notebook.jp-mod-commandMode
  .jp-Cell.jp-mod-active.jp-mod-selected:not(.jp-mod-multiSelected) {
  background: transparent;
}

/* Edit mode */

.jp-Notebook.jp-mod-editMode .jp-Cell.jp-mod-active .jp-InputArea-editor {
  border: var(--jp-border-width) solid var(--jp-cell-editor-active-border-color);
  box-shadow: var(--jp-input-box-shadow);
  background-color: var(--jp-cell-editor-active-background);
}

/*-----------------------------------------------------------------------------
| Notebook drag and drop
|----------------------------------------------------------------------------*/

.jp-Notebook-cell.jp-mod-dropSource {
  opacity: 0.5;
}

.jp-Notebook-cell.jp-mod-dropTarget,
.jp-Notebook.jp-mod-commandMode
  .jp-Notebook-cell.jp-mod-active.jp-mod-selected.jp-mod-dropTarget {
  border-top-color: var(--jp-private-notebook-selected-color);
  border-top-style: solid;
  border-top-width: 2px;
}

.jp-dragImage {
  display: block;
  flex-direction: row;
  width: var(--jp-private-notebook-dragImage-width);
  height: var(--jp-private-notebook-dragImage-height);
  border: var(--jp-border-width) solid var(--jp-cell-editor-border-color);
  background: var(--jp-cell-editor-background);
  overflow: visible;
}

.jp-dragImage-singlePrompt {
  box-shadow: 2px 2px 4px 0 rgba(0, 0, 0, 0.12);
}

.jp-dragImage .jp-dragImage-content {
  flex: 1 1 auto;
  z-index: 2;
  font-size: var(--jp-code-font-size);
  font-family: var(--jp-code-font-family);
  line-height: var(--jp-code-line-height);
  padding: var(--jp-code-padding);
  border: var(--jp-border-width) solid var(--jp-cell-editor-border-color);
  background: var(--jp-cell-editor-background-color);
  color: var(--jp-content-font-color3);
  text-align: left;
  margin: 4px 4px 4px 0;
}

.jp-dragImage .jp-dragImage-prompt {
  flex: 0 0 auto;
  min-width: 36px;
  color: var(--jp-cell-inprompt-font-color);
  padding: var(--jp-code-padding);
  padding-left: 12px;
  font-family: var(--jp-cell-prompt-font-family);
  letter-spacing: var(--jp-cell-prompt-letter-spacing);
  line-height: 1.9;
  font-size: var(--jp-code-font-size);
  border: var(--jp-border-width) solid transparent;
}

.jp-dragImage-multipleBack {
  z-index: -1;
  position: absolute;
  height: 32px;
  width: 300px;
  top: 8px;
  left: 8px;
  background: var(--jp-layout-color2);
  border: var(--jp-border-width) solid var(--jp-input-border-color);
  box-shadow: 2px 2px 4px 0 rgba(0, 0, 0, 0.12);
}

/*-----------------------------------------------------------------------------
| Cell toolbar
|----------------------------------------------------------------------------*/

.jp-NotebookTools {
  display: block;
  min-width: var(--jp-sidebar-min-width);
  color: var(--jp-ui-font-color1);
  background: var(--jp-layout-color1);

  /* This is needed so that all font sizing of children done in ems is
    * relative to this base size */
  font-size: var(--jp-ui-font-size1);
  overflow: auto;
}

.jp-ActiveCellTool {
  padding: 12px 0;
  display: flex;
}

.jp-ActiveCellTool-Content {
  flex: 1 1 auto;
}

.jp-ActiveCellTool .jp-ActiveCellTool-CellContent {
  background: var(--jp-cell-editor-background);
  border: var(--jp-border-width) solid var(--jp-cell-editor-border-color);
  border-radius: 0;
  min-height: 29px;
}

.jp-ActiveCellTool .jp-InputPrompt {
  min-width: calc(var(--jp-cell-prompt-width) * 0.75);
}

.jp-ActiveCellTool-CellContent > pre {
  padding: 5px 4px;
  margin: 0;
  white-space: normal;
}

.jp-MetadataEditorTool {
  flex-direction: column;
  padding: 12px 0;
}

.jp-RankedPanel > :not(:first-child) {
  margin-top: 12px;
}

.jp-KeySelector select.jp-mod-styled {
  font-size: var(--jp-ui-font-size1);
  color: var(--jp-ui-font-color0);
  border: var(--jp-border-width) solid var(--jp-border-color1);
}

.jp-KeySelector label,
.jp-MetadataEditorTool label,
.jp-NumberSetter label {
  line-height: 1.4;
}

.jp-NotebookTools .jp-select-wrapper {
  margin-top: 4px;
  margin-bottom: 0;
}

.jp-NumberSetter input {
  width: 100%;
  margin-top: 4px;
}

.jp-NotebookTools .jp-Collapse {
  margin-top: 16px;
}

/*-----------------------------------------------------------------------------
| Presentation Mode (.jp-mod-presentationMode)
|----------------------------------------------------------------------------*/

.jp-mod-presentationMode .jp-Notebook {
  --jp-content-font-size1: var(--jp-content-presentation-font-size1);
  --jp-code-font-size: var(--jp-code-presentation-font-size);
}

.jp-mod-presentationMode .jp-Notebook .jp-Cell .jp-InputPrompt,
.jp-mod-presentationMode .jp-Notebook .jp-Cell .jp-OutputPrompt {
  flex: 0 0 110px;
}

/*-----------------------------------------------------------------------------
| Side-by-side Mode (.jp-mod-sideBySide)
|----------------------------------------------------------------------------*/
.jp-mod-sideBySide.jp-Notebook .jp-Notebook-cell {
  margin-top: 3em;
  margin-bottom: 3em;
  margin-left: 5%;
  margin-right: 5%;
}

.jp-mod-sideBySide.jp-Notebook .jp-CodeCell {
  display: grid;
  grid-template-columns: minmax(70px, 1fr) min-content minmax(
      70px,
      var(--jp-side-by-side-output-size)
    );
  grid-template-rows: auto minmax(0, 1fr) auto;
  grid-template-areas:
    'header header header'
    'input handle output'
    'footer footer footer';
}

.jp-mod-sideBySide.jp-Notebook .jp-CodeCell.jp-mod-resizedCell {
  grid-template-columns: minmax(70px, 1fr) min-content minmax(
      70px,
      var(--jp-side-by-side-resized-cell)
    );
}

.jp-mod-sideBySide.jp-Notebook .jp-CodeCell .jp-CellHeader {
  grid-area: header;
}

.jp-mod-sideBySide.jp-Notebook .jp-CodeCell .jp-Cell-inputWrapper {
  grid-area: input;
}

.jp-mod-sideBySide.jp-Notebook .jp-CodeCell .jp-Cell-outputWrapper {
  /* overwrite the default margin (no vertical separation needed in side by side move */
  margin-top: 0;
  grid-area: output;
}

.jp-mod-sideBySide.jp-Notebook .jp-CodeCell .jp-CellFooter {
  grid-area: footer;
}

.jp-mod-sideBySide.jp-Notebook .jp-CodeCell .jp-CellResizeHandle {
  grid-area: handle;
  user-select: none;
  display: block;
  height: 100%;
  cursor: ew-resize;
  padding: 0 var(--jp-cell-padding);
}

.jp-mod-sideBySide.jp-Notebook .jp-CodeCell .jp-CellResizeHandle::after {
  content: '';
  display: block;
  background: var(--jp-border-color2);
  height: 100%;
  width: 5px;
}

.jp-mod-sideBySide.jp-Notebook
  .jp-CodeCell.jp-mod-resizedCell
  .jp-CellResizeHandle::after {
  background: var(--jp-border-color0);
}

.jp-CellResizeHandle {
  display: none;
}

/*-----------------------------------------------------------------------------
| Placeholder
|----------------------------------------------------------------------------*/

.jp-Cell-Placeholder {
  padding-left: 55px;
}

.jp-Cell-Placeholder-wrapper {
  background: #fff;
  border: 1px solid;
  border-color: #e5e6e9 #dfe0e4 #d0d1d5;
  border-radius: 4px;
  -webkit-border-radius: 4px;
  margin: 10px 15px;
}

.jp-Cell-Placeholder-wrapper-inner {
  padding: 15px;
  position: relative;
}

.jp-Cell-Placeholder-wrapper-body {
  background-repeat: repeat;
  background-size: 50% auto;
}

.jp-Cell-Placeholder-wrapper-body div {
  background: #f6f7f8;
  background-image: -webkit-linear-gradient(
    left,
    #f6f7f8 0%,
    #edeef1 20%,
    #f6f7f8 40%,
    #f6f7f8 100%
  );
  background-repeat: no-repeat;
  background-size: 800px 104px;
  height: 104px;
  position: absolute;
  right: 15px;
  left: 15px;
  top: 15px;
}

div.jp-Cell-Placeholder-h1 {
  top: 20px;
  height: 20px;
  left: 15px;
  width: 150px;
}

div.jp-Cell-Placeholder-h2 {
  left: 15px;
  top: 50px;
  height: 10px;
  width: 100px;
}

div.jp-Cell-Placeholder-content-1,
div.jp-Cell-Placeholder-content-2,
div.jp-Cell-Placeholder-content-3 {
  left: 15px;
  right: 15px;
  height: 10px;
}

div.jp-Cell-Placeholder-content-1 {
  top: 100px;
}

div.jp-Cell-Placeholder-content-2 {
  top: 120px;
}

div.jp-Cell-Placeholder-content-3 {
  top: 140px;
}

/*-----------------------------------------------------------------------------
| Printing
|----------------------------------------------------------------------------*/
@media print {
  .jp-Notebook .jp-Cell .jp-InputPrompt {
    float: none;
  }
}
</style><style>/*
 * Copyright (c) Jupyter Development Team.
 * Distributed under the terms of the Modified BSD License.
 */

.jp-cell-button .jp-icon3[fill] {
  fill: var(--jp-inverse-layout-color4);
}

.jp-cell-button:hover .jp-icon3[fill] {
  fill: var(--jp-inverse-layout-color2);
}

.jp-toolbar-overlap .jp-cell-toolbar {
  display: none;
}

.jp-cell-toolbar {
  display: flex;
  flex-direction: row;
  padding: 2px 0;
  min-height: 25px;
  z-index: 6;
  position: absolute;
  top: 5px;
  right: 8px;

  /* Override .jp-Toolbar */
  background-color: transparent;
  border-bottom: inherit;
  box-shadow: inherit;
}

/* Overrides for mobile view hiding cell toolbar */
@media only screen and (width <= 760px) {
  .jp-cell-toolbar {
    display: none;
  }
}

.jp-cell-toolbar button.jp-ToolbarButtonComponent {
  cursor: pointer;
}

.jp-cell-toolbar .jp-ToolbarButton button {
  display: none;
}

.jp-cell-toolbar .jp-ToolbarButton .jp-cell-all,
.jp-CodeCell .jp-ToolbarButton .jp-cell-code,
.jp-MarkdownCell .jp-ToolbarButton .jp-cell-markdown,
.jp-RawCell .jp-ToolbarButton .jp-cell-raw {
  display: block;
}

.jp-cell-toolbar .jp-Toolbar-spacer {
  flex: 1 1 auto;
}

.jp-cell-mod-click {
  cursor: pointer;
}

/* Custom styling for rendered markdown cells so that cell toolbar is visible */
.jp-MarkdownOutput {
  border-width: var(--jp-border-width);
  border-color: transparent;
  border-style: solid;
}

.jp-mod-active .jp-MarkdownOutput {
  border-color: var(--jp-cell-editor-border-color);
}
</style><style>/*
 * Copyright (c) Jupyter Development Team.
 * Distributed under the terms of the Modified BSD License.
 */

:root {
  --jp-add-tag-extra-width: 8px;
}

.jp-CellTags-Tag {
  height: 20px;
  border-radius: 10px;
  margin-right: 5px;
  margin-bottom: 10px;
  padding: 0 8px;
  font-size: var(--jp-ui-font-size1);
  display: inline-flex;
  justify-content: center;
  align-items: center;
  max-width: calc(100% - 25px);
  border: 1px solid var(--jp-border-color1);
  color: var(--jp-ui-font-color1);
  -webkit-touch-callout: none;
  -webkit-user-select: none;
  -khtml-user-select: none;
  -moz-user-select: none;
  -ms-user-select: none;
  user-select: none;
}

.jp-CellTags-Unapplied {
  background-color: var(--jp-layout-color2);
}

.jp-CellTags-Applied {
  background-color: var(--jp-layout-color3);
}

.jp-CellTags-Add {
  white-space: nowrap;
  overflow: hidden;
  border: none;
  outline: none;
  resize: horizontal;
  font-size: var(--jp-ui-font-size1);
  color: var(--jp-ui-font-color1);
  background: var(--jp-layout-color2);
}

.jp-CellTags-Holder {
  display: flex;
  justify-content: center;
  align-items: center;
}

.jp-CellTags-Empty {
  width: 4em;
}
</style><style>/*-----------------------------------------------------------------------------
| Copyright (c) 2014-2016, Jupyter Development Team.
|
| Distributed under the terms of the Modified BSD License.
|----------------------------------------------------------------------------*/

:root {
  --jp-private-completer-item-height: 24px;

  /* Shift the baseline of the type character to align with the match text */
  --jp-private-completer-type-offset: 2px;
}

.jp-Completer {
  box-shadow: var(--jp-elevation-z6);
  background: var(--jp-layout-color1);
  color: var(--jp-content-font-color1);
  border: var(--jp-border-width) solid var(--jp-border-color1);
  padding: 0;
  display: flex;
  flex-direction: row;

  /* Needed to avoid scrollbar issues when using cached width. */
  box-sizing: content-box;

  /* Position the completer relative to the text editor, align the '.' */
  margin: 4px 0 0 -30px;
  z-index: 10001;
}

.jp-Completer-docpanel {
  border-left: var(--jp-border-width) solid var(--jp-border-color1);
  width: 400px;
  overflow-y: scroll;
  overflow-x: auto;
  padding: 8px;
  max-height: calc((10 * var(--jp-private-completer-item-height)) - 16px);
}

.jp-Completer-docpanel pre {
  border: none;
  margin: 0;
  padding: 0;
  white-space: pre-wrap;
}

.jp-Completer-list {
  margin: 0;
  padding: 0;
  list-style-type: none;
  overflow-y: scroll;
  overflow-x: auto;
  max-height: calc((10 * var(--jp-private-completer-item-height)));
  min-height: calc(var(--jp-private-completer-item-height));
  width: 100%;
}

.jp-Completer-item {
  box-sizing: border-box;
  margin: 0;
  padding: 0;
  height: var(--jp-private-completer-item-height);
  min-width: 150px;
  display: grid;
  grid-template-columns: min-content 1fr min-content;
  position: relative;
}

.jp-Completer-item .jp-Completer-match {
  box-sizing: border-box;
  margin: 0;
  padding: 0 8px 0 6px;
  height: var(--jp-private-completer-item-height);
  font-family: var(--jp-code-font-family);
  font-size: var(--jp-code-font-size);
  line-height: var(--jp-private-completer-item-height);
}

.jp-Completer-deprecated .jp-Completer-match {
  text-decoration: line-through;
  color: var(--jp-content-font-color2);
}

.jp-Completer-item .jp-Completer-type {
  box-sizing: border-box;
  height: var(--jp-private-completer-item-height);
  background: transparent;
  width: var(--jp-private-completer-item-height);
}

.jp-Completer-item .jp-Completer-icon {
  /* Normal element size from LabIconStyle.ISheetOptions */
  height: 16px;
  width: 16px;
}

.jp-Completer-item .jp-Completer-monogram {
  text-align: center;
  color: white;
  width: var(--jp-private-completer-item-height);
  font-family: var(--jp-ui-font-family);
  font-size: var(--jp-ui-font-size1);
  line-height: calc(
    var(--jp-private-completer-item-height) -
      var(--jp-private-completer-type-offset)
  );
  padding-bottom: var(--jp-private-completer-type-offset);
}

.jp-Completer-item .jp-Completer-typeExtended {
  box-sizing: border-box;
  height: var(--jp-private-completer-item-height);
  text-align: right;
  background: transparent;
  color: var(--jp-ui-font-color2);
  font-family: var(--jp-code-font-family);
  font-size: var(--jp-code-font-size);
  line-height: var(--jp-private-completer-item-height);
  padding-right: 8px;
}

.jp-Completer-item:hover {
  background: var(--jp-layout-color2);
  opacity: 0.8;
}

.jp-Completer-item.jp-mod-active {
  background: var(--jp-brand-color1);
  color: white;
}

.jp-Completer-item .jp-Completer-match mark {
  font-weight: bold;
  background: inherit;
  color: inherit;
}

.jp-Completer-type[data-color-index='0'] {
  background: transparent;
}

.jp-Completer-type[data-color-index='1'] {
  background: #1f77b4;
}

.jp-Completer-type[data-color-index='2'] {
  background: #ff7f0e;
}

.jp-Completer-type[data-color-index='3'] {
  background: #2ca02c;
}

.jp-Completer-type[data-color-index='4'] {
  background: #d62728;
}

.jp-Completer-type[data-color-index='5'] {
  background: #9467bd;
}

.jp-Completer-type[data-color-index='6'] {
  background: #8c564b;
}

.jp-Completer-type[data-color-index='7'] {
  background: #e377c2;
}

.jp-Completer-type[data-color-index='8'] {
  background: #7f7f7f;
}

.jp-Completer-type[data-color-index='9'] {
  background: #bcbd22;
}

.jp-Completer-type[data-color-index='10'] {
  background: #17becf;
}

.jp-Completer-loading-bar-container {
  height: 2px;
  width: calc(100% - var(--jp-private-completer-item-height));
  left: var(--jp-private-completer-item-height);
  position: absolute;
  overflow: hidden;
  top: 0;
}

.jp-Completer-loading-bar {
  height: 100%;
  width: 50%;
  background-color: var(--jp-accent-color2);
  position: absolute;
  left: -50%;
  animation: jp-Completer-loading 2s ease-in 0.5s infinite;
}

@keyframes jp-Completer-loading {
  0% {
    transform: translateX(0);
  }

  100% {
    transform: translateX(400%);
  }
}
</style><style>/*-----------------------------------------------------------------------------
| Copyright (c) Jupyter Development Team.
| Distributed under the terms of the Modified BSD License.
|----------------------------------------------------------------------------*/

.jp-ConsolePanel {
  display: flex;
  flex: 1 1 auto;
  flex-direction: column;
  margin-top: -1px;
  min-width: 240px;
  min-height: 120px;
}

.jp-CodeConsole {
  height: 100%;
  padding: 0;
  display: flex;
  flex-direction: column;
}

.jp-CodeConsole .jp-Cell {
  padding: var(--jp-cell-padding);
}

/*-----------------------------------------------------------------------------
| Content (already run cells)
|----------------------------------------------------------------------------*/

.jp-CodeConsole-content {
  background: var(--jp-layout-color0);
  flex: 1 1 auto;
  overflow: auto;
  padding: var(--jp-console-padding);
}

.jp-CodeConsole-content .jp-Cell:not(.jp-mod-active) .jp-InputPrompt {
  opacity: var(--jp-cell-prompt-not-active-opacity);
  color: var(--jp-cell-inprompt-font-color);
  cursor: move;
}

.jp-CodeConsole-content .jp-Cell:not(.jp-mod-active) .jp-OutputPrompt {
  opacity: var(--jp-cell-prompt-not-active-opacity);
  color: var(--jp-cell-outprompt-font-color);
}

/* This rule is for styling cell run by another activity in this console */

/* .jp-CodeConsole-content .jp-Cell.jp-CodeConsole-foreignCell {
} */

.jp-CodeConsole-content .jp-InputArea-editor.jp-InputArea-editor {
  background: transparent;
  border: 1px solid transparent;
}

.jp-CodeConsole-content .jp-CodeConsole-banner .jp-InputPrompt {
  display: none;
}

/* collapser is hovered */
.jp-CodeConsole-content .jp-Cell .jp-Collapser:hover {
  box-shadow: var(--jp-elevation-z2);
  background: var(--jp-brand-color1);
  opacity: var(--jp-cell-collapser-not-active-hover-opacity);
}

/*-----------------------------------------------------------------------------
| Input/prompt cell
|----------------------------------------------------------------------------*/

.jp-CodeConsole-input {
  max-height: 80%;
  flex: 0 0 auto;
  overflow: auto;
  border-top: var(--jp-border-width) solid var(--jp-toolbar-border-color);
  padding: var(--jp-cell-padding) var(--jp-console-padding);

  /* This matches the box shadow on the notebook toolbar, eventually we should create
   * CSS variables for this */
  box-shadow: 0 0.4px 6px 0 rgba(0, 0, 0, 0.1);
  background: var(--jp-layout-color1);
}

.jp-CodeConsole-input .jp-CodeConsole-prompt .jp-InputArea {
  height: 100%;
  min-height: 100%;
}

.jp-CodeConsole-promptCell .jp-InputArea-editor.jp-mod-focused {
  border: var(--jp-border-width) solid var(--jp-cell-editor-active-border-color);
  box-shadow: var(--jp-input-box-shadow);
  background-color: var(--jp-cell-editor-active-background);
}

/*-----------------------------------------------------------------------------
| Presentation Mode (.jp-mod-presentationMode)
|----------------------------------------------------------------------------*/

.jp-mod-presentationMode .jp-CodeConsole {
  --jp-content-font-size1: var(--jp-content-presentation-font-size1);
  --jp-code-font-size: var(--jp-code-presentation-font-size);
}

.jp-mod-presentationMode .jp-CodeConsole .jp-Cell .jp-InputPrompt,
.jp-mod-presentationMode .jp-CodeConsole .jp-Cell .jp-OutputPrompt {
  flex: 0 0 110px;
}
</style><style>/*-----------------------------------------------------------------------------
| Copyright (c) Jupyter Development Team.
| Distributed under the terms of the Modified BSD License.
|----------------------------------------------------------------------------*/

/* Private CSS variables */

:root {
  --jp-private-launcher-top-padding: 1.231em;
  --jp-private-launcher-side-padding: 2.462em;
  --jp-private-launcher-card-size: 7.692em;
  --jp-private-launcher-card-label-height: 2.462em;
  --jp-private-launcher-card-icon-height: 5.231em;
  --jp-private-launcher-large-icon-size: 4em;
  --jp-private-launcher-small-icon-size: 2.462em;
}

/* Launcher */

.jp-Launcher {
  margin: 0;
  padding: 0;
  outline: none;
  background: var(--jp-layout-color0);
  box-sizing: border-box;
  min-width: 120px;
  min-height: 120px;

  /* This is needed so that all font sizing of children done in ems is
   * relative to this base size */
  font-size: var(--jp-ui-font-size1);
}

.jp-Launcher-body {
  width: 100%;
  height: 100%;
  box-sizing: border-box;
  overflow: auto;
  display: flex;
  justify-content: center;
}

.jp-Launcher-cwd h3 {
  font-size: var(--jp-ui-font-size2);
  font-weight: normal;
  color: var(--jp-ui-font-color1);
  margin: 1em 0;
}

.jp-Launcher-content {
  width: 85%;
  height: 100%;
  padding-top: var(--jp-private-launcher-top-padding);
  padding-left: var(--jp-private-launcher-side-padding);
  padding-right: var(--jp-private-launcher-side-padding);
  box-sizing: border-box;
}

/* Launcher section */

.jp-Launcher-section {
  width: 100%;
  box-sizing: border-box;
  padding-bottom: 12px;
}

.jp-Launcher-sectionHeader {
  display: flex;
  flex-direction: row;
  align-items: center;
  box-sizing: border-box;

  /* This is custom tuned to get the section header to align with the cards */
  margin-left: 5px;
  border-bottom: 1px solid var(--jp-border-color2);
  padding-bottom: 0;
  margin-bottom: 8px;
}

.jp-Launcher-sectionTitle {
  font-size: var(--jp-ui-font-size2);
  font-weight: normal;
  color: var(--jp-ui-font-color0);
  box-sizing: border-box;
}

/* Launcher cards */

.jp-Launcher-cardContainer {
  margin: 0;
  padding: 0;
  box-sizing: border-box;
  display: flex;
  flex-direction: row;
  flex-wrap: wrap;
}

.jp-LauncherCard {
  display: flex;
  flex-direction: column;
  cursor: pointer;
  width: var(--jp-private-launcher-card-size);
  min-height: var(--jp-private-launcher-card-size);
  margin: 8px;
  padding: 0;
  border: 1px solid var(--jp-border-color2);
  background: var(--jp-layout-color0);
  box-shadow: var(--jp-elevation-z2);
  transition: 0.2s box-shadow;
  border-radius: var(--jp-border-radius);
}

.jp-LauncherCard:focus:not(:active) {
  border: 1px solid var(--jp-brand-color1);
  box-shadow: var(--jp-elevation-z6);
  outline: unset; /* if outline is not unset, then depending on which browser you use, the
    border change is either hidden behind the outline or visually combined with it */
}

.jp-LauncherCard:hover {
  box-shadow: var(--jp-elevation-z6);
  background: var(--jp-layout-color1);
}

.jp-LauncherCard:active {
  box-shadow: var(--jp-elevation-z4);
}

.jp-LauncherCard-icon {
  width: 100%;
  height: var(--jp-private-launcher-card-icon-height);
  box-sizing: border-box;
  margin: 0;
  padding: 0;
  display: flex;
  justify-content: center;
  align-items: center;
}

.jp-LauncherCard-noKernelIcon {
  font-weight: normal;
  font-size: var(--jp-private-launcher-large-icon-size);
}

.jp-LauncherCard[data-category='Notebook'] .jp-LauncherCard-noKernelIcon {
  /* This color is copied from the notebook icon. */
  color: var(--jp-jupyter-icon-color);
}

.jp-LauncherCard[data-category='Console'] .jp-LauncherCard-noKernelIcon {
  /* This color is copied from the console icon. */
  color: #0288d1;
}

.jp-LauncherCard-label {
  width: 100%;
  min-height: var(--jp-private-launcher-card-label-height);
  padding: 0 4px 4px;
  box-sizing: border-box;
  overflow: hidden;
}

.jp-LauncherCard-label p {
  min-height: 2.154em;
  word-break: break-word;
  text-align: center;
  color: var(--jp-ui-font-color1);
  line-height: 1.077em;
  font-size: calc(var(--jp-ui-font-size1) * 0.923);
  overflow: hidden;
  margin: auto;
}

/* kernel icons */

.jp-Launcher-kernelIcon {
  width: var(--jp-private-launcher-large-icon-size);
  height: var(--jp-private-launcher-large-icon-size);
  margin: 0;
  padding: 0;

  /* Preserve image aspect ratio */
  object-fit: contain;
}
</style><style>/*-----------------------------------------------------------------------------
| Copyright (c) Jupyter Development Team.
| Distributed under the terms of the Modified BSD License.
|----------------------------------------------------------------------------*/

.jp-CSVViewer {
  display: flex;
  flex-direction: column;
  outline: none;

  /* This is needed so that all font sizing of children done in ems is
   * relative to this base size */
  font-size: var(--jp-ui-font-size1);
}

.jp-CSVDelimiter {
  display: flex;
  flex: 0 0 auto;
  flex-direction: row;
  border: none;
  min-height: 24px;
  background: var(--jp-toolbar-background);
  z-index: 1;
}

.jp-CSVDelimiter .jp-CSVDelimiter-label {
  color: var(--jp-ui-font-color1);
  font-size: var(--jp-ui-font-size1);
  padding-left: 8px;
  padding-right: 8px;
}

.jp-CSVDelimiter .jp-CSVDelimiter-dropdown {
  flex: 0 0 auto;
  vertical-align: middle;
  border-radius: 0;
  outline: none;
  height: 20px;
  margin-top: 2px;
  margin-bottom: 2px;
}

.jp-CSVDelimiter .jp-CSVDelimiter-dropdown select.jp-mod-styled {
  color: var(--jp-ui-font-color1);
  background: var(--jp-layout-color1);
  font-size: var(--jp-ui-font-size1);
  height: 20px;
  padding-right: 20px;
}

.jp-CSVViewer-grid {
  flex: 1 1 auto;
}
</style><style>/*-----------------------------------------------------------------------------
| Copyright (c) Jupyter Development Team.
| Distributed under the terms of the Modified BSD License.
|----------------------------------------------------------------------------*/

/*-----------------------------------------------------------------------------
| Presentation Mode (.jp-mod-presentationMode)
|----------------------------------------------------------------------------*/

.jp-mod-presentationMode .jp-FileEditor {
  --jp-code-font-size: var(--jp-code-presentation-font-size);
}

.jp-FileEditorCodeWrapper {
  overflow: auto;
}

.jp-FileEditorCodeWrapper .cm-editor {
  height: 100%;
}
</style><style>/*-----------------------------------------------------------------------------
| Copyright (c) Jupyter Development Team.
| Distributed under the terms of the Modified BSD License.
|----------------------------------------------------------------------------*/

.jp-DebuggerBreakpoints {
  display: flex;
  flex-direction: column;
  min-height: 50px;
  padding-top: 3px;
}

.jp-DebuggerBreakpoints-body {
  padding: 10px;
  overflow: auto;
}

.jp-DebuggerBreakpoint {
  display: flex;
  align-items: center;
}

.jp-DebuggerBreakpoint:hover {
  background: var(--jp-layout-color2);
  cursor: pointer;
}

.jp-DebuggerBreakpoint-marker {
  font-size: 20px;
  padding-right: 5px;
  content: '●';
  color: var(--jp-error-color1);
}

.jp-DebuggerBreakpoint-source {
  white-space: nowrap;
  margin-right: 5px;
}

.jp-DebuggerBreakpoint-line {
  margin-left: auto;
}

.jp-DebuggerCallstackFrame {
  display: flex;
  align-items: center;
}

.jp-DebuggerCallstackFrame-name {
  white-space: nowrap;
  margin-right: 5px;
}

.jp-DebuggerCallstackFrame-location {
  margin-left: auto;
}

[data-jp-debugger='true'] .cm-breakpoint-gutter .cm-gutterElement:empty::after {
  content: '●';
  color: var(--jp-error-color1);
  opacity: 0;
}

.cm-gutter {
  cursor: default;
}

.cm-breakpoint-gutter .cm-gutterElement {
  color: var(--jp-error-color1);
  padding-left: 5px;
  font-size: 20px;
  position: relative;
  top: -5px;
}

[data-jp-debugger='true'].jp-Editor
  .cm-breakpoint-gutter
  .cm-gutterElement:empty:hover::after,
[data-jp-debugger='true']
  .jp-Notebook
  .jp-CodeCell.jp-mod-selected
  .cm-breakpoint-gutter:empty:hover::after,
[data-jp-debugger='true']
  .jp-Editor
  .cm-breakpoint-gutter
  .cm-gutterElement:empty:hover::after {
  opacity: 0.5;
}
</style><style>/*-----------------------------------------------------------------------------
| Copyright (c) Jupyter Development Team.
| Distributed under the terms of the Modified BSD License.
|----------------------------------------------------------------------------*/

.jp-DebuggerCallstack {
  display: flex;
  flex-direction: column;
  min-height: 50px;
  padding-top: 3px;
}

.jp-DebuggerCallstack-body {
  overflow: auto;
}

.jp-DebuggerCallstack-body ul {
  list-style: none;
  margin: 0;
  padding: 0;
  background: var(--jp-layout-color1);
  color: var(--jp-ui-font-color1);
  font-size: var(--jp-ui-font-size1);
}

.jp-DebuggerCallstack-body li {
  padding: 5px;
  padding-left: 8px;
}

.jp-DebuggerCallstack-body li.selected {
  color: white;
  background: var(--jp-brand-color1);
}

.jp-DebuggerCallstack .jp-ToolbarButtonComponent-label {
  display: none;
}
</style><style>/*-----------------------------------------------------------------------------
| Copyright (c) Jupyter Development Team.
| Distributed under the terms of the Modified BSD License.
|----------------------------------------------------------------------------*/

.jp-DebuggerEditor-highlight {
  text-shadow: 0 0 1px var(--jp-layout-color0);
  outline: 1px solid;
}

body[data-jp-theme-light='false'] .jp-DebuggerEditor-highlight {
  background-color: var(--md-brown-800);
  outline-color: var(--md-brown-600);
}

body[data-jp-theme-light='true'] .jp-DebuggerEditor-highlight {
  background-color: var(--md-brown-100);
  outline-color: var(--md-brown-300);
}

.jp-DebuggerEditor-marker {
  position: absolute;
  left: -34px;
  top: -1px;
  color: var(--jp-error-color1);
}
</style><style>/*-----------------------------------------------------------------------------
| Copyright (c) Jupyter Development Team.
| Distributed under the terms of the Modified BSD License.
|----------------------------------------------------------------------------*/

button.jp-Button.jp-mod-minimal.jp-TreeView.jp-TreeView,
button.jp-Button.jp-mod-minimal.jp-TreeView.jp-TableView {
  display: flex;
  align-items: center;
  -webkit-transition: 0.4s;
  transition: 0.4s;
  width: 35px;
}

.jp-ViewModeSelected .jp-Button,
.jp-PauseOnExceptions.lm-mod-toggled {
  background-color: var(--jp-inverse-layout-color3);
}

.jp-ViewModeSelected .jp-Button:hover,
.jp-PauseOnExceptions.lm-mod-toggled:hover {
  background-color: var(--jp-inverse-layout-color4);
}

.jp-ViewModeSelected .jp-Button .jp-icon3[fill],
.jp-PauseOnExceptions.lm-mod-toggled .jp-icon3[fill] {
  fill: var(--jp-layout-color1);
}
</style><style>/*-----------------------------------------------------------------------------
| Copyright (c) Jupyter Development Team.
| Distributed under the terms of the Modified BSD License.
|----------------------------------------------------------------------------*/

.jp-DebuggerKernelSources {
  min-height: 50px;
  margin-top: 3px;
}

[data-jp-debugger='true'].jp-Editor .jp-mod-readOnly {
  background: var(--jp-layout-color2);
  height: 100%;
}

.jp-DebuggerKernelSources-body [data-jp-debugger='true'].jp-Editor {
  height: 100%;
}

.jp-DebuggerKernelSources-body {
  height: 100%;
  overflow-y: auto;
}

.jp-DebuggerKernelSource-filterBox {
  padding: 0;
  flex: 0 0 auto;
  margin: 0;
  position: sticky;
  top: 0;
  background-color: var(--jp-layout-color1);
}

.jp-DebuggerKernelSource-filterBox-hidden {
  display: none;
}
</style><style>/*-----------------------------------------------------------------------------
| Copyright (c) Jupyter Development Team.
| Distributed under the terms of the Modified BSD License.
|----------------------------------------------------------------------------*/

.jp-SidePanel-header > h2 {
  /* Set font-size to override default h2 sizing but keeping default --jp-ui-font-size0 */
  font-size: 100%;
  font-weight: 600;
  margin: 0 auto 0 0;
  padding: 4px 10px;
}
</style><style>/*-----------------------------------------------------------------------------
| Copyright (c) Jupyter Development Team.
| Distributed under the terms of the Modified BSD License.
|----------------------------------------------------------------------------*/

.jp-DebuggerSources {
  min-height: 50px;
  margin-top: 3px;
}

[data-jp-debugger='true'].jp-Editor .jp-mod-readOnly {
  background: var(--jp-layout-color2);
  height: 100%;
}

.jp-DebuggerSources-body [data-jp-debugger='true'].jp-Editor {
  height: 100%;
}

.jp-DebuggerSources-body {
  height: 100%;
}

.jp-DebuggerSources-header-path {
  overflow: hidden;
  cursor: pointer;
  text-overflow: ellipsis;
  white-space: nowrap;
  font-size: var(--jp-ui-font-size0);
  color: var(--jp-ui-font-color1);
}
</style><style>/*-----------------------------------------------------------------------------
| Copyright (c) Jupyter Development Team.
| Distributed under the terms of the Modified BSD License.
|----------------------------------------------------------------------------*/
.jp-DebuggerVariables {
  display: flex;
  flex-direction: column;
  min-height: 50px;
  padding-top: 3px;
}

.jp-DebuggerVariables-body {
  display: flex;
  flex-direction: column;
  flex: 1 1 auto;
  min-height: 24px;
  overflow: auto;

  /* For absolute positioning of jp-DebuggerVariables-buttons. */
  position: relative;
}

.jp-DebuggerVariables-branch {
  list-style: none;
  margin: 0;
  padding: 0;
}

.jp-DebuggerVariables-body
  .jp-DebuggerVariables-branch
  .jp-DebuggerVariables-branch {
  grid-area: nested;
}

.jp-DebuggerVariables-body > .jp-DebuggerVariables-branch {
  padding-top: 0.1em;
}

.jp-DebuggerVariables-branch li {
  padding: 3px 0;
  cursor: pointer;
  color: var(--jp-content-font-color1);
  display: grid;
  grid-template:
    'collapser name detail'
    'nested nested nested';
  grid-template-columns: max-content max-content 1fr;
}

.jp-DebuggerVariables-branch li:not(:has(li:hover)):hover {
  background: var(--jp-layout-color2);
}

.jp-DebuggerVariables-collapser {
  width: 16px;
  grid-area: collapser;
  transform: rotate(-90deg);
  transition: transform 0.2s cubic-bezier(0.25, 0.46, 0.45, 0.94);
}

.jp-DebuggerVariables-collapser.jp-mod-expanded {
  transform: rotate(0);
}

.jp-DebuggerVariables-buttons {
  position: absolute;
  top: 0;
  right: 8px;
  margin-top: 1px;
}

.jp-DebuggerVariables-name {
  color: var(--jp-mirror-editor-attribute-color);
  grid-area: name;
}

.jp-DebuggerVariables-name::after {
  content: ':';
  margin-right: 5px;
}

.jp-DebuggerVariables-detail {
  /* detail contains value for primitive types or name of the type otherwise */
  color: var(--jp-mirror-editor-string-color);
}

.jp-DebuggerVariables-renderVariable {
  border: none;
  background: none;
  cursor: pointer;
  transform-origin: center center;
  transition: transform 0.2s cubic-bezier(0.4, 0, 1, 1);
}

.jp-DebuggerVariables-renderVariable:active {
  transform: scale(1.35);
}

.jp-DebuggerVariables-renderVariable:hover {
  background-color: var(--jp-layout-color2);
}

.jp-DebuggerVariables-renderVariable:disabled {
  cursor: default;
}

.jp-DebuggerVariables-branch li > .jp-DebuggerVariables-branch {
  margin-left: 12px;
}

.jp-DebuggerVariables-grid {
  flex: 1 1 auto;
}

.jp-DebuggerVariables-grid .lm-DataGrid {
  border: none;
}

.jp-DebuggerVariables-colorPalette {
  visibility: hidden;
  z-index: -999;
  position: absolute;
  left: -999px;
  top: -999px;
}

.jp-DebuggerVariables-colorPalette .jp-mod-void {
  color: var(--jp-layout-color1);
}

.jp-DebuggerVariables-colorPalette .jp-mod-background {
  color: var(--jp-rendermime-table-row-background);
}

.jp-DebuggerVariables-colorPalette .jp-mod-header-background {
  color: var(--jp-layout-color2);
}

.jp-DebuggerVariables-colorPalette .jp-mod-grid-line {
  color: var(--jp-border-color3);
}

.jp-DebuggerVariables-colorPalette .jp-mod-header-grid-line {
  color: var(--jp-border-color3);
}

.jp-DebuggerVariables-colorPalette .jp-mod-selection {
  /* TODO: Fix JupyterLab light theme (alpha) so this can be a variable. */
  color: rgba(3, 169, 244, 0.2);
}

.jp-DebuggerVariables-colorPalette .jp-mod-text {
  color: var(--jp-content-font-color0);
}

.jp-VariableRendererPanel {
  overflow: auto;
}

.jp-VariableRendererPanel-renderer {
  overflow: auto;
  height: 100%;
}

.jp-VariableRenderer-TrustButton[aria-pressed='true'] {
  box-shadow: inset 0 var(--jp-border-width) 4px
    rgba(
      var(--jp-shadow-base-lightness),
      var(--jp-shadow-base-lightness),
      var(--jp-shadow-base-lightness),
      0.6
    );
}

.jp-DebuggerRichVariable div[data-mime-type='text/plain'] > pre {
  white-space: normal;
}
</style><style>/*-----------------------------------------------------------------------------
| Copyright (c) Jupyter Development Team.
| Distributed under the terms of the Modified BSD License.
|----------------------------------------------------------------------------*/

.jp-left-truncated {
  overflow: hidden;
  text-overflow: ellipsis;
  direction: rtl;
}

#jp-debugger .jp-switch-label {
  margin-right: 0;
}

.jp-DebuggerBugButton[aria-pressed='true'] path {
  fill: var(--jp-warn-color0);
}
</style><style>/*-----------------------------------------------------------------------------
| Copyright (c) Jupyter Development Team.
| Distributed under the terms of the Modified BSD License.
|----------------------------------------------------------------------------*/

.jp-LogConsolePanel {
  overflow-y: auto;
}

.jp-LogConsolePanel .jp-OutputArea-child {
  border-bottom: 1px solid var(--jp-border-color3);
}

.jp-LogConsolePanel .jp-OutputArea-prompt {
  width: 85px;
  color: var(--jp-ui-font-color2);
  font-size: 13px;
  padding: 2px;
}

.jp-LogConsolePanel .jp-OutputArea-prompt[data-log-level='info'] {
  background-color: var(--jp-info-color1);
  color: var(--jp-ui-inverse-font-color1);
}

.jp-LogConsolePanel .jp-OutputArea-prompt[data-log-level='warning'] {
  background-color: var(--jp-warn-color1);
  color: var(--jp-ui-inverse-font-color1);
}

.jp-LogConsolePanel .jp-OutputArea-prompt[data-log-level='error'] {
  background-color: var(--jp-error-color1);
  color: var(--jp-ui-inverse-font-color1);
}

.jp-LogConsolePanel .jp-OutputArea-prompt[data-log-level='critical'] {
  background-color: var(--jp-error-color0);
  color: var(--jp-ui-inverse-font-color0);
}

.jp-LogConsoleListPlaceholder {
  padding: 5px;
  font-size: 13px;
  color: var(--jp-ui-font-color3);
}

.jp-Scrolling {
  overflow-y: auto;
}
</style><style>/*
 * Copyright (c) Jupyter Development Team.
 * Distributed under the terms of the Modified BSD License.
 */

/*
  Main widget layout and styling
*/

.jp-extensionmanager-view .lm-SplitPanel-child {
  overflow-y: auto;
}

.jp-extensionmanager-header {
  width: 100%;
}

.jp-extensionmanager-title {
  display: flex;
  margin: 4px 10px 0;
}

.jp-extensionmanager-title svg {
  width: 14px;
}

.jp-extensionmanager-title .jp-icon3[fill] {
  fill: currentcolor;
}

.jp-extensionmanager-path {
  display: inline flex;
  padding-left: 4px;
}

.jp-extensionmanager-header .jp-FilterBox {
  margin: 4px 10px 0;
}

.jp-extensionmanager-disclaimer {
  padding: 0 8px;
  min-height: 160px;
}

.jp-extensionmanager-disclaimer a {
  color: var(--jp-content-link-color);
}

.jp-extensionmanager-disclaimer a:hover {
  color: var(--jp-content-link-color);
  text-decoration: underline;
}

.jp-extensionmanager-disclaimer .jp-Button {
  margin: 0 5px;
}

/*
  List view layout and styling
*/

.jp-extensionmanager-listview-wrapper {
  margin: 0;
  padding: 0;
  display: flex;
  flex-direction: column;
  height: 100%;
}

.jp-extensionmanager-listview {
  list-style-type: none;
  margin: 0;
  padding: 0;
  min-height: 0;
  flex: 1 1 auto;
  overflow: auto;
}

/*
  Section headers
*/

.jp-extensionmanager-view .jp-SidePanel-header .jp-extensionmanager-error {
  text-transform: none;
  font-size: var(--jp-ui-font-size1);
  font-weight: 400;
}

/*
  Error messages
*/

.jp-extensionmanager-view .jp-extensionmanager-error pre {
  white-space: pre-wrap;
}

/*
  List view pagination styling
*/

.jp-extensionmanager-view ul.pagination {
  display: flex;
  justify-content: center;
  padding-left: 0;
  padding-right: 0;
}

.jp-extensionmanager-pagination li {
  display: inline-block;
}

/* stylelint-disable selector-max-type */
.jp-extensionmanager-pagination li > a {
  padding: 0 5px;
  cursor: pointer;
}
/* stylelint-enable selector-max-type */

.jp-extensionmanager-pagination li.active > a {
  background: var(--jp-brand-color1);
  color: var(--jp-layout-color1);
}

.jp-extensionmanager-pagination li > a:hover {
  background-color: var(--jp-layout-color2);
}

.jp-extensionmanager-pagination .break > a {
  cursor: default;
}

.jp-extensionmanager-installedlist,
.jp-extensionmanager-searchresults {
  min-height: 100px;
}

/*
  Entry layout and styling
*/

.jp-extensionmanager-entry {
  padding: 8px;
  border-bottom: solid var(--jp-border-width) var(--jp-border-color2);
}

.jp-extensionmanager-entry-description {
  min-width: 0;
  flex-grow: 1;
  font-size: var(--jp-ui-font-size1);
  color: var(--jp-ui-font-color2);
  font-weight: 400;
}

.jp-extensionmanager-entry-title {
  display: flex;
  flex-direction: row;
  justify-content: space-between;
  align-items: center;
}

.jp-extensionmanager-entry.jp-extensionmanager-entry-should-be-uninstalled {
  background-color: var(--jp-error-color3);
}

/* Precedence order update/error/warning matters! */

.jp-extensionmanager-entry.jp-extensionmanager-entry-update {
  border-left: solid 8px var(--jp-brand-color2);
  padding-left: 4px;
}

.jp-extensionmanager-entry.jp-extensionmanager-entry-error {
  border-left: solid 8px var(--jp-error-color2);
  padding-left: 4px;
}

.jp-extensionmanager-entry-name {
  font-size: var(--jp-ui-font-size1);
  font-weight: 600;
  padding: 0 8px 0 0;
  margin-bottom: 4px;
  overflow-wrap: anywhere;
}

.jp-extensionmanager-entry-name a:link {
  color: var(--jp-content-link-color);
  text-decoration: none;
}

.jp-extensionmanager-entry-name a:visited {
  color: var(--jp-content-link-color);
  text-decoration: none;
}

.jp-extensionmanager-entry-name a:hover {
  color: var(--jp-content-link-color);
  text-decoration: underline;
}

.jp-extensionmanager-loader,
.jp-extensionmanager-error,
.jp-extensionmanager-listview-message {
  padding: 4px 12px;
}

.jp-extensionmanager-listview-message {
  font-size: var(--jp-ui-font-size1);
}

.jp-extensionmanager-entry-content {
  display: flex;
  flex-direction: column;
  justify-content: space-between;
}

/*
  Pending entry progress indicator
*/

.jp-extensionmanager-pending {
  height: 4px;
  width: 100%;
  position: relative;
  overflow: hidden;
  flex: 0 0 auto;
  background-color: var(--jp-layout-color1);
}

.jp-extensionmanager-pending.jp-mod-hasPending::before {
  display: block;
  position: absolute;
  content: '';
  left: -200px;
  width: 200px;
  height: 4px;
  border-radius: 4px;
  background-color: var(--jp-brand-color1);
  animation: loading 2s linear infinite;
}

@keyframes loading {
  0% {
    left: -200px;
    width: 30%;
  }

  50% {
    width: 30%;
  }

  70% {
    width: 70%;
  }

  80% {
    left: 50%;
  }

  95% {
    left: 120%;
  }

  100% {
    left: 100%;
  }
}

/*
  Disclaimer buttons
*/

.jp-extensionmanager-disclaimer-disable {
  background-color: var(--jp-reject-color-normal) !important;
  color: white !important;
  border: 0;
  background-image: none !important;
}

.jp-extensionmanager-disclaimer-enable {
  background-color: var(--jp-error-color1) !important;
  color: white !important;
  border: 0;
  background-image: none !important;
}

/*
  Entry buttons layout and styling
*/

.jp-extensionmanager-entry-buttons {
  display: flex;
  flex-direction: row;
  padding-block-start: 4px;
  justify-content: flex-end;
}

/*
  Rebuild prompt dialog
*/

.jp-extensionmanager-buildprompt {
  background-color: var(--jp-brand-color1);
  color: var(--jp-ui-inverse-font-color1);
  padding: 4px 8px;
  font-size: var(--jp-ui-font-size1);
  font-weight: 400;
}

.jp-extensionmanager-buildprompt button {
  border: none;
  background-color: transparent;
  color: var(--jp-ui-inverse-font-color1);
  font-size: var(--jp-ui-font-size1);
  font-weight: 600;
  float: right;
  margin: 4px;
}

/*
  Generic dialog
*/

.jp-extensionmanager-dialog .jp-extensionmanager-dialog-subheader {
  font-size: var(--jp-ui-font-size1);
  font-weight: 600;
  color: var(--jp-ui-font-color0);
}
</style><style>/*-----------------------------------------------------------------------------
| Copyright (c) Jupyter Development Team.
| Distributed under the terms of the Modified BSD License.
|----------------------------------------------------------------------------*/

#filebrowser.jp-mod-restoring .jp-DirListing-content {
  display: none;
}

.jp-FileBrowser-filterBox {
  padding: 0;
  flex: 0 0 auto;
}

.jp-FileBrowser-filterBox input {
  line-height: 24px;
}
</style><style>/*-----------------------------------------------------------------------------
| Copyright (c) Jupyter Development Team.
| Distributed under the terms of the Modified BSD License.
|----------------------------------------------------------------------------*/

/* Document styles */
.jp-HTMLViewer {
  overflow: hidden;
  min-width: 100px;
  min-height: 100px;
  width: 100%;
  height: 100%;
}

.jp-HTMLViewer > iframe {
  border: none;
}

/*
When drag events occur, `lm-mod-override-cursor` is added to the body.
Because iframes steal all cursor events, the following two rules are necessary
to suppress pointer events while resize drags are occurring. There may be a
better solution to this problem.
*/
body.lm-mod-override-cursor .jp-HTMLViewer {
  position: relative;
}

body.lm-mod-override-cursor .jp-HTMLViewer::before {
  content: '';
  position: absolute;
  top: 0;
  left: 0;
  right: 0;
  bottom: 0;
  background: transparent;
}
</style><style>/*-----------------------------------------------------------------------------
| Copyright (c) Jupyter Development Team.
| Distributed under the terms of the Modified BSD License.
|----------------------------------------------------------------------------*/

.jp-ImageViewer {
  overflow: auto;
}

.jp-ImageViewer > img {
  box-sizing: border-box;
  transform-origin: top left;
}
</style><style>/* Copyright (c) Jupyter Development Team.
Distributed under the terms of the Modified BSD License. */

.jp-RenderedJavaScript {
  padding: var(--jp-code-padding);
}
</style><style>/**
  Copyright (c) Jupyter Development Team.
  Distributed under the terms of the Modified BSD License.
*/

/* Base styles */
.jp-RenderedJSON {
  width: 100%;
  height: 100%;
  padding: 0;
  overflow: hidden;
}

/* Override react-json-tree inline styles */
.jp-RenderedJSON *:not(mark) {
  background-color: transparent !important;
}

.jp-RenderedJSON ul {
  margin: 0 !important;
}

.jp-RenderedJSON .container {
  position: relative;
  width: 100%;
  min-height: 30px;
}

.jp-RenderedJSON .filter {
  position: absolute;
  top: 0;
  right: 0;
  width: 33%;
  max-width: 150px;
  z-index: 10;
}

/* Document styles */
.jp-MimeDocument .jp-RenderedJSON {
  padding: 5px 5px 5px 20px;
  overflow-y: auto;
}

.jp-RenderedJSON mark.jp-mod-selected {
  background-color: var(--jp-search-unselected-match-background-color);
  color: var(--jp-search-unselected-match-color);
}

/* Output styles */

/* .jp-OutputArea .jp-RenderedJSON {

} */
</style><style>/*
 * Copyright (c) Jupyter Development Team.
 * Distributed under the terms of the Modified BSD License.
 */

/*-----------------------------------------------------------------------------
| Variables
|----------------------------------------------------------------------------*/

:root {
  --jp-private-running-item-height: 24px;
}

/*-----------------------------------------------------------------------------
| Copyright (c) Jupyter Development Team.
| Distributed under the terms of the Modified BSD License.
|----------------------------------------------------------------------------*/

.jp-RunningSessions {
  display: flex;
  flex-direction: column;
  min-width: var(--jp-sidebar-min-width);
  color: var(--jp-ui-font-color1);
  background: var(--jp-layout-color1);

  /* This is needed so that all font sizing of children done in ems is
   * relative to this base size */
  font-size: var(--jp-ui-font-size1);
}

.jp-RunningSessions > .jp-SidePanel-toolbar {
  justify-content: flex-end;
}

.jp-RunningSessions-section {
  min-height: 50px;
  overflow: auto;
}

.jp-RunningSessions-sectionContainer {
  margin: 0;
  padding: 0;
  overflow: auto;
}

.jp-RunningSessions-sectionList {
  display: block;
  margin: 0;
  padding: 0;
  list-style-type: none;
}

.jp-RunningSessions-item {
  display: flex;
  flex-direction: row;
  color: var(--jp-ui-font-color1);
  height: var(--jp-private-running-item-height);
  line-height: var(--jp-private-running-item-height);
  padding: 0 8px;
}

.jp-RunningSessions-item:hover {
  background-color: var(--jp-layout-color2);
  cursor: pointer;
}

.jp-RunningSessions-item.jp-mod-running-child {
  padding-left: 40px;
}

.jp-RunningSessions-item.jp-mod-kernel:not(.jp-mod-running-child) {
  user-select: none;
}

.jp-RunningSessions-item img {
  height: 16px;
  margin-top: 4px;
}

.jp-RunningSessions-itemLabel {
  font-size: var(--jp-ui-font-size1);
  flex: 1 1 55%;
  padding: 0 4px;
  text-overflow: ellipsis;
  overflow: hidden;
  white-space: nowrap;
}

.jp-RunningSessions-itemLabel:focus {
  background-color: var(--jp-layout-color2);
}

.jp-RunningSessions-itemDetail {
  font-size: var(--jp-ui-font-size1);
  flex: 1 1 45%;
  padding: 0 4px;
  text-overflow: ellipsis;
  overflow: hidden;
  white-space: nowrap;
}

.jp-RunningSessions-item .jp-RunningSessions-itemShutdown {
  border-radius: 0;
}

.jp-RunningSessions-item:not(:hover) .jp-RunningSessions-itemShutdown {
  visibility: hidden;
}

.jp-RunningSessions-sectionList
  .jp-RunningSessions-item
  .jp-Button.jp-RunningSessions-itemShutdown:hover {
  background: var(--jp-layout-color3);
}

.jp-RunningSessions-shutdownAll.jp-mod-styled
  > .jp-ToolbarButtonComponent-label {
  color: var(--jp-warn-color1);
  background-color: transparent;
  border-radius: 2px;
  overflow: hidden;
  white-space: nowrap;
  text-overflow: ellipsis;
}

.jp-RunningSessions-shutdownAll.jp-mod-styled:hover
  > .jp-ToolbarButtonComponent-label {
  background-color: var(--jp-layout-color2);
}

.jp-RunningSessions-shutdownAll.jp-mod-styled:focus
  > .jp-ToolbarButtonComponent-label {
  border: none;
  box-shadow: none;
  background-color: var(--jp-layout-color2);
}

.jp-RunningSessions-shutdownAll.jp-mod-styled.jp-mod-disabled
  > .jp-ToolbarButtonComponent-label {
  color: var(--jp-ui-font-color2);
}

.jp-RunningSessions-shutdownAll.jp-mod-styled.jp-mod-disabled:hover
  > .jp-ToolbarButtonComponent-label {
  background: none;
}
</style><style>/*-----------------------------------------------------------------------------
| Copyright (c) Jupyter Development Team.
| Distributed under the terms of the Modified BSD License.
|----------------------------------------------------------------------------*/

.jp-LSPExtension-FormGroup-content > select {
  margin: 0 12px;
}
</style><style>/*-----------------------------------------------------------------------------
| Copyright (c) Jupyter Development Team.
| Distributed under the terms of the Modified BSD License.
|----------------------------------------------------------------------------*/

:root {
  --jp-private-markdownviewer-padding: 32px;
}

.jp-Document .jp-MarkdownViewer .jp-RenderedMarkdown {
  padding-top: var(--jp-private-markdownviewer-padding);
  padding-right: var(--jp-private-markdownviewer-padding);
  padding-bottom: var(--jp-private-markdownviewer-padding);
  padding-left: var(--jp-private-markdownviewer-padding);
  overflow: auto;
}

/*-----------------------------------------------------------------------------
| Presentation Mode (.jp-mod-presentationMode)
|----------------------------------------------------------------------------*/

.jp-mod-presentationMode .jp-MarkdownViewer .jp-RenderedHTMLCommon {
  --jp-content-font-size1: var(--jp-content-presentation-font-size1);
  --jp-code-font-size: var(--jp-code-presentation-font-size);
}
</style><style>/*
 * Copyright (c) Jupyter Development Team.
 * Distributed under the terms of the Modified BSD License.
 */

@font-face /* 0 */ {
  font-display: swap;
  font-family: MJXZERO;
  src: url(http://localhost:8888/static/notebook/481e39042508ae313a60.woff)
    format('woff');
}

@font-face /* 1 */ {
  font-display: swap;
  font-family: MJXTEX;
  src: url(http://localhost:8888/static/notebook/1cb1c39ea642f26a4dfe.woff)
    format('woff');
}

@font-face /* 2 */ {
  font-display: swap;
  font-family: MJXTEX-B;
  src: url(http://localhost:8888/static/notebook/88b98cad3688915e50da.woff)
    format('woff');
}

@font-face /* 3 */ {
  font-display: swap;
  font-family: MJXTEX-I;
  src: url(http://localhost:8888/static/notebook/a009bea404f7a500ded4.woff)
    format('woff');
}

@font-face /* 4 */ {
  font-display: swap;
  font-family: MJXTEX-MI;
  src: url(http://localhost:8888/static/notebook/355254db9ca10a09a3b5.woff)
    format('woff');
}

@font-face /* 5 */ {
  font-display: swap;
  font-family: MJXTEX-BI;
  src: url(http://localhost:8888/static/notebook/8ea8dbb1b02e6f730f55.woff)
    format('woff');
}

@font-face /* 6 */ {
  font-display: swap;
  font-family: 'MJXTEX-S1';
  src: url(http://localhost:8888/static/notebook/c49810b53ecc0d87d802.woff)
    format('woff');
}

@font-face /* 7 */ {
  font-display: swap;
  font-family: 'MJXTEX-S2';
  src: url(http://localhost:8888/static/notebook/30e889b58cbc51adfbb0.woff)
    format('woff');
}

@font-face /* 8 */ {
  font-display: swap;
  font-family: 'MJXTEX-S3';
  src: url(http://localhost:8888/static/notebook/5cda41563a095bd70c78.woff)
    format('woff');
}

@font-face /* 9 */ {
  font-display: swap;
  font-family: 'MJXTEX-S4';
  src: url(http://localhost:8888/static/notebook/3bc6ecaae7ecf6f8d7f8.woff)
    format('woff');
}

@font-face /* 10 */ {
  font-display: swap;
  font-family: MJXTEX-A;
  src: url(http://localhost:8888/static/notebook/3de784d07b9fa8f104c1.woff)
    format('woff');
}

@font-face /* 11 */ {
  font-display: swap;
  font-family: MJXTEX-C;
  src: url(http://localhost:8888/static/notebook/26683bf201fb258a2237.woff)
    format('woff');
}

@font-face /* 12 */ {
  font-display: swap;
  font-family: MJXTEX-CB;
  src: url(http://localhost:8888/static/notebook/af04542b29eaac04550a.woff)
    format('woff');
}

@font-face /* 13 */ {
  font-display: swap;
  font-family: MJXTEX-FR;
  src: url(http://localhost:8888/static/notebook/870673df72e70f87c91a.woff)
    format('woff');
}

@font-face /* 14 */ {
  font-display: swap;
  font-family: MJXTEX-FRB;
  src: url(http://localhost:8888/static/notebook/721921bab0d001ebff02.woff)
    format('woff');
}

@font-face /* 15 */ {
  font-display: swap;
  font-family: MJXTEX-SS;
  src: url(http://localhost:8888/static/notebook/b418136e3b384baaadec.woff)
    format('woff');
}

@font-face /* 16 */ {
  font-display: swap;
  font-family: MJXTEX-SSB;
  src: url(http://localhost:8888/static/notebook/32792104b5ef69eded90.woff)
    format('woff');
}

@font-face /* 17 */ {
  font-family: MJXTEX-SSI;
  src: url(http://localhost:8888/static/notebook/fc6ddf5df402b263cfb1.woff)
    format('woff');
}

@font-face /* 18 */ {
  font-display: swap;
  font-family: MJXTEX-SC;
  src: url(http://localhost:8888/static/notebook/af96f67d7accf5fd2a4a.woff)
    format('woff');
}

@font-face /* 19 */ {
  font-display: swap;
  font-family: MJXTEX-T;
  src: url(http://localhost:8888/static/notebook/c56da8d69f1a0208b8e0.woff)
    format('woff');
}

@font-face /* 20 */ {
  font-display: swap;
  font-family: MJXTEX-V;
  src: url(http://localhost:8888/static/notebook/72bc573386dd1d48c5bb.woff)
    format('woff');
}

@font-face /* 21 */ {
  font-display: swap;
  font-family: MJXTEX-VB;
  src: url(http://localhost:8888/static/notebook/36e0d72d8a7afc696a3e.woff)
    format('woff');
}
</style><style>/*-----------------------------------------------------------------------------
| Copyright (c) Jupyter Development Team.
| Distributed under the terms of the Modified BSD License.
|----------------------------------------------------------------------------*/

.jp-OutputArea-output.jp-RenderedLatex .MJX-DISPLAY {
  margin: 0;
  text-align: left;
}
</style><style>/*-----------------------------------------------------------------------------
| Copyright (c) 2014-2019, Jupyter Development Team.
|
| Distributed under the terms of the Modified BSD License.
|----------------------------------------------------------------------------*/

.jp-MetadataForm {
  width: 100%;
  color: var(--jp-ui-font-color1);
  background: var(--jp-layout-color1);
}

.jp-MetadataForm-placeholder {
  display: flex;
  align-items: center;
  justify-content: center;
}

.jp-MetadataForm-placeholderContent {
  padding: 8px;
}

.jp-MetadataForm .panel-danger.errors {
  display: none;
}
</style><style>/*-----------------------------------------------------------------------------
| Copyright (c) Jupyter Development Team.
| Distributed under the terms of the Modified BSD License.
|----------------------------------------------------------------------------*/

.jp-PDFContainer iframe {
  position: absolute;
  z-index: 0;
  top: 0;
  right: 0;
  width: 100%;
  height: 100%;
}

.jp-OutputArea .jp-PDFContainer {
  min-height: 512px;
}

/*
When drag events occur, `lm-mod-override-cursor` is added to the body.
This reuses the same CSS selector logic as jp-IFrame to prevent embedded
PDFs from swallowing cursor events.
*/
body.lm-mod-override-cursor .jp-PDFContainer {
  position: relative;
}

body.lm-mod-override-cursor .jp-PDFContainer::before {
  content: '';
  position: absolute;
  z-index: 10;
  top: 0;
  left: 0;
  right: 0;
  bottom: 0;
  background: transparent;
}
</style><style>/*-----------------------------------------------------------------------------
| Copyright (c) Jupyter Development Team.
| Distributed under the terms of the Modified BSD License.
|----------------------------------------------------------------------------*/

/*-----------------------------------------------------------------------------
| Variables
|----------------------------------------------------------------------------*/

:root {
  --jp-private-inspector-tab-height: 24px;
  --jp-private-inspector-tab-width: 60px;
}

/*-----------------------------------------------------------------------------
| Inspector
|----------------------------------------------------------------------------*/

.jp-Inspector {
  outline: none;
  min-width: 120px;
  min-height: 120px;
}

.jp-Inspector-content {
  background: var(--jp-layout-color1);
  border: none;
  padding: 8px;
  width: 100%;
  height: 100%;
  overflow: auto;
}

.jp-Inspector-content pre {
  font-size: var(--jp-code-font-size);
  line-height: var(--jp-code-line-height);
  margin: 0;
  white-space: pre-wrap;
}

.jp-Inspector-default-content {
  display: flex;
  align-items: center;
  justify-content: center;
  font-size: xx-large;
  font-style: italic;
  color: darkgray;
}
</style><style>/*-----------------------------------------------------------------------------
| Copyright (c) Jupyter Development Team.
| Distributed under the terms of the Modified BSD License.
|----------------------------------------------------------------------------*/

:root {
  --jp-private-settingeditor-debug-height: 28px;
  --jp-private-settingeditor-key-width: 150px;
  --jp-private-settingeditor-legend-height: 16px;
  --jp-private-settingeditor-row-height: 16px;
  --jp-private-settingeditor-toolbar-height: 28px;
  --jp-private-settingeditor-type-width: 75px;
  --jp-private-settingeditor-modifier-indent: 5px;
  --jp-private-settingeditor-header-spacing: 8px;
}

.jp-SettingsPanel,
#json-setting-editor {
  min-width: 360px;
  min-height: 240px;
  background-color: var(--jp-layout-color0);
  color: var(--jp-ui-font-color0);
  margin-top: -1px;
  outline: none;

  /* This is needed so that all font sizing of children done in ems is
   * relative to this base size */
  font-size: var(--jp-ui-font-size1);
}

#setting-editor > .lm-Widget,
#json-setting-editor > .lm-Widget {
  position: absolute;
  top: 0;
  bottom: 0;
  left: 0;
  right: 0;
}

#setting-editor .lm-SplitPanel-handle,
#json-setting-editor .lm-SplitPanel-handle {
  background-color: var(--jp-border-color2);
}

/** Plugin list **/

.jp-PluginList {
  min-width: 175px;
  max-width: 275px;
  background-color: var(--jp-layout-color2);
}

.jp-PluginList-wrapper {
  overflow-y: auto;
  height: 100%;
}

.jp-PluginList ul {
  color: var(--jp-ui-font-color1);
  font-size: var(--jp-ui-font-size1);
  list-style-type: none;
  margin: 0;
  padding: 0;
  overflow-y: auto;
  position: relative;
  top: 0;
  bottom: 0;
  left: 0;
  right: 0;
}

.jp-PluginList .jp-PluginList-header {
  border-bottom: var(--jp-border-width) solid var(--jp-border-color2);
  border-top: var(--jp-border-width) solid var(--jp-border-color2);
  color: var(--jp-ui-font-color1);
}

.jp-PluginList .jp-PluginList-noResults,
.jp-PluginList .jp-PluginList-header {
  flex: 0 0 auto;
  font-weight: 600;
  text-transform: uppercase;
  letter-spacing: 1px;
  font-size: var(--jp-ui-font-size0);
  padding: 8px 8px 8px 12px;
  margin: 10px;
  border-bottom: var(--jp-border-width) solid var(--jp-border-color2);
  border-top: var(--jp-border-width) solid var(--jp-border-color2);
  color: var(--jp-ui-font-color1);
}

.jp-PluginList .jp-SelectedIndicator {
  width: 3px;
  background-color: var(--jp-brand-color1);
  height: var(--jp-cell-collapser-min-height);
  visibility: hidden;
}

.jp-PluginList .jp-mod-selected .jp-SelectedIndicator {
  visibility: inherit;
}

.jp-PluginList .jp-ErrorPlugin .jp-SelectedIndicator {
  background-color: var(--jp-error-color0);
}

.jp-PluginList-icon {
  display: flex;
  height: 20px;
  width: 20px;
  margin-right: 3px;
  position: relative;
}

.jp-PluginList-wrapper > .jp-FilterBox {
  margin: 8px 12px 0;
}

.jp-PluginList mark {
  background-color: transparent;
  font-weight: bold;
  color: var(--jp-ui-font-color1);
}

.jp-PluginList-entry {
  display: flex;
  flex-direction: column;
  border: 1px solid transparent;
  background: transparent;
  overflow: hidden;
  padding: 4px 0 4px 4px;
  white-space: nowrap;
}

.jp-PluginList-entry:hover {
  background: var(--jp-layout-color1);
}

.jp-PluginList-entry li {
  margin-left: 27px;
  margin-top: 5px;
  color: var(--jp-ui-font-color1);
  overflow-x: hidden;
  text-overflow: ellipsis;
}

.jp-PluginList-entry-label {
  display: flex;
}

.jp-PluginList-entry-label-text {
  text-overflow: ellipsis;
  overflow-x: hidden;
  white-space: nowrap;
  color: var(--jp-ui-font-color1);
  line-height: var(--jp-cell-collapser-min-height);
}

/** Raw editor **/

.jp-SettingsRawEditor .jp-Toolbar {
  color: var(--jp-ui-font-color0);
  font-size: var(--jp-ui-font-size1);
  height: var(--jp-private-settingeditor-toolbar-height);
  max-height: var(--jp-private-settingeditor-toolbar-height);
}

.jp-SettingsRawEditor .jp-Toolbar .jp-ToolbarButtonComponent-label {
  display: none;
}

.jp-SettingsRawEditor .jp-Toolbar-item {
  margin-top: 1px;
  align-items: center;
}

.jp-SettingsRawEditor .jp-Inspector {
  border-top: 2px solid var(--jp-layout-color2);
  min-height: var(--jp-private-settingeditor-debug-height);
  max-height: var(--jp-private-settingeditor-debug-height);
}

.jp-SettingsRawEditor .jp-Inspector.jp-SettingsDebug .jp-RenderedHTMLCommon {
  padding: 2px 5px 2px 0;
  width: 100%;
}

.jp-SettingsRawEditor .jp-Inspector.jp-SettingsDebug .jp-RenderedHTMLCommon p {
  text-align: right;
}

.jp-SettingsRawEditor .cm-editor {
  height: 100%;
}

/** Panel **/

.jp-SettingsPanel .checkbox p {
  font-size: var(--jp-content-font-size1);
}

.jp-SettingsPanel .checkbox {
  display: flex;
  flex-direction: column-reverse;
}

.jp-SettingsPanel .form-group {
  display: flex;
  padding: 4px 8px 4px var(--jp-private-settingeditor-modifier-indent);
  margin-top: 5px;
}

.jp-SettingsPanel .jp-SettingsEditor {
  padding: 20px;
}

.jp-SettingsPanel {
  overflow-y: auto;
  height: 100%;
}

.jp-SettingsForm {
  position: relative;
}

.jp-SettingsForm > .rjsf > .form-group {
  padding-top: 0;
  margin-top: 0;
}

/** Settings header **/

.jp-SettingsHeader {
  display: grid;
  grid-template:
    'title buttonbar'
    'description buttonbar';
  grid-template-columns: 1fr max-content;
  padding: 0 var(--jp-private-settingeditor-header-spacing);
  border-bottom: 1px solid var(--jp-border-color2);
}

.jp-SettingsHeader-title {
  font-size: var(--jp-content-font-size3);
  color: var(--jp-ui-font-color0);
  font-weight: 400;
  grid-area: title;
  padding: 0;
  margin-top: calc(var(--jp-private-settingeditor-header-spacing) * 2);
  margin-bottom: calc(var(--jp-private-settingeditor-header-spacing) / 2);
}

.jp-SettingsHeader-description {
  grid-area: description;
  padding-bottom: var(--jp-private-settingeditor-header-spacing);
  color: var(--jp-ui-font-color1);
}

.jp-SettingsHeader-buttonbar {
  margin: auto var(--jp-private-settingeditor-header-spacing);
  grid-row: span 2;
}

.jp-SettingsHeader-buttonbar > .jp-RestoreButton {
  background-color: var(--jp-warn-color-normal);
  border: 0;
  color: var(--jp-ui-inverse-font-color0);
}

.jp-PluginEditor {
  overflow: auto;
}

/** Placeholder **/

.jp-SettingsEditor-placeholder {
  text-align: center;
}

.jp-SettingsEditor-placeholderContent {
  color: var(--jp-content-font-color2);
  padding: 8px;
}

.jp-SettingsEditor-placeholderContent > h3 {
  margin-bottom: var(--jp-content-heading-margin-bottom);
}
</style><style>/*-----------------------------------------------------------------------------
| Copyright (c) Jupyter Development Team.
| Distributed under the terms of the Modified BSD License.
|----------------------------------------------------------------------------*/

/* Shortcut Input Style */

.jp-Shortcuts-InputBox {
  display: inline-flex;
  padding-top: 2px;
}

.jp-Shortcuts-InputBoxNew {
  margin-left: 10px;
}

.jp-mod-hidden {
  display: none;
}

@keyframes slide-animation {
  from {
    width: 0;
    left: 0;
  }

  to {
    width: 120px;
    left: 0;
  }
}

.jp-Shortcuts-Input {
  animation-duration: 0.5s;
  animation-timing-function: ease-out;
  animation-name: slide-animation;
  border-width: var(--jp-border-width);
  border-color: var(--jp-border-color3);
  border-style: solid;
  background-color: var(--jp-layout-color0);
  margin-left: auto;
  padding-left: 10px;
  width: 120px;
  height: 25px;
  line-height: 25px;
  display: block;
}

.jp-Shortcuts-Input:focus {
  outline: none;
  color: var(--jp-content-font-color1);
  border-color: var(--jp-brand-color2);
}

.jp-mod-unavailable-Input:focus {
  border-color: var(--jp-error-color2);
}

.jp-Shortcuts-InputText {
  overflow-x: hidden;
  overflow-y: hidden;
  margin: 0;
  margin-top: 4px;
  padding: 0 5px;
  height: 17px;
  line-height: 17px;
  width: fit-content;
}

.jp-mod-selected-InputText {
  background-color: var(--jp-brand-color3);
  overflow: hidden;
}

.jp-mod-waiting-InputText {
  color: var(--jp-content-font-color3);
}

.jp-Shortcuts-Submit {
  background-color: var(--jp-brand-color2);
  border-radius: 0;
  border: none;
  color: var(--jp-layout-color0);
  font-family: var(--jp-ui-font-family);
  display: block;
  height: 27px;
  width: 26px;
  cursor: pointer;
}

.jp-Shortcuts-Submit:focus {
  outline: none;
}

.jp-Shortcuts-Submit .jp-icon3[fill] {
  fill: var(--jp-layout-color1);
}

.jp-Shortcuts-Submit.jp-mod-defunc-Submit {
  background-color: var(--jp-layout-color3);
}

.jp-Shortcuts-Submit.jp-mod-defunc-Submit .jp-icon3[fill] {
  fill: var(--jp-inverse-layout-color1);
}

.jp-Shortcuts-Submit.jp-mod-conflict-Submit {
  background-color: var(--jp-error-color1);
}

/* Shortcut Item Style */
.jp-Shortcuts-Cell {
  padding: 6px 12px;
  display: table-cell;
  width: 20%;
  vertical-align: middle;
}

.jp-Shortcuts-ShortcutCell {
  display: flex;
  min-width: 100px;
  flex-wrap: wrap;
}

.jp-Shortcuts-EmptyCell {
  height: 32px;
}

.jp-Shortcuts-Row {
  padding: 10px;
  width: 100%;
  display: table-row;
  border-bottom: var(--jp-border-width) solid var(--jp-border-color1);
  vertical-align: middle;
  background-color: var(--jp-layout-color0);
}

.jp-Shortcuts-Row:hover .jp-Shortcuts-ShortcutKeys {
  border-color: var(--jp-border-color1);
  background: var(--jp-layout-color2);
}

.jp-Shortcuts-Row:hover #add-link,
.jp-Shortcuts-Row:hover #or {
  display: block;
}

.jp-Shortcuts-ErrorMessage {
  color: var(--jp-error-color1);
  margin-top: 9px;
}

.jp-Shortcuts-ErrorButton {
  line-height: 34px;
  margin-left: 10px;
}

.jp-Shortcuts-ErrorButton button:nth-of-type(1) {
  height: 25px;
  margin-right: 5px;
  background-color: var(--jp-border-color0);
  color: white;
  outline: none;
}

.jp-Shortcuts-ErrorButton button:nth-of-type(1):active,
.jp-Shortcuts-ErrorButton button:nth-of-type(1):focus {
  outline: none;
  border: none;
}

.jp-Shortcuts-ErrorButton button:nth-of-type(2) {
  height: 25px;
  background-color: var(--jp-error-color1);
  color: white;
  outline: none;
}

.jp-Shortcuts-ErrorButton button:nth-of-type(2):active,
.jp-Shortcuts-ErrorButton button:nth-of-type(2):focus {
  outline: none;
  border: none;
}

.jp-Shortcuts-ShortcutContainer {
  display: flex;
  flex-wrap: wrap;
}

.jp-Shortcuts-ShortcutContainer:hover .jp-Shortcuts-ShortcutKeys {
  border-color: var(--jp-border-color3);
  background: var(--jp-layout-color3);
}

.jp-Shortcuts-ShortcutKeysContainer {
  font-size: var(--jp-code-font-size);
  font-family: var(--jp-ui-font-family);
  display: flex;
}

.jp-Shortcuts-ConflictContainer {
  display: flex;
  flex-wrap: wrap;
  padding: 6px 12px;
  margin-left: 20%;
}

.jp-Shortcuts-ShortcutKeys {
  border-width: var(--jp-border-width);
  border-color: var(--jp-layout-color0);
  border-radius: var(--jp-border-radius);
  padding: 5px 6px;
  margin: 3px 0;
}

.jp-Shortcuts-Or {
  margin-right: 12px;
  margin-left: 12px;
  margin-top: 8px;
  color: var(--jp-content-font-color3);
  display: none;
}

.jp-Shortcuts-Or:hover {
  display: block;
}

.jp-Shortcuts-OrTwo {
  margin-right: 12px;
  margin-left: 12px;
  margin-top: 8px;
  color: var(--jp-content-font-color3);
  display: block;
}

.jp-Shortcuts-Comma {
  margin-top: 10px;
  margin-right: 2px;
  margin-left: 2px;
}

.jp-Shortcuts-Plus {
  display: none;
  background: var(--jp-brand-color3);
  border-color: var(--jp-layout-color0);
  border-radius: var(--jp-border-radius);
  border-width: var(--jp-border-width);
  margin: 3px 0;
  padding: 5px 6px;
}

.jp-Shortcuts-Plus:hover {
  background-color: var(--jp-brand-color2);
}

.jp-Shortcuts-Plus:active {
  background-color: var(--jp-brand-color2);
}

.jp-Shortcuts-Reset {
  color: var(--jp-brand-color2);
  padding-left: 10px;
}

.jp-Shortcuts-Reset:hover {
  color: var(--jp-brand-color1);
}

.jp-Shortcuts-SourceCell {
  display: inline-block;
}

/* Shortcut List Style */
.jp-Shortcuts-ShortcutList {
  width: 100%;
  display: table;
  border-collapse: collapse;
}

.jp-Shortcuts-ShortcutListContainer {
  overflow-y: scroll;
  border: var(--jp-border-width) solid var(--jp-border-color1);
}

/* Shortcut Title Item Style */
.jp-Shortcuts-Header {
  display: flex;
  cursor: pointer;
}

.jp-Shortcuts-Header:hover .jp-ShortcutTitleItem-sortButton .jp-icon3[fill],
.jp-Shortcuts-Header:focus .jp-ShortcutTitleItem-sortButton .jp-icon3[fill] {
  fill: var(--jp-ui-font-color0);
}

.jp-Shortcuts-Header:active .jp-ShortcutTitleItem-sortButton {
  outline: none;
}

.jp-Shortcuts-CurrentHeader .jp-icon3[fill] {
  fill: var(--jp-ui-font-color0);
}

/* Shortcut UI Style */

.jp-Shortcuts-ShortcutUI {
  display: flex;
  flex-direction: column;
  font-size: var(--jp-ui-font-size1);
  font-family: var(--jp-ui-font-family);
  color: var(--jp-content-font-color1);
  min-width: 450px;
  width: 100%;
}

/* TopNav Style */
.jp-Shortcuts-Top {
  display: block;
}

.jp-Shortcuts-TopNav {
  display: flex;
  align-items: center;
  justify-content: space-between;
  box-sizing: border-box;
  font-size: var(--jp-ui-font-size1);
  background-color: var(--jp-layout-color0);
}

.jp-Shortcuts-Symbols {
  padding: 0 12px;
}

.jp-Shortcuts-Symbols td:nth-child(2) {
  padding-right: 10px;
}

.jp-Shortcuts-Search {
  height: 30px;
}

.jp-Shortcuts-Search > input {
  box-shadow: none;
}

.jp-Shortcuts-AdvancedOptionsSmall {
  width: 30%;
}

.jp-Shortcuts-AdvancedOptionsRight {
  margin-top: 8px;
}

.jp-Shortcuts-AdvancedOptionsLink {
  color: var(--jp-content-link-color);
  text-decoration: none;
  margin-right: 15px;
}

.jp-Shortcuts-AdvancedOptionsLink:hover {
  color: var(--jp-brand-color0);
}

.jp-Shortcuts-AdvancedOptionsLink:active {
  color: var(--jp-brand-color0);
}

.jp-Shortcuts-HeaderRowContainer {
  padding-right: 14px;
}

.jp-Shortcuts-HeaderRow {
  font-weight: bold;
  font-size: var(--jp-ui-font-size1);
  background-color: var(--jp-layout-color0);
  width: 100%;
  z-index: 1;
  display: table;
  padding: 10px 0;
}

.jp-Shortcuts-commandIcon {
  margin-right: 13px;
}

.jp-Shortcuts-altIcon {
  margin-right: 14px;
}

.jp-Shortcuts-controlIcon {
  margin-left: 8px;
  margin-right: 16px;
}
</style><style>/**
 * Copyright (c) 2014 The xterm.js authors. All rights reserved.
 * Copyright (c) 2012-2013, Christopher Jeffrey (MIT License)
 * https://github.com/chjj/term.js
 * @license MIT
 *
 * Permission is hereby granted, free of charge, to any person obtaining a copy
 * of this software and associated documentation files (the "Software"), to deal
 * in the Software without restriction, including without limitation the rights
 * to use, copy, modify, merge, publish, distribute, sublicense, and/or sell
 * copies of the Software, and to permit persons to whom the Software is
 * furnished to do so, subject to the following conditions:
 *
 * The above copyright notice and this permission notice shall be included in
 * all copies or substantial portions of the Software.
 *
 * THE SOFTWARE IS PROVIDED "AS IS", WITHOUT WARRANTY OF ANY KIND, EXPRESS OR
 * IMPLIED, INCLUDING BUT NOT LIMITED TO THE WARRANTIES OF MERCHANTABILITY,
 * FITNESS FOR A PARTICULAR PURPOSE AND NONINFRINGEMENT. IN NO EVENT SHALL THE
 * AUTHORS OR COPYRIGHT HOLDERS BE LIABLE FOR ANY CLAIM, DAMAGES OR OTHER
 * LIABILITY, WHETHER IN AN ACTION OF CONTRACT, TORT OR OTHERWISE, ARISING FROM,
 * OUT OF OR IN CONNECTION WITH THE SOFTWARE OR THE USE OR OTHER DEALINGS IN
 * THE SOFTWARE.
 *
 * Originally forked from (with the author's permission):
 *   Fabrice Bellard's javascript vt100 for jslinux:
 *   http://bellard.org/jslinux/
 *   Copyright (c) 2011 Fabrice Bellard
 *   The original design remains. The terminal itself
 *   has been extended to include xterm CSI codes, among
 *   other features.
 */

/**
 *  Default styles for xterm.js
 */

.xterm {
    cursor: text;
    position: relative;
    user-select: none;
    -ms-user-select: none;
    -webkit-user-select: none;
}

.xterm.focus,
.xterm:focus {
    outline: none;
}

.xterm .xterm-helpers {
    position: absolute;
    top: 0;
    /**
     * The z-index of the helpers must be higher than the canvases in order for
     * IMEs to appear on top.
     */
    z-index: 5;
}

.xterm .xterm-helper-textarea {
    padding: 0;
    border: 0;
    margin: 0;
    /* Move textarea out of the screen to the far left, so that the cursor is not visible */
    position: absolute;
    opacity: 0;
    left: -9999em;
    top: 0;
    width: 0;
    height: 0;
    z-index: -5;
    /** Prevent wrapping so the IME appears against the textarea at the correct position */
    white-space: nowrap;
    overflow: hidden;
    resize: none;
}

.xterm .composition-view {
    /* TODO: Composition position got messed up somewhere */
    background: #000;
    color: #FFF;
    display: none;
    position: absolute;
    white-space: nowrap;
    z-index: 1;
}

.xterm .composition-view.active {
    display: block;
}

.xterm .xterm-viewport {
    /* On OS X this is required in order for the scroll bar to appear fully opaque */
    background-color: #000;
    overflow-y: scroll;
    cursor: default;
    position: absolute;
    right: 0;
    left: 0;
    top: 0;
    bottom: 0;
}

.xterm .xterm-screen {
    position: relative;
}

.xterm .xterm-screen canvas {
    position: absolute;
    left: 0;
    top: 0;
}

.xterm .xterm-scroll-area {
    visibility: hidden;
}

.xterm-char-measure-element {
    display: inline-block;
    visibility: hidden;
    position: absolute;
    top: 0;
    left: -9999em;
    line-height: normal;
}

.xterm.enable-mouse-events {
    /* When mouse events are enabled (eg. tmux), revert to the standard pointer cursor */
    cursor: default;
}

.xterm.xterm-cursor-pointer,
.xterm .xterm-cursor-pointer {
    cursor: pointer;
}

.xterm.column-select.focus {
    /* Column selection mode */
    cursor: crosshair;
}

.xterm .xterm-accessibility,
.xterm .xterm-message {
    position: absolute;
    left: 0;
    top: 0;
    bottom: 0;
    z-index: 10;
    color: transparent;
}

.xterm .live-region {
    position: absolute;
    left: -9999px;
    width: 1px;
    height: 1px;
    overflow: hidden;
}

.xterm-dim {
    opacity: 0.5;
}

.xterm-underline-1 { text-decoration: underline; }
.xterm-underline-2 { text-decoration: double underline; }
.xterm-underline-3 { text-decoration: wavy underline; }
.xterm-underline-4 { text-decoration: dotted underline; }
.xterm-underline-5 { text-decoration: dashed underline; }

.xterm-strikethrough {
    text-decoration: line-through;
}

.xterm-screen .xterm-decoration-container .xterm-decoration {
	z-index: 6;
	position: absolute;
}

.xterm-decoration-overview-ruler {
    z-index: 7;
    position: absolute;
    top: 0;
    right: 0;
    pointer-events: none;
}

.xterm-decoration-top {
    z-index: 2;
    position: relative;
}
</style><style>/*-----------------------------------------------------------------------------
| Copyright (c) Jupyter Development Team.
| Distributed under the terms of the Modified BSD License.
|----------------------------------------------------------------------------*/

.jp-Terminal {
  min-width: 240px;
  min-height: 120px;
}

.jp-Terminal-body {
  padding: 8px;
}

[data-term-theme='inherit'] .xterm .xterm-screen canvas {
  border: 1px solid var(--jp-layout-color0);
}

[data-term-theme='light'] .xterm .xterm-screen canvas {
  border: 1px solid #fff;
}

[data-term-theme='dark'] .xterm .xterm-screen canvas {
  border: 1px solid #000;
}
</style><style>/*-----------------------------------------------------------------------------
| Copyright (c) Jupyter Development Team.
| Distributed under the terms of the Modified BSD License.
|----------------------------------------------------------------------------*/

.jp-toc-numberingButton:hover button.lm-mod-toggled.jp-Button.jp-mod-minimal {
  background-color: var(--jp-inverse-layout-color4);
}

.jp-toc-numberingButton button.lm-mod-toggled .jp-icon3[fill] {
  fill: var(--jp-layout-color1);
}

.jp-toc-numberingButton button.lm-mod-toggled.jp-Button.jp-mod-minimal {
  background-color: var(--jp-inverse-layout-color3);
}
</style><style>/*-----------------------------------------------------------------------------
| Copyright (c) Jupyter Development Team.
| Distributed under the terms of the Modified BSD License.
|----------------------------------------------------------------------------*/

.jp-Tooltip {
  background: var(--jp-layout-color1);
  border: var(--jp-border-width) solid var(--jp-border-color1);
  font-size: var(--jp-ui-font-size0);
  box-shadow: var(--jp-elevation-z6);
  max-width: 750px;
  max-height: 350px;
  z-index: 10001;
  padding: 4px;
  display: flex;
}

.jp-Tooltip-content {
  overflow: auto;
}

.jp-Tooltip:focus {
  outline: 0;
}

.jp-Tooltip pre {
  white-space: pre-wrap;
  margin: 0;
}
</style><style>/*-----------------------------------------------------------------------------
| Copyright (c) Jupyter Development Team.
| Distributed under the terms of the Modified BSD License.
|----------------------------------------------------------------------------*/

.jp-RenderedVegaCommon5 {
  margin-left: 8px;
  margin-top: 8px;
}

.jp-MimeDocument .jp-RenderedVegaCommon5 {
  padding: 16px;
}

.vega canvas {
  background: var(--jp-vega-background);
}
</style><script async="" src="./minor project_files/remoteEntry.66500334d7b36213676e.js.download"></script><script async="" src="./minor project_files/remoteEntry.0dca0b46350f0c25c608.js.download"></script><script async="" src="./minor project_files/remoteEntry.a37e37c87d212fe85e13.js.download"></script><script async="" src="./minor project_files/remoteEntry.cfbccb113f4c7c1d65fe.js.download"></script><script async="" src="./minor project_files/remoteEntry.011187800436390ae91a.js.download"></script><style>/**
  Copyright (c) Jupyter Development Team.
  Distributed under the terms of the Modified BSD License.
*/

/* Add CSS variables to :root */
:root {
  --jp-icon-plotly: url("data:image/svg+xml,%3Csvg xmlns='http://www.w3.org/2000/svg' viewBox='0 0 132 132'%3E %3Cdefs%3E %3Cstyle%3E .cls-1 %7B fill: %23119dff; %7D .cls-2 %7B fill: %2325fefd; %7D .cls-3 %7B fill: %23fff; %7D %3C/style%3E %3C/defs%3E %3Ctitle%3Eplotly-logomark%3C/title%3E %3Cg id='symbol'%3E %3Crect class='cls-1' width='132' height='132' rx='6' ry='6'/%3E %3Ccircle class='cls-2' cx='78' cy='54' r='6'/%3E %3Ccircle class='cls-2' cx='102' cy='30' r='6'/%3E %3Ccircle class='cls-2' cx='78' cy='30' r='6'/%3E %3Ccircle class='cls-2' cx='54' cy='30' r='6'/%3E %3Ccircle class='cls-2' cx='30' cy='30' r='6'/%3E %3Ccircle class='cls-2' cx='30' cy='54' r='6'/%3E %3Cpath class='cls-3' d='M30,72a6,6,0,0,0-6,6v24a6,6,0,0,0,12,0V78A6,6,0,0,0,30,72Z'/%3E %3Cpath class='cls-3' d='M78,72a6,6,0,0,0-6,6v24a6,6,0,0,0,12,0V78A6,6,0,0,0,78,72Z'/%3E %3Cpath class='cls-3' d='M54,48a6,6,0,0,0-6,6v48a6,6,0,0,0,12,0V54A6,6,0,0,0,54,48Z'/%3E %3Cpath class='cls-3' d='M102,48a6,6,0,0,0-6,6v48a6,6,0,0,0,12,0V54A6,6,0,0,0,102,48Z'/%3E %3C/g%3E %3C/svg%3E");
}

/* Base styles */
.jp-RenderedPlotly {
  width: 100%;
  height: 100%;
  padding: 0;
  overflow: hidden;
}

/* Document styles */
.jp-MimeDocument .jp-RenderedPlotly {
  overflow: hidden;
}

/* Output styles */
.jp-OutputArea .jp-RenderedPlotly {
  min-height: 360px;
}

/* Document icon */
.jp-PlotlyIcon {
  background-image: var(--jp-icon-plotly);
}</style><style>/*-----------------------------------------------------------------------------
| Copyright (c) Jupyter Development Team.
| Distributed under the terms of the Modified BSD License.
|----------------------------------------------------------------------------*/

.jp-InterfaceSwitcher {
  display: flex;
  flex-direction: column;
  align-items: center;
  justify-content: center;
}

.jp-InterfaceSwitcher .lm-MenuBar-itemIcon svg {
  vertical-align: sub;
}

.jp-nb-interface-switcher-button > .jp-ToolbarButtonComponent {
  flex-direction: row-reverse;
}

.jp-nb-interface-switcher-button
  > .jp-ToolbarButtonComponent
  > .jp-ToolbarButtonComponent-icon {
  padding-left: 3px;
}
</style><style>/* Copyright (c) Jupyter Development Team.
 * Distributed under the terms of the Modified BSD License.
 */

.jupyter-widgets-disconnected::before {
  content: '\f127'; /* chain-broken */
  display: inline-block;
  font: normal normal 900 14px/1 'Font Awesome 5 Free', 'FontAwesome';
  text-rendering: auto;
  -webkit-font-smoothing: antialiased;
  -moz-osx-font-smoothing: grayscale;
  color: #d9534f;
  padding: 3px;
  align-self: flex-start;
}

.jupyter-widgets-error-widget {
  display: flex;
  flex-direction: column;
  justify-content: center;
  height: 100%;
  border: solid 1px red;
  margin: 0 auto;
}

.jupyter-widgets-error-widget.icon-error {
  min-width: var(--jp-widgets-inline-width-short);
}
.jupyter-widgets-error-widget.text-error {
  min-width: calc(2 * var(--jp-widgets-inline-width));
  min-height: calc(3 * var(--jp-widgets-inline-height));
}

.jupyter-widgets-error-widget p {
  text-align: center;
}

.jupyter-widgets-error-widget.text-error pre::first-line {
  font-weight: bold;
}
</style><style>/* This file has code derived from Lumino CSS files, as noted below. The license for this Lumino code is:

Copyright (c) 2019 Project Jupyter Contributors
All rights reserved.

Redistribution and use in source and binary forms, with or without
modification, are permitted provided that the following conditions are met:

1. Redistributions of source code must retain the above copyright notice, this
   list of conditions and the following disclaimer.

2. Redistributions in binary form must reproduce the above copyright notice,
   this list of conditions and the following disclaimer in the documentation
   and/or other materials provided with the distribution.

3. Neither the name of the copyright holder nor the names of its
   contributors may be used to endorse or promote products derived from
   this software without specific prior written permission.

THIS SOFTWARE IS PROVIDED BY THE COPYRIGHT HOLDERS AND CONTRIBUTORS "AS IS"
AND ANY EXPRESS OR IMPLIED WARRANTIES, INCLUDING, BUT NOT LIMITED TO, THE
IMPLIED WARRANTIES OF MERCHANTABILITY AND FITNESS FOR A PARTICULAR PURPOSE ARE
DISCLAIMED. IN NO EVENT SHALL THE COPYRIGHT HOLDER OR CONTRIBUTORS BE LIABLE
FOR ANY DIRECT, INDIRECT, INCIDENTAL, SPECIAL, EXEMPLARY, OR CONSEQUENTIAL
DAMAGES (INCLUDING, BUT NOT LIMITED TO, PROCUREMENT OF SUBSTITUTE GOODS OR
SERVICES; LOSS OF USE, DATA, OR PROFITS; OR BUSINESS INTERRUPTION) HOWEVER
CAUSED AND ON ANY THEORY OF LIABILITY, WHETHER IN CONTRACT, STRICT LIABILITY,
OR TORT (INCLUDING NEGLIGENCE OR OTHERWISE) ARISING IN ANY WAY OUT OF THE USE
OF THIS SOFTWARE, EVEN IF ADVISED OF THE POSSIBILITY OF SUCH DAMAGE.


Copyright (c) 2014-2017, PhosphorJS Contributors
All rights reserved.

Redistribution and use in source and binary forms, with or without
modification, are permitted provided that the following conditions are met:

* Redistributions of source code must retain the above copyright notice, this
  list of conditions and the following disclaimer.

* Redistributions in binary form must reproduce the above copyright notice,
  this list of conditions and the following disclaimer in the documentation
  and/or other materials provided with the distribution.

* Neither the name of the copyright holder nor the names of its
  contributors may be used to endorse or promote products derived from
  this software without specific prior written permission.

THIS SOFTWARE IS PROVIDED BY THE COPYRIGHT HOLDERS AND CONTRIBUTORS "AS IS"
AND ANY EXPRESS OR IMPLIED WARRANTIES, INCLUDING, BUT NOT LIMITED TO, THE
IMPLIED WARRANTIES OF MERCHANTABILITY AND FITNESS FOR A PARTICULAR PURPOSE ARE
DISCLAIMED. IN NO EVENT SHALL THE COPYRIGHT HOLDER OR CONTRIBUTORS BE LIABLE
FOR ANY DIRECT, INDIRECT, INCIDENTAL, SPECIAL, EXEMPLARY, OR CONSEQUENTIAL
DAMAGES (INCLUDING, BUT NOT LIMITED TO, PROCUREMENT OF SUBSTITUTE GOODS OR
SERVICES; LOSS OF USE, DATA, OR PROFITS; OR BUSINESS INTERRUPTION) HOWEVER
CAUSED AND ON ANY THEORY OF LIABILITY, WHETHER IN CONTRACT, STRICT LIABILITY,
OR TORT (INCLUDING NEGLIGENCE OR OTHERWISE) ARISING IN ANY WAY OUT OF THE USE
OF THIS SOFTWARE, EVEN IF ADVISED OF THE POSSIBILITY OF SUCH DAMAGE.
*/

/*
 * The following section is derived from https://github.com/jupyterlab/lumino/blob/23b9d075ebc5b73ab148b6ebfc20af97f85714c4/packages/widgets/style/tabbar.css 
 * We've scoped the rules so that they are consistent with exactly our code.
 */

/* <DEPRECATED> */
.jupyter-widgets.widget-tab > .p-TabBar, /* </DEPRECATED> */
/* <DEPRECATED> */.jupyter-widgets.jupyter-widget-tab > .p-TabBar, /* </DEPRECATED> */
.jupyter-widgets.jupyter-widget-tab > .lm-TabBar {
  display: flex;
  -webkit-user-select: none;
  -moz-user-select: none;
  -ms-user-select: none;
  user-select: none;
}

/* <DEPRECATED> */
.jupyter-widgets.widget-tab > .p-TabBar[data-orientation='horizontal'], /* </DEPRECATED> */
/* <DEPRECATED> */.jupyter-widgets.jupyter-widget-tab > .p-TabBar[data-orientation='horizontal'], /* </DEPRECATED> */
.jupyter-widgets.jupyter-widget-tab > .lm-TabBar[data-orientation='horizontal'] {
  flex-direction: row;
}

/* <DEPRECATED> */
.jupyter-widgets.widget-tab > .p-TabBar[data-orientation='vertical'], /* </DEPRECATED> */
/* <DEPRECATED> */.jupyter-widgets.jupyter-widget-tab > .p-TabBar[data-orientation='vertical'], /* </DEPRECATED> */
.jupyter-widgets.jupyter-widget-tab > .lm-TabBar[data-orientation='vertical'] {
  flex-direction: column;
}

/* <DEPRECATED> */
.jupyter-widgets.widget-tab > .p-TabBar > .p-TabBar-content, /* </DEPRECATED> */
/* <DEPRECATED> */.jupyter-widgets.jupyter-widget-tab > .p-TabBar > .p-TabBar-content, /* </DEPRECATED> */
.jupyter-widgets.jupyter-widget-tab > .lm-TabBar > .lm-TabBar-content {
  margin: 0;
  padding: 0;
  display: flex;
  flex: 1 1 auto;
  list-style-type: none;
}

/* <DEPRECATED> */
.jupyter-widgets.widget-tab
  > .p-TabBar[data-orientation='horizontal']
  > .p-TabBar-content,
/* </DEPRECATED> */
/* <DEPRECATED> */
.jupyter-widgets.jupyter-widget-tab
> .p-TabBar[data-orientation='horizontal']
> .p-TabBar-content,
/* </DEPRECATED> */
.jupyter-widgets.jupyter-widget-tab
  > .lm-TabBar[data-orientation='horizontal']
  > .lm-TabBar-content {
  flex-direction: row;
}

/* <DEPRECATED> */
.jupyter-widgets.widget-tab
  > .p-TabBar[data-orientation='vertical']
  > .p-TabBar-content,
/* </DEPRECATED> */
/* <DEPRECATED> */
.jupyter-widgets.jupyter-widget-tab
> .p-TabBar[data-orientation='vertical']
> .p-TabBar-content,
/* </DEPRECATED> */
.jupyter-widgets.jupyter-widget-tab
  > .lm-TabBar[data-orientation='vertical']
  > .lm-TabBar-content {
  flex-direction: column;
}

/* <DEPRECATED> */
.jupyter-widgets.widget-tab > .p-TabBar .p-TabBar-tab, /* </DEPRECATED> */
/* <DEPRECATED> */.jupyter-widgets.jupyter-widget-tab > .p-TabBar .p-TabBar-tab, /* </DEPRECATED> */
.jupyter-widgets.jupyter-widget-tab > .lm-TabBar .lm-TabBar-tab {
  display: flex;
  flex-direction: row;
  box-sizing: border-box;
  overflow: hidden;
}

/* <DEPRECATED> */
.jupyter-widgets.widget-tab > .p-TabBar .p-TabBar-tabIcon, /* </DEPRECATED> */
/* <DEPRECATED> */ .jupyter-widgets.widget-tab > .p-TabBar .p-TabBar-tabCloseIcon, /* </DEPRECATED> */
/* <DEPRECATED> */.jupyter-widgets.jupyter-widget-tab > .p-TabBar .p-TabBar-tabIcon, /* </DEPRECATED> */
/* <DEPRECATED> */ .jupyter-widgets.jupyter-widget-tab > .p-TabBar .p-TabBar-tabCloseIcon, /* </DEPRECATED> */
.jupyter-widgets.jupyter-widget-tab > .lm-TabBar .lm-TabBar-tabIcon,
.jupyter-widgets.jupyter-widget-tab > .lm-TabBar .lm-TabBar-tabCloseIcon {
  flex: 0 0 auto;
}

/* <DEPRECATED> */
.jupyter-widgets.widget-tab > .p-TabBar .p-TabBar-tabLabel, /* </DEPRECATED> */
/* <DEPRECATED> */.jupyter-widgets.jupyter-widget-tab > .p-TabBar .p-TabBar-tabLabel, /* </DEPRECATED> */
.jupyter-widgets.jupyter-widget-tab > .lm-TabBar .lm-TabBar-tabLabel {
  flex: 1 1 auto;
  overflow: hidden;
  white-space: nowrap;
}

/* <DEPRECATED> */
.jupyter-widgets.widget-tab > .p-TabBar .p-TabBar-tab.p-mod-hidden, /* </DEPRECATED> */
/* <DEPRECATED> */.jupyter-widgets.jupyter-widget-tab > .p-TabBar .p-TabBar-tab.p-mod-hidden, /* </DEPRECATED> */
.jupyter-widgets.jupyter-widget-tab > .lm-TabBar .lm-TabBar-tab.lm-mod-hidden {
  display: none !important;
}

/* <DEPRECATED> */
.jupyter-widgets.widget-tab > .p-TabBar.p-mod-dragging .p-TabBar-tab, /* </DEPRECATED> */
/* <DEPRECATED> */.jupyter-widgets.jupyter-widget-tab > .p-TabBar.p-mod-dragging .p-TabBar-tab, /* </DEPRECATED> */
.jupyter-widgets.jupyter-widget-tab > .lm-TabBar.lm-mod-dragging .lm-TabBar-tab {
  position: relative;
}

/* <DEPRECATED> */
.jupyter-widgets.widget-tab
  > .p-TabBar.p-mod-dragging[data-orientation='horizontal']
  .p-TabBar-tab,
/* </DEPRECATED> */
/* <DEPRECATED> */
.jupyter-widgets.jupyter-widget-tab
  > .p-TabBar.p-mod-dragging[data-orientation='horizontal']
  .p-TabBar-tab,
/* </DEPRECATED> */
.jupyter-widgets.jupyter-widget-tab
  > .lm-TabBar.lm-mod-dragging[data-orientation='horizontal']
  .lm-TabBar-tab {
  left: 0;
  transition: left 150ms ease;
}

/* <DEPRECATED> */
.jupyter-widgets.widget-tab
  > .p-TabBar.p-mod-dragging[data-orientation='vertical']
  .p-TabBar-tab,
/* </DEPRECATED> */
/* <DEPRECATED> */
.jupyter-widgets.jupyter-widget-tab
> .p-TabBar.p-mod-dragging[data-orientation='vertical']
.p-TabBar-tab,
/* </DEPRECATED> */
.jupyter-widgets.jupyter-widget-tab
  > .lm-TabBar.lm-mod-dragging[data-orientation='vertical']
  .lm-TabBar-tab {
  top: 0;
  transition: top 150ms ease;
}

/* <DEPRECATED> */
.jupyter-widgets.widget-tab
  > .p-TabBar.p-mod-dragging
  .p-TabBar-tab.p-mod-dragging,
/* </DEPRECATED> */
/* <DEPRECATED> */
.jupyter-widgets.jupyter-widget-tab
> .p-TabBar.p-mod-dragging
.p-TabBar-tab.p-mod-dragging,
/* </DEPRECATED> */
.jupyter-widgets.jupyter-widget-tab
  > .lm-TabBar.lm-mod-dragging
  .lm-TabBar-tab.lm-mod-dragging {
  transition: none;
}

/* End tabbar.css */
</style><style>/*

The nouislider.css file is autogenerated from nouislider.less, which imports and wraps the nouislider/src/nouislider.less styles.

MIT License

Copyright (c) 2019 Léon Gersen

Permission is hereby granted, free of charge, to any person obtaining a copy of this software and associated documentation files (the "Software"), to deal in the Software without restriction, including without limitation the rights to use, copy, modify, merge, publish, distribute, sublicense, and/or sell copies of the Software, and to permit persons to whom the Software is furnished to do so, subject to the following conditions:

The above copyright notice and this permission notice shall be included in all copies or substantial portions of the Software.

THE SOFTWARE IS PROVIDED "AS IS", WITHOUT WARRANTY OF ANY KIND, EXPRESS OR IMPLIED, INCLUDING BUT NOT LIMITED TO THE WARRANTIES OF MERCHANTABILITY, FITNESS FOR A PARTICULAR PURPOSE AND NONINFRINGEMENT. IN NO EVENT SHALL THE AUTHORS OR COPYRIGHT HOLDERS BE LIABLE FOR ANY CLAIM, DAMAGES OR OTHER LIABILITY, WHETHER IN AN ACTION OF CONTRACT, TORT OR OTHERWISE, ARISING FROM, OUT OF OR IN CONNECTION WITH THE SOFTWARE OR THE USE OR OTHER DEALINGS IN THE SOFTWARE.
*/
/* The .widget-slider class is deprecated */
.widget-slider,
.jupyter-widget-slider {
  /* Functional styling;
 * These styles are required for noUiSlider to function.
 * You don't need to change these rules to apply your design.
 */
  /* Wrapper for all connect elements.
 */
  /* Offset direction
 */
  /* Give origins 0 height/width so they don't interfere with clicking the
 * connect elements.
 */
  /* Slider size and handle placement;
 */
  /* Styling;
 * Giving the connect element a border radius causes issues with using transform: scale
 */
  /* Handles and cursors;
 */
  /* Handle stripes;
 */
  /* Disabled state;
 */
  /* Base;
 *
 */
  /* Values;
 *
 */
  /* Markings;
 *
 */
  /* Horizontal layout;
 *
 */
  /* Vertical layout;
 *
 */
  /* Copyright (c) Jupyter Development Team.
 * Distributed under the terms of the Modified BSD License.
 */
  /* Custom CSS for nouislider */
}
.widget-slider .noUi-target,
.jupyter-widget-slider .noUi-target,
.widget-slider .noUi-target *,
.jupyter-widget-slider .noUi-target * {
  -webkit-touch-callout: none;
  -webkit-tap-highlight-color: rgba(0, 0, 0, 0);
  -webkit-user-select: none;
  -ms-touch-action: none;
  touch-action: none;
  -ms-user-select: none;
  -moz-user-select: none;
  user-select: none;
  -moz-box-sizing: border-box;
  box-sizing: border-box;
}
.widget-slider .noUi-target,
.jupyter-widget-slider .noUi-target {
  position: relative;
}
.widget-slider .noUi-base,
.jupyter-widget-slider .noUi-base,
.widget-slider .noUi-connects,
.jupyter-widget-slider .noUi-connects {
  width: 100%;
  height: 100%;
  position: relative;
  z-index: 1;
}
.widget-slider .noUi-connects,
.jupyter-widget-slider .noUi-connects {
  overflow: hidden;
  z-index: 0;
}
.widget-slider .noUi-connect,
.jupyter-widget-slider .noUi-connect,
.widget-slider .noUi-origin,
.jupyter-widget-slider .noUi-origin {
  will-change: transform;
  position: absolute;
  z-index: 1;
  top: 0;
  right: 0;
  -ms-transform-origin: 0 0;
  -webkit-transform-origin: 0 0;
  -webkit-transform-style: preserve-3d;
  transform-origin: 0 0;
  transform-style: flat;
}
.widget-slider .noUi-connect,
.jupyter-widget-slider .noUi-connect {
  height: 100%;
  width: 100%;
}
.widget-slider .noUi-origin,
.jupyter-widget-slider .noUi-origin {
  height: 10%;
  width: 10%;
}
.widget-slider .noUi-txt-dir-rtl.noUi-horizontal .noUi-origin,
.jupyter-widget-slider .noUi-txt-dir-rtl.noUi-horizontal .noUi-origin {
  left: 0;
  right: auto;
}
.widget-slider .noUi-vertical .noUi-origin,
.jupyter-widget-slider .noUi-vertical .noUi-origin {
  width: 0;
}
.widget-slider .noUi-horizontal .noUi-origin,
.jupyter-widget-slider .noUi-horizontal .noUi-origin {
  height: 0;
}
.widget-slider .noUi-handle,
.jupyter-widget-slider .noUi-handle {
  -webkit-backface-visibility: hidden;
  backface-visibility: hidden;
  position: absolute;
}
.widget-slider .noUi-touch-area,
.jupyter-widget-slider .noUi-touch-area {
  height: 100%;
  width: 100%;
}
.widget-slider .noUi-state-tap .noUi-connect,
.jupyter-widget-slider .noUi-state-tap .noUi-connect,
.widget-slider .noUi-state-tap .noUi-origin,
.jupyter-widget-slider .noUi-state-tap .noUi-origin {
  -webkit-transition: transform 0.3s;
  transition: transform 0.3s;
}
.widget-slider .noUi-state-drag *,
.jupyter-widget-slider .noUi-state-drag * {
  cursor: inherit !important;
}
.widget-slider .noUi-horizontal,
.jupyter-widget-slider .noUi-horizontal {
  height: 18px;
}
.widget-slider .noUi-horizontal .noUi-handle,
.jupyter-widget-slider .noUi-horizontal .noUi-handle {
  width: 34px;
  height: 28px;
  right: -17px;
  top: -6px;
}
.widget-slider .noUi-vertical,
.jupyter-widget-slider .noUi-vertical {
  width: 18px;
}
.widget-slider .noUi-vertical .noUi-handle,
.jupyter-widget-slider .noUi-vertical .noUi-handle {
  width: 28px;
  height: 34px;
  right: -6px;
  top: -17px;
}
.widget-slider .noUi-txt-dir-rtl.noUi-horizontal .noUi-handle,
.jupyter-widget-slider .noUi-txt-dir-rtl.noUi-horizontal .noUi-handle {
  left: -17px;
  right: auto;
}
.widget-slider .noUi-target,
.jupyter-widget-slider .noUi-target {
  background: #FAFAFA;
  border-radius: 4px;
  border: 1px solid #D3D3D3;
  box-shadow: inset 0 1px 1px #F0F0F0, 0 3px 6px -5px #BBB;
}
.widget-slider .noUi-connects,
.jupyter-widget-slider .noUi-connects {
  border-radius: 3px;
}
.widget-slider .noUi-connect,
.jupyter-widget-slider .noUi-connect {
  background: #3FB8AF;
}
.widget-slider .noUi-draggable,
.jupyter-widget-slider .noUi-draggable {
  cursor: ew-resize;
}
.widget-slider .noUi-vertical .noUi-draggable,
.jupyter-widget-slider .noUi-vertical .noUi-draggable {
  cursor: ns-resize;
}
.widget-slider .noUi-handle,
.jupyter-widget-slider .noUi-handle {
  border: 1px solid #D9D9D9;
  border-radius: 3px;
  background: #FFF;
  cursor: default;
  box-shadow: inset 0 0 1px #FFF, inset 0 1px 7px #EBEBEB, 0 3px 6px -3px #BBB;
}
.widget-slider .noUi-active,
.jupyter-widget-slider .noUi-active {
  box-shadow: inset 0 0 1px #FFF, inset 0 1px 7px #DDD, 0 3px 6px -3px #BBB;
}
.widget-slider .noUi-handle:before,
.jupyter-widget-slider .noUi-handle:before,
.widget-slider .noUi-handle:after,
.jupyter-widget-slider .noUi-handle:after {
  content: "";
  display: block;
  position: absolute;
  height: 14px;
  width: 1px;
  background: #E8E7E6;
  left: 14px;
  top: 6px;
}
.widget-slider .noUi-handle:after,
.jupyter-widget-slider .noUi-handle:after {
  left: 17px;
}
.widget-slider .noUi-vertical .noUi-handle:before,
.jupyter-widget-slider .noUi-vertical .noUi-handle:before,
.widget-slider .noUi-vertical .noUi-handle:after,
.jupyter-widget-slider .noUi-vertical .noUi-handle:after {
  width: 14px;
  height: 1px;
  left: 6px;
  top: 14px;
}
.widget-slider .noUi-vertical .noUi-handle:after,
.jupyter-widget-slider .noUi-vertical .noUi-handle:after {
  top: 17px;
}
.widget-slider [disabled] .noUi-connect,
.jupyter-widget-slider [disabled] .noUi-connect {
  background: #B8B8B8;
}
.widget-slider [disabled].noUi-target,
.jupyter-widget-slider [disabled].noUi-target,
.widget-slider [disabled].noUi-handle,
.jupyter-widget-slider [disabled].noUi-handle,
.widget-slider [disabled] .noUi-handle,
.jupyter-widget-slider [disabled] .noUi-handle {
  cursor: not-allowed;
}
.widget-slider .noUi-pips,
.jupyter-widget-slider .noUi-pips,
.widget-slider .noUi-pips *,
.jupyter-widget-slider .noUi-pips * {
  -moz-box-sizing: border-box;
  box-sizing: border-box;
}
.widget-slider .noUi-pips,
.jupyter-widget-slider .noUi-pips {
  position: absolute;
  color: #999;
}
.widget-slider .noUi-value,
.jupyter-widget-slider .noUi-value {
  position: absolute;
  white-space: nowrap;
  text-align: center;
}
.widget-slider .noUi-value-sub,
.jupyter-widget-slider .noUi-value-sub {
  color: #ccc;
  font-size: 10px;
}
.widget-slider .noUi-marker,
.jupyter-widget-slider .noUi-marker {
  position: absolute;
  background: #CCC;
}
.widget-slider .noUi-marker-sub,
.jupyter-widget-slider .noUi-marker-sub {
  background: #AAA;
}
.widget-slider .noUi-marker-large,
.jupyter-widget-slider .noUi-marker-large {
  background: #AAA;
}
.widget-slider .noUi-pips-horizontal,
.jupyter-widget-slider .noUi-pips-horizontal {
  padding: 10px 0;
  height: 80px;
  top: 100%;
  left: 0;
  width: 100%;
}
.widget-slider .noUi-value-horizontal,
.jupyter-widget-slider .noUi-value-horizontal {
  -webkit-transform: translate(-50%, 50%);
  transform: translate(-50%, 50%);
}
.noUi-rtl .widget-slider .noUi-value-horizontal,
.noUi-rtl .jupyter-widget-slider .noUi-value-horizontal {
  -webkit-transform: translate(50%, 50%);
  transform: translate(50%, 50%);
}
.widget-slider .noUi-marker-horizontal.noUi-marker,
.jupyter-widget-slider .noUi-marker-horizontal.noUi-marker {
  margin-left: -1px;
  width: 2px;
  height: 5px;
}
.widget-slider .noUi-marker-horizontal.noUi-marker-sub,
.jupyter-widget-slider .noUi-marker-horizontal.noUi-marker-sub {
  height: 10px;
}
.widget-slider .noUi-marker-horizontal.noUi-marker-large,
.jupyter-widget-slider .noUi-marker-horizontal.noUi-marker-large {
  height: 15px;
}
.widget-slider .noUi-pips-vertical,
.jupyter-widget-slider .noUi-pips-vertical {
  padding: 0 10px;
  height: 100%;
  top: 0;
  left: 100%;
}
.widget-slider .noUi-value-vertical,
.jupyter-widget-slider .noUi-value-vertical {
  -webkit-transform: translate(0, -50%);
  transform: translate(0, -50%);
  padding-left: 25px;
}
.noUi-rtl .widget-slider .noUi-value-vertical,
.noUi-rtl .jupyter-widget-slider .noUi-value-vertical {
  -webkit-transform: translate(0, 50%);
  transform: translate(0, 50%);
}
.widget-slider .noUi-marker-vertical.noUi-marker,
.jupyter-widget-slider .noUi-marker-vertical.noUi-marker {
  width: 5px;
  height: 2px;
  margin-top: -1px;
}
.widget-slider .noUi-marker-vertical.noUi-marker-sub,
.jupyter-widget-slider .noUi-marker-vertical.noUi-marker-sub {
  width: 10px;
}
.widget-slider .noUi-marker-vertical.noUi-marker-large,
.jupyter-widget-slider .noUi-marker-vertical.noUi-marker-large {
  width: 15px;
}
.widget-slider .noUi-tooltip,
.jupyter-widget-slider .noUi-tooltip {
  display: block;
  position: absolute;
  border: 1px solid #D9D9D9;
  border-radius: 3px;
  background: #fff;
  color: #000;
  padding: 5px;
  text-align: center;
  white-space: nowrap;
}
.widget-slider .noUi-horizontal .noUi-tooltip,
.jupyter-widget-slider .noUi-horizontal .noUi-tooltip {
  -webkit-transform: translate(-50%, 0);
  transform: translate(-50%, 0);
  left: 50%;
  bottom: 120%;
}
.widget-slider .noUi-vertical .noUi-tooltip,
.jupyter-widget-slider .noUi-vertical .noUi-tooltip {
  -webkit-transform: translate(0, -50%);
  transform: translate(0, -50%);
  top: 50%;
  right: 120%;
}
.widget-slider .noUi-horizontal .noUi-origin > .noUi-tooltip,
.jupyter-widget-slider .noUi-horizontal .noUi-origin > .noUi-tooltip {
  -webkit-transform: translate(50%, 0);
  transform: translate(50%, 0);
  left: auto;
  bottom: 10px;
}
.widget-slider .noUi-vertical .noUi-origin > .noUi-tooltip,
.jupyter-widget-slider .noUi-vertical .noUi-origin > .noUi-tooltip {
  -webkit-transform: translate(0, -18px);
  transform: translate(0, -18px);
  top: auto;
  right: 28px;
}
.widget-slider .noUi-connect,
.jupyter-widget-slider .noUi-connect {
  background: #2196f3;
}
.widget-slider .noUi-horizontal,
.jupyter-widget-slider .noUi-horizontal {
  height: var(--jp-widgets-slider-track-thickness);
}
.widget-slider .noUi-vertical,
.jupyter-widget-slider .noUi-vertical {
  width: var(--jp-widgets-slider-track-thickness);
  height: 100%;
}
.widget-slider .noUi-horizontal .noUi-handle,
.jupyter-widget-slider .noUi-horizontal .noUi-handle {
  width: var(--jp-widgets-slider-handle-size);
  height: var(--jp-widgets-slider-handle-size);
  border-radius: 50%;
  top: calc((var(--jp-widgets-slider-track-thickness) - var(--jp-widgets-slider-handle-size)) / 2);
  right: calc(var(--jp-widgets-slider-handle-size) / -2);
}
.widget-slider .noUi-vertical .noUi-handle,
.jupyter-widget-slider .noUi-vertical .noUi-handle {
  height: var(--jp-widgets-slider-handle-size);
  width: var(--jp-widgets-slider-handle-size);
  border-radius: 50%;
  right: calc((var(--jp-widgets-slider-handle-size) - var(--jp-widgets-slider-track-thickness)) / -2);
  top: calc(var(--jp-widgets-slider-handle-size) / -2);
}
.widget-slider .noUi-handle:after,
.jupyter-widget-slider .noUi-handle:after {
  content: none;
}
.widget-slider .noUi-handle:before,
.jupyter-widget-slider .noUi-handle:before {
  content: none;
}
.widget-slider .noUi-target,
.jupyter-widget-slider .noUi-target {
  background: #fafafa;
  border-radius: 4px;
  border: 1px;
  /* box-shadow: inset 0 1px 1px #F0F0F0, 0 3px 6px -5px #BBB; */
}
.widget-slider .ui-slider,
.jupyter-widget-slider .ui-slider {
  border: var(--jp-widgets-slider-border-width) solid var(--jp-layout-color3);
  background: var(--jp-layout-color3);
  box-sizing: border-box;
  position: relative;
  border-radius: 0px;
}
.widget-slider .noUi-handle,
.jupyter-widget-slider .noUi-handle {
  width: var(--jp-widgets-slider-handle-size);
  border: 1px solid #d9d9d9;
  border-radius: 3px;
  background: #fff;
  cursor: default;
  box-shadow: none;
  outline: none;
}
.widget-slider .noUi-target:not([disabled]) .noUi-handle:hover,
.jupyter-widget-slider .noUi-target:not([disabled]) .noUi-handle:hover,
.widget-slider .noUi-target:not([disabled]) .noUi-handle:focus,
.jupyter-widget-slider .noUi-target:not([disabled]) .noUi-handle:focus {
  background-color: var(--jp-widgets-slider-active-handle-color);
  border: var(--jp-widgets-slider-border-width) solid var(--jp-widgets-slider-active-handle-color);
}
.widget-slider [disabled].noUi-target,
.jupyter-widget-slider [disabled].noUi-target {
  opacity: 0.35;
}
.widget-slider .noUi-connects,
.jupyter-widget-slider .noUi-connects {
  overflow: visible;
  z-index: 0;
  background: var(--jp-layout-color3);
}
.widget-slider .noUi-vertical .noUi-connect,
.jupyter-widget-slider .noUi-vertical .noUi-connect {
  width: calc(100% + 2px);
  right: -1px;
}
.widget-slider .noUi-horizontal .noUi-connect,
.jupyter-widget-slider .noUi-horizontal .noUi-connect {
  height: calc(100% + 2px);
  top: -1px;
}
</style><style>/* Copyright (c) Jupyter Development Team.
 * Distributed under the terms of the Modified BSD License.
 */

/*
 * We assume that the CSS variables in
 * https://github.com/jupyterlab/jupyterlab/blob/master/src/default-theme/variables.css
 * have been defined.
 */

:root {
  --jp-widgets-color: var(--jp-content-font-color1);
  --jp-widgets-label-color: var(--jp-widgets-color);
  --jp-widgets-readout-color: var(--jp-widgets-color);
  --jp-widgets-font-size: var(--jp-ui-font-size1);
  --jp-widgets-margin: 2px;
  --jp-widgets-inline-height: 28px;
  --jp-widgets-inline-width: 300px;
  --jp-widgets-inline-width-short: calc(
    var(--jp-widgets-inline-width) / 2 - var(--jp-widgets-margin)
  );
  --jp-widgets-inline-width-tiny: calc(
    var(--jp-widgets-inline-width-short) / 2 - var(--jp-widgets-margin)
  );
  --jp-widgets-inline-margin: 4px; /* margin between inline elements */
  --jp-widgets-inline-label-width: 80px;
  --jp-widgets-border-width: var(--jp-border-width);
  --jp-widgets-vertical-height: 200px;
  --jp-widgets-horizontal-tab-height: 24px;
  --jp-widgets-horizontal-tab-width: 144px;
  --jp-widgets-horizontal-tab-top-border: 2px;
  --jp-widgets-progress-thickness: 20px;
  --jp-widgets-container-padding: 15px;
  --jp-widgets-input-padding: 4px;
  --jp-widgets-radio-item-height-adjustment: 8px;
  --jp-widgets-radio-item-height: calc(
    var(--jp-widgets-inline-height) -
      var(--jp-widgets-radio-item-height-adjustment)
  );
  --jp-widgets-slider-track-thickness: 4px;
  --jp-widgets-slider-border-width: var(--jp-widgets-border-width);
  --jp-widgets-slider-handle-size: 16px;
  --jp-widgets-slider-handle-border-color: var(--jp-border-color1);
  --jp-widgets-slider-handle-background-color: var(--jp-layout-color1);
  --jp-widgets-slider-active-handle-color: var(--jp-brand-color1);
  --jp-widgets-menu-item-height: 24px;
  --jp-widgets-dropdown-arrow: url(data:image/svg+xml;base64,PD94bWwgdmVyc2lvbj0iMS4wIiBlbmNvZGluZz0idXRmLTgiPz4KPCEtLSBHZW5lcmF0b3I6IEFkb2JlIElsbHVzdHJhdG9yIDE5LjIuMSwgU1ZHIEV4cG9ydCBQbHVnLUluIC4gU1ZHIFZlcnNpb246IDYuMDAgQnVpbGQgMCkgIC0tPgo8c3ZnIHZlcnNpb249IjEuMSIgaWQ9IkxheWVyXzEiIHhtbG5zPSJodHRwOi8vd3d3LnczLm9yZy8yMDAwL3N2ZyIgeG1sbnM6eGxpbms9Imh0dHA6Ly93d3cudzMub3JnLzE5OTkveGxpbmsiIHg9IjBweCIgeT0iMHB4IgoJIHZpZXdCb3g9IjAgMCAxOCAxOCIgc3R5bGU9ImVuYWJsZS1iYWNrZ3JvdW5kOm5ldyAwIDAgMTggMTg7IiB4bWw6c3BhY2U9InByZXNlcnZlIj4KPHN0eWxlIHR5cGU9InRleHQvY3NzIj4KCS5zdDB7ZmlsbDpub25lO30KPC9zdHlsZT4KPHBhdGggZD0iTTUuMiw1LjlMOSw5LjdsMy44LTMuOGwxLjIsMS4ybC00LjksNWwtNC45LTVMNS4yLDUuOXoiLz4KPHBhdGggY2xhc3M9InN0MCIgZD0iTTAtMC42aDE4djE4SDBWLTAuNnoiLz4KPC9zdmc+Cg);
  --jp-widgets-input-color: var(--jp-ui-font-color1);
  --jp-widgets-input-background-color: var(--jp-layout-color1);
  --jp-widgets-input-border-color: var(--jp-border-color1);
  --jp-widgets-input-focus-border-color: var(--jp-brand-color2);
  --jp-widgets-input-border-width: var(--jp-widgets-border-width);
  --jp-widgets-disabled-opacity: 0.6;

  /* From Material Design Lite */
  --md-shadow-key-umbra-opacity: 0.2;
  --md-shadow-key-penumbra-opacity: 0.14;
  --md-shadow-ambient-shadow-opacity: 0.12;
}

.jupyter-widgets {
  margin: var(--jp-widgets-margin);
  box-sizing: border-box;
  color: var(--jp-widgets-color);
  overflow: visible;
}

.jp-Output-result > .jupyter-widgets {
  margin-left: 0;
  margin-right: 0;
}

/* vbox and hbox */

/* <DEPRECATED> */
.widget-inline-hbox, /* </DEPRECATED> */
 .jupyter-widget-inline-hbox {
  /* Horizontal widgets */
  box-sizing: border-box;
  display: flex;
  flex-direction: row;
  align-items: baseline;
}

/* <DEPRECATED> */
.widget-inline-vbox, /* </DEPRECATED> */
 .jupyter-widget-inline-vbox {
  /* Vertical Widgets */
  box-sizing: border-box;
  display: flex;
  flex-direction: column;
  align-items: center;
}

/* <DEPRECATED> */
.widget-box, /* </DEPRECATED> */
.jupyter-widget-box {
  box-sizing: border-box;
  display: flex;
  margin: 0;
  overflow: auto;
}

/* <DEPRECATED> */
.widget-gridbox, /* </DEPRECATED> */
.jupyter-widget-gridbox {
  box-sizing: border-box;
  display: grid;
  margin: 0;
  overflow: auto;
}

/* <DEPRECATED> */
.widget-hbox, /* </DEPRECATED> */
.jupyter-widget-hbox {
  flex-direction: row;
}

/* <DEPRECATED> */
.widget-vbox, /* </DEPRECATED> */
.jupyter-widget-vbox {
  flex-direction: column;
}

/* General Tags Styling */

.jupyter-widget-tagsinput {
  display: flex;
  flex-direction: row;
  flex-wrap: wrap;
  align-items: center;
  overflow: auto;

  cursor: text;
}

.jupyter-widget-tag {
  padding-left: 10px;
  padding-right: 10px;
  padding-top: 0px;
  padding-bottom: 0px;
  display: inline-block;
  white-space: nowrap;
  overflow: hidden;
  text-overflow: ellipsis;
  text-align: center;
  font-size: var(--jp-widgets-font-size);

  height: calc(var(--jp-widgets-inline-height) - 2px);
  border: 0px solid;
  line-height: calc(var(--jp-widgets-inline-height) - 2px);
  box-shadow: none;

  color: var(--jp-ui-font-color1);
  background-color: var(--jp-layout-color2);
  border-color: var(--jp-border-color2);
  border: none;
  user-select: none;

  cursor: grab;
  transition: margin-left 200ms;
  margin: 1px 1px 1px 1px;
}

.jupyter-widget-tag.mod-active {
  /* MD Lite 4dp shadow */
  box-shadow: 0 4px 5px 0 rgba(0, 0, 0, var(--md-shadow-key-penumbra-opacity)),
    0 1px 10px 0 rgba(0, 0, 0, var(--md-shadow-ambient-shadow-opacity)),
    0 2px 4px -1px rgba(0, 0, 0, var(--md-shadow-key-umbra-opacity));
  color: var(--jp-ui-font-color1);
  background-color: var(--jp-layout-color3);
}

.jupyter-widget-colortag {
  color: var(--jp-inverse-ui-font-color1);
}

.jupyter-widget-colortag.mod-active {
  color: var(--jp-inverse-ui-font-color0);
}

.jupyter-widget-taginput {
  color: var(--jp-ui-font-color0);
  background-color: var(--jp-layout-color0);

  cursor: text;
  text-align: left;
}

.jupyter-widget-taginput:focus {
  outline: none;
}

.jupyter-widget-tag-close {
  margin-left: var(--jp-widgets-inline-margin);
  padding: 2px 0px 2px 2px;
}

.jupyter-widget-tag-close:hover {
  cursor: pointer;
}

/* Tag "Primary" Styling */

.jupyter-widget-tag.mod-primary {
  color: var(--jp-inverse-ui-font-color1);
  background-color: var(--jp-brand-color1);
}

.jupyter-widget-tag.mod-primary.mod-active {
  color: var(--jp-inverse-ui-font-color0);
  background-color: var(--jp-brand-color0);
}

/* Tag "Success" Styling */

.jupyter-widget-tag.mod-success {
  color: var(--jp-inverse-ui-font-color1);
  background-color: var(--jp-success-color1);
}

.jupyter-widget-tag.mod-success.mod-active {
  color: var(--jp-inverse-ui-font-color0);
  background-color: var(--jp-success-color0);
}

/* Tag "Info" Styling */

.jupyter-widget-tag.mod-info {
  color: var(--jp-inverse-ui-font-color1);
  background-color: var(--jp-info-color1);
}

.jupyter-widget-tag.mod-info.mod-active {
  color: var(--jp-inverse-ui-font-color0);
  background-color: var(--jp-info-color0);
}

/* Tag "Warning" Styling */

.jupyter-widget-tag.mod-warning {
  color: var(--jp-inverse-ui-font-color1);
  background-color: var(--jp-warn-color1);
}

.jupyter-widget-tag.mod-warning.mod-active {
  color: var(--jp-inverse-ui-font-color0);
  background-color: var(--jp-warn-color0);
}

/* Tag "Danger" Styling */

.jupyter-widget-tag.mod-danger {
  color: var(--jp-inverse-ui-font-color1);
  background-color: var(--jp-error-color1);
}

.jupyter-widget-tag.mod-danger.mod-active {
  color: var(--jp-inverse-ui-font-color0);
  background-color: var(--jp-error-color0);
}

/* General Button Styling */

.jupyter-button {
  padding-left: 10px;
  padding-right: 10px;
  padding-top: 0px;
  padding-bottom: 0px;
  display: inline-block;
  white-space: nowrap;
  overflow: hidden;
  text-overflow: ellipsis;
  text-align: center;
  font-size: var(--jp-widgets-font-size);
  cursor: pointer;

  height: var(--jp-widgets-inline-height);
  border: 0px solid;
  line-height: var(--jp-widgets-inline-height);
  box-shadow: none;

  color: var(--jp-ui-font-color1);
  background-color: var(--jp-layout-color2);
  border-color: var(--jp-border-color2);
  border: none;
  user-select: none;
}

.jupyter-button i.fa {
  margin-right: var(--jp-widgets-inline-margin);
  pointer-events: none;
}

.jupyter-button:empty:before {
  content: '\200b'; /* zero-width space */
}

.jupyter-widgets.jupyter-button:disabled {
  opacity: var(--jp-widgets-disabled-opacity);
}

.jupyter-button i.fa.center {
  margin-right: 0;
}

.jupyter-button:hover:enabled,
.jupyter-button:focus:enabled {
  /* MD Lite 2dp shadow */
  box-shadow: 0 2px 2px 0 rgba(0, 0, 0, var(--md-shadow-key-penumbra-opacity)),
    0 3px 1px -2px rgba(0, 0, 0, var(--md-shadow-key-umbra-opacity)),
    0 1px 5px 0 rgba(0, 0, 0, var(--md-shadow-ambient-shadow-opacity));
}

.jupyter-button:active,
.jupyter-button.mod-active {
  /* MD Lite 4dp shadow */
  box-shadow: 0 4px 5px 0 rgba(0, 0, 0, var(--md-shadow-key-penumbra-opacity)),
    0 1px 10px 0 rgba(0, 0, 0, var(--md-shadow-ambient-shadow-opacity)),
    0 2px 4px -1px rgba(0, 0, 0, var(--md-shadow-key-umbra-opacity));
  color: var(--jp-ui-font-color1);
  background-color: var(--jp-layout-color3);
}

.jupyter-button:focus:enabled {
  outline: 1px solid var(--jp-widgets-input-focus-border-color);
}

/* Button "Primary" Styling */

.jupyter-button.mod-primary {
  color: var(--jp-ui-inverse-font-color1);
  background-color: var(--jp-brand-color1);
}

.jupyter-button.mod-primary.mod-active {
  color: var(--jp-ui-inverse-font-color0);
  background-color: var(--jp-brand-color0);
}

.jupyter-button.mod-primary:active {
  color: var(--jp-ui-inverse-font-color0);
  background-color: var(--jp-brand-color0);
}

/* Button "Success" Styling */

.jupyter-button.mod-success {
  color: var(--jp-ui-inverse-font-color1);
  background-color: var(--jp-success-color1);
}

.jupyter-button.mod-success.mod-active {
  color: var(--jp-ui-inverse-font-color0);
  background-color: var(--jp-success-color0);
}

.jupyter-button.mod-success:active {
  color: var(--jp-ui-inverse-font-color0);
  background-color: var(--jp-success-color0);
}

/* Button "Info" Styling */

.jupyter-button.mod-info {
  color: var(--jp-ui-inverse-font-color1);
  background-color: var(--jp-info-color1);
}

.jupyter-button.mod-info.mod-active {
  color: var(--jp-ui-inverse-font-color0);
  background-color: var(--jp-info-color0);
}

.jupyter-button.mod-info:active {
  color: var(--jp-ui-inverse-font-color0);
  background-color: var(--jp-info-color0);
}

/* Button "Warning" Styling */

.jupyter-button.mod-warning {
  color: var(--jp-ui-inverse-font-color1);
  background-color: var(--jp-warn-color1);
}

.jupyter-button.mod-warning.mod-active {
  color: var(--jp-ui-inverse-font-color0);
  background-color: var(--jp-warn-color0);
}

.jupyter-button.mod-warning:active {
  color: var(--jp-ui-inverse-font-color0);
  background-color: var(--jp-warn-color0);
}

/* Button "Danger" Styling */

.jupyter-button.mod-danger {
  color: var(--jp-ui-inverse-font-color1);
  background-color: var(--jp-error-color1);
}

.jupyter-button.mod-danger.mod-active {
  color: var(--jp-ui-inverse-font-color0);
  background-color: var(--jp-error-color0);
}

.jupyter-button.mod-danger:active {
  color: var(--jp-ui-inverse-font-color0);
  background-color: var(--jp-error-color0);
}

/* Widget Button, Widget Toggle Button, Widget Upload */

/* <DEPRECATED> */
.widget-button, /* </DEPRECATED> */
/* <DEPRECATED> */ .widget-toggle-button, /* </DEPRECATED> */
/* <DEPRECATED> */ .widget-upload, /* </DEPRECATED> */
.jupyter-widget-button,
.jupyter-widget-toggle-button,
.jupyter-widget-upload {
  width: var(--jp-widgets-inline-width-short);
}

/* Widget Label Styling */

/* Override Bootstrap label css */
.jupyter-widgets label {
  margin-bottom: initial;
}

/* <DEPRECATED> */
.widget-label-basic, /* </DEPRECATED> */
.jupyter-widget-label-basic {
  /* Basic Label */
  color: var(--jp-widgets-label-color);
  font-size: var(--jp-widgets-font-size);
  overflow: hidden;
  text-overflow: ellipsis;
  white-space: nowrap;
  line-height: var(--jp-widgets-inline-height);
}

/* <DEPRECATED> */
.widget-label, /* </DEPRECATED> */
.jupyter-widget-label {
  /* Label */
  color: var(--jp-widgets-label-color);
  font-size: var(--jp-widgets-font-size);
  overflow: hidden;
  text-overflow: ellipsis;
  white-space: nowrap;
  line-height: var(--jp-widgets-inline-height);
}

/* <DEPRECATED> */
.widget-inline-hbox .widget-label, /* </DEPRECATED> */
.jupyter-widget-inline-hbox .jupyter-widget-label {
  /* Horizontal Widget Label */
  color: var(--jp-widgets-label-color);
  text-align: right;
  margin-right: calc(var(--jp-widgets-inline-margin) * 2);
  width: var(--jp-widgets-inline-label-width);
  flex-shrink: 0;
}

/* <DEPRECATED> */
.widget-inline-vbox .widget-label, /* </DEPRECATED> */
.jupyter-widget-inline-vbox .jupyter-widget-label {
  /* Vertical Widget Label */
  color: var(--jp-widgets-label-color);
  text-align: center;
  line-height: var(--jp-widgets-inline-height);
}

/* Widget Readout Styling */

/* <DEPRECATED> */
.widget-readout, /* </DEPRECATED> */
.jupyter-widget-readout {
  color: var(--jp-widgets-readout-color);
  font-size: var(--jp-widgets-font-size);
  height: var(--jp-widgets-inline-height);
  line-height: var(--jp-widgets-inline-height);
  overflow: hidden;
  white-space: nowrap;
  text-align: center;
}

/* <DEPRECATED> */
.widget-readout.overflow, /* </DEPRECATED> */
.jupyter-widget-readout.overflow {
  /* Overflowing Readout */

  /* From Material Design Lite
        shadow-key-umbra-opacity: 0.2;
        shadow-key-penumbra-opacity: 0.14;
        shadow-ambient-shadow-opacity: 0.12;
     */
  -webkit-box-shadow: 0 2px 2px 0 rgba(0, 0, 0, 0.2),
    0 3px 1px -2px rgba(0, 0, 0, 0.14), 0 1px 5px 0 rgba(0, 0, 0, 0.12);

  -moz-box-shadow: 0 2px 2px 0 rgba(0, 0, 0, 0.2),
    0 3px 1px -2px rgba(0, 0, 0, 0.14), 0 1px 5px 0 rgba(0, 0, 0, 0.12);

  box-shadow: 0 2px 2px 0 rgba(0, 0, 0, 0.2), 0 3px 1px -2px rgba(0, 0, 0, 0.14),
    0 1px 5px 0 rgba(0, 0, 0, 0.12);
}

/* <DEPRECATED> */
.widget-inline-hbox .widget-readout, /* </DEPRECATED> */
.jupyter-widget-inline-hbox .jupyter-widget-readout {
  /* Horizontal Readout */
  text-align: center;
  max-width: var(--jp-widgets-inline-width-short);
  min-width: var(--jp-widgets-inline-width-tiny);
  margin-left: var(--jp-widgets-inline-margin);
}

/* <DEPRECATED> */
.widget-inline-vbox .widget-readout, /* </DEPRECATED> */
.jupyter-widget-inline-vbox .jupyter-widget-readout {
  /* Vertical Readout */
  margin-top: var(--jp-widgets-inline-margin);
  /* as wide as the widget */
  width: inherit;
}

/* Widget Checkbox Styling */

/* <DEPRECATED> */
.widget-checkbox, /* </DEPRECATED> */
.jupyter-widget-checkbox {
  width: var(--jp-widgets-inline-width);
  height: var(--jp-widgets-inline-height);
  line-height: var(--jp-widgets-inline-height);
}

/* <DEPRECATED> */
.widget-checkbox input[type='checkbox'], /* </DEPRECATED> */
.jupyter-widget-checkbox input[type='checkbox'] {
  margin: 0px calc(var(--jp-widgets-inline-margin) * 2) 0px 0px;
  line-height: var(--jp-widgets-inline-height);
  font-size: large;
  flex-grow: 1;
  flex-shrink: 0;
  align-self: center;
}

/* Widget Valid Styling */

/* <DEPRECATED> */
.widget-valid, /* </DEPRECATED> */
.jupyter-widget-valid {
  height: var(--jp-widgets-inline-height);
  line-height: var(--jp-widgets-inline-height);
  width: var(--jp-widgets-inline-width-short);
  font-size: var(--jp-widgets-font-size);
}

/* <DEPRECATED> */
.widget-valid i, /* </DEPRECATED> */
.jupyter-widget-valid i {
  line-height: var(--jp-widgets-inline-height);
  margin-right: var(--jp-widgets-inline-margin);
  margin-left: var(--jp-widgets-inline-margin);
}

/* <DEPRECATED> */
.widget-valid.mod-valid i, /* </DEPRECATED> */
.jupyter-widget-valid.mod-valid i {
  color: green;
}

/* <DEPRECATED> */
.widget-valid.mod-invalid i, /* </DEPRECATED> */
.jupyter-widget-valid.mod-invalid i {
  color: red;
}

/* <DEPRECATED> */
.widget-valid.mod-valid .widget-valid-readout, /* </DEPRECATED> */
.jupyter-widget-valid.mod-valid .jupyter-widget-valid-readout {
  display: none;
}

/* Widget Text and TextArea Styling */

/* <DEPRECATED> */
.widget-textarea, /* </DEPRECATED> */
/* <DEPRECATED> */ .widget-text, /* </DEPRECATED> */
.jupyter-widget-textarea,
.jupyter-widget-text {
  width: var(--jp-widgets-inline-width);
}

/* <DEPRECATED> */
.widget-text input[type='text'], /* </DEPRECATED> */
/* <DEPRECATED> */ .widget-text input[type='number'], /* </DEPRECATED> */
/* <DEPRECATED> */ .widget-text input[type='password'], /* </DEPRECATED> */
.jupyter-widget-text input[type='text'],
.jupyter-widget-text input[type='number'],
.jupyter-widget-text input[type='password'] {
  height: var(--jp-widgets-inline-height);
}

/* <DEPRECATED> */
.widget-text input[type='text']:disabled, /* </DEPRECATED> */
/* <DEPRECATED> */ .widget-text input[type='number']:disabled, /* </DEPRECATED> */
/* <DEPRECATED> */ .widget-text input[type='password']:disabled, /* </DEPRECATED> */
/* <DEPRECATED> */ .widget-textarea textarea:disabled, /* </DEPRECATED> */
.jupyter-widget-text input[type='text']:disabled,
.jupyter-widget-text input[type='number']:disabled,
.jupyter-widget-text input[type='password']:disabled,
.jupyter-widget-textarea textarea:disabled {
  opacity: var(--jp-widgets-disabled-opacity);
}

/* <DEPRECATED> */
.widget-text input[type='text'], /* </DEPRECATED> */
/* <DEPRECATED> */ .widget-text input[type='number'], /* </DEPRECATED> */
/* <DEPRECATED> */ .widget-text input[type='password'], /* </DEPRECATED> */
/* <DEPRECATED> */ .widget-textarea textarea, /* </DEPRECATED> */
.jupyter-widget-text input[type='text'],
.jupyter-widget-text input[type='number'],
.jupyter-widget-text input[type='password'],
.jupyter-widget-textarea textarea {
  box-sizing: border-box;
  border: var(--jp-widgets-input-border-width) solid
    var(--jp-widgets-input-border-color);
  background-color: var(--jp-widgets-input-background-color);
  color: var(--jp-widgets-input-color);
  font-size: var(--jp-widgets-font-size);
  flex-grow: 1;
  min-width: 0; /* This makes it possible for the flexbox to shrink this input */
  flex-shrink: 1;
  outline: none !important;
}

/* <DEPRECATED> */
.widget-text input[type='text'], /* </DEPRECATED> */
/* <DEPRECATED> */ .widget-text input[type='password'], /* </DEPRECATED> */
/* <DEPRECATED> */ .widget-textarea textarea, /* </DEPRECATED> */
.jupyter-widget-text input[type='text'],
.jupyter-widget-text input[type='password'],
.jupyter-widget-textarea textarea {
  padding: var(--jp-widgets-input-padding)
    calc(var(--jp-widgets-input-padding) * 2);
}

/* <DEPRECATED> */
.widget-text input[type='number'], /* </DEPRECATED> */
.jupyter-widget-text input[type='number'] {
  padding: var(--jp-widgets-input-padding) 0 var(--jp-widgets-input-padding)
    calc(var(--jp-widgets-input-padding) * 2);
}

/* <DEPRECATED> */
.widget-textarea textarea, /* </DEPRECATED> */
.jupyter-widget-textarea textarea {
  height: inherit;
  width: inherit;
}

/* <DEPRECATED> */
.widget-text input:focus, /* </DEPRECATED> */
/* <DEPRECATED> */ .widget-textarea textarea:focus, /* </DEPRECATED> */
.jupyter-widget-text input:focus,
.jupyter-widget-textarea textarea:focus {
  border-color: var(--jp-widgets-input-focus-border-color);
}

/* Horizontal Slider */
/* <DEPRECATED> */
.widget-hslider, /* </DEPRECATED> */
.jupyter-widget-hslider {
  width: var(--jp-widgets-inline-width);
  height: var(--jp-widgets-inline-height);
  line-height: var(--jp-widgets-inline-height);

  /* Override the align-items baseline. This way, the description and readout
    still seem to align their baseline properly, and we don't have to have
    align-self: stretch in the .slider-container. */
  align-items: center;
}

/* <DEPRECATED> */
.widgets-slider .slider-container, /* </DEPRECATED> */
.jupyter-widgets-slider .slider-container {
  overflow: visible;
}

/* <DEPRECATED> */
.widget-hslider .slider-container, /* </DEPRECATED> */
.jupyter-widget-hslider .slider-container {
  margin-left: calc(
    var(--jp-widgets-slider-handle-size) / 2 - 2 *
      var(--jp-widgets-slider-border-width)
  );
  margin-right: calc(
    var(--jp-widgets-slider-handle-size) / 2 - 2 *
      var(--jp-widgets-slider-border-width)
  );
  flex: 1 1 var(--jp-widgets-inline-width-short);
}

/* Vertical Slider */

/* <DEPRECATED> */
.widget-vbox .widget-label, /* </DEPRECATED> */
.jupyter-widget-vbox .jupyter-widget-label {
  height: var(--jp-widgets-inline-height);
  line-height: var(--jp-widgets-inline-height);
}

/* <DEPRECATED> */
.widget-vslider, /* </DEPRECATED> */
.jupyter-widget-vslider {
  /* Vertical Slider */
  height: var(--jp-widgets-vertical-height);
  width: var(--jp-widgets-inline-width-tiny);
}

/* <DEPRECATED> */
.widget-vslider .slider-container, /* </DEPRECATED> */
.jupyter-widget-vslider .slider-container {
  flex: 1 1 var(--jp-widgets-inline-width-short);
  margin-left: auto;
  margin-right: auto;
  margin-bottom: calc(
    var(--jp-widgets-slider-handle-size) / 2 - 2 *
      var(--jp-widgets-slider-border-width)
  );
  margin-top: calc(
    var(--jp-widgets-slider-handle-size) / 2 - 2 *
      var(--jp-widgets-slider-border-width)
  );
  display: flex;
  flex-direction: column;
}

/* Widget Progress Styling */

.progress-bar {
  -webkit-transition: none;
  -moz-transition: none;
  -ms-transition: none;
  -o-transition: none;
  transition: none;
}

.progress-bar {
  height: var(--jp-widgets-inline-height);
}

.progress-bar {
  background-color: var(--jp-brand-color1);
}

.progress-bar-success {
  background-color: var(--jp-success-color1);
}

.progress-bar-info {
  background-color: var(--jp-info-color1);
}

.progress-bar-warning {
  background-color: var(--jp-warn-color1);
}

.progress-bar-danger {
  background-color: var(--jp-error-color1);
}

.progress {
  background-color: var(--jp-layout-color2);
  border: none;
  box-shadow: none;
}

/* Horisontal Progress */

/* <DEPRECATED> */
.widget-hprogress, /* </DEPRECATED> */
.jupyter-widget-hprogress {
  /* Progress Bar */
  height: var(--jp-widgets-inline-height);
  line-height: var(--jp-widgets-inline-height);
  width: var(--jp-widgets-inline-width);
  align-items: center;
}

/* <DEPRECATED> */
.widget-hprogress .progress, /* </DEPRECATED> */
.jupyter-widget-hprogress .progress {
  flex-grow: 1;
  margin-top: var(--jp-widgets-input-padding);
  margin-bottom: var(--jp-widgets-input-padding);
  align-self: stretch;
  /* Override bootstrap style */
  height: initial;
}

/* Vertical Progress */

/* <DEPRECATED> */
.widget-vprogress, /* </DEPRECATED> */
.jupyter-widget-vprogress {
  height: var(--jp-widgets-vertical-height);
  width: var(--jp-widgets-inline-width-tiny);
}

/* <DEPRECATED> */
.widget-vprogress .progress, /* </DEPRECATED> */
.jupyter-widget-vprogress .progress {
  flex-grow: 1;
  width: var(--jp-widgets-progress-thickness);
  margin-left: auto;
  margin-right: auto;
  margin-bottom: 0;
}

/* Select Widget Styling */

/* <DEPRECATED> */
.widget-dropdown, /* </DEPRECATED> */
.jupyter-widget-dropdown {
  height: var(--jp-widgets-inline-height);
  width: var(--jp-widgets-inline-width);
  line-height: var(--jp-widgets-inline-height);
}

/* <DEPRECATED> */
.widget-dropdown > select, /* </DEPRECATED> */
.jupyter-widget-dropdown > select {
  padding-right: 20px;
  border: var(--jp-widgets-input-border-width) solid
    var(--jp-widgets-input-border-color);
  border-radius: 0;
  height: inherit;
  flex: 1 1 var(--jp-widgets-inline-width-short);
  min-width: 0; /* This makes it possible for the flexbox to shrink this input */
  box-sizing: border-box;
  outline: none !important;
  box-shadow: none;
  background-color: var(--jp-widgets-input-background-color);
  color: var(--jp-widgets-input-color);
  font-size: var(--jp-widgets-font-size);
  vertical-align: top;
  padding-left: calc(var(--jp-widgets-input-padding) * 2);
  appearance: none;
  -webkit-appearance: none;
  -moz-appearance: none;
  background-repeat: no-repeat;
  background-size: 20px;
  background-position: right center;
  background-image: var(--jp-widgets-dropdown-arrow);
}
/* <DEPRECATED> */
.widget-dropdown > select:focus, /* </DEPRECATED> */
.jupyter-widget-dropdown > select:focus {
  border-color: var(--jp-widgets-input-focus-border-color);
}

/* <DEPRECATED> */
.widget-dropdown > select:disabled, /* </DEPRECATED> */
.jupyter-widget-dropdown > select:disabled {
  opacity: var(--jp-widgets-disabled-opacity);
}

/* To disable the dotted border in Firefox around select controls.
   See http://stackoverflow.com/a/18853002 */
/* <DEPRECATED> */
.widget-dropdown > select:-moz-focusring, /* </DEPRECATED> */
.jupyter-widget-dropdown > select:-moz-focusring {
  color: transparent;
  text-shadow: 0 0 0 #000;
}

/* Select and SelectMultiple */

/* <DEPRECATED> */
.widget-select, /* </DEPRECATED> */
.jupyter-widget-select {
  width: var(--jp-widgets-inline-width);
  line-height: var(--jp-widgets-inline-height);

  /* Because Firefox defines the baseline of a select as the bottom of the
    control, we align the entire control to the top and add padding to the
    select to get an approximate first line baseline alignment. */
  align-items: flex-start;
}

/* <DEPRECATED> */
.widget-select > select, /* </DEPRECATED> */
.jupyter-widget-select > select {
  border: var(--jp-widgets-input-border-width) solid
    var(--jp-widgets-input-border-color);
  background-color: var(--jp-widgets-input-background-color);
  color: var(--jp-widgets-input-color);
  font-size: var(--jp-widgets-font-size);
  flex: 1 1 var(--jp-widgets-inline-width-short);
  outline: none !important;
  overflow: auto;
  height: inherit;

  /* Because Firefox defines the baseline of a select as the bottom of the
    control, we align the entire control to the top and add padding to the
    select to get an approximate first line baseline alignment. */
  padding-top: 5px;
}

/* <DEPRECATED> */
.widget-select > select:focus, /* </DEPRECATED> */
.jupyter-widget-select > select:focus {
  border-color: var(--jp-widgets-input-focus-border-color);
}

.wiget-select > select > option,
.jupyter-wiget-select > select > option {
  padding-left: var(--jp-widgets-input-padding);
  line-height: var(--jp-widgets-inline-height);
  /* line-height doesn't work on some browsers for select options */
  padding-top: calc(
    var(--jp-widgets-inline-height) - var(--jp-widgets-font-size) / 2
  );
  padding-bottom: calc(
    var(--jp-widgets-inline-height) - var(--jp-widgets-font-size) / 2
  );
}

/* Toggle Buttons Styling */

/* <DEPRECATED> */
.widget-toggle-buttons, /* </DEPRECATED> */
.jupyter-widget-toggle-buttons {
  line-height: var(--jp-widgets-inline-height);
}

/* <DEPRECATED> */
.widget-toggle-buttons .widget-toggle-button, /* </DEPRECATED> */
.jupyter-widget-toggle-buttons .jupyter-widget-toggle-button {
  margin-left: var(--jp-widgets-margin);
  margin-right: var(--jp-widgets-margin);
}

/* <DEPRECATED> */
.widget-toggle-buttons .jupyter-button:disabled, /* </DEPRECATED> */
.jupyter-widget-toggle-buttons .jupyter-button:disabled {
  opacity: var(--jp-widgets-disabled-opacity);
}

/* Radio Buttons Styling */

/* <DEPRECATED> */
.widget-radio, /* </DEPRECATED> */
.jupyter-widget-radio {
  width: var(--jp-widgets-inline-width);
  line-height: var(--jp-widgets-inline-height);
}

/* <DEPRECATED> */
.widget-radio-box, /* </DEPRECATED> */
.jupyter-widget-radio-box {
  display: flex;
  flex-direction: column;
  align-items: stretch;
  box-sizing: border-box;
  flex-grow: 1;
  margin-bottom: var(--jp-widgets-radio-item-height-adjustment);
}

/* <DEPRECATED> */
.widget-radio-box label, /* </DEPRECATED> */
.jupyter-widget-radio-box label {
  height: var(--jp-widgets-radio-item-height);
  line-height: var(--jp-widgets-radio-item-height);
  font-size: var(--jp-widgets-font-size);
}

/* <DEPRECATED> */
.widget-radio-box input, /* </DEPRECATED> */
.jupyter-widget-radio-box input {
  height: var(--jp-widgets-radio-item-height);
  line-height: var(--jp-widgets-radio-item-height);
  margin: 0 calc(var(--jp-widgets-input-padding) * 2) 0 1px;
  float: left;
}

/* Color Picker Styling */

/* <DEPRECATED> */
.widget-colorpicker, /* </DEPRECATED> */
.jupyter-widget-colorpicker {
  width: var(--jp-widgets-inline-width);
  height: var(--jp-widgets-inline-height);
  line-height: var(--jp-widgets-inline-height);
}

/* <DEPRECATED> */
.widget-colorpicker > .widget-colorpicker-input, /* </DEPRECATED> */
.jupyter-widget-colorpicker > .jupyter-widget-colorpicker-input {
  flex-grow: 1;
  flex-shrink: 1;
  min-width: var(--jp-widgets-inline-width-tiny);
}

/* <DEPRECATED> */
.widget-colorpicker input[type='color'], /* </DEPRECATED> */
.jupyter-widget-colorpicker input[type='color'] {
  width: var(--jp-widgets-inline-height);
  height: var(--jp-widgets-inline-height);
  padding: 0 2px; /* make the color square actually square on Chrome on OS X */
  background: var(--jp-widgets-input-background-color);
  color: var(--jp-widgets-input-color);
  border: var(--jp-widgets-input-border-width) solid
    var(--jp-widgets-input-border-color);
  border-left: none;
  flex-grow: 0;
  flex-shrink: 0;
  box-sizing: border-box;
  align-self: stretch;
  outline: none !important;
}

/* <DEPRECATED> */
.widget-colorpicker.concise input[type='color'], /* </DEPRECATED> */
.jupyter-widget-colorpicker.concise input[type='color'] {
  border-left: var(--jp-widgets-input-border-width) solid
    var(--jp-widgets-input-border-color);
}

/* <DEPRECATED> */
.widget-colorpicker input[type='color']:focus, /* </DEPRECATED> */
/* <DEPRECATED> */ .widget-colorpicker input[type='text']:focus, /* </DEPRECATED> */
.jupyter-widget-colorpicker input[type='color']:focus,
.jupyter-widget-colorpicker input[type='text']:focus {
  border-color: var(--jp-widgets-input-focus-border-color);
}

/* <DEPRECATED> */
.widget-colorpicker input[type='text'], /* </DEPRECATED> */
.jupyter-widget-colorpicker input[type='text'] {
  flex-grow: 1;
  outline: none !important;
  height: var(--jp-widgets-inline-height);
  line-height: var(--jp-widgets-inline-height);
  background: var(--jp-widgets-input-background-color);
  color: var(--jp-widgets-input-color);
  border: var(--jp-widgets-input-border-width) solid
    var(--jp-widgets-input-border-color);
  font-size: var(--jp-widgets-font-size);
  padding: var(--jp-widgets-input-padding)
    calc(var(--jp-widgets-input-padding) * 2);
  min-width: 0; /* This makes it possible for the flexbox to shrink this input */
  flex-shrink: 1;
  box-sizing: border-box;
}

/* <DEPRECATED> */
.widget-colorpicker input[type='text']:disabled, /* </DEPRECATED> */
.jupyter-widget-colorpicker input[type='text']:disabled {
  opacity: var(--jp-widgets-disabled-opacity);
}

/* Date Picker Styling */

/* <DEPRECATED> */
.widget-datepicker, /* </DEPRECATED> */
.jupyter-widget-datepicker {
  width: var(--jp-widgets-inline-width);
  height: var(--jp-widgets-inline-height);
  line-height: var(--jp-widgets-inline-height);
}

/* <DEPRECATED> */
.widget-datepicker input[type='date'], /* </DEPRECATED> */
.jupyter-widget-datepicker input[type='date'] {
  flex-grow: 1;
  flex-shrink: 1;
  min-width: 0; /* This makes it possible for the flexbox to shrink this input */
  outline: none !important;
  height: var(--jp-widgets-inline-height);
  border: var(--jp-widgets-input-border-width) solid
    var(--jp-widgets-input-border-color);
  background-color: var(--jp-widgets-input-background-color);
  color: var(--jp-widgets-input-color);
  font-size: var(--jp-widgets-font-size);
  padding: var(--jp-widgets-input-padding)
    calc(var(--jp-widgets-input-padding) * 2);
  box-sizing: border-box;
}

/* <DEPRECATED> */
.widget-datepicker input[type='date']:focus, /* </DEPRECATED> */
.jupyter-widget-datepicker input[type='date']:focus {
  border-color: var(--jp-widgets-input-focus-border-color);
}

/* <DEPRECATED> */
.widget-datepicker input[type='date']:invalid, /* </DEPRECATED> */
.jupyter-widget-datepicker input[type='date']:invalid {
  border-color: var(--jp-warn-color1);
}

/* <DEPRECATED> */
.widget-datepicker input[type='date']:disabled, /* </DEPRECATED> */
.jupyter-widget-datepicker input[type='date']:disabled {
  opacity: var(--jp-widgets-disabled-opacity);
}

/* Play Widget */

/* <DEPRECATED> */
.widget-play, /* </DEPRECATED> */
.jupyter-widget-play {
  width: var(--jp-widgets-inline-width-short);
  display: flex;
  align-items: stretch;
}

/* <DEPRECATED> */
.widget-play .jupyter-button, /* </DEPRECATED> */
.jupyter-widget-play .jupyter-button {
  flex-grow: 1;
  height: auto;
}

/* <DEPRECATED> */
.widget-play .jupyter-button:disabled, /* </DEPRECATED> */
.jupyter-widget-play .jupyter-button:disabled {
  opacity: var(--jp-widgets-disabled-opacity);
}

/* Tab Widget */

/* <DEPRECATED> */
.jupyter-widgets.widget-tab, /* </DEPRECATED> */
.jupyter-widgets.jupyter-widget-tab {
  display: flex;
  flex-direction: column;
}

/* <DEPRECATED> */
.jupyter-widgets.widget-tab > .p-TabBar, /* </DEPRECATED> */
/* <DEPRECATED> */.jupyter-widgets.jupyter-widget-tab > .p-TabBar, /* </DEPRECATED> */
.jupyter-widgets.jupyter-widget-tab > .lm-TabBar {
  /* Necessary so that a tab can be shifted down to overlay the border of the box below. */
  overflow-x: visible;
  overflow-y: visible;
}

/* <DEPRECATED> */
.jupyter-widgets.widget-tab > .p-TabBar > .p-TabBar-content, /* </DEPRECATED> */
/* <DEPRECATED> */.jupyter-widgets.jupyter-widget-tab > .p-TabBar > .p-TabBar-content, /* </DEPRECATED> */
.jupyter-widgets.jupyter-widget-tab > .lm-TabBar > .lm-TabBar-content {
  /* Make sure that the tab grows from bottom up */
  align-items: flex-end;
  min-width: 0;
  min-height: 0;
}

/* <DEPRECATED> */
.jupyter-widgets.widget-tab > .widget-tab-contents, /* </DEPRECATED> */
.jupyter-widgets.jupyter-widget-tab > .widget-tab-contents {
  width: 100%;
  box-sizing: border-box;
  margin: 0;
  background: var(--jp-layout-color1);
  color: var(--jp-ui-font-color1);
  border: var(--jp-border-width) solid var(--jp-border-color1);
  padding: var(--jp-widgets-container-padding);
  flex-grow: 1;
  overflow: auto;
}

/* <DEPRECATED> */
.jupyter-widgets.widget-tab > .p-TabBar, /* </DEPRECATED> */
/* <DEPRECATED> */.jupyter-widgets.jupyter-widget-tab > .p-TabBar, /* </DEPRECATED> */
.jupyter-widgets.jupyter-widget-tab > .lm-TabBar {
  font: var(--jp-widgets-font-size) Helvetica, Arial, sans-serif;
  min-height: calc(
    var(--jp-widgets-horizontal-tab-height) + var(--jp-border-width)
  );
}

/* <DEPRECATED> */
.jupyter-widgets.widget-tab > .p-TabBar .p-TabBar-tab, /* </DEPRECATED> */
/* <DEPRECATED> */.jupyter-widgets.jupyter-widget-tab > .p-TabBar .p-TabBar-tab, /* </DEPRECATED> */
.jupyter-widgets.jupyter-widget-tab > .lm-TabBar .lm-TabBar-tab {
  flex: 0 1 var(--jp-widgets-horizontal-tab-width);
  min-width: 35px;
  min-height: calc(
    var(--jp-widgets-horizontal-tab-height) + var(--jp-border-width)
  );
  line-height: var(--jp-widgets-horizontal-tab-height);
  margin-left: calc(-1 * var(--jp-border-width));
  padding: 0px 10px;
  background: var(--jp-layout-color2);
  color: var(--jp-ui-font-color2);
  border: var(--jp-border-width) solid var(--jp-border-color1);
  border-bottom: none;
  position: relative;
}

/* <DEPRECATED> */
.jupyter-widgets.widget-tab > .p-TabBar .p-TabBar-tab.p-mod-current, /* </DEPRECATED> */
/* <DEPRECATED> */.jupyter-widgets.jupyter-widget-tab > .p-TabBar .p-TabBar-tab.p-mod-current, /* </DEPRECATED> */
.jupyter-widgets.jupyter-widget-tab > .lm-TabBar .lm-TabBar-tab.lm-mod-current {
  color: var(--jp-ui-font-color0);
  /* We want the background to match the tab content background */
  background: var(--jp-layout-color1);
  min-height: calc(
    var(--jp-widgets-horizontal-tab-height) + 2 * var(--jp-border-width)
  );
  transform: translateY(var(--jp-border-width));
  overflow: visible;
}

/* <DEPRECATED> */
.jupyter-widgets.widget-tab > .p-TabBar .p-TabBar-tab.p-mod-current:before, /* </DEPRECATED> */
/* <DEPRECATED> */.jupyter-widgets.jupyter-widget-tab > .p-TabBar .p-TabBar-tab.p-mod-current:before, /* </DEPRECATED> */
.jupyter-widgets.jupyter-widget-tab > .lm-TabBar .lm-TabBar-tab.lm-mod-current:before {
  position: absolute;
  top: calc(-1 * var(--jp-border-width));
  left: calc(-1 * var(--jp-border-width));
  content: '';
  height: var(--jp-widgets-horizontal-tab-top-border);
  width: calc(100% + 2 * var(--jp-border-width));
  background: var(--jp-brand-color1);
}

/* <DEPRECATED> */
.jupyter-widgets.widget-tab > .p-TabBar .p-TabBar-tab:first-child, /* </DEPRECATED> */
/* <DEPRECATED> */.jupyter-widgets.jupyter-widget-tab > .p-TabBar .p-TabBar-tab:first-child, /* </DEPRECATED> */
.jupyter-widgets.jupyter-widget-tab > .lm-TabBar .lm-TabBar-tab:first-child {
  margin-left: 0;
}

/* <DEPRECATED> */
.jupyter-widgets.widget-tab
  > .p-TabBar
  .p-TabBar-tab:hover:not(.p-mod-current),
/* </DEPRECATED> */
/* <DEPRECATED> */
.jupyter-widgets.jupyter-widget-tab
  > .p-TabBar
  .p-TabBar-tab:hover:not(.p-mod-current),
/* </DEPRECATED> */
.jupyter-widgets.jupyter-widget-tab
  > .lm-TabBar
  .lm-TabBar-tab:hover:not(.lm-mod-current) {
  background: var(--jp-layout-color1);
  color: var(--jp-ui-font-color1);
}

/* <DEPRECATED> */
.jupyter-widgets.widget-tab
  > .p-TabBar
  .p-mod-closable
  > .p-TabBar-tabCloseIcon,
/* </DEPRECATED> */
/* <DEPRECATED> */
.jupyter-widgets.jupyter-widget-tab
> .p-TabBar
.p-mod-closable
> .p-TabBar-tabCloseIcon,
/* </DEPRECATED> */
.jupyter-widgets.jupyter-widget-tab
  > .lm-TabBar
  .lm-mod-closable
  > .lm-TabBar-tabCloseIcon {
  margin-left: 4px;
}

/* This font-awesome strategy may not work across FA4 and FA5, but we don't
actually support closable tabs, so it really doesn't matter */
/* <DEPRECATED> */
.jupyter-widgets.widget-tab
  > .p-TabBar
  .p-mod-closable
  > .p-TabBar-tabCloseIcon:before,
/* </DEPRECATED> */
/* <DEPRECATED> */
.jupyter-widgets.jupyter-widget-widget-tab
> .p-TabBar
.p-mod-closable
> .p-TabBar-tabCloseIcon:before,
/* </DEPRECATED> */
.jupyter-widgets.jupyter-widget-tab
  > .lm-TabBar
  .lm-mod-closable
  > .lm-TabBar-tabCloseIcon:before {
  font-family: FontAwesome;
  content: '\f00d'; /* close */
}

/* <DEPRECATED> */
.jupyter-widgets.widget-tab > .p-TabBar .p-TabBar-tabIcon, /* </DEPRECATED> */
/* <DEPRECATED> */ .jupyter-widgets.widget-tab > .p-TabBar .p-TabBar-tabLabel, /* </DEPRECATED> */
/* <DEPRECATED> */ .jupyter-widgets.widget-tab > .p-TabBar .p-TabBar-tabCloseIcon, /* </DEPRECATED> */
/* <DEPRECATED> */ .jupyter-widgets.jupyter-widget-tab > .p-TabBar .p-TabBar-tabIcon, /* </DEPRECATED> */
/* <DEPRECATED> */ .jupyter-widgets.jupyter-widget-tab > .p-TabBar .p-TabBar-tabLabel, /* </DEPRECATED> */
/* <DEPRECATED> */ .jupyter-widgets.jupyter-widget-tab > .p-TabBar .p-TabBar-tabCloseIcon, /* </DEPRECATED> */
.jupyter-widgets.jupyter-widget-tab > .lm-TabBar .lm-TabBar-tabIcon,
.jupyter-widgets.jupyter-widget-tab > .lm-TabBar .lm-TabBar-tabLabel,
.jupyter-widgets.jupyter-widget-tab > .lm-TabBar .lm-TabBar-tabCloseIcon {
  line-height: var(--jp-widgets-horizontal-tab-height);
}

/* Accordion Widget */

.jupyter-widget-Collapse {
  display: flex;
  flex-direction: column;
  align-items: stretch;
}

.jupyter-widget-Collapse-header {
  padding: var(--jp-widgets-input-padding);
  cursor: pointer;
  color: var(--jp-ui-font-color2);
  background-color: var(--jp-layout-color2);
  border: var(--jp-widgets-border-width) solid var(--jp-border-color1);
  padding: calc(var(--jp-widgets-container-padding) * 2 / 3)
    var(--jp-widgets-container-padding);
  font-weight: bold;
}

.jupyter-widget-Collapse-header:hover {
  background-color: var(--jp-layout-color1);
  color: var(--jp-ui-font-color1);
}

.jupyter-widget-Collapse-open > .jupyter-widget-Collapse-header {
  background-color: var(--jp-layout-color1);
  color: var(--jp-ui-font-color0);
  cursor: default;
  border-bottom: none;
}

.jupyter-widget-Collapse-contents {
  padding: var(--jp-widgets-container-padding);
  background-color: var(--jp-layout-color1);
  color: var(--jp-ui-font-color1);
  border-left: var(--jp-widgets-border-width) solid var(--jp-border-color1);
  border-right: var(--jp-widgets-border-width) solid var(--jp-border-color1);
  border-bottom: var(--jp-widgets-border-width) solid var(--jp-border-color1);
  overflow: auto;
}

.jupyter-widget-Accordion {
  display: flex;
  flex-direction: column;
  align-items: stretch;
}

.jupyter-widget-Accordion .jupyter-widget-Collapse {
  margin-bottom: 0;
}

.jupyter-widget-Accordion .jupyter-widget-Collapse + .jupyter-widget-Collapse {
  margin-top: 4px;
}

/* HTML widget */

/* <DEPRECATED> */
.widget-html, /* </DEPRECATED> */
/* <DEPRECATED> */ .widget-htmlmath, /* </DEPRECATED> */
.jupyter-widget-html,
.jupyter-widget-htmlmath {
  font-size: var(--jp-widgets-font-size);
}

/* <DEPRECATED> */
.widget-html > .widget-html-content, /* </DEPRECATED> */
/* <DEPRECATED> */.widget-htmlmath > .widget-html-content, /* </DEPRECATED> */
.jupyter-widget-html > .jupyter-widget-html-content,
.jupyter-widget-htmlmath > .jupyter-widget-html-content {
  /* Fill out the area in the HTML widget */
  align-self: stretch;
  flex-grow: 1;
  flex-shrink: 1;
  /* Makes sure the baseline is still aligned with other elements */
  line-height: var(--jp-widgets-inline-height);
  /* Make it possible to have absolutely-positioned elements in the html */
  position: relative;
}

/* Image widget  */

/* <DEPRECATED> */
.widget-image, /* </DEPRECATED> */
.jupyter-widget-image {
  max-width: 100%;
  height: auto;
}
</style><style>.jp-VarInspector {
  flex-direction: column;
  overflow: auto;
  font-size: var(--jp-ui-font-size1);
}

.jp-VarInspector-table {
  font-family: monospace;
  border-collapse: collapse;
  margin: auto;
  width: 100%;
  color: var(--jp-content-font-color1);
}

.jp-VarInspector-table td,
.jp-VarInspector-table thead {
  border: 1px solid;
  border-color: var(--jp-layout-color2);
  padding: 8px;
}

.jp-VarInspector-table tr:nth-child(even) {
  background-color: var(--jp-layout-color1);
}

.jp-VarInspector-content tr:hover {
  background-color: var(--jp-layout-color2);
}

.jp-VarInspector-table thead {
  font-size: var(--jp-ui-font-size0);
  text-align: center;
  background-color: var(--jp-layout-color2);
  color: var(--jp-ui-font-color1);
  font-family: sans-serif;
  font-weight: 600;
  letter-spacing: 1px;
  text-transform: uppercase;
}

.jp-VarInspector-title {
  font-size: var(--jp-ui-font-size1);
  color: var(--jp-content-font-color1);
  text-align: left;
  padding-left: 10px;
}

.jp-VarInspector-deleteButton {
  text-align: center;
  width: 1em;
}

.jp-VarInspector-inspectButton {
  text-align: center;
  width: 1em;
}

.jp-VarInspector-varName {
  font-weight: 600;
}
</style><style>.jp-PanelPreview-renderOnSave {
  display: flex;
  align-items: center;
}

.jp-PanelPreview-loading {
  background: rgba(0, 0, 0, 0.05);
  pointer-events: none;
  position: relative;
}

.jp-PanelPreview-loading::before {
  content: '';
  display: block;
  position: absolute;
  top: 50%;
  left: 50%;
  transform: translate(-50%, -50%);
  width: 80px;
  height: 80px;
  border: 8px solid rgb(48, 112, 146);
  border-left-color: #f3f3f3;
  border-radius: 50%;
  animation: spin 1s infinite linear;
  z-index: 9999;
}

@keyframes spin {
  from {
    transform: rotate(0deg);
  }
  to {
    transform: rotate(360deg);
  }
}
</style><style>.tippy-box[data-animation=fade][data-state=hidden]{opacity:0}[data-tippy-root]{max-width:calc(100vw - 10px)}.tippy-box{position:relative;background-color:#333;color:#fff;border-radius:4px;font-size:14px;line-height:1.4;white-space:normal;outline:0;transition-property:transform,visibility,opacity}.tippy-box[data-placement^=top]>.tippy-arrow{bottom:0}.tippy-box[data-placement^=top]>.tippy-arrow:before{bottom:-7px;left:0;border-width:8px 8px 0;border-top-color:initial;transform-origin:center top}.tippy-box[data-placement^=bottom]>.tippy-arrow{top:0}.tippy-box[data-placement^=bottom]>.tippy-arrow:before{top:-7px;left:0;border-width:0 8px 8px;border-bottom-color:initial;transform-origin:center bottom}.tippy-box[data-placement^=left]>.tippy-arrow{right:0}.tippy-box[data-placement^=left]>.tippy-arrow:before{border-width:8px 0 8px 8px;border-left-color:initial;right:-7px;transform-origin:center left}.tippy-box[data-placement^=right]>.tippy-arrow{left:0}.tippy-box[data-placement^=right]>.tippy-arrow:before{left:-7px;border-width:8px 8px 8px 0;border-right-color:initial;transform-origin:center right}.tippy-box[data-inertia][data-state=visible]{transition-timing-function:cubic-bezier(.54,1.5,.38,1.11)}.tippy-arrow{width:16px;height:16px;color:#333}.tippy-arrow:before{content:"";position:absolute;border-color:transparent;border-style:solid}.tippy-content{position:relative;padding:5px 9px;z-index:1}</style><style>.f12ffasl svg{height:16px;width:auto}.fj2oukb{align-items:center;display:flex}.fj2oukb svg{cursor:pointer;display:block;height:28px;margin:auto;padding:2px 2px 2px 8px;width:auto}.f1vya9e0{align-items:center;display:inline-block;vertical-align:middle}.f1vya9e0 svg{display:block;height:16px;margin:0 auto;width:16px}.f9v3xdu:first-child svg{bottom:1px;margin-left:0px;position:relative}.f9v3xdu:hover{background-color:var(--jp-layout-color2)}.jp-mod-dropTarget.f9v3xdu{background-color:var(--jp-brand-color2);opacity:0.7}.f9v3xdu svg{border-radius:var(--jp-border-radius);cursor:pointer;height:16px;margin:0px 2px;padding:0px 2px;vertical-align:middle;width:16px}.fllbajr{align-items:center;display:inline;height:16px;width:16px}.fllbajr svg{display:block;float:right;height:auto;margin:-2px 0 0 0;width:20px}.f1m36mmi{align-items:center;display:flex}.f1m36mmi svg{display:block;height:auto;margin:0 auto;width:32px}.fvaq30{align-items:center;display:flex}.fvaq30 svg{display:block;height:16px;margin:0 auto;width:16px}.f1qewoua{align-items:center;display:flex;height:14px;margin:0 14px 0 auto}.f1qewoua svg{display:block;height:14px;margin:0 auto;width:14px}.f1ozlkqi{pointer-events:none}.f1ozlkqi svg{height:auto;position:absolute;right:7px;top:5px;width:16px}.f32gur5 svg{width:20px}.f1qis64i svg{align-self:normal;height:24px}</style><style id="jp-NotebookExtension-sideBySideMargins">.jp-mod-sideBySide.jp-Notebook .jp-Notebook-cell {
      margin-left: 10px !important;
      margin-right: 10px !important;}</style><style id="MJX-CHTML-styles">
mjx-container[jax="CHTML"] {
  line-height: 0;
}

mjx-container [space="1"] {
  margin-left: .111em;
}

mjx-container [space="2"] {
  margin-left: .167em;
}

mjx-container [space="3"] {
  margin-left: .222em;
}

mjx-container [space="4"] {
  margin-left: .278em;
}

mjx-container [space="5"] {
  margin-left: .333em;
}

mjx-container [rspace="1"] {
  margin-right: .111em;
}

mjx-container [rspace="2"] {
  margin-right: .167em;
}

mjx-container [rspace="3"] {
  margin-right: .222em;
}

mjx-container [rspace="4"] {
  margin-right: .278em;
}

mjx-container [rspace="5"] {
  margin-right: .333em;
}

mjx-container [size="s"] {
  font-size: 70.7%;
}

mjx-container [size="ss"] {
  font-size: 50%;
}

mjx-container [size="Tn"] {
  font-size: 60%;
}

mjx-container [size="sm"] {
  font-size: 85%;
}

mjx-container [size="lg"] {
  font-size: 120%;
}

mjx-container [size="Lg"] {
  font-size: 144%;
}

mjx-container [size="LG"] {
  font-size: 173%;
}

mjx-container [size="hg"] {
  font-size: 207%;
}

mjx-container [size="HG"] {
  font-size: 249%;
}

mjx-container [width="full"] {
  width: 100%;
}

mjx-box {
  display: inline-block;
}

mjx-block {
  display: block;
}

mjx-itable {
  display: inline-table;
}

mjx-row {
  display: table-row;
}

mjx-row > * {
  display: table-cell;
}

mjx-mtext {
  display: inline-block;
}

mjx-mstyle {
  display: inline-block;
}

mjx-merror {
  display: inline-block;
  color: red;
  background-color: yellow;
}

mjx-mphantom {
  visibility: hidden;
}

_::-webkit-full-page-media, _:future, :root mjx-container {
  will-change: opacity;
}

mjx-assistive-mml {
  position: absolute !important;
  top: 0px;
  left: 0px;
  clip: rect(1px, 1px, 1px, 1px);
  padding: 1px 0px 0px 0px !important;
  border: 0px !important;
  display: block !important;
  width: auto !important;
  overflow: hidden !important;
  -webkit-touch-callout: none;
  -webkit-user-select: none;
  -khtml-user-select: none;
  -moz-user-select: none;
  -ms-user-select: none;
  user-select: none;
}

mjx-assistive-mml[display="block"] {
  width: 100% !important;
}

mjx-c::before {
  display: block;
  width: 0;
}

.MJX-TEX {
  font-family: MJXZERO, MJXTEX;
}

.TEX-B {
  font-family: MJXZERO, MJXTEX-B;
}

.TEX-I {
  font-family: MJXZERO, MJXTEX-I;
}

.TEX-MI {
  font-family: MJXZERO, MJXTEX-MI;
}

.TEX-BI {
  font-family: MJXZERO, MJXTEX-BI;
}

.TEX-S1 {
  font-family: MJXZERO, MJXTEX-S1;
}

.TEX-S2 {
  font-family: MJXZERO, MJXTEX-S2;
}

.TEX-S3 {
  font-family: MJXZERO, MJXTEX-S3;
}

.TEX-S4 {
  font-family: MJXZERO, MJXTEX-S4;
}

.TEX-A {
  font-family: MJXZERO, MJXTEX-A;
}

.TEX-C {
  font-family: MJXZERO, MJXTEX-C;
}

.TEX-CB {
  font-family: MJXZERO, MJXTEX-CB;
}

.TEX-FR {
  font-family: MJXZERO, MJXTEX-FR;
}

.TEX-FRB {
  font-family: MJXZERO, MJXTEX-FRB;
}

.TEX-SS {
  font-family: MJXZERO, MJXTEX-SS;
}

.TEX-SSB {
  font-family: MJXZERO, MJXTEX-SSB;
}

.TEX-SSI {
  font-family: MJXZERO, MJXTEX-SSI;
}

.TEX-SC {
  font-family: MJXZERO, MJXTEX-SC;
}

.TEX-T {
  font-family: MJXZERO, MJXTEX-T;
}

.TEX-V {
  font-family: MJXZERO, MJXTEX-V;
}

.TEX-VB {
  font-family: MJXZERO, MJXTEX-VB;
}

mjx-stretchy-v mjx-c, mjx-stretchy-h mjx-c {
  font-family: MJXZERO, MJXTEX-S1, MJXTEX-S4, MJXTEX, MJXTEX-A ! important;
}
</style></head>
<body data-notebook="notebooks" data-format="desktop" data-jp-theme-light="true" data-jp-theme-name="JupyterLab Light" data-jp-theme-scrollbars="false">

  
  

  
  

  
  

  <script id="jupyter-config-data" type="application/json">
    {"allow_hidden_files": false, "appName": "Jupyter Notebook", "appNamespace": "notebook", "appSettingsDir": "C:/Users/cyber world/anaconda3/share/jupyter/lab/settings", "appUrl": "/lab", "appVersion": "7.0.8", "baseUrl": "/", "buildAvailable": true, "buildCheck": true, "cacheFiles": true, "copyAbsolutePath": false, "devMode": false, "disabledExtensions": [], "exposeAppInBrowser": false, "extensionManager": {"can_install": true, "install_path": "C:\\Users\\cyber world\\anaconda3", "name": "PyPI"}, "extraLabextensionsPath": [], "federated_extensions": [{"extension": "./extension", "load": "static/remoteEntry.66500334d7b36213676e.js", "mimeExtension": "./mimeExtension", "name": "jupyterlab-plotly"}, {"extension": "./extension", "load": "static/remoteEntry.0dca0b46350f0c25c608.js", "name": "@jupyter-notebook/lab-extension", "style": "./style"}, {"extension": "./extension", "load": "static/remoteEntry.a37e37c87d212fe85e13.js", "name": "@jupyter-widgets/jupyterlab-manager"}, {"extension": "./extension", "load": "static/remoteEntry.cfbccb113f4c7c1d65fe.js", "name": "@lckr/jupyterlab_variableinspector", "style": "./style"}, {"extension": "./extension", "load": "static/remoteEntry.011187800436390ae91a.js", "name": "@pyviz/jupyterlab_pyviz", "style": "./style"}], "frontendUrl": "/", "fullAppUrl": "/lab", "fullLabextensionsUrl": "/lab/extensions", "fullLicensesUrl": "/lab/api/licenses", "fullListingsUrl": "/lab/api/listings", "fullMathjaxUrl": "https://cdnjs.cloudflare.com/ajax/libs/mathjax/2.7.7/MathJax.js", "fullSettingsUrl": "/lab/api/settings", "fullStaticUrl": "/static/notebook", "fullThemesUrl": "/lab/api/themes", "fullTranslationsApiUrl": "/lab/api/translations", "fullTreeUrl": "/lab/tree", "fullWorkspacesApiUrl": "/lab/api/workspaces", "jupyterConfigDir": "C:\\Users\\cyber world\\.jupyter", "labextensionsPath": ["C:\\Users\\cyber world\\AppData\\Roaming\\jupyter\\labextensions", "C:\\Users\\cyber world\\AppData\\Roaming\\Python\\share\\jupyter\\labextensions", "C:\\Users\\cyber world\\anaconda3\\share\\jupyter\\labextensions", "C:\\ProgramData\\jupyter\\labextensions"], "labextensionsUrl": "/lab/extensions", "licensesUrl": "/lab/api/licenses", "listingsUrl": "/lab/api/listings", "mathjaxConfig": "TeX-AMS_HTML-full,Safe", "nbclassic_enabled": false, "news": {"disabled": false}, "notebookPage": "notebooks", "notebookStartsKernel": true, "notebookVersion": "[2, 10, 0]", "preferredPath": "/", "quitButton": true, "rootUri": "file:///c:/Users/cyber%20world", "schemasDir": "C:/Users/cyber world/anaconda3/share/jupyter/lab/schemas", "settingsUrl": "/lab/api/settings", "staticDir": "C:/Users/cyber world/anaconda3/Lib/site-packages/notebook/static", "templatesDir": "C:/Users/cyber world/anaconda3/Lib/site-packages/notebook/templates", "terminalsAvailable": true, "themesDir": "C:/Users/cyber world/anaconda3/share/jupyter/lab/themes", "themesUrl": "/lab/api/themes", "token": "8e9a40ad0cdcecaeb51ee48702ce2808adb1a0ba78b5ceb1", "translationsApiUrl": "/lab/api/translations", "treeUrl": "/lab/tree", "userSettingsDir": "C:/Users/cyber world/.jupyter/lab/user-settings", "virtualDocumentsUri": "file:///c:/Users/cyber%20world/.virtual_documents", "workspacesApiUrl": "/lab/api/workspaces", "workspacesDir": "C:/Users/cyber world/.jupyter/lab/workspaces", "wsUrl": ""}
  </script>
  <script src="./minor project_files/bundle.js.download" main="index"></script>

  <script type="text/javascript">
    /* Remove token from URL. */
    (function () {
      var parsedUrl = new URL(window.location.href);
      if (parsedUrl.searchParams.get('token')) {
        parsedUrl.searchParams.delete('token');
        window.history.replaceState({ }, '', parsedUrl.href);
      }
    })();
  </script>


<div class="lm-Widget" id="main" data-direction="top-to-bottom" data-alignment="start" style="min-width: 0px; min-height: 70px;"><div class="lm-Widget lm-Panel lm-SplitPanel" data-orientation="horizontal" data-alignment="start" id="main-split-panel" style="position: absolute; contain: strict; min-width: 0px; min-height: 70px; top: 0px; left: 0px; width: 1232px; height: 572px;"><div class="lm-Widget lm-Panel lm-mod-hidden lm-SplitPanel-child" id="jp-left-stack" role="complementary" style="position: absolute; contain: strict;"><button class="jp-Button jp-SidePanel-collapse lm-Widget" title="Collapse left side panel"><svg xmlns="http://www.w3.org/2000/svg" viewBox="0 0 24 24" width="16" data-icon="ui-components:close" data-icon-id="542a827c-d7de-4a21-afdc-6a7b39fc3784"><g class="jp-icon-none jp-icon-selectable-inverse jp-icon3-hover" fill="none"><circle cx="12" cy="12" r="11"></circle></g><g class="jp-icon3 jp-icon-selectable jp-icon-accent2-hover" fill="#616161"><path d="M19 6.41L17.59 5 12 10.59 6.41 5 5 6.41 10.59 12 5 17.59 6.41 19 12 13.41 17.59 19 19 17.59 13.41 12z"></path></g><g class="jp-icon-none jp-icon-busy" fill="none"><circle cx="12" cy="12" r="7"></circle></g></svg></button><div class="lm-Widget lm-Panel lm-StackedPanel" style="min-width: 0px; min-height: 0px;"><div class="lm-Widget jp-SidePanel jp-TableOfContents lm-mod-hidden lm-StackedPanel-child" id="table-of-contents" role="region" aria-label="Table of Contents section" style="position: absolute; contain: strict;"><div class="lm-Widget lm-Panel jp-SidePanel-header"><h2 class="jp-text-truncated lm-Widget">Untitled13.ipynb</h2></div><div class="lm-Widget jp-Toolbar jp-SidePanel-toolbar" role="navigation" aria-label="side panel actions" style="min-height: var(--jp-private-toolbar-height);"><div class="lm-Widget jp-CommandToolbarButton jp-toc-numberingButton jp-Toolbar-item"><button class="jp-ToolbarButtonComponent jp-mod-minimal jp-Button" aria-disabled="false" data-command="toc:display-numbering" title="Show heading number in the document"><span class="jp-ToolbarButtonComponent-icon f1vya9e0"><svg xmlns="http://www.w3.org/2000/svg" width="22" height="22" viewBox="0 0 28 28" data-icon="ui-components:numbering"><g xmlns="http://www.w3.org/2000/svg" class="jp-icon3" fill="#616161"><path d="M4 19H6V19.5H5V20.5H6V21H4V22H7V18H4V19ZM5 10H6V6H4V7H5V10ZM4 13H5.8L4 15.1V16H7V15H5.2L7 12.9V12H4V13ZM9 7V9H23V7H9ZM9 21H23V19H9V21ZM9 15H23V13H9V15Z"></path></g></svg></span></button></div><div class="lm-Widget jp-Toolbar-spacer jp-Toolbar-item"></div><div class="lm-Widget jp-CommandToolbarButton jp-Toolbar-item"><button class="jp-ToolbarButtonComponent jp-mod-minimal jp-Button" aria-disabled="false" data-command="toc:toggle-collapse" title="Collapse All Headings"><span class="jp-ToolbarButtonComponent-icon f1vya9e0"><svg xmlns="http://www.w3.org/2000/svg" width="16" viewBox="0 0 24 24" data-icon="ui-components:collapse-all"><g xmlns="http://www.w3.org/2000/svg" class="jp-icon3" fill="#616161"><path d="M8 2c1 0 11 0 12 0s2 1 2 2c0 1 0 11 0 12s0 2-2 2C20 14 20 4 20 4S10 4 6 4c0-2 1-2 2-2z"></path><path d="M18 8c0-1-1-2-2-2S5 6 4 6s-2 1-2 2c0 1 0 11 0 12s1 2 2 2c1 0 11 0 12 0s2-1 2-2c0-1 0-11 0-12zm-2 0v12H4V8z"></path><path d="M6 13v2h8v-2z"></path></g></svg></span></button></div><div class="lm-Widget jp-ToolbarButton jp-Toolbar-item"><button class="jp-ToolbarButtonComponent jp-mod-minimal jp-Button" aria-pressed="false" aria-disabled="false" title="More actions…"><span class="jp-ToolbarButtonComponent-icon f1vya9e0"><svg xmlns="http://www.w3.org/2000/svg" viewBox="0 0 24 24" width="16" data-icon="ui-components:ellipses"><g xmlns="http://www.w3.org/2000/svg" class="jp-icon3" fill="#616161"><circle cx="5" cy="12" r="2"></circle><circle cx="12" cy="12" r="2"></circle><circle cx="19" cy="12" r="2"></circle></g></svg></span></button></div></div><div class="lm-Widget lm-Panel jp-SidePanel-content" role="region" aria-label="side panel content"><div class="lm-Widget jp-TableOfContents-tree"><ol class="jp-TableOfContents-content" data-document-type="notebook"><li class="jp-tocItem"><div class="jp-tocItem-heading "><button class="jp-tocItem-collapser" style="visibility: hidden;"><span class="f32gur5"><svg xmlns="http://www.w3.org/2000/svg" width="16" viewBox="0 0 18 18" data-icon="ui-components:caret-down"><g xmlns="http://www.w3.org/2000/svg" class="jp-icon3" fill="#616161" shape-rendering="geometricPrecision"><path d="M5.2,7.5L9,11.2l3.8-3.8H5.2z"></path></g></svg></span></button><span class="jp-tocItem-content" title="in this data set we have some null value so it&#39;s better to check them beforehand" data-running="-1">in this data set we have some null value so it's better to check them beforehand</span></div></li><li class="jp-tocItem"><div class="jp-tocItem-heading "><button class="jp-tocItem-collapser" style="visibility: visible;"><span class="f32gur5"><svg xmlns="http://www.w3.org/2000/svg" width="16" viewBox="0 0 18 18" data-icon="ui-components:caret-down"><g xmlns="http://www.w3.org/2000/svg" class="jp-icon3" fill="#616161" shape-rendering="geometricPrecision"><path d="M5.2,7.5L9,11.2l3.8-3.8H5.2z"></path></g></svg></span></button><span class="jp-tocItem-content" title="find the null value present in the dataset" data-running="-1">find the null value present in the dataset</span></div><ol><li class="jp-tocItem"><div class="jp-tocItem-heading "><button class="jp-tocItem-collapser" style="visibility: hidden;"><span class="f32gur5"><svg xmlns="http://www.w3.org/2000/svg" width="16" viewBox="0 0 18 18" data-icon="ui-components:caret-down"><g xmlns="http://www.w3.org/2000/svg" class="jp-icon3" fill="#616161" shape-rendering="geometricPrecision"><path d="M5.2,7.5L9,11.2l3.8-3.8H5.2z"></path></g></svg></span></button><span class="jp-tocItem-content" title="here we can see there is 15 null values song name, artists and album name" data-running="-1">here we can see there is 15 null values song name, artists and album name</span></div></li></ol></li><li class="jp-tocItem"><div class="jp-tocItem-heading "><button class="jp-tocItem-collapser" style="visibility: visible;"><span class="f32gur5"><svg xmlns="http://www.w3.org/2000/svg" width="16" viewBox="0 0 18 18" data-icon="ui-components:caret-down"><g xmlns="http://www.w3.org/2000/svg" class="jp-icon3" fill="#616161" shape-rendering="geometricPrecision"><path d="M5.2,7.5L9,11.2l3.8-3.8H5.2z"></path></g></svg></span></button><span class="jp-tocItem-content" title="now in this dataset we identify the total number of rows and columns in the daatset and also check the data type and memory usage" data-running="-1">now in this dataset we identify the total number of rows and columns in the daatset and also check the data type and memory usage</span></div><ol><li class="jp-tocItem"><div class="jp-tocItem-heading "><button class="jp-tocItem-collapser" style="visibility: hidden;"><span class="f32gur5"><svg xmlns="http://www.w3.org/2000/svg" width="16" viewBox="0 0 18 18" data-icon="ui-components:caret-down"><g xmlns="http://www.w3.org/2000/svg" class="jp-icon3" fill="#616161" shape-rendering="geometricPrecision"><path d="M5.2,7.5L9,11.2l3.8-3.8H5.2z"></path></g></svg></span></button><span class="jp-tocItem-content" title="find ten least popular songs in the dataset" data-running="-1">find ten least popular songs in the dataset</span></div></li></ol></li><li class="jp-tocItem"><div class="jp-tocItem-heading "><button class="jp-tocItem-collapser" style="visibility: hidden;"><span class="f32gur5"><svg xmlns="http://www.w3.org/2000/svg" width="16" viewBox="0 0 18 18" data-icon="ui-components:caret-down"><g xmlns="http://www.w3.org/2000/svg" class="jp-icon3" fill="#616161" shape-rendering="geometricPrecision"><path d="M5.2,7.5L9,11.2l3.8-3.8H5.2z"></path></g></svg></span></button><span class="jp-tocItem-content" title="statistics analysis " data-running="-1">statistics analysis </span></div></li><li class="jp-tocItem"><div class="jp-tocItem-heading "><button class="jp-tocItem-collapser" style="visibility: visible;"><span class="f32gur5"><svg xmlns="http://www.w3.org/2000/svg" width="16" viewBox="0 0 18 18" data-icon="ui-components:caret-down"><g xmlns="http://www.w3.org/2000/svg" class="jp-icon3" fill="#616161" shape-rendering="geometricPrecision"><path d="M5.2,7.5L9,11.2l3.8-3.8H5.2z"></path></g></svg></span></button><span class="jp-tocItem-content" title="Make the Release Date Column as the Index Column." data-running="-1">Make the Release Date Column as the Index Column.</span></div><ol><li class="jp-tocItem"><div class="jp-tocItem-heading "><button class="jp-tocItem-collapser" style="visibility: hidden;"><span class="f32gur5"><svg xmlns="http://www.w3.org/2000/svg" width="16" viewBox="0 0 18 18" data-icon="ui-components:caret-down"><g xmlns="http://www.w3.org/2000/svg" class="jp-icon3" fill="#616161" shape-rendering="geometricPrecision"><path d="M5.2,7.5L9,11.2l3.8-3.8H5.2z"></path></g></svg></span></button><span class="jp-tocItem-content" title="find the name of the artist present in the 10th row of the dataset" data-running="-1">find the name of the artist present in the 10th row of the dataset</span></div></li><li class="jp-tocItem"><div class="jp-tocItem-heading "><button class="jp-tocItem-collapser" style="visibility: hidden;"><span class="f32gur5"><svg xmlns="http://www.w3.org/2000/svg" width="16" viewBox="0 0 18 18" data-icon="ui-components:caret-down"><g xmlns="http://www.w3.org/2000/svg" class="jp-icon3" fill="#616161" shape-rendering="geometricPrecision"><path d="M5.2,7.5L9,11.2l3.8-3.8H5.2z"></path></g></svg></span></button><span class="jp-tocItem-content" title="convert the duration of the songs from milliseconds to seconds" data-running="-1">convert the duration of the songs from milliseconds to seconds</span></div></li></ol></li><li class="jp-tocItem"><div class="jp-tocItem-heading "><button class="jp-tocItem-collapser" style="visibility: visible;"><span class="f32gur5"><svg xmlns="http://www.w3.org/2000/svg" width="16" viewBox="0 0 18 18" data-icon="ui-components:caret-down"><g xmlns="http://www.w3.org/2000/svg" class="jp-icon3" fill="#616161" shape-rendering="geometricPrecision"><path d="M5.2,7.5L9,11.2l3.8-3.8H5.2z"></path></g></svg></span></button><span class="jp-tocItem-content" title="Correlation Map" data-running="-1">Correlation Map</span></div><ol><li class="jp-tocItem"><div class="jp-tocItem-heading "><button class="jp-tocItem-collapser" style="visibility: visible;"><span class="f32gur5"><svg xmlns="http://www.w3.org/2000/svg" width="16" viewBox="0 0 18 18" data-icon="ui-components:caret-down"><g xmlns="http://www.w3.org/2000/svg" class="jp-icon3" fill="#616161" shape-rendering="geometricPrecision"><path d="M5.2,7.5L9,11.2l3.8-3.8H5.2z"></path></g></svg></span></button><span class="jp-tocItem-content" title="Let’s Move Ahead and Sample Only 4 Percent of the Whole Dataset." data-running="-1">Let’s Move Ahead and Sample Only 4 Percent of the Whole Dataset.</span></div><ol><li class="jp-tocItem"><div class="jp-tocItem-heading "><button class="jp-tocItem-collapser" style="visibility: hidden;"><span class="f32gur5"><svg xmlns="http://www.w3.org/2000/svg" width="16" viewBox="0 0 18 18" data-icon="ui-components:caret-down"><g xmlns="http://www.w3.org/2000/svg" class="jp-icon3" fill="#616161" shape-rendering="geometricPrecision"><path d="M5.2,7.5L9,11.2l3.8-3.8H5.2z"></path></g></svg></span></button><span class="jp-tocItem-content" title="this is the 4 percent of the whole dataset that is 131 rows" data-running="-1">this is the 4 percent of the whole dataset that is 131 rows</span></div></li></ol></li></ol></li><li class="jp-tocItem"><div class="jp-tocItem-heading "><button class="jp-tocItem-collapser" style="visibility: hidden;"><span class="f32gur5"><svg xmlns="http://www.w3.org/2000/svg" width="16" viewBox="0 0 18 18" data-icon="ui-components:caret-down"><g xmlns="http://www.w3.org/2000/svg" class="jp-icon3" fill="#616161" shape-rendering="geometricPrecision"><path d="M5.2,7.5L9,11.2l3.8-3.8H5.2z"></path></g></svg></span></button><span class="jp-tocItem-content" title="Create a Regression Plot Between Loudness and Energy. Let’s Plot It  in the Form of a Regression Line." data-running="-1">Create a Regression Plot Between Loudness and Energy. Let’s Plot It  in the Form of a Regression Line.</span></div></li><li class="jp-tocItem"><div class="jp-tocItem-heading "><button class="jp-tocItem-collapser" style="visibility: hidden;"><span class="f32gur5"><svg xmlns="http://www.w3.org/2000/svg" width="16" viewBox="0 0 18 18" data-icon="ui-components:caret-down"><g xmlns="http://www.w3.org/2000/svg" class="jp-icon3" fill="#616161" shape-rendering="geometricPrecision"><path d="M5.2,7.5L9,11.2l3.8-3.8H5.2z"></path></g></svg></span></button><span class="jp-tocItem-content" title="Create a Regression Plot Between Popularity and Acousticness in the Form of a Regression Line." data-running="-1">Create a Regression Plot Between Popularity and Acousticness in the Form of a Regression Line.</span></div></li><li class="jp-tocItem"><div class="jp-tocItem-heading jp-tocItem-active"><button class="jp-tocItem-collapser" style="visibility: hidden;"><span class="f32gur5"><svg xmlns="http://www.w3.org/2000/svg" width="16" viewBox="0 0 18 18" data-icon="ui-components:caret-down"><g xmlns="http://www.w3.org/2000/svg" class="jp-icon3" fill="#616161" shape-rendering="geometricPrecision"><path d="M5.2,7.5L9,11.2l3.8-3.8H5.2z"></path></g></svg></span></button><span class="jp-tocItem-content" title="Data Analysis Based on Genres of the Songs" data-running="0">Data Analysis Based on Genres of the Songs</span></div></li></ol></div></div></div></div></div><div class="lm-SplitPanel-handle lm-mod-hidden" style="position: absolute; contain: style;"></div><div class="lm-Widget lm-Panel lm-SplitPanel-child" data-direction="top-to-bottom" data-alignment="start" style="position: absolute; contain: strict; min-width: 0px; min-height: 70px; top: 0px; left: 0px; width: 1232px; height: 572px;"><div class="lm-Widget lm-Panel" id="top-panel-wrapper" style="position: absolute; contain: strict; top: 0px; left: 0px; width: 1232px; height: 42px;"><div class="lm-Widget lm-Panel" id="top-panel" role="banner"><div class="lm-Widget jp-skiplink" id="jp-skiplink"><a href="http://localhost:8888/notebooks/Untitled13.ipynb#first-cell" tabindex="1" class="skip-link">Skip to Main</a></div><a href="http://localhost:8888/tree" target="_blank" rel="noopener noreferrer" class="lm-Widget fj2oukb" id="jp-NotebookLogo"><svg xmlns="http://www.w3.org/2000/svg" xmlns:xlink="http://www.w3.org/1999/xlink" width="189" height="51" version="2.0" viewBox="0 0 189 51" data-icon="notebook-ui-components:jupyter" data-icon-id="fd36cdb8-4032-4bbc-ab58-3980274f5da7"><title>Jupyter</title><g class="jp-icon3" transform="translate(-1638 -2093)" fill="#616161"><g style="mix-blend-mode:normal"><g style="mix-blend-mode:normal"><g style="mix-blend-mode:normal"><g style="mix-blend-mode:normal"><g style="mix-blend-mode:normal"><use transform="translate(1688.9 2106.2)" style="mix-blend-mode:normal" xlink:href="#path0_fill"></use></g></g><g style="mix-blend-mode:normal"><g style="mix-blend-mode:normal"><use transform="translate(1705.4 2106.2)" style="mix-blend-mode:normal" xlink:href="#path1_fill"></use></g></g><g style="mix-blend-mode:normal"><g style="mix-blend-mode:normal"><use transform="translate(1730.2 2105.7)" style="mix-blend-mode:normal" xlink:href="#path2_fill"></use></g></g><g style="mix-blend-mode:normal"><g style="mix-blend-mode:normal"><use transform="translate(1752.9 2106.2)" style="mix-blend-mode:normal" xlink:href="#path3_fill"></use></g></g><g style="mix-blend-mode:normal"><g style="mix-blend-mode:normal"><use transform="translate(1775.8 2100)" style="mix-blend-mode:normal" xlink:href="#path4_fill"></use></g></g><g style="mix-blend-mode:normal"><g style="mix-blend-mode:normal"><use transform="translate(1791.8 2105.7)" style="mix-blend-mode:normal" xlink:href="#path5_fill"></use></g></g><g style="mix-blend-mode:normal"><g style="mix-blend-mode:normal"><use transform="translate(1815.8 2105.7)" style="mix-blend-mode:normal" xlink:href="#path6_fill"></use></g></g></g></g><g style="mix-blend-mode:normal"><g style="mix-blend-mode:normal"><g style="mix-blend-mode:normal"><use transform="translate(1669.3 2093.3)" fill="#767677" style="mix-blend-mode:normal" xlink:href="#path7_fill"></use></g></g><g style="mix-blend-mode:normal"><g style="mix-blend-mode:normal"><use transform="translate(1639.7 2124)" fill="#F37726" style="mix-blend-mode:normal" xlink:href="#path8_fill"></use></g></g><g style="mix-blend-mode:normal"><g style="mix-blend-mode:normal"><use transform="translate(1639.7 2097.5)" fill="#F37726" style="mix-blend-mode:normal" xlink:href="#path9_fill"></use></g></g><g style="mix-blend-mode:normal"><g style="mix-blend-mode:normal"><use transform="translate(1639.8 2135.8)" fill="#989798" style="mix-blend-mode:normal" xlink:href="#path10_fill"></use></g></g><g style="mix-blend-mode:normal"><g style="mix-blend-mode:normal"><use transform="translate(1638.4 2098.1)" fill="#6F7070" style="mix-blend-mode:normal" xlink:href="#path11_fill"></use></g></g></g></g></g><defs><path id="path0_fill" d="m5.6259 17.928c0 5.1461-0.3925 6.8263-1.4392 8.0666-1.1426 1.0559-2.637 1.6399-4.1867 1.6362l0.39251 3.0612c2.402 0.0333 4.7305-0.8352 6.5331-2.4366 1.8753-1.9529 2.5295-4.6535 2.5295-8.7967v-19.458h-3.8378v17.954l0.00872-0.0264z"></path><path id="path1_fill" d="m17.741 15.623c0 2.2168 0 4.1696 0.1744 5.8498h-3.3581l-0.218-3.5187h-0.0873c-0.7069 1.2298-1.7261 2.2473-2.9526 2.9477-1.2265 0.7005-2.6159 1.0585-4.0252 1.0372-3.3145 0-7.2744-1.8649-7.2744-9.3948v-12.544h3.8378v11.902c0 4.0817 1.2211 6.8262 4.7014 6.8262 1.0917-0.0201 2.1533-0.3647 3.0516-0.9907 0.8984-0.6259 1.5936-1.5053 1.9986-2.5279 0.2328-0.6395 0.351-1.3157 0.3489-1.9969v-13.195h3.8379v15.605h-0.0349z"></path><path id="path2_fill" d="m0.17445 7.5363c0-2.7446-0.087223-4.9613-0.17445-7.0374h3.4453l0.17445 3.677h0.08722c0.75374-1.3174 1.85-2.4022 3.1705-3.137 1.3205-0.73485 2.8149-1.0919 4.322-1.0326 5.0939 0 8.9317 4.3983 8.9317 10.908 0 7.7147-4.6141 11.524-9.5946 11.524-1.2785 0.0541-2.5489-0.2281-3.6867-0.8187-1.1377-0.5907-2.1036-1.4696-2.8028-2.5504h-0.08723v11.656h-3.7942v-23.223l0.008722 0.03519zm3.7942 5.7179c0.01001 0.5349 0.0684 1.0679 0.17444 1.5922 0.31262 1.3003 1.0491 2.4571 2.0914 3.2849 1.0423 0.8279 2.33 1.2788 3.6567 1.2805 4.0559 0 6.4022-3.3691 6.4022-8.2864 0-4.3016-2.2242-7.9786-6.2714-7.9786-1.3611 0.03841-2.6704 0.53457-3.7198 1.4096-1.0494 0.87505-1.7786 2.0788-2.0718 3.4198-0.15373 0.51742-0.24166 1.0524-0.26167 1.5922v3.6858z"></path><path id="path3_fill" d="m4.1606 0 4.6141 12.676c0.47973 1.4163 1.0031 3.1053 1.352 4.3984h0.0872c0.3925-1.2843 0.8286-2.9293 1.352-4.4775l4.1867-12.588h4.0559l-5.7481 15.297c-2.7475 7.3541-4.6141 11.128-7.2308 13.433-1.3222 1.2403-2.9429 2.1106-4.7014 2.5246l-0.95946-3.2811c1.2303-0.4134 2.3704-1.0615 3.3581-1.9089 1.3957-1.1762 2.5006-2.664 3.2273-4.3456 0.15514-0.2904 0.25848-0.606 0.30528-0.9324-0.03445-0.3518-0.12272-0.696-0.26167-1.0205l-7.7978-19.766h4.1867l-0.02616-0.0087967z"></path><path id="path4_fill" d="m7.0215 0v6.1577h5.4864v2.9733h-5.4864v11.559c0 2.639 0.7414 4.1696 2.8784 4.1696 0.74972 0.0118 1.4976-0.077 2.2242-0.2639l0.1744 2.9293c-1.0915 0.3877-2.2451 0.5667-3.4017 0.5278-0.76701 0.0474-1.535-0.0744-2.2506-0.357-0.71554-0.2826-1.3614-0.7191-1.8925-1.2792-1.0903-1.1523-1.4828-3.0612-1.4828-5.5858v-11.7h-3.2709v-2.9733h3.2709v-5.1461l3.7506-1.0116z"></path><path id="path5_fill" d="m3.6285 11.928c0.08723 5.278 3.4017 7.4508 7.2308 7.4508 2.0019 0.0634 3.9934-0.3149 5.8353-1.1084l0.6542 2.7886c-2.2069 0.9347-4.585 1.3874-6.9779 1.3283-6.4894 0-10.371-4.3456-10.371-10.82 0-6.4743 3.7506-11.568 9.8912-11.568 6.8819 0 8.7223 6.1577 8.7223 10.107-0.0065 0.6091-0.0501 1.2172-0.1308 1.8209h-14.854zm11.243-2.7885c0.0436-2.4807-1.003-6.3424-5.3119-6.3424-3.8814 0-5.5736 3.633-5.8789 6.3424h11.199-0.0087z"></path><path id="path6_fill" d="m0.17445 7.1785c0-2.5246-0.043612-4.6974-0.17445-6.6943h3.3581l0.13083 4.2136h0.17445c0.95946-2.8853 3.2709-4.6974 5.8353-4.6974 0.36765-0.0054214 0.73435 0.038958 1.0902 0.13195v3.677c-0.4296-0.09447-0.86861-0.13874-1.3083-0.13195-2.7039 0-4.6141 2.0848-5.1375 5.0053-0.10796 0.60107-0.16631 1.2101-0.17445 1.8209v11.436h-3.7942v-14.761z"></path><path id="path7_fill" d="m5.8935 2.844c0.02536 0.58765-0.12268 1.1697-0.42538 1.6724-0.3027 0.50277-0.74647 0.9037-1.2752 1.1521-0.52869 0.24837-1.1186 0.333-1.6949 0.2432-0.57639-0.08981-1.1134-0.35001-1.5432-0.7477-0.42973-0.39768-0.73284-0.91498-0.87099-1.4864-0.13815-0.57146-0.10513-1.1714 0.094877-1.7239 0.20001-0.55254 0.55803-1.0328 1.0288-1.3801 0.47072-0.34728 1.033-0.54595 1.6157-0.57087 0.78063-0.033384 1.5425 0.24712 2.1182 0.77988 0.57569 0.53276 0.91814 1.2742 0.95211 2.0614z"></path><path id="path8_fill" d="m18.265 7.1341c-7.8501 0-14.706-2.8765-18.265-7.1341 1.3254 3.8204 3.7956 7.1308 7.0686 9.473 3.2731 2.3422 7.1871 3.6004 11.2 3.6004s7.9273-1.2582 11.2-3.6004c3.273-2.3422 5.7432-5.6526 7.0686-9.473-3.5675 4.2576-10.423 7.1341-18.273 7.1341z"></path><path id="path9_fill" d="m18.273 5.9393c7.8502 0 14.706 2.8765 18.265 7.1341-1.3254-3.8204-3.7956-7.1308-7.0686-9.473-3.2731-2.3422-7.1871-3.6004-11.2-3.6004s-7.9273 1.2582-11.2 3.6004c-3.273 2.3422-5.7432 5.6526-7.0686 9.473 3.5674-4.2488 10.423-7.1341 18.273-7.1341z"></path><path id="path10_fill" d="m7.4279 3.5834c0.03219 0.74092-0.15434 1.4748-0.53596 2.1088s-0.94118 1.1394-1.6078 1.4525c-0.66664 0.31303-1.4104 0.41954-2.1371 0.30603s-1.4037-0.44193-1.9452-0.94368c-0.54151-0.50175-0.92323-1.1543-1.0968-1.8749-0.17359-0.72067-0.13125-1.4771 0.12166-2.1735 0.25291-0.69639 0.70502-1.3014 1.2991-1.7385 0.59407-0.4371 1.3034-0.68659 2.0381-0.7169 0.98278-0.040537 1.9414 0.31357 2.6657 0.9847 0.72432 0.67112 1.1552 1.6045 1.1983 2.5955z"></path><path id="path11_fill" d="m2.2747 4.3963c-0.43108 0.01879-0.858-0.09184-1.2267-0.31786-0.36872-0.22603-0.66266-0.55729-0.84462-0.95187s-0.24375-0.83473-0.17756-1.2648c0.066192-0.43001 0.25739-0.83055 0.5494-1.1509 0.29201-0.32037 0.6717-0.54618 1.091-0.64882 0.41931-0.10265 0.85939-0.077531 1.2645 0.072176 0.40515 0.14971 0.75716 0.41727 1.0115 0.76882 0.2543 0.35156 0.39947 0.7713 0.41713 1.2061 0.02364 0.58191-0.18257 1.1495-0.57338 1.5783-0.39081 0.42878-0.93431 0.6837-1.5113 0.70883z"></path></defs></svg></a><div class="lm-Widget jp-Toolbar" id="jp-top-bar" style="min-height: var(--jp-private-toolbar-height);"><div class="lm-Widget jp-Toolbar-item" id="jp-title" style="margin-left: 10px;"><h1>Untitled13</h1></div><div class="lm-Widget jp-NotebookCheckpoint jp-Toolbar-item" id="id-5880094e-3791-41ec-828f-e1a880d635c8">Last Checkpoint: 18 seconds ago</div><div class="lm-Widget jp-Toolbar-spacer jp-Toolbar-item"></div><div class="lm-Widget jp-NotebookKernelLogo jp-Toolbar-item"><img src="./minor project_files/logo-64x64.png" title="Python 3 (ipykernel)"></div></div></div></div><div class="lm-Widget lm-Panel" id="menu-panel-wrapper" style="position: absolute; contain: strict; top: 42px; left: 0px; width: 1232px; height: 28px;"><div class="lm-Widget lm-Panel" id="menu-panel" role="navigation"><div class="lm-Widget lm-MenuBar jp-scrollbar-tiny" id="jp-MainMenu"><ul class="lm-MenuBar-content" role="menubar"><li tabindex="0" role="menuitem" aria-haspopup="true" class="lm-MenuBar-item"><div class="lm-MenuBar-itemIcon"></div><div class="lm-MenuBar-itemLabel">File</div></li><li tabindex="-1" role="menuitem" aria-haspopup="true" class="lm-MenuBar-item"><div class="lm-MenuBar-itemIcon"></div><div class="lm-MenuBar-itemLabel">Edit</div></li><li tabindex="-1" role="menuitem" aria-haspopup="true" class="lm-MenuBar-item"><div class="lm-MenuBar-itemIcon"></div><div class="lm-MenuBar-itemLabel">View</div></li><li tabindex="-1" role="menuitem" aria-haspopup="true" class="lm-MenuBar-item"><div class="lm-MenuBar-itemIcon"></div><div class="lm-MenuBar-itemLabel">Run</div></li><li tabindex="-1" role="menuitem" aria-haspopup="true" class="lm-MenuBar-item"><div class="lm-MenuBar-itemIcon"></div><div class="lm-MenuBar-itemLabel">Kernel</div></li><li tabindex="-1" role="menuitem" aria-haspopup="true" class="lm-MenuBar-item"><div class="lm-MenuBar-itemIcon"></div><div class="lm-MenuBar-itemLabel">Settings</div></li><li tabindex="-1" role="menuitem" aria-haspopup="true" class="lm-MenuBar-item"><div class="lm-MenuBar-itemIcon"></div><div class="lm-MenuBar-itemLabel">Help</div></li></ul></div><div class="lm-Widget jp-NotebookSpacer" id="id-9723a7a7-ff3e-4f78-9200-614f13922ad0"></div><div class="lm-Widget jp-NotebookKernelStatus jp-NotebookKernelStatus-fade"></div><div class="lm-Widget"><button class="jp-NotebookTrustedStatus" title="JavaScript enabled for notebook display" style="cursor: help;">Trusted</button></div></div></div><div class="lm-Widget" id="spacer-widget-top" style="position: absolute; contain: strict; top: 70px; left: 0px; width: 1232px; height: 0px;"></div><div class="lm-Widget lm-Panel" id="main-panel" role="main" style="position: absolute; contain: strict; top: 70px; left: 0px; width: 1232px; height: 502px;"><div class="lm-Widget jp-MainAreaWidget jp-NotebookPanel jp-Document jp-mod-searchable" id="id-8672257e-b856-448e-b990-51c7250c7397" data-direction="top-to-bottom" data-alignment="start" style="min-width: 0px; min-height: 29px;"><div class="lm-Widget jp-Toolbar jp-NotebookPanel-toolbar" role="navigation" aria-label="notebook actions" style="position: absolute; contain: strict; top: 0px; left: 0px; width: 1232px; height: 29px; min-height: var(--jp-private-toolbar-height);"><div class="lm-Widget jp-CommandToolbarButton jp-Toolbar-item"><button class="jp-ToolbarButtonComponent jp-mod-minimal jp-Button" aria-disabled="false" data-command="docmanager:save" title="Save and create checkpoint (Ctrl+S)"><span class="jp-ToolbarButtonComponent-icon f1vya9e0"><svg xmlns="http://www.w3.org/2000/svg" height="24" viewBox="0 0 24 24" width="24" data-icon="ui-components:save"><g xmlns="http://www.w3.org/2000/svg" class="jp-icon3" fill="#616161"><path d="M17 3H5c-1.11 0-2 .9-2 2v14c0 1.1.89 2 2 2h14c1.1 0 2-.9 2-2V7l-4-4zm-5 16c-1.66 0-3-1.34-3-3s1.34-3 3-3 3 1.34 3 3-1.34 3-3 3zm3-10H5V5h10v4z"></path></g></svg></span></button></div><div class="lm-Widget jp-CommandToolbarButton jp-Toolbar-item"><button class="jp-ToolbarButtonComponent jp-mod-minimal jp-Button" aria-disabled="false" data-command="notebook:insert-cell-below" title="Insert a cell below (B)"><span class="jp-ToolbarButtonComponent-icon f1vya9e0"><svg xmlns="http://www.w3.org/2000/svg" width="16" viewBox="0 0 24 24" data-icon="ui-components:add"><g xmlns="http://www.w3.org/2000/svg" class="jp-icon3" fill="#616161"><path d="M19 13h-6v6h-2v-6H5v-2h6V5h2v6h6v2z"></path></g></svg></span></button></div><div class="lm-Widget jp-CommandToolbarButton jp-Toolbar-item"><button class="jp-ToolbarButtonComponent jp-mod-minimal jp-Button" aria-disabled="false" data-command="notebook:cut-cell" title="Cut this cell (X)"><span class="jp-ToolbarButtonComponent-icon f1vya9e0"><svg xmlns="http://www.w3.org/2000/svg" viewBox="0 0 24 24" width="16" data-icon="ui-components:cut"><g xmlns="http://www.w3.org/2000/svg" class="jp-icon3" fill="#616161"><path d="M9.64 7.64c.23-.5.36-1.05.36-1.64 0-2.21-1.79-4-4-4S2 3.79 2 6s1.79 4 4 4c.59 0 1.14-.13 1.64-.36L10 12l-2.36 2.36C7.14 14.13 6.59 14 6 14c-2.21 0-4 1.79-4 4s1.79 4 4 4 4-1.79 4-4c0-.59-.13-1.14-.36-1.64L12 14l7 7h3v-1L9.64 7.64zM6 8c-1.1 0-2-.89-2-2s.9-2 2-2 2 .89 2 2-.9 2-2 2zm0 12c-1.1 0-2-.89-2-2s.9-2 2-2 2 .89 2 2-.9 2-2 2zm6-7.5c-.28 0-.5-.22-.5-.5s.22-.5.5-.5.5.22.5.5-.22.5-.5.5zM19 3l-6 6 2 2 7-7V3z"></path></g></svg></span></button></div><div class="lm-Widget jp-CommandToolbarButton jp-Toolbar-item"><button class="jp-ToolbarButtonComponent jp-mod-minimal jp-Button" aria-disabled="false" data-command="notebook:copy-cell" title="Copy this cell (C)"><span class="jp-ToolbarButtonComponent-icon f1vya9e0"><svg xmlns="http://www.w3.org/2000/svg" viewBox="0 0 18 18" width="16" data-icon="ui-components:copy"><g xmlns="http://www.w3.org/2000/svg" class="jp-icon3" fill="#616161"><path d="M11.9,1H3.2C2.4,1,1.7,1.7,1.7,2.5v10.2h1.5V2.5h8.7V1z M14.1,3.9h-8c-0.8,0-1.5,0.7-1.5,1.5v10.2c0,0.8,0.7,1.5,1.5,1.5h8 c0.8,0,1.5-0.7,1.5-1.5V5.4C15.5,4.6,14.9,3.9,14.1,3.9z M14.1,15.5h-8V5.4h8V15.5z"></path></g></svg></span></button></div><div class="lm-Widget jp-CommandToolbarButton jp-Toolbar-item"><button class="jp-ToolbarButtonComponent jp-mod-minimal jp-Button" aria-disabled="false" data-command="notebook:paste-cell-below" title="Paste this cell from the clipboard (V)"><span class="jp-ToolbarButtonComponent-icon f1vya9e0"><svg xmlns="http://www.w3.org/2000/svg" height="24" viewBox="0 0 24 24" width="24" data-icon="ui-components:paste"><g xmlns="http://www.w3.org/2000/svg" class="jp-icon3" fill="#616161"><path d="M19 2h-4.18C14.4.84 13.3 0 12 0c-1.3 0-2.4.84-2.82 2H5c-1.1 0-2 .9-2 2v16c0 1.1.9 2 2 2h14c1.1 0 2-.9 2-2V4c0-1.1-.9-2-2-2zm-7 0c.55 0 1 .45 1 1s-.45 1-1 1-1-.45-1-1 .45-1 1-1zm7 18H5V4h2v3h10V4h2v16z"></path></g></svg></span></button></div><div class="lm-Widget jp-CommandToolbarButton jp-Toolbar-item"><button class="jp-ToolbarButtonComponent jp-mod-minimal jp-Button" aria-disabled="false" data-command="notebook:run-cell-and-select-next" title="Run this cell and advance (Shift+Enter)"><span class="jp-ToolbarButtonComponent-icon f1vya9e0"><svg xmlns="http://www.w3.org/2000/svg" height="24" viewBox="0 0 24 24" width="24" data-icon="ui-components:run"><g xmlns="http://www.w3.org/2000/svg" class="jp-icon3" fill="#616161"><path d="M8 5v14l11-7z"></path></g></svg></span></button></div><div class="lm-Widget jp-CommandToolbarButton jp-Toolbar-item"><button class="jp-ToolbarButtonComponent jp-mod-minimal jp-Button" aria-disabled="false" data-command="notebook:interrupt-kernel" title="Interrupt the kernel"><span class="jp-ToolbarButtonComponent-icon f1vya9e0"><svg xmlns="http://www.w3.org/2000/svg" height="24" viewBox="0 0 24 24" width="24" data-icon="ui-components:stop"><g xmlns="http://www.w3.org/2000/svg" class="jp-icon3" fill="#616161"><path d="M0 0h24v24H0z" fill="none"></path><path d="M6 6h12v12H6z"></path></g></svg></span></button></div><div class="lm-Widget jp-CommandToolbarButton jp-Toolbar-item"><button class="jp-ToolbarButtonComponent jp-mod-minimal jp-Button" aria-disabled="false" data-command="notebook:restart-kernel" title="Restart the kernel"><span class="jp-ToolbarButtonComponent-icon f1vya9e0"><svg xmlns="http://www.w3.org/2000/svg" width="16" viewBox="0 0 18 18" data-icon="ui-components:refresh"><g xmlns="http://www.w3.org/2000/svg" class="jp-icon3" fill="#616161"><path d="M9 13.5c-2.49 0-4.5-2.01-4.5-4.5S6.51 4.5 9 4.5c1.24 0 2.36.52 3.17 1.33L10 8h5V3l-1.76 1.76C12.15 3.68 10.66 3 9 3 5.69 3 3.01 5.69 3.01 9S5.69 15 9 15c2.97 0 5.43-2.16 5.9-5h-1.52c-.46 2-2.24 3.5-4.38 3.5z"></path></g></svg></span></button></div><div class="lm-Widget jp-CommandToolbarButton jp-Toolbar-item"><button class="jp-ToolbarButtonComponent jp-mod-minimal jp-Button" aria-disabled="false" data-command="notebook:restart-run-all" title="Restart the kernel and run all cells"><span class="jp-ToolbarButtonComponent-icon f1vya9e0"><svg xmlns="http://www.w3.org/2000/svg" width="24" height="24" viewBox="0 0 24 24" data-icon="ui-components:fast-forward"><g xmlns="http://www.w3.org/2000/svg" class="jp-icon3" fill="#616161"><path d="M4 18l8.5-6L4 6v12zm9-12v12l8.5-6L13 6z"></path></g></svg></span></button></div><div class="lm-Widget jp-Notebook-toolbarCellType jp-Toolbar-item"><div class="jp-HTMLSelect jp-DefaultStyle jp-Notebook-toolbarCellTypeDropdown"><select aria-label="Cell type" title="Select the cell type"><option value="-">-</option><option value="code">Code</option><option value="markdown">Markdown</option><option value="raw">Raw</option></select><span class="f1ozlkqi"><svg xmlns="http://www.w3.org/2000/svg" width="16" viewBox="0 0 18 18" data-icon="ui-components:caret-down-empty"><g xmlns="http://www.w3.org/2000/svg" class="jp-icon3" fill="#616161" shape-rendering="geometricPrecision"><path d="M5.2,5.9L9,9.7l3.8-3.8l1.2,1.2l-4.9,5l-4.9-5L5.2,5.9z"></path></g></svg></span></div></div><div class="lm-Widget jp-Toolbar-spacer jp-Toolbar-item"></div><div class="lm-Widget jp-CommandToolbarButton jp-nb-interface-switcher-button jp-Toolbar-item"><button class="jp-ToolbarButtonComponent jp-mod-minimal jp-Button" aria-disabled="false" data-command="jupyter-notebook:open-lab" title="JupyterLab"><span class="jp-ToolbarButtonComponent-icon f1vya9e0"><svg xmlns="http://www.w3.org/2000/svg" viewBox="0 0 32 32" width="32" data-icon="ui-components:launch"><g xmlns="http://www.w3.org/2000/svg" class="jp-icon3 jp-icon-selectable" fill="#616161"><path d="M26,28H6a2.0027,2.0027,0,0,1-2-2V6A2.0027,2.0027,0,0,1,6,4H16V6H6V26H26V16h2V26A2.0027,2.0027,0,0,1,26,28Z"></path><polygon points="20 2 20 4 26.586 4 18 12.586 19.414 14 28 5.414 28 12 30 12 30 2 20 2"></polygon></g></svg></span><span class="jp-ToolbarButtonComponent-label">JupyterLab</span></button></div><div class="lm-Widget jp-ToolbarButton jp-Toolbar-item"><button class="jp-DebuggerBugButton jp-ToolbarButtonComponent jp-mod-minimal jp-Button" aria-pressed="false" aria-disabled="true" disabled="" title="Select a kernel that supports debugging to enable debugger"><span class="jp-ToolbarButtonComponent-icon f1vya9e0"><svg xmlns="http://www.w3.org/2000/svg" viewBox="0 0 24 24" width="16" data-icon="ui-components:bug"><g xmlns="http://www.w3.org/2000/svg" class="jp-icon3 jp-icon-selectable" fill="#616161"><path d="M20 8h-2.81c-.45-.78-1.07-1.45-1.82-1.96L17 4.41 15.59 3l-2.17 2.17C12.96 5.06 12.49 5 12 5c-.49 0-.96.06-1.41.17L8.41 3 7 4.41l1.62 1.63C7.88 6.55 7.26 7.22 6.81 8H4v2h2.09c-.05.33-.09.66-.09 1v1H4v2h2v1c0 .34.04.67.09 1H4v2h2.81c1.04 1.79 2.97 3 5.19 3s4.15-1.21 5.19-3H20v-2h-2.09c.05-.33.09-.66.09-1v-1h2v-2h-2v-1c0-.34-.04-.67-.09-1H20V8zm-6 8h-4v-2h4v2zm0-4h-4v-2h4v2z"></path></g></svg></span></button></div><div class="lm-Widget jp-KernelName jp-Toolbar-item"><button class="jp-Toolbar-kernelName jp-ToolbarButtonComponent jp-mod-minimal jp-Button" aria-disabled="false" title="Switch kernel"><span class="jp-ToolbarButtonComponent-label">Python 3 (ipykernel)</span></button></div><div class="lm-Widget jp-mod-highlighted jp-Toolbar-item"><div class="jp-Notebook-ExecutionIndicator" title="" data-status="busy"><div class="jp-Statusbar-ProgressCircle" role="progressbar" aria-label="Kernel status" aria-valuemin="0" aria-valuemax="100" aria-valuenow="0"><svg viewBox="0 0 250 250"><circle cx="125" cy="125" r="104" stroke="var(--jp-inverse-layout-color3)" stroke-width="20" fill="none"></circle><path transform="translate(125,125) scale(.9)" d="M 0 0 v -104 A 104 104 1 1 0 0.1815 -103.9998 z" fill="var(--jp-inverse-layout-color3)"></path></svg></div><div class="jp-Notebook-ExecutionIndicator-tooltip down "><span> Kernel status: Busy </span><span>Executed 0/2 cells</span><span>Elapsed time: 54 seconds</span></div></div></div><div class="lm-Widget jp-ToolbarButton jp-Toolbar-responsive-opener jp-Toolbar-item lm-mod-hidden"><button class="jp-ToolbarButtonComponent jp-mod-minimal jp-Button" aria-pressed="false" aria-disabled="false" title="More commands"><span class="jp-ToolbarButtonComponent-icon f1vya9e0"><svg xmlns="http://www.w3.org/2000/svg" viewBox="0 0 24 24" width="16" data-icon="ui-components:ellipses"><g xmlns="http://www.w3.org/2000/svg" class="jp-icon3" fill="#616161"><circle cx="5" cy="12" r="2"></circle><circle cx="12" cy="12" r="2"></circle><circle cx="19" cy="12" r="2"></circle></g></svg></span></button></div></div><div class="lm-Widget lm-Panel lm-BoxPanel" data-direction="top-to-bottom" data-alignment="start" style="position: absolute; contain: strict; top: 29px; left: 0px; width: 1232px; height: 0px; min-width: 0px; min-height: 0px;"></div><div class="jp-WindowedPanel-outer lm-Widget jp-Notebook jp-mod-scrollPastEnd jp-mod-showHiddenCellsButton jp-NotebookPanel-notebook jp-mod-commandMode" data-jp-kernel-user="true" data-jp-undoer="true" data-jp-code-runner="true" data-jp-traversable="true" tabindex="-1" data-lm-dragscroll="true" role="region" aria-label="notebook content" id="id-863e31e2-35af-4228-a16f-30f1672dd000" style="position: absolute; contain: strict; top: 29px; left: 0px; width: 1232px; height: 473px;"><div class="jp-WindowedPanel-inner"><div class="jp-WindowedPanel-window" style="position: relative; top: 0px;"><div class="lm-Widget jp-Cell jp-CodeCell jp-Notebook-cell jp-mod-noOutputs" aria-label="Code Cell Content" data-windowed-list-index="0"><div class="lm-Widget jp-CellHeader jp-Cell-header"></div><div class="lm-Widget lm-Panel jp-Cell-inputWrapper"><div class="lm-Widget jp-Collapser jp-InputCollapser jp-Cell-inputCollapser"><div class="jp-Collapser-child"></div></div><div class="lm-Widget jp-InputArea jp-Cell-inputArea"><div class="lm-Widget jp-InputPrompt jp-InputArea-prompt">[*]:</div><div class="lm-Widget jp-CodeMirrorEditor jp-Editor jp-InputArea-editor" data-type="inline"><div class="cm-editor ͼ1 ͼ2 ͼ4 ͼo" style=""><div aria-live="polite" style="position: fixed; top: -10000px;"></div><div tabindex="-1" class="cm-scroller"><div spellcheck="false" autocorrect="off" autocapitalize="off" translate="no" contenteditable="true" class="cm-content" style="tab-size: 4;" role="textbox" aria-multiline="true" data-language="python"><div class="cm-line"><span class="ͼs">import</span> numpy <span class="ͼs">as</span> np</div><div class="cm-line"><span class="ͼs">import</span> pandas <span class="ͼs">as</span> pd</div><div class="cm-line"><span class="ͼs">import</span> matplotlib<span class="ͼ19">.</span>pyplot <span class="ͼs">as</span> plt</div><div class="cm-line"><span class="ͼs">import</span> seaborn <span class="ͼs">as</span> sns</div></div><div class="cm-layer cm-layer-above cm-cursorLayer" aria-hidden="true" style="z-index: 150; animation-duration: 1200ms;"><div class="cm-cursor cm-cursor-primary" style="left: 6px; top: 5.33333px; height: 15.3333px;"></div></div><div class="cm-layer cm-selectionLayer" aria-hidden="true" style="z-index: -2;"></div></div></div></div></div></div><div class="lm-Widget jp-CellResizeHandle"></div><div class="lm-Widget lm-Panel jp-Cell-outputWrapper"><div class="lm-Widget jp-Collapser jp-OutputCollapser jp-Cell-outputCollapser"><div class="jp-Collapser-child"></div></div><div class="lm-Widget jp-OutputArea jp-Cell-outputArea"><div class="jp-OutputArea-promptOverlay" title="Toggle output scrolling"></div></div></div><div class="lm-Widget jp-CellFooter jp-Cell-footer"></div></div><div class="lm-Widget jp-Cell jp-CodeCell jp-Notebook-cell" aria-label="Code Cell Content with Output" data-windowed-list-index="1"><div class="lm-Widget jp-CellHeader jp-Cell-header"></div><div class="lm-Widget lm-Panel jp-Cell-inputWrapper"><div class="lm-Widget jp-Collapser jp-InputCollapser jp-Cell-inputCollapser"><div class="jp-Collapser-child"></div></div><div class="lm-Widget jp-InputArea jp-Cell-inputArea"><div class="lm-Widget jp-InputPrompt jp-InputArea-prompt">[4]:</div><div class="lm-Widget jp-CodeMirrorEditor jp-Editor jp-InputArea-editor" data-type="inline"><div class="cm-editor ͼ1 ͼ2 ͼ4 ͼo" style=""><div aria-live="polite" style="position: fixed; top: -10000px;"></div><div tabindex="-1" class="cm-scroller"><div spellcheck="false" autocorrect="off" autocapitalize="off" translate="no" contenteditable="true" class="cm-content" style="tab-size: 4;" role="textbox" aria-multiline="true" data-language="python"><div class="cm-line">df<span class="ͼ10">=</span> pd<span class="ͼ19">.</span><span class="ͼz">read_csv</span><span class="ͼ19">(</span><span class="ͼ12">r"C:\Users\cyber world\OneDrive\Desktop\Artificial intelligence\spotify_dataset.csv"</span><span class="ͼ19">)</span></div><div class="cm-line">df<span class="ͼ19">.</span><span class="ͼz">head</span><span class="ͼ19">(</span><span class="ͼ19">)</span></div></div><div class="cm-layer cm-layer-above cm-cursorLayer" aria-hidden="true" style="z-index: 150; animation-duration: 1200ms;"><div class="cm-cursor cm-cursor-primary" style="left: 6px; top: 5.33333px; height: 15.3333px;"></div></div><div class="cm-layer cm-selectionLayer" aria-hidden="true" style="z-index: -2;"></div></div></div></div></div></div><div class="lm-Widget jp-CellResizeHandle"></div><div class="lm-Widget lm-Panel jp-Cell-outputWrapper"><div class="lm-Widget jp-Collapser jp-OutputCollapser jp-Cell-outputCollapser"><div class="jp-Collapser-child"></div></div><div class="lm-Widget jp-OutputArea jp-Cell-outputArea"><div class="lm-Widget lm-Panel jp-OutputArea-child jp-OutputArea-executeResult"><div class="lm-Widget jp-OutputPrompt jp-OutputArea-prompt">[4]:</div><div class="lm-Widget jp-RenderedHTMLCommon jp-RenderedHTML jp-mod-trusted jp-OutputArea-output" data-mime-type="text/html"><div>
<style scoped="">
    .dataframe tbody tr th:only-of-type {
        vertical-align: middle;
    }

    .dataframe tbody tr th {
        vertical-align: top;
    }

    .dataframe thead th {
        text-align: right;
    }
</style>
<table border="1" class="dataframe">
  <thead>
    <tr style="text-align: right;">
      <th></th>
      <th>track_id</th>
      <th>track_name</th>
      <th>track_artist</th>
      <th>track_popularity</th>
      <th>track_album_id</th>
      <th>track_album_name</th>
      <th>track_album_release_date</th>
      <th>playlist_name</th>
      <th>playlist_id</th>
      <th>playlist_genre</th>
      <th>...</th>
      <th>key</th>
      <th>loudness</th>
      <th>mode</th>
      <th>speechiness</th>
      <th>acousticness</th>
      <th>instrumentalness</th>
      <th>liveness</th>
      <th>valence</th>
      <th>tempo</th>
      <th>duration_ms</th>
    </tr>
  </thead>
  <tbody>
    <tr>
      <th>0</th>
      <td>6f807x0ima9a1j3VPbc7VN</td>
      <td>I Don't Care (with Justin Bieber) - Loud Luxur...</td>
      <td>Ed Sheeran</td>
      <td>66</td>
      <td>2oCs0DGTsRO98Gh5ZSl2Cx</td>
      <td>I Don't Care (with Justin Bieber) [Loud Luxury...</td>
      <td>2019-06-14</td>
      <td>Pop Remix</td>
      <td>37i9dQZF1DXcZDD7cfEKhW</td>
      <td>pop</td>
      <td>...</td>
      <td>6</td>
      <td>-2.634</td>
      <td>1</td>
      <td>0.0583</td>
      <td>0.1020</td>
      <td>0.000000</td>
      <td>0.0653</td>
      <td>0.518</td>
      <td>122.036</td>
      <td>194754</td>
    </tr>
    <tr>
      <th>1</th>
      <td>0r7CVbZTWZgbTCYdfa2P31</td>
      <td>Memories - Dillon Francis Remix</td>
      <td>Maroon 5</td>
      <td>67</td>
      <td>63rPSO264uRjW1X5E6cWv6</td>
      <td>Memories (Dillon Francis Remix)</td>
      <td>2019-12-13</td>
      <td>Pop Remix</td>
      <td>37i9dQZF1DXcZDD7cfEKhW</td>
      <td>pop</td>
      <td>...</td>
      <td>11</td>
      <td>-4.969</td>
      <td>1</td>
      <td>0.0373</td>
      <td>0.0724</td>
      <td>0.004210</td>
      <td>0.3570</td>
      <td>0.693</td>
      <td>99.972</td>
      <td>162600</td>
    </tr>
    <tr>
      <th>2</th>
      <td>1z1Hg7Vb0AhHDiEmnDE79l</td>
      <td>All the Time - Don Diablo Remix</td>
      <td>Zara Larsson</td>
      <td>70</td>
      <td>1HoSmj2eLcsrR0vE9gThr4</td>
      <td>All the Time (Don Diablo Remix)</td>
      <td>2019-07-05</td>
      <td>Pop Remix</td>
      <td>37i9dQZF1DXcZDD7cfEKhW</td>
      <td>pop</td>
      <td>...</td>
      <td>1</td>
      <td>-3.432</td>
      <td>0</td>
      <td>0.0742</td>
      <td>0.0794</td>
      <td>0.000023</td>
      <td>0.1100</td>
      <td>0.613</td>
      <td>124.008</td>
      <td>176616</td>
    </tr>
    <tr>
      <th>3</th>
      <td>75FpbthrwQmzHlBJLuGdC7</td>
      <td>Call You Mine - Keanu Silva Remix</td>
      <td>The Chainsmokers</td>
      <td>60</td>
      <td>1nqYsOef1yKKuGOVchbsk6</td>
      <td>Call You Mine - The Remixes</td>
      <td>2019-07-19</td>
      <td>Pop Remix</td>
      <td>37i9dQZF1DXcZDD7cfEKhW</td>
      <td>pop</td>
      <td>...</td>
      <td>7</td>
      <td>-3.778</td>
      <td>1</td>
      <td>0.1020</td>
      <td>0.0287</td>
      <td>0.000009</td>
      <td>0.2040</td>
      <td>0.277</td>
      <td>121.956</td>
      <td>169093</td>
    </tr>
    <tr>
      <th>4</th>
      <td>1e8PAfcKUYoKkxPhrHqw4x</td>
      <td>Someone You Loved - Future Humans Remix</td>
      <td>Lewis Capaldi</td>
      <td>69</td>
      <td>7m7vv9wlQ4i0LFuJiE2zsQ</td>
      <td>Someone You Loved (Future Humans Remix)</td>
      <td>2019-03-05</td>
      <td>Pop Remix</td>
      <td>37i9dQZF1DXcZDD7cfEKhW</td>
      <td>pop</td>
      <td>...</td>
      <td>1</td>
      <td>-4.672</td>
      <td>1</td>
      <td>0.0359</td>
      <td>0.0803</td>
      <td>0.000000</td>
      <td>0.0833</td>
      <td>0.725</td>
      <td>123.976</td>
      <td>189052</td>
    </tr>
  </tbody>
</table>
<p>5 rows × 23 columns</p>
</div></div></div><div class="jp-OutputArea-promptOverlay" title="Toggle output scrolling"></div></div></div><div class="lm-Widget jp-CellFooter jp-Cell-footer"></div></div><div class="lm-Widget jp-Cell jp-MarkdownCell jp-Notebook-cell jp-mod-rendered" aria-label="Markdown Cell Content" data-windowed-list-index="2"><div class="lm-Widget jp-CellHeader jp-Cell-header"></div><div class="lm-Widget lm-Panel jp-Cell-inputWrapper"><div class="lm-Widget jp-Collapser jp-InputCollapser jp-Cell-inputCollapser"><div class="jp-Collapser-child"></div></div><div class="lm-Widget jp-InputArea jp-Cell-inputArea"><div class="lm-Widget jp-InputPrompt jp-InputArea-prompt"><button class="jp-Button jp-collapseHeadingButton" data-heading-level="3"></button></div><div class="lm-Widget jp-CodeMirrorEditor jp-Editor jp-InputArea-editor lm-mod-hidden" data-type="inline"><div class="cm-editor ͼ1 ͼ2 ͼ4 ͼo" style=""><div aria-live="polite" style="position: fixed; top: -10000px;"></div><div tabindex="-1" class="cm-scroller"><div spellcheck="false" autocorrect="off" autocapitalize="off" translate="no" contenteditable="true" class="cm-content cm-lineWrapping" style="tab-size: 4;" role="textbox" aria-multiline="true" data-language="markdown"><div class="cm-line"><span class="ͼr ͼp">###</span><span class="ͼr"> in this data set we have some null value so it's better to check them beforehand</span></div></div><div class="cm-layer cm-layer-above cm-cursorLayer" aria-hidden="true" style="z-index: 150; animation-duration: 1200ms;"></div><div class="cm-layer cm-selectionLayer" aria-hidden="true" style="z-index: -2;"></div></div></div></div><div class="lm-Widget jp-RenderedHTMLCommon jp-RenderedMarkdown jp-MarkdownOutput" data-mime-type="text/markdown"><h3 id="in-this-data-set-we-have-some-null-value-so-it&#39;s-better-to-check-them-beforehand"><span class="numbering-entry"></span>in this data set we have some null value so it's better to check them beforehand<a target="_self" href="http://localhost:8888/notebooks/Untitled13.ipynb#in-this-data-set-we-have-some-null-value-so-it&#39;s-better-to-check-them-beforehand" class="jp-InternalAnchorLink">¶</a></h3>
</div></div></div><div class="lm-Widget jp-CellFooter jp-Cell-footer"></div></div><div class="lm-Widget jp-Cell jp-MarkdownCell jp-Notebook-cell jp-mod-rendered" aria-label="Markdown Cell Content" data-windowed-list-index="3"><div class="lm-Widget jp-CellHeader jp-Cell-header"></div><div class="lm-Widget lm-Panel jp-Cell-inputWrapper"><div class="lm-Widget jp-Collapser jp-InputCollapser jp-Cell-inputCollapser"><div class="jp-Collapser-child"></div></div><div class="lm-Widget jp-InputArea jp-Cell-inputArea"><div class="lm-Widget jp-InputPrompt jp-InputArea-prompt"><button class="jp-Button jp-collapseHeadingButton" data-heading-level="2"></button></div><div class="lm-Widget jp-CodeMirrorEditor jp-Editor jp-InputArea-editor lm-mod-hidden" data-type="inline"><div class="cm-editor ͼ1 ͼ2 ͼ4 ͼo" style=""><div aria-live="polite" style="position: fixed; top: -10000px;"></div><div tabindex="-1" class="cm-scroller"><div spellcheck="false" autocorrect="off" autocapitalize="off" translate="no" contenteditable="true" class="cm-content cm-lineWrapping" style="tab-size: 4;" role="textbox" aria-multiline="true" data-language="markdown"><div class="cm-line"><span class="ͼr ͼp">##</span><span class="ͼr"> find the null value present in the dataset</span></div></div><div class="cm-layer cm-layer-above cm-cursorLayer" aria-hidden="true" style="z-index: 150; animation-duration: 1200ms;"></div><div class="cm-layer cm-selectionLayer" aria-hidden="true" style="z-index: -2;"></div></div></div></div><div class="lm-Widget jp-RenderedHTMLCommon jp-RenderedMarkdown jp-MarkdownOutput" data-mime-type="text/markdown"><h2 id="find-the-null-value-present-in-the-dataset"><span class="numbering-entry"></span>find the null value present in the dataset<a target="_self" href="http://localhost:8888/notebooks/Untitled13.ipynb#find-the-null-value-present-in-the-dataset" class="jp-InternalAnchorLink">¶</a></h2>
</div></div></div><div class="lm-Widget jp-CellFooter jp-Cell-footer"></div></div><div class="lm-Widget jp-Cell jp-CodeCell jp-Notebook-cell" aria-label="Code Cell Content with Output" data-windowed-list-index="4"><div class="lm-Widget jp-CellHeader jp-Cell-header"></div><div class="lm-Widget lm-Panel jp-Cell-inputWrapper"><div class="lm-Widget jp-Collapser jp-InputCollapser jp-Cell-inputCollapser"><div class="jp-Collapser-child"></div></div><div class="lm-Widget jp-InputArea jp-Cell-inputArea"><div class="lm-Widget jp-InputPrompt jp-InputArea-prompt">[6]:</div><div class="lm-Widget jp-CodeMirrorEditor jp-Editor jp-InputArea-editor" data-type="inline"><div class="cm-editor ͼ1 ͼ2 ͼ4 ͼo" style=""><div aria-live="polite" style="position: fixed; top: -10000px;"></div><div tabindex="-1" class="cm-scroller"><div spellcheck="false" autocorrect="off" autocapitalize="off" translate="no" contenteditable="true" class="cm-content" style="tab-size: 4;" role="textbox" aria-multiline="true" data-language="python"><div class="cm-line">pd<span class="ͼ19">.</span><span class="ͼz">isnull</span><span class="ͼ19">(</span>df<span class="ͼ19">)</span><span class="ͼ19">.</span><span class="ͼz">sum</span><span class="ͼ19">(</span><span class="ͼ19">)</span></div></div><div class="cm-layer cm-layer-above cm-cursorLayer" aria-hidden="true" style="z-index: 150; animation-duration: 1200ms;"><div class="cm-cursor cm-cursor-primary" style="left: 6px; top: 5.33337px; height: 15.3333px;"></div></div><div class="cm-layer cm-selectionLayer" aria-hidden="true" style="z-index: -2;"></div></div></div></div></div></div><div class="lm-Widget jp-CellResizeHandle"></div><div class="lm-Widget lm-Panel jp-Cell-outputWrapper"><div class="lm-Widget jp-Collapser jp-OutputCollapser jp-Cell-outputCollapser"><div class="jp-Collapser-child"></div></div><div class="lm-Widget jp-OutputArea jp-Cell-outputArea"><div class="lm-Widget lm-Panel jp-OutputArea-child jp-OutputArea-executeResult"><div class="lm-Widget jp-OutputPrompt jp-OutputArea-prompt">[6]:</div><div class="lm-Widget jp-RenderedText jp-mod-trusted jp-OutputArea-output" data-mime-type="text/plain"><pre>track_id                    0
track_name                  5
track_artist                5
track_popularity            0
track_album_id              0
track_album_name            5
track_album_release_date    0
playlist_name               0
playlist_id                 0
playlist_genre              0
playlist_subgenre           0
danceability                0
energy                      0
key                         0
loudness                    0
mode                        0
speechiness                 0
acousticness                0
instrumentalness            0
liveness                    0
valence                     0
tempo                       0
duration_ms                 0
dtype: int64</pre></div></div><div class="jp-OutputArea-promptOverlay" title="Toggle output scrolling"></div></div></div><div class="lm-Widget jp-CellFooter jp-Cell-footer"></div></div><div class="lm-Widget jp-Cell jp-MarkdownCell jp-Notebook-cell jp-mod-rendered" aria-label="Markdown Cell Content" data-windowed-list-index="5"><div class="lm-Widget jp-CellHeader jp-Cell-header"></div><div class="lm-Widget lm-Panel jp-Cell-inputWrapper"><div class="lm-Widget jp-Collapser jp-InputCollapser jp-Cell-inputCollapser"><div class="jp-Collapser-child"></div></div><div class="lm-Widget jp-InputArea jp-Cell-inputArea"><div class="lm-Widget jp-InputPrompt jp-InputArea-prompt"><button class="jp-Button jp-collapseHeadingButton" data-heading-level="3"></button></div><div class="lm-Widget jp-CodeMirrorEditor jp-Editor jp-InputArea-editor lm-mod-hidden" data-type="inline"><div class="cm-editor ͼ1 ͼ2 ͼ4 ͼo" style=""><div aria-live="polite" style="position: fixed; top: -10000px;"></div><div tabindex="-1" class="cm-scroller"><div spellcheck="false" autocorrect="off" autocapitalize="off" translate="no" contenteditable="true" class="cm-content cm-lineWrapping" style="tab-size: 4;" role="textbox" aria-multiline="true" data-language="markdown"><div class="cm-line"><span class="ͼr ͼp">###</span><span class="ͼr"> here we can see there is 15 null values song name, artists and album name</span></div></div><div class="cm-layer cm-layer-above cm-cursorLayer" aria-hidden="true" style="z-index: 150; animation-duration: 1200ms;"></div><div class="cm-layer cm-selectionLayer" aria-hidden="true" style="z-index: -2;"></div></div></div></div><div class="lm-Widget jp-RenderedHTMLCommon jp-RenderedMarkdown jp-MarkdownOutput" data-mime-type="text/markdown"><h3 id="here-we-can-see-there-is-15-null-values-song-name,-artists-and-album-name"><span class="numbering-entry"></span>here we can see there is 15 null values song name, artists and album name<a target="_self" href="http://localhost:8888/notebooks/Untitled13.ipynb#here-we-can-see-there-is-15-null-values-song-name,-artists-and-album-name" class="jp-InternalAnchorLink">¶</a></h3>
</div></div></div><div class="lm-Widget jp-CellFooter jp-Cell-footer"></div></div><div class="lm-Widget jp-Cell jp-MarkdownCell jp-Notebook-cell jp-mod-rendered" aria-label="Markdown Cell Content" data-windowed-list-index="6"><div class="lm-Widget jp-CellHeader jp-Cell-header"></div><div class="lm-Widget lm-Panel jp-Cell-inputWrapper"><div class="lm-Widget jp-Collapser jp-InputCollapser jp-Cell-inputCollapser"><div class="jp-Collapser-child"></div></div><div class="lm-Widget jp-InputArea jp-Cell-inputArea"><div class="lm-Widget jp-InputPrompt jp-InputArea-prompt"><button class="jp-Button jp-collapseHeadingButton" data-heading-level="2"></button></div><div class="lm-Widget jp-CodeMirrorEditor jp-Editor jp-InputArea-editor lm-mod-hidden" data-type="inline"><div class="cm-editor ͼ1 ͼ2 ͼ4 ͼo" style=""><div aria-live="polite" style="position: fixed; top: -10000px;"></div><div tabindex="-1" class="cm-scroller"><div spellcheck="false" autocorrect="off" autocapitalize="off" translate="no" contenteditable="true" class="cm-content cm-lineWrapping" style="tab-size: 4;" role="textbox" aria-multiline="true" data-language="markdown"><div class="cm-line"><span class="ͼr ͼp">##</span><span class="ͼr"> now in this dataset we identify the total number of rows and columns in the daatset and also check the data type and memory usage</span></div></div><div class="cm-layer cm-layer-above cm-cursorLayer" aria-hidden="true" style="z-index: 150; animation-duration: 1200ms;"></div><div class="cm-layer cm-selectionLayer" aria-hidden="true" style="z-index: -2;"></div></div></div></div><div class="lm-Widget jp-RenderedHTMLCommon jp-RenderedMarkdown jp-MarkdownOutput" data-mime-type="text/markdown"><h2 id="now-in-this-dataset-we-identify-the-total-number-of-rows-and-columns-in-the-daatset-and-also-check-the-data-type-and-memory-usage"><span class="numbering-entry"></span>now in this dataset we identify the total number of rows and columns in the daatset and also check the data type and memory usage<a target="_self" href="http://localhost:8888/notebooks/Untitled13.ipynb#now-in-this-dataset-we-identify-the-total-number-of-rows-and-columns-in-the-daatset-and-also-check-the-data-type-and-memory-usage" class="jp-InternalAnchorLink">¶</a></h2>
</div></div></div><div class="lm-Widget jp-CellFooter jp-Cell-footer"></div></div><div class="lm-Widget jp-Cell jp-CodeCell jp-Notebook-cell" aria-label="Code Cell Content with Output" data-windowed-list-index="7"><div class="lm-Widget jp-CellHeader jp-Cell-header"></div><div class="lm-Widget lm-Panel jp-Cell-inputWrapper"><div class="lm-Widget jp-Collapser jp-InputCollapser jp-Cell-inputCollapser"><div class="jp-Collapser-child"></div></div><div class="lm-Widget jp-InputArea jp-Cell-inputArea"><div class="lm-Widget jp-InputPrompt jp-InputArea-prompt">[7]:</div><div class="lm-Widget jp-CodeMirrorEditor jp-Editor jp-InputArea-editor" data-type="inline"><div class="cm-editor ͼ1 ͼ2 ͼ4 ͼo" style=""><div aria-live="polite" style="position: fixed; top: -10000px;"></div><div tabindex="-1" class="cm-scroller"><div spellcheck="false" autocorrect="off" autocapitalize="off" translate="no" contenteditable="true" class="cm-content" style="tab-size: 4;" role="textbox" aria-multiline="true" data-language="python"><div class="cm-line">df<span class="ͼ19">.</span><span class="ͼz">info</span><span class="ͼ19">(</span><span class="ͼ19">)</span></div></div><div class="cm-layer cm-layer-above cm-cursorLayer" aria-hidden="true" style="z-index: 150; animation-duration: 1200ms;"><div class="cm-cursor cm-cursor-primary" style="left: 6px; top: 5.33337px; height: 15.3333px;"></div></div><div class="cm-layer cm-selectionLayer" aria-hidden="true" style="z-index: -2;"></div></div></div></div></div></div><div class="lm-Widget jp-CellResizeHandle"></div><div class="lm-Widget lm-Panel jp-Cell-outputWrapper"><div class="lm-Widget jp-Collapser jp-OutputCollapser jp-Cell-outputCollapser"><div class="jp-Collapser-child"></div></div><div class="lm-Widget jp-OutputArea jp-Cell-outputArea"><div class="lm-Widget lm-Panel jp-OutputArea-child"><div class="lm-Widget jp-OutputPrompt jp-OutputArea-prompt"></div><div class="lm-Widget jp-RenderedText jp-mod-trusted jp-OutputArea-output" data-mime-type="application/vnd.jupyter.stdout"><pre>&lt;class 'pandas.core.frame.DataFrame'&gt;
RangeIndex: 32833 entries, 0 to 32832
Data columns (total 23 columns):
 #   Column                    Non-Null Count  Dtype  
---  ------                    --------------  -----  
 0   track_id                  32833 non-null  object 
 1   track_name                32828 non-null  object 
 2   track_artist              32828 non-null  object 
 3   track_popularity          32833 non-null  int64  
 4   track_album_id            32833 non-null  object 
 5   track_album_name          32828 non-null  object 
 6   track_album_release_date  32833 non-null  object 
 7   playlist_name             32833 non-null  object 
 8   playlist_id               32833 non-null  object 
 9   playlist_genre            32833 non-null  object 
 10  playlist_subgenre         32833 non-null  object 
 11  danceability              32833 non-null  float64
 12  energy                    32833 non-null  float64
 13  key                       32833 non-null  int64  
 14  loudness                  32833 non-null  float64
 15  mode                      32833 non-null  int64  
 16  speechiness               32833 non-null  float64
 17  acousticness              32833 non-null  float64
 18  instrumentalness          32833 non-null  float64
 19  liveness                  32833 non-null  float64
 20  valence                   32833 non-null  float64
 21  tempo                     32833 non-null  float64
 22  duration_ms               32833 non-null  int64  
dtypes: float64(9), int64(4), object(10)
memory usage: 5.8+ MB
</pre></div></div><div class="jp-OutputArea-promptOverlay" title="Toggle output scrolling"></div></div></div><div class="lm-Widget jp-CellFooter jp-Cell-footer"></div></div><div class="lm-Widget jp-Cell jp-MarkdownCell jp-Notebook-cell jp-mod-rendered" aria-label="Markdown Cell Content" data-windowed-list-index="8"><div class="lm-Widget jp-CellHeader jp-Cell-header"></div><div class="lm-Widget lm-Panel jp-Cell-inputWrapper"><div class="lm-Widget jp-Collapser jp-InputCollapser jp-Cell-inputCollapser"><div class="jp-Collapser-child"></div></div><div class="lm-Widget jp-InputArea jp-Cell-inputArea"><div class="lm-Widget jp-InputPrompt jp-InputArea-prompt"><button class="jp-Button jp-collapseHeadingButton" data-heading-level="3"></button></div><div class="lm-Widget jp-CodeMirrorEditor jp-Editor jp-InputArea-editor lm-mod-hidden" data-type="inline"><div class="cm-editor ͼ1 ͼ2 ͼ4 ͼo" style=""><div aria-live="polite" style="position: fixed; top: -10000px;"></div><div tabindex="-1" class="cm-scroller"><div spellcheck="false" autocorrect="off" autocapitalize="off" translate="no" contenteditable="true" class="cm-content cm-lineWrapping" style="tab-size: 4;" role="textbox" aria-multiline="true" data-language="markdown"><div class="cm-line"><span class="ͼr ͼp">###</span><span class="ͼr"> find ten least popular songs in the dataset</span></div></div><div class="cm-layer cm-layer-above cm-cursorLayer" aria-hidden="true" style="z-index: 150; animation-duration: 1200ms;"></div><div class="cm-layer cm-selectionLayer" aria-hidden="true" style="z-index: -2;"></div></div></div></div><div class="lm-Widget jp-RenderedHTMLCommon jp-RenderedMarkdown jp-MarkdownOutput" data-mime-type="text/markdown"><h3 id="find-ten-least-popular-songs-in-the-dataset"><span class="numbering-entry"></span>find ten least popular songs in the dataset<a target="_self" href="http://localhost:8888/notebooks/Untitled13.ipynb#find-ten-least-popular-songs-in-the-dataset" class="jp-InternalAnchorLink">¶</a></h3>
</div></div></div><div class="lm-Widget jp-CellFooter jp-Cell-footer"></div></div><div class="lm-Widget jp-Cell jp-CodeCell jp-Notebook-cell" aria-label="Code Cell Content with Output" data-windowed-list-index="9"><div class="lm-Widget jp-CellHeader jp-Cell-header"></div><div class="lm-Widget lm-Panel jp-Cell-inputWrapper"><div class="lm-Widget jp-Collapser jp-InputCollapser jp-Cell-inputCollapser"><div class="jp-Collapser-child"></div></div><div class="lm-Widget jp-InputArea jp-Cell-inputArea"><div class="lm-Widget jp-InputPrompt jp-InputArea-prompt">[9]:</div><div class="lm-Widget jp-CodeMirrorEditor jp-Editor jp-InputArea-editor" data-type="inline"><div class="cm-editor ͼ1 ͼ2 ͼ4 ͼo" style=""><div aria-live="polite" style="position: fixed; top: -10000px;"></div><div tabindex="-1" class="cm-scroller"><div spellcheck="false" autocorrect="off" autocapitalize="off" translate="no" contenteditable="true" class="cm-content" style="tab-size: 4;" role="textbox" aria-multiline="true" data-language="python"><div class="cm-line">sorted_df <span class="ͼ10">=</span> df<span class="ͼ19">.</span><span class="ͼz">sort_values</span><span class="ͼ19">(</span><span class="ͼ12">'track_popularity'</span><span class="ͼ19">,</span>ascending <span class="ͼ10">=</span> <span class="ͼ1d">True</span><span class="ͼ19">)</span><span class="ͼ19">.</span><span class="ͼz">head</span><span class="ͼ19">(</span><span class="ͼu">10</span><span class="ͼ19">)</span></div><div class="cm-line">sorted_df</div></div><div class="cm-layer cm-layer-above cm-cursorLayer" aria-hidden="true" style="z-index: 150; animation-duration: 1200ms;"><div class="cm-cursor cm-cursor-primary" style="left: 6px; top: 5.33331px; height: 15.3334px;"></div></div><div class="cm-layer cm-selectionLayer" aria-hidden="true" style="z-index: -2;"></div></div></div></div></div></div><div class="lm-Widget jp-CellResizeHandle"></div><div class="lm-Widget lm-Panel jp-Cell-outputWrapper"><div class="lm-Widget jp-Collapser jp-OutputCollapser jp-Cell-outputCollapser"><div class="jp-Collapser-child"></div></div><div class="lm-Widget jp-OutputArea jp-Cell-outputArea"><div class="lm-Widget lm-Panel jp-OutputArea-child jp-OutputArea-executeResult"><div class="lm-Widget jp-OutputPrompt jp-OutputArea-prompt">[9]:</div><div class="lm-Widget jp-RenderedHTMLCommon jp-RenderedHTML jp-mod-trusted jp-OutputArea-output" data-mime-type="text/html"><div>
<style scoped="">
    .dataframe tbody tr th:only-of-type {
        vertical-align: middle;
    }

    .dataframe tbody tr th {
        vertical-align: top;
    }

    .dataframe thead th {
        text-align: right;
    }
</style>
<table border="1" class="dataframe">
  <thead>
    <tr style="text-align: right;">
      <th></th>
      <th>track_id</th>
      <th>track_name</th>
      <th>track_artist</th>
      <th>track_popularity</th>
      <th>track_album_id</th>
      <th>track_album_name</th>
      <th>track_album_release_date</th>
      <th>playlist_name</th>
      <th>playlist_id</th>
      <th>playlist_genre</th>
      <th>...</th>
      <th>key</th>
      <th>loudness</th>
      <th>mode</th>
      <th>speechiness</th>
      <th>acousticness</th>
      <th>instrumentalness</th>
      <th>liveness</th>
      <th>valence</th>
      <th>tempo</th>
      <th>duration_ms</th>
    </tr>
  </thead>
  <tbody>
    <tr>
      <th>11645</th>
      <td>3mXBM0LLk0bemiuCHyvQ9S</td>
      <td>El Laberinto - Live</td>
      <td>Miguel Rios</td>
      <td>0</td>
      <td>5fstCqs5NpIlF42VhPNv23</td>
      <td>Rock &amp; Rios (Remastered)</td>
      <td>2005-01-01</td>
      <td>Rock and Rios</td>
      <td>2gpKfzXEi8QWvgBNPDPk5R</td>
      <td>rock</td>
      <td>...</td>
      <td>11</td>
      <td>-9.207</td>
      <td>0</td>
      <td>0.0590</td>
      <td>0.0122</td>
      <td>0.000000</td>
      <td>0.4150</td>
      <td>0.558</td>
      <td>185.327</td>
      <td>51853</td>
    </tr>
    <tr>
      <th>18994</th>
      <td>4EoDcHQ7lOj4RGgRibFLXh</td>
      <td>Un Sueño</td>
      <td>R.K.M &amp; Ken-Y</td>
      <td>0</td>
      <td>0VKEkSWbmAyBEVuvlhMmas</td>
      <td>Reggaeton Hits Factory</td>
      <td>2007-01-01</td>
      <td>Reggaeton Classics</td>
      <td>37i9dQZF1DX8SfyqmSFDwe</td>
      <td>latin</td>
      <td>...</td>
      <td>1</td>
      <td>-4.959</td>
      <td>1</td>
      <td>0.0622</td>
      <td>0.1570</td>
      <td>0.033200</td>
      <td>0.3090</td>
      <td>0.805</td>
      <td>95.006</td>
      <td>245427</td>
    </tr>
    <tr>
      <th>19127</th>
      <td>4YAcCjGlRfpcFLyxiI54K7</td>
      <td>No Es Culpa Mía</td>
      <td>DY</td>
      <td>0</td>
      <td>6pa7ftXvhHJWLvuE4A5mLI</td>
      <td>No Es Culpa Mía</td>
      <td>2017-05-24</td>
      <td>Reggaeton De Ayer</td>
      <td>37i9dQZF1DWWU6Rfto8Ppm</td>
      <td>latin</td>
      <td>...</td>
      <td>10</td>
      <td>-4.337</td>
      <td>1</td>
      <td>0.0986</td>
      <td>0.4370</td>
      <td>0.000001</td>
      <td>0.0798</td>
      <td>0.714</td>
      <td>94.053</td>
      <td>107572</td>
    </tr>
    <tr>
      <th>19160</th>
      <td>76tsb1MlePUaN0Y3R8w0KO</td>
      <td>Web Cam</td>
      <td>Farruko</td>
      <td>0</td>
      <td>31WdDt5NcgMhHA8Uh1RZFA</td>
      <td>The Ones</td>
      <td>2015-08-28</td>
      <td>Reggaeton De Ayer</td>
      <td>37i9dQZF1DWWU6Rfto8Ppm</td>
      <td>latin</td>
      <td>...</td>
      <td>7</td>
      <td>-7.085</td>
      <td>1</td>
      <td>0.0504</td>
      <td>0.2100</td>
      <td>0.000000</td>
      <td>0.3830</td>
      <td>0.542</td>
      <td>80.989</td>
      <td>206639</td>
    </tr>
    <tr>
      <th>19168</th>
      <td>54rF7OkHKlNJFuePn7sBsJ</td>
      <td>Sexo Seguro</td>
      <td>Franco "El Gorilla"</td>
      <td>0</td>
      <td>0GqH0aPhP29I1yE9O7pzNt</td>
      <td>Welcome To The Jungle</td>
      <td>2009-01-01</td>
      <td>Reggaeton De Ayer</td>
      <td>37i9dQZF1DWWU6Rfto8Ppm</td>
      <td>latin</td>
      <td>...</td>
      <td>4</td>
      <td>-6.230</td>
      <td>0</td>
      <td>0.0905</td>
      <td>0.0853</td>
      <td>0.000000</td>
      <td>0.1080</td>
      <td>0.585</td>
      <td>97.015</td>
      <td>218507</td>
    </tr>
    <tr>
      <th>19178</th>
      <td>6iFgpfqV152RVIXSNfQuhj</td>
      <td>Flow Violento</td>
      <td>Arcangel</td>
      <td>0</td>
      <td>6yPjXW0WhOnJbRGl2wLtA4</td>
      <td>Flow Violento Vol.1</td>
      <td>2019-04-11</td>
      <td>Reggaeton De Ayer</td>
      <td>37i9dQZF1DWWU6Rfto8Ppm</td>
      <td>latin</td>
      <td>...</td>
      <td>9</td>
      <td>-6.760</td>
      <td>1</td>
      <td>0.1840</td>
      <td>0.2660</td>
      <td>0.000000</td>
      <td>0.2370</td>
      <td>0.925</td>
      <td>80.018</td>
      <td>186619</td>
    </tr>
    <tr>
      <th>19186</th>
      <td>3DQLEEsPTaXTKay4QtDbfC</td>
      <td>Nuestro Amor Es Asi</td>
      <td>Magnate</td>
      <td>0</td>
      <td>6HHTfrMM5EZQv7hMPGVFwq</td>
      <td>Progresivo</td>
      <td>2007-01-01</td>
      <td>Reggaeton De Ayer</td>
      <td>37i9dQZF1DWWU6Rfto8Ppm</td>
      <td>latin</td>
      <td>...</td>
      <td>10</td>
      <td>-5.127</td>
      <td>1</td>
      <td>0.0599</td>
      <td>0.5050</td>
      <td>0.000000</td>
      <td>0.2150</td>
      <td>0.585</td>
      <td>94.931</td>
      <td>177680</td>
    </tr>
    <tr>
      <th>11457</th>
      <td>51pvjqS1XmaObmjovRnHiL</td>
      <td>Natsu No Owari</td>
      <td>T-SQUARE</td>
      <td>0</td>
      <td>0TvVsaFDsyqHwzrJ04mjhH</td>
      <td>Paradise</td>
      <td>2015-07-08</td>
      <td>City Pop 1985 シティーポップ</td>
      <td>3j2osvmecEao5nmo9jZ5df</td>
      <td>rock</td>
      <td>...</td>
      <td>7</td>
      <td>-8.163</td>
      <td>1</td>
      <td>0.0242</td>
      <td>0.0515</td>
      <td>0.562000</td>
      <td>0.1040</td>
      <td>0.713</td>
      <td>100.045</td>
      <td>308867</td>
    </tr>
    <tr>
      <th>27749</th>
      <td>6AdD7ReUe1mk5ixLfGnSwO</td>
      <td>Stardust</td>
      <td>Lucas &amp; Steve</td>
      <td>0</td>
      <td>1crgxyEW2xWxeb7mCamyBO</td>
      <td>Stardust</td>
      <td>2017-09-22</td>
      <td>Jeff Seid Electro House</td>
      <td>2Tisn6NZbeofpc57Oc6MGo</td>
      <td>edm</td>
      <td>...</td>
      <td>8</td>
      <td>-2.337</td>
      <td>0</td>
      <td>0.1580</td>
      <td>0.0254</td>
      <td>0.000011</td>
      <td>0.0604</td>
      <td>0.509</td>
      <td>126.075</td>
      <td>175000</td>
    </tr>
    <tr>
      <th>27747</th>
      <td>2gfToY9trgUdYIgPkc8zwR</td>
      <td>Thanks A Million</td>
      <td>Jay Hardway</td>
      <td>0</td>
      <td>2zVNpQs05XWyQJVOksyzYX</td>
      <td>Thanks A Million</td>
      <td>2017-09-04</td>
      <td>Jeff Seid Electro House</td>
      <td>2Tisn6NZbeofpc57Oc6MGo</td>
      <td>edm</td>
      <td>...</td>
      <td>9</td>
      <td>-9.396</td>
      <td>1</td>
      <td>0.0316</td>
      <td>0.0105</td>
      <td>0.073300</td>
      <td>0.1660</td>
      <td>0.455</td>
      <td>120.010</td>
      <td>216407</td>
    </tr>
  </tbody>
</table>
<p>10 rows × 23 columns</p>
</div></div></div><div class="jp-OutputArea-promptOverlay" title="Toggle output scrolling"></div></div></div><div class="lm-Widget jp-CellFooter jp-Cell-footer"></div></div><div class="lm-Widget jp-Cell jp-MarkdownCell jp-Notebook-cell jp-mod-rendered" aria-label="Markdown Cell Content" data-windowed-list-index="10"><div class="lm-Widget jp-CellHeader jp-Cell-header"></div><div class="lm-Widget lm-Panel jp-Cell-inputWrapper"><div class="lm-Widget jp-Collapser jp-InputCollapser jp-Cell-inputCollapser"><div class="jp-Collapser-child"></div></div><div class="lm-Widget jp-InputArea jp-Cell-inputArea"><div class="lm-Widget jp-InputPrompt jp-InputArea-prompt"><button class="jp-Button jp-collapseHeadingButton" data-heading-level="2"></button></div><div class="lm-Widget jp-CodeMirrorEditor jp-Editor jp-InputArea-editor lm-mod-hidden" data-type="inline"><div class="cm-editor ͼ1 ͼ2 ͼ4 ͼo" style=""><div aria-live="polite" style="position: fixed; top: -10000px;"></div><div tabindex="-1" class="cm-scroller"><div spellcheck="false" autocorrect="off" autocapitalize="off" translate="no" contenteditable="true" class="cm-content cm-lineWrapping" style="tab-size: 4;" role="textbox" aria-multiline="true" data-language="markdown"><div class="cm-line"><span class="ͼr ͼp">##</span><span class="ͼr"> statistics analysis </span></div></div><div class="cm-layer cm-layer-above cm-cursorLayer" aria-hidden="true" style="z-index: 150; animation-duration: 1200ms;"></div><div class="cm-layer cm-selectionLayer" aria-hidden="true" style="z-index: -2;"></div></div></div></div><div class="lm-Widget jp-RenderedHTMLCommon jp-RenderedMarkdown jp-MarkdownOutput" data-mime-type="text/markdown"><h2 id="statistics-analysis"><span class="numbering-entry"></span>statistics analysis<a target="_self" href="http://localhost:8888/notebooks/Untitled13.ipynb#statistics-analysis" class="jp-InternalAnchorLink">¶</a></h2>
</div></div></div><div class="lm-Widget jp-CellFooter jp-Cell-footer"></div></div><div class="lm-Widget jp-Cell jp-CodeCell jp-Notebook-cell" aria-label="Code Cell Content with Output" data-windowed-list-index="11"><div class="lm-Widget jp-CellHeader jp-Cell-header"></div><div class="lm-Widget lm-Panel jp-Cell-inputWrapper"><div class="lm-Widget jp-Collapser jp-InputCollapser jp-Cell-inputCollapser"><div class="jp-Collapser-child"></div></div><div class="lm-Widget jp-InputArea jp-Cell-inputArea"><div class="lm-Widget jp-InputPrompt jp-InputArea-prompt">[17]:</div><div class="lm-Widget jp-CodeMirrorEditor jp-Editor jp-InputArea-editor" data-type="inline"><div class="cm-editor ͼ1 ͼ2 ͼ4 ͼo" style=""><div aria-live="polite" style="position: fixed; top: -10000px;"></div><div tabindex="-1" class="cm-scroller"><div spellcheck="false" autocorrect="off" autocapitalize="off" translate="no" contenteditable="true" class="cm-content" style="tab-size: 4;" role="textbox" aria-multiline="true" data-language="python"><div class="cm-line">df<span class="ͼ19">.</span><span class="ͼz">describe</span><span class="ͼ19">(</span><span class="ͼ19">)</span><span class="ͼ19">.</span><span class="ͼz">transpose</span><span class="ͼ19">(</span><span class="ͼ19">)</span></div></div><div class="cm-layer cm-layer-above cm-cursorLayer" aria-hidden="true" style="z-index: 150; animation-duration: 1200ms;"><div class="cm-cursor cm-cursor-primary" style="left: 6px; top: 5.33331px; height: 15.3333px;"></div></div><div class="cm-layer cm-selectionLayer" aria-hidden="true" style="z-index: -2;"></div></div></div></div></div></div><div class="lm-Widget jp-CellResizeHandle"></div><div class="lm-Widget lm-Panel jp-Cell-outputWrapper"><div class="lm-Widget jp-Collapser jp-OutputCollapser jp-Cell-outputCollapser"><div class="jp-Collapser-child"></div></div><div class="lm-Widget jp-OutputArea jp-Cell-outputArea"><div class="lm-Widget lm-Panel jp-OutputArea-child jp-OutputArea-executeResult"><div class="lm-Widget jp-OutputPrompt jp-OutputArea-prompt">[17]:</div><div class="lm-Widget jp-RenderedHTMLCommon jp-RenderedHTML jp-mod-trusted jp-OutputArea-output" data-mime-type="text/html"><div>
<style scoped="">
    .dataframe tbody tr th:only-of-type {
        vertical-align: middle;
    }

    .dataframe tbody tr th {
        vertical-align: top;
    }

    .dataframe thead th {
        text-align: right;
    }
</style>
<table border="1" class="dataframe">
  <thead>
    <tr style="text-align: right;">
      <th></th>
      <th>count</th>
      <th>mean</th>
      <th>std</th>
      <th>min</th>
      <th>25%</th>
      <th>50%</th>
      <th>75%</th>
      <th>max</th>
    </tr>
  </thead>
  <tbody>
    <tr>
      <th>track_popularity</th>
      <td>32833.0</td>
      <td>42.477081</td>
      <td>24.984074</td>
      <td>0.000000</td>
      <td>24.0000</td>
      <td>45.000000</td>
      <td>62.00000</td>
      <td>100.000</td>
    </tr>
    <tr>
      <th>danceability</th>
      <td>32833.0</td>
      <td>0.654850</td>
      <td>0.145085</td>
      <td>0.000000</td>
      <td>0.5630</td>
      <td>0.672000</td>
      <td>0.76100</td>
      <td>0.983</td>
    </tr>
    <tr>
      <th>energy</th>
      <td>32833.0</td>
      <td>0.698619</td>
      <td>0.180910</td>
      <td>0.000175</td>
      <td>0.5810</td>
      <td>0.721000</td>
      <td>0.84000</td>
      <td>1.000</td>
    </tr>
    <tr>
      <th>key</th>
      <td>32833.0</td>
      <td>5.374471</td>
      <td>3.611657</td>
      <td>0.000000</td>
      <td>2.0000</td>
      <td>6.000000</td>
      <td>9.00000</td>
      <td>11.000</td>
    </tr>
    <tr>
      <th>loudness</th>
      <td>32833.0</td>
      <td>-6.719499</td>
      <td>2.988436</td>
      <td>-46.448000</td>
      <td>-8.1710</td>
      <td>-6.166000</td>
      <td>-4.64500</td>
      <td>1.275</td>
    </tr>
    <tr>
      <th>mode</th>
      <td>32833.0</td>
      <td>0.565711</td>
      <td>0.495671</td>
      <td>0.000000</td>
      <td>0.0000</td>
      <td>1.000000</td>
      <td>1.00000</td>
      <td>1.000</td>
    </tr>
    <tr>
      <th>speechiness</th>
      <td>32833.0</td>
      <td>0.107068</td>
      <td>0.101314</td>
      <td>0.000000</td>
      <td>0.0410</td>
      <td>0.062500</td>
      <td>0.13200</td>
      <td>0.918</td>
    </tr>
    <tr>
      <th>acousticness</th>
      <td>32833.0</td>
      <td>0.175334</td>
      <td>0.219633</td>
      <td>0.000000</td>
      <td>0.0151</td>
      <td>0.080400</td>
      <td>0.25500</td>
      <td>0.994</td>
    </tr>
    <tr>
      <th>instrumentalness</th>
      <td>32833.0</td>
      <td>0.084747</td>
      <td>0.224230</td>
      <td>0.000000</td>
      <td>0.0000</td>
      <td>0.000016</td>
      <td>0.00483</td>
      <td>0.994</td>
    </tr>
    <tr>
      <th>liveness</th>
      <td>32833.0</td>
      <td>0.190176</td>
      <td>0.154317</td>
      <td>0.000000</td>
      <td>0.0927</td>
      <td>0.127000</td>
      <td>0.24800</td>
      <td>0.996</td>
    </tr>
    <tr>
      <th>valence</th>
      <td>32833.0</td>
      <td>0.510561</td>
      <td>0.233146</td>
      <td>0.000000</td>
      <td>0.3310</td>
      <td>0.512000</td>
      <td>0.69300</td>
      <td>0.991</td>
    </tr>
    <tr>
      <th>tempo</th>
      <td>32833.0</td>
      <td>120.881132</td>
      <td>26.903624</td>
      <td>0.000000</td>
      <td>99.9600</td>
      <td>121.984000</td>
      <td>133.91800</td>
      <td>239.440</td>
    </tr>
    <tr>
      <th>duration_ms</th>
      <td>32833.0</td>
      <td>225799.811622</td>
      <td>59834.006182</td>
      <td>4000.000000</td>
      <td>187819.0000</td>
      <td>216000.000000</td>
      <td>253585.00000</td>
      <td>517810.000</td>
    </tr>
  </tbody>
</table>
</div></div></div><div class="jp-OutputArea-promptOverlay" title="Toggle output scrolling"></div></div></div><div class="lm-Widget jp-CellFooter jp-Cell-footer"></div></div><div class="lm-Widget jp-Cell jp-MarkdownCell jp-Notebook-cell jp-mod-rendered" aria-label="Markdown Cell Content" data-windowed-list-index="12"><div class="lm-Widget jp-CellHeader jp-Cell-header"></div><div class="lm-Widget lm-Panel jp-Cell-inputWrapper"><div class="lm-Widget jp-Collapser jp-InputCollapser jp-Cell-inputCollapser"><div class="jp-Collapser-child"></div></div><div class="lm-Widget jp-InputArea jp-Cell-inputArea"><div class="lm-Widget jp-InputPrompt jp-InputArea-prompt"><button class="jp-Button jp-collapseHeadingButton" data-heading-level="1"></button></div><div class="lm-Widget jp-CodeMirrorEditor jp-Editor jp-InputArea-editor lm-mod-hidden" data-type="inline"><div class="cm-editor ͼ1 ͼ2 ͼ4 ͼo" style=""><div aria-live="polite" style="position: fixed; top: -10000px;"></div><div tabindex="-1" class="cm-scroller"><div spellcheck="false" autocorrect="off" autocapitalize="off" translate="no" contenteditable="true" class="cm-content cm-lineWrapping" style="tab-size: 4;" role="textbox" aria-multiline="true" data-language="markdown"><div class="cm-line"><span class="ͼr ͼp">#</span><span class="ͼr"> Make the Release Date Column as the Index Column.</span></div></div><div class="cm-layer cm-layer-above cm-cursorLayer" aria-hidden="true" style="z-index: 150; animation-duration: 1200ms;"></div><div class="cm-layer cm-selectionLayer" aria-hidden="true" style="z-index: -2;"></div></div></div></div><div class="lm-Widget jp-RenderedHTMLCommon jp-RenderedMarkdown jp-MarkdownOutput" data-mime-type="text/markdown"><h1 id="Make-the-Release-Date-Column-as-the-Index-Column."><span class="numbering-entry"></span>Make the Release Date Column as the Index Column.<a target="_self" href="http://localhost:8888/notebooks/Untitled13.ipynb#Make-the-Release-Date-Column-as-the-Index-Column." class="jp-InternalAnchorLink">¶</a></h1>
</div></div></div><div class="lm-Widget jp-CellFooter jp-Cell-footer"></div></div><div class="lm-Widget jp-Cell jp-CodeCell jp-Notebook-cell" aria-label="Code Cell Content with Output" data-windowed-list-index="13"><div class="lm-Widget jp-CellHeader jp-Cell-header"></div><div class="lm-Widget lm-Panel jp-Cell-inputWrapper"><div class="lm-Widget jp-Collapser jp-InputCollapser jp-Cell-inputCollapser"><div class="jp-Collapser-child"></div></div><div class="lm-Widget jp-InputArea jp-Cell-inputArea"><div class="lm-Widget jp-InputPrompt jp-InputArea-prompt">[27]:</div><div class="lm-Widget jp-CodeMirrorEditor jp-Editor jp-InputArea-editor" data-type="inline"><div class="cm-editor ͼ1 ͼ2 ͼ4 ͼo" style=""><div aria-live="polite" style="position: fixed; top: -10000px;"></div><div tabindex="-1" class="cm-scroller"><div spellcheck="false" autocorrect="off" autocapitalize="off" translate="no" contenteditable="true" class="cm-content" style="tab-size: 4;" role="textbox" aria-multiline="true" data-language="python"><div class="cm-line"><br></div><div class="cm-line">df <span class="ͼ10">=</span> pd<span class="ͼ19">.</span><span class="ͼz">read_csv</span><span class="ͼ19">(</span><span class="ͼ12">r'C:\Users\cyber world\OneDrive\Desktop\Artificial intelligence\spotify_dataset.csv'</span><span class="ͼ19">,</span> index_col<span class="ͼ10">=</span><span class="ͼ12">'track_album_release_date'</span><span class="ͼ19">)</span></div><div class="cm-line">df</div></div><div class="cm-layer cm-layer-above cm-cursorLayer" aria-hidden="true" style="z-index: 150; animation-duration: 1200ms;"><div class="cm-cursor cm-cursor-primary" style="left: 6px; top: 5.33337px; height: 15.3333px;"></div></div><div class="cm-layer cm-selectionLayer" aria-hidden="true" style="z-index: -2;"></div></div></div></div></div></div><div class="lm-Widget jp-CellResizeHandle"></div><div class="lm-Widget lm-Panel jp-Cell-outputWrapper"><div class="lm-Widget jp-Collapser jp-OutputCollapser jp-Cell-outputCollapser"><div class="jp-Collapser-child"></div></div><div class="lm-Widget jp-OutputArea jp-Cell-outputArea"><div class="lm-Widget lm-Panel jp-OutputArea-child jp-OutputArea-executeResult"><div class="lm-Widget jp-OutputPrompt jp-OutputArea-prompt">[27]:</div><div class="lm-Widget jp-RenderedHTMLCommon jp-RenderedHTML jp-mod-trusted jp-OutputArea-output" data-mime-type="text/html"><div>
<style scoped="">
    .dataframe tbody tr th:only-of-type {
        vertical-align: middle;
    }

    .dataframe tbody tr th {
        vertical-align: top;
    }

    .dataframe thead th {
        text-align: right;
    }
</style>
<table border="1" class="dataframe">
  <thead>
    <tr style="text-align: right;">
      <th></th>
      <th>track_id</th>
      <th>track_name</th>
      <th>track_artist</th>
      <th>track_popularity</th>
      <th>track_album_id</th>
      <th>track_album_name</th>
      <th>playlist_name</th>
      <th>playlist_id</th>
      <th>playlist_genre</th>
      <th>playlist_subgenre</th>
      <th>...</th>
      <th>key</th>
      <th>loudness</th>
      <th>mode</th>
      <th>speechiness</th>
      <th>acousticness</th>
      <th>instrumentalness</th>
      <th>liveness</th>
      <th>valence</th>
      <th>tempo</th>
      <th>duration_ms</th>
    </tr>
    <tr>
      <th>track_album_release_date</th>
      <th></th>
      <th></th>
      <th></th>
      <th></th>
      <th></th>
      <th></th>
      <th></th>
      <th></th>
      <th></th>
      <th></th>
      <th></th>
      <th></th>
      <th></th>
      <th></th>
      <th></th>
      <th></th>
      <th></th>
      <th></th>
      <th></th>
      <th></th>
      <th></th>
    </tr>
  </thead>
  <tbody>
    <tr>
      <th>2019-06-14</th>
      <td>6f807x0ima9a1j3VPbc7VN</td>
      <td>I Don't Care (with Justin Bieber) - Loud Luxur...</td>
      <td>Ed Sheeran</td>
      <td>66</td>
      <td>2oCs0DGTsRO98Gh5ZSl2Cx</td>
      <td>I Don't Care (with Justin Bieber) [Loud Luxury...</td>
      <td>Pop Remix</td>
      <td>37i9dQZF1DXcZDD7cfEKhW</td>
      <td>pop</td>
      <td>dance pop</td>
      <td>...</td>
      <td>6</td>
      <td>-2.634</td>
      <td>1</td>
      <td>0.0583</td>
      <td>0.102000</td>
      <td>0.000000</td>
      <td>0.0653</td>
      <td>0.5180</td>
      <td>122.036</td>
      <td>194754</td>
    </tr>
    <tr>
      <th>2019-12-13</th>
      <td>0r7CVbZTWZgbTCYdfa2P31</td>
      <td>Memories - Dillon Francis Remix</td>
      <td>Maroon 5</td>
      <td>67</td>
      <td>63rPSO264uRjW1X5E6cWv6</td>
      <td>Memories (Dillon Francis Remix)</td>
      <td>Pop Remix</td>
      <td>37i9dQZF1DXcZDD7cfEKhW</td>
      <td>pop</td>
      <td>dance pop</td>
      <td>...</td>
      <td>11</td>
      <td>-4.969</td>
      <td>1</td>
      <td>0.0373</td>
      <td>0.072400</td>
      <td>0.004210</td>
      <td>0.3570</td>
      <td>0.6930</td>
      <td>99.972</td>
      <td>162600</td>
    </tr>
    <tr>
      <th>2019-07-05</th>
      <td>1z1Hg7Vb0AhHDiEmnDE79l</td>
      <td>All the Time - Don Diablo Remix</td>
      <td>Zara Larsson</td>
      <td>70</td>
      <td>1HoSmj2eLcsrR0vE9gThr4</td>
      <td>All the Time (Don Diablo Remix)</td>
      <td>Pop Remix</td>
      <td>37i9dQZF1DXcZDD7cfEKhW</td>
      <td>pop</td>
      <td>dance pop</td>
      <td>...</td>
      <td>1</td>
      <td>-3.432</td>
      <td>0</td>
      <td>0.0742</td>
      <td>0.079400</td>
      <td>0.000023</td>
      <td>0.1100</td>
      <td>0.6130</td>
      <td>124.008</td>
      <td>176616</td>
    </tr>
    <tr>
      <th>2019-07-19</th>
      <td>75FpbthrwQmzHlBJLuGdC7</td>
      <td>Call You Mine - Keanu Silva Remix</td>
      <td>The Chainsmokers</td>
      <td>60</td>
      <td>1nqYsOef1yKKuGOVchbsk6</td>
      <td>Call You Mine - The Remixes</td>
      <td>Pop Remix</td>
      <td>37i9dQZF1DXcZDD7cfEKhW</td>
      <td>pop</td>
      <td>dance pop</td>
      <td>...</td>
      <td>7</td>
      <td>-3.778</td>
      <td>1</td>
      <td>0.1020</td>
      <td>0.028700</td>
      <td>0.000009</td>
      <td>0.2040</td>
      <td>0.2770</td>
      <td>121.956</td>
      <td>169093</td>
    </tr>
    <tr>
      <th>2019-03-05</th>
      <td>1e8PAfcKUYoKkxPhrHqw4x</td>
      <td>Someone You Loved - Future Humans Remix</td>
      <td>Lewis Capaldi</td>
      <td>69</td>
      <td>7m7vv9wlQ4i0LFuJiE2zsQ</td>
      <td>Someone You Loved (Future Humans Remix)</td>
      <td>Pop Remix</td>
      <td>37i9dQZF1DXcZDD7cfEKhW</td>
      <td>pop</td>
      <td>dance pop</td>
      <td>...</td>
      <td>1</td>
      <td>-4.672</td>
      <td>1</td>
      <td>0.0359</td>
      <td>0.080300</td>
      <td>0.000000</td>
      <td>0.0833</td>
      <td>0.7250</td>
      <td>123.976</td>
      <td>189052</td>
    </tr>
    <tr>
      <th>...</th>
      <td>...</td>
      <td>...</td>
      <td>...</td>
      <td>...</td>
      <td>...</td>
      <td>...</td>
      <td>...</td>
      <td>...</td>
      <td>...</td>
      <td>...</td>
      <td>...</td>
      <td>...</td>
      <td>...</td>
      <td>...</td>
      <td>...</td>
      <td>...</td>
      <td>...</td>
      <td>...</td>
      <td>...</td>
      <td>...</td>
      <td>...</td>
    </tr>
    <tr>
      <th>2014-04-28</th>
      <td>7bxnKAamR3snQ1VGLuVfC1</td>
      <td>City Of Lights - Official Radio Edit</td>
      <td>Lush &amp; Simon</td>
      <td>42</td>
      <td>2azRoBBWEEEYhqV6sb7JrT</td>
      <td>City Of Lights (Vocal Mix)</td>
      <td>♥ EDM LOVE 2020</td>
      <td>6jI1gFr6ANFtT8MmTvA2Ux</td>
      <td>edm</td>
      <td>progressive electro house</td>
      <td>...</td>
      <td>2</td>
      <td>-1.814</td>
      <td>1</td>
      <td>0.0936</td>
      <td>0.076600</td>
      <td>0.000000</td>
      <td>0.0668</td>
      <td>0.2100</td>
      <td>128.170</td>
      <td>204375</td>
    </tr>
    <tr>
      <th>2013-03-08</th>
      <td>5Aevni09Em4575077nkWHz</td>
      <td>Closer - Sultan &amp; Ned Shepard Remix</td>
      <td>Tegan and Sara</td>
      <td>20</td>
      <td>6kD6KLxj7s8eCE3ABvAyf5</td>
      <td>Closer Remixed</td>
      <td>♥ EDM LOVE 2020</td>
      <td>6jI1gFr6ANFtT8MmTvA2Ux</td>
      <td>edm</td>
      <td>progressive electro house</td>
      <td>...</td>
      <td>0</td>
      <td>-4.462</td>
      <td>1</td>
      <td>0.0420</td>
      <td>0.001710</td>
      <td>0.004270</td>
      <td>0.3750</td>
      <td>0.4000</td>
      <td>128.041</td>
      <td>353120</td>
    </tr>
    <tr>
      <th>2014-04-21</th>
      <td>7ImMqPP3Q1yfUHvsdn7wEo</td>
      <td>Sweet Surrender - Radio Edit</td>
      <td>Starkillers</td>
      <td>14</td>
      <td>0ltWNSY9JgxoIZO4VzuCa6</td>
      <td>Sweet Surrender (Radio Edit)</td>
      <td>♥ EDM LOVE 2020</td>
      <td>6jI1gFr6ANFtT8MmTvA2Ux</td>
      <td>edm</td>
      <td>progressive electro house</td>
      <td>...</td>
      <td>6</td>
      <td>-4.899</td>
      <td>0</td>
      <td>0.0481</td>
      <td>0.108000</td>
      <td>0.000001</td>
      <td>0.1500</td>
      <td>0.4360</td>
      <td>127.989</td>
      <td>210112</td>
    </tr>
    <tr>
      <th>2014-01-01</th>
      <td>2m69mhnfQ1Oq6lGtXuYhgX</td>
      <td>Only For You - Maor Levi Remix</td>
      <td>Mat Zo</td>
      <td>15</td>
      <td>1fGrOkHnHJcStl14zNx8Jy</td>
      <td>Only For You (Remixes)</td>
      <td>♥ EDM LOVE 2020</td>
      <td>6jI1gFr6ANFtT8MmTvA2Ux</td>
      <td>edm</td>
      <td>progressive electro house</td>
      <td>...</td>
      <td>2</td>
      <td>-3.361</td>
      <td>1</td>
      <td>0.1090</td>
      <td>0.007920</td>
      <td>0.127000</td>
      <td>0.3430</td>
      <td>0.3080</td>
      <td>128.008</td>
      <td>367432</td>
    </tr>
    <tr>
      <th>2014-03-03</th>
      <td>29zWqhca3zt5NsckZqDf6c</td>
      <td>Typhoon - Original Mix</td>
      <td>Julian Calor</td>
      <td>27</td>
      <td>0X3mUOm6MhxR7PzxG95rAo</td>
      <td>Typhoon/Storm</td>
      <td>♥ EDM LOVE 2020</td>
      <td>6jI1gFr6ANFtT8MmTvA2Ux</td>
      <td>edm</td>
      <td>progressive electro house</td>
      <td>...</td>
      <td>5</td>
      <td>-4.571</td>
      <td>0</td>
      <td>0.0385</td>
      <td>0.000133</td>
      <td>0.341000</td>
      <td>0.7420</td>
      <td>0.0894</td>
      <td>127.984</td>
      <td>337500</td>
    </tr>
  </tbody>
</table>
<p>32833 rows × 22 columns</p>
</div></div></div><div class="jp-OutputArea-promptOverlay" title="Toggle output scrolling"></div></div></div><div class="lm-Widget jp-CellFooter jp-Cell-footer"></div></div><div class="lm-Widget jp-Cell jp-MarkdownCell jp-Notebook-cell jp-mod-rendered" aria-label="Markdown Cell Content" data-windowed-list-index="14"><div class="lm-Widget jp-CellHeader jp-Cell-header"></div><div class="lm-Widget lm-Panel jp-Cell-inputWrapper"><div class="lm-Widget jp-Collapser jp-InputCollapser jp-Cell-inputCollapser"><div class="jp-Collapser-child"></div></div><div class="lm-Widget jp-InputArea jp-Cell-inputArea"><div class="lm-Widget jp-InputPrompt jp-InputArea-prompt"><button class="jp-Button jp-collapseHeadingButton" data-heading-level="2"></button></div><div class="lm-Widget jp-CodeMirrorEditor jp-Editor jp-InputArea-editor lm-mod-hidden" data-type="inline"><div class="cm-editor ͼ1 ͼ2 ͼ4 ͼo" style=""><div aria-live="polite" style="position: fixed; top: -10000px;"></div><div tabindex="-1" class="cm-scroller"><div spellcheck="false" autocorrect="off" autocapitalize="off" translate="no" contenteditable="true" class="cm-content cm-lineWrapping" style="tab-size: 4;" role="textbox" aria-multiline="true" data-language="markdown"><div class="cm-line"><span class="ͼr ͼp">##</span><span class="ͼr"> find the name of the artist present in the 10th row of the dataset</span></div></div><div class="cm-layer cm-layer-above cm-cursorLayer" aria-hidden="true" style="z-index: 150; animation-duration: 1200ms;"></div><div class="cm-layer cm-selectionLayer" aria-hidden="true" style="z-index: -2;"></div></div></div></div><div class="lm-Widget jp-RenderedHTMLCommon jp-RenderedMarkdown jp-MarkdownOutput" data-mime-type="text/markdown"><h2 id="find-the-name-of-the-artist-present-in-the-10th-row-of-the-dataset"><span class="numbering-entry"></span>find the name of the artist present in the 10th row of the dataset<a target="_self" href="http://localhost:8888/notebooks/Untitled13.ipynb#find-the-name-of-the-artist-present-in-the-10th-row-of-the-dataset" class="jp-InternalAnchorLink">¶</a></h2>
</div></div></div><div class="lm-Widget jp-CellFooter jp-Cell-footer"></div></div><div class="lm-Widget jp-Cell jp-CodeCell jp-Notebook-cell" aria-label="Code Cell Content with Output" data-windowed-list-index="15"><div class="lm-Widget jp-CellHeader jp-Cell-header"></div><div class="lm-Widget lm-Panel jp-Cell-inputWrapper"><div class="lm-Widget jp-Collapser jp-InputCollapser jp-Cell-inputCollapser"><div class="jp-Collapser-child"></div></div><div class="lm-Widget jp-InputArea jp-Cell-inputArea"><div class="lm-Widget jp-InputPrompt jp-InputArea-prompt">[18]:</div><div class="lm-Widget jp-CodeMirrorEditor jp-Editor jp-InputArea-editor" data-type="inline"><div class="cm-editor ͼ1 ͼ2 ͼ4 ͼo" style=""><div aria-live="polite" style="position: fixed; top: -10000px;"></div><div tabindex="-1" class="cm-scroller"><div spellcheck="false" autocorrect="off" autocapitalize="off" translate="no" contenteditable="true" class="cm-content" style="tab-size: 4;" role="textbox" aria-multiline="true" data-language="python"><div class="cm-line">df<span class="ͼ14">[</span><span class="ͼ14">[</span><span class="ͼ12">"track_artist"</span><span class="ͼ14">]</span><span class="ͼ14">]</span><span class="ͼ19">.</span><span class="ͼz">iloc</span><span class="ͼ14">[</span><span class="ͼu">10</span><span class="ͼ14">]</span></div></div><div class="cm-layer cm-layer-above cm-cursorLayer" aria-hidden="true" style="z-index: 150; animation-duration: 1200ms;"><div class="cm-cursor cm-cursor-primary" style="left: 6px; top: 5.33331px; height: 15.3333px;"></div></div><div class="cm-layer cm-selectionLayer" aria-hidden="true" style="z-index: -2;"></div></div></div></div></div></div><div class="lm-Widget jp-CellResizeHandle"></div><div class="lm-Widget lm-Panel jp-Cell-outputWrapper"><div class="lm-Widget jp-Collapser jp-OutputCollapser jp-Cell-outputCollapser"><div class="jp-Collapser-child"></div></div><div class="lm-Widget jp-OutputArea jp-Cell-outputArea"><div class="lm-Widget lm-Panel jp-OutputArea-child jp-OutputArea-executeResult"><div class="lm-Widget jp-OutputPrompt jp-OutputArea-prompt">[18]:</div><div class="lm-Widget jp-RenderedText jp-mod-trusted jp-OutputArea-output" data-mime-type="text/plain"><pre>track_artist    Ed Sheeran
Name: 2019-06-21, dtype: object</pre></div></div><div class="jp-OutputArea-promptOverlay" title="Toggle output scrolling"></div></div></div><div class="lm-Widget jp-CellFooter jp-Cell-footer"></div></div><div class="lm-Widget jp-Cell jp-MarkdownCell jp-Notebook-cell jp-mod-rendered" aria-label="Markdown Cell Content" data-windowed-list-index="16"><div class="lm-Widget jp-CellHeader jp-Cell-header"></div><div class="lm-Widget lm-Panel jp-Cell-inputWrapper"><div class="lm-Widget jp-Collapser jp-InputCollapser jp-Cell-inputCollapser"><div class="jp-Collapser-child"></div></div><div class="lm-Widget jp-InputArea jp-Cell-inputArea"><div class="lm-Widget jp-InputPrompt jp-InputArea-prompt"><button class="jp-Button jp-collapseHeadingButton" data-heading-level="2"></button></div><div class="lm-Widget jp-CodeMirrorEditor jp-Editor jp-InputArea-editor lm-mod-hidden" data-type="inline"><div class="cm-editor ͼ1 ͼ2 ͼ4 ͼo" style=""><div aria-live="polite" style="position: fixed; top: -10000px;"></div><div tabindex="-1" class="cm-scroller"><div spellcheck="false" autocorrect="off" autocapitalize="off" translate="no" contenteditable="true" class="cm-content cm-lineWrapping" style="tab-size: 4;" role="textbox" aria-multiline="true" data-language="markdown"><div class="cm-line"><span class="ͼr ͼp">##</span><span class="ͼr"> convert the duration of the songs from milliseconds to seconds</span></div></div><div class="cm-layer cm-layer-above cm-cursorLayer" aria-hidden="true" style="z-index: 150; animation-duration: 1200ms;"></div><div class="cm-layer cm-selectionLayer" aria-hidden="true" style="z-index: -2;"></div></div></div></div><div class="lm-Widget jp-RenderedHTMLCommon jp-RenderedMarkdown jp-MarkdownOutput" data-mime-type="text/markdown"><h2 id="convert-the-duration-of-the-songs-from-milliseconds-to-seconds"><span class="numbering-entry"></span>convert the duration of the songs from milliseconds to seconds<a target="_self" href="http://localhost:8888/notebooks/Untitled13.ipynb#convert-the-duration-of-the-songs-from-milliseconds-to-seconds" class="jp-InternalAnchorLink">¶</a></h2>
</div></div></div><div class="lm-Widget jp-CellFooter jp-Cell-footer"></div></div><div class="lm-Widget jp-Cell jp-CodeCell jp-Notebook-cell jp-mod-noOutputs" aria-label="Code Cell Content" data-windowed-list-index="17"><div class="lm-Widget jp-CellHeader jp-Cell-header"></div><div class="lm-Widget lm-Panel jp-Cell-inputWrapper"><div class="lm-Widget jp-Collapser jp-InputCollapser jp-Cell-inputCollapser"><div class="jp-Collapser-child"></div></div><div class="lm-Widget jp-InputArea jp-Cell-inputArea"><div class="lm-Widget jp-InputPrompt jp-InputArea-prompt">[23]:</div><div class="lm-Widget jp-CodeMirrorEditor jp-Editor jp-InputArea-editor" data-type="inline"><div class="cm-editor ͼ1 ͼ2 ͼ4 ͼo" style=""><div aria-live="polite" style="position: fixed; top: -10000px;"></div><div tabindex="-1" class="cm-scroller"><div spellcheck="false" autocorrect="off" autocapitalize="off" translate="no" contenteditable="true" class="cm-content" style="tab-size: 4;" role="textbox" aria-multiline="true" data-language="python"><div class="cm-line"><br></div><div class="cm-line">df<span class="ͼ14">[</span><span class="ͼ12">'duration'</span><span class="ͼ14">]</span> <span class="ͼ10">=</span> df<span class="ͼ14">[</span><span class="ͼ12">'duration_ms'</span><span class="ͼ14">]</span><span class="ͼ19">.</span><span class="ͼz">apply</span><span class="ͼ19">(</span><span class="ͼs">lambda</span> x: x<span class="ͼ10">/</span><span class="ͼu">1000</span><span class="ͼ19">)</span></div><div class="cm-line"><br></div><div class="cm-line">df<span class="ͼ19">.</span><span class="ͼz">to_csv</span><span class="ͼ19">(</span><span class="ͼ12">'your_file.csv'</span><span class="ͼ19">,</span> index<span class="ͼ10">=</span><span class="ͼ1d">False</span><span class="ͼ19">)</span></div></div><div class="cm-layer cm-layer-above cm-cursorLayer" aria-hidden="true" style="z-index: 150; animation-duration: 1200ms;"><div class="cm-cursor cm-cursor-primary" style="left: 6px; top: 5.33334px; height: 15.3333px;"></div></div><div class="cm-layer cm-selectionLayer" aria-hidden="true" style="z-index: -2;"></div></div></div></div></div></div><div class="lm-Widget jp-CellResizeHandle"></div><div class="lm-Widget lm-Panel jp-Cell-outputWrapper"><div class="lm-Widget jp-Collapser jp-OutputCollapser jp-Cell-outputCollapser"><div class="jp-Collapser-child"></div></div><div class="lm-Widget jp-OutputArea jp-Cell-outputArea"><div class="jp-OutputArea-promptOverlay" title="Toggle output scrolling"></div></div></div><div class="lm-Widget jp-CellFooter jp-Cell-footer"></div></div><div class="lm-Widget jp-Cell jp-CodeCell jp-Notebook-cell" aria-label="Code Cell Content with Output" data-windowed-list-index="18"><div class="lm-Widget jp-CellHeader jp-Cell-header"></div><div class="lm-Widget lm-Panel jp-Cell-inputWrapper"><div class="lm-Widget jp-Collapser jp-InputCollapser jp-Cell-inputCollapser"><div class="jp-Collapser-child"></div></div><div class="lm-Widget jp-InputArea jp-Cell-inputArea"><div class="lm-Widget jp-InputPrompt jp-InputArea-prompt">[24]:</div><div class="lm-Widget jp-CodeMirrorEditor jp-Editor jp-InputArea-editor" data-type="inline"><div class="cm-editor ͼ1 ͼ2 ͼ4 ͼo" style=""><div aria-live="polite" style="position: fixed; top: -10000px;"></div><div tabindex="-1" class="cm-scroller"><div spellcheck="false" autocorrect="off" autocapitalize="off" translate="no" contenteditable="true" class="cm-content" style="tab-size: 4;" role="textbox" aria-multiline="true" data-language="python"><div class="cm-line">df<span class="ͼ19">.</span><span class="ͼz">duration</span><span class="ͼ19">.</span><span class="ͼz">head</span><span class="ͼ19">(</span><span class="ͼ19">)</span></div></div><div class="cm-layer cm-layer-above cm-cursorLayer" aria-hidden="true" style="z-index: 150; animation-duration: 1200ms;"><div class="cm-cursor cm-cursor-primary" style="left: 6px; top: 5.33331px; height: 15.3334px;"></div></div><div class="cm-layer cm-selectionLayer" aria-hidden="true" style="z-index: -2;"></div></div></div></div></div></div><div class="lm-Widget jp-CellResizeHandle"></div><div class="lm-Widget lm-Panel jp-Cell-outputWrapper"><div class="lm-Widget jp-Collapser jp-OutputCollapser jp-Cell-outputCollapser"><div class="jp-Collapser-child"></div></div><div class="lm-Widget jp-OutputArea jp-Cell-outputArea"><div class="lm-Widget lm-Panel jp-OutputArea-child jp-OutputArea-executeResult"><div class="lm-Widget jp-OutputPrompt jp-OutputArea-prompt">[24]:</div><div class="lm-Widget jp-RenderedText jp-mod-trusted jp-OutputArea-output" data-mime-type="text/plain"><pre>track_album_release_date
2019-06-14    194.754
2019-12-13    162.600
2019-07-05    176.616
2019-07-19    169.093
2019-03-05    189.052
Name: duration, dtype: float64</pre></div></div><div class="jp-OutputArea-promptOverlay" title="Toggle output scrolling"></div></div></div><div class="lm-Widget jp-CellFooter jp-Cell-footer"></div></div><div class="lm-Widget jp-Cell jp-MarkdownCell jp-Notebook-cell jp-mod-rendered" aria-label="Markdown Cell Content" data-windowed-list-index="19"><div class="lm-Widget jp-CellHeader jp-Cell-header"></div><div class="lm-Widget lm-Panel jp-Cell-inputWrapper"><div class="lm-Widget jp-Collapser jp-InputCollapser jp-Cell-inputCollapser"><div class="jp-Collapser-child"></div></div><div class="lm-Widget jp-InputArea jp-Cell-inputArea"><div class="lm-Widget jp-InputPrompt jp-InputArea-prompt"><button class="jp-Button jp-collapseHeadingButton" data-heading-level="1"></button></div><div class="lm-Widget jp-CodeMirrorEditor jp-Editor jp-InputArea-editor lm-mod-hidden" data-type="inline"><div class="cm-editor ͼ1 ͼ2 ͼ4 ͼo" style=""><div aria-live="polite" style="position: fixed; top: -10000px;"></div><div tabindex="-1" class="cm-scroller"><div spellcheck="false" autocorrect="off" autocapitalize="off" translate="no" contenteditable="true" class="cm-content cm-lineWrapping" style="tab-size: 4;" role="textbox" aria-multiline="true" data-language="markdown"><div class="cm-line"><span class="ͼr ͼp">#</span><span class="ͼr"> Correlation Map</span></div></div><div class="cm-layer cm-layer-above cm-cursorLayer" aria-hidden="true" style="z-index: 150; animation-duration: 1200ms;"></div><div class="cm-layer cm-selectionLayer" aria-hidden="true" style="z-index: -2;"></div></div></div></div><div class="lm-Widget jp-RenderedHTMLCommon jp-RenderedMarkdown jp-MarkdownOutput" data-mime-type="text/markdown"><h1 id="Correlation-Map"><span class="numbering-entry"></span>Correlation Map<a target="_self" href="http://localhost:8888/notebooks/Untitled13.ipynb#Correlation-Map" class="jp-InternalAnchorLink">¶</a></h1>
</div></div></div><div class="lm-Widget jp-CellFooter jp-Cell-footer"></div></div><div class="lm-Widget jp-Cell jp-CodeCell jp-Notebook-cell" aria-label="Code Cell Content with Output" data-windowed-list-index="20"><div class="lm-Widget jp-CellHeader jp-Cell-header"></div><div class="lm-Widget lm-Panel jp-Cell-inputWrapper"><div class="lm-Widget jp-Collapser jp-InputCollapser jp-Cell-inputCollapser"><div class="jp-Collapser-child"></div></div><div class="lm-Widget jp-InputArea jp-Cell-inputArea"><div class="lm-Widget jp-InputPrompt jp-InputArea-prompt">[29]:</div><div class="lm-Widget jp-CodeMirrorEditor jp-Editor jp-InputArea-editor" data-type="inline"><div class="cm-editor ͼ1 ͼ2 ͼ4 ͼo" style=""><div aria-live="polite" style="position: fixed; top: -10000px;"></div><div tabindex="-1" class="cm-scroller"><div spellcheck="false" autocorrect="off" autocapitalize="off" translate="no" contenteditable="true" class="cm-content" style="tab-size: 4;" role="textbox" aria-multiline="true" data-language="python"><div class="cm-line"><br></div><div class="cm-line">numeric_cols <span class="ͼ10">=</span> df<span class="ͼ19">.</span><span class="ͼz">select_dtypes</span><span class="ͼ19">(</span>include<span class="ͼ10">=</span><span class="ͼ14">[</span><span class="ͼ12">'int64'</span><span class="ͼ19">,</span> <span class="ͼ12">'float64'</span><span class="ͼ14">]</span><span class="ͼ19">)</span><span class="ͼ19">.</span><span class="ͼz">columns</span></div><div class="cm-line">corr_matrix <span class="ͼ10">=</span> df<span class="ͼ14">[</span>numeric_cols<span class="ͼ14">]</span><span class="ͼ19">.</span><span class="ͼz">corr</span><span class="ͼ19">(</span><span class="ͼ19">)</span></div><div class="cm-line">plt<span class="ͼ19">.</span><span class="ͼz">figure</span><span class="ͼ19">(</span>figsize<span class="ͼ10">=</span><span class="ͼ19">(</span><span class="ͼu">10</span><span class="ͼ19">,</span> <span class="ͼu">8</span><span class="ͼ19">)</span><span class="ͼ19">)</span></div><div class="cm-line">sns<span class="ͼ19">.</span><span class="ͼz">heatmap</span><span class="ͼ19">(</span>corr_matrix<span class="ͼ19">,</span> annot<span class="ͼ10">=</span><span class="ͼ1d">True</span><span class="ͼ19">,</span> cmap<span class="ͼ10">=</span><span class="ͼ12">"coolwarm"</span><span class="ͼ19">,</span> linewidths<span class="ͼ10">=</span><span class="ͼu">0.5</span><span class="ͼ19">)</span></div><div class="cm-line">plt<span class="ͼ19">.</span><span class="ͼz">title</span><span class="ͼ19">(</span><span class="ͼ12">"Correlation Map of {}"</span><span class="ͼ19">.</span><span class="ͼz">format</span><span class="ͼ19">(</span><span class="ͼ12">r'C:\Users\cyber world\OneDrive\Desktop\Artificial intelligence\spotify_dataset.csv'</span><span class="ͼ19">)</span><span class="ͼ19">)</span></div><div class="cm-line">plt<span class="ͼ19">.</span><span class="ͼz">show</span><span class="ͼ19">(</span><span class="ͼ19">)</span></div></div><div class="cm-layer cm-layer-above cm-cursorLayer" aria-hidden="true" style="z-index: 150; animation-duration: 1200ms;"><div class="cm-cursor cm-cursor-primary" style="left: 6px; top: 5.33331px; height: 15.3334px;"></div></div><div class="cm-layer cm-selectionLayer" aria-hidden="true" style="z-index: -2;"></div></div></div></div></div></div><div class="lm-Widget jp-CellResizeHandle"></div><div class="lm-Widget lm-Panel jp-Cell-outputWrapper"><div class="lm-Widget jp-Collapser jp-OutputCollapser jp-Cell-outputCollapser"><div class="jp-Collapser-child"></div></div><div class="lm-Widget jp-OutputArea jp-Cell-outputArea"><div class="lm-Widget lm-Panel jp-OutputArea-child"><div class="lm-Widget jp-OutputPrompt jp-OutputArea-prompt"></div><div class="lm-Widget jp-RenderedImage jp-mod-trusted jp-OutputArea-output" data-mime-type="image/png"><img src="data:image/png;base64,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"></div></div><div class="jp-OutputArea-promptOverlay" title="Toggle output scrolling"></div></div></div><div class="lm-Widget jp-CellFooter jp-Cell-footer"></div></div><div class="lm-Widget jp-Cell jp-MarkdownCell jp-Notebook-cell jp-mod-rendered" aria-label="Markdown Cell Content" data-windowed-list-index="21"><div class="lm-Widget jp-CellHeader jp-Cell-header"></div><div class="lm-Widget lm-Panel jp-Cell-inputWrapper"><div class="lm-Widget jp-Collapser jp-InputCollapser jp-Cell-inputCollapser"><div class="jp-Collapser-child"></div></div><div class="lm-Widget jp-InputArea jp-Cell-inputArea"><div class="lm-Widget jp-InputPrompt jp-InputArea-prompt"><button class="jp-Button jp-collapseHeadingButton" data-heading-level="2"></button></div><div class="lm-Widget jp-CodeMirrorEditor jp-Editor jp-InputArea-editor lm-mod-hidden" data-type="inline"><div class="cm-editor ͼ1 ͼ2 ͼ4 ͼo" style=""><div aria-live="polite" style="position: fixed; top: -10000px;"></div><div tabindex="-1" class="cm-scroller"><div spellcheck="false" autocorrect="off" autocapitalize="off" translate="no" contenteditable="true" class="cm-content cm-lineWrapping" style="tab-size: 4;" role="textbox" aria-multiline="true" data-language="markdown"><div class="cm-line"><span class="ͼr ͼp">##</span><span class="ͼr"> Let’s Move Ahead and Sample Only 4 Percent of the Whole Dataset.</span></div></div><div class="cm-layer cm-layer-above cm-cursorLayer" aria-hidden="true" style="z-index: 150; animation-duration: 1200ms;"></div><div class="cm-layer cm-selectionLayer" aria-hidden="true" style="z-index: -2;"></div></div></div></div><div class="lm-Widget jp-RenderedHTMLCommon jp-RenderedMarkdown jp-MarkdownOutput" data-mime-type="text/markdown"><h2 id="Let’s-Move-Ahead-and-Sample-Only-4-Percent-of-the-Whole-Dataset."><span class="numbering-entry"></span>Let’s Move Ahead and Sample Only 4 Percent of the Whole Dataset.<a target="_self" href="http://localhost:8888/notebooks/Untitled13.ipynb#Let%E2%80%99s-Move-Ahead-and-Sample-Only-4-Percent-of-the-Whole-Dataset." class="jp-InternalAnchorLink">¶</a></h2>
</div></div></div><div class="lm-Widget jp-CellFooter jp-Cell-footer"></div></div><div class="lm-Widget jp-Cell jp-CodeCell jp-Notebook-cell jp-mod-noOutputs" aria-label="Code Cell Content" data-windowed-list-index="22"><div class="lm-Widget jp-CellHeader jp-Cell-header"></div><div class="lm-Widget lm-Panel jp-Cell-inputWrapper"><div class="lm-Widget jp-Collapser jp-InputCollapser jp-Cell-inputCollapser"><div class="jp-Collapser-child"></div></div><div class="lm-Widget jp-InputArea jp-Cell-inputArea"><div class="lm-Widget jp-InputPrompt jp-InputArea-prompt">[30]:</div><div class="lm-Widget jp-CodeMirrorEditor jp-Editor jp-InputArea-editor" data-type="inline"><div class="cm-editor ͼ1 ͼ2 ͼ4 ͼo" style=""><div aria-live="polite" style="position: fixed; top: -10000px;"></div><div tabindex="-1" class="cm-scroller"><div spellcheck="false" autocorrect="off" autocapitalize="off" translate="no" contenteditable="true" class="cm-content" style="tab-size: 4;" role="textbox" aria-multiline="true" data-language="python"><div class="cm-line">sample_df <span class="ͼ10">=</span> df<span class="ͼ19">.</span><span class="ͼz">sample</span><span class="ͼ19">(</span>int<span class="ͼ19">(</span><span class="ͼu">0.004</span><span class="ͼ10">*</span>len<span class="ͼ19">(</span>df<span class="ͼ19">)</span><span class="ͼ19">)</span><span class="ͼ19">)</span></div></div><div class="cm-layer cm-layer-above cm-cursorLayer" aria-hidden="true" style="z-index: 150; animation-duration: 1200ms;"><div class="cm-cursor cm-cursor-primary" style="left: 6px; top: 5.33331px; height: 15.3333px;"></div></div><div class="cm-layer cm-selectionLayer" aria-hidden="true" style="z-index: -2;"></div></div></div></div></div></div><div class="lm-Widget jp-CellResizeHandle"></div><div class="lm-Widget lm-Panel jp-Cell-outputWrapper"><div class="lm-Widget jp-Collapser jp-OutputCollapser jp-Cell-outputCollapser"><div class="jp-Collapser-child"></div></div><div class="lm-Widget jp-OutputArea jp-Cell-outputArea"><div class="jp-OutputArea-promptOverlay" title="Toggle output scrolling"></div></div></div><div class="lm-Widget jp-CellFooter jp-Cell-footer"></div></div><div class="lm-Widget jp-Cell jp-CodeCell jp-Notebook-cell" aria-label="Code Cell Content with Output" data-windowed-list-index="23"><div class="lm-Widget jp-CellHeader jp-Cell-header"></div><div class="lm-Widget lm-Panel jp-Cell-inputWrapper"><div class="lm-Widget jp-Collapser jp-InputCollapser jp-Cell-inputCollapser"><div class="jp-Collapser-child"></div></div><div class="lm-Widget jp-InputArea jp-Cell-inputArea"><div class="lm-Widget jp-InputPrompt jp-InputArea-prompt">[31]:</div><div class="lm-Widget jp-CodeMirrorEditor jp-Editor jp-InputArea-editor" data-type="inline"><div class="cm-editor ͼ1 ͼ2 ͼ4 ͼo" style=""><div aria-live="polite" style="position: fixed; top: -10000px;"></div><div tabindex="-1" class="cm-scroller"><div spellcheck="false" autocorrect="off" autocapitalize="off" translate="no" contenteditable="true" class="cm-content" style="tab-size: 4;" role="textbox" aria-multiline="true" data-language="python"><div class="cm-line">print<span class="ͼ19">(</span>len<span class="ͼ19">(</span>sample_df<span class="ͼ19">)</span><span class="ͼ19">)</span></div></div><div class="cm-layer cm-layer-above cm-cursorLayer" aria-hidden="true" style="z-index: 150; animation-duration: 1200ms;"><div class="cm-cursor cm-cursor-primary" style="left: 6px; top: 5.33331px; height: 15.3334px;"></div></div><div class="cm-layer cm-selectionLayer" aria-hidden="true" style="z-index: -2;"></div></div></div></div></div></div><div class="lm-Widget jp-CellResizeHandle"></div><div class="lm-Widget lm-Panel jp-Cell-outputWrapper"><div class="lm-Widget jp-Collapser jp-OutputCollapser jp-Cell-outputCollapser"><div class="jp-Collapser-child"></div></div><div class="lm-Widget jp-OutputArea jp-Cell-outputArea"><div class="lm-Widget lm-Panel jp-OutputArea-child"><div class="lm-Widget jp-OutputPrompt jp-OutputArea-prompt"></div><div class="lm-Widget jp-RenderedText jp-mod-trusted jp-OutputArea-output" data-mime-type="application/vnd.jupyter.stdout"><pre>131
</pre></div></div><div class="jp-OutputArea-promptOverlay" title="Toggle output scrolling"></div></div></div><div class="lm-Widget jp-CellFooter jp-Cell-footer"></div></div><div class="lm-Widget jp-Cell jp-MarkdownCell jp-Notebook-cell jp-mod-rendered" aria-label="Markdown Cell Content" data-windowed-list-index="24"><div class="lm-Widget jp-CellHeader jp-Cell-header"></div><div class="lm-Widget lm-Panel jp-Cell-inputWrapper"><div class="lm-Widget jp-Collapser jp-InputCollapser jp-Cell-inputCollapser"><div class="jp-Collapser-child"></div></div><div class="lm-Widget jp-InputArea jp-Cell-inputArea"><div class="lm-Widget jp-InputPrompt jp-InputArea-prompt"><button class="jp-Button jp-collapseHeadingButton" data-heading-level="3"></button></div><div class="lm-Widget jp-CodeMirrorEditor jp-Editor jp-InputArea-editor lm-mod-hidden" data-type="inline"><div class="cm-editor ͼ1 ͼ2 ͼ4 ͼo" style=""><div aria-live="polite" style="position: fixed; top: -10000px;"></div><div tabindex="-1" class="cm-scroller"><div spellcheck="false" autocorrect="off" autocapitalize="off" translate="no" contenteditable="true" class="cm-content cm-lineWrapping" style="tab-size: 4;" role="textbox" aria-multiline="true" data-language="markdown"><div class="cm-line"><span class="ͼr ͼp">###</span><span class="ͼr"> this is the 4 percent of the whole dataset that is 131 rows</span></div></div><div class="cm-layer cm-layer-above cm-cursorLayer" aria-hidden="true" style="z-index: 150; animation-duration: 1200ms;"></div><div class="cm-layer cm-selectionLayer" aria-hidden="true" style="z-index: -2;"></div></div></div></div><div class="lm-Widget jp-RenderedHTMLCommon jp-RenderedMarkdown jp-MarkdownOutput" data-mime-type="text/markdown"><h3 id="this-is-the-4-percent-of-the-whole-dataset-that-is-131-rows"><span class="numbering-entry"></span>this is the 4 percent of the whole dataset that is 131 rows<a target="_self" href="http://localhost:8888/notebooks/Untitled13.ipynb#this-is-the-4-percent-of-the-whole-dataset-that-is-131-rows" class="jp-InternalAnchorLink">¶</a></h3>
</div></div></div><div class="lm-Widget jp-CellFooter jp-Cell-footer"></div></div><div class="lm-Widget jp-Cell jp-MarkdownCell jp-Notebook-cell jp-mod-rendered" aria-label="Markdown Cell Content" data-windowed-list-index="25"><div class="lm-Widget jp-CellHeader jp-Cell-header"></div><div class="lm-Widget lm-Panel jp-Cell-inputWrapper"><div class="lm-Widget jp-Collapser jp-InputCollapser jp-Cell-inputCollapser"><div class="jp-Collapser-child"></div></div><div class="lm-Widget jp-InputArea jp-Cell-inputArea"><div class="lm-Widget jp-InputPrompt jp-InputArea-prompt"><button class="jp-Button jp-collapseHeadingButton" data-heading-level="1"></button></div><div class="lm-Widget jp-CodeMirrorEditor jp-Editor jp-InputArea-editor lm-mod-hidden" data-type="inline"><div class="cm-editor ͼ1 ͼ2 ͼ4 ͼo" style=""><div aria-live="polite" style="position: fixed; top: -10000px;"></div><div tabindex="-1" class="cm-scroller"><div spellcheck="false" autocorrect="off" autocapitalize="off" translate="no" contenteditable="true" class="cm-content cm-lineWrapping" style="tab-size: 4;" role="textbox" aria-multiline="true" data-language="markdown"><div class="cm-line"><span class="ͼr ͼp">#</span><span class="ͼr"> Create a Regression Plot Between Loudness and Energy. Let’s Plot It  in the Form of a Regression Line.</span></div></div><div class="cm-layer cm-layer-above cm-cursorLayer" aria-hidden="true" style="z-index: 150; animation-duration: 1200ms;"></div><div class="cm-layer cm-selectionLayer" aria-hidden="true" style="z-index: -2;"></div></div></div></div><div class="lm-Widget jp-RenderedHTMLCommon jp-RenderedMarkdown jp-MarkdownOutput" data-mime-type="text/markdown"><h1 id="Create-a-Regression-Plot-Between-Loudness-and-Energy.-Let’s-Plot-It--in-the-Form-of-a-Regression-Line."><span class="numbering-entry"></span>Create a Regression Plot Between Loudness and Energy. Let’s Plot It  in the Form of a Regression Line.<a target="_self" href="http://localhost:8888/notebooks/Untitled13.ipynb#Create-a-Regression-Plot-Between-Loudness-and-Energy.-Let%E2%80%99s-Plot-It--in-the-Form-of-a-Regression-Line." class="jp-InternalAnchorLink">¶</a></h1>
</div></div></div><div class="lm-Widget jp-CellFooter jp-Cell-footer"></div></div><div class="lm-Widget jp-Cell jp-CodeCell jp-Notebook-cell" aria-label="Code Cell Content with Output" data-windowed-list-index="26"><div class="lm-Widget jp-CellHeader jp-Cell-header"></div><div class="lm-Widget lm-Panel jp-Cell-inputWrapper"><div class="lm-Widget jp-Collapser jp-InputCollapser jp-Cell-inputCollapser"><div class="jp-Collapser-child"></div></div><div class="lm-Widget jp-InputArea jp-Cell-inputArea"><div class="lm-Widget jp-InputPrompt jp-InputArea-prompt">[34]:</div><div class="lm-Widget jp-CodeMirrorEditor jp-Editor jp-InputArea-editor" data-type="inline"><div class="cm-editor ͼ1 ͼ2 ͼ4 ͼo" style=""><div aria-live="polite" style="position: fixed; top: -10000px;"></div><div tabindex="-1" class="cm-scroller"><div spellcheck="false" autocorrect="off" autocapitalize="off" translate="no" contenteditable="true" class="cm-content" style="tab-size: 4;" role="textbox" aria-multiline="true" data-language="python"><div class="cm-line"><br></div><div class="cm-line">plt<span class="ͼ19">.</span><span class="ͼz">figure</span><span class="ͼ19">(</span>figsize<span class="ͼ10">=</span><span class="ͼ19">(</span><span class="ͼu">10</span><span class="ͼ19">,</span><span class="ͼu">6</span><span class="ͼ19">)</span><span class="ͼ19">)</span></div><div class="cm-line">sns<span class="ͼ19">.</span><span class="ͼz">regplot</span><span class="ͼ19">(</span>data <span class="ͼ10">=</span> sample_df <span class="ͼ19">,</span> y <span class="ͼ10">=</span><span class="ͼ12">"loudness"</span> <span class="ͼ19">,</span> x <span class="ͼ10">=</span><span class="ͼ12">"energy"</span><span class="ͼ19">,</span>color <span class="ͼ10">=</span> <span class="ͼ12">"c"</span><span class="ͼ19">)</span><span class="ͼ19">.</span><span class="ͼz">set</span><span class="ͼ19">(</span>title <span class="ͼ10">=</span> <span class="ͼ12">"loudness vs Energy correlation"</span><span class="ͼ19">)</span></div></div><div class="cm-layer cm-layer-above cm-cursorLayer" aria-hidden="true" style="z-index: 150; animation-duration: 1200ms;"><div class="cm-cursor cm-cursor-primary" style="left: 6px; top: 5.33337px; height: 15.3333px;"></div></div><div class="cm-layer cm-selectionLayer" aria-hidden="true" style="z-index: -2;"></div></div></div></div></div></div><div class="lm-Widget jp-CellResizeHandle"></div><div class="lm-Widget lm-Panel jp-Cell-outputWrapper"><div class="lm-Widget jp-Collapser jp-OutputCollapser jp-Cell-outputCollapser"><div class="jp-Collapser-child"></div></div><div class="lm-Widget jp-OutputArea jp-Cell-outputArea"><div class="lm-Widget lm-Panel jp-OutputArea-child jp-OutputArea-executeResult"><div class="lm-Widget jp-OutputPrompt jp-OutputArea-prompt">[34]:</div><div class="lm-Widget jp-RenderedText jp-mod-trusted jp-OutputArea-output" data-mime-type="text/plain"><pre>[Text(0.5, 1.0, 'loudness vs Energy correlation')]</pre></div></div><div class="lm-Widget lm-Panel jp-OutputArea-child"><div class="lm-Widget jp-OutputPrompt jp-OutputArea-prompt"></div><div class="lm-Widget jp-RenderedImage jp-mod-trusted jp-OutputArea-output" data-mime-type="image/png"><img src="data:image/png;base64,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"></div></div><div class="jp-OutputArea-promptOverlay" title="Toggle output scrolling"></div></div></div><div class="lm-Widget jp-CellFooter jp-Cell-footer"></div></div><div class="lm-Widget jp-Cell jp-MarkdownCell jp-Notebook-cell jp-mod-rendered" aria-label="Markdown Cell Content" data-windowed-list-index="27"><div class="lm-Widget jp-CellHeader jp-Cell-header"></div><div class="lm-Widget lm-Panel jp-Cell-inputWrapper"><div class="lm-Widget jp-Collapser jp-InputCollapser jp-Cell-inputCollapser"><div class="jp-Collapser-child"></div></div><div class="lm-Widget jp-InputArea jp-Cell-inputArea"><div class="lm-Widget jp-InputPrompt jp-InputArea-prompt"><button class="jp-Button jp-collapseHeadingButton" data-heading-level="1"></button></div><div class="lm-Widget jp-CodeMirrorEditor jp-Editor jp-InputArea-editor lm-mod-hidden" data-type="inline"><div class="cm-editor ͼ1 ͼ2 ͼ4 ͼo" style=""><div aria-live="polite" style="position: fixed; top: -10000px;"></div><div tabindex="-1" class="cm-scroller"><div spellcheck="false" autocorrect="off" autocapitalize="off" translate="no" contenteditable="true" class="cm-content cm-lineWrapping" style="tab-size: 4;" role="textbox" aria-multiline="true" data-language="markdown"><div class="cm-line"><span class="ͼr ͼp">#</span><span class="ͼr"> Create a Regression Plot Between Popularity and Acousticness in the Form of a Regression Line.</span></div></div><div class="cm-layer cm-layer-above cm-cursorLayer" aria-hidden="true" style="z-index: 150; animation-duration: 1200ms;"></div><div class="cm-layer cm-selectionLayer" aria-hidden="true" style="z-index: -2;"></div></div></div></div><div class="lm-Widget jp-RenderedHTMLCommon jp-RenderedMarkdown jp-MarkdownOutput" data-mime-type="text/markdown"><h1 id="Create-a-Regression-Plot-Between-Popularity-and-Acousticness-in-the-Form-of-a-Regression-Line."><span class="numbering-entry"></span>Create a Regression Plot Between Popularity and Acousticness in the Form of a Regression Line.<a target="_self" href="http://localhost:8888/notebooks/Untitled13.ipynb#Create-a-Regression-Plot-Between-Popularity-and-Acousticness-in-the-Form-of-a-Regression-Line." class="jp-InternalAnchorLink">¶</a></h1>
</div></div></div><div class="lm-Widget jp-CellFooter jp-Cell-footer"></div></div><div class="lm-Widget jp-Cell jp-CodeCell jp-Notebook-cell" aria-label="Code Cell Content with Output" data-windowed-list-index="28"><div class="lm-Widget jp-CellHeader jp-Cell-header"></div><div class="lm-Widget lm-Panel jp-Cell-inputWrapper"><div class="lm-Widget jp-Collapser jp-InputCollapser jp-Cell-inputCollapser"><div class="jp-Collapser-child"></div></div><div class="lm-Widget jp-InputArea jp-Cell-inputArea"><div class="lm-Widget jp-InputPrompt jp-InputArea-prompt">[36]:</div><div class="lm-Widget jp-CodeMirrorEditor jp-Editor jp-InputArea-editor" data-type="inline"><div class="cm-editor ͼ1 ͼ2 ͼ4 ͼo" style=""><div aria-live="polite" style="position: fixed; top: -10000px;"></div><div tabindex="-1" class="cm-scroller"><div spellcheck="false" autocorrect="off" autocapitalize="off" translate="no" contenteditable="true" class="cm-content" style="tab-size: 4;" role="textbox" aria-multiline="true" data-language="python"><div class="cm-line">plt<span class="ͼ19">.</span><span class="ͼz">figure</span><span class="ͼ19">(</span>figsize<span class="ͼ10">=</span><span class="ͼ19">(</span><span class="ͼu">10</span><span class="ͼ19">,</span><span class="ͼu">6</span><span class="ͼ19">)</span><span class="ͼ19">)</span></div><div class="cm-line">sns<span class="ͼ19">.</span><span class="ͼz">regplot</span><span class="ͼ19">(</span>data <span class="ͼ10">=</span> sample_df <span class="ͼ19">,</span> y <span class="ͼ10">=</span><span class="ͼ12">"track_popularity"</span> <span class="ͼ19">,</span> x <span class="ͼ10">=</span><span class="ͼ12">"acousticness"</span><span class="ͼ19">,</span>color <span class="ͼ10">=</span> <span class="ͼ12">"g"</span><span class="ͼ19">)</span><span class="ͼ19">.</span><span class="ͼz">set</span><span class="ͼ19">(</span>title <span class="ͼ10">=</span> <span class="ͼ12">"popularity  vs Acousticness correlation"</span><span class="ͼ19">)</span></div></div><div class="cm-layer cm-layer-above cm-cursorLayer" aria-hidden="true" style="z-index: 150; animation-duration: 1200ms;"><div class="cm-cursor cm-cursor-primary" style="left: 6px; top: 5.33337px; height: 15.3333px;"></div></div><div class="cm-layer cm-selectionLayer" aria-hidden="true" style="z-index: -2;"></div></div></div></div></div></div><div class="lm-Widget jp-CellResizeHandle"></div><div class="lm-Widget lm-Panel jp-Cell-outputWrapper"><div class="lm-Widget jp-Collapser jp-OutputCollapser jp-Cell-outputCollapser"><div class="jp-Collapser-child"></div></div><div class="lm-Widget jp-OutputArea jp-Cell-outputArea"><div class="lm-Widget lm-Panel jp-OutputArea-child jp-OutputArea-executeResult"><div class="lm-Widget jp-OutputPrompt jp-OutputArea-prompt">[36]:</div><div class="lm-Widget jp-RenderedText jp-mod-trusted jp-OutputArea-output" data-mime-type="text/plain"><pre>[Text(0.5, 1.0, 'popularity  vs Acousticness correlation')]</pre></div></div><div class="lm-Widget lm-Panel jp-OutputArea-child"><div class="lm-Widget jp-OutputPrompt jp-OutputArea-prompt"></div><div class="lm-Widget jp-RenderedImage jp-mod-trusted jp-OutputArea-output" data-mime-type="image/png"><img src="data:image/png;base64,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"></div></div><div class="jp-OutputArea-promptOverlay" title="Toggle output scrolling"></div></div></div><div class="lm-Widget jp-CellFooter jp-Cell-footer"></div></div><div class="lm-Widget jp-Cell jp-MarkdownCell jp-Notebook-cell jp-mod-rendered" aria-label="Markdown Cell Content" data-windowed-list-index="29"><div class="lm-Widget jp-CellHeader jp-Cell-header"></div><div class="lm-Widget lm-Panel jp-Cell-inputWrapper"><div class="lm-Widget jp-Collapser jp-InputCollapser jp-Cell-inputCollapser"><div class="jp-Collapser-child"></div></div><div class="lm-Widget jp-InputArea jp-Cell-inputArea"><div class="lm-Widget jp-InputPrompt jp-InputArea-prompt"><button class="jp-Button jp-collapseHeadingButton" data-heading-level="1"></button></div><div class="lm-Widget jp-CodeMirrorEditor jp-Editor jp-InputArea-editor lm-mod-hidden" data-type="inline"><div class="cm-editor ͼ1 ͼ2 ͼ4 ͼo" style=""><div aria-live="polite" style="position: fixed; top: -10000px;"></div><div tabindex="-1" class="cm-scroller"><div spellcheck="false" autocorrect="off" autocapitalize="off" translate="no" contenteditable="true" class="cm-content cm-lineWrapping" style="tab-size: 4;" role="textbox" aria-multiline="true" data-language="markdown"><div class="cm-line"><span class="ͼr ͼp">#</span><span class="ͼr"> Data Analysis Based on Genres of the Songs</span></div></div><div class="cm-layer cm-layer-above cm-cursorLayer" aria-hidden="true" style="z-index: 150; animation-duration: 1200ms;"></div><div class="cm-layer cm-selectionLayer" aria-hidden="true" style="z-index: -2;"></div></div></div></div><div class="lm-Widget jp-RenderedHTMLCommon jp-RenderedMarkdown jp-MarkdownOutput" data-mime-type="text/markdown"><h1 id="Data-Analysis-Based-on-Genres-of-the-Songs"><span class="numbering-entry"></span>Data Analysis Based on Genres of the Songs<a target="_self" href="http://localhost:8888/notebooks/Untitled13.ipynb#Data-Analysis-Based-on-Genres-of-the-Songs" class="jp-InternalAnchorLink">¶</a></h1>
</div></div></div><div class="lm-Widget jp-CellFooter jp-Cell-footer"></div></div><div class="lm-Widget jp-Cell jp-CodeCell jp-Notebook-cell jp-mod-noOutputs" aria-label="Code Cell Content" data-windowed-list-index="30"><div class="lm-Widget jp-CellHeader jp-Cell-header"></div><div class="lm-Widget lm-Panel jp-Cell-inputWrapper"><div class="lm-Widget jp-Collapser jp-InputCollapser jp-Cell-inputCollapser"><div class="jp-Collapser-child"></div></div><div class="lm-Widget jp-InputArea jp-Cell-inputArea"><div class="lm-Widget jp-InputPrompt jp-InputArea-prompt">[42]:</div><div class="lm-Widget jp-CodeMirrorEditor jp-Editor jp-InputArea-editor" data-type="inline"><div class="cm-editor ͼ1 ͼ2 ͼ4 ͼo" style=""><div aria-live="polite" style="position: fixed; top: -10000px;"></div><div tabindex="-1" class="cm-scroller"><div spellcheck="false" autocorrect="off" autocapitalize="off" translate="no" contenteditable="true" class="cm-content" style="tab-size: 4;" role="textbox" aria-multiline="true" data-language="python"><div class="cm-line">df_genre <span class="ͼ10">=</span> pd<span class="ͼ19">.</span><span class="ͼz">read_csv</span><span class="ͼ19">(</span><span class="ͼ12">r"C:\Users\cyber world\OneDrive\Desktop\Artificial intelligence\spotify_dataset.csv"</span><span class="ͼ19">)</span></div></div><div class="cm-layer cm-layer-above cm-cursorLayer" aria-hidden="true" style="z-index: 150; animation-duration: 1200ms;"><div class="cm-cursor cm-cursor-primary" style="left: 6px; top: 5.33331px; height: 15.3334px;"></div></div><div class="cm-layer cm-selectionLayer" aria-hidden="true" style="z-index: -2;"></div></div></div></div></div></div><div class="lm-Widget jp-CellResizeHandle"></div><div class="lm-Widget lm-Panel jp-Cell-outputWrapper"><div class="lm-Widget jp-Collapser jp-OutputCollapser jp-Cell-outputCollapser"><div class="jp-Collapser-child"></div></div><div class="lm-Widget jp-OutputArea jp-Cell-outputArea"><div class="jp-OutputArea-promptOverlay" title="Toggle output scrolling"></div></div></div><div class="lm-Widget jp-CellFooter jp-Cell-footer"></div></div><div class="lm-Widget jp-Cell jp-CodeCell jp-Notebook-cell jp-mod-active jp-mod-selected" aria-label="Code Cell Content with Output" data-windowed-list-index="31"><div class="lm-Widget jp-Toolbar jp-cell-menu jp-cell-toolbar" style="min-height: var(--jp-private-toolbar-height);"><div class="lm-Widget jp-CommandToolbarButton jp-Toolbar-item"><button class="jp-ToolbarButtonComponent jp-mod-minimal jp-Button" aria-disabled="false" data-command="notebook:duplicate-below" title="Create a duplicate of this cell below"><span class="jp-ToolbarButtonComponent-icon f1vya9e0"><svg xmlns="http://www.w3.org/2000/svg" width="14" height="14" viewBox="0 0 14 14" fill="none" data-icon="ui-components:duplicate"><path xmlns="http://www.w3.org/2000/svg" class="jp-icon3" fill-rule="evenodd" clip-rule="evenodd" d="M2.79998 0.875H8.89582C9.20061 0.875 9.44998 1.13914 9.44998 1.46198C9.44998 1.78482 9.20061 2.04896 8.89582 2.04896H3.35415C3.04936 2.04896 2.79998 2.3131 2.79998 2.63594V9.67969C2.79998 10.0025 2.55061 10.2667 2.24582 10.2667C1.94103 10.2667 1.69165 10.0025 1.69165 9.67969V2.04896C1.69165 1.40328 2.1904 0.875 2.79998 0.875ZM5.36665 11.9V4.55H11.0833V11.9H5.36665ZM4.14165 4.14167C4.14165 3.69063 4.50728 3.325 4.95832 3.325H11.4917C11.9427 3.325 12.3083 3.69063 12.3083 4.14167V12.3083C12.3083 12.7594 11.9427 13.125 11.4917 13.125H4.95832C4.50728 13.125 4.14165 12.7594 4.14165 12.3083V4.14167Z" fill="#616161"></path><path xmlns="http://www.w3.org/2000/svg" class="jp-icon3" d="M9.43574 8.26507H8.36431V9.3365C8.36431 9.45435 8.26788 9.55078 8.15002 9.55078C8.03217 9.55078 7.93574 9.45435 7.93574 9.3365V8.26507H6.86431C6.74645 8.26507 6.65002 8.16864 6.65002 8.05078C6.65002 7.93292 6.74645 7.8365 6.86431 7.8365H7.93574V6.76507C7.93574 6.64721 8.03217 6.55078 8.15002 6.55078C8.26788 6.55078 8.36431 6.64721 8.36431 6.76507V7.8365H9.43574C9.5536 7.8365 9.65002 7.93292 9.65002 8.05078C9.65002 8.16864 9.5536 8.26507 9.43574 8.26507Z" fill="#616161" stroke="#616161" stroke-width="0.5"></path></svg></span></button></div><div class="lm-Widget jp-CommandToolbarButton jp-Toolbar-item"><button class="jp-ToolbarButtonComponent jp-mod-minimal jp-Button" aria-disabled="false" data-command="notebook:move-cell-up" title="Move this cell up (Ctrl+Shift+Up)"><span class="jp-ToolbarButtonComponent-icon f1vya9e0"><svg xmlns="http://www.w3.org/2000/svg" width="14" height="14" viewBox="0 0 14 14" fill="none" data-icon="ui-components:move-up"><path xmlns="http://www.w3.org/2000/svg" class="jp-icon3" d="M1.52899 6.47101C1.23684 6.76316 1.23684 7.23684 1.52899 7.52899V7.52899C1.82095 7.82095 2.29426 7.82116 2.58649 7.52946L6.25 3.8725V12.25C6.25 12.6642 6.58579 13 7 13V13C7.41421 13 7.75 12.6642 7.75 12.25V3.8725L11.4027 7.53178C11.6966 7.82619 12.1736 7.82641 12.4677 7.53226V7.53226C12.7617 7.2383 12.7617 6.7617 12.4677 6.46774L7.70711 1.70711C7.31658 1.31658 6.68342 1.31658 6.29289 1.70711L1.52899 6.47101Z" fill="#616161"></path></svg></span></button></div><div class="lm-Widget jp-CommandToolbarButton jp-Toolbar-item"><button class="jp-ToolbarButtonComponent jp-mod-minimal jp-Button" aria-disabled="true" data-command="notebook:move-cell-down" disabled="" title="Move this cell down (Ctrl+Shift+Down)"><span class="jp-ToolbarButtonComponent-icon f1vya9e0"><svg xmlns="http://www.w3.org/2000/svg" width="14" height="14" viewBox="0 0 14 14" fill="none" data-icon="ui-components:move-down"><path xmlns="http://www.w3.org/2000/svg" class="jp-icon3" d="M12.471 7.52899C12.7632 7.23684 12.7632 6.76316 12.471 6.47101V6.47101C12.179 6.17905 11.7057 6.17884 11.4135 6.47054L7.75 10.1275V1.75C7.75 1.33579 7.41421 1 7 1V1C6.58579 1 6.25 1.33579 6.25 1.75V10.1275L2.59726 6.46822C2.30338 6.17381 1.82641 6.17359 1.53226 6.46774V6.46774C1.2383 6.7617 1.2383 7.2383 1.53226 7.53226L6.29289 12.2929C6.68342 12.6834 7.31658 12.6834 7.70711 12.2929L12.471 7.52899Z" fill="#616161"></path></svg></span></button></div><div class="lm-Widget jp-CommandToolbarButton jp-Toolbar-item"><button class="jp-ToolbarButtonComponent jp-mod-minimal jp-Button" aria-disabled="false" data-command="notebook:insert-cell-above" title="Insert a cell above (A)"><span class="jp-ToolbarButtonComponent-icon f1vya9e0"><svg xmlns="http://www.w3.org/2000/svg" width="14" height="14" viewBox="0 0 14 14" fill="none" data-icon="ui-components:add-above"><g xmlns="http://www.w3.org/2000/svg" clip-path="url(#clip0_137_19492)"><path class="jp-icon3" d="M4.75 4.93066H6.625V6.80566C6.625 7.01191 6.79375 7.18066 7 7.18066C7.20625 7.18066 7.375 7.01191 7.375 6.80566V4.93066H9.25C9.45625 4.93066 9.625 4.76191 9.625 4.55566C9.625 4.34941 9.45625 4.18066 9.25 4.18066H7.375V2.30566C7.375 2.09941 7.20625 1.93066 7 1.93066C6.79375 1.93066 6.625 2.09941 6.625 2.30566V4.18066H4.75C4.54375 4.18066 4.375 4.34941 4.375 4.55566C4.375 4.76191 4.54375 4.93066 4.75 4.93066Z" fill="#616161" stroke="#616161" stroke-width="0.7"></path></g><path xmlns="http://www.w3.org/2000/svg" class="jp-icon3" fill-rule="evenodd" clip-rule="evenodd" d="M11.5 9.5V11.5L2.5 11.5V9.5L11.5 9.5ZM12 8C12.5523 8 13 8.44772 13 9V12C13 12.5523 12.5523 13 12 13L2 13C1.44772 13 1 12.5523 1 12V9C1 8.44772 1.44771 8 2 8L12 8Z" fill="#616161"></path><defs xmlns="http://www.w3.org/2000/svg"><clippath id="clip0_137_19492"><rect class="jp-icon3" width="6" height="6" fill="white" transform="matrix(-1 0 0 1 10 1.55566)"></rect></clippath></defs></svg></span></button></div><div class="lm-Widget jp-CommandToolbarButton jp-Toolbar-item"><button class="jp-ToolbarButtonComponent jp-mod-minimal jp-Button" aria-disabled="false" data-command="notebook:insert-cell-below" title="Insert a cell below (B)"><span class="jp-ToolbarButtonComponent-icon f1vya9e0"><svg xmlns="http://www.w3.org/2000/svg" width="14" height="14" viewBox="0 0 14 14" fill="none" data-icon="ui-components:add-below"><g xmlns="http://www.w3.org/2000/svg" clip-path="url(#clip0_137_19498)"><path class="jp-icon3" d="M9.25 10.0693L7.375 10.0693L7.375 8.19434C7.375 7.98809 7.20625 7.81934 7 7.81934C6.79375 7.81934 6.625 7.98809 6.625 8.19434L6.625 10.0693L4.75 10.0693C4.54375 10.0693 4.375 10.2381 4.375 10.4443C4.375 10.6506 4.54375 10.8193 4.75 10.8193L6.625 10.8193L6.625 12.6943C6.625 12.9006 6.79375 13.0693 7 13.0693C7.20625 13.0693 7.375 12.9006 7.375 12.6943L7.375 10.8193L9.25 10.8193C9.45625 10.8193 9.625 10.6506 9.625 10.4443C9.625 10.2381 9.45625 10.0693 9.25 10.0693Z" fill="#616161" stroke="#616161" stroke-width="0.7"></path></g><path xmlns="http://www.w3.org/2000/svg" class="jp-icon3" fill-rule="evenodd" clip-rule="evenodd" d="M2.5 5.5L2.5 3.5L11.5 3.5L11.5 5.5L2.5 5.5ZM2 7C1.44772 7 1 6.55228 1 6L1 3C1 2.44772 1.44772 2 2 2L12 2C12.5523 2 13 2.44772 13 3L13 6C13 6.55229 12.5523 7 12 7L2 7Z" fill="#616161"></path><defs xmlns="http://www.w3.org/2000/svg"><clippath id="clip0_137_19498"><rect class="jp-icon3" width="6" height="6" fill="white" transform="matrix(1 1.74846e-07 1.74846e-07 -1 4 13.4443)"></rect></clippath></defs></svg></span></button></div><div class="lm-Widget jp-CommandToolbarButton jp-Toolbar-item"><button class="jp-ToolbarButtonComponent jp-mod-minimal jp-Button" aria-disabled="false" data-command="notebook:delete-cell" title="Delete this cell (D, D)"><span class="jp-ToolbarButtonComponent-icon f1vya9e0"><svg xmlns="http://www.w3.org/2000/svg" viewBox="0 0 24 24" width="16px" height="16px" data-icon="ui-components:delete"><path xmlns="http://www.w3.org/2000/svg" d="M0 0h24v24H0z" fill="none"></path><path xmlns="http://www.w3.org/2000/svg" class="jp-icon3" fill="#626262" d="M6 19c0 1.1.9 2 2 2h8c1.1 0 2-.9 2-2V7H6v12zM19 4h-3.5l-1-1h-5l-1 1H5v2h14V4z"></path></svg></span></button></div></div><div class="lm-Widget jp-CellHeader jp-Cell-header"></div><div class="lm-Widget lm-Panel jp-Cell-inputWrapper"><div class="lm-Widget jp-Collapser jp-InputCollapser jp-Cell-inputCollapser"><div class="jp-Collapser-child"></div></div><div class="lm-Widget jp-InputArea jp-Cell-inputArea"><div class="lm-Widget jp-InputPrompt jp-InputArea-prompt">[43]:</div><div class="lm-Widget jp-CodeMirrorEditor jp-Editor jp-InputArea-editor" data-type="inline"><div class="cm-editor ͼ1 ͼ2 ͼ4 ͼo" style=""><div aria-live="polite" style="position: fixed; top: -10000px;"></div><div tabindex="-1" class="cm-scroller"><div spellcheck="false" autocorrect="off" autocapitalize="off" translate="no" contenteditable="true" class="cm-content" style="tab-size: 4;" role="textbox" aria-multiline="true" data-language="python"><div class="cm-line">df_genre<span class="ͼ19">.</span><span class="ͼz">head</span><span class="ͼ19">(</span><span class="ͼ19">)</span></div></div><div class="cm-layer cm-layer-above cm-cursorLayer" aria-hidden="true" style="z-index: 150; animation-duration: 1200ms;"><div class="cm-cursor cm-cursor-primary" style="left: 6px; top: 5.33331px; height: 15.3333px;"></div></div><div class="cm-layer cm-selectionLayer" aria-hidden="true" style="z-index: -2;"></div></div></div></div></div></div><div class="lm-Widget jp-CellResizeHandle"></div><div class="lm-Widget lm-Panel jp-Cell-outputWrapper"><div class="lm-Widget jp-Collapser jp-OutputCollapser jp-Cell-outputCollapser"><div class="jp-Collapser-child"></div></div><div class="lm-Widget jp-OutputArea jp-Cell-outputArea"><div class="lm-Widget lm-Panel jp-OutputArea-child jp-OutputArea-executeResult"><div class="lm-Widget jp-OutputPrompt jp-OutputArea-prompt">[43]:</div><div class="lm-Widget jp-RenderedHTMLCommon jp-RenderedHTML jp-mod-trusted jp-OutputArea-output" data-mime-type="text/html"><div>
<style scoped="">
    .dataframe tbody tr th:only-of-type {
        vertical-align: middle;
    }

    .dataframe tbody tr th {
        vertical-align: top;
    }

    .dataframe thead th {
        text-align: right;
    }
</style>
<table border="1" class="dataframe">
  <thead>
    <tr style="text-align: right;">
      <th></th>
      <th>track_id</th>
      <th>track_name</th>
      <th>track_artist</th>
      <th>track_popularity</th>
      <th>track_album_id</th>
      <th>track_album_name</th>
      <th>track_album_release_date</th>
      <th>playlist_name</th>
      <th>playlist_id</th>
      <th>playlist_genre</th>
      <th>...</th>
      <th>key</th>
      <th>loudness</th>
      <th>mode</th>
      <th>speechiness</th>
      <th>acousticness</th>
      <th>instrumentalness</th>
      <th>liveness</th>
      <th>valence</th>
      <th>tempo</th>
      <th>duration_ms</th>
    </tr>
  </thead>
  <tbody>
    <tr>
      <th>0</th>
      <td>6f807x0ima9a1j3VPbc7VN</td>
      <td>I Don't Care (with Justin Bieber) - Loud Luxur...</td>
      <td>Ed Sheeran</td>
      <td>66</td>
      <td>2oCs0DGTsRO98Gh5ZSl2Cx</td>
      <td>I Don't Care (with Justin Bieber) [Loud Luxury...</td>
      <td>2019-06-14</td>
      <td>Pop Remix</td>
      <td>37i9dQZF1DXcZDD7cfEKhW</td>
      <td>pop</td>
      <td>...</td>
      <td>6</td>
      <td>-2.634</td>
      <td>1</td>
      <td>0.0583</td>
      <td>0.1020</td>
      <td>0.000000</td>
      <td>0.0653</td>
      <td>0.518</td>
      <td>122.036</td>
      <td>194754</td>
    </tr>
    <tr>
      <th>1</th>
      <td>0r7CVbZTWZgbTCYdfa2P31</td>
      <td>Memories - Dillon Francis Remix</td>
      <td>Maroon 5</td>
      <td>67</td>
      <td>63rPSO264uRjW1X5E6cWv6</td>
      <td>Memories (Dillon Francis Remix)</td>
      <td>2019-12-13</td>
      <td>Pop Remix</td>
      <td>37i9dQZF1DXcZDD7cfEKhW</td>
      <td>pop</td>
      <td>...</td>
      <td>11</td>
      <td>-4.969</td>
      <td>1</td>
      <td>0.0373</td>
      <td>0.0724</td>
      <td>0.004210</td>
      <td>0.3570</td>
      <td>0.693</td>
      <td>99.972</td>
      <td>162600</td>
    </tr>
    <tr>
      <th>2</th>
      <td>1z1Hg7Vb0AhHDiEmnDE79l</td>
      <td>All the Time - Don Diablo Remix</td>
      <td>Zara Larsson</td>
      <td>70</td>
      <td>1HoSmj2eLcsrR0vE9gThr4</td>
      <td>All the Time (Don Diablo Remix)</td>
      <td>2019-07-05</td>
      <td>Pop Remix</td>
      <td>37i9dQZF1DXcZDD7cfEKhW</td>
      <td>pop</td>
      <td>...</td>
      <td>1</td>
      <td>-3.432</td>
      <td>0</td>
      <td>0.0742</td>
      <td>0.0794</td>
      <td>0.000023</td>
      <td>0.1100</td>
      <td>0.613</td>
      <td>124.008</td>
      <td>176616</td>
    </tr>
    <tr>
      <th>3</th>
      <td>75FpbthrwQmzHlBJLuGdC7</td>
      <td>Call You Mine - Keanu Silva Remix</td>
      <td>The Chainsmokers</td>
      <td>60</td>
      <td>1nqYsOef1yKKuGOVchbsk6</td>
      <td>Call You Mine - The Remixes</td>
      <td>2019-07-19</td>
      <td>Pop Remix</td>
      <td>37i9dQZF1DXcZDD7cfEKhW</td>
      <td>pop</td>
      <td>...</td>
      <td>7</td>
      <td>-3.778</td>
      <td>1</td>
      <td>0.1020</td>
      <td>0.0287</td>
      <td>0.000009</td>
      <td>0.2040</td>
      <td>0.277</td>
      <td>121.956</td>
      <td>169093</td>
    </tr>
    <tr>
      <th>4</th>
      <td>1e8PAfcKUYoKkxPhrHqw4x</td>
      <td>Someone You Loved - Future Humans Remix</td>
      <td>Lewis Capaldi</td>
      <td>69</td>
      <td>7m7vv9wlQ4i0LFuJiE2zsQ</td>
      <td>Someone You Loved (Future Humans Remix)</td>
      <td>2019-03-05</td>
      <td>Pop Remix</td>
      <td>37i9dQZF1DXcZDD7cfEKhW</td>
      <td>pop</td>
      <td>...</td>
      <td>1</td>
      <td>-4.672</td>
      <td>1</td>
      <td>0.0359</td>
      <td>0.0803</td>
      <td>0.000000</td>
      <td>0.0833</td>
      <td>0.725</td>
      <td>123.976</td>
      <td>189052</td>
    </tr>
  </tbody>
</table>
<p>5 rows × 23 columns</p>
</div></div></div><div class="jp-OutputArea-promptOverlay" title="Toggle output scrolling"></div></div></div><div class="lm-Widget jp-CellFooter jp-Cell-footer"></div></div></div></div><button class="lm-Widget jp-Notebook-footer" data-jp-traversable="true">Click to add a cell.</button></div></div></div><div class="lm-Widget" id="spacer-widget-bottom" style="position: absolute; contain: strict; top: 572px; left: 0px; width: 1232px; height: 0px;"></div></div><div class="lm-SplitPanel-handle lm-mod-hidden" style="position: absolute; contain: style; top: 0px; left: 1232px; width: 1px; height: 572px;"></div><div class="lm-Widget lm-Panel lm-mod-hidden lm-SplitPanel-child" id="jp-right-stack" role="complementary" style="position: absolute; contain: strict;"><button class="jp-Button jp-SidePanel-collapse lm-Widget" title="Collapse right side panel"><svg xmlns="http://www.w3.org/2000/svg" viewBox="0 0 24 24" width="16" data-icon="ui-components:close" data-icon-id="542a827c-d7de-4a21-afdc-6a7b39fc3784"><g class="jp-icon-none jp-icon-selectable-inverse jp-icon3-hover" fill="none"><circle cx="12" cy="12" r="11"></circle></g><g class="jp-icon3 jp-icon-selectable jp-icon-accent2-hover" fill="#616161"><path d="M19 6.41L17.59 5 12 10.59 6.41 5 5 6.41 10.59 12 5 17.59 6.41 19 12 13.41 17.59 19 19 17.59 13.41 12z"></path></g><g class="jp-icon-none jp-icon-busy" fill="none"><circle cx="12" cy="12" r="7"></circle></g></svg></button><div class="lm-Widget lm-Panel lm-StackedPanel" style="min-width: 0px; min-height: 0px;"><div class="lm-Widget jp-NotebookTools lm-mod-hidden lm-StackedPanel-child" id="notebook-tools" style="position: absolute; contain: strict;"><div class="lm-Widget jp-Collapse"><div class="lm-Widget jp-Collapse-header jp-Collapse-header-collapsed"><div class="jp-Collapser-icon"><svg xmlns="http://www.w3.org/2000/svg" width="16" viewBox="0 0 18 18" data-icon="ui-components:caret-down" data-icon-id="cc17badc-cecf-4dca-b923-d2b77e20c078"><g class="jp-icon3" fill="#616161" shape-rendering="geometricPrecision"><path d="M5.2,7.5L9,11.2l3.8-3.8H5.2z"></path></g></svg></div><span class="jp-Collapser-title">Common Tools</span></div><div class="lm-Widget lm-Panel jp-Collapse-contents lm-mod-hidden"><div class="lm-Widget jp-RankedPanel"><div class="lm-Widget jp-NotebookTools-tool"><div class="lm-Widget jp-MetadataForm-placeholder"><div class="jp-MetadataForm-placeholderContent">No metadata.</div></div></div></div></div></div><div class="lm-Widget jp-Collapse"><div class="lm-Widget jp-Collapse-header jp-Collapse-header-collapsed"><div class="jp-Collapser-icon"><svg xmlns="http://www.w3.org/2000/svg" width="16" viewBox="0 0 18 18" data-icon="ui-components:caret-down" data-icon-id="cc17badc-cecf-4dca-b923-d2b77e20c078"><g class="jp-icon3" fill="#616161" shape-rendering="geometricPrecision"><path d="M5.2,7.5L9,11.2l3.8-3.8H5.2z"></path></g></svg></div><span class="jp-Collapser-title">Advanced Tools</span></div><div class="lm-Widget lm-Panel jp-Collapse-contents lm-mod-hidden"><div class="lm-Widget jp-RankedPanel"><div class="lm-Widget jp-NotebookTools-tool"><div class="lm-Widget jp-MetadataForm-placeholder"><div class="jp-MetadataForm-placeholderContent">No metadata.</div></div></div></div></div></div></div></div></div><div class="lm-SplitPanel-handle lm-mod-hidden" style="position: absolute; contain: style;"></div></div></div><div class="lm-Widget jp-Toolbar-responsive-popup lm-mod-hidden"></div><div class="lm-Widget jp-Completer lm-mod-hidden"></div><div class="lm-Widget lm-Panel jp-ModalCommandPalette lm-mod-hidden" id="modal-command-palette" tabindex="0"><div class="lm-Widget lm-CommandPalette" id="command-palette" role="region" aria-label="Command Palette Section" style=""><div class="lm-CommandPalette-search"><div class="lm-CommandPalette-wrapper"><input class="lm-CommandPalette-input" spellcheck="false" placeholder="SEARCH"><div class="jp-SearchIconGroup"><svg xmlns="http://www.w3.org/2000/svg" viewBox="0 0 18 18" width="16" data-icon="ui-components:search" data-icon-id="93c0844d-d802-4022-abb4-5ceef2ca6b34"><g class="jp-icon3" fill="#616161"><path d="M12.1,10.9h-0.7l-0.2-0.2c0.8-0.9,1.3-2.2,1.3-3.5c0-3-2.4-5.4-5.4-5.4S1.8,4.2,1.8,7.1s2.4,5.4,5.4,5.4 c1.3,0,2.5-0.5,3.5-1.3l0.2,0.2v0.7l4.1,4.1l1.2-1.2L12.1,10.9z M7.1,10.9c-2.1,0-3.7-1.7-3.7-3.7s1.7-3.7,3.7-3.7s3.7,1.7,3.7,3.7 S9.2,10.9,7.1,10.9z"></path></g></svg></div><button class="lm-close-icon" style="display: none;"></button></div></div><ul class="lm-CommandPalette-content" role="menu"><li class="lm-CommandPalette-header jp-icon-hoverShow">Console<span class="jp-icon-hoverShow-content f1qewoua"><svg xmlns="http://www.w3.org/2000/svg" width="16" viewBox="0 0 24 24" data-icon="ui-components:filter-list" data-icon-id="5c8d5feb-b33f-4ed6-939a-258a567f19ba"><g class="jp-icon3" fill="#616161"><path d="M10 18h4v-2h-4v2zM3 6v2h18V6H3zm3 7h12v-2H6v2z"></path></g></svg></span></li><li role="menuitem" class="lm-CommandPalette-item lm-mod-disabled" data-command="console:change-kernel"><div class="fvaq30 lm-CommandPalette-itemIcon"></div><div class="lm-CommandPalette-itemContent"><div class="lm-CommandPalette-itemLabel">Change Kernel…</div><div class="lm-CommandPalette-itemCaption"></div></div><div class="lm-CommandPalette-itemShortcut"></div></li><li role="menuitem" class="lm-CommandPalette-item lm-mod-disabled" data-command="console:clear"><div class="fvaq30 lm-CommandPalette-itemIcon"></div><div class="lm-CommandPalette-itemContent"><div class="lm-CommandPalette-itemLabel">Clear Console Cells</div><div class="lm-CommandPalette-itemCaption"></div></div><div class="lm-CommandPalette-itemShortcut"></div></li><li role="menuitem" class="lm-CommandPalette-item lm-mod-disabled" data-command="console:close-and-shutdown"><div class="fvaq30 lm-CommandPalette-itemIcon"></div><div class="lm-CommandPalette-itemContent"><div class="lm-CommandPalette-itemLabel">Close and Shut Down…</div><div class="lm-CommandPalette-itemCaption"></div></div><div class="lm-CommandPalette-itemShortcut"></div></li><li role="menuitem" class="lm-CommandPalette-item lm-mod-disabled" data-command="console:linebreak"><div class="fvaq30 lm-CommandPalette-itemIcon"></div><div class="lm-CommandPalette-itemContent"><div class="lm-CommandPalette-itemLabel">Insert Line Break</div><div class="lm-CommandPalette-itemCaption"></div></div><div class="lm-CommandPalette-itemShortcut"></div></li><li role="menuitem" class="lm-CommandPalette-item lm-mod-disabled" data-command="console:interrupt-kernel"><div class="fvaq30 lm-CommandPalette-itemIcon"></div><div class="lm-CommandPalette-itemContent"><div class="lm-CommandPalette-itemLabel">Interrupt Kernel</div><div class="lm-CommandPalette-itemCaption"></div></div><div class="lm-CommandPalette-itemShortcut"></div></li><li role="menuitem" class="lm-CommandPalette-item" data-command="console:create"><div class="fvaq30 lm-CommandPalette-itemIcon"></div><div class="lm-CommandPalette-itemContent"><div class="lm-CommandPalette-itemLabel">New Console</div><div class="lm-CommandPalette-itemCaption"></div></div><div class="lm-CommandPalette-itemShortcut"></div></li><li role="menuitem" class="lm-CommandPalette-item lm-mod-disabled" data-command="console:restart-kernel"><div class="fvaq30 lm-CommandPalette-itemIcon"></div><div class="lm-CommandPalette-itemContent"><div class="lm-CommandPalette-itemLabel">Restart Kernel…</div><div class="lm-CommandPalette-itemCaption"></div></div><div class="lm-CommandPalette-itemShortcut"></div></li><li role="menuitem" class="lm-CommandPalette-item lm-mod-disabled" data-command="console:run-forced"><div class="fvaq30 lm-CommandPalette-itemIcon"></div><div class="lm-CommandPalette-itemContent"><div class="lm-CommandPalette-itemLabel">Run Cell (forced)</div><div class="lm-CommandPalette-itemCaption"></div></div><div class="lm-CommandPalette-itemShortcut"></div></li><li role="menuitem" class="lm-CommandPalette-item lm-mod-disabled" data-command="console:run-unforced"><div class="fvaq30 lm-CommandPalette-itemIcon"></div><div class="lm-CommandPalette-itemContent"><div class="lm-CommandPalette-itemLabel">Run Cell (unforced)</div><div class="lm-CommandPalette-itemCaption"></div></div><div class="lm-CommandPalette-itemShortcut"></div></li><li role="menuitemcheckbox" aria-checked="false" class="lm-CommandPalette-item lm-mod-disabled" data-command="console:toggle-show-all-kernel-activity"><div class="fvaq30 lm-CommandPalette-itemIcon"></div><div class="lm-CommandPalette-itemContent"><div class="lm-CommandPalette-itemLabel">Show All Kernel Activity</div><div class="lm-CommandPalette-itemCaption"></div></div><div class="lm-CommandPalette-itemShortcut"></div></li><li class="lm-CommandPalette-header jp-icon-hoverShow">Display Languages<span class="jp-icon-hoverShow-content f1qewoua"><svg xmlns="http://www.w3.org/2000/svg" width="16" viewBox="0 0 24 24" data-icon="ui-components:filter-list" data-icon-id="5c8d5feb-b33f-4ed6-939a-258a567f19ba"><g class="jp-icon3" fill="#616161"><path d="M10 18h4v-2h-4v2zM3 6v2h18V6H3zm3 7h12v-2H6v2z"></path></g></svg></span></li><li role="menuitemcheckbox" aria-checked="true" class="lm-CommandPalette-item lm-mod-disabled lm-mod-toggled" data-command="jupyterlab-translation:en"><div class="fvaq30 lm-CommandPalette-itemIcon"><svg xmlns="http://www.w3.org/2000/svg" width="16" viewBox="0 0 24 24" data-icon="ui-components:check" data-icon-id="187cd3bd-1c2d-4aef-9fac-0b82a5b8b499"><g class="jp-icon3 jp-icon-selectable" fill="#616161"><path d="M9 16.17L4.83 12l-1.42 1.41L9 19 21 7l-1.41-1.41z"></path></g></svg></div><div class="lm-CommandPalette-itemContent"><div class="lm-CommandPalette-itemLabel">English</div><div class="lm-CommandPalette-itemCaption">English</div></div><div class="lm-CommandPalette-itemShortcut"></div></li><li class="lm-CommandPalette-header jp-icon-hoverShow">File Operations<span class="jp-icon-hoverShow-content f1qewoua"><svg xmlns="http://www.w3.org/2000/svg" width="16" viewBox="0 0 24 24" data-icon="ui-components:filter-list" data-icon-id="5c8d5feb-b33f-4ed6-939a-258a567f19ba"><g class="jp-icon3" fill="#616161"><path d="M10 18h4v-2h-4v2zM3 6v2h18V6H3zm3 7h12v-2H6v2z"></path></g></svg></span></li><li role="menuitemcheckbox" class="lm-CommandPalette-item lm-mod-toggled" data-command="docmanager:toggle-autosave" aria-checked="true"><div class="fvaq30 lm-CommandPalette-itemIcon"><svg xmlns="http://www.w3.org/2000/svg" width="16" viewBox="0 0 24 24" data-icon="ui-components:check" data-icon-id="187cd3bd-1c2d-4aef-9fac-0b82a5b8b499"><g class="jp-icon3 jp-icon-selectable" fill="#616161"><path d="M9 16.17L4.83 12l-1.42 1.41L9 19 21 7l-1.41-1.41z"></path></g></svg></div><div class="lm-CommandPalette-itemContent"><div class="lm-CommandPalette-itemLabel">Autosave Documents</div><div class="lm-CommandPalette-itemCaption"></div></div><div class="lm-CommandPalette-itemShortcut"></div></li><li role="menuitem" class="lm-CommandPalette-item" data-command="docmanager:download"><div class="fvaq30 lm-CommandPalette-itemIcon"></div><div class="lm-CommandPalette-itemContent"><div class="lm-CommandPalette-itemLabel">Download</div><div class="lm-CommandPalette-itemCaption">Download the file to your computer</div></div><div class="lm-CommandPalette-itemShortcut"></div></li><li role="menuitem" class="lm-CommandPalette-item" data-command="docmanager:reload"><div class="fvaq30 lm-CommandPalette-itemIcon"></div><div class="lm-CommandPalette-itemContent"><div class="lm-CommandPalette-itemLabel">Reload Notebook from Disk</div><div class="lm-CommandPalette-itemCaption">Reload contents from disk</div></div><div class="lm-CommandPalette-itemShortcut"></div></li><li role="menuitem" class="lm-CommandPalette-item" data-command="docmanager:restore-checkpoint"><div class="fvaq30 lm-CommandPalette-itemIcon"></div><div class="lm-CommandPalette-itemContent"><div class="lm-CommandPalette-itemLabel">Revert Notebook to Checkpoint…</div><div class="lm-CommandPalette-itemCaption">Revert contents to previous checkpoint</div></div><div class="lm-CommandPalette-itemShortcut"></div></li><li role="menuitem" class="lm-CommandPalette-item" data-command="docmanager:save"><div class="fvaq30 lm-CommandPalette-itemIcon"></div><div class="lm-CommandPalette-itemContent"><div class="lm-CommandPalette-itemLabel">Save Notebook</div><div class="lm-CommandPalette-itemCaption">Save and create checkpoint</div></div><div class="lm-CommandPalette-itemShortcut">Ctrl+S</div></li><li class="lm-CommandPalette-item" role="menuitem" data-command="docmanager:save-as"><div class="fvaq30 lm-CommandPalette-itemIcon"></div><div class="lm-CommandPalette-itemContent"><div class="lm-CommandPalette-itemLabel">Save Notebook As…</div><div class="lm-CommandPalette-itemCaption">Save with new path</div></div><div class="lm-CommandPalette-itemShortcut">Ctrl+Shift+S</div></li><li role="menuitemcheckbox" class="lm-CommandPalette-item lm-mod-disabled" data-command="htmlviewer:trust-html" aria-checked="false"><div class="fvaq30 lm-CommandPalette-itemIcon"></div><div class="lm-CommandPalette-itemContent"><div class="lm-CommandPalette-itemLabel">Trust HTML File</div><div class="lm-CommandPalette-itemCaption">Whether the HTML file is trusted.
    Trusting the file allows scripts to run in it,
    which may result in security risks.
    Only enable for files you trust.</div></div><div class="lm-CommandPalette-itemShortcut"></div></li><li class="lm-CommandPalette-header jp-icon-hoverShow">Help<span class="jp-icon-hoverShow-content f1qewoua"><svg xmlns="http://www.w3.org/2000/svg" width="16" viewBox="0 0 24 24" data-icon="ui-components:filter-list" data-icon-id="5c8d5feb-b33f-4ed6-939a-258a567f19ba"><g class="jp-icon3" fill="#616161"><path d="M10 18h4v-2h-4v2zM3 6v2h18V6H3zm3 7h12v-2H6v2z"></path></g></svg></span></li><li role="menuitem" class="lm-CommandPalette-item" data-command="help:about"><div class="fvaq30 lm-CommandPalette-itemIcon"></div><div class="lm-CommandPalette-itemContent"><div class="lm-CommandPalette-itemLabel">About Jupyter Notebook</div><div class="lm-CommandPalette-itemCaption"></div></div><div class="lm-CommandPalette-itemShortcut"></div></li><li class="lm-CommandPalette-item" role="menuitem" data-command="jupyter-notebook:launch-tree"><div class="fvaq30 lm-CommandPalette-itemIcon"></div><div class="lm-CommandPalette-itemContent"><div class="lm-CommandPalette-itemLabel">Launch Jupyter Notebook File Browser</div><div class="lm-CommandPalette-itemCaption"></div></div><div class="lm-CommandPalette-itemShortcut"></div></li><li role="menuitem" class="lm-CommandPalette-item" data-command="apputils:display-shortcuts"><div class="fvaq30 lm-CommandPalette-itemIcon"></div><div class="lm-CommandPalette-itemContent"><div class="lm-CommandPalette-itemLabel">Show Keyboard Shortcuts</div><div class="lm-CommandPalette-itemCaption">Show relevant keyboard shortcuts for the current active widget</div></div><div class="lm-CommandPalette-itemShortcut">Ctrl+Shift+H</div></li><li class="lm-CommandPalette-header jp-icon-hoverShow">Image Viewer<span class="jp-icon-hoverShow-content f1qewoua"><svg xmlns="http://www.w3.org/2000/svg" width="16" viewBox="0 0 24 24" data-icon="ui-components:filter-list" data-icon-id="5c8d5feb-b33f-4ed6-939a-258a567f19ba"><g class="jp-icon3" fill="#616161"><path d="M10 18h4v-2h-4v2zM3 6v2h18V6H3zm3 7h12v-2H6v2z"></path></g></svg></span></li><li role="menuitem" class="lm-CommandPalette-item lm-mod-disabled" data-command="imageviewer:flip-horizontal"><div class="fvaq30 lm-CommandPalette-itemIcon"></div><div class="lm-CommandPalette-itemContent"><div class="lm-CommandPalette-itemLabel">Flip image horizontally</div><div class="lm-CommandPalette-itemCaption"></div></div><div class="lm-CommandPalette-itemShortcut">H</div></li><li role="menuitem" class="lm-CommandPalette-item lm-mod-disabled" data-command="imageviewer:flip-vertical"><div class="fvaq30 lm-CommandPalette-itemIcon"></div><div class="lm-CommandPalette-itemContent"><div class="lm-CommandPalette-itemLabel">Flip image vertically</div><div class="lm-CommandPalette-itemCaption"></div></div><div class="lm-CommandPalette-itemShortcut">V</div></li><li role="menuitem" class="lm-CommandPalette-item lm-mod-disabled" data-command="imageviewer:invert-colors"><div class="fvaq30 lm-CommandPalette-itemIcon"></div><div class="lm-CommandPalette-itemContent"><div class="lm-CommandPalette-itemLabel">Invert Colors</div><div class="lm-CommandPalette-itemCaption"></div></div><div class="lm-CommandPalette-itemShortcut">I</div></li><li role="menuitem" class="lm-CommandPalette-item lm-mod-disabled" data-command="imageviewer:reset-image"><div class="fvaq30 lm-CommandPalette-itemIcon"></div><div class="lm-CommandPalette-itemContent"><div class="lm-CommandPalette-itemLabel">Reset Image</div><div class="lm-CommandPalette-itemCaption"></div></div><div class="lm-CommandPalette-itemShortcut">0</div></li><li role="menuitem" class="lm-CommandPalette-item lm-mod-disabled" data-command="imageviewer:rotate-clockwise"><div class="fvaq30 lm-CommandPalette-itemIcon"></div><div class="lm-CommandPalette-itemContent"><div class="lm-CommandPalette-itemLabel">Rotate Clockwise</div><div class="lm-CommandPalette-itemCaption"></div></div><div class="lm-CommandPalette-itemShortcut">]</div></li><li role="menuitem" class="lm-CommandPalette-item lm-mod-disabled" data-command="imageviewer:rotate-counterclockwise"><div class="fvaq30 lm-CommandPalette-itemIcon"></div><div class="lm-CommandPalette-itemContent"><div class="lm-CommandPalette-itemLabel">Rotate Counterclockwise</div><div class="lm-CommandPalette-itemCaption"></div></div><div class="lm-CommandPalette-itemShortcut">[</div></li><li class="lm-CommandPalette-item lm-mod-disabled" role="menuitem" data-command="imageviewer:zoom-in"><div class="fvaq30 lm-CommandPalette-itemIcon"></div><div class="lm-CommandPalette-itemContent"><div class="lm-CommandPalette-itemLabel">Zoom In</div><div class="lm-CommandPalette-itemCaption"></div></div><div class="lm-CommandPalette-itemShortcut">=</div></li><li role="menuitem" class="lm-CommandPalette-item lm-mod-disabled" data-command="imageviewer:zoom-out"><div class="fvaq30 lm-CommandPalette-itemIcon"></div><div class="lm-CommandPalette-itemContent"><div class="lm-CommandPalette-itemLabel">Zoom Out</div><div class="lm-CommandPalette-itemCaption"></div></div><div class="lm-CommandPalette-itemShortcut">-</div></li><li class="lm-CommandPalette-header jp-icon-hoverShow">Kernel Operations<span class="jp-icon-hoverShow-content f1qewoua"><svg xmlns="http://www.w3.org/2000/svg" width="16" viewBox="0 0 24 24" data-icon="ui-components:filter-list" data-icon-id="5c8d5feb-b33f-4ed6-939a-258a567f19ba"><g class="jp-icon3" fill="#616161"><path d="M10 18h4v-2h-4v2zM3 6v2h18V6H3zm3 7h12v-2H6v2z"></path></g></svg></span></li><li role="menuitem" class="lm-CommandPalette-item" data-command="kernelmenu:shutdownAll"><div class="fvaq30 lm-CommandPalette-itemIcon"></div><div class="lm-CommandPalette-itemContent"><div class="lm-CommandPalette-itemLabel">Shut Down All Kernels…</div><div class="lm-CommandPalette-itemCaption"></div></div><div class="lm-CommandPalette-itemShortcut"></div></li><li class="lm-CommandPalette-header jp-icon-hoverShow">Main Area<span class="jp-icon-hoverShow-content f1qewoua"><svg xmlns="http://www.w3.org/2000/svg" width="16" viewBox="0 0 24 24" data-icon="ui-components:filter-list" data-icon-id="5c8d5feb-b33f-4ed6-939a-258a567f19ba"><g class="jp-icon3" fill="#616161"><path d="M10 18h4v-2h-4v2zM3 6v2h18V6H3zm3 7h12v-2H6v2z"></path></g></svg></span></li><li role="menuitem" class="lm-CommandPalette-item lm-mod-disabled" data-command="application:close-other-tabs"><div class="fvaq30 lm-CommandPalette-itemIcon"></div><div class="lm-CommandPalette-itemContent"><div class="lm-CommandPalette-itemLabel">Close All Other Tabs</div><div class="lm-CommandPalette-itemCaption"></div></div><div class="lm-CommandPalette-itemShortcut"></div></li><li role="menuitem" class="lm-CommandPalette-item" data-command="application:close"><div class="fvaq30 lm-CommandPalette-itemIcon"></div><div class="lm-CommandPalette-itemContent"><div class="lm-CommandPalette-itemLabel">Close Tab</div><div class="lm-CommandPalette-itemCaption"></div></div><div class="lm-CommandPalette-itemShortcut">Alt+W</div></li><li role="menuitem" class="lm-CommandPalette-item lm-mod-disabled" data-command="application:close-right-tabs"><div class="fvaq30 lm-CommandPalette-itemIcon"></div><div class="lm-CommandPalette-itemContent"><div class="lm-CommandPalette-itemLabel">Close Tabs to Right</div><div class="lm-CommandPalette-itemCaption"></div></div><div class="lm-CommandPalette-itemShortcut"></div></li><li role="menuitem" class="lm-CommandPalette-item lm-mod-disabled" data-command="documentsearch:end"><div class="fvaq30 lm-CommandPalette-itemIcon"></div><div class="lm-CommandPalette-itemContent"><div class="lm-CommandPalette-itemLabel">End Search</div><div class="lm-CommandPalette-itemCaption"></div></div><div class="lm-CommandPalette-itemShortcut">Esc</div></li><li role="menuitem" class="lm-CommandPalette-item lm-mod-disabled" data-command="documentsearch:highlightNext"><div class="fvaq30 lm-CommandPalette-itemIcon"></div><div class="lm-CommandPalette-itemContent"><div class="lm-CommandPalette-itemLabel">Find Next</div><div class="lm-CommandPalette-itemCaption"></div></div><div class="lm-CommandPalette-itemShortcut">Ctrl+G</div></li><li role="menuitem" class="lm-CommandPalette-item lm-mod-disabled" data-command="documentsearch:highlightPrevious"><div class="fvaq30 lm-CommandPalette-itemIcon"></div><div class="lm-CommandPalette-itemContent"><div class="lm-CommandPalette-itemLabel">Find Previous</div><div class="lm-CommandPalette-itemCaption"></div></div><div class="lm-CommandPalette-itemShortcut">Ctrl+Shift+G</div></li><li role="menuitem" class="lm-CommandPalette-item" data-command="documentsearch:start"><div class="fvaq30 lm-CommandPalette-itemIcon"></div><div class="lm-CommandPalette-itemContent"><div class="lm-CommandPalette-itemLabel">Find…</div><div class="lm-CommandPalette-itemCaption"></div></div><div class="lm-CommandPalette-itemShortcut">Ctrl+F</div></li><li class="lm-CommandPalette-item" role="menuitem" data-command="filemenu:logout"><div class="fvaq30 lm-CommandPalette-itemIcon"></div><div class="lm-CommandPalette-itemContent"><div class="lm-CommandPalette-itemLabel">Log Out</div><div class="lm-CommandPalette-itemCaption">Log out of JupyterLab</div></div><div class="lm-CommandPalette-itemShortcut"></div></li><li role="menuitem" class="lm-CommandPalette-item" data-command="filemenu:shutdown"><div class="fvaq30 lm-CommandPalette-itemIcon"></div><div class="lm-CommandPalette-itemContent"><div class="lm-CommandPalette-itemLabel">Shut Down</div><div class="lm-CommandPalette-itemCaption">Shut down JupyterLab</div></div><div class="lm-CommandPalette-itemShortcut"></div></li><li class="lm-CommandPalette-header jp-icon-hoverShow">Mode<span class="jp-icon-hoverShow-content f1qewoua"><svg xmlns="http://www.w3.org/2000/svg" width="16" viewBox="0 0 24 24" data-icon="ui-components:filter-list" data-icon-id="5c8d5feb-b33f-4ed6-939a-258a567f19ba"><g class="jp-icon3" fill="#616161"><path d="M10 18h4v-2h-4v2zM3 6v2h18V6H3zm3 7h12v-2H6v2z"></path></g></svg></span></li><li role="menuitem" class="lm-CommandPalette-item" data-command="application:toggle-zen"><div class="fvaq30 lm-CommandPalette-itemIcon"></div><div class="lm-CommandPalette-itemContent"><div class="lm-CommandPalette-itemLabel">Toggle Zen Mode</div><div class="lm-CommandPalette-itemCaption"></div></div><div class="lm-CommandPalette-itemShortcut"></div></li><li class="lm-CommandPalette-header jp-icon-hoverShow">Notebook Cell Operations<span class="jp-icon-hoverShow-content f1qewoua"><svg xmlns="http://www.w3.org/2000/svg" width="16" viewBox="0 0 24 24" data-icon="ui-components:filter-list" data-icon-id="5c8d5feb-b33f-4ed6-939a-258a567f19ba"><g class="jp-icon3" fill="#616161"><path d="M10 18h4v-2h-4v2zM3 6v2h18V6H3zm3 7h12v-2H6v2z"></path></g></svg></span></li><li role="menuitem" class="lm-CommandPalette-item" data-command="notebook:change-cell-to-code"><div class="fvaq30 lm-CommandPalette-itemIcon"></div><div class="lm-CommandPalette-itemContent"><div class="lm-CommandPalette-itemLabel">Change to Code Cell Type</div><div class="lm-CommandPalette-itemCaption"></div></div><div class="lm-CommandPalette-itemShortcut">Y</div></li><li role="menuitem" class="lm-CommandPalette-item" data-command="notebook:change-cell-to-heading-1"><div class="fvaq30 lm-CommandPalette-itemIcon"></div><div class="lm-CommandPalette-itemContent"><div class="lm-CommandPalette-itemLabel">Change to Heading 1</div><div class="lm-CommandPalette-itemCaption"></div></div><div class="lm-CommandPalette-itemShortcut">1</div></li><li role="menuitem" class="lm-CommandPalette-item" data-command="notebook:change-cell-to-heading-2"><div class="fvaq30 lm-CommandPalette-itemIcon"></div><div class="lm-CommandPalette-itemContent"><div class="lm-CommandPalette-itemLabel">Change to Heading 2</div><div class="lm-CommandPalette-itemCaption"></div></div><div class="lm-CommandPalette-itemShortcut">2</div></li><li role="menuitem" class="lm-CommandPalette-item" data-command="notebook:change-cell-to-heading-3"><div class="fvaq30 lm-CommandPalette-itemIcon"></div><div class="lm-CommandPalette-itemContent"><div class="lm-CommandPalette-itemLabel">Change to Heading 3</div><div class="lm-CommandPalette-itemCaption"></div></div><div class="lm-CommandPalette-itemShortcut">3</div></li><li role="menuitem" class="lm-CommandPalette-item" data-command="notebook:change-cell-to-heading-4"><div class="fvaq30 lm-CommandPalette-itemIcon"></div><div class="lm-CommandPalette-itemContent"><div class="lm-CommandPalette-itemLabel">Change to Heading 4</div><div class="lm-CommandPalette-itemCaption"></div></div><div class="lm-CommandPalette-itemShortcut">4</div></li><li role="menuitem" class="lm-CommandPalette-item" data-command="notebook:change-cell-to-heading-5"><div class="fvaq30 lm-CommandPalette-itemIcon"></div><div class="lm-CommandPalette-itemContent"><div class="lm-CommandPalette-itemLabel">Change to Heading 5</div><div class="lm-CommandPalette-itemCaption"></div></div><div class="lm-CommandPalette-itemShortcut">5</div></li><li role="menuitem" class="lm-CommandPalette-item" data-command="notebook:change-cell-to-heading-6"><div class="fvaq30 lm-CommandPalette-itemIcon"></div><div class="lm-CommandPalette-itemContent"><div class="lm-CommandPalette-itemLabel">Change to Heading 6</div><div class="lm-CommandPalette-itemCaption"></div></div><div class="lm-CommandPalette-itemShortcut">6</div></li><li role="menuitem" class="lm-CommandPalette-item" data-command="notebook:change-cell-to-markdown"><div class="fvaq30 lm-CommandPalette-itemIcon"></div><div class="lm-CommandPalette-itemContent"><div class="lm-CommandPalette-itemLabel">Change to Markdown Cell Type</div><div class="lm-CommandPalette-itemCaption"></div></div><div class="lm-CommandPalette-itemShortcut">M</div></li><li role="menuitem" class="lm-CommandPalette-item" data-command="notebook:change-cell-to-raw"><div class="fvaq30 lm-CommandPalette-itemIcon"></div><div class="lm-CommandPalette-itemContent"><div class="lm-CommandPalette-itemLabel">Change to Raw Cell Type</div><div class="lm-CommandPalette-itemCaption"></div></div><div class="lm-CommandPalette-itemShortcut">R</div></li><li role="menuitem" class="lm-CommandPalette-item" data-command="notebook:clear-cell-output"><div class="fvaq30 lm-CommandPalette-itemIcon"></div><div class="lm-CommandPalette-itemContent"><div class="lm-CommandPalette-itemLabel">Clear Cell Output</div><div class="lm-CommandPalette-itemCaption">Clear outputs for the selected cells</div></div><div class="lm-CommandPalette-itemShortcut"></div></li><li role="menuitem" class="lm-CommandPalette-item" data-command="notebook:hide-all-cell-code"><div class="fvaq30 lm-CommandPalette-itemIcon"></div><div class="lm-CommandPalette-itemContent"><div class="lm-CommandPalette-itemLabel">Collapse All Code</div><div class="lm-CommandPalette-itemCaption"></div></div><div class="lm-CommandPalette-itemShortcut"></div></li><li role="menuitem" class="lm-CommandPalette-item" data-command="notebook:hide-all-cell-outputs"><div class="fvaq30 lm-CommandPalette-itemIcon"></div><div class="lm-CommandPalette-itemContent"><div class="lm-CommandPalette-itemLabel">Collapse All Outputs</div><div class="lm-CommandPalette-itemCaption"></div></div><div class="lm-CommandPalette-itemShortcut"></div></li><li role="menuitem" class="lm-CommandPalette-item" data-command="notebook:hide-cell-code"><div class="fvaq30 lm-CommandPalette-itemIcon"></div><div class="lm-CommandPalette-itemContent"><div class="lm-CommandPalette-itemLabel">Collapse Selected Code</div><div class="lm-CommandPalette-itemCaption"></div></div><div class="lm-CommandPalette-itemShortcut"></div></li><li role="menuitem" class="lm-CommandPalette-item" data-command="notebook:hide-cell-outputs"><div class="fvaq30 lm-CommandPalette-itemIcon"></div><div class="lm-CommandPalette-itemContent"><div class="lm-CommandPalette-itemLabel">Collapse Selected Outputs</div><div class="lm-CommandPalette-itemCaption"></div></div><div class="lm-CommandPalette-itemShortcut"></div></li><li role="menuitem" class="lm-CommandPalette-item" data-command="notebook:copy-cell"><div class="fvaq30 lm-CommandPalette-itemIcon"></div><div class="lm-CommandPalette-itemContent"><div class="lm-CommandPalette-itemLabel">Copy Cell</div><div class="lm-CommandPalette-itemCaption">Copy this cell</div></div><div class="lm-CommandPalette-itemShortcut">C</div></li><li role="menuitem" class="lm-CommandPalette-item" data-command="notebook:cut-cell"><div class="fvaq30 lm-CommandPalette-itemIcon"></div><div class="lm-CommandPalette-itemContent"><div class="lm-CommandPalette-itemLabel">Cut Cell</div><div class="lm-CommandPalette-itemCaption">Cut this cell</div></div><div class="lm-CommandPalette-itemShortcut">X</div></li><li role="menuitem" class="lm-CommandPalette-item" data-command="notebook:delete-cell"><div class="fvaq30 lm-CommandPalette-itemIcon"></div><div class="lm-CommandPalette-itemContent"><div class="lm-CommandPalette-itemLabel">Delete Cell</div><div class="lm-CommandPalette-itemCaption">Delete this cell</div></div><div class="lm-CommandPalette-itemShortcut">D, D</div></li><li role="menuitem" class="lm-CommandPalette-item" data-command="notebook:disable-output-scrolling"><div class="fvaq30 lm-CommandPalette-itemIcon"></div><div class="lm-CommandPalette-itemContent"><div class="lm-CommandPalette-itemLabel">Disable Scrolling for Outputs</div><div class="lm-CommandPalette-itemCaption"></div></div><div class="lm-CommandPalette-itemShortcut"></div></li><li role="menuitem" class="lm-CommandPalette-item" data-command="notebook:enable-output-scrolling"><div class="fvaq30 lm-CommandPalette-itemIcon"></div><div class="lm-CommandPalette-itemContent"><div class="lm-CommandPalette-itemLabel">Enable Scrolling for Outputs</div><div class="lm-CommandPalette-itemCaption"></div></div><div class="lm-CommandPalette-itemShortcut"></div></li><li role="menuitem" class="lm-CommandPalette-item" data-command="notebook:show-all-cell-code"><div class="fvaq30 lm-CommandPalette-itemIcon"></div><div class="lm-CommandPalette-itemContent"><div class="lm-CommandPalette-itemLabel">Expand All Code</div><div class="lm-CommandPalette-itemCaption"></div></div><div class="lm-CommandPalette-itemShortcut"></div></li><li role="menuitem" class="lm-CommandPalette-item" data-command="notebook:show-all-cell-outputs"><div class="fvaq30 lm-CommandPalette-itemIcon"></div><div class="lm-CommandPalette-itemContent"><div class="lm-CommandPalette-itemLabel">Expand All Outputs</div><div class="lm-CommandPalette-itemCaption"></div></div><div class="lm-CommandPalette-itemShortcut"></div></li><li role="menuitem" class="lm-CommandPalette-item" data-command="notebook:show-cell-code"><div class="fvaq30 lm-CommandPalette-itemIcon"></div><div class="lm-CommandPalette-itemContent"><div class="lm-CommandPalette-itemLabel">Expand Selected Code</div><div class="lm-CommandPalette-itemCaption"></div></div><div class="lm-CommandPalette-itemShortcut"></div></li><li role="menuitem" class="lm-CommandPalette-item" data-command="notebook:show-cell-outputs"><div class="fvaq30 lm-CommandPalette-itemIcon"></div><div class="lm-CommandPalette-itemContent"><div class="lm-CommandPalette-itemLabel">Expand Selected Outputs</div><div class="lm-CommandPalette-itemCaption"></div></div><div class="lm-CommandPalette-itemShortcut"></div></li><li role="menuitem" class="lm-CommandPalette-item" data-command="notebook:extend-marked-cells-above"><div class="fvaq30 lm-CommandPalette-itemIcon"></div><div class="lm-CommandPalette-itemContent"><div class="lm-CommandPalette-itemLabel">Extend Selection Above</div><div class="lm-CommandPalette-itemCaption"></div></div><div class="lm-CommandPalette-itemShortcut">Shift+K</div></li><li role="menuitem" class="lm-CommandPalette-item" data-command="notebook:extend-marked-cells-below"><div class="fvaq30 lm-CommandPalette-itemIcon"></div><div class="lm-CommandPalette-itemContent"><div class="lm-CommandPalette-itemLabel">Extend Selection Below</div><div class="lm-CommandPalette-itemCaption"></div></div><div class="lm-CommandPalette-itemShortcut">Shift+J</div></li><li role="menuitem" class="lm-CommandPalette-item" data-command="notebook:extend-marked-cells-bottom"><div class="fvaq30 lm-CommandPalette-itemIcon"></div><div class="lm-CommandPalette-itemContent"><div class="lm-CommandPalette-itemLabel">Extend Selection to Bottom</div><div class="lm-CommandPalette-itemCaption"></div></div><div class="lm-CommandPalette-itemShortcut">Shift+End</div></li><li role="menuitem" class="lm-CommandPalette-item" data-command="notebook:extend-marked-cells-top"><div class="fvaq30 lm-CommandPalette-itemIcon"></div><div class="lm-CommandPalette-itemContent"><div class="lm-CommandPalette-itemLabel">Extend Selection to Top</div><div class="lm-CommandPalette-itemCaption"></div></div><div class="lm-CommandPalette-itemShortcut">Shift+Home</div></li><li role="menuitem" class="lm-CommandPalette-item" data-command="notebook:insert-cell-above"><div class="fvaq30 lm-CommandPalette-itemIcon"></div><div class="lm-CommandPalette-itemContent"><div class="lm-CommandPalette-itemLabel">Insert Cell Above</div><div class="lm-CommandPalette-itemCaption">Insert a cell above</div></div><div class="lm-CommandPalette-itemShortcut">A</div></li><li role="menuitem" class="lm-CommandPalette-item" data-command="notebook:insert-cell-below"><div class="fvaq30 lm-CommandPalette-itemIcon"></div><div class="lm-CommandPalette-itemContent"><div class="lm-CommandPalette-itemLabel">Insert Cell Below</div><div class="lm-CommandPalette-itemCaption">Insert a cell below</div></div><div class="lm-CommandPalette-itemShortcut">B</div></li><li role="menuitem" class="lm-CommandPalette-item" data-command="notebook:insert-heading-above"><div class="fvaq30 lm-CommandPalette-itemIcon"></div><div class="lm-CommandPalette-itemContent"><div class="lm-CommandPalette-itemLabel">Insert Heading Above Current Heading</div><div class="lm-CommandPalette-itemCaption"></div></div><div class="lm-CommandPalette-itemShortcut">Shift+A</div></li><li role="menuitem" class="lm-CommandPalette-item" data-command="notebook:insert-heading-below"><div class="fvaq30 lm-CommandPalette-itemIcon"></div><div class="lm-CommandPalette-itemContent"><div class="lm-CommandPalette-itemLabel">Insert Heading Below Current Heading</div><div class="lm-CommandPalette-itemCaption"></div></div><div class="lm-CommandPalette-itemShortcut">Shift+B</div></li><li role="menuitem" class="lm-CommandPalette-item" data-command="notebook:merge-cell-above"><div class="fvaq30 lm-CommandPalette-itemIcon"></div><div class="lm-CommandPalette-itemContent"><div class="lm-CommandPalette-itemLabel">Merge Cell Above</div><div class="lm-CommandPalette-itemCaption"></div></div><div class="lm-CommandPalette-itemShortcut">Ctrl+Backspace</div></li><li role="menuitem" class="lm-CommandPalette-item" data-command="notebook:merge-cell-below"><div class="fvaq30 lm-CommandPalette-itemIcon"></div><div class="lm-CommandPalette-itemContent"><div class="lm-CommandPalette-itemLabel">Merge Cell Below</div><div class="lm-CommandPalette-itemCaption"></div></div><div class="lm-CommandPalette-itemShortcut">Ctrl+Shift+M</div></li><li role="menuitem" class="lm-CommandPalette-item" data-command="notebook:merge-cells"><div class="fvaq30 lm-CommandPalette-itemIcon"></div><div class="lm-CommandPalette-itemContent"><div class="lm-CommandPalette-itemLabel">Merge Selected Cells</div><div class="lm-CommandPalette-itemCaption"></div></div><div class="lm-CommandPalette-itemShortcut">Shift+M</div></li><li role="menuitem" class="lm-CommandPalette-item lm-mod-disabled" data-command="notebook:move-cell-down"><div class="fvaq30 lm-CommandPalette-itemIcon"></div><div class="lm-CommandPalette-itemContent"><div class="lm-CommandPalette-itemLabel">Move Cell Down</div><div class="lm-CommandPalette-itemCaption">Move this cell down</div></div><div class="lm-CommandPalette-itemShortcut">Ctrl+Shift+Down</div></li><li role="menuitem" class="lm-CommandPalette-item" data-command="notebook:move-cell-up"><div class="fvaq30 lm-CommandPalette-itemIcon"></div><div class="lm-CommandPalette-itemContent"><div class="lm-CommandPalette-itemLabel">Move Cell Up</div><div class="lm-CommandPalette-itemCaption">Move this cell up</div></div><div class="lm-CommandPalette-itemShortcut">Ctrl+Shift+Up</div></li><li role="menuitem" class="lm-CommandPalette-item" data-command="notebook:paste-cell-above"><div class="fvaq30 lm-CommandPalette-itemIcon"></div><div class="lm-CommandPalette-itemContent"><div class="lm-CommandPalette-itemLabel">Paste Cell Above</div><div class="lm-CommandPalette-itemCaption">Paste this cell from the clipboard</div></div><div class="lm-CommandPalette-itemShortcut"></div></li><li role="menuitem" class="lm-CommandPalette-item" data-command="notebook:paste-and-replace-cell"><div class="fvaq30 lm-CommandPalette-itemIcon"></div><div class="lm-CommandPalette-itemContent"><div class="lm-CommandPalette-itemLabel">Paste Cell and Replace</div><div class="lm-CommandPalette-itemCaption"></div></div><div class="lm-CommandPalette-itemShortcut"></div></li><li role="menuitem" class="lm-CommandPalette-item" data-command="notebook:paste-cell-below"><div class="fvaq30 lm-CommandPalette-itemIcon"></div><div class="lm-CommandPalette-itemContent"><div class="lm-CommandPalette-itemLabel">Paste Cell Below</div><div class="lm-CommandPalette-itemCaption">Paste this cell from the clipboard</div></div><div class="lm-CommandPalette-itemShortcut">V</div></li><li role="menuitem" class="lm-CommandPalette-item" data-command="notebook:redo-cell-action"><div class="fvaq30 lm-CommandPalette-itemIcon"></div><div class="lm-CommandPalette-itemContent"><div class="lm-CommandPalette-itemLabel">Redo Cell Operation</div><div class="lm-CommandPalette-itemCaption"></div></div><div class="lm-CommandPalette-itemShortcut">Shift+Z</div></li><li role="menuitemcheckbox" class="lm-CommandPalette-item" data-command="notebook:toggle-render-side-by-side-current" aria-checked="false"><div class="fvaq30 lm-CommandPalette-itemIcon"></div><div class="lm-CommandPalette-itemContent"><div class="lm-CommandPalette-itemLabel">Render Side-by-Side</div><div class="lm-CommandPalette-itemCaption"></div></div><div class="lm-CommandPalette-itemShortcut">Shift+R</div></li><li role="menuitem" class="lm-CommandPalette-item" data-command="notebook:run-cell-and-select-next"><div class="fvaq30 lm-CommandPalette-itemIcon"></div><div class="lm-CommandPalette-itemContent"><div class="lm-CommandPalette-itemLabel">Run Selected Cell</div><div class="lm-CommandPalette-itemCaption">Run this cell and advance</div></div><div class="lm-CommandPalette-itemShortcut">Shift+Enter</div></li><li role="menuitem" class="lm-CommandPalette-item" data-command="notebook:run-cell"><div class="fvaq30 lm-CommandPalette-itemIcon"></div><div class="lm-CommandPalette-itemContent"><div class="lm-CommandPalette-itemLabel">Run Selected Cell and Do not Advance</div><div class="lm-CommandPalette-itemCaption"></div></div><div class="lm-CommandPalette-itemShortcut">Ctrl+Enter</div></li><li role="menuitem" class="lm-CommandPalette-item" data-command="notebook:run-cell-and-insert-below"><div class="fvaq30 lm-CommandPalette-itemIcon"></div><div class="lm-CommandPalette-itemContent"><div class="lm-CommandPalette-itemLabel">Run Selected Cell and Insert Below</div><div class="lm-CommandPalette-itemCaption"></div></div><div class="lm-CommandPalette-itemShortcut">Alt+Enter</div></li><li role="menuitem" class="lm-CommandPalette-item" data-command="notebook:run-in-console"><div class="fvaq30 lm-CommandPalette-itemIcon"></div><div class="lm-CommandPalette-itemContent"><div class="lm-CommandPalette-itemLabel">Run Selected Text or Current Line in Console</div><div class="lm-CommandPalette-itemCaption"></div></div><div class="lm-CommandPalette-itemShortcut"></div></li><li role="menuitem" class="lm-CommandPalette-item" data-command="notebook:move-cursor-up"><div class="fvaq30 lm-CommandPalette-itemIcon"></div><div class="lm-CommandPalette-itemContent"><div class="lm-CommandPalette-itemLabel">Select Cell Above</div><div class="lm-CommandPalette-itemCaption"></div></div><div class="lm-CommandPalette-itemShortcut">K</div></li><li role="menuitem" class="lm-CommandPalette-item" data-command="notebook:move-cursor-down"><div class="fvaq30 lm-CommandPalette-itemIcon"></div><div class="lm-CommandPalette-itemContent"><div class="lm-CommandPalette-itemLabel">Select Cell Below</div><div class="lm-CommandPalette-itemCaption"></div></div><div class="lm-CommandPalette-itemShortcut">J</div></li><li role="menuitem" class="lm-CommandPalette-item" data-command="notebook:move-cursor-heading-above-or-collapse"><div class="fvaq30 lm-CommandPalette-itemIcon"></div><div class="lm-CommandPalette-itemContent"><div class="lm-CommandPalette-itemLabel">Select Heading Above or Collapse Heading</div><div class="lm-CommandPalette-itemCaption"></div></div><div class="lm-CommandPalette-itemShortcut">Left</div></li><li role="menuitem" class="lm-CommandPalette-item" data-command="notebook:move-cursor-heading-below-or-expand"><div class="fvaq30 lm-CommandPalette-itemIcon"></div><div class="lm-CommandPalette-itemContent"><div class="lm-CommandPalette-itemLabel">Select Heading Below or Expand Heading</div><div class="lm-CommandPalette-itemCaption"></div></div><div class="lm-CommandPalette-itemShortcut">Right</div></li><li role="menuitem" class="lm-CommandPalette-item" data-command="notebook:set-side-by-side-ratio"><div class="fvaq30 lm-CommandPalette-itemIcon"></div><div class="lm-CommandPalette-itemContent"><div class="lm-CommandPalette-itemLabel">Set side-by-side ratio</div><div class="lm-CommandPalette-itemCaption"></div></div><div class="lm-CommandPalette-itemShortcut"></div></li><li class="lm-CommandPalette-item" role="menuitem" data-command="notebook:split-cell-at-cursor"><div class="fvaq30 lm-CommandPalette-itemIcon"></div><div class="lm-CommandPalette-itemContent"><div class="lm-CommandPalette-itemLabel">Split Cell</div><div class="lm-CommandPalette-itemCaption"></div></div><div class="lm-CommandPalette-itemShortcut">Ctrl+Shift+-</div></li><li role="menuitem" class="lm-CommandPalette-item" data-command="notebook:undo-cell-action"><div class="fvaq30 lm-CommandPalette-itemIcon"></div><div class="lm-CommandPalette-itemContent"><div class="lm-CommandPalette-itemLabel">Undo Cell Operation</div><div class="lm-CommandPalette-itemCaption"></div></div><div class="lm-CommandPalette-itemShortcut">Z</div></li><li class="lm-CommandPalette-header jp-icon-hoverShow">Notebook Operations<span class="jp-icon-hoverShow-content f1qewoua"><svg xmlns="http://www.w3.org/2000/svg" width="16" viewBox="0 0 24 24" data-icon="ui-components:filter-list" data-icon-id="5c8d5feb-b33f-4ed6-939a-258a567f19ba"><g class="jp-icon3" fill="#616161"><path d="M10 18h4v-2h-4v2zM3 6v2h18V6H3zm3 7h12v-2H6v2z"></path></g></svg></span></li><li role="menuitem" class="lm-CommandPalette-item" data-command="notebook:change-kernel"><div class="fvaq30 lm-CommandPalette-itemIcon"></div><div class="lm-CommandPalette-itemContent"><div class="lm-CommandPalette-itemLabel">Change Kernel…</div><div class="lm-CommandPalette-itemCaption"></div></div><div class="lm-CommandPalette-itemShortcut"></div></li><li role="menuitem" class="lm-CommandPalette-item" data-command="notebook:clear-all-cell-outputs"><div class="fvaq30 lm-CommandPalette-itemIcon"></div><div class="lm-CommandPalette-itemContent"><div class="lm-CommandPalette-itemLabel">Clear Outputs of All Cells</div><div class="lm-CommandPalette-itemCaption">Clear all outputs of all cells</div></div><div class="lm-CommandPalette-itemShortcut"></div></li><li role="menuitem" class="lm-CommandPalette-item" data-command="notebook:close-and-shutdown"><div class="fvaq30 lm-CommandPalette-itemIcon"></div><div class="lm-CommandPalette-itemContent"><div class="lm-CommandPalette-itemLabel">Close and Shut Down Notebook</div><div class="lm-CommandPalette-itemCaption"></div></div><div class="lm-CommandPalette-itemShortcut"></div></li><li role="menuitem" class="lm-CommandPalette-item" data-command="notebook:collapse-all-headings"><div class="fvaq30 lm-CommandPalette-itemIcon"></div><div class="lm-CommandPalette-itemContent"><div class="lm-CommandPalette-itemLabel">Collapse All Headings</div><div class="lm-CommandPalette-itemCaption"></div></div><div class="lm-CommandPalette-itemShortcut">Ctrl+Shift+Left</div></li><li role="menuitem" class="lm-CommandPalette-item" data-command="notebook:deselect-all"><div class="fvaq30 lm-CommandPalette-itemIcon"></div><div class="lm-CommandPalette-itemContent"><div class="lm-CommandPalette-itemLabel">Deselect All Cells</div><div class="lm-CommandPalette-itemCaption"></div></div><div class="lm-CommandPalette-itemShortcut"></div></li><li role="menuitem" class="lm-CommandPalette-item" data-command="notebook:enter-command-mode"><div class="fvaq30 lm-CommandPalette-itemIcon"></div><div class="lm-CommandPalette-itemContent"><div class="lm-CommandPalette-itemLabel">Enter Command Mode</div><div class="lm-CommandPalette-itemCaption"></div></div><div class="lm-CommandPalette-itemShortcut">Ctrl+M</div></li><li role="menuitem" class="lm-CommandPalette-item" data-command="notebook:enter-edit-mode"><div class="fvaq30 lm-CommandPalette-itemIcon"></div><div class="lm-CommandPalette-itemContent"><div class="lm-CommandPalette-itemLabel">Enter Edit Mode</div><div class="lm-CommandPalette-itemCaption"></div></div><div class="lm-CommandPalette-itemShortcut">Enter</div></li><li role="menuitem" class="lm-CommandPalette-item" data-command="notebook:expand-all-headings"><div class="fvaq30 lm-CommandPalette-itemIcon"></div><div class="lm-CommandPalette-itemContent"><div class="lm-CommandPalette-itemLabel">Expand All Headings</div><div class="lm-CommandPalette-itemCaption"></div></div><div class="lm-CommandPalette-itemShortcut">Ctrl+Shift+Right</div></li><li role="menuitem" class="lm-CommandPalette-item" data-command="notebook:interrupt-kernel"><div class="fvaq30 lm-CommandPalette-itemIcon"></div><div class="lm-CommandPalette-itemContent"><div class="lm-CommandPalette-itemLabel">Interrupt Kernel</div><div class="lm-CommandPalette-itemCaption">Interrupt the kernel</div></div><div class="lm-CommandPalette-itemShortcut"></div></li><li role="menuitem" class="lm-CommandPalette-item" data-command="notebook:create-console"><div class="fvaq30 lm-CommandPalette-itemIcon"></div><div class="lm-CommandPalette-itemContent"><div class="lm-CommandPalette-itemLabel">New Console for Notebook</div><div class="lm-CommandPalette-itemCaption"></div></div><div class="lm-CommandPalette-itemShortcut"></div></li><li role="menuitem" class="lm-CommandPalette-item" data-command="notebook:create-new"><div class="fvaq30 lm-CommandPalette-itemIcon"></div><div class="lm-CommandPalette-itemContent"><div class="lm-CommandPalette-itemLabel">New Notebook</div><div class="lm-CommandPalette-itemCaption">Create a new notebook</div></div><div class="lm-CommandPalette-itemShortcut"></div></li><li role="menuitem" class="lm-CommandPalette-item" data-command="notebook:open-with-panel"><div class="fvaq30 lm-CommandPalette-itemIcon"></div><div class="lm-CommandPalette-itemContent"><div class="lm-CommandPalette-itemLabel">Open with Panel in New Browser Tab</div><div class="lm-CommandPalette-itemCaption"></div></div><div class="lm-CommandPalette-itemShortcut"></div></li><li role="menuitem" class="lm-CommandPalette-item" data-command="notebook:render-with-panel"><div class="fvaq30 lm-CommandPalette-itemIcon"></div><div class="lm-CommandPalette-itemContent"><div class="lm-CommandPalette-itemLabel">Preview Notebook with Panel</div><div class="lm-CommandPalette-itemCaption"></div></div><div class="lm-CommandPalette-itemShortcut"></div></li><li role="menuitem" class="lm-CommandPalette-item" data-command="notebook:reconnect-to-kernel"><div class="fvaq30 lm-CommandPalette-itemIcon"></div><div class="lm-CommandPalette-itemContent"><div class="lm-CommandPalette-itemLabel">Reconnect to Kernel</div><div class="lm-CommandPalette-itemCaption"></div></div><div class="lm-CommandPalette-itemShortcut"></div></li><li role="menuitem" class="lm-CommandPalette-item" data-command="notebook:render-all-markdown"><div class="fvaq30 lm-CommandPalette-itemIcon"></div><div class="lm-CommandPalette-itemContent"><div class="lm-CommandPalette-itemLabel">Render All Markdown Cells</div><div class="lm-CommandPalette-itemCaption"></div></div><div class="lm-CommandPalette-itemShortcut"></div></li><li role="menuitem" class="lm-CommandPalette-item" data-command="notebook:restart-clear-output"><div class="fvaq30 lm-CommandPalette-itemIcon"></div><div class="lm-CommandPalette-itemContent"><div class="lm-CommandPalette-itemLabel">Restart Kernel and Clear Outputs of All Cells…</div><div class="lm-CommandPalette-itemCaption">Restart the kernel and clear all outputs of all cells</div></div><div class="lm-CommandPalette-itemShortcut"></div></li><li role="menuitem" class="lm-CommandPalette-item lm-mod-disabled" data-command="debugger:restart-debug"><div class="fvaq30 lm-CommandPalette-itemIcon"></div><div class="lm-CommandPalette-itemContent"><div class="lm-CommandPalette-itemLabel">Restart Kernel and Debug…</div><div class="lm-CommandPalette-itemCaption">Restart Kernel and Debug…</div></div><div class="lm-CommandPalette-itemShortcut"></div></li><li role="menuitem" class="lm-CommandPalette-item" data-command="notebook:restart-run-all"><div class="fvaq30 lm-CommandPalette-itemIcon"></div><div class="lm-CommandPalette-itemContent"><div class="lm-CommandPalette-itemLabel">Restart Kernel and Run All Cells…</div><div class="lm-CommandPalette-itemCaption">Restart the kernel and run all cells</div></div><div class="lm-CommandPalette-itemShortcut"></div></li><li role="menuitem" class="lm-CommandPalette-item" data-command="notebook:restart-and-run-to-selected"><div class="fvaq30 lm-CommandPalette-itemIcon"></div><div class="lm-CommandPalette-itemContent"><div class="lm-CommandPalette-itemLabel">Restart Kernel and Run up to Selected Cell…</div><div class="lm-CommandPalette-itemCaption"></div></div><div class="lm-CommandPalette-itemShortcut"></div></li><li role="menuitem" class="lm-CommandPalette-item" data-command="notebook:restart-kernel"><div class="fvaq30 lm-CommandPalette-itemIcon"></div><div class="lm-CommandPalette-itemContent"><div class="lm-CommandPalette-itemLabel">Restart Kernel…</div><div class="lm-CommandPalette-itemCaption">Restart the kernel</div></div><div class="lm-CommandPalette-itemShortcut"></div></li><li role="menuitem" class="lm-CommandPalette-item" data-command="notebook:run-all-above"><div class="fvaq30 lm-CommandPalette-itemIcon"></div><div class="lm-CommandPalette-itemContent"><div class="lm-CommandPalette-itemLabel">Run All Above Selected Cell</div><div class="lm-CommandPalette-itemCaption"></div></div><div class="lm-CommandPalette-itemShortcut"></div></li><li role="menuitem" class="lm-CommandPalette-item" data-command="notebook:run-all-cells"><div class="fvaq30 lm-CommandPalette-itemIcon"></div><div class="lm-CommandPalette-itemContent"><div class="lm-CommandPalette-itemLabel">Run All Cells</div><div class="lm-CommandPalette-itemCaption">Run all cells</div></div><div class="lm-CommandPalette-itemShortcut"></div></li><li role="menuitem" class="lm-CommandPalette-item lm-mod-disabled" data-command="notebook:run-all-below"><div class="fvaq30 lm-CommandPalette-itemIcon"></div><div class="lm-CommandPalette-itemContent"><div class="lm-CommandPalette-itemLabel">Run Selected Cell and All Below</div><div class="lm-CommandPalette-itemCaption"></div></div><div class="lm-CommandPalette-itemShortcut"></div></li><li role="menuitem" class="lm-CommandPalette-item" data-command="notebook:export-to-format"><div class="fvaq30 lm-CommandPalette-itemIcon"></div><div class="lm-CommandPalette-itemContent"><div class="lm-CommandPalette-itemLabel">Save and Export Notebook: Asciidoc</div><div class="lm-CommandPalette-itemCaption"></div></div><div class="lm-CommandPalette-itemShortcut"></div></li><li role="menuitem" class="lm-CommandPalette-item" data-command="notebook:export-to-format"><div class="fvaq30 lm-CommandPalette-itemIcon"></div><div class="lm-CommandPalette-itemContent"><div class="lm-CommandPalette-itemLabel">Save and Export Notebook: Executable Script</div><div class="lm-CommandPalette-itemCaption"></div></div><div class="lm-CommandPalette-itemShortcut"></div></li><li class="lm-CommandPalette-item" role="menuitem" data-command="notebook:export-to-format"><div class="fvaq30 lm-CommandPalette-itemIcon"></div><div class="lm-CommandPalette-itemContent"><div class="lm-CommandPalette-itemLabel">Save and Export Notebook: HTML</div><div class="lm-CommandPalette-itemCaption"></div></div><div class="lm-CommandPalette-itemShortcut"></div></li><li role="menuitem" class="lm-CommandPalette-item" data-command="notebook:export-to-format"><div class="fvaq30 lm-CommandPalette-itemIcon"></div><div class="lm-CommandPalette-itemContent"><div class="lm-CommandPalette-itemLabel">Save and Export Notebook: LaTeX</div><div class="lm-CommandPalette-itemCaption"></div></div><div class="lm-CommandPalette-itemShortcut"></div></li><li class="lm-CommandPalette-item" role="menuitem" data-command="notebook:export-to-format"><div class="fvaq30 lm-CommandPalette-itemIcon"></div><div class="lm-CommandPalette-itemContent"><div class="lm-CommandPalette-itemLabel">Save and Export Notebook: Markdown</div><div class="lm-CommandPalette-itemCaption"></div></div><div class="lm-CommandPalette-itemShortcut"></div></li><li role="menuitem" class="lm-CommandPalette-item" data-command="notebook:export-to-format"><div class="fvaq30 lm-CommandPalette-itemIcon"></div><div class="lm-CommandPalette-itemContent"><div class="lm-CommandPalette-itemLabel">Save and Export Notebook: PDF</div><div class="lm-CommandPalette-itemCaption"></div></div><div class="lm-CommandPalette-itemShortcut"></div></li><li class="lm-CommandPalette-item" role="menuitem" data-command="notebook:export-to-format"><div class="fvaq30 lm-CommandPalette-itemIcon"></div><div class="lm-CommandPalette-itemContent"><div class="lm-CommandPalette-itemLabel">Save and Export Notebook: Qtpdf</div><div class="lm-CommandPalette-itemCaption"></div></div><div class="lm-CommandPalette-itemShortcut"></div></li><li role="menuitem" class="lm-CommandPalette-item" data-command="notebook:export-to-format"><div class="fvaq30 lm-CommandPalette-itemIcon"></div><div class="lm-CommandPalette-itemContent"><div class="lm-CommandPalette-itemLabel">Save and Export Notebook: Qtpng</div><div class="lm-CommandPalette-itemCaption"></div></div><div class="lm-CommandPalette-itemShortcut"></div></li><li role="menuitem" class="lm-CommandPalette-item" data-command="notebook:export-to-format"><div class="fvaq30 lm-CommandPalette-itemIcon"></div><div class="lm-CommandPalette-itemContent"><div class="lm-CommandPalette-itemLabel">Save and Export Notebook: ReStructured Text</div><div class="lm-CommandPalette-itemCaption"></div></div><div class="lm-CommandPalette-itemShortcut"></div></li><li role="menuitem" class="lm-CommandPalette-item" data-command="notebook:export-to-format"><div class="fvaq30 lm-CommandPalette-itemIcon"></div><div class="lm-CommandPalette-itemContent"><div class="lm-CommandPalette-itemLabel">Save and Export Notebook: Reveal.js Slides</div><div class="lm-CommandPalette-itemCaption"></div></div><div class="lm-CommandPalette-itemShortcut"></div></li><li role="menuitem" class="lm-CommandPalette-item" data-command="notebook:export-to-format"><div class="fvaq30 lm-CommandPalette-itemIcon"></div><div class="lm-CommandPalette-itemContent"><div class="lm-CommandPalette-itemLabel">Save and Export Notebook: Webpdf</div><div class="lm-CommandPalette-itemCaption"></div></div><div class="lm-CommandPalette-itemShortcut"></div></li><li role="menuitem" class="lm-CommandPalette-item" data-command="notebook:select-all"><div class="fvaq30 lm-CommandPalette-itemIcon"></div><div class="lm-CommandPalette-itemContent"><div class="lm-CommandPalette-itemLabel">Select All Cells</div><div class="lm-CommandPalette-itemCaption"></div></div><div class="lm-CommandPalette-itemShortcut">Ctrl+A</div></li><li class="lm-CommandPalette-item" role="menuitemcheckbox" aria-checked="false" data-command="notebook:toggle-all-cell-line-numbers"><div class="fvaq30 lm-CommandPalette-itemIcon"></div><div class="lm-CommandPalette-itemContent"><div class="lm-CommandPalette-itemLabel">Show Line Numbers</div><div class="lm-CommandPalette-itemCaption"></div></div><div class="lm-CommandPalette-itemShortcut"></div></li><li role="menuitem" class="lm-CommandPalette-item lm-mod-disabled" data-command="notebook:toggle-heading-collapse"><div class="fvaq30 lm-CommandPalette-itemIcon"></div><div class="lm-CommandPalette-itemContent"><div class="lm-CommandPalette-itemLabel">Toggle Collapse Notebook Heading</div><div class="lm-CommandPalette-itemCaption"></div></div><div class="lm-CommandPalette-itemShortcut"></div></li><li class="lm-CommandPalette-item" role="menuitem" data-command="notebook:trust"><div class="fvaq30 lm-CommandPalette-itemIcon"></div><div class="lm-CommandPalette-itemContent"><div class="lm-CommandPalette-itemLabel">Trust Notebook</div><div class="lm-CommandPalette-itemCaption"></div></div><div class="lm-CommandPalette-itemShortcut"></div></li><li class="lm-CommandPalette-header jp-icon-hoverShow">Other<span class="jp-icon-hoverShow-content f1qewoua"><svg xmlns="http://www.w3.org/2000/svg" width="16" viewBox="0 0 24 24" data-icon="ui-components:filter-list" data-icon-id="5c8d5feb-b33f-4ed6-939a-258a567f19ba"><g class="jp-icon3" fill="#616161"><path d="M10 18h4v-2h-4v2zM3 6v2h18V6H3zm3 7h12v-2H6v2z"></path></g></svg></span></li><li role="menuitem" class="lm-CommandPalette-item" data-command="jupyter-notebook:open-lab"><div class="fvaq30 lm-CommandPalette-itemIcon"></div><div class="lm-CommandPalette-itemContent"><div class="lm-CommandPalette-itemLabel">Open in JupyterLab</div><div class="lm-CommandPalette-itemCaption">JupyterLab</div></div><div class="lm-CommandPalette-itemShortcut"></div></li><li class="lm-CommandPalette-header jp-icon-hoverShow">Terminal<span class="jp-icon-hoverShow-content f1qewoua"><svg xmlns="http://www.w3.org/2000/svg" width="16" viewBox="0 0 24 24" data-icon="ui-components:filter-list" data-icon-id="5c8d5feb-b33f-4ed6-939a-258a567f19ba"><g class="jp-icon3" fill="#616161"><path d="M10 18h4v-2h-4v2zM3 6v2h18V6H3zm3 7h12v-2H6v2z"></path></g></svg></span></li><li role="menuitem" class="lm-CommandPalette-item" data-command="terminal:decrease-font"><div class="fvaq30 lm-CommandPalette-itemIcon"></div><div class="lm-CommandPalette-itemContent"><div class="lm-CommandPalette-itemLabel">Decrease Terminal Font Size</div><div class="lm-CommandPalette-itemCaption"></div></div><div class="lm-CommandPalette-itemShortcut"></div></li><li role="menuitem" class="lm-CommandPalette-item" data-command="terminal:increase-font"><div class="fvaq30 lm-CommandPalette-itemIcon"></div><div class="lm-CommandPalette-itemContent"><div class="lm-CommandPalette-itemLabel">Increase Terminal Font Size</div><div class="lm-CommandPalette-itemCaption"></div></div><div class="lm-CommandPalette-itemShortcut"></div></li><li role="menuitem" class="lm-CommandPalette-item" data-command="terminal:create-new"><div class="fvaq30 lm-CommandPalette-itemIcon"></div><div class="lm-CommandPalette-itemContent"><div class="lm-CommandPalette-itemLabel">New Terminal</div><div class="lm-CommandPalette-itemCaption">Start a new terminal session</div></div><div class="lm-CommandPalette-itemShortcut"></div></li><li role="menuitem" class="lm-CommandPalette-item lm-mod-disabled" data-command="terminal:refresh"><div class="fvaq30 lm-CommandPalette-itemIcon"></div><div class="lm-CommandPalette-itemContent"><div class="lm-CommandPalette-itemLabel">Refresh Terminal</div><div class="lm-CommandPalette-itemCaption">Refresh the current terminal session</div></div><div class="lm-CommandPalette-itemShortcut"></div></li><li role="menuitemcheckbox" aria-checked="true" class="lm-CommandPalette-item lm-mod-toggled" data-command="terminal:set-theme"><div class="fvaq30 lm-CommandPalette-itemIcon"><svg xmlns="http://www.w3.org/2000/svg" width="16" viewBox="0 0 24 24" data-icon="ui-components:check" data-icon-id="187cd3bd-1c2d-4aef-9fac-0b82a5b8b499"><g class="jp-icon3 jp-icon-selectable" fill="#616161"><path d="M9 16.17L4.83 12l-1.42 1.41L9 19 21 7l-1.41-1.41z"></path></g></svg></div><div class="lm-CommandPalette-itemContent"><div class="lm-CommandPalette-itemLabel">Use Terminal Theme: Dark</div><div class="lm-CommandPalette-itemCaption">Set the terminal theme</div></div><div class="lm-CommandPalette-itemShortcut"></div></li><li class="lm-CommandPalette-item" role="menuitemcheckbox" aria-checked="false" data-command="terminal:set-theme"><div class="fvaq30 lm-CommandPalette-itemIcon"></div><div class="lm-CommandPalette-itemContent"><div class="lm-CommandPalette-itemLabel">Use Terminal Theme: Inherit</div><div class="lm-CommandPalette-itemCaption">Set the terminal theme</div></div><div class="lm-CommandPalette-itemShortcut"></div></li><li role="menuitemcheckbox" class="lm-CommandPalette-item" data-command="terminal:set-theme" aria-checked="false"><div class="fvaq30 lm-CommandPalette-itemIcon"></div><div class="lm-CommandPalette-itemContent"><div class="lm-CommandPalette-itemLabel">Use Terminal Theme: Light</div><div class="lm-CommandPalette-itemCaption">Set the terminal theme</div></div><div class="lm-CommandPalette-itemShortcut"></div></li><li class="lm-CommandPalette-header jp-icon-hoverShow">Text Editor<span class="jp-icon-hoverShow-content f1qewoua"><svg xmlns="http://www.w3.org/2000/svg" width="16" viewBox="0 0 24 24" data-icon="ui-components:filter-list" data-icon-id="5c8d5feb-b33f-4ed6-939a-258a567f19ba"><g class="jp-icon3" fill="#616161"><path d="M10 18h4v-2h-4v2zM3 6v2h18V6H3zm3 7h12v-2H6v2z"></path></g></svg></span></li><li role="menuitem" class="lm-CommandPalette-item" data-command="fileeditor:change-font-size"><div class="fvaq30 lm-CommandPalette-itemIcon"></div><div class="lm-CommandPalette-itemContent"><div class="lm-CommandPalette-itemLabel">Decrease Font Size</div><div class="lm-CommandPalette-itemCaption"></div></div><div class="lm-CommandPalette-itemShortcut"></div></li><li role="menuitem" class="lm-CommandPalette-item" data-command="fileeditor:change-font-size"><div class="fvaq30 lm-CommandPalette-itemIcon"></div><div class="lm-CommandPalette-itemContent"><div class="lm-CommandPalette-itemLabel">Increase Font Size</div><div class="lm-CommandPalette-itemCaption"></div></div><div class="lm-CommandPalette-itemShortcut"></div></li><li role="menuitem" class="lm-CommandPalette-item" data-command="fileeditor:create-new-markdown-file"><div class="fvaq30 lm-CommandPalette-itemIcon"></div><div class="lm-CommandPalette-itemContent"><div class="lm-CommandPalette-itemLabel">New Markdown File</div><div class="lm-CommandPalette-itemCaption">Create a new markdown file</div></div><div class="lm-CommandPalette-itemShortcut"></div></li><li role="menuitem" class="lm-CommandPalette-item" data-command="fileeditor:create-new"><div class="fvaq30 lm-CommandPalette-itemIcon"></div><div class="lm-CommandPalette-itemContent"><div class="lm-CommandPalette-itemLabel">New Python File</div><div class="lm-CommandPalette-itemCaption">Create a new Python file</div></div><div class="lm-CommandPalette-itemShortcut"></div></li><li role="menuitem" class="lm-CommandPalette-item" data-command="fileeditor:create-new"><div class="fvaq30 lm-CommandPalette-itemIcon"></div><div class="lm-CommandPalette-itemContent"><div class="lm-CommandPalette-itemLabel">New Text File</div><div class="lm-CommandPalette-itemCaption">Create a new text file</div></div><div class="lm-CommandPalette-itemShortcut"></div></li><li role="menuitemcheckbox" class="lm-CommandPalette-item" data-command="fileeditor:change-tabs" aria-checked="false"><div class="fvaq30 lm-CommandPalette-itemIcon"></div><div class="lm-CommandPalette-itemContent"><div class="lm-CommandPalette-itemLabel">Spaces: 1</div><div class="lm-CommandPalette-itemCaption"></div></div><div class="lm-CommandPalette-itemShortcut"></div></li><li role="menuitemcheckbox" aria-checked="false" class="lm-CommandPalette-item" data-command="fileeditor:change-tabs"><div class="fvaq30 lm-CommandPalette-itemIcon"></div><div class="lm-CommandPalette-itemContent"><div class="lm-CommandPalette-itemLabel">Spaces: 2</div><div class="lm-CommandPalette-itemCaption"></div></div><div class="lm-CommandPalette-itemShortcut"></div></li><li class="lm-CommandPalette-item" role="menuitemcheckbox" aria-checked="false" data-command="fileeditor:change-tabs"><div class="fvaq30 lm-CommandPalette-itemIcon"></div><div class="lm-CommandPalette-itemContent"><div class="lm-CommandPalette-itemLabel">Spaces: 4</div><div class="lm-CommandPalette-itemCaption"></div></div><div class="lm-CommandPalette-itemShortcut"></div></li><li role="menuitemcheckbox" class="lm-CommandPalette-item" data-command="fileeditor:change-tabs" aria-checked="false"><div class="fvaq30 lm-CommandPalette-itemIcon"></div><div class="lm-CommandPalette-itemContent"><div class="lm-CommandPalette-itemLabel">Spaces: 4</div><div class="lm-CommandPalette-itemCaption"></div></div><div class="lm-CommandPalette-itemShortcut"></div></li><li class="lm-CommandPalette-item" role="menuitemcheckbox" aria-checked="false" data-command="fileeditor:change-tabs"><div class="fvaq30 lm-CommandPalette-itemIcon"></div><div class="lm-CommandPalette-itemContent"><div class="lm-CommandPalette-itemLabel">Spaces: 8</div><div class="lm-CommandPalette-itemCaption"></div></div><div class="lm-CommandPalette-itemShortcut"></div></li><li class="lm-CommandPalette-header jp-icon-hoverShow">Theme<span class="jp-icon-hoverShow-content f1qewoua"><svg xmlns="http://www.w3.org/2000/svg" width="16" viewBox="0 0 24 24" data-icon="ui-components:filter-list" data-icon-id="5c8d5feb-b33f-4ed6-939a-258a567f19ba"><g class="jp-icon3" fill="#616161"><path d="M10 18h4v-2h-4v2zM3 6v2h18V6H3zm3 7h12v-2H6v2z"></path></g></svg></span></li><li role="menuitem" class="lm-CommandPalette-item" data-command="apputils:decr-font-size"><div class="fvaq30 lm-CommandPalette-itemIcon"></div><div class="lm-CommandPalette-itemContent"><div class="lm-CommandPalette-itemLabel">Decrease Code Font Size</div><div class="lm-CommandPalette-itemCaption"></div></div><div class="lm-CommandPalette-itemShortcut"></div></li><li role="menuitem" class="lm-CommandPalette-item" data-command="apputils:decr-font-size"><div class="fvaq30 lm-CommandPalette-itemIcon"></div><div class="lm-CommandPalette-itemContent"><div class="lm-CommandPalette-itemLabel">Decrease Content Font Size</div><div class="lm-CommandPalette-itemCaption"></div></div><div class="lm-CommandPalette-itemShortcut"></div></li><li role="menuitem" class="lm-CommandPalette-item" data-command="apputils:decr-font-size"><div class="fvaq30 lm-CommandPalette-itemIcon"></div><div class="lm-CommandPalette-itemContent"><div class="lm-CommandPalette-itemLabel">Decrease UI Font Size</div><div class="lm-CommandPalette-itemCaption"></div></div><div class="lm-CommandPalette-itemShortcut"></div></li><li role="menuitem" class="lm-CommandPalette-item" data-command="apputils:incr-font-size"><div class="fvaq30 lm-CommandPalette-itemIcon"></div><div class="lm-CommandPalette-itemContent"><div class="lm-CommandPalette-itemLabel">Increase Code Font Size</div><div class="lm-CommandPalette-itemCaption"></div></div><div class="lm-CommandPalette-itemShortcut"></div></li><li role="menuitem" class="lm-CommandPalette-item" data-command="apputils:incr-font-size"><div class="fvaq30 lm-CommandPalette-itemIcon"></div><div class="lm-CommandPalette-itemContent"><div class="lm-CommandPalette-itemLabel">Increase Content Font Size</div><div class="lm-CommandPalette-itemCaption"></div></div><div class="lm-CommandPalette-itemShortcut"></div></li><li role="menuitem" class="lm-CommandPalette-item" data-command="apputils:incr-font-size"><div class="fvaq30 lm-CommandPalette-itemIcon"></div><div class="lm-CommandPalette-itemContent"><div class="lm-CommandPalette-itemLabel">Increase UI Font Size</div><div class="lm-CommandPalette-itemCaption"></div></div><div class="lm-CommandPalette-itemShortcut"></div></li><li role="menuitemcheckbox" aria-checked="false" class="lm-CommandPalette-item" data-command="apputils:theme-scrollbars"><div class="fvaq30 lm-CommandPalette-itemIcon"></div><div class="lm-CommandPalette-itemContent"><div class="lm-CommandPalette-itemLabel">Theme Scrollbars</div><div class="lm-CommandPalette-itemCaption"></div></div><div class="lm-CommandPalette-itemShortcut"></div></li><li role="menuitemcheckbox" aria-checked="false" class="lm-CommandPalette-item" data-command="apputils:change-theme"><div class="fvaq30 lm-CommandPalette-itemIcon"></div><div class="lm-CommandPalette-itemContent"><div class="lm-CommandPalette-itemLabel">Use Theme: JupyterLab Dark</div><div class="lm-CommandPalette-itemCaption"></div></div><div class="lm-CommandPalette-itemShortcut"></div></li><li role="menuitemcheckbox" aria-checked="true" class="lm-CommandPalette-item lm-mod-toggled" data-command="apputils:change-theme"><div class="fvaq30 lm-CommandPalette-itemIcon"><svg xmlns="http://www.w3.org/2000/svg" width="16" viewBox="0 0 24 24" data-icon="ui-components:check" data-icon-id="187cd3bd-1c2d-4aef-9fac-0b82a5b8b499"><g class="jp-icon3 jp-icon-selectable" fill="#616161"><path d="M9 16.17L4.83 12l-1.42 1.41L9 19 21 7l-1.41-1.41z"></path></g></svg></div><div class="lm-CommandPalette-itemContent"><div class="lm-CommandPalette-itemLabel">Use Theme: JupyterLab Light</div><div class="lm-CommandPalette-itemCaption"></div></div><div class="lm-CommandPalette-itemShortcut"></div></li><li class="lm-CommandPalette-header jp-icon-hoverShow">View<span class="jp-icon-hoverShow-content f1qewoua"><svg xmlns="http://www.w3.org/2000/svg" width="16" viewBox="0 0 24 24" data-icon="ui-components:filter-list" data-icon-id="5c8d5feb-b33f-4ed6-939a-258a567f19ba"><g class="jp-icon3" fill="#616161"><path d="M10 18h4v-2h-4v2zM3 6v2h18V6H3zm3 7h12v-2H6v2z"></path></g></svg></span></li><li role="menuitem" class="lm-CommandPalette-item" data-command="application:open-tree"><div class="fvaq30 lm-CommandPalette-itemIcon"></div><div class="lm-CommandPalette-itemContent"><div class="lm-CommandPalette-itemLabel">File Browser</div><div class="lm-CommandPalette-itemCaption"></div></div><div class="lm-CommandPalette-itemShortcut"></div></li><li role="menuitem" class="lm-CommandPalette-item" data-command="application:open-lab"><div class="fvaq30 lm-CommandPalette-itemIcon"></div><div class="lm-CommandPalette-itemContent"><div class="lm-CommandPalette-itemLabel">Open JupyterLab</div><div class="lm-CommandPalette-itemCaption"></div></div><div class="lm-CommandPalette-itemShortcut"></div></li><li role="menuitemcheckbox" aria-checked="true" class="lm-CommandPalette-item lm-mod-toggled" data-command="application:toggle-top"><div class="fvaq30 lm-CommandPalette-itemIcon"><svg xmlns="http://www.w3.org/2000/svg" width="16" viewBox="0 0 24 24" data-icon="ui-components:check" data-icon-id="187cd3bd-1c2d-4aef-9fac-0b82a5b8b499"><g class="jp-icon3 jp-icon-selectable" fill="#616161"><path d="M9 16.17L4.83 12l-1.42 1.41L9 19 21 7l-1.41-1.41z"></path></g></svg></div><div class="lm-CommandPalette-itemContent"><div class="lm-CommandPalette-itemLabel">Show Header</div><div class="lm-CommandPalette-itemCaption"></div></div><div class="lm-CommandPalette-itemShortcut"></div></li><li role="menuitemcheckbox" aria-checked="false" class="lm-CommandPalette-item" data-command="application:toggle-panel"><div class="fvaq30 lm-CommandPalette-itemIcon"></div><div class="lm-CommandPalette-itemContent"><div class="lm-CommandPalette-itemLabel">Show Notebook Tools</div><div class="lm-CommandPalette-itemCaption">Show Show Notebook Tools in the right sidebar</div></div><div class="lm-CommandPalette-itemShortcut"></div></li><li role="menuitemcheckbox" aria-checked="false" class="lm-CommandPalette-item" data-command="application:toggle-panel"><div class="fvaq30 lm-CommandPalette-itemIcon"></div><div class="lm-CommandPalette-itemContent"><div class="lm-CommandPalette-itemLabel">Show Table of Contents</div><div class="lm-CommandPalette-itemCaption">Show Show Table of Contents in the left sidebar</div></div><div class="lm-CommandPalette-itemShortcut"></div></li></ul></div></div><link rel="stylesheet" type="text/css" href="./minor project_files/index.css"></body></html>